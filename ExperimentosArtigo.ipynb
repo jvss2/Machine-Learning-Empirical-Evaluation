{
 "cells": [
  {
   "cell_type": "markdown",
   "metadata": {},
   "source": [
    "### Libs"
   ]
  },
  {
   "cell_type": "code",
   "execution_count": null,
   "metadata": {},
   "outputs": [],
   "source": [
    "import numpy as np\n",
    "import matplotlib.pyplot as plt\n",
    "import joblib\n",
    "from sklearn.ensemble import RandomForestClassifier\n",
    "from imblearn.over_sampling import SMOTE\n",
    "from sklearn.model_selection import train_test_split, KFold\n",
    "import sys\n",
    "import os\n",
    "from os import listdir\n",
    "from os.path import isfile, join\n",
    "import pandas as pd\n",
    "from sklearn.tree import DecisionTreeClassifier\n",
    "from sklearn.metrics import accuracy_score\n",
    "from sklearn.naive_bayes import BernoulliNB, GaussianNB\n",
    "from sklearn.neural_network import MLPClassifier\n",
    "from sklearn.svm import SVC\n",
    "from sklearn.neighbors import KNeighborsClassifier\n",
    "from sklearn.ensemble import BaggingClassifier\n",
    "from sklearn.datasets import make_classification\n",
    "from sklearn.metrics import accuracy_score, precision_score, recall_score, f1_score, confusion_matrix, roc_auc_score\n",
    "from sklearn.tree import DecisionTreeClassifier\n",
    "from sklearn.ensemble import BaggingClassifier\n",
    "from sklearn.metrics import accuracy_score, precision_score, recall_score, f1_score, roc_auc_score, confusion_matrix\n",
    "from tabulate import tabulate\n",
    "from tqdm import tqdm\n",
    "from sklearn.ensemble import RandomForestClassifier\n",
    "from sklearn.metrics import accuracy_score, classification_report, confusion_matrix\n",
    "import matplotlib.pyplot as plt\n",
    "import seaborn as sns\n",
    "from sklearn.ensemble import GradientBoostingClassifier\n",
    "from sklearn.ensemble import RandomForestClassifier\n",
    "from deslib.dcs import OLA\n",
    "# from deslib.dcs import KNORA_U, KNORA_E\n",
    "from deslib.des import  KNOP, METADES\n",
    "from deslib.static import SingleBest, StackedClassifier\n",
    "from deslib.static import StaticSelection\n",
    "from imblearn.metrics import geometric_mean_score"
   ]
  },
  {
   "cell_type": "markdown",
   "metadata": {},
   "source": [
    "### Feature extrection"
   ]
  },
  {
   "cell_type": "code",
   "execution_count": null,
   "metadata": {},
   "outputs": [],
   "source": [
    "FEATURES_SET = {\n",
    "    \"feature\": 1,\n",
    "    \"permission\": 2,\n",
    "    \"activity\": 3,\n",
    "    \"service_receiver\": 3,\n",
    "    \"provider\": 3,\n",
    "    \"service\": 3,\n",
    "    \"intent\": 4,\n",
    "    \"api_call\": 5,\n",
    "    \"real_permission\": 6,\n",
    "    \"call\": 7,\n",
    "    \"url\": 8\n",
    "}\n",
    "\n",
    "\n",
    "def count_feature_set(lines):\n",
    "    \"\"\"\n",
    "    Count how many features belong to a specific set\n",
    "    :param lines: features in the text file\n",
    "    :return:\n",
    "    \"\"\"\n",
    "    features_map = {x: 0 for x in range(1, 9)}\n",
    "    for l in lines:\n",
    "        if l != \"\\n\":\n",
    "            set = l.split(\"::\")[0]\n",
    "            features_map[FEATURES_SET[set]] += 1\n",
    "    features = []\n",
    "    for i in range(1, 9):\n",
    "        features.append(features_map[i])\n",
    "    return features\n"
   ]
  },
  {
   "cell_type": "code",
   "execution_count": null,
   "metadata": {},
   "outputs": [],
   "source": [
    "def read(LOAD_DATA=False):\n",
    "    if LOAD_DATA:\n",
    "        print(\"Previous data not loaded. Attempt to read data ...\")\n",
    "        mypath = r\"C:\\Users\\josev\\Desktop\\ProjetoPessoalNN\\GeorgeDarminton\\Drebin\\MetaData\\feature_vectors\\feature_vectors\"\n",
    "        onlyfiles = [f for f in listdir(mypath) if isfile(join(mypath, f))]\n",
    "\n",
    "        print(\"Reading csv file for ground truth ...\")\n",
    "        ground_truth = np.loadtxt(r\"C:\\Users\\josev\\Desktop\\ProjetoPessoalNN\\GeorgeDarminton\\Drebin\\MetaData\\sha256_family.csv\", delimiter=\",\", skiprows=1, dtype=str)\n",
    "        # print ground_truth.shape\n",
    "        # families = np.unique(ground_truth[:, 1])\n",
    "        # print families\n",
    "        # print len(families)\n",
    "\n",
    "        print(\"Reading positive and negative texts ...\")\n",
    "        pos = []\n",
    "        neg = []\n",
    "        for virus in tqdm(onlyfiles):\n",
    "            if virus in ground_truth[:, 0]:\n",
    "                pos.append(virus)\n",
    "            else:\n",
    "                #if len(neg) < 5560:\n",
    "                #if len(neg) < 22240:\n",
    "                    neg.append(virus)\n",
    "\n",
    "        print(\"Extracting features ...\")\n",
    "        x = []\n",
    "        y = []\n",
    "        for text_file in tqdm(pos):\n",
    "            sys.stdin = open(\"%s/%s\" % (mypath, text_file))\n",
    "            features = sys.stdin.readlines()\n",
    "            sample = count_feature_set(features)\n",
    "            x.append(sample)\n",
    "            y.append(1)\n",
    "\n",
    "        for text_file in tqdm(neg):\n",
    "            sys.stdin = open(\"%s/%s\" % (mypath, text_file))\n",
    "            features = sys.stdin.readlines()\n",
    "            sample = count_feature_set(features)\n",
    "            x.append(sample)\n",
    "            y.append(0)\n",
    "\n",
    "        print(\"Data is read successfully:\")\n",
    "        x = np.array(x)\n",
    "        y = np.array(y)\n",
    "        print(x.shape, y.shape)\n",
    "\n",
    "        print(\"Saving data under data_numpy directory ...\")\n",
    "        np.save(r\"C:\\Users\\josev\\Desktop\\ProjetoPessoalNN\\GeorgeDarminton/x_all.npy\", x)\n",
    "        np.save(r\"C:\\Users\\josev\\Desktop\\ProjetoPessoalNN\\GeorgeDarminton/y_all.npy\", y)\n",
    "\n",
    "        return x, y\n",
    "    else:\n",
    "        print(\"Loading previous data ...\")\n",
    "        x_ = np.load(r\"C:\\Users\\josev\\Desktop\\ProjetoPessoalNN\\GeorgeDarminton/x_all.npy\")\n",
    "        y_ = np.load(r\"C:\\Users\\josev\\Desktop\\ProjetoPessoalNN\\GeorgeDarminton/y_all.npy\")\n",
    "        print(x_.shape, y_.shape)\n",
    "        # print x == x_, y == y_\n",
    "        return x_, y_\n",
    "\n",
    "\n",
    "def map_family_to_category(families):\n",
    "    out = {}\n",
    "    count = 1\n",
    "    for family in families:\n",
    "        out[family] = count\n",
    "        count += 1\n",
    "    return out\n",
    "\n",
    "\n",
    "if __name__ == \"__main__\":\n",
    "    #x, y = read(LOAD_DATA=True)\n",
    "    x, y = read()"
   ]
  },
  {
   "cell_type": "markdown",
   "metadata": {},
   "source": [
    "### Dataframe"
   ]
  },
  {
   "cell_type": "code",
   "execution_count": null,
   "metadata": {},
   "outputs": [],
   "source": [
    "x_all, y_all = read(LOAD_DATA=False)\n",
    "x_train, x_test, y_train, y_test = train_test_split(x_all, y_all, test_size=0.2, stratify=y_all)\n",
    "print(x_train.shape, y_train.shape)\n",
    "print(x_test.shape, y_test.shape)"
   ]
  },
  {
   "cell_type": "markdown",
   "metadata": {},
   "source": [
    "### Algorithms"
   ]
  },
  {
   "cell_type": "code",
   "execution_count": null,
   "metadata": {},
   "outputs": [],
   "source": [
    "classifiers = {\n",
    "    'DecisionTree': DecisionTreeClassifier(criterion='gini'),\n",
    "    'MLP': MLPClassifier(hidden_layer_sizes=(100), max_iter=1000),\n",
    "    'Knn': KNeighborsClassifier(n_neighbors=7),\n",
    "    'NaiveBayes': GaussianNB(),\n",
    "    'BaggingDecisionTree': BaggingClassifier(estimator=DecisionTreeClassifier(criterion='gini'), n_estimators=30),\n",
    "    'BaggingNaiveBayes': BaggingClassifier(estimator=GaussianNB(), n_estimators=30),\n",
    "    'BaggingKnn': BaggingClassifier(estimator=KNeighborsClassifier(n_neighbors=7), n_estimators=30),\n",
    "    'BaggingMLP': BaggingClassifier(estimator=MLPClassifier(hidden_layer_sizes=(100), max_iter=1000), n_estimators=30),\n",
    "    'GradientBoostedDecisionTree': GradientBoostingClassifier(n_estimators=100),\n",
    "    'RandomForest': RandomForestClassifier(n_estimators=100)\n",
    "}\n",
    "\n",
    "DES = {\n",
    "    \"SingleBest\": SingleBest,\n",
    "    \"StaticSelection\": StaticSelection,\n",
    "    \"OLA\": OLA,\n",
    "    # \"KNORAU\": KNORAU,\n",
    "    # \"KNORAE\": KNORAE,\n",
    "    \"KNOP\": KNOP,\n",
    "    \"METADES\": METADES\n",
    "}"
   ]
  },
  {
   "cell_type": "markdown",
   "metadata": {},
   "source": [
    "### Saving Time Functions"
   ]
  },
  {
   "cell_type": "code",
   "execution_count": null,
   "metadata": {},
   "outputs": [],
   "source": [
    "def CreateModel(x_all, y_all, model, modelName, balance, num_rep=30):\n",
    "\n",
    "    model_dir = os.path.join(\"E:/DrebinStudy/Unbalanced\", modelName)\n",
    "    os.makedirs(model_dir, exist_ok=True)  # Create the directory if it doesn't exist\n",
    "\n",
    "    acuracias = []\n",
    "    precisoes = []\n",
    "    recalls = []\n",
    "    f1_scores = []\n",
    "    roc_auc_scores = []\n",
    "    gmean_scores = []\n",
    "\n",
    "\n",
    "    for i in tqdm(range(num_rep)):\n",
    "\n",
    "        if balance:\n",
    "            x_train, x_test, y_train, y_test = train_test_split(x_all, y_all, test_size=0.2, stratify=y_all)\n",
    "            smote = SMOTE(sampling_strategy='auto', k_neighbors=5)\n",
    "            x_train, y_train = smote.fit_resample(x_train, y_train)\n",
    "            model_dir = os.path.join(\"E:/DrebinStudy/Balanced\", modelName)\n",
    "            os.makedirs(model_dir, exist_ok=True)  # Create the directory if it doesn't exist\n",
    "\n",
    "        else:\n",
    "            x_train, x_test, y_train, y_test = train_test_split(x_all, y_all, test_size=0.2, stratify=y_all)\n",
    "\n",
    "        # Treinar o modelo no conjunto de treino\n",
    "        model.fit(x_train, y_train)\n",
    "\n",
    "        # Fazer previsões no conjunto de teste\n",
    "        previsoes = model.predict(x_test)\n",
    "        \n",
    "        # Avaliar as métricas do modelo e armazenar na lista temporaria\n",
    "        cm = confusion_matrix(y_test, previsoes)\n",
    "        acuracia = accuracy_score(y_test, previsoes)\n",
    "        precisao = precision_score(y_test, previsoes)\n",
    "        recall = recall_score(y_test, previsoes)\n",
    "        f1 = f1_score(y_test, previsoes)\n",
    "        roc_auc = roc_auc_score(y_test, previsoes)\n",
    "        geoMedia = geometric_mean_score(y_test, previsoes)\n",
    "        \n",
    "        acuracias.append(acuracia)\n",
    "        precisoes.append(precisao)\n",
    "        recalls.append(recall)\n",
    "        f1_scores.append(f1)\n",
    "        roc_auc_scores.append(roc_auc)\n",
    "        gmean_scores.append(geoMedia)\n",
    "        \n",
    "        # Salva o modelo treinado\n",
    "        model_path = os.path.join(model_dir, f'model_{i+1}.joblib')\n",
    "        joblib.dump(model, model_path)\n",
    "\n",
    "        # plt.figure(figsize=(8, 6))\n",
    "        # sns.heatmap(cm, annot=True, fmt='d', cmap='Blues')\n",
    "        # plt.xlabel('Predicted')\n",
    "        # plt.ylabel('Actual')\n",
    "        # plt.title('Confusion Matrix')\n",
    "        # plt.show()\n",
    "        print(f'Repetição {i+1} {modelName} - Acurácia: {acuracia:.2f}, Precisão: {precisao:.2f}, Recall: {recall:.2f}, F1-score: {f1:.2f}, ROC AUC: {roc_auc:.2f}')\n",
    "\n",
    "    # Criar um DataFrame com as métricas\n",
    "    metrics_df = pd.DataFrame({\n",
    "        'Accuracy': [np.mean(acuracias)],\n",
    "        'Precision': [np.mean(precisoes)],\n",
    "        'Recall': [np.mean(recalls)],\n",
    "        'F1_score': [np.mean(f1_scores)],\n",
    "        'Roc_auc': [np.mean(roc_auc_scores)],\n",
    "        'G-Mean': [np.mean(gmean_scores)],\n",
    "        'Accuracy_std': [np.std(acuracias)],\n",
    "        'Precision_std': [np.std(precisoes)],\n",
    "        'Recall_std': [np.std(recalls)],\n",
    "        'F1_score_std': [np.std(f1_scores)],\n",
    "        'Roc_auc_std': [np.std(roc_auc_scores)],\n",
    "        'G-Mean_std': [np.std(gmean_scores)]\n",
    "    })\n",
    "\n",
    "\n",
    "    if balance:\n",
    "        # Salvar o DataFrame em um arquivo CSV\n",
    "        csv_path = os.path.join(\"E:/DrebinStudy/Balanced/Metrics\", f'{modelName}_metrics.csv')\n",
    "        metrics_df.to_csv(csv_path, index=False)\n",
    "    \n",
    "    else:\n",
    "        # Salvar o DataFrame em um arquivo CSV\n",
    "        csv_path = os.path.join(\"E:/DrebinStudy/Unbalanced/Metrics\", f'{modelName}_metrics.csv')\n",
    "        metrics_df.to_csv(csv_path, index=False)\n",
    "    print(f'Métricas salvas em {csv_path}')"
   ]
  },
  {
   "cell_type": "code",
   "execution_count": null,
   "metadata": {},
   "outputs": [],
   "source": [
    "def CreateDESModel(x_all, y_all, model, modelName, balance, num_rep=30):\n",
    "    if balance:\n",
    "        model_dir = os.path.join(\"E:/DrebinStudy/Balanced\", modelName)\n",
    "    else:\n",
    "        model_dir = os.path.join(\"E:/DrebinStudy/Unbalanced\", modelName)\n",
    "    \n",
    "    os.makedirs(model_dir, exist_ok=True)\n",
    "\n",
    "    acuracias = []\n",
    "    precisoes = []\n",
    "    recalls = []\n",
    "    f1_scores = []\n",
    "    roc_auc_scores = []\n",
    "    gmean_scores = []\n",
    "\n",
    "    for i in tqdm(range(num_rep)):\n",
    "        x_train, x_test, y_train, y_test = train_test_split(x_all, y_all, test_size=0.2, stratify=y_all)\n",
    "\n",
    "        if balance:\n",
    "            smote = SMOTE(sampling_strategy='auto', k_neighbors=5)\n",
    "            x_train, y_train = smote.fit_resample(x_train, y_train)\n",
    "\n",
    "        # Train an ensemble of classifiers\n",
    "        ensemble = RandomForestClassifier(n_estimators=100)\n",
    "        ensemble.fit(x_train, y_train)\n",
    "\n",
    "        # Initialize and train the DES model on the training set\n",
    "        des_model = model(ensemble)\n",
    "        des_model.fit(x_train, y_train)\n",
    "\n",
    "        # Make predictions on the test set\n",
    "        previsoes = des_model.predict(x_test)\n",
    "\n",
    "        # Avaliar as métricas do modelo e armazenar na lista temporaria\n",
    "        cm = confusion_matrix(y_test, previsoes)\n",
    "        acuracia = accuracy_score(y_test, previsoes)\n",
    "        precisao = precision_score(y_test, previsoes)\n",
    "        recall = recall_score(y_test, previsoes)\n",
    "        f1 = f1_score(y_test, previsoes)\n",
    "        roc_auc = roc_auc_score(y_test, previsoes)\n",
    "        geoMedia = geometric_mean_score(y_test, previsoes)\n",
    "        \n",
    "        acuracias.append(acuracia)\n",
    "        precisoes.append(precisao)\n",
    "        recalls.append(recall)\n",
    "        f1_scores.append(f1)\n",
    "        roc_auc_scores.append(roc_auc)\n",
    "        gmean_scores.append(geoMedia)\n",
    "\n",
    "        # # Save the trained model\n",
    "        model_path = os.path.join(model_dir, f'model_{i+1}.joblib')\n",
    "        joblib.dump(des_model, model_path)\n",
    "\n",
    "        # plt.figure(figsize=(8, 6))\n",
    "        # sns.heatmap(cm, annot=True, fmt='d', cmap='Blues')\n",
    "        # plt.xlabel('Predicted')\n",
    "        # plt.ylabel('Actual')\n",
    "        # plt.title('Confusion Matrix')\n",
    "        # plt.show()\n",
    "        print(f'Repetition {i+1} - Accuracy: {acuracia:.2f}, Precision: {precisao:.2f}, Recall: {recall:.2f}, F1-score: {f1:.2f}, ROC AUC: {roc_auc:.2f}')\n",
    "\n",
    "    # Criar um DataFrame com as métricas\n",
    "    metrics_df = pd.DataFrame({\n",
    "        'Accuracy': [np.mean(acuracias)],\n",
    "        'Precision': [np.mean(precisoes)],\n",
    "        'Recall': [np.mean(recalls)],\n",
    "        'F1_score': [np.mean(f1_scores)],\n",
    "        'Roc_auc': [np.mean(roc_auc_scores)],\n",
    "        'G-Mean': [np.mean(gmean_scores)],\n",
    "        'Accuracy_std': [np.std(acuracias)],\n",
    "        'Precision_std': [np.std(precisoes)],\n",
    "        'Recall_std': [np.std(recalls)],\n",
    "        'F1_score_std': [np.std(f1_scores)],\n",
    "        'Roc_auc_std': [np.std(roc_auc_scores)],\n",
    "        'G-Mean_std': [np.std(gmean_scores)]\n",
    "    })\n",
    "\n",
    "\n",
    "    if balance:\n",
    "        # Salvar o DataFrame em um arquivo CSV\n",
    "        csv_path = os.path.join(\"E:/DrebinStudy/Balanced/Metrics\", f'{modelName}_metrics.csv')\n",
    "        metrics_df.to_csv(csv_path, index=False)\n",
    "    \n",
    "    else:\n",
    "        # Salvar o DataFrame em um arquivo CSV\n",
    "        csv_path = os.path.join(\"E:/DrebinStudy/Unbalanced/Metrics\", f'{modelName}_metrics.csv')\n",
    "        metrics_df.to_csv(csv_path, index=False)\n",
    "    print(f'Métricas salvas em {csv_path}')"
   ]
  },
  {
   "cell_type": "markdown",
   "metadata": {},
   "source": [
    "### Models"
   ]
  },
  {
   "cell_type": "markdown",
   "metadata": {},
   "source": [
    "#### Unbalanced"
   ]
  },
  {
   "cell_type": "code",
   "execution_count": 8,
   "metadata": {},
   "outputs": [
    {
     "name": "stderr",
     "output_type": "stream",
     "text": [
      "  3%|▎         | 1/30 [01:15<36:17, 75.07s/it]"
     ]
    },
    {
     "name": "stdout",
     "output_type": "stream",
     "text": [
      "Repetição 1 MLP - Acurácia: 0.98, Precisão: 0.81, Recall: 0.61, F1-score: 0.70, ROC AUC: 0.80\n"
     ]
    },
    {
     "name": "stderr",
     "output_type": "stream",
     "text": [
      "  7%|▋         | 2/30 [02:06<28:37, 61.35s/it]"
     ]
    },
    {
     "name": "stdout",
     "output_type": "stream",
     "text": [
      "Repetição 2 MLP - Acurácia: 0.98, Precisão: 0.81, Recall: 0.62, F1-score: 0.70, ROC AUC: 0.81\n"
     ]
    },
    {
     "name": "stderr",
     "output_type": "stream",
     "text": [
      " 10%|█         | 3/30 [02:49<23:41, 52.65s/it]"
     ]
    },
    {
     "name": "stdout",
     "output_type": "stream",
     "text": [
      "Repetição 3 MLP - Acurácia: 0.98, Precisão: 0.75, Recall: 0.64, F1-score: 0.69, ROC AUC: 0.82\n"
     ]
    },
    {
     "name": "stderr",
     "output_type": "stream",
     "text": [
      " 13%|█▎        | 4/30 [03:32<21:09, 48.83s/it]"
     ]
    },
    {
     "name": "stdout",
     "output_type": "stream",
     "text": [
      "Repetição 4 MLP - Acurácia: 0.98, Precisão: 0.82, Recall: 0.57, F1-score: 0.67, ROC AUC: 0.78\n"
     ]
    },
    {
     "name": "stderr",
     "output_type": "stream",
     "text": [
      " 17%|█▋        | 5/30 [04:31<22:00, 52.81s/it]"
     ]
    },
    {
     "name": "stdout",
     "output_type": "stream",
     "text": [
      "Repetição 5 MLP - Acurácia: 0.98, Precisão: 0.88, Recall: 0.56, F1-score: 0.69, ROC AUC: 0.78\n"
     ]
    },
    {
     "name": "stderr",
     "output_type": "stream",
     "text": [
      " 20%|██        | 6/30 [05:27<21:33, 53.88s/it]"
     ]
    },
    {
     "name": "stdout",
     "output_type": "stream",
     "text": [
      "Repetição 6 MLP - Acurácia: 0.98, Precisão: 0.83, Recall: 0.58, F1-score: 0.68, ROC AUC: 0.79\n"
     ]
    },
    {
     "name": "stderr",
     "output_type": "stream",
     "text": [
      " 23%|██▎       | 7/30 [06:42<23:16, 60.73s/it]"
     ]
    },
    {
     "name": "stdout",
     "output_type": "stream",
     "text": [
      "Repetição 7 MLP - Acurácia: 0.98, Precisão: 0.75, Recall: 0.65, F1-score: 0.70, ROC AUC: 0.82\n"
     ]
    },
    {
     "name": "stderr",
     "output_type": "stream",
     "text": [
      " 27%|██▋       | 8/30 [07:34<21:11, 57.78s/it]"
     ]
    },
    {
     "name": "stdout",
     "output_type": "stream",
     "text": [
      "Repetição 8 MLP - Acurácia: 0.98, Precisão: 0.85, Recall: 0.56, F1-score: 0.67, ROC AUC: 0.78\n"
     ]
    },
    {
     "name": "stderr",
     "output_type": "stream",
     "text": [
      " 30%|███       | 9/30 [08:23<19:16, 55.08s/it]"
     ]
    },
    {
     "name": "stdout",
     "output_type": "stream",
     "text": [
      "Repetição 9 MLP - Acurácia: 0.98, Precisão: 0.83, Recall: 0.55, F1-score: 0.66, ROC AUC: 0.77\n"
     ]
    },
    {
     "name": "stderr",
     "output_type": "stream",
     "text": [
      " 33%|███▎      | 10/30 [09:05<16:59, 50.97s/it]"
     ]
    },
    {
     "name": "stdout",
     "output_type": "stream",
     "text": [
      "Repetição 10 MLP - Acurácia: 0.97, Precisão: 0.73, Recall: 0.65, F1-score: 0.69, ROC AUC: 0.82\n"
     ]
    },
    {
     "name": "stderr",
     "output_type": "stream",
     "text": [
      " 37%|███▋      | 11/30 [09:46<15:15, 48.18s/it]"
     ]
    },
    {
     "name": "stdout",
     "output_type": "stream",
     "text": [
      "Repetição 11 MLP - Acurácia: 0.98, Precisão: 0.82, Recall: 0.60, F1-score: 0.69, ROC AUC: 0.80\n"
     ]
    },
    {
     "name": "stderr",
     "output_type": "stream",
     "text": [
      " 40%|████      | 12/30 [10:32<14:13, 47.43s/it]"
     ]
    },
    {
     "name": "stdout",
     "output_type": "stream",
     "text": [
      "Repetição 12 MLP - Acurácia: 0.98, Precisão: 0.81, Recall: 0.60, F1-score: 0.69, ROC AUC: 0.80\n"
     ]
    },
    {
     "name": "stderr",
     "output_type": "stream",
     "text": [
      " 43%|████▎     | 13/30 [11:24<13:47, 48.66s/it]"
     ]
    },
    {
     "name": "stdout",
     "output_type": "stream",
     "text": [
      "Repetição 13 MLP - Acurácia: 0.98, Precisão: 0.82, Recall: 0.54, F1-score: 0.65, ROC AUC: 0.77\n"
     ]
    },
    {
     "name": "stderr",
     "output_type": "stream",
     "text": [
      " 47%|████▋     | 14/30 [12:24<13:55, 52.23s/it]"
     ]
    },
    {
     "name": "stdout",
     "output_type": "stream",
     "text": [
      "Repetição 14 MLP - Acurácia: 0.98, Precisão: 0.83, Recall: 0.61, F1-score: 0.70, ROC AUC: 0.80\n"
     ]
    },
    {
     "name": "stderr",
     "output_type": "stream",
     "text": [
      " 50%|█████     | 15/30 [13:28<13:57, 55.84s/it]"
     ]
    },
    {
     "name": "stdout",
     "output_type": "stream",
     "text": [
      "Repetição 15 MLP - Acurácia: 0.98, Precisão: 0.82, Recall: 0.57, F1-score: 0.68, ROC AUC: 0.78\n"
     ]
    },
    {
     "name": "stderr",
     "output_type": "stream",
     "text": [
      " 53%|█████▎    | 16/30 [14:19<12:40, 54.32s/it]"
     ]
    },
    {
     "name": "stdout",
     "output_type": "stream",
     "text": [
      "Repetição 16 MLP - Acurácia: 0.98, Precisão: 0.80, Recall: 0.61, F1-score: 0.69, ROC AUC: 0.80\n"
     ]
    },
    {
     "name": "stderr",
     "output_type": "stream",
     "text": [
      " 57%|█████▋    | 17/30 [14:59<10:48, 49.85s/it]"
     ]
    },
    {
     "name": "stdout",
     "output_type": "stream",
     "text": [
      "Repetição 17 MLP - Acurácia: 0.98, Precisão: 0.81, Recall: 0.58, F1-score: 0.67, ROC AUC: 0.79\n"
     ]
    },
    {
     "name": "stderr",
     "output_type": "stream",
     "text": [
      " 60%|██████    | 18/30 [15:40<09:29, 47.45s/it]"
     ]
    },
    {
     "name": "stdout",
     "output_type": "stream",
     "text": [
      "Repetição 18 MLP - Acurácia: 0.98, Precisão: 0.78, Recall: 0.62, F1-score: 0.69, ROC AUC: 0.81\n"
     ]
    },
    {
     "name": "stderr",
     "output_type": "stream",
     "text": [
      " 63%|██████▎   | 19/30 [16:34<09:02, 49.29s/it]"
     ]
    },
    {
     "name": "stdout",
     "output_type": "stream",
     "text": [
      "Repetição 19 MLP - Acurácia: 0.98, Precisão: 0.73, Recall: 0.69, F1-score: 0.71, ROC AUC: 0.84\n"
     ]
    },
    {
     "name": "stderr",
     "output_type": "stream",
     "text": [
      " 67%|██████▋   | 20/30 [17:38<08:57, 53.77s/it]"
     ]
    },
    {
     "name": "stdout",
     "output_type": "stream",
     "text": [
      "Repetição 20 MLP - Acurácia: 0.98, Precisão: 0.83, Recall: 0.59, F1-score: 0.69, ROC AUC: 0.79\n"
     ]
    },
    {
     "name": "stderr",
     "output_type": "stream",
     "text": [
      " 70%|███████   | 21/30 [18:30<07:59, 53.31s/it]"
     ]
    },
    {
     "name": "stdout",
     "output_type": "stream",
     "text": [
      "Repetição 21 MLP - Acurácia: 0.98, Precisão: 0.85, Recall: 0.57, F1-score: 0.68, ROC AUC: 0.78\n"
     ]
    },
    {
     "name": "stderr",
     "output_type": "stream",
     "text": [
      " 73%|███████▎  | 22/30 [19:26<07:12, 54.10s/it]"
     ]
    },
    {
     "name": "stdout",
     "output_type": "stream",
     "text": [
      "Repetição 22 MLP - Acurácia: 0.98, Precisão: 0.79, Recall: 0.63, F1-score: 0.70, ROC AUC: 0.81\n"
     ]
    },
    {
     "name": "stderr",
     "output_type": "stream",
     "text": [
      " 77%|███████▋  | 23/30 [20:26<06:29, 55.63s/it]"
     ]
    },
    {
     "name": "stdout",
     "output_type": "stream",
     "text": [
      "Repetição 23 MLP - Acurácia: 0.98, Precisão: 0.80, Recall: 0.62, F1-score: 0.70, ROC AUC: 0.80\n"
     ]
    },
    {
     "name": "stderr",
     "output_type": "stream",
     "text": [
      " 80%|████████  | 24/30 [21:26<05:42, 57.09s/it]"
     ]
    },
    {
     "name": "stdout",
     "output_type": "stream",
     "text": [
      "Repetição 24 MLP - Acurácia: 0.98, Precisão: 0.81, Recall: 0.62, F1-score: 0.70, ROC AUC: 0.81\n"
     ]
    },
    {
     "name": "stderr",
     "output_type": "stream",
     "text": [
      " 83%|████████▎ | 25/30 [22:28<04:52, 58.44s/it]"
     ]
    },
    {
     "name": "stdout",
     "output_type": "stream",
     "text": [
      "Repetição 25 MLP - Acurácia: 0.98, Precisão: 0.81, Recall: 0.58, F1-score: 0.67, ROC AUC: 0.79\n"
     ]
    },
    {
     "name": "stderr",
     "output_type": "stream",
     "text": [
      " 87%|████████▋ | 26/30 [23:19<03:45, 56.32s/it]"
     ]
    },
    {
     "name": "stdout",
     "output_type": "stream",
     "text": [
      "Repetição 26 MLP - Acurácia: 0.98, Precisão: 0.80, Recall: 0.61, F1-score: 0.69, ROC AUC: 0.80\n"
     ]
    },
    {
     "name": "stderr",
     "output_type": "stream",
     "text": [
      " 90%|█████████ | 27/30 [24:49<03:19, 66.46s/it]"
     ]
    },
    {
     "name": "stdout",
     "output_type": "stream",
     "text": [
      "Repetição 27 MLP - Acurácia: 0.98, Precisão: 0.81, Recall: 0.61, F1-score: 0.69, ROC AUC: 0.80\n"
     ]
    },
    {
     "name": "stderr",
     "output_type": "stream",
     "text": [
      " 93%|█████████▎| 28/30 [26:47<02:43, 81.73s/it]"
     ]
    },
    {
     "name": "stdout",
     "output_type": "stream",
     "text": [
      "Repetição 28 MLP - Acurácia: 0.98, Precisão: 0.85, Recall: 0.61, F1-score: 0.71, ROC AUC: 0.80\n"
     ]
    },
    {
     "name": "stderr",
     "output_type": "stream",
     "text": [
      " 97%|█████████▋| 29/30 [27:54<01:17, 77.44s/it]"
     ]
    },
    {
     "name": "stdout",
     "output_type": "stream",
     "text": [
      "Repetição 29 MLP - Acurácia: 0.98, Precisão: 0.81, Recall: 0.63, F1-score: 0.71, ROC AUC: 0.81\n"
     ]
    },
    {
     "name": "stderr",
     "output_type": "stream",
     "text": [
      "100%|██████████| 30/30 [29:27<00:00, 58.92s/it]\n"
     ]
    },
    {
     "name": "stdout",
     "output_type": "stream",
     "text": [
      "Repetição 30 MLP - Acurácia: 0.98, Precisão: 0.78, Recall: 0.65, F1-score: 0.71, ROC AUC: 0.82\n",
      "Métricas salvas em E:/DrebinStudy/Unbalanced/Metrics\\MLP_metrics.csv\n"
     ]
    },
    {
     "name": "stderr",
     "output_type": "stream",
     "text": [
      "  3%|▎         | 1/30 [00:05<02:33,  5.29s/it]"
     ]
    },
    {
     "name": "stdout",
     "output_type": "stream",
     "text": [
      "Repetição 1 Knn - Acurácia: 0.98, Precisão: 0.82, Recall: 0.73, F1-score: 0.77, ROC AUC: 0.86\n"
     ]
    },
    {
     "name": "stderr",
     "output_type": "stream",
     "text": [
      "  7%|▋         | 2/30 [00:10<02:25,  5.19s/it]"
     ]
    },
    {
     "name": "stdout",
     "output_type": "stream",
     "text": [
      "Repetição 2 Knn - Acurácia: 0.98, Precisão: 0.82, Recall: 0.72, F1-score: 0.77, ROC AUC: 0.86\n"
     ]
    },
    {
     "name": "stderr",
     "output_type": "stream",
     "text": [
      " 10%|█         | 3/30 [00:14<02:11,  4.86s/it]"
     ]
    },
    {
     "name": "stdout",
     "output_type": "stream",
     "text": [
      "Repetição 3 Knn - Acurácia: 0.98, Precisão: 0.82, Recall: 0.76, F1-score: 0.79, ROC AUC: 0.88\n"
     ]
    },
    {
     "name": "stderr",
     "output_type": "stream",
     "text": [
      " 13%|█▎        | 4/30 [00:18<01:57,  4.53s/it]"
     ]
    },
    {
     "name": "stdout",
     "output_type": "stream",
     "text": [
      "Repetição 4 Knn - Acurácia: 0.98, Precisão: 0.81, Recall: 0.73, F1-score: 0.77, ROC AUC: 0.86\n"
     ]
    },
    {
     "name": "stderr",
     "output_type": "stream",
     "text": [
      " 17%|█▋        | 5/30 [00:23<01:50,  4.44s/it]"
     ]
    },
    {
     "name": "stdout",
     "output_type": "stream",
     "text": [
      "Repetição 5 Knn - Acurácia: 0.98, Precisão: 0.81, Recall: 0.73, F1-score: 0.77, ROC AUC: 0.86\n"
     ]
    },
    {
     "name": "stderr",
     "output_type": "stream",
     "text": [
      " 20%|██        | 6/30 [00:29<01:58,  4.95s/it]"
     ]
    },
    {
     "name": "stdout",
     "output_type": "stream",
     "text": [
      "Repetição 6 Knn - Acurácia: 0.98, Precisão: 0.80, Recall: 0.72, F1-score: 0.75, ROC AUC: 0.85\n"
     ]
    },
    {
     "name": "stderr",
     "output_type": "stream",
     "text": [
      " 23%|██▎       | 7/30 [00:35<02:01,  5.30s/it]"
     ]
    },
    {
     "name": "stdout",
     "output_type": "stream",
     "text": [
      "Repetição 7 Knn - Acurácia: 0.98, Precisão: 0.81, Recall: 0.74, F1-score: 0.77, ROC AUC: 0.87\n"
     ]
    },
    {
     "name": "stderr",
     "output_type": "stream",
     "text": [
      " 27%|██▋       | 8/30 [00:41<02:02,  5.57s/it]"
     ]
    },
    {
     "name": "stdout",
     "output_type": "stream",
     "text": [
      "Repetição 8 Knn - Acurácia: 0.98, Precisão: 0.80, Recall: 0.73, F1-score: 0.77, ROC AUC: 0.86\n"
     ]
    },
    {
     "name": "stderr",
     "output_type": "stream",
     "text": [
      " 30%|███       | 9/30 [00:45<01:50,  5.24s/it]"
     ]
    },
    {
     "name": "stdout",
     "output_type": "stream",
     "text": [
      "Repetição 9 Knn - Acurácia: 0.98, Precisão: 0.82, Recall: 0.76, F1-score: 0.79, ROC AUC: 0.88\n"
     ]
    },
    {
     "name": "stderr",
     "output_type": "stream",
     "text": [
      " 33%|███▎      | 10/30 [00:50<01:42,  5.14s/it]"
     ]
    },
    {
     "name": "stdout",
     "output_type": "stream",
     "text": [
      "Repetição 10 Knn - Acurácia: 0.98, Precisão: 0.81, Recall: 0.74, F1-score: 0.77, ROC AUC: 0.86\n"
     ]
    },
    {
     "name": "stderr",
     "output_type": "stream",
     "text": [
      " 37%|███▋      | 11/30 [00:54<01:29,  4.73s/it]"
     ]
    },
    {
     "name": "stdout",
     "output_type": "stream",
     "text": [
      "Repetição 11 Knn - Acurácia: 0.98, Precisão: 0.81, Recall: 0.71, F1-score: 0.76, ROC AUC: 0.85\n"
     ]
    },
    {
     "name": "stderr",
     "output_type": "stream",
     "text": [
      " 40%|████      | 12/30 [00:58<01:20,  4.50s/it]"
     ]
    },
    {
     "name": "stdout",
     "output_type": "stream",
     "text": [
      "Repetição 12 Knn - Acurácia: 0.98, Precisão: 0.79, Recall: 0.73, F1-score: 0.76, ROC AUC: 0.86\n"
     ]
    },
    {
     "name": "stderr",
     "output_type": "stream",
     "text": [
      " 43%|████▎     | 13/30 [01:03<01:17,  4.57s/it]"
     ]
    },
    {
     "name": "stdout",
     "output_type": "stream",
     "text": [
      "Repetição 13 Knn - Acurácia: 0.98, Precisão: 0.82, Recall: 0.73, F1-score: 0.77, ROC AUC: 0.86\n"
     ]
    },
    {
     "name": "stderr",
     "output_type": "stream",
     "text": [
      " 47%|████▋     | 14/30 [01:09<01:19,  4.99s/it]"
     ]
    },
    {
     "name": "stdout",
     "output_type": "stream",
     "text": [
      "Repetição 14 Knn - Acurácia: 0.98, Precisão: 0.82, Recall: 0.73, F1-score: 0.77, ROC AUC: 0.86\n"
     ]
    },
    {
     "name": "stderr",
     "output_type": "stream",
     "text": [
      " 50%|█████     | 15/30 [01:15<01:18,  5.24s/it]"
     ]
    },
    {
     "name": "stdout",
     "output_type": "stream",
     "text": [
      "Repetição 15 Knn - Acurácia: 0.98, Precisão: 0.84, Recall: 0.74, F1-score: 0.79, ROC AUC: 0.87\n"
     ]
    },
    {
     "name": "stderr",
     "output_type": "stream",
     "text": [
      " 53%|█████▎    | 16/30 [01:20<01:13,  5.25s/it]"
     ]
    },
    {
     "name": "stdout",
     "output_type": "stream",
     "text": [
      "Repetição 16 Knn - Acurácia: 0.98, Precisão: 0.80, Recall: 0.74, F1-score: 0.77, ROC AUC: 0.86\n"
     ]
    },
    {
     "name": "stderr",
     "output_type": "stream",
     "text": [
      " 57%|█████▋    | 17/30 [01:24<01:05,  5.06s/it]"
     ]
    },
    {
     "name": "stdout",
     "output_type": "stream",
     "text": [
      "Repetição 17 Knn - Acurácia: 0.98, Precisão: 0.80, Recall: 0.74, F1-score: 0.77, ROC AUC: 0.87\n"
     ]
    },
    {
     "name": "stderr",
     "output_type": "stream",
     "text": [
      " 60%|██████    | 18/30 [01:29<00:58,  4.92s/it]"
     ]
    },
    {
     "name": "stdout",
     "output_type": "stream",
     "text": [
      "Repetição 18 Knn - Acurácia: 0.98, Precisão: 0.82, Recall: 0.71, F1-score: 0.76, ROC AUC: 0.85\n"
     ]
    },
    {
     "name": "stderr",
     "output_type": "stream",
     "text": [
      " 63%|██████▎   | 19/30 [01:33<00:50,  4.63s/it]"
     ]
    },
    {
     "name": "stdout",
     "output_type": "stream",
     "text": [
      "Repetição 19 Knn - Acurácia: 0.98, Precisão: 0.82, Recall: 0.73, F1-score: 0.77, ROC AUC: 0.86\n"
     ]
    },
    {
     "name": "stderr",
     "output_type": "stream",
     "text": [
      " 67%|██████▋   | 20/30 [01:37<00:44,  4.42s/it]"
     ]
    },
    {
     "name": "stdout",
     "output_type": "stream",
     "text": [
      "Repetição 20 Knn - Acurácia: 0.98, Precisão: 0.81, Recall: 0.74, F1-score: 0.77, ROC AUC: 0.87\n"
     ]
    },
    {
     "name": "stderr",
     "output_type": "stream",
     "text": [
      " 70%|███████   | 21/30 [01:43<00:43,  4.79s/it]"
     ]
    },
    {
     "name": "stdout",
     "output_type": "stream",
     "text": [
      "Repetição 21 Knn - Acurácia: 0.98, Precisão: 0.82, Recall: 0.71, F1-score: 0.76, ROC AUC: 0.85\n"
     ]
    },
    {
     "name": "stderr",
     "output_type": "stream",
     "text": [
      " 73%|███████▎  | 22/30 [01:49<00:41,  5.14s/it]"
     ]
    },
    {
     "name": "stdout",
     "output_type": "stream",
     "text": [
      "Repetição 22 Knn - Acurácia: 0.98, Precisão: 0.81, Recall: 0.74, F1-score: 0.77, ROC AUC: 0.86\n"
     ]
    },
    {
     "name": "stderr",
     "output_type": "stream",
     "text": [
      " 77%|███████▋  | 23/30 [01:54<00:37,  5.40s/it]"
     ]
    },
    {
     "name": "stdout",
     "output_type": "stream",
     "text": [
      "Repetição 23 Knn - Acurácia: 0.98, Precisão: 0.83, Recall: 0.75, F1-score: 0.79, ROC AUC: 0.87\n"
     ]
    },
    {
     "name": "stderr",
     "output_type": "stream",
     "text": [
      " 80%|████████  | 24/30 [01:59<00:31,  5.27s/it]"
     ]
    },
    {
     "name": "stdout",
     "output_type": "stream",
     "text": [
      "Repetição 24 Knn - Acurácia: 0.98, Precisão: 0.80, Recall: 0.73, F1-score: 0.76, ROC AUC: 0.86\n"
     ]
    },
    {
     "name": "stderr",
     "output_type": "stream",
     "text": [
      " 83%|████████▎ | 25/30 [02:05<00:26,  5.24s/it]"
     ]
    },
    {
     "name": "stdout",
     "output_type": "stream",
     "text": [
      "Repetição 25 Knn - Acurácia: 0.98, Precisão: 0.82, Recall: 0.74, F1-score: 0.78, ROC AUC: 0.86\n"
     ]
    },
    {
     "name": "stderr",
     "output_type": "stream",
     "text": [
      " 87%|████████▋ | 26/30 [02:08<00:19,  4.82s/it]"
     ]
    },
    {
     "name": "stdout",
     "output_type": "stream",
     "text": [
      "Repetição 26 Knn - Acurácia: 0.98, Precisão: 0.81, Recall: 0.75, F1-score: 0.78, ROC AUC: 0.87\n"
     ]
    },
    {
     "name": "stderr",
     "output_type": "stream",
     "text": [
      " 90%|█████████ | 27/30 [02:12<00:13,  4.55s/it]"
     ]
    },
    {
     "name": "stdout",
     "output_type": "stream",
     "text": [
      "Repetição 27 Knn - Acurácia: 0.98, Precisão: 0.83, Recall: 0.76, F1-score: 0.79, ROC AUC: 0.88\n"
     ]
    },
    {
     "name": "stderr",
     "output_type": "stream",
     "text": [
      " 93%|█████████▎| 28/30 [02:17<00:08,  4.49s/it]"
     ]
    },
    {
     "name": "stdout",
     "output_type": "stream",
     "text": [
      "Repetição 28 Knn - Acurácia: 0.98, Precisão: 0.82, Recall: 0.74, F1-score: 0.78, ROC AUC: 0.87\n"
     ]
    },
    {
     "name": "stderr",
     "output_type": "stream",
     "text": [
      " 97%|█████████▋| 29/30 [02:23<00:04,  4.87s/it]"
     ]
    },
    {
     "name": "stdout",
     "output_type": "stream",
     "text": [
      "Repetição 29 Knn - Acurácia: 0.98, Precisão: 0.81, Recall: 0.72, F1-score: 0.76, ROC AUC: 0.86\n"
     ]
    },
    {
     "name": "stderr",
     "output_type": "stream",
     "text": [
      "100%|██████████| 30/30 [02:28<00:00,  4.97s/it]\n"
     ]
    },
    {
     "name": "stdout",
     "output_type": "stream",
     "text": [
      "Repetição 30 Knn - Acurácia: 0.98, Precisão: 0.82, Recall: 0.75, F1-score: 0.78, ROC AUC: 0.87\n",
      "Métricas salvas em E:/DrebinStudy/Unbalanced/Metrics\\Knn_metrics.csv\n"
     ]
    },
    {
     "name": "stderr",
     "output_type": "stream",
     "text": [
      "  3%|▎         | 1/30 [00:00<00:04,  6.41it/s]"
     ]
    },
    {
     "name": "stdout",
     "output_type": "stream",
     "text": [
      "Repetição 1 NaiveBayes - Acurácia: 0.92, Precisão: 0.25, Recall: 0.48, F1-score: 0.33, ROC AUC: 0.71\n"
     ]
    },
    {
     "name": "stderr",
     "output_type": "stream",
     "text": [
      "  7%|▋         | 2/30 [00:00<00:04,  6.52it/s]"
     ]
    },
    {
     "name": "stdout",
     "output_type": "stream",
     "text": [
      "Repetição 2 NaiveBayes - Acurácia: 0.92, Precisão: 0.24, Recall: 0.42, F1-score: 0.30, ROC AUC: 0.68\n"
     ]
    },
    {
     "name": "stderr",
     "output_type": "stream",
     "text": [
      " 10%|█         | 3/30 [00:00<00:04,  6.50it/s]"
     ]
    },
    {
     "name": "stdout",
     "output_type": "stream",
     "text": [
      "Repetição 3 NaiveBayes - Acurácia: 0.92, Precisão: 0.25, Recall: 0.47, F1-score: 0.32, ROC AUC: 0.70\n"
     ]
    },
    {
     "name": "stderr",
     "output_type": "stream",
     "text": [
      " 13%|█▎        | 4/30 [00:00<00:04,  6.31it/s]"
     ]
    },
    {
     "name": "stdout",
     "output_type": "stream",
     "text": [
      "Repetição 4 NaiveBayes - Acurácia: 0.92, Precisão: 0.27, Recall: 0.47, F1-score: 0.34, ROC AUC: 0.71\n"
     ]
    },
    {
     "name": "stderr",
     "output_type": "stream",
     "text": [
      " 17%|█▋        | 5/30 [00:00<00:04,  6.15it/s]"
     ]
    },
    {
     "name": "stdout",
     "output_type": "stream",
     "text": [
      "Repetição 5 NaiveBayes - Acurácia: 0.92, Precisão: 0.25, Recall: 0.46, F1-score: 0.32, ROC AUC: 0.70\n"
     ]
    },
    {
     "name": "stderr",
     "output_type": "stream",
     "text": [
      " 20%|██        | 6/30 [00:00<00:03,  6.11it/s]"
     ]
    },
    {
     "name": "stdout",
     "output_type": "stream",
     "text": [
      "Repetição 6 NaiveBayes - Acurácia: 0.91, Precisão: 0.24, Recall: 0.46, F1-score: 0.32, ROC AUC: 0.70\n",
      "Repetição 7 NaiveBayes - Acurácia: 0.91, Precisão: 0.24, Recall: 0.46, F1-score: 0.32, ROC AUC: 0.70"
     ]
    },
    {
     "name": "stderr",
     "output_type": "stream",
     "text": [
      " 27%|██▋       | 8/30 [00:01<00:03,  5.95it/s]"
     ]
    },
    {
     "name": "stdout",
     "output_type": "stream",
     "text": [
      "\n",
      "Repetição 8 NaiveBayes - Acurácia: 0.92, Precisão: 0.24, Recall: 0.44, F1-score: 0.31, ROC AUC: 0.69\n"
     ]
    },
    {
     "name": "stderr",
     "output_type": "stream",
     "text": [
      " 33%|███▎      | 10/30 [00:01<00:03,  6.06it/s]"
     ]
    },
    {
     "name": "stdout",
     "output_type": "stream",
     "text": [
      "Repetição 9 NaiveBayes - Acurácia: 0.92, Precisão: 0.26, Recall: 0.48, F1-score: 0.34, ROC AUC: 0.71\n",
      "Repetição 10 NaiveBayes - Acurácia: 0.92, Precisão: 0.25, Recall: 0.47, F1-score: 0.32, ROC AUC: 0.70\n"
     ]
    },
    {
     "name": "stderr",
     "output_type": "stream",
     "text": [
      " 40%|████      | 12/30 [00:01<00:02,  6.12it/s]"
     ]
    },
    {
     "name": "stdout",
     "output_type": "stream",
     "text": [
      "Repetição 11 NaiveBayes - Acurácia: 0.92, Precisão: 0.26, Recall: 0.49, F1-score: 0.34, ROC AUC: 0.71\n",
      "Repetição 12 NaiveBayes - Acurácia: 0.92, Precisão: 0.26, Recall: 0.48, F1-score: 0.34, ROC AUC: 0.71\n"
     ]
    },
    {
     "name": "stderr",
     "output_type": "stream",
     "text": [
      " 47%|████▋     | 14/30 [00:02<00:02,  6.07it/s]"
     ]
    },
    {
     "name": "stdout",
     "output_type": "stream",
     "text": [
      "Repetição 13 NaiveBayes - Acurácia: 0.91, Precisão: 0.24, Recall: 0.47, F1-score: 0.32, ROC AUC: 0.70\n",
      "Repetição 14 NaiveBayes - Acurácia: 0.92, Precisão: 0.26, Recall: 0.46, F1-score: 0.33, ROC AUC: 0.70\n"
     ]
    },
    {
     "name": "stderr",
     "output_type": "stream",
     "text": [
      " 53%|█████▎    | 16/30 [00:02<00:02,  6.13it/s]"
     ]
    },
    {
     "name": "stdout",
     "output_type": "stream",
     "text": [
      "Repetição 15 NaiveBayes - Acurácia: 0.92, Precisão: 0.25, Recall: 0.46, F1-score: 0.33, ROC AUC: 0.70\n",
      "Repetição 16 NaiveBayes - Acurácia: 0.92, Precisão: 0.25, Recall: 0.46, F1-score: 0.32, ROC AUC: 0.70\n"
     ]
    },
    {
     "name": "stderr",
     "output_type": "stream",
     "text": [
      " 60%|██████    | 18/30 [00:02<00:01,  6.10it/s]"
     ]
    },
    {
     "name": "stdout",
     "output_type": "stream",
     "text": [
      "Repetição 17 NaiveBayes - Acurácia: 0.92, Precisão: 0.26, Recall: 0.50, F1-score: 0.34, ROC AUC: 0.72\n",
      "Repetição 18 NaiveBayes - Acurácia: 0.92, Precisão: 0.26, Recall: 0.47, F1-score: 0.33, ROC AUC: 0.70\n"
     ]
    },
    {
     "name": "stderr",
     "output_type": "stream",
     "text": [
      " 67%|██████▋   | 20/30 [00:03<00:01,  6.10it/s]"
     ]
    },
    {
     "name": "stdout",
     "output_type": "stream",
     "text": [
      "Repetição 19 NaiveBayes - Acurácia: 0.92, Precisão: 0.25, Recall: 0.47, F1-score: 0.32, ROC AUC: 0.70\n",
      "Repetição 20 NaiveBayes - Acurácia: 0.92, Precisão: 0.25, Recall: 0.46, F1-score: 0.32, ROC AUC: 0.70\n"
     ]
    },
    {
     "name": "stderr",
     "output_type": "stream",
     "text": [
      " 73%|███████▎  | 22/30 [00:03<00:01,  6.20it/s]"
     ]
    },
    {
     "name": "stdout",
     "output_type": "stream",
     "text": [
      "Repetição 21 NaiveBayes - Acurácia: 0.92, Precisão: 0.26, Recall: 0.47, F1-score: 0.33, ROC AUC: 0.71\n",
      "Repetição 22 NaiveBayes - Acurácia: 0.92, Precisão: 0.25, Recall: 0.47, F1-score: 0.32, ROC AUC: 0.70\n"
     ]
    },
    {
     "name": "stderr",
     "output_type": "stream",
     "text": [
      " 80%|████████  | 24/30 [00:03<00:00,  6.08it/s]"
     ]
    },
    {
     "name": "stdout",
     "output_type": "stream",
     "text": [
      "Repetição 23 NaiveBayes - Acurácia: 0.92, Precisão: 0.25, Recall: 0.48, F1-score: 0.33, ROC AUC: 0.71\n",
      "Repetição 24 NaiveBayes - Acurácia: 0.91, Precisão: 0.24, Recall: 0.47, F1-score: 0.32, ROC AUC: 0.70\n"
     ]
    },
    {
     "name": "stderr",
     "output_type": "stream",
     "text": [
      " 87%|████████▋ | 26/30 [00:04<00:00,  6.30it/s]"
     ]
    },
    {
     "name": "stdout",
     "output_type": "stream",
     "text": [
      "Repetição 25 NaiveBayes - Acurácia: 0.92, Precisão: 0.25, Recall: 0.45, F1-score: 0.32, ROC AUC: 0.70\n",
      "Repetição 26 NaiveBayes - Acurácia: 0.92, Precisão: 0.25, Recall: 0.47, F1-score: 0.33, ROC AUC: 0.71\n"
     ]
    },
    {
     "name": "stderr",
     "output_type": "stream",
     "text": [
      " 93%|█████████▎| 28/30 [00:04<00:00,  6.53it/s]"
     ]
    },
    {
     "name": "stdout",
     "output_type": "stream",
     "text": [
      "Repetição 27 NaiveBayes - Acurácia: 0.92, Precisão: 0.25, Recall: 0.48, F1-score: 0.33, ROC AUC: 0.71\n",
      "Repetição 28 NaiveBayes - Acurácia: 0.92, Precisão: 0.25, Recall: 0.46, F1-score: 0.32, ROC AUC: 0.70\n"
     ]
    },
    {
     "name": "stderr",
     "output_type": "stream",
     "text": [
      "100%|██████████| 30/30 [00:04<00:00,  6.21it/s]\n"
     ]
    },
    {
     "name": "stdout",
     "output_type": "stream",
     "text": [
      "Repetição 29 NaiveBayes - Acurácia: 0.92, Precisão: 0.24, Recall: 0.46, F1-score: 0.32, ROC AUC: 0.70\n",
      "Repetição 30 NaiveBayes - Acurácia: 0.91, Precisão: 0.24, Recall: 0.46, F1-score: 0.32, ROC AUC: 0.70\n",
      "Métricas salvas em E:/DrebinStudy/Unbalanced/Metrics\\NaiveBayes_metrics.csv\n"
     ]
    },
    {
     "name": "stderr",
     "output_type": "stream",
     "text": [
      "  3%|▎         | 1/30 [00:06<03:12,  6.65s/it]"
     ]
    },
    {
     "name": "stdout",
     "output_type": "stream",
     "text": [
      "Repetição 1 BaggingDecisionTree - Acurácia: 0.99, Precisão: 0.89, Recall: 0.81, F1-score: 0.85, ROC AUC: 0.90\n"
     ]
    },
    {
     "name": "stderr",
     "output_type": "stream",
     "text": [
      "  7%|▋         | 2/30 [00:13<03:02,  6.50s/it]"
     ]
    },
    {
     "name": "stdout",
     "output_type": "stream",
     "text": [
      "Repetição 2 BaggingDecisionTree - Acurácia: 0.99, Precisão: 0.91, Recall: 0.80, F1-score: 0.85, ROC AUC: 0.90\n"
     ]
    },
    {
     "name": "stderr",
     "output_type": "stream",
     "text": [
      " 10%|█         | 3/30 [00:19<02:50,  6.31s/it]"
     ]
    },
    {
     "name": "stdout",
     "output_type": "stream",
     "text": [
      "Repetição 3 BaggingDecisionTree - Acurácia: 0.99, Precisão: 0.88, Recall: 0.81, F1-score: 0.84, ROC AUC: 0.90\n"
     ]
    },
    {
     "name": "stderr",
     "output_type": "stream",
     "text": [
      " 13%|█▎        | 4/30 [00:26<02:57,  6.84s/it]"
     ]
    },
    {
     "name": "stdout",
     "output_type": "stream",
     "text": [
      "Repetição 4 BaggingDecisionTree - Acurácia: 0.99, Precisão: 0.91, Recall: 0.81, F1-score: 0.86, ROC AUC: 0.90\n"
     ]
    },
    {
     "name": "stderr",
     "output_type": "stream",
     "text": [
      " 17%|█▋        | 5/30 [00:35<03:10,  7.63s/it]"
     ]
    },
    {
     "name": "stdout",
     "output_type": "stream",
     "text": [
      "Repetição 5 BaggingDecisionTree - Acurácia: 0.99, Precisão: 0.90, Recall: 0.81, F1-score: 0.85, ROC AUC: 0.91\n"
     ]
    },
    {
     "name": "stderr",
     "output_type": "stream",
     "text": [
      " 20%|██        | 6/30 [00:42<02:58,  7.43s/it]"
     ]
    },
    {
     "name": "stdout",
     "output_type": "stream",
     "text": [
      "Repetição 6 BaggingDecisionTree - Acurácia: 0.99, Precisão: 0.90, Recall: 0.80, F1-score: 0.85, ROC AUC: 0.90\n"
     ]
    },
    {
     "name": "stderr",
     "output_type": "stream",
     "text": [
      " 23%|██▎       | 7/30 [00:49<02:46,  7.25s/it]"
     ]
    },
    {
     "name": "stdout",
     "output_type": "stream",
     "text": [
      "Repetição 7 BaggingDecisionTree - Acurácia: 0.99, Precisão: 0.90, Recall: 0.82, F1-score: 0.86, ROC AUC: 0.91\n"
     ]
    },
    {
     "name": "stderr",
     "output_type": "stream",
     "text": [
      " 27%|██▋       | 8/30 [00:55<02:31,  6.86s/it]"
     ]
    },
    {
     "name": "stdout",
     "output_type": "stream",
     "text": [
      "Repetição 8 BaggingDecisionTree - Acurácia: 0.99, Precisão: 0.90, Recall: 0.81, F1-score: 0.85, ROC AUC: 0.91\n"
     ]
    },
    {
     "name": "stderr",
     "output_type": "stream",
     "text": [
      " 30%|███       | 9/30 [01:03<02:28,  7.07s/it]"
     ]
    },
    {
     "name": "stdout",
     "output_type": "stream",
     "text": [
      "Repetição 9 BaggingDecisionTree - Acurácia: 0.99, Precisão: 0.92, Recall: 0.82, F1-score: 0.87, ROC AUC: 0.91\n"
     ]
    },
    {
     "name": "stderr",
     "output_type": "stream",
     "text": [
      " 33%|███▎      | 10/30 [01:12<02:33,  7.65s/it]"
     ]
    },
    {
     "name": "stdout",
     "output_type": "stream",
     "text": [
      "Repetição 10 BaggingDecisionTree - Acurácia: 0.99, Precisão: 0.91, Recall: 0.81, F1-score: 0.85, ROC AUC: 0.90\n"
     ]
    },
    {
     "name": "stderr",
     "output_type": "stream",
     "text": [
      " 37%|███▋      | 11/30 [01:20<02:26,  7.71s/it]"
     ]
    },
    {
     "name": "stdout",
     "output_type": "stream",
     "text": [
      "Repetição 11 BaggingDecisionTree - Acurácia: 0.99, Precisão: 0.89, Recall: 0.80, F1-score: 0.85, ROC AUC: 0.90\n"
     ]
    },
    {
     "name": "stderr",
     "output_type": "stream",
     "text": [
      " 40%|████      | 12/30 [01:26<02:13,  7.44s/it]"
     ]
    },
    {
     "name": "stdout",
     "output_type": "stream",
     "text": [
      "Repetição 12 BaggingDecisionTree - Acurácia: 0.99, Precisão: 0.91, Recall: 0.81, F1-score: 0.86, ROC AUC: 0.90\n"
     ]
    },
    {
     "name": "stderr",
     "output_type": "stream",
     "text": [
      " 43%|████▎     | 13/30 [01:33<01:59,  7.06s/it]"
     ]
    },
    {
     "name": "stdout",
     "output_type": "stream",
     "text": [
      "Repetição 13 BaggingDecisionTree - Acurácia: 0.99, Precisão: 0.90, Recall: 0.83, F1-score: 0.86, ROC AUC: 0.91\n"
     ]
    },
    {
     "name": "stderr",
     "output_type": "stream",
     "text": [
      " 47%|████▋     | 14/30 [01:39<01:51,  6.98s/it]"
     ]
    },
    {
     "name": "stdout",
     "output_type": "stream",
     "text": [
      "Repetição 14 BaggingDecisionTree - Acurácia: 0.99, Precisão: 0.90, Recall: 0.80, F1-score: 0.85, ROC AUC: 0.90\n"
     ]
    },
    {
     "name": "stderr",
     "output_type": "stream",
     "text": [
      " 50%|█████     | 15/30 [01:48<01:52,  7.51s/it]"
     ]
    },
    {
     "name": "stdout",
     "output_type": "stream",
     "text": [
      "Repetição 15 BaggingDecisionTree - Acurácia: 0.99, Precisão: 0.89, Recall: 0.81, F1-score: 0.85, ROC AUC: 0.90\n"
     ]
    },
    {
     "name": "stderr",
     "output_type": "stream",
     "text": [
      " 53%|█████▎    | 16/30 [01:57<01:48,  7.78s/it]"
     ]
    },
    {
     "name": "stdout",
     "output_type": "stream",
     "text": [
      "Repetição 16 BaggingDecisionTree - Acurácia: 0.99, Precisão: 0.90, Recall: 0.80, F1-score: 0.85, ROC AUC: 0.90\n"
     ]
    },
    {
     "name": "stderr",
     "output_type": "stream",
     "text": [
      " 57%|█████▋    | 17/30 [02:03<01:37,  7.53s/it]"
     ]
    },
    {
     "name": "stdout",
     "output_type": "stream",
     "text": [
      "Repetição 17 BaggingDecisionTree - Acurácia: 0.99, Precisão: 0.88, Recall: 0.81, F1-score: 0.85, ROC AUC: 0.90\n"
     ]
    },
    {
     "name": "stderr",
     "output_type": "stream",
     "text": [
      " 60%|██████    | 18/30 [02:10<01:25,  7.12s/it]"
     ]
    },
    {
     "name": "stdout",
     "output_type": "stream",
     "text": [
      "Repetição 18 BaggingDecisionTree - Acurácia: 0.99, Precisão: 0.90, Recall: 0.79, F1-score: 0.85, ROC AUC: 0.90\n"
     ]
    },
    {
     "name": "stderr",
     "output_type": "stream",
     "text": [
      " 63%|██████▎   | 19/30 [02:16<01:14,  6.79s/it]"
     ]
    },
    {
     "name": "stdout",
     "output_type": "stream",
     "text": [
      "Repetição 19 BaggingDecisionTree - Acurácia: 0.99, Precisão: 0.88, Recall: 0.80, F1-score: 0.83, ROC AUC: 0.90\n"
     ]
    },
    {
     "name": "stderr",
     "output_type": "stream",
     "text": [
      " 67%|██████▋   | 20/30 [02:24<01:13,  7.33s/it]"
     ]
    },
    {
     "name": "stdout",
     "output_type": "stream",
     "text": [
      "Repetição 20 BaggingDecisionTree - Acurácia: 0.99, Precisão: 0.89, Recall: 0.79, F1-score: 0.84, ROC AUC: 0.89\n"
     ]
    },
    {
     "name": "stderr",
     "output_type": "stream",
     "text": [
      " 70%|███████   | 21/30 [02:33<01:10,  7.87s/it]"
     ]
    },
    {
     "name": "stdout",
     "output_type": "stream",
     "text": [
      "Repetição 21 BaggingDecisionTree - Acurácia: 0.99, Precisão: 0.91, Recall: 0.80, F1-score: 0.85, ROC AUC: 0.90\n"
     ]
    },
    {
     "name": "stderr",
     "output_type": "stream",
     "text": [
      " 73%|███████▎  | 22/30 [02:40<00:59,  7.50s/it]"
     ]
    },
    {
     "name": "stdout",
     "output_type": "stream",
     "text": [
      "Repetição 22 BaggingDecisionTree - Acurácia: 0.99, Precisão: 0.89, Recall: 0.81, F1-score: 0.85, ROC AUC: 0.90\n"
     ]
    },
    {
     "name": "stderr",
     "output_type": "stream",
     "text": [
      " 77%|███████▋  | 23/30 [02:46<00:50,  7.16s/it]"
     ]
    },
    {
     "name": "stdout",
     "output_type": "stream",
     "text": [
      "Repetição 23 BaggingDecisionTree - Acurácia: 0.99, Precisão: 0.90, Recall: 0.79, F1-score: 0.85, ROC AUC: 0.90\n"
     ]
    },
    {
     "name": "stderr",
     "output_type": "stream",
     "text": [
      " 80%|████████  | 24/30 [02:53<00:41,  6.89s/it]"
     ]
    },
    {
     "name": "stdout",
     "output_type": "stream",
     "text": [
      "Repetição 24 BaggingDecisionTree - Acurácia: 0.99, Precisão: 0.90, Recall: 0.80, F1-score: 0.85, ROC AUC: 0.90\n"
     ]
    },
    {
     "name": "stderr",
     "output_type": "stream",
     "text": [
      " 83%|████████▎ | 25/30 [03:00<00:35,  7.13s/it]"
     ]
    },
    {
     "name": "stdout",
     "output_type": "stream",
     "text": [
      "Repetição 25 BaggingDecisionTree - Acurácia: 0.99, Precisão: 0.90, Recall: 0.82, F1-score: 0.86, ROC AUC: 0.91\n"
     ]
    },
    {
     "name": "stderr",
     "output_type": "stream",
     "text": [
      " 87%|████████▋ | 26/30 [03:09<00:30,  7.67s/it]"
     ]
    },
    {
     "name": "stdout",
     "output_type": "stream",
     "text": [
      "Repetição 26 BaggingDecisionTree - Acurácia: 0.99, Precisão: 0.89, Recall: 0.81, F1-score: 0.85, ROC AUC: 0.90\n"
     ]
    },
    {
     "name": "stderr",
     "output_type": "stream",
     "text": [
      " 90%|█████████ | 27/30 [03:16<00:22,  7.54s/it]"
     ]
    },
    {
     "name": "stdout",
     "output_type": "stream",
     "text": [
      "Repetição 27 BaggingDecisionTree - Acurácia: 0.99, Precisão: 0.91, Recall: 0.81, F1-score: 0.86, ROC AUC: 0.91\n"
     ]
    },
    {
     "name": "stderr",
     "output_type": "stream",
     "text": [
      " 93%|█████████▎| 28/30 [03:23<00:14,  7.29s/it]"
     ]
    },
    {
     "name": "stdout",
     "output_type": "stream",
     "text": [
      "Repetição 28 BaggingDecisionTree - Acurácia: 0.99, Precisão: 0.90, Recall: 0.82, F1-score: 0.86, ROC AUC: 0.91\n"
     ]
    },
    {
     "name": "stderr",
     "output_type": "stream",
     "text": [
      " 97%|█████████▋| 29/30 [03:29<00:06,  6.87s/it]"
     ]
    },
    {
     "name": "stdout",
     "output_type": "stream",
     "text": [
      "Repetição 29 BaggingDecisionTree - Acurácia: 0.99, Precisão: 0.91, Recall: 0.82, F1-score: 0.86, ROC AUC: 0.91\n"
     ]
    },
    {
     "name": "stderr",
     "output_type": "stream",
     "text": [
      "100%|██████████| 30/30 [03:36<00:00,  7.23s/it]\n"
     ]
    },
    {
     "name": "stdout",
     "output_type": "stream",
     "text": [
      "Repetição 30 BaggingDecisionTree - Acurácia: 0.99, Precisão: 0.91, Recall: 0.80, F1-score: 0.85, ROC AUC: 0.90\n",
      "Métricas salvas em E:/DrebinStudy/Unbalanced/Metrics\\BaggingDecisionTree_metrics.csv\n"
     ]
    },
    {
     "name": "stderr",
     "output_type": "stream",
     "text": [
      "  3%|▎         | 1/30 [00:01<00:48,  1.67s/it]"
     ]
    },
    {
     "name": "stdout",
     "output_type": "stream",
     "text": [
      "Repetição 1 BaggingNaiveBayes - Acurácia: 0.92, Precisão: 0.25, Recall: 0.46, F1-score: 0.32, ROC AUC: 0.70\n"
     ]
    },
    {
     "name": "stderr",
     "output_type": "stream",
     "text": [
      "  7%|▋         | 2/30 [00:03<00:47,  1.71s/it]"
     ]
    },
    {
     "name": "stdout",
     "output_type": "stream",
     "text": [
      "Repetição 2 BaggingNaiveBayes - Acurácia: 0.92, Precisão: 0.27, Recall: 0.50, F1-score: 0.35, ROC AUC: 0.72\n"
     ]
    },
    {
     "name": "stderr",
     "output_type": "stream",
     "text": [
      " 10%|█         | 3/30 [00:05<00:46,  1.73s/it]"
     ]
    },
    {
     "name": "stdout",
     "output_type": "stream",
     "text": [
      "Repetição 3 BaggingNaiveBayes - Acurácia: 0.92, Precisão: 0.26, Recall: 0.45, F1-score: 0.33, ROC AUC: 0.69\n"
     ]
    },
    {
     "name": "stderr",
     "output_type": "stream",
     "text": [
      " 13%|█▎        | 4/30 [00:07<00:46,  1.78s/it]"
     ]
    },
    {
     "name": "stdout",
     "output_type": "stream",
     "text": [
      "Repetição 4 BaggingNaiveBayes - Acurácia: 0.92, Precisão: 0.25, Recall: 0.48, F1-score: 0.33, ROC AUC: 0.71\n"
     ]
    },
    {
     "name": "stderr",
     "output_type": "stream",
     "text": [
      " 17%|█▋        | 5/30 [00:08<00:45,  1.81s/it]"
     ]
    },
    {
     "name": "stdout",
     "output_type": "stream",
     "text": [
      "Repetição 5 BaggingNaiveBayes - Acurácia: 0.92, Precisão: 0.25, Recall: 0.45, F1-score: 0.32, ROC AUC: 0.70\n"
     ]
    },
    {
     "name": "stderr",
     "output_type": "stream",
     "text": [
      " 20%|██        | 6/30 [00:10<00:43,  1.81s/it]"
     ]
    },
    {
     "name": "stdout",
     "output_type": "stream",
     "text": [
      "Repetição 6 BaggingNaiveBayes - Acurácia: 0.92, Precisão: 0.25, Recall: 0.47, F1-score: 0.32, ROC AUC: 0.70\n"
     ]
    },
    {
     "name": "stderr",
     "output_type": "stream",
     "text": [
      " 23%|██▎       | 7/30 [00:12<00:41,  1.82s/it]"
     ]
    },
    {
     "name": "stdout",
     "output_type": "stream",
     "text": [
      "Repetição 7 BaggingNaiveBayes - Acurácia: 0.92, Precisão: 0.26, Recall: 0.45, F1-score: 0.33, ROC AUC: 0.70\n"
     ]
    },
    {
     "name": "stderr",
     "output_type": "stream",
     "text": [
      " 27%|██▋       | 8/30 [00:14<00:38,  1.76s/it]"
     ]
    },
    {
     "name": "stdout",
     "output_type": "stream",
     "text": [
      "Repetição 8 BaggingNaiveBayes - Acurácia: 0.92, Precisão: 0.26, Recall: 0.46, F1-score: 0.33, ROC AUC: 0.70\n"
     ]
    },
    {
     "name": "stderr",
     "output_type": "stream",
     "text": [
      " 30%|███       | 9/30 [00:15<00:33,  1.62s/it]"
     ]
    },
    {
     "name": "stdout",
     "output_type": "stream",
     "text": [
      "Repetição 9 BaggingNaiveBayes - Acurácia: 0.92, Precisão: 0.24, Recall: 0.45, F1-score: 0.32, ROC AUC: 0.69\n"
     ]
    },
    {
     "name": "stderr",
     "output_type": "stream",
     "text": [
      " 33%|███▎      | 10/30 [00:16<00:30,  1.52s/it]"
     ]
    },
    {
     "name": "stdout",
     "output_type": "stream",
     "text": [
      "Repetição 10 BaggingNaiveBayes - Acurácia: 0.92, Precisão: 0.25, Recall: 0.45, F1-score: 0.32, ROC AUC: 0.69\n"
     ]
    },
    {
     "name": "stderr",
     "output_type": "stream",
     "text": [
      " 37%|███▋      | 11/30 [00:18<00:28,  1.48s/it]"
     ]
    },
    {
     "name": "stdout",
     "output_type": "stream",
     "text": [
      "Repetição 11 BaggingNaiveBayes - Acurácia: 0.92, Precisão: 0.27, Recall: 0.46, F1-score: 0.34, ROC AUC: 0.70\n"
     ]
    },
    {
     "name": "stderr",
     "output_type": "stream",
     "text": [
      " 40%|████      | 12/30 [00:19<00:26,  1.47s/it]"
     ]
    },
    {
     "name": "stdout",
     "output_type": "stream",
     "text": [
      "Repetição 12 BaggingNaiveBayes - Acurácia: 0.92, Precisão: 0.25, Recall: 0.46, F1-score: 0.32, ROC AUC: 0.70\n"
     ]
    },
    {
     "name": "stderr",
     "output_type": "stream",
     "text": [
      " 43%|████▎     | 13/30 [00:20<00:24,  1.42s/it]"
     ]
    },
    {
     "name": "stdout",
     "output_type": "stream",
     "text": [
      "Repetição 13 BaggingNaiveBayes - Acurácia: 0.92, Precisão: 0.26, Recall: 0.45, F1-score: 0.33, ROC AUC: 0.69\n"
     ]
    },
    {
     "name": "stderr",
     "output_type": "stream",
     "text": [
      " 47%|████▋     | 14/30 [00:22<00:22,  1.38s/it]"
     ]
    },
    {
     "name": "stdout",
     "output_type": "stream",
     "text": [
      "Repetição 14 BaggingNaiveBayes - Acurácia: 0.92, Precisão: 0.25, Recall: 0.45, F1-score: 0.32, ROC AUC: 0.69\n"
     ]
    },
    {
     "name": "stderr",
     "output_type": "stream",
     "text": [
      " 50%|█████     | 15/30 [00:23<00:21,  1.41s/it]"
     ]
    },
    {
     "name": "stdout",
     "output_type": "stream",
     "text": [
      "Repetição 15 BaggingNaiveBayes - Acurácia: 0.92, Precisão: 0.26, Recall: 0.49, F1-score: 0.34, ROC AUC: 0.71\n"
     ]
    },
    {
     "name": "stderr",
     "output_type": "stream",
     "text": [
      " 53%|█████▎    | 16/30 [00:25<00:19,  1.40s/it]"
     ]
    },
    {
     "name": "stdout",
     "output_type": "stream",
     "text": [
      "Repetição 16 BaggingNaiveBayes - Acurácia: 0.92, Precisão: 0.27, Recall: 0.46, F1-score: 0.34, ROC AUC: 0.70\n"
     ]
    },
    {
     "name": "stderr",
     "output_type": "stream",
     "text": [
      " 57%|█████▋    | 17/30 [00:26<00:17,  1.35s/it]"
     ]
    },
    {
     "name": "stdout",
     "output_type": "stream",
     "text": [
      "Repetição 17 BaggingNaiveBayes - Acurácia: 0.92, Precisão: 0.26, Recall: 0.45, F1-score: 0.33, ROC AUC: 0.70\n"
     ]
    },
    {
     "name": "stderr",
     "output_type": "stream",
     "text": [
      " 60%|██████    | 18/30 [00:27<00:15,  1.31s/it]"
     ]
    },
    {
     "name": "stdout",
     "output_type": "stream",
     "text": [
      "Repetição 18 BaggingNaiveBayes - Acurácia: 0.92, Precisão: 0.26, Recall: 0.49, F1-score: 0.34, ROC AUC: 0.71\n"
     ]
    },
    {
     "name": "stderr",
     "output_type": "stream",
     "text": [
      " 63%|██████▎   | 19/30 [00:28<00:14,  1.28s/it]"
     ]
    },
    {
     "name": "stdout",
     "output_type": "stream",
     "text": [
      "Repetição 19 BaggingNaiveBayes - Acurácia: 0.92, Precisão: 0.27, Recall: 0.47, F1-score: 0.34, ROC AUC: 0.71\n"
     ]
    },
    {
     "name": "stderr",
     "output_type": "stream",
     "text": [
      " 67%|██████▋   | 20/30 [00:29<00:12,  1.27s/it]"
     ]
    },
    {
     "name": "stdout",
     "output_type": "stream",
     "text": [
      "Repetição 20 BaggingNaiveBayes - Acurácia: 0.92, Precisão: 0.26, Recall: 0.50, F1-score: 0.35, ROC AUC: 0.72\n"
     ]
    },
    {
     "name": "stderr",
     "output_type": "stream",
     "text": [
      " 70%|███████   | 21/30 [00:31<00:11,  1.27s/it]"
     ]
    },
    {
     "name": "stdout",
     "output_type": "stream",
     "text": [
      "Repetição 21 BaggingNaiveBayes - Acurácia: 0.91, Precisão: 0.24, Recall: 0.44, F1-score: 0.31, ROC AUC: 0.69\n"
     ]
    },
    {
     "name": "stderr",
     "output_type": "stream",
     "text": [
      " 73%|███████▎  | 22/30 [00:32<00:10,  1.28s/it]"
     ]
    },
    {
     "name": "stdout",
     "output_type": "stream",
     "text": [
      "Repetição 22 BaggingNaiveBayes - Acurácia: 0.92, Precisão: 0.25, Recall: 0.48, F1-score: 0.33, ROC AUC: 0.71\n"
     ]
    },
    {
     "name": "stderr",
     "output_type": "stream",
     "text": [
      " 77%|███████▋  | 23/30 [00:33<00:09,  1.30s/it]"
     ]
    },
    {
     "name": "stdout",
     "output_type": "stream",
     "text": [
      "Repetição 23 BaggingNaiveBayes - Acurácia: 0.92, Precisão: 0.26, Recall: 0.46, F1-score: 0.33, ROC AUC: 0.70\n"
     ]
    },
    {
     "name": "stderr",
     "output_type": "stream",
     "text": [
      " 80%|████████  | 24/30 [00:35<00:07,  1.31s/it]"
     ]
    },
    {
     "name": "stdout",
     "output_type": "stream",
     "text": [
      "Repetição 24 BaggingNaiveBayes - Acurácia: 0.92, Precisão: 0.25, Recall: 0.47, F1-score: 0.33, ROC AUC: 0.70\n"
     ]
    },
    {
     "name": "stderr",
     "output_type": "stream",
     "text": [
      " 83%|████████▎ | 25/30 [00:36<00:07,  1.45s/it]"
     ]
    },
    {
     "name": "stdout",
     "output_type": "stream",
     "text": [
      "Repetição 25 BaggingNaiveBayes - Acurácia: 0.92, Precisão: 0.24, Recall: 0.45, F1-score: 0.32, ROC AUC: 0.69\n"
     ]
    },
    {
     "name": "stderr",
     "output_type": "stream",
     "text": [
      " 87%|████████▋ | 26/30 [00:38<00:06,  1.51s/it]"
     ]
    },
    {
     "name": "stdout",
     "output_type": "stream",
     "text": [
      "Repetição 26 BaggingNaiveBayes - Acurácia: 0.92, Precisão: 0.26, Recall: 0.48, F1-score: 0.34, ROC AUC: 0.71\n"
     ]
    },
    {
     "name": "stderr",
     "output_type": "stream",
     "text": [
      " 90%|█████████ | 27/30 [00:40<00:04,  1.56s/it]"
     ]
    },
    {
     "name": "stdout",
     "output_type": "stream",
     "text": [
      "Repetição 27 BaggingNaiveBayes - Acurácia: 0.91, Precisão: 0.24, Recall: 0.46, F1-score: 0.32, ROC AUC: 0.70\n"
     ]
    },
    {
     "name": "stderr",
     "output_type": "stream",
     "text": [
      " 93%|█████████▎| 28/30 [00:42<00:03,  1.61s/it]"
     ]
    },
    {
     "name": "stdout",
     "output_type": "stream",
     "text": [
      "Repetição 28 BaggingNaiveBayes - Acurácia: 0.92, Precisão: 0.25, Recall: 0.47, F1-score: 0.33, ROC AUC: 0.71\n"
     ]
    },
    {
     "name": "stderr",
     "output_type": "stream",
     "text": [
      " 97%|█████████▋| 29/30 [00:43<00:01,  1.65s/it]"
     ]
    },
    {
     "name": "stdout",
     "output_type": "stream",
     "text": [
      "Repetição 29 BaggingNaiveBayes - Acurácia: 0.92, Precisão: 0.25, Recall: 0.47, F1-score: 0.32, ROC AUC: 0.70\n"
     ]
    },
    {
     "name": "stderr",
     "output_type": "stream",
     "text": [
      "100%|██████████| 30/30 [00:45<00:00,  1.52s/it]\n"
     ]
    },
    {
     "name": "stdout",
     "output_type": "stream",
     "text": [
      "Repetição 30 BaggingNaiveBayes - Acurácia: 0.92, Precisão: 0.25, Recall: 0.47, F1-score: 0.33, ROC AUC: 0.70\n",
      "Métricas salvas em E:/DrebinStudy/Unbalanced/Metrics\\BaggingNaiveBayes_metrics.csv\n"
     ]
    },
    {
     "name": "stderr",
     "output_type": "stream",
     "text": [
      "  3%|▎         | 1/30 [01:59<57:33, 119.09s/it]"
     ]
    },
    {
     "name": "stdout",
     "output_type": "stream",
     "text": [
      "Repetição 1 BaggingKnn - Acurácia: 0.98, Precisão: 0.84, Recall: 0.75, F1-score: 0.79, ROC AUC: 0.87\n"
     ]
    },
    {
     "name": "stderr",
     "output_type": "stream",
     "text": [
      "  7%|▋         | 2/30 [03:58<55:46, 119.52s/it]"
     ]
    },
    {
     "name": "stdout",
     "output_type": "stream",
     "text": [
      "Repetição 2 BaggingKnn - Acurácia: 0.98, Precisão: 0.83, Recall: 0.73, F1-score: 0.78, ROC AUC: 0.86\n"
     ]
    },
    {
     "name": "stderr",
     "output_type": "stream",
     "text": [
      " 10%|█         | 3/30 [05:43<50:45, 112.79s/it]"
     ]
    },
    {
     "name": "stdout",
     "output_type": "stream",
     "text": [
      "Repetição 3 BaggingKnn - Acurácia: 0.98, Precisão: 0.84, Recall: 0.75, F1-score: 0.79, ROC AUC: 0.87\n"
     ]
    },
    {
     "name": "stderr",
     "output_type": "stream",
     "text": [
      " 13%|█▎        | 4/30 [06:55<41:49, 96.53s/it] "
     ]
    },
    {
     "name": "stdout",
     "output_type": "stream",
     "text": [
      "Repetição 4 BaggingKnn - Acurácia: 0.98, Precisão: 0.82, Recall: 0.75, F1-score: 0.79, ROC AUC: 0.87\n"
     ]
    },
    {
     "name": "stderr",
     "output_type": "stream",
     "text": [
      " 17%|█▋        | 5/30 [08:08<36:43, 88.15s/it]"
     ]
    },
    {
     "name": "stdout",
     "output_type": "stream",
     "text": [
      "Repetição 5 BaggingKnn - Acurácia: 0.98, Precisão: 0.83, Recall: 0.72, F1-score: 0.78, ROC AUC: 0.86\n"
     ]
    },
    {
     "name": "stderr",
     "output_type": "stream",
     "text": [
      " 20%|██        | 6/30 [09:22<33:18, 83.26s/it]"
     ]
    },
    {
     "name": "stdout",
     "output_type": "stream",
     "text": [
      "Repetição 6 BaggingKnn - Acurácia: 0.98, Precisão: 0.82, Recall: 0.72, F1-score: 0.77, ROC AUC: 0.86\n"
     ]
    },
    {
     "name": "stderr",
     "output_type": "stream",
     "text": [
      " 23%|██▎       | 7/30 [10:38<30:59, 80.83s/it]"
     ]
    },
    {
     "name": "stdout",
     "output_type": "stream",
     "text": [
      "Repetição 7 BaggingKnn - Acurácia: 0.98, Precisão: 0.84, Recall: 0.73, F1-score: 0.78, ROC AUC: 0.86\n"
     ]
    },
    {
     "name": "stderr",
     "output_type": "stream",
     "text": [
      " 27%|██▋       | 8/30 [11:52<28:52, 78.76s/it]"
     ]
    },
    {
     "name": "stdout",
     "output_type": "stream",
     "text": [
      "Repetição 8 BaggingKnn - Acurácia: 0.98, Precisão: 0.83, Recall: 0.75, F1-score: 0.79, ROC AUC: 0.87\n"
     ]
    },
    {
     "name": "stderr",
     "output_type": "stream",
     "text": [
      " 30%|███       | 9/30 [13:06<27:03, 77.31s/it]"
     ]
    },
    {
     "name": "stdout",
     "output_type": "stream",
     "text": [
      "Repetição 9 BaggingKnn - Acurácia: 0.98, Precisão: 0.85, Recall: 0.76, F1-score: 0.80, ROC AUC: 0.88\n"
     ]
    },
    {
     "name": "stderr",
     "output_type": "stream",
     "text": [
      " 33%|███▎      | 10/30 [14:20<25:24, 76.24s/it]"
     ]
    },
    {
     "name": "stdout",
     "output_type": "stream",
     "text": [
      "Repetição 10 BaggingKnn - Acurácia: 0.98, Precisão: 0.83, Recall: 0.76, F1-score: 0.79, ROC AUC: 0.88\n"
     ]
    },
    {
     "name": "stderr",
     "output_type": "stream",
     "text": [
      " 37%|███▋      | 11/30 [16:02<26:35, 83.99s/it]"
     ]
    },
    {
     "name": "stdout",
     "output_type": "stream",
     "text": [
      "Repetição 11 BaggingKnn - Acurácia: 0.98, Precisão: 0.81, Recall: 0.76, F1-score: 0.78, ROC AUC: 0.88\n"
     ]
    },
    {
     "name": "stderr",
     "output_type": "stream",
     "text": [
      " 40%|████      | 12/30 [17:45<26:56, 89.81s/it]"
     ]
    },
    {
     "name": "stdout",
     "output_type": "stream",
     "text": [
      "Repetição 12 BaggingKnn - Acurácia: 0.98, Precisão: 0.82, Recall: 0.74, F1-score: 0.78, ROC AUC: 0.87\n"
     ]
    },
    {
     "name": "stderr",
     "output_type": "stream",
     "text": [
      " 43%|████▎     | 13/30 [19:26<26:25, 93.27s/it]"
     ]
    },
    {
     "name": "stdout",
     "output_type": "stream",
     "text": [
      "Repetição 13 BaggingKnn - Acurácia: 0.98, Precisão: 0.80, Recall: 0.75, F1-score: 0.77, ROC AUC: 0.87\n"
     ]
    },
    {
     "name": "stderr",
     "output_type": "stream",
     "text": [
      " 47%|████▋     | 14/30 [21:08<25:35, 95.99s/it]"
     ]
    },
    {
     "name": "stdout",
     "output_type": "stream",
     "text": [
      "Repetição 14 BaggingKnn - Acurácia: 0.98, Precisão: 0.82, Recall: 0.73, F1-score: 0.77, ROC AUC: 0.86\n"
     ]
    },
    {
     "name": "stderr",
     "output_type": "stream",
     "text": [
      " 50%|█████     | 15/30 [22:49<24:22, 97.47s/it]"
     ]
    },
    {
     "name": "stdout",
     "output_type": "stream",
     "text": [
      "Repetição 15 BaggingKnn - Acurácia: 0.98, Precisão: 0.81, Recall: 0.75, F1-score: 0.78, ROC AUC: 0.87\n"
     ]
    },
    {
     "name": "stderr",
     "output_type": "stream",
     "text": [
      " 53%|█████▎    | 16/30 [24:30<23:00, 98.57s/it]"
     ]
    },
    {
     "name": "stdout",
     "output_type": "stream",
     "text": [
      "Repetição 16 BaggingKnn - Acurácia: 0.98, Precisão: 0.82, Recall: 0.75, F1-score: 0.78, ROC AUC: 0.87\n"
     ]
    },
    {
     "name": "stderr",
     "output_type": "stream",
     "text": [
      " 57%|█████▋    | 17/30 [26:12<21:34, 99.55s/it]"
     ]
    },
    {
     "name": "stdout",
     "output_type": "stream",
     "text": [
      "Repetição 17 BaggingKnn - Acurácia: 0.98, Precisão: 0.83, Recall: 0.72, F1-score: 0.77, ROC AUC: 0.86\n"
     ]
    },
    {
     "name": "stderr",
     "output_type": "stream",
     "text": [
      " 60%|██████    | 18/30 [27:58<20:16, 101.36s/it]"
     ]
    },
    {
     "name": "stdout",
     "output_type": "stream",
     "text": [
      "Repetição 18 BaggingKnn - Acurácia: 0.98, Precisão: 0.82, Recall: 0.73, F1-score: 0.77, ROC AUC: 0.86\n"
     ]
    },
    {
     "name": "stderr",
     "output_type": "stream",
     "text": [
      " 63%|██████▎   | 19/30 [29:40<18:39, 101.75s/it]"
     ]
    },
    {
     "name": "stdout",
     "output_type": "stream",
     "text": [
      "Repetição 19 BaggingKnn - Acurácia: 0.98, Precisão: 0.82, Recall: 0.74, F1-score: 0.78, ROC AUC: 0.87\n"
     ]
    },
    {
     "name": "stderr",
     "output_type": "stream",
     "text": [
      " 67%|██████▋   | 20/30 [31:25<17:06, 102.60s/it]"
     ]
    },
    {
     "name": "stdout",
     "output_type": "stream",
     "text": [
      "Repetição 20 BaggingKnn - Acurácia: 0.98, Precisão: 0.82, Recall: 0.74, F1-score: 0.78, ROC AUC: 0.87\n"
     ]
    },
    {
     "name": "stderr",
     "output_type": "stream",
     "text": [
      " 70%|███████   | 21/30 [33:07<15:22, 102.45s/it]"
     ]
    },
    {
     "name": "stdout",
     "output_type": "stream",
     "text": [
      "Repetição 21 BaggingKnn - Acurácia: 0.98, Precisão: 0.83, Recall: 0.74, F1-score: 0.78, ROC AUC: 0.87\n"
     ]
    },
    {
     "name": "stderr",
     "output_type": "stream",
     "text": [
      " 73%|███████▎  | 22/30 [34:52<13:45, 103.25s/it]"
     ]
    },
    {
     "name": "stdout",
     "output_type": "stream",
     "text": [
      "Repetição 22 BaggingKnn - Acurácia: 0.98, Precisão: 0.83, Recall: 0.73, F1-score: 0.78, ROC AUC: 0.86\n"
     ]
    },
    {
     "name": "stderr",
     "output_type": "stream",
     "text": [
      " 77%|███████▋  | 23/30 [36:15<11:19, 97.01s/it] "
     ]
    },
    {
     "name": "stdout",
     "output_type": "stream",
     "text": [
      "Repetição 23 BaggingKnn - Acurácia: 0.98, Precisão: 0.81, Recall: 0.73, F1-score: 0.77, ROC AUC: 0.86\n"
     ]
    },
    {
     "name": "stderr",
     "output_type": "stream",
     "text": [
      " 80%|████████  | 24/30 [37:39<09:19, 93.33s/it]"
     ]
    },
    {
     "name": "stdout",
     "output_type": "stream",
     "text": [
      "Repetição 24 BaggingKnn - Acurácia: 0.98, Precisão: 0.80, Recall: 0.74, F1-score: 0.77, ROC AUC: 0.86\n"
     ]
    },
    {
     "name": "stderr",
     "output_type": "stream",
     "text": [
      " 83%|████████▎ | 25/30 [39:05<07:35, 91.13s/it]"
     ]
    },
    {
     "name": "stdout",
     "output_type": "stream",
     "text": [
      "Repetição 25 BaggingKnn - Acurácia: 0.98, Precisão: 0.83, Recall: 0.73, F1-score: 0.77, ROC AUC: 0.86\n"
     ]
    },
    {
     "name": "stderr",
     "output_type": "stream",
     "text": [
      " 87%|████████▋ | 26/30 [40:30<05:56, 89.09s/it]"
     ]
    },
    {
     "name": "stdout",
     "output_type": "stream",
     "text": [
      "Repetição 26 BaggingKnn - Acurácia: 0.98, Precisão: 0.81, Recall: 0.74, F1-score: 0.77, ROC AUC: 0.87\n"
     ]
    },
    {
     "name": "stderr",
     "output_type": "stream",
     "text": [
      " 90%|█████████ | 27/30 [41:54<04:23, 87.68s/it]"
     ]
    },
    {
     "name": "stdout",
     "output_type": "stream",
     "text": [
      "Repetição 27 BaggingKnn - Acurácia: 0.98, Precisão: 0.82, Recall: 0.70, F1-score: 0.76, ROC AUC: 0.85\n"
     ]
    },
    {
     "name": "stderr",
     "output_type": "stream",
     "text": [
      " 93%|█████████▎| 28/30 [43:19<02:54, 87.02s/it]"
     ]
    },
    {
     "name": "stdout",
     "output_type": "stream",
     "text": [
      "Repetição 28 BaggingKnn - Acurácia: 0.98, Precisão: 0.81, Recall: 0.74, F1-score: 0.77, ROC AUC: 0.86\n"
     ]
    },
    {
     "name": "stderr",
     "output_type": "stream",
     "text": [
      " 97%|█████████▋| 29/30 [45:02<01:31, 91.55s/it]"
     ]
    },
    {
     "name": "stdout",
     "output_type": "stream",
     "text": [
      "Repetição 29 BaggingKnn - Acurácia: 0.98, Precisão: 0.81, Recall: 0.74, F1-score: 0.77, ROC AUC: 0.87\n"
     ]
    },
    {
     "name": "stderr",
     "output_type": "stream",
     "text": [
      "100%|██████████| 30/30 [46:38<00:00, 93.28s/it]\n"
     ]
    },
    {
     "name": "stdout",
     "output_type": "stream",
     "text": [
      "Repetição 30 BaggingKnn - Acurácia: 0.98, Precisão: 0.82, Recall: 0.76, F1-score: 0.79, ROC AUC: 0.87\n",
      "Métricas salvas em E:/DrebinStudy/Unbalanced/Metrics\\BaggingKnn_metrics.csv\n"
     ]
    },
    {
     "name": "stderr",
     "output_type": "stream",
     "text": [
      "  3%|▎         | 1/30 [28:39<13:51:12, 1719.75s/it]"
     ]
    },
    {
     "name": "stdout",
     "output_type": "stream",
     "text": [
      "Repetição 1 BaggingMLP - Acurácia: 0.98, Precisão: 0.85, Recall: 0.63, F1-score: 0.73, ROC AUC: 0.81\n"
     ]
    },
    {
     "name": "stderr",
     "output_type": "stream",
     "text": [
      "  7%|▋         | 2/30 [52:25<12:01:52, 1546.86s/it]"
     ]
    },
    {
     "name": "stdout",
     "output_type": "stream",
     "text": [
      "Repetição 2 BaggingMLP - Acurácia: 0.98, Precisão: 0.85, Recall: 0.60, F1-score: 0.70, ROC AUC: 0.80\n"
     ]
    },
    {
     "name": "stderr",
     "output_type": "stream",
     "text": [
      " 10%|█         | 3/30 [1:18:11<11:35:47, 1546.20s/it]"
     ]
    },
    {
     "name": "stdout",
     "output_type": "stream",
     "text": [
      "Repetição 3 BaggingMLP - Acurácia: 0.98, Precisão: 0.85, Recall: 0.62, F1-score: 0.71, ROC AUC: 0.81\n"
     ]
    },
    {
     "name": "stderr",
     "output_type": "stream",
     "text": [
      " 13%|█▎        | 4/30 [1:47:09<11:42:52, 1622.03s/it]"
     ]
    },
    {
     "name": "stdout",
     "output_type": "stream",
     "text": [
      "Repetição 4 BaggingMLP - Acurácia: 0.98, Precisão: 0.86, Recall: 0.62, F1-score: 0.72, ROC AUC: 0.81\n"
     ]
    },
    {
     "name": "stderr",
     "output_type": "stream",
     "text": [
      " 17%|█▋        | 5/30 [2:18:42<11:56:31, 1719.68s/it]"
     ]
    },
    {
     "name": "stdout",
     "output_type": "stream",
     "text": [
      "Repetição 5 BaggingMLP - Acurácia: 0.98, Precisão: 0.84, Recall: 0.61, F1-score: 0.71, ROC AUC: 0.80\n"
     ]
    },
    {
     "name": "stderr",
     "output_type": "stream",
     "text": [
      " 20%|██        | 6/30 [2:51:21<12:00:32, 1801.35s/it]"
     ]
    },
    {
     "name": "stdout",
     "output_type": "stream",
     "text": [
      "Repetição 6 BaggingMLP - Acurácia: 0.98, Precisão: 0.86, Recall: 0.61, F1-score: 0.71, ROC AUC: 0.80\n"
     ]
    },
    {
     "name": "stderr",
     "output_type": "stream",
     "text": [
      " 23%|██▎       | 7/30 [3:22:47<11:41:05, 1828.95s/it]"
     ]
    },
    {
     "name": "stdout",
     "output_type": "stream",
     "text": [
      "Repetição 7 BaggingMLP - Acurácia: 0.98, Precisão: 0.87, Recall: 0.61, F1-score: 0.72, ROC AUC: 0.80\n"
     ]
    },
    {
     "name": "stderr",
     "output_type": "stream",
     "text": [
      " 27%|██▋       | 8/30 [3:59:25<11:53:43, 1946.51s/it]"
     ]
    },
    {
     "name": "stdout",
     "output_type": "stream",
     "text": [
      "Repetição 8 BaggingMLP - Acurácia: 0.98, Precisão: 0.86, Recall: 0.61, F1-score: 0.71, ROC AUC: 0.80\n"
     ]
    },
    {
     "name": "stderr",
     "output_type": "stream",
     "text": [
      " 30%|███       | 9/30 [4:28:06<10:56:34, 1875.91s/it]"
     ]
    },
    {
     "name": "stdout",
     "output_type": "stream",
     "text": [
      "Repetição 9 BaggingMLP - Acurácia: 0.98, Precisão: 0.85, Recall: 0.60, F1-score: 0.71, ROC AUC: 0.80\n"
     ]
    },
    {
     "name": "stderr",
     "output_type": "stream",
     "text": [
      " 33%|███▎      | 10/30 [5:00:38<10:33:05, 1899.29s/it]"
     ]
    },
    {
     "name": "stdout",
     "output_type": "stream",
     "text": [
      "Repetição 10 BaggingMLP - Acurácia: 0.98, Precisão: 0.84, Recall: 0.60, F1-score: 0.70, ROC AUC: 0.80\n"
     ]
    },
    {
     "name": "stderr",
     "output_type": "stream",
     "text": [
      " 37%|███▋      | 11/30 [5:30:58<9:53:44, 1874.99s/it] "
     ]
    },
    {
     "name": "stdout",
     "output_type": "stream",
     "text": [
      "Repetição 11 BaggingMLP - Acurácia: 0.98, Precisão: 0.84, Recall: 0.59, F1-score: 0.69, ROC AUC: 0.79\n"
     ]
    },
    {
     "name": "stderr",
     "output_type": "stream",
     "text": [
      " 40%|████      | 12/30 [5:57:43<8:57:52, 1792.93s/it]"
     ]
    },
    {
     "name": "stdout",
     "output_type": "stream",
     "text": [
      "Repetição 12 BaggingMLP - Acurácia: 0.98, Precisão: 0.85, Recall: 0.61, F1-score: 0.71, ROC AUC: 0.80\n"
     ]
    },
    {
     "name": "stderr",
     "output_type": "stream",
     "text": [
      " 43%|████▎     | 13/30 [6:23:16<8:05:41, 1714.20s/it]"
     ]
    },
    {
     "name": "stdout",
     "output_type": "stream",
     "text": [
      "Repetição 13 BaggingMLP - Acurácia: 0.98, Precisão: 0.82, Recall: 0.62, F1-score: 0.71, ROC AUC: 0.81\n"
     ]
    },
    {
     "name": "stderr",
     "output_type": "stream",
     "text": [
      " 47%|████▋     | 14/30 [6:51:51<7:37:08, 1714.31s/it]"
     ]
    },
    {
     "name": "stdout",
     "output_type": "stream",
     "text": [
      "Repetição 14 BaggingMLP - Acurácia: 0.98, Precisão: 0.86, Recall: 0.63, F1-score: 0.73, ROC AUC: 0.81\n"
     ]
    },
    {
     "name": "stderr",
     "output_type": "stream",
     "text": [
      " 50%|█████     | 15/30 [7:19:44<7:05:30, 1702.02s/it]"
     ]
    },
    {
     "name": "stdout",
     "output_type": "stream",
     "text": [
      "Repetição 15 BaggingMLP - Acurácia: 0.98, Precisão: 0.86, Recall: 0.63, F1-score: 0.73, ROC AUC: 0.81\n"
     ]
    },
    {
     "name": "stderr",
     "output_type": "stream",
     "text": [
      " 53%|█████▎    | 16/30 [7:47:26<6:34:20, 1690.02s/it]"
     ]
    },
    {
     "name": "stdout",
     "output_type": "stream",
     "text": [
      "Repetição 16 BaggingMLP - Acurácia: 0.98, Precisão: 0.86, Recall: 0.58, F1-score: 0.69, ROC AUC: 0.79\n"
     ]
    },
    {
     "name": "stderr",
     "output_type": "stream",
     "text": [
      " 57%|█████▋    | 17/30 [8:15:15<6:04:47, 1683.65s/it]"
     ]
    },
    {
     "name": "stdout",
     "output_type": "stream",
     "text": [
      "Repetição 17 BaggingMLP - Acurácia: 0.98, Precisão: 0.85, Recall: 0.60, F1-score: 0.70, ROC AUC: 0.80\n"
     ]
    },
    {
     "name": "stderr",
     "output_type": "stream",
     "text": [
      " 60%|██████    | 18/30 [8:41:02<5:28:29, 1642.46s/it]"
     ]
    },
    {
     "name": "stdout",
     "output_type": "stream",
     "text": [
      "Repetição 18 BaggingMLP - Acurácia: 0.98, Precisão: 0.86, Recall: 0.61, F1-score: 0.71, ROC AUC: 0.80\n"
     ]
    },
    {
     "name": "stderr",
     "output_type": "stream",
     "text": [
      " 63%|██████▎   | 19/30 [9:05:29<4:51:29, 1589.98s/it]"
     ]
    },
    {
     "name": "stdout",
     "output_type": "stream",
     "text": [
      "Repetição 19 BaggingMLP - Acurácia: 0.98, Precisão: 0.84, Recall: 0.62, F1-score: 0.71, ROC AUC: 0.81\n"
     ]
    },
    {
     "name": "stderr",
     "output_type": "stream",
     "text": [
      " 67%|██████▋   | 20/30 [9:32:06<4:25:20, 1592.03s/it]"
     ]
    },
    {
     "name": "stdout",
     "output_type": "stream",
     "text": [
      "Repetição 20 BaggingMLP - Acurácia: 0.98, Precisão: 0.87, Recall: 0.61, F1-score: 0.72, ROC AUC: 0.80\n"
     ]
    },
    {
     "name": "stderr",
     "output_type": "stream",
     "text": [
      " 70%|███████   | 21/30 [9:58:09<3:57:28, 1583.20s/it]"
     ]
    },
    {
     "name": "stdout",
     "output_type": "stream",
     "text": [
      "Repetição 21 BaggingMLP - Acurácia: 0.98, Precisão: 0.83, Recall: 0.63, F1-score: 0.72, ROC AUC: 0.81\n"
     ]
    },
    {
     "name": "stderr",
     "output_type": "stream",
     "text": [
      " 73%|███████▎  | 22/30 [10:27:08<3:37:19, 1629.88s/it]"
     ]
    },
    {
     "name": "stdout",
     "output_type": "stream",
     "text": [
      "Repetição 22 BaggingMLP - Acurácia: 0.98, Precisão: 0.88, Recall: 0.65, F1-score: 0.75, ROC AUC: 0.82\n"
     ]
    },
    {
     "name": "stderr",
     "output_type": "stream",
     "text": [
      " 77%|███████▋  | 23/30 [10:54:00<3:09:31, 1624.54s/it]"
     ]
    },
    {
     "name": "stdout",
     "output_type": "stream",
     "text": [
      "Repetição 23 BaggingMLP - Acurácia: 0.98, Precisão: 0.87, Recall: 0.54, F1-score: 0.67, ROC AUC: 0.77\n"
     ]
    },
    {
     "name": "stderr",
     "output_type": "stream",
     "text": [
      " 80%|████████  | 24/30 [11:20:07<2:40:44, 1607.36s/it]"
     ]
    },
    {
     "name": "stdout",
     "output_type": "stream",
     "text": [
      "Repetição 24 BaggingMLP - Acurácia: 0.98, Precisão: 0.86, Recall: 0.58, F1-score: 0.69, ROC AUC: 0.79\n"
     ]
    },
    {
     "name": "stderr",
     "output_type": "stream",
     "text": [
      " 83%|████████▎ | 25/30 [11:44:59<2:11:04, 1572.87s/it]"
     ]
    },
    {
     "name": "stdout",
     "output_type": "stream",
     "text": [
      "Repetição 25 BaggingMLP - Acurácia: 0.98, Precisão: 0.85, Recall: 0.59, F1-score: 0.70, ROC AUC: 0.79\n"
     ]
    },
    {
     "name": "stderr",
     "output_type": "stream",
     "text": [
      " 87%|████████▋ | 26/30 [12:11:09<1:44:47, 1571.81s/it]"
     ]
    },
    {
     "name": "stdout",
     "output_type": "stream",
     "text": [
      "Repetição 26 BaggingMLP - Acurácia: 0.98, Precisão: 0.84, Recall: 0.66, F1-score: 0.74, ROC AUC: 0.83\n"
     ]
    },
    {
     "name": "stderr",
     "output_type": "stream",
     "text": [
      " 90%|█████████ | 27/30 [12:37:32<1:18:45, 1575.32s/it]"
     ]
    },
    {
     "name": "stdout",
     "output_type": "stream",
     "text": [
      "Repetição 27 BaggingMLP - Acurácia: 0.98, Precisão: 0.87, Recall: 0.61, F1-score: 0.71, ROC AUC: 0.80\n"
     ]
    },
    {
     "name": "stderr",
     "output_type": "stream",
     "text": [
      " 93%|█████████▎| 28/30 [13:00:55<50:47, 1523.70s/it]  "
     ]
    },
    {
     "name": "stdout",
     "output_type": "stream",
     "text": [
      "Repetição 28 BaggingMLP - Acurácia: 0.98, Precisão: 0.85, Recall: 0.60, F1-score: 0.70, ROC AUC: 0.80\n"
     ]
    },
    {
     "name": "stderr",
     "output_type": "stream",
     "text": [
      " 97%|█████████▋| 29/30 [13:26:07<25:19, 1519.96s/it]"
     ]
    },
    {
     "name": "stdout",
     "output_type": "stream",
     "text": [
      "Repetição 29 BaggingMLP - Acurácia: 0.98, Precisão: 0.84, Recall: 0.61, F1-score: 0.71, ROC AUC: 0.80\n"
     ]
    },
    {
     "name": "stderr",
     "output_type": "stream",
     "text": [
      "100%|██████████| 30/30 [13:52:14<00:00, 1664.49s/it]\n"
     ]
    },
    {
     "name": "stdout",
     "output_type": "stream",
     "text": [
      "Repetição 30 BaggingMLP - Acurácia: 0.98, Precisão: 0.87, Recall: 0.60, F1-score: 0.71, ROC AUC: 0.80\n",
      "Métricas salvas em E:/DrebinStudy/Unbalanced/Metrics\\BaggingMLP_metrics.csv\n"
     ]
    },
    {
     "name": "stderr",
     "output_type": "stream",
     "text": [
      "  3%|▎         | 1/30 [00:06<03:03,  6.34s/it]"
     ]
    },
    {
     "name": "stdout",
     "output_type": "stream",
     "text": [
      "Repetição 1 GradientBoostedDecisionTree - Acurácia: 0.97, Precisão: 0.86, Recall: 0.48, F1-score: 0.62, ROC AUC: 0.74\n"
     ]
    },
    {
     "name": "stderr",
     "output_type": "stream",
     "text": [
      "  7%|▋         | 2/30 [00:12<02:56,  6.31s/it]"
     ]
    },
    {
     "name": "stdout",
     "output_type": "stream",
     "text": [
      "Repetição 2 GradientBoostedDecisionTree - Acurácia: 0.97, Precisão: 0.85, Recall: 0.46, F1-score: 0.60, ROC AUC: 0.73\n"
     ]
    },
    {
     "name": "stderr",
     "output_type": "stream",
     "text": [
      " 10%|█         | 3/30 [00:19<02:52,  6.37s/it]"
     ]
    },
    {
     "name": "stdout",
     "output_type": "stream",
     "text": [
      "Repetição 3 GradientBoostedDecisionTree - Acurácia: 0.97, Precisão: 0.83, Recall: 0.45, F1-score: 0.59, ROC AUC: 0.72\n"
     ]
    },
    {
     "name": "stderr",
     "output_type": "stream",
     "text": [
      " 13%|█▎        | 4/30 [00:25<02:44,  6.34s/it]"
     ]
    },
    {
     "name": "stdout",
     "output_type": "stream",
     "text": [
      "Repetição 4 GradientBoostedDecisionTree - Acurácia: 0.97, Precisão: 0.84, Recall: 0.49, F1-score: 0.62, ROC AUC: 0.74\n"
     ]
    },
    {
     "name": "stderr",
     "output_type": "stream",
     "text": [
      " 17%|█▋        | 5/30 [00:31<02:37,  6.28s/it]"
     ]
    },
    {
     "name": "stdout",
     "output_type": "stream",
     "text": [
      "Repetição 5 GradientBoostedDecisionTree - Acurácia: 0.97, Precisão: 0.84, Recall: 0.44, F1-score: 0.58, ROC AUC: 0.72\n"
     ]
    },
    {
     "name": "stderr",
     "output_type": "stream",
     "text": [
      " 20%|██        | 6/30 [00:37<02:30,  6.28s/it]"
     ]
    },
    {
     "name": "stdout",
     "output_type": "stream",
     "text": [
      "Repetição 6 GradientBoostedDecisionTree - Acurácia: 0.97, Precisão: 0.84, Recall: 0.49, F1-score: 0.62, ROC AUC: 0.75\n"
     ]
    },
    {
     "name": "stderr",
     "output_type": "stream",
     "text": [
      " 23%|██▎       | 7/30 [00:44<02:23,  6.25s/it]"
     ]
    },
    {
     "name": "stdout",
     "output_type": "stream",
     "text": [
      "Repetição 7 GradientBoostedDecisionTree - Acurácia: 0.98, Precisão: 0.87, Recall: 0.49, F1-score: 0.63, ROC AUC: 0.74\n"
     ]
    },
    {
     "name": "stderr",
     "output_type": "stream",
     "text": [
      " 27%|██▋       | 8/30 [00:50<02:17,  6.27s/it]"
     ]
    },
    {
     "name": "stdout",
     "output_type": "stream",
     "text": [
      "Repetição 8 GradientBoostedDecisionTree - Acurácia: 0.97, Precisão: 0.85, Recall: 0.47, F1-score: 0.61, ROC AUC: 0.73\n"
     ]
    },
    {
     "name": "stderr",
     "output_type": "stream",
     "text": [
      " 30%|███       | 9/30 [00:56<02:11,  6.26s/it]"
     ]
    },
    {
     "name": "stdout",
     "output_type": "stream",
     "text": [
      "Repetição 9 GradientBoostedDecisionTree - Acurácia: 0.97, Precisão: 0.86, Recall: 0.47, F1-score: 0.61, ROC AUC: 0.74\n"
     ]
    },
    {
     "name": "stderr",
     "output_type": "stream",
     "text": [
      " 33%|███▎      | 10/30 [01:02<02:05,  6.27s/it]"
     ]
    },
    {
     "name": "stdout",
     "output_type": "stream",
     "text": [
      "Repetição 10 GradientBoostedDecisionTree - Acurácia: 0.97, Precisão: 0.81, Recall: 0.47, F1-score: 0.59, ROC AUC: 0.73\n"
     ]
    },
    {
     "name": "stderr",
     "output_type": "stream",
     "text": [
      " 37%|███▋      | 11/30 [01:09<01:59,  6.29s/it]"
     ]
    },
    {
     "name": "stdout",
     "output_type": "stream",
     "text": [
      "Repetição 11 GradientBoostedDecisionTree - Acurácia: 0.97, Precisão: 0.86, Recall: 0.49, F1-score: 0.62, ROC AUC: 0.74\n"
     ]
    },
    {
     "name": "stderr",
     "output_type": "stream",
     "text": [
      " 40%|████      | 12/30 [01:15<01:53,  6.29s/it]"
     ]
    },
    {
     "name": "stdout",
     "output_type": "stream",
     "text": [
      "Repetição 12 GradientBoostedDecisionTree - Acurácia: 0.97, Precisão: 0.86, Recall: 0.48, F1-score: 0.62, ROC AUC: 0.74\n"
     ]
    },
    {
     "name": "stderr",
     "output_type": "stream",
     "text": [
      " 43%|████▎     | 13/30 [01:21<01:47,  6.33s/it]"
     ]
    },
    {
     "name": "stdout",
     "output_type": "stream",
     "text": [
      "Repetição 13 GradientBoostedDecisionTree - Acurácia: 0.97, Precisão: 0.82, Recall: 0.46, F1-score: 0.59, ROC AUC: 0.73\n"
     ]
    },
    {
     "name": "stderr",
     "output_type": "stream",
     "text": [
      " 47%|████▋     | 14/30 [01:28<01:41,  6.32s/it]"
     ]
    },
    {
     "name": "stdout",
     "output_type": "stream",
     "text": [
      "Repetição 14 GradientBoostedDecisionTree - Acurácia: 0.97, Precisão: 0.81, Recall: 0.43, F1-score: 0.56, ROC AUC: 0.71\n"
     ]
    },
    {
     "name": "stderr",
     "output_type": "stream",
     "text": [
      " 50%|█████     | 15/30 [01:34<01:34,  6.33s/it]"
     ]
    },
    {
     "name": "stdout",
     "output_type": "stream",
     "text": [
      "Repetição 15 GradientBoostedDecisionTree - Acurácia: 0.97, Precisão: 0.84, Recall: 0.50, F1-score: 0.62, ROC AUC: 0.75\n"
     ]
    },
    {
     "name": "stderr",
     "output_type": "stream",
     "text": [
      " 53%|█████▎    | 16/30 [01:40<01:28,  6.34s/it]"
     ]
    },
    {
     "name": "stdout",
     "output_type": "stream",
     "text": [
      "Repetição 16 GradientBoostedDecisionTree - Acurácia: 0.97, Precisão: 0.81, Recall: 0.47, F1-score: 0.59, ROC AUC: 0.73\n"
     ]
    },
    {
     "name": "stderr",
     "output_type": "stream",
     "text": [
      " 57%|█████▋    | 17/30 [01:47<01:22,  6.35s/it]"
     ]
    },
    {
     "name": "stdout",
     "output_type": "stream",
     "text": [
      "Repetição 17 GradientBoostedDecisionTree - Acurácia: 0.97, Precisão: 0.84, Recall: 0.45, F1-score: 0.59, ROC AUC: 0.72\n"
     ]
    },
    {
     "name": "stderr",
     "output_type": "stream",
     "text": [
      " 60%|██████    | 18/30 [01:53<01:16,  6.35s/it]"
     ]
    },
    {
     "name": "stdout",
     "output_type": "stream",
     "text": [
      "Repetição 18 GradientBoostedDecisionTree - Acurácia: 0.97, Precisão: 0.81, Recall: 0.44, F1-score: 0.57, ROC AUC: 0.72\n"
     ]
    },
    {
     "name": "stderr",
     "output_type": "stream",
     "text": [
      " 63%|██████▎   | 19/30 [01:59<01:09,  6.32s/it]"
     ]
    },
    {
     "name": "stdout",
     "output_type": "stream",
     "text": [
      "Repetição 19 GradientBoostedDecisionTree - Acurácia: 0.97, Precisão: 0.84, Recall: 0.46, F1-score: 0.60, ROC AUC: 0.73\n"
     ]
    },
    {
     "name": "stderr",
     "output_type": "stream",
     "text": [
      " 67%|██████▋   | 20/30 [02:06<01:02,  6.30s/it]"
     ]
    },
    {
     "name": "stdout",
     "output_type": "stream",
     "text": [
      "Repetição 20 GradientBoostedDecisionTree - Acurácia: 0.97, Precisão: 0.82, Recall: 0.41, F1-score: 0.55, ROC AUC: 0.70\n"
     ]
    },
    {
     "name": "stderr",
     "output_type": "stream",
     "text": [
      " 70%|███████   | 21/30 [02:12<00:56,  6.28s/it]"
     ]
    },
    {
     "name": "stdout",
     "output_type": "stream",
     "text": [
      "Repetição 21 GradientBoostedDecisionTree - Acurácia: 0.97, Precisão: 0.81, Recall: 0.44, F1-score: 0.57, ROC AUC: 0.72\n"
     ]
    },
    {
     "name": "stderr",
     "output_type": "stream",
     "text": [
      " 73%|███████▎  | 22/30 [02:18<00:50,  6.26s/it]"
     ]
    },
    {
     "name": "stdout",
     "output_type": "stream",
     "text": [
      "Repetição 22 GradientBoostedDecisionTree - Acurácia: 0.98, Precisão: 0.87, Recall: 0.50, F1-score: 0.63, ROC AUC: 0.75\n"
     ]
    },
    {
     "name": "stderr",
     "output_type": "stream",
     "text": [
      " 77%|███████▋  | 23/30 [02:24<00:43,  6.24s/it]"
     ]
    },
    {
     "name": "stdout",
     "output_type": "stream",
     "text": [
      "Repetição 23 GradientBoostedDecisionTree - Acurácia: 0.97, Precisão: 0.85, Recall: 0.49, F1-score: 0.62, ROC AUC: 0.74\n"
     ]
    },
    {
     "name": "stderr",
     "output_type": "stream",
     "text": [
      " 80%|████████  | 24/30 [02:31<00:37,  6.28s/it]"
     ]
    },
    {
     "name": "stdout",
     "output_type": "stream",
     "text": [
      "Repetição 24 GradientBoostedDecisionTree - Acurácia: 0.97, Precisão: 0.85, Recall: 0.45, F1-score: 0.59, ROC AUC: 0.72\n"
     ]
    },
    {
     "name": "stderr",
     "output_type": "stream",
     "text": [
      " 83%|████████▎ | 25/30 [02:37<00:31,  6.24s/it]"
     ]
    },
    {
     "name": "stdout",
     "output_type": "stream",
     "text": [
      "Repetição 25 GradientBoostedDecisionTree - Acurácia: 0.97, Precisão: 0.82, Recall: 0.46, F1-score: 0.59, ROC AUC: 0.73\n"
     ]
    },
    {
     "name": "stderr",
     "output_type": "stream",
     "text": [
      " 87%|████████▋ | 26/30 [02:43<00:24,  6.23s/it]"
     ]
    },
    {
     "name": "stdout",
     "output_type": "stream",
     "text": [
      "Repetição 26 GradientBoostedDecisionTree - Acurácia: 0.97, Precisão: 0.84, Recall: 0.48, F1-score: 0.61, ROC AUC: 0.74\n"
     ]
    },
    {
     "name": "stderr",
     "output_type": "stream",
     "text": [
      " 90%|█████████ | 27/30 [02:49<00:18,  6.23s/it]"
     ]
    },
    {
     "name": "stdout",
     "output_type": "stream",
     "text": [
      "Repetição 27 GradientBoostedDecisionTree - Acurácia: 0.97, Precisão: 0.84, Recall: 0.46, F1-score: 0.59, ROC AUC: 0.73\n"
     ]
    },
    {
     "name": "stderr",
     "output_type": "stream",
     "text": [
      " 93%|█████████▎| 28/30 [02:55<00:12,  6.22s/it]"
     ]
    },
    {
     "name": "stdout",
     "output_type": "stream",
     "text": [
      "Repetição 28 GradientBoostedDecisionTree - Acurácia: 0.97, Precisão: 0.83, Recall: 0.49, F1-score: 0.61, ROC AUC: 0.74\n"
     ]
    },
    {
     "name": "stderr",
     "output_type": "stream",
     "text": [
      " 97%|█████████▋| 29/30 [03:02<00:06,  6.27s/it]"
     ]
    },
    {
     "name": "stdout",
     "output_type": "stream",
     "text": [
      "Repetição 29 GradientBoostedDecisionTree - Acurácia: 0.97, Precisão: 0.83, Recall: 0.48, F1-score: 0.61, ROC AUC: 0.74\n"
     ]
    },
    {
     "name": "stderr",
     "output_type": "stream",
     "text": [
      "100%|██████████| 30/30 [03:08<00:00,  6.28s/it]\n"
     ]
    },
    {
     "name": "stdout",
     "output_type": "stream",
     "text": [
      "Repetição 30 GradientBoostedDecisionTree - Acurácia: 0.97, Precisão: 0.85, Recall: 0.48, F1-score: 0.61, ROC AUC: 0.74\n",
      "Métricas salvas em E:/DrebinStudy/Unbalanced/Metrics\\GradientBoostedDecisionTree_metrics.csv\n"
     ]
    },
    {
     "name": "stderr",
     "output_type": "stream",
     "text": [
      "  3%|▎         | 1/30 [00:05<02:34,  5.33s/it]"
     ]
    },
    {
     "name": "stdout",
     "output_type": "stream",
     "text": [
      "Repetição 1 RandomForest - Acurácia: 0.99, Precisão: 0.93, Recall: 0.80, F1-score: 0.86, ROC AUC: 0.90\n"
     ]
    },
    {
     "name": "stderr",
     "output_type": "stream",
     "text": [
      "  7%|▋         | 2/30 [00:10<02:30,  5.36s/it]"
     ]
    },
    {
     "name": "stdout",
     "output_type": "stream",
     "text": [
      "Repetição 2 RandomForest - Acurácia: 0.99, Precisão: 0.92, Recall: 0.79, F1-score: 0.85, ROC AUC: 0.89\n"
     ]
    },
    {
     "name": "stderr",
     "output_type": "stream",
     "text": [
      " 10%|█         | 3/30 [00:16<02:25,  5.38s/it]"
     ]
    },
    {
     "name": "stdout",
     "output_type": "stream",
     "text": [
      "Repetição 3 RandomForest - Acurácia: 0.99, Precisão: 0.94, Recall: 0.83, F1-score: 0.88, ROC AUC: 0.91\n"
     ]
    },
    {
     "name": "stderr",
     "output_type": "stream",
     "text": [
      " 13%|█▎        | 4/30 [00:21<02:19,  5.36s/it]"
     ]
    },
    {
     "name": "stdout",
     "output_type": "stream",
     "text": [
      "Repetição 4 RandomForest - Acurácia: 0.99, Precisão: 0.93, Recall: 0.80, F1-score: 0.86, ROC AUC: 0.90\n"
     ]
    },
    {
     "name": "stderr",
     "output_type": "stream",
     "text": [
      " 17%|█▋        | 5/30 [00:26<02:15,  5.40s/it]"
     ]
    },
    {
     "name": "stdout",
     "output_type": "stream",
     "text": [
      "Repetição 5 RandomForest - Acurácia: 0.99, Precisão: 0.94, Recall: 0.82, F1-score: 0.87, ROC AUC: 0.91\n"
     ]
    },
    {
     "name": "stderr",
     "output_type": "stream",
     "text": [
      " 20%|██        | 6/30 [00:32<02:09,  5.41s/it]"
     ]
    },
    {
     "name": "stdout",
     "output_type": "stream",
     "text": [
      "Repetição 6 RandomForest - Acurácia: 0.99, Precisão: 0.93, Recall: 0.81, F1-score: 0.86, ROC AUC: 0.90\n"
     ]
    },
    {
     "name": "stderr",
     "output_type": "stream",
     "text": [
      " 23%|██▎       | 7/30 [00:37<02:04,  5.41s/it]"
     ]
    },
    {
     "name": "stdout",
     "output_type": "stream",
     "text": [
      "Repetição 7 RandomForest - Acurácia: 0.99, Precisão: 0.94, Recall: 0.80, F1-score: 0.86, ROC AUC: 0.90\n"
     ]
    },
    {
     "name": "stderr",
     "output_type": "stream",
     "text": [
      " 27%|██▋       | 8/30 [00:43<01:59,  5.41s/it]"
     ]
    },
    {
     "name": "stdout",
     "output_type": "stream",
     "text": [
      "Repetição 8 RandomForest - Acurácia: 0.99, Precisão: 0.93, Recall: 0.78, F1-score: 0.85, ROC AUC: 0.89\n"
     ]
    },
    {
     "name": "stderr",
     "output_type": "stream",
     "text": [
      " 30%|███       | 9/30 [00:48<01:52,  5.37s/it]"
     ]
    },
    {
     "name": "stdout",
     "output_type": "stream",
     "text": [
      "Repetição 9 RandomForest - Acurácia: 0.99, Precisão: 0.94, Recall: 0.78, F1-score: 0.85, ROC AUC: 0.89\n"
     ]
    },
    {
     "name": "stderr",
     "output_type": "stream",
     "text": [
      " 33%|███▎      | 10/30 [00:53<01:48,  5.41s/it]"
     ]
    },
    {
     "name": "stdout",
     "output_type": "stream",
     "text": [
      "Repetição 10 RandomForest - Acurácia: 0.99, Precisão: 0.93, Recall: 0.82, F1-score: 0.88, ROC AUC: 0.91\n"
     ]
    },
    {
     "name": "stderr",
     "output_type": "stream",
     "text": [
      " 37%|███▋      | 11/30 [00:59<01:43,  5.44s/it]"
     ]
    },
    {
     "name": "stdout",
     "output_type": "stream",
     "text": [
      "Repetição 11 RandomForest - Acurácia: 0.99, Precisão: 0.94, Recall: 0.81, F1-score: 0.87, ROC AUC: 0.90\n"
     ]
    },
    {
     "name": "stderr",
     "output_type": "stream",
     "text": [
      " 40%|████      | 12/30 [01:04<01:37,  5.42s/it]"
     ]
    },
    {
     "name": "stdout",
     "output_type": "stream",
     "text": [
      "Repetição 12 RandomForest - Acurácia: 0.99, Precisão: 0.95, Recall: 0.81, F1-score: 0.88, ROC AUC: 0.91\n"
     ]
    },
    {
     "name": "stderr",
     "output_type": "stream",
     "text": [
      " 43%|████▎     | 13/30 [01:10<01:31,  5.41s/it]"
     ]
    },
    {
     "name": "stdout",
     "output_type": "stream",
     "text": [
      "Repetição 13 RandomForest - Acurácia: 0.99, Precisão: 0.92, Recall: 0.79, F1-score: 0.85, ROC AUC: 0.90\n"
     ]
    },
    {
     "name": "stderr",
     "output_type": "stream",
     "text": [
      " 47%|████▋     | 14/30 [01:15<01:26,  5.40s/it]"
     ]
    },
    {
     "name": "stdout",
     "output_type": "stream",
     "text": [
      "Repetição 14 RandomForest - Acurácia: 0.99, Precisão: 0.93, Recall: 0.81, F1-score: 0.87, ROC AUC: 0.90\n"
     ]
    },
    {
     "name": "stderr",
     "output_type": "stream",
     "text": [
      " 50%|█████     | 15/30 [01:20<01:20,  5.38s/it]"
     ]
    },
    {
     "name": "stdout",
     "output_type": "stream",
     "text": [
      "Repetição 15 RandomForest - Acurácia: 0.99, Precisão: 0.94, Recall: 0.79, F1-score: 0.86, ROC AUC: 0.90\n"
     ]
    },
    {
     "name": "stderr",
     "output_type": "stream",
     "text": [
      " 53%|█████▎    | 16/30 [01:26<01:15,  5.37s/it]"
     ]
    },
    {
     "name": "stdout",
     "output_type": "stream",
     "text": [
      "Repetição 16 RandomForest - Acurácia: 0.99, Precisão: 0.94, Recall: 0.79, F1-score: 0.86, ROC AUC: 0.89\n"
     ]
    },
    {
     "name": "stderr",
     "output_type": "stream",
     "text": [
      " 57%|█████▋    | 17/30 [01:31<01:10,  5.39s/it]"
     ]
    },
    {
     "name": "stdout",
     "output_type": "stream",
     "text": [
      "Repetição 17 RandomForest - Acurácia: 0.99, Precisão: 0.93, Recall: 0.79, F1-score: 0.86, ROC AUC: 0.90\n"
     ]
    },
    {
     "name": "stderr",
     "output_type": "stream",
     "text": [
      " 60%|██████    | 18/30 [01:37<01:04,  5.38s/it]"
     ]
    },
    {
     "name": "stdout",
     "output_type": "stream",
     "text": [
      "Repetição 18 RandomForest - Acurácia: 0.99, Precisão: 0.93, Recall: 0.83, F1-score: 0.88, ROC AUC: 0.91\n"
     ]
    },
    {
     "name": "stderr",
     "output_type": "stream",
     "text": [
      " 63%|██████▎   | 19/30 [01:42<00:59,  5.40s/it]"
     ]
    },
    {
     "name": "stdout",
     "output_type": "stream",
     "text": [
      "Repetição 19 RandomForest - Acurácia: 0.99, Precisão: 0.94, Recall: 0.82, F1-score: 0.87, ROC AUC: 0.91\n"
     ]
    },
    {
     "name": "stderr",
     "output_type": "stream",
     "text": [
      " 67%|██████▋   | 20/30 [01:47<00:53,  5.38s/it]"
     ]
    },
    {
     "name": "stdout",
     "output_type": "stream",
     "text": [
      "Repetição 20 RandomForest - Acurácia: 0.99, Precisão: 0.94, Recall: 0.79, F1-score: 0.86, ROC AUC: 0.89\n"
     ]
    },
    {
     "name": "stderr",
     "output_type": "stream",
     "text": [
      " 70%|███████   | 21/30 [01:53<00:48,  5.37s/it]"
     ]
    },
    {
     "name": "stdout",
     "output_type": "stream",
     "text": [
      "Repetição 21 RandomForest - Acurácia: 0.99, Precisão: 0.96, Recall: 0.80, F1-score: 0.87, ROC AUC: 0.90\n"
     ]
    },
    {
     "name": "stderr",
     "output_type": "stream",
     "text": [
      " 73%|███████▎  | 22/30 [01:58<00:43,  5.38s/it]"
     ]
    },
    {
     "name": "stdout",
     "output_type": "stream",
     "text": [
      "Repetição 22 RandomForest - Acurácia: 0.99, Precisão: 0.92, Recall: 0.80, F1-score: 0.86, ROC AUC: 0.90\n"
     ]
    },
    {
     "name": "stderr",
     "output_type": "stream",
     "text": [
      " 77%|███████▋  | 23/30 [02:04<00:37,  5.42s/it]"
     ]
    },
    {
     "name": "stdout",
     "output_type": "stream",
     "text": [
      "Repetição 23 RandomForest - Acurácia: 0.99, Precisão: 0.94, Recall: 0.80, F1-score: 0.87, ROC AUC: 0.90\n"
     ]
    },
    {
     "name": "stderr",
     "output_type": "stream",
     "text": [
      " 80%|████████  | 24/30 [02:09<00:32,  5.42s/it]"
     ]
    },
    {
     "name": "stdout",
     "output_type": "stream",
     "text": [
      "Repetição 24 RandomForest - Acurácia: 0.99, Precisão: 0.94, Recall: 0.82, F1-score: 0.88, ROC AUC: 0.91\n"
     ]
    },
    {
     "name": "stderr",
     "output_type": "stream",
     "text": [
      " 83%|████████▎ | 25/30 [02:15<00:27,  5.44s/it]"
     ]
    },
    {
     "name": "stdout",
     "output_type": "stream",
     "text": [
      "Repetição 25 RandomForest - Acurácia: 0.99, Precisão: 0.94, Recall: 0.79, F1-score: 0.86, ROC AUC: 0.89\n"
     ]
    },
    {
     "name": "stderr",
     "output_type": "stream",
     "text": [
      " 87%|████████▋ | 26/30 [02:20<00:21,  5.40s/it]"
     ]
    },
    {
     "name": "stdout",
     "output_type": "stream",
     "text": [
      "Repetição 26 RandomForest - Acurácia: 0.99, Precisão: 0.93, Recall: 0.79, F1-score: 0.86, ROC AUC: 0.90\n"
     ]
    },
    {
     "name": "stderr",
     "output_type": "stream",
     "text": [
      " 90%|█████████ | 27/30 [02:25<00:16,  5.38s/it]"
     ]
    },
    {
     "name": "stdout",
     "output_type": "stream",
     "text": [
      "Repetição 27 RandomForest - Acurácia: 0.99, Precisão: 0.94, Recall: 0.81, F1-score: 0.87, ROC AUC: 0.91\n"
     ]
    },
    {
     "name": "stderr",
     "output_type": "stream",
     "text": [
      " 93%|█████████▎| 28/30 [02:31<00:10,  5.37s/it]"
     ]
    },
    {
     "name": "stdout",
     "output_type": "stream",
     "text": [
      "Repetição 28 RandomForest - Acurácia: 0.99, Precisão: 0.95, Recall: 0.81, F1-score: 0.88, ROC AUC: 0.91\n"
     ]
    },
    {
     "name": "stderr",
     "output_type": "stream",
     "text": [
      " 97%|█████████▋| 29/30 [02:36<00:05,  5.39s/it]"
     ]
    },
    {
     "name": "stdout",
     "output_type": "stream",
     "text": [
      "Repetição 29 RandomForest - Acurácia: 0.99, Precisão: 0.95, Recall: 0.80, F1-score: 0.87, ROC AUC: 0.90\n"
     ]
    },
    {
     "name": "stderr",
     "output_type": "stream",
     "text": [
      "100%|██████████| 30/30 [02:41<00:00,  5.39s/it]"
     ]
    },
    {
     "name": "stdout",
     "output_type": "stream",
     "text": [
      "Repetição 30 RandomForest - Acurácia: 0.99, Precisão: 0.93, Recall: 0.81, F1-score: 0.87, ROC AUC: 0.90\n",
      "Métricas salvas em E:/DrebinStudy/Unbalanced/Metrics\\RandomForest_metrics.csv\n"
     ]
    },
    {
     "name": "stderr",
     "output_type": "stream",
     "text": [
      "\n"
     ]
    }
   ],
   "source": [
    "for name, classifier in classifiers.items():\n",
    "    CreateModel(x_all, y_all, classifier, name, False)"
   ]
  },
  {
   "cell_type": "code",
   "execution_count": 9,
   "metadata": {},
   "outputs": [],
   "source": [
    "# for name, classifier in DES.items():\n",
    "#     CreateDESModel(x_all, y_all, classifier, name, balance=False)"
   ]
  },
  {
   "cell_type": "markdown",
   "metadata": {},
   "source": [
    "#### Balanced"
   ]
  },
  {
   "cell_type": "code",
   "execution_count": 10,
   "metadata": {},
   "outputs": [],
   "source": [
    "# for name, classifier in classifiers.items():\n",
    "#     CreateModel(x_all, y_all, classifier, name, True)"
   ]
  },
  {
   "cell_type": "code",
   "execution_count": 11,
   "metadata": {},
   "outputs": [],
   "source": [
    "# for name, classifier in DES.items():\n",
    "#     CreateDESModel(x_all, y_all, classifier, name, balance=True)"
   ]
  },
  {
   "cell_type": "markdown",
   "metadata": {},
   "source": [
    "### Results"
   ]
  },
  {
   "cell_type": "code",
   "execution_count": 12,
   "metadata": {},
   "outputs": [
    {
     "ename": "FileNotFoundError",
     "evalue": "[WinError 3] O sistema não pode encontrar o caminho especificado: 'D:\\\\ModelosTreinadosMLEE\\\\Balanced'",
     "output_type": "error",
     "traceback": [
      "\u001b[1;31m---------------------------------------------------------------------------\u001b[0m",
      "\u001b[1;31mFileNotFoundError\u001b[0m                         Traceback (most recent call last)",
      "Cell \u001b[1;32mIn[12], line 36\u001b[0m\n\u001b[0;32m     33\u001b[0m base_directory \u001b[38;5;241m=\u001b[39m \u001b[38;5;124mr\u001b[39m\u001b[38;5;124m\"\u001b[39m\u001b[38;5;124mD:\u001b[39m\u001b[38;5;124m\\\u001b[39m\u001b[38;5;124mModelosTreinadosMLEE\u001b[39m\u001b[38;5;124m\"\u001b[39m\n\u001b[0;32m     35\u001b[0m \u001b[38;5;66;03m# Consolidate metrics for Balanced and Unbalanced classes\u001b[39;00m\n\u001b[1;32m---> 36\u001b[0m \u001b[43mconsolidate_metrics\u001b[49m\u001b[43m(\u001b[49m\u001b[43mbase_directory\u001b[49m\u001b[43m,\u001b[49m\u001b[43m \u001b[49m\u001b[38;5;124;43m\"\u001b[39;49m\u001b[38;5;124;43mBalanced\u001b[39;49m\u001b[38;5;124;43m\"\u001b[39;49m\u001b[43m)\u001b[49m\n\u001b[0;32m     37\u001b[0m consolidate_metrics(base_directory, \u001b[38;5;124m\"\u001b[39m\u001b[38;5;124mUnbalanced\u001b[39m\u001b[38;5;124m\"\u001b[39m)\n",
      "Cell \u001b[1;32mIn[12], line 9\u001b[0m, in \u001b[0;36mconsolidate_metrics\u001b[1;34m(base_dir, class_name)\u001b[0m\n\u001b[0;32m      6\u001b[0m consolidated_df \u001b[38;5;241m=\u001b[39m pd\u001b[38;5;241m.\u001b[39mDataFrame()\n\u001b[0;32m      8\u001b[0m \u001b[38;5;66;03m# Loop through each folder in the class directory\u001b[39;00m\n\u001b[1;32m----> 9\u001b[0m \u001b[38;5;28;01mfor\u001b[39;00m model_dir \u001b[38;5;129;01min\u001b[39;00m \u001b[43mos\u001b[49m\u001b[38;5;241;43m.\u001b[39;49m\u001b[43mlistdir\u001b[49m\u001b[43m(\u001b[49m\u001b[43mclass_dir\u001b[49m\u001b[43m)\u001b[49m:\n\u001b[0;32m     10\u001b[0m     model_path \u001b[38;5;241m=\u001b[39m os\u001b[38;5;241m.\u001b[39mpath\u001b[38;5;241m.\u001b[39mjoin(class_dir, model_dir)\n\u001b[0;32m     12\u001b[0m     \u001b[38;5;66;03m# Check if it's a directory\u001b[39;00m\n",
      "\u001b[1;31mFileNotFoundError\u001b[0m: [WinError 3] O sistema não pode encontrar o caminho especificado: 'D:\\\\ModelosTreinadosMLEE\\\\Balanced'"
     ]
    }
   ],
   "source": [
    "def consolidate_metrics(base_dir, class_name):\n",
    "    # Define the directory path\n",
    "    class_dir = os.path.join(base_dir, class_name)\n",
    "    \n",
    "    # Create an empty dataframe to store all results\n",
    "    consolidated_df = pd.DataFrame()\n",
    "    \n",
    "    # Loop through each folder in the class directory\n",
    "    for model_dir in os.listdir(class_dir):\n",
    "        model_path = os.path.join(class_dir, model_dir)\n",
    "        \n",
    "        # Check if it's a directory\n",
    "        if os.path.isdir(model_path):\n",
    "            # Look for the metrics CSV file\n",
    "            for file in os.listdir(model_path):\n",
    "                if file.endswith('_metrics.csv'):\n",
    "                    # Read the CSV file\n",
    "                    csv_path = os.path.join(model_path, file)\n",
    "                    df = pd.read_csv(csv_path)\n",
    "                    \n",
    "                    # Add a column for the model name\n",
    "                    df['Model'] = model_dir\n",
    "                    \n",
    "                    # Concatenate the dataframe\n",
    "                    consolidated_df = pd.concat([consolidated_df, df], ignore_index=True)\n",
    "    \n",
    "    # Save the consolidated dataframe to a new CSV file\n",
    "    consolidated_csv_path = os.path.join(base_dir, f\"{class_name}_consolidated_metrics.csv\")\n",
    "    consolidated_df.to_csv(consolidated_csv_path, index=False)\n",
    "    print(f\"Consolidated metrics saved to: {consolidated_csv_path}\")\n",
    "\n",
    "# Define the base directory\n",
    "base_directory = r\"D:\\ModelosTreinadosMLEE\"\n",
    "\n",
    "# Consolidate metrics for Balanced and Unbalanced classes\n",
    "consolidate_metrics(base_directory, \"Balanced\")\n",
    "consolidate_metrics(base_directory, \"Unbalanced\")"
   ]
  },
  {
   "cell_type": "code",
   "execution_count": null,
   "metadata": {},
   "outputs": [],
   "source": [
    "import os\n",
    "import pandas as pd\n",
    "\n",
    "def consolidate_metrics(base_dir, class_name):\n",
    "    # Define the directory path\n",
    "    class_dir = os.path.join(base_dir, class_name)\n",
    "    \n",
    "    # Create an empty dataframe to store all results\n",
    "    consolidated_df = pd.DataFrame()\n",
    "    \n",
    "    # Loop through each folder in the class directory\n",
    "    for model_dir in os.listdir(class_dir):\n",
    "        model_path = os.path.join(class_dir, model_dir)\n",
    "        \n",
    "        # Check if it's a directory\n",
    "        if os.path.isdir(model_path):\n",
    "            # Look for the metrics CSV file\n",
    "            for file in os.listdir(model_path):\n",
    "                if file.endswith('_metrics.csv'):\n",
    "                    # Read the CSV file\n",
    "                    csv_path = os.path.join(model_path, file)\n",
    "                    df = pd.read_csv(csv_path)\n",
    "                    \n",
    "                    # Add a column for the model name\n",
    "                    df['Model'] = model_dir\n",
    "                    \n",
    "                    # Concatenate the dataframe\n",
    "                    consolidated_df = pd.concat([consolidated_df, df], ignore_index=True)\n",
    "    \n",
    "    return consolidated_df\n",
    "\n",
    "def df_to_latex_table(df, class_name):\n",
    "    # Reorder columns to place 'Model' at the front\n",
    "    cols = ['Model'] + [col for col in df if col != 'Model']\n",
    "    df = df[cols]\n",
    "\n",
    "    # Generate LaTeX table code\n",
    "    latex_table = df.to_latex(index=False, float_format=\"%.4f\", column_format='|'.join(['l']*len(df.columns)))\n",
    "\n",
    "    # Wrap the table with LaTeX table environment\n",
    "    latex_code = f\"\"\"\n",
    "\\\\begin{{table}}[h!]\n",
    "    \\\\centering\n",
    "    \\\\caption{{Metrics for {class_name} models}}\n",
    "    \\\\label{{tab:{class_name}_metrics}}\n",
    "    {latex_table}\n",
    "\\\\end{{table}}\n",
    "\"\"\"\n",
    "\n",
    "    return latex_code\n",
    "\n",
    "def save_latex_table(base_dir, class_name, latex_code):\n",
    "    # Define the output path\n",
    "    output_path = os.path.join(base_dir, f\"{class_name}_metrics_table.tex\")\n",
    "    \n",
    "    # Save the LaTeX code to a .tex file\n",
    "    with open(output_path, 'w') as f:\n",
    "        f.write(latex_code)\n",
    "    \n",
    "    print(f\"LaTeX table saved to: {output_path}\")\n",
    "\n",
    "# Define the base directory\n",
    "base_directory = r\"D:\\ModelosTreinadosMLEE\"\n",
    "\n",
    "# Consolidate metrics for Balanced and Unbalanced classes\n",
    "for class_name in [\"Balanced\", \"Unbalanced\"]:\n",
    "    df = consolidate_metrics(base_directory, class_name)\n",
    "    latex_code = df_to_latex_table(df, class_name)\n",
    "    save_latex_table(base_directory, class_name, latex_code)\n"
   ]
  }
 ],
 "metadata": {
  "kernelspec": {
   "display_name": "Python 3",
   "language": "python",
   "name": "python3"
  },
  "language_info": {
   "codemirror_mode": {
    "name": "ipython",
    "version": 3
   },
   "file_extension": ".py",
   "mimetype": "text/x-python",
   "name": "python",
   "nbconvert_exporter": "python",
   "pygments_lexer": "ipython3",
   "version": "3.11.4"
  }
 },
 "nbformat": 4,
 "nbformat_minor": 2
}
