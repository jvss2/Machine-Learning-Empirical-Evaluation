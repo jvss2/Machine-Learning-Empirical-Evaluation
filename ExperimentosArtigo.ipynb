{
 "cells": [
  {
   "cell_type": "markdown",
   "metadata": {},
   "source": [
    "### Libs"
   ]
  },
  {
   "cell_type": "code",
   "execution_count": 18,
   "metadata": {},
   "outputs": [],
   "source": [
    "import numpy as np\n",
    "import matplotlib.pyplot as plt\n",
    "import joblib\n",
    "from sklearn.ensemble import RandomForestClassifier\n",
    "from imblearn.over_sampling import SMOTE\n",
    "from sklearn.model_selection import train_test_split, KFold\n",
    "import sys\n",
    "import os\n",
    "from os import listdir\n",
    "from os.path import isfile, join\n",
    "import pandas as pd\n",
    "from sklearn.tree import DecisionTreeClassifier\n",
    "from sklearn.metrics import accuracy_score\n",
    "from sklearn.naive_bayes import BernoulliNB, GaussianNB\n",
    "from sklearn.neural_network import MLPClassifier\n",
    "from sklearn.svm import SVC\n",
    "from sklearn.neighbors import KNeighborsClassifier\n",
    "from sklearn.ensemble import BaggingClassifier\n",
    "from sklearn.datasets import make_classification\n",
    "from sklearn.metrics import accuracy_score, precision_score, recall_score, f1_score, confusion_matrix, roc_auc_score\n",
    "from sklearn.tree import DecisionTreeClassifier\n",
    "from sklearn.ensemble import BaggingClassifier\n",
    "from sklearn.metrics import accuracy_score, precision_score, recall_score, f1_score, roc_auc_score, confusion_matrix\n",
    "from tabulate import tabulate\n",
    "from tqdm import tqdm\n",
    "from sklearn.ensemble import RandomForestClassifier\n",
    "from sklearn.metrics import accuracy_score, classification_report, confusion_matrix\n",
    "import matplotlib.pyplot as plt\n",
    "import seaborn as sns\n",
    "from sklearn.ensemble import GradientBoostingClassifier\n",
    "from sklearn.ensemble import RandomForestClassifier\n",
    "from deslib.dcs import OLA\n",
    "# from deslib.dcs import KNORA_U, KNORA_E\n",
    "from deslib.des import  KNOP, METADES\n",
    "from deslib.static import SingleBest, StackedClassifier\n",
    "from deslib.static import StaticSelection"
   ]
  },
  {
   "cell_type": "markdown",
   "metadata": {},
   "source": [
    "### Feature extrection"
   ]
  },
  {
   "cell_type": "code",
   "execution_count": 19,
   "metadata": {},
   "outputs": [],
   "source": [
    "FEATURES_SET = {\n",
    "    \"feature\": 1,\n",
    "    \"permission\": 2,\n",
    "    \"activity\": 3,\n",
    "    \"service_receiver\": 3,\n",
    "    \"provider\": 3,\n",
    "    \"service\": 3,\n",
    "    \"intent\": 4,\n",
    "    \"api_call\": 5,\n",
    "    \"real_permission\": 6,\n",
    "    \"call\": 7,\n",
    "    \"url\": 8\n",
    "}\n",
    "\n",
    "\n",
    "def count_feature_set(lines):\n",
    "    \"\"\"\n",
    "    Count how many features belong to a specific set\n",
    "    :param lines: features in the text file\n",
    "    :return:\n",
    "    \"\"\"\n",
    "    features_map = {x: 0 for x in range(1, 9)}\n",
    "    for l in lines:\n",
    "        if l != \"\\n\":\n",
    "            set = l.split(\"::\")[0]\n",
    "            features_map[FEATURES_SET[set]] += 1\n",
    "    features = []\n",
    "    for i in range(1, 9):\n",
    "        features.append(features_map[i])\n",
    "    return features\n"
   ]
  },
  {
   "cell_type": "code",
   "execution_count": 20,
   "metadata": {},
   "outputs": [
    {
     "name": "stdout",
     "output_type": "stream",
     "text": [
      "Loading previous data ...\n",
      "(129013, 8) (129013,)\n"
     ]
    }
   ],
   "source": [
    "def read(LOAD_DATA=False):\n",
    "    if LOAD_DATA:\n",
    "        print(\"Previous data not loaded. Attempt to read data ...\")\n",
    "        mypath = r\"C:\\Users\\josev\\Desktop\\ProjetoPessoalNN\\GeorgeDarminton\\Drebin\\MetaData\\feature_vectors\\feature_vectors\"\n",
    "        onlyfiles = [f for f in listdir(mypath) if isfile(join(mypath, f))]\n",
    "\n",
    "        print(\"Reading csv file for ground truth ...\")\n",
    "        ground_truth = np.loadtxt(r\"C:\\Users\\josev\\Desktop\\ProjetoPessoalNN\\GeorgeDarminton\\Drebin\\MetaData\\sha256_family.csv\", delimiter=\",\", skiprows=1, dtype=str)\n",
    "        # print ground_truth.shape\n",
    "        # families = np.unique(ground_truth[:, 1])\n",
    "        # print families\n",
    "        # print len(families)\n",
    "\n",
    "        print(\"Reading positive and negative texts ...\")\n",
    "        pos = []\n",
    "        neg = []\n",
    "        for virus in tqdm(onlyfiles):\n",
    "            if virus in ground_truth[:, 0]:\n",
    "                pos.append(virus)\n",
    "            else:\n",
    "                #if len(neg) < 5560:\n",
    "                #if len(neg) < 22240:\n",
    "                    neg.append(virus)\n",
    "\n",
    "        print(\"Extracting features ...\")\n",
    "        x = []\n",
    "        y = []\n",
    "        for text_file in tqdm(pos):\n",
    "            sys.stdin = open(\"%s/%s\" % (mypath, text_file))\n",
    "            features = sys.stdin.readlines()\n",
    "            sample = count_feature_set(features)\n",
    "            x.append(sample)\n",
    "            y.append(1)\n",
    "\n",
    "        for text_file in tqdm(neg):\n",
    "            sys.stdin = open(\"%s/%s\" % (mypath, text_file))\n",
    "            features = sys.stdin.readlines()\n",
    "            sample = count_feature_set(features)\n",
    "            x.append(sample)\n",
    "            y.append(0)\n",
    "\n",
    "        print(\"Data is read successfully:\")\n",
    "        x = np.array(x)\n",
    "        y = np.array(y)\n",
    "        print(x.shape, y.shape)\n",
    "\n",
    "        print(\"Saving data under data_numpy directory ...\")\n",
    "        np.save(r\"C:\\Users\\josev\\Desktop\\ProjetoPessoalNN\\GeorgeDarminton/x_all.npy\", x)\n",
    "        np.save(r\"C:\\Users\\josev\\Desktop\\ProjetoPessoalNN\\GeorgeDarminton/y_all.npy\", y)\n",
    "\n",
    "        return x, y\n",
    "    else:\n",
    "        print(\"Loading previous data ...\")\n",
    "        x_ = np.load(r\"C:\\Users\\josev\\Desktop\\ProjetoPessoalNN\\GeorgeDarminton/x_all.npy\")\n",
    "        y_ = np.load(r\"C:\\Users\\josev\\Desktop\\ProjetoPessoalNN\\GeorgeDarminton/y_all.npy\")\n",
    "        print(x_.shape, y_.shape)\n",
    "        # print x == x_, y == y_\n",
    "        return x_, y_\n",
    "\n",
    "\n",
    "def map_family_to_category(families):\n",
    "    out = {}\n",
    "    count = 1\n",
    "    for family in families:\n",
    "        out[family] = count\n",
    "        count += 1\n",
    "    return out\n",
    "\n",
    "\n",
    "if __name__ == \"__main__\":\n",
    "    #x, y = read(LOAD_DATA=True)\n",
    "    x, y = read()"
   ]
  },
  {
   "cell_type": "markdown",
   "metadata": {},
   "source": [
    "### Dataframe"
   ]
  },
  {
   "cell_type": "code",
   "execution_count": 21,
   "metadata": {},
   "outputs": [
    {
     "name": "stdout",
     "output_type": "stream",
     "text": [
      "Loading previous data ...\n",
      "(129013, 8) (129013,)\n",
      "(103210, 8) (103210,)\n",
      "(25803, 8) (25803,)\n"
     ]
    }
   ],
   "source": [
    "x_all, y_all = read(LOAD_DATA=False)\n",
    "x_train, x_test, y_train, y_test = train_test_split(x_all, y_all, test_size=0.2, stratify=y_all)\n",
    "print(x_train.shape, y_train.shape)\n",
    "print(x_test.shape, y_test.shape)"
   ]
  },
  {
   "cell_type": "markdown",
   "metadata": {},
   "source": [
    "### Algorithms"
   ]
  },
  {
   "cell_type": "code",
   "execution_count": 22,
   "metadata": {},
   "outputs": [],
   "source": [
    "classifiers = {\n",
    "    # 'DecisionTree': DecisionTreeClassifier(criterion='gini'),\n",
    "    # 'MLP': MLPClassifier(hidden_layer_sizes=(100), max_iter=1000),\n",
    "    # 'Knn': KNeighborsClassifier(n_neighbors=7),\n",
    "    # 'NaiveBayes': GaussianNB(),\n",
    "    # 'BaggingDecisionTree': BaggingClassifier(estimator=DecisionTreeClassifier(criterion='gini'), n_estimators=30),\n",
    "    # 'BaggingNaiveBayes': BaggingClassifier(estimator=GaussianNB(), n_estimators=30),\n",
    "    # 'BaggingKnn': BaggingClassifier(estimator=KNeighborsClassifier(n_neighbors=7), n_estimators=30),\n",
    "    # 'BaggingMLP': BaggingClassifier(estimator=MLPClassifier(hidden_layer_sizes=(100), max_iter=1000), n_estimators=30),\n",
    "    # 'GradientBoostedDecisionTree': GradientBoostingClassifier(n_estimators=100),\n",
    "    # 'RandomForest': RandomForestClassifier(n_estimators=100)\n",
    "}\n",
    "\n",
    "DES = {\n",
    "    # \"SingleBest\": SingleBest,\n",
    "    # \"StaticSelection\": StaticSelection,\n",
    "    # \"OLA\": OLA,\n",
    "    # # \"KNORAU\": KNORAU,\n",
    "    # # \"KNORAE\": KNORAE,\n",
    "    # \"KNOP\": KNOP,\n",
    "    \"METADES\": METADES\n",
    "}"
   ]
  },
  {
   "cell_type": "markdown",
   "metadata": {},
   "source": [
    "### Saving Time Functions"
   ]
  },
  {
   "cell_type": "code",
   "execution_count": 23,
   "metadata": {},
   "outputs": [],
   "source": [
    "Accuracy = []\n",
    "Precision = []\n",
    "Recall = []\n",
    "F1_score = []\n",
    "Roc_auc = []\n",
    "\n",
    "AcurracyDP = []\n",
    "PrecisionDP = []\n",
    "RecallDP = []\n",
    "F1_scoreDP = []\n",
    "Roc_aucDP = []"
   ]
  },
  {
   "cell_type": "code",
   "execution_count": 24,
   "metadata": {},
   "outputs": [],
   "source": [
    "def CreateModel(x_all, y_all, model, modelName, balance, num_rep=30):\n",
    "\n",
    "    model_dir = os.path.join(\"D:/Users/josev/Desktop/Machine-Learning-Empirical-Evaluation/TrainedModels/Unbalanced\", modelName)\n",
    "    os.makedirs(model_dir, exist_ok=True)  # Create the directory if it doesn't exist\n",
    "\n",
    "    global Accuracy, Precision, Recall, F1_score, Roc_auc\n",
    "    global AcurracyDP, PrecisionDP, RecallDP, F1_scoreDP, Roc_aucDP\n",
    "\n",
    "    acuracias = []\n",
    "    precisoes = []\n",
    "    recalls = []\n",
    "    f1_scores = []\n",
    "    roc_auc_scores = []\n",
    "\n",
    "\n",
    "    for i in tqdm(range(num_rep)):\n",
    "\n",
    "        if balance:\n",
    "            x_train, x_test, y_train, y_test = train_test_split(x_all, y_all, test_size=0.2, stratify=y_all)\n",
    "            smote = SMOTE(sampling_strategy='auto', k_neighbors=5)\n",
    "            x_train, y_train = smote.fit_resample(x_train, y_train)\n",
    "            model_dir = os.path.join(\"D:/Users/josev/Desktop/Machine-Learning-Empirical-Evaluation/TrainedModels/Balanced\", modelName)\n",
    "            os.makedirs(model_dir, exist_ok=True)  # Create the directory if it doesn't exist\n",
    "\n",
    "        else:\n",
    "            x_train, x_test, y_train, y_test = train_test_split(x_all, y_all, test_size=0.2, stratify=y_all)\n",
    "\n",
    "        # Treinar o modelo no conjunto de treino\n",
    "        model.fit(x_train, y_train)\n",
    "\n",
    "        # Fazer previsões no conjunto de teste\n",
    "        previsoes = model.predict(x_test)\n",
    "        \n",
    "        # Avaliar as métricas do modelo e armazenar na lista temporaria\n",
    "        acuracia = accuracy_score(y_test, previsoes)\n",
    "        precisao = precision_score(y_test, previsoes)\n",
    "        recall = recall_score(y_test, previsoes)\n",
    "        f1 = f1_score(y_test, previsoes)\n",
    "        roc_auc = roc_auc_score(y_test, previsoes)\n",
    "        \n",
    "        acuracias.append(acuracia)\n",
    "        precisoes.append(precisao)\n",
    "        recalls.append(recall)\n",
    "        f1_scores.append(f1)\n",
    "        roc_auc_scores.append(roc_auc)\n",
    "        \n",
    "        # Salva o modelo treinado\n",
    "        model_path = os.path.join(model_dir, f'model_{i+1}.joblib')\n",
    "        joblib.dump(model, model_path)\n",
    "\n",
    "        print(f'Repetição {i+1} - Acurácia: {acuracia:.2f}, Precisão: {precisao:.2f}, Recall: {recall:.2f}, F1-score: {f1:.2f}, ROC AUC: {roc_auc:.2f}')\n",
    "\n",
    "    # Adicionar as médias e desvios padrão às listas de métricas\n",
    "    Accuracy.append(np.mean(acuracias))\n",
    "    Precision.append(np.mean(precisoes))\n",
    "    Recall.append(np.mean(recalls))\n",
    "    F1_score.append(np.mean(f1_scores))\n",
    "    Roc_auc.append(np.mean(roc_auc_scores))\n",
    "\n",
    "    AcurracyDP.append(np.std(acuracias))\n",
    "    PrecisionDP.append(np.std(precisoes))\n",
    "    RecallDP.append(np.std(recalls))\n",
    "    F1_scoreDP.append(np.std(f1_scores))\n",
    "    Roc_aucDP.append(np.std(roc_auc_scores))\n",
    "\n",
    "    # Criar um DataFrame com as métricas\n",
    "    metrics_df = pd.DataFrame({\n",
    "        'Accuracy': [np.mean(acuracias)],\n",
    "        'Precision': [np.mean(precisoes)],\n",
    "        'Recall': [np.mean(recalls)],\n",
    "        'F1_score': [np.mean(f1_scores)],\n",
    "        'Roc_auc': [np.mean(roc_auc_scores)],\n",
    "        'Accuracy_std': [np.std(acuracias)],\n",
    "        'Precision_std': [np.std(precisoes)],\n",
    "        'Recall_std': [np.std(recalls)],\n",
    "        'F1_score_std': [np.std(f1_scores)],\n",
    "        'Roc_auc_std': [np.std(roc_auc_scores)]\n",
    "    })\n",
    "\n",
    "    # Salvar o DataFrame em um arquivo CSV\n",
    "    csv_path = os.path.join(model_dir, f'{modelName}_metrics.csv')\n",
    "    metrics_df.to_csv(csv_path, index=False)\n",
    "\n",
    "    print(f'Métricas salvas em {csv_path}')"
   ]
  },
  {
   "cell_type": "code",
   "execution_count": 25,
   "metadata": {},
   "outputs": [],
   "source": [
    "def CreateDESModel(x_all, y_all, model, modelName, balance, num_rep=30):\n",
    "    if balance:\n",
    "        model_dir = os.path.join(\"D:/Users/josev/Desktop/Machine-Learning-Empirical-Evaluation/TrainedModels/Balanced\", modelName)\n",
    "    else:\n",
    "        model_dir = os.path.join(\"D:/Users/josev/Desktop/Machine-Learning-Empirical-Evaluation/TrainedModels/Unbalanced\", modelName)\n",
    "    \n",
    "    os.makedirs(model_dir, exist_ok=True)\n",
    "\n",
    "    acuracias = []\n",
    "    precisoes = []\n",
    "    recalls = []\n",
    "    f1_scores = []\n",
    "    roc_auc_scores = []\n",
    "\n",
    "    for i in tqdm(range(num_rep)):\n",
    "        x_train, x_test, y_train, y_test = train_test_split(x_all, y_all, test_size=0.2, stratify=y_all)\n",
    "\n",
    "        if balance:\n",
    "            smote = SMOTE(sampling_strategy='auto', k_neighbors=5)\n",
    "            x_train, y_train = smote.fit_resample(x_train, y_train)\n",
    "\n",
    "        # Train an ensemble of classifiers\n",
    "        ensemble = RandomForestClassifier(n_estimators=100)\n",
    "        ensemble.fit(x_train, y_train)\n",
    "\n",
    "        # Initialize and train the DES model on the training set\n",
    "        des_model = model(ensemble)\n",
    "        des_model.fit(x_train, y_train)\n",
    "\n",
    "        # Make predictions on the test set\n",
    "        previsoes = des_model.predict(x_test)\n",
    "\n",
    "        # Evaluate the metrics of the model and store them in the temporary list\n",
    "        acuracia = accuracy_score(y_test, previsoes)\n",
    "        precisao = precision_score(y_test, previsoes)\n",
    "        recall = recall_score(y_test, previsoes)\n",
    "        f1 = f1_score(y_test, previsoes)\n",
    "        roc_auc = roc_auc_score(y_test, previsoes)\n",
    "\n",
    "        acuracias.append(acuracia)\n",
    "        precisoes.append(precisao)\n",
    "        recalls.append(recall)\n",
    "        f1_scores.append(f1)\n",
    "        roc_auc_scores.append(roc_auc)\n",
    "\n",
    "        # Save the trained model\n",
    "        model_path = os.path.join(model_dir, f'model_{i+1}.joblib')\n",
    "        joblib.dump(des_model, model_path)\n",
    "\n",
    "        print(f'Repetition {i+1} - Accuracy: {acuracia:.2f}, Precision: {precisao:.2f}, Recall: {recall:.2f}, F1-score: {f1:.2f}, ROC AUC: {roc_auc:.2f}')\n",
    "\n",
    "    # Add the means and standard deviations to the metric lists\n",
    "    Accuracy.append(np.mean(acuracias))\n",
    "    Precision.append(np.mean(precisoes))\n",
    "    Recall.append(np.mean(recalls))\n",
    "    F1_score.append(np.mean(f1_scores))\n",
    "    Roc_auc.append(np.mean(roc_auc_scores))\n",
    "\n",
    "    AcurracyDP.append(np.std(acuracias))\n",
    "    PrecisionDP.append(np.std(precisoes))\n",
    "    RecallDP.append(np.std(recalls))\n",
    "    F1_scoreDP.append(np.std(f1_scores))\n",
    "    Roc_aucDP.append(np.std(roc_auc_scores))\n",
    "\n",
    "    # Create a DataFrame with the metrics\n",
    "    metrics_df = pd.DataFrame({\n",
    "        'Accuracy': [np.mean(acuracias)],\n",
    "        'Precision': [np.mean(precisoes)],\n",
    "        'Recall': [np.mean(recalls)],\n",
    "        'F1_score': [np.mean(f1_scores)],\n",
    "        'Roc_auc': [np.mean(roc_auc_scores)],\n",
    "        'Accuracy_std': [np.std(acuracias)],\n",
    "        'Precision_std': [np.std(precisoes)],\n",
    "        'Recall_std': [np.std(recalls)],\n",
    "        'F1_score_std': [np.std(f1_scores)],\n",
    "        'Roc_auc_std': [np.std(roc_auc_scores)]\n",
    "    })\n",
    "\n",
    "    # Save the DataFrame to a CSV file\n",
    "    csv_path = os.path.join(model_dir, f'{modelName}_metrics.csv')\n",
    "    metrics_df.to_csv(csv_path, index=False)\n",
    "\n",
    "    print(f'Metrics saved in {csv_path}')"
   ]
  },
  {
   "cell_type": "markdown",
   "metadata": {},
   "source": [
    "### Models"
   ]
  },
  {
   "cell_type": "markdown",
   "metadata": {},
   "source": [
    "#### Unbalanced"
   ]
  },
  {
   "cell_type": "code",
   "execution_count": 26,
   "metadata": {},
   "outputs": [],
   "source": [
    "# for name, classifier in classifiers.items():\n",
    "#     CreateModel(x_all, y_all, classifier, name, False)"
   ]
  },
  {
   "cell_type": "code",
   "execution_count": 27,
   "metadata": {},
   "outputs": [],
   "source": [
    "# for name, classifier in DES.items():\n",
    "#     CreateDESModel(x_all, y_all, classifier, name, balance=False)"
   ]
  },
  {
   "cell_type": "markdown",
   "metadata": {},
   "source": [
    "#### Balanced"
   ]
  },
  {
   "cell_type": "code",
   "execution_count": 28,
   "metadata": {},
   "outputs": [],
   "source": [
    "# for name, classifier in classifiers.items():\n",
    "#     CreateModel(x_all, y_all, classifier, name, True)"
   ]
  },
  {
   "cell_type": "code",
   "execution_count": 29,
   "metadata": {},
   "outputs": [
    {
     "name": "stderr",
     "output_type": "stream",
     "text": [
      "  3%|▎         | 1/30 [01:27<42:09, 87.23s/it]"
     ]
    },
    {
     "name": "stdout",
     "output_type": "stream",
     "text": [
      "Repetition 1 - Accuracy: 0.98, Precision: 0.75, Recall: 0.84, F1-score: 0.79, ROC AUC: 0.92\n"
     ]
    },
    {
     "name": "stderr",
     "output_type": "stream",
     "text": [
      "  7%|▋         | 2/30 [02:52<40:13, 86.21s/it]"
     ]
    },
    {
     "name": "stdout",
     "output_type": "stream",
     "text": [
      "Repetition 2 - Accuracy: 0.98, Precision: 0.75, Recall: 0.86, F1-score: 0.80, ROC AUC: 0.92\n"
     ]
    },
    {
     "name": "stderr",
     "output_type": "stream",
     "text": [
      " 10%|█         | 3/30 [04:15<38:10, 84.83s/it]"
     ]
    },
    {
     "name": "stdout",
     "output_type": "stream",
     "text": [
      "Repetition 3 - Accuracy: 0.98, Precision: 0.75, Recall: 0.88, F1-score: 0.81, ROC AUC: 0.93\n"
     ]
    },
    {
     "name": "stderr",
     "output_type": "stream",
     "text": [
      " 13%|█▎        | 4/30 [05:37<36:07, 83.36s/it]"
     ]
    },
    {
     "name": "stdout",
     "output_type": "stream",
     "text": [
      "Repetition 4 - Accuracy: 0.98, Precision: 0.78, Recall: 0.85, F1-score: 0.81, ROC AUC: 0.92\n"
     ]
    },
    {
     "name": "stderr",
     "output_type": "stream",
     "text": [
      " 17%|█▋        | 5/30 [06:58<34:30, 82.81s/it]"
     ]
    },
    {
     "name": "stdout",
     "output_type": "stream",
     "text": [
      "Repetition 5 - Accuracy: 0.98, Precision: 0.77, Recall: 0.84, F1-score: 0.80, ROC AUC: 0.91\n"
     ]
    },
    {
     "name": "stderr",
     "output_type": "stream",
     "text": [
      " 20%|██        | 6/30 [08:19<32:49, 82.06s/it]"
     ]
    },
    {
     "name": "stdout",
     "output_type": "stream",
     "text": [
      "Repetition 6 - Accuracy: 0.98, Precision: 0.77, Recall: 0.86, F1-score: 0.81, ROC AUC: 0.92\n"
     ]
    },
    {
     "name": "stderr",
     "output_type": "stream",
     "text": [
      " 23%|██▎       | 7/30 [09:41<31:29, 82.16s/it]"
     ]
    },
    {
     "name": "stdout",
     "output_type": "stream",
     "text": [
      "Repetition 7 - Accuracy: 0.98, Precision: 0.75, Recall: 0.86, F1-score: 0.80, ROC AUC: 0.92\n"
     ]
    },
    {
     "name": "stderr",
     "output_type": "stream",
     "text": [
      " 27%|██▋       | 8/30 [11:03<30:05, 82.05s/it]"
     ]
    },
    {
     "name": "stdout",
     "output_type": "stream",
     "text": [
      "Repetition 8 - Accuracy: 0.98, Precision: 0.78, Recall: 0.85, F1-score: 0.81, ROC AUC: 0.92\n"
     ]
    },
    {
     "name": "stderr",
     "output_type": "stream",
     "text": [
      " 30%|███       | 9/30 [12:26<28:46, 82.20s/it]"
     ]
    },
    {
     "name": "stdout",
     "output_type": "stream",
     "text": [
      "Repetition 9 - Accuracy: 0.98, Precision: 0.78, Recall: 0.86, F1-score: 0.82, ROC AUC: 0.93\n"
     ]
    },
    {
     "name": "stderr",
     "output_type": "stream",
     "text": [
      " 33%|███▎      | 10/30 [13:46<27:11, 81.59s/it]"
     ]
    },
    {
     "name": "stdout",
     "output_type": "stream",
     "text": [
      "Repetition 10 - Accuracy: 0.98, Precision: 0.76, Recall: 0.84, F1-score: 0.80, ROC AUC: 0.91\n"
     ]
    },
    {
     "name": "stderr",
     "output_type": "stream",
     "text": [
      " 37%|███▋      | 11/30 [15:06<25:38, 80.99s/it]"
     ]
    },
    {
     "name": "stdout",
     "output_type": "stream",
     "text": [
      "Repetition 11 - Accuracy: 0.98, Precision: 0.77, Recall: 0.86, F1-score: 0.81, ROC AUC: 0.92\n"
     ]
    },
    {
     "name": "stderr",
     "output_type": "stream",
     "text": [
      " 40%|████      | 12/30 [16:26<24:15, 80.88s/it]"
     ]
    },
    {
     "name": "stdout",
     "output_type": "stream",
     "text": [
      "Repetition 12 - Accuracy: 0.98, Precision: 0.75, Recall: 0.85, F1-score: 0.80, ROC AUC: 0.92\n"
     ]
    },
    {
     "name": "stderr",
     "output_type": "stream",
     "text": [
      " 43%|████▎     | 13/30 [17:51<23:13, 81.97s/it]"
     ]
    },
    {
     "name": "stdout",
     "output_type": "stream",
     "text": [
      "Repetition 13 - Accuracy: 0.98, Precision: 0.78, Recall: 0.85, F1-score: 0.81, ROC AUC: 0.92\n"
     ]
    },
    {
     "name": "stderr",
     "output_type": "stream",
     "text": [
      " 47%|████▋     | 14/30 [19:14<21:56, 82.27s/it]"
     ]
    },
    {
     "name": "stdout",
     "output_type": "stream",
     "text": [
      "Repetition 14 - Accuracy: 0.98, Precision: 0.75, Recall: 0.86, F1-score: 0.80, ROC AUC: 0.92\n"
     ]
    },
    {
     "name": "stderr",
     "output_type": "stream",
     "text": [
      " 50%|█████     | 15/30 [20:39<20:48, 83.20s/it]"
     ]
    },
    {
     "name": "stdout",
     "output_type": "stream",
     "text": [
      "Repetition 15 - Accuracy: 0.98, Precision: 0.77, Recall: 0.86, F1-score: 0.81, ROC AUC: 0.92\n"
     ]
    },
    {
     "name": "stderr",
     "output_type": "stream",
     "text": [
      " 53%|█████▎    | 16/30 [22:02<19:22, 83.03s/it]"
     ]
    },
    {
     "name": "stdout",
     "output_type": "stream",
     "text": [
      "Repetition 16 - Accuracy: 0.98, Precision: 0.76, Recall: 0.84, F1-score: 0.80, ROC AUC: 0.91\n"
     ]
    },
    {
     "name": "stderr",
     "output_type": "stream",
     "text": [
      " 57%|█████▋    | 17/30 [23:24<17:57, 82.91s/it]"
     ]
    },
    {
     "name": "stdout",
     "output_type": "stream",
     "text": [
      "Repetition 17 - Accuracy: 0.98, Precision: 0.78, Recall: 0.85, F1-score: 0.82, ROC AUC: 0.92\n"
     ]
    },
    {
     "name": "stderr",
     "output_type": "stream",
     "text": [
      " 60%|██████    | 18/30 [24:47<16:33, 82.82s/it]"
     ]
    },
    {
     "name": "stdout",
     "output_type": "stream",
     "text": [
      "Repetition 18 - Accuracy: 0.98, Precision: 0.76, Recall: 0.84, F1-score: 0.80, ROC AUC: 0.92\n"
     ]
    },
    {
     "name": "stderr",
     "output_type": "stream",
     "text": [
      " 63%|██████▎   | 19/30 [26:12<15:20, 83.65s/it]"
     ]
    },
    {
     "name": "stdout",
     "output_type": "stream",
     "text": [
      "Repetition 19 - Accuracy: 0.98, Precision: 0.79, Recall: 0.85, F1-score: 0.82, ROC AUC: 0.92\n"
     ]
    },
    {
     "name": "stderr",
     "output_type": "stream",
     "text": [
      " 67%|██████▋   | 20/30 [27:34<13:51, 83.15s/it]"
     ]
    },
    {
     "name": "stdout",
     "output_type": "stream",
     "text": [
      "Repetition 20 - Accuracy: 0.98, Precision: 0.77, Recall: 0.86, F1-score: 0.81, ROC AUC: 0.92\n"
     ]
    },
    {
     "name": "stderr",
     "output_type": "stream",
     "text": [
      " 70%|███████   | 21/30 [28:56<12:24, 82.77s/it]"
     ]
    },
    {
     "name": "stdout",
     "output_type": "stream",
     "text": [
      "Repetition 21 - Accuracy: 0.98, Precision: 0.76, Recall: 0.87, F1-score: 0.81, ROC AUC: 0.93\n"
     ]
    },
    {
     "name": "stderr",
     "output_type": "stream",
     "text": [
      " 73%|███████▎  | 22/30 [30:19<11:00, 82.61s/it]"
     ]
    },
    {
     "name": "stdout",
     "output_type": "stream",
     "text": [
      "Repetition 22 - Accuracy: 0.98, Precision: 0.74, Recall: 0.85, F1-score: 0.79, ROC AUC: 0.92\n"
     ]
    },
    {
     "name": "stderr",
     "output_type": "stream",
     "text": [
      " 77%|███████▋  | 23/30 [31:41<09:38, 82.63s/it]"
     ]
    },
    {
     "name": "stdout",
     "output_type": "stream",
     "text": [
      "Repetition 23 - Accuracy: 0.98, Precision: 0.77, Recall: 0.87, F1-score: 0.81, ROC AUC: 0.93\n"
     ]
    },
    {
     "name": "stderr",
     "output_type": "stream",
     "text": [
      " 80%|████████  | 24/30 [33:06<08:18, 83.15s/it]"
     ]
    },
    {
     "name": "stdout",
     "output_type": "stream",
     "text": [
      "Repetition 24 - Accuracy: 0.98, Precision: 0.76, Recall: 0.84, F1-score: 0.80, ROC AUC: 0.92\n"
     ]
    },
    {
     "name": "stderr",
     "output_type": "stream",
     "text": [
      " 83%|████████▎ | 25/30 [34:26<06:51, 82.31s/it]"
     ]
    },
    {
     "name": "stdout",
     "output_type": "stream",
     "text": [
      "Repetition 25 - Accuracy: 0.98, Precision: 0.78, Recall: 0.86, F1-score: 0.82, ROC AUC: 0.92\n"
     ]
    },
    {
     "name": "stderr",
     "output_type": "stream",
     "text": [
      " 87%|████████▋ | 26/30 [35:46<05:26, 81.65s/it]"
     ]
    },
    {
     "name": "stdout",
     "output_type": "stream",
     "text": [
      "Repetition 26 - Accuracy: 0.98, Precision: 0.78, Recall: 0.85, F1-score: 0.81, ROC AUC: 0.92\n"
     ]
    },
    {
     "name": "stderr",
     "output_type": "stream",
     "text": [
      " 90%|█████████ | 27/30 [37:06<04:03, 81.18s/it]"
     ]
    },
    {
     "name": "stdout",
     "output_type": "stream",
     "text": [
      "Repetition 27 - Accuracy: 0.98, Precision: 0.74, Recall: 0.87, F1-score: 0.80, ROC AUC: 0.93\n"
     ]
    },
    {
     "name": "stderr",
     "output_type": "stream",
     "text": [
      " 93%|█████████▎| 28/30 [38:26<02:41, 80.88s/it]"
     ]
    },
    {
     "name": "stdout",
     "output_type": "stream",
     "text": [
      "Repetition 28 - Accuracy: 0.98, Precision: 0.75, Recall: 0.85, F1-score: 0.80, ROC AUC: 0.92\n"
     ]
    },
    {
     "name": "stderr",
     "output_type": "stream",
     "text": [
      " 97%|█████████▋| 29/30 [39:47<01:20, 80.71s/it]"
     ]
    },
    {
     "name": "stdout",
     "output_type": "stream",
     "text": [
      "Repetition 29 - Accuracy: 0.98, Precision: 0.76, Recall: 0.84, F1-score: 0.80, ROC AUC: 0.91\n"
     ]
    },
    {
     "name": "stderr",
     "output_type": "stream",
     "text": [
      "100%|██████████| 30/30 [41:10<00:00, 82.34s/it]"
     ]
    },
    {
     "name": "stdout",
     "output_type": "stream",
     "text": [
      "Repetition 30 - Accuracy: 0.98, Precision: 0.77, Recall: 0.85, F1-score: 0.81, ROC AUC: 0.92\n",
      "Metrics saved in D:/Users/josev/Desktop/Machine-Learning-Empirical-Evaluation/TrainedModels/Balanced\\METADES\\METADES_metrics.csv\n"
     ]
    },
    {
     "name": "stderr",
     "output_type": "stream",
     "text": [
      "\n"
     ]
    }
   ],
   "source": [
    "for name, classifier in DES.items():\n",
    "    CreateDESModel(x_all, y_all, classifier, name, balance=True)"
   ]
  },
  {
   "cell_type": "markdown",
   "metadata": {},
   "source": [
    "### Results"
   ]
  },
  {
   "cell_type": "code",
   "execution_count": 38,
   "metadata": {},
   "outputs": [
    {
     "name": "stdout",
     "output_type": "stream",
     "text": [
      "Consolidated metrics saved to: D:\\ModelosTreinadosMLEE\\Balanced_consolidated_metrics.csv\n",
      "Consolidated metrics saved to: D:\\ModelosTreinadosMLEE\\Unbalanced_consolidated_metrics.csv\n"
     ]
    }
   ],
   "source": [
    "\n",
    "def consolidate_metrics(base_dir, class_name):\n",
    "    # Define the directory path\n",
    "    class_dir = os.path.join(base_dir, class_name)\n",
    "    \n",
    "    # Create an empty dataframe to store all results\n",
    "    consolidated_df = pd.DataFrame()\n",
    "    \n",
    "    # Loop through each folder in the class directory\n",
    "    for model_dir in os.listdir(class_dir):\n",
    "        model_path = os.path.join(class_dir, model_dir)\n",
    "        \n",
    "        # Check if it's a directory\n",
    "        if os.path.isdir(model_path):\n",
    "            # Look for the metrics CSV file\n",
    "            for file in os.listdir(model_path):\n",
    "                if file.endswith('_metrics.csv'):\n",
    "                    # Read the CSV file\n",
    "                    csv_path = os.path.join(model_path, file)\n",
    "                    df = pd.read_csv(csv_path)\n",
    "                    \n",
    "                    # Add a column for the model name\n",
    "                    df['Model'] = model_dir\n",
    "                    \n",
    "                    # Concatenate the dataframe\n",
    "                    consolidated_df = pd.concat([consolidated_df, df], ignore_index=True)\n",
    "    \n",
    "    # Save the consolidated dataframe to a new CSV file\n",
    "    consolidated_csv_path = os.path.join(base_dir, f\"{class_name}_consolidated_metrics.csv\")\n",
    "    consolidated_df.to_csv(consolidated_csv_path, index=False)\n",
    "    print(f\"Consolidated metrics saved to: {consolidated_csv_path}\")\n",
    "\n",
    "# Define the base directory\n",
    "base_directory = r\"D:\\ModelosTreinadosMLEE\"\n",
    "\n",
    "# Consolidate metrics for Balanced and Unbalanced classes\n",
    "consolidate_metrics(base_directory, \"Balanced\")\n",
    "consolidate_metrics(base_directory, \"Unbalanced\")"
   ]
  },
  {
   "cell_type": "code",
   "execution_count": 36,
   "metadata": {},
   "outputs": [
    {
     "name": "stdout",
     "output_type": "stream",
     "text": [
      "LaTeX table saved to: D:\\ModelosTreinadosMLEE\\Balanced_metrics_table.tex\n",
      "LaTeX table saved to: D:\\ModelosTreinadosMLEE\\Unbalanced_metrics_table.tex\n"
     ]
    },
    {
     "name": "stderr",
     "output_type": "stream",
     "text": [
      "C:\\Users\\josev\\AppData\\Local\\Temp\\ipykernel_7812\\3824117571.py:38: FutureWarning: In future versions `DataFrame.to_latex` is expected to utilise the base implementation of `Styler.to_latex` for formatting and rendering. The arguments signature may therefore change. It is recommended instead to use `DataFrame.style.to_latex` which also contains additional functionality.\n",
      "  latex_table = df.to_latex(index=False, float_format=\"%.4f\", column_format='|'.join(['l']*len(df.columns)))\n",
      "C:\\Users\\josev\\AppData\\Local\\Temp\\ipykernel_7812\\3824117571.py:38: FutureWarning: In future versions `DataFrame.to_latex` is expected to utilise the base implementation of `Styler.to_latex` for formatting and rendering. The arguments signature may therefore change. It is recommended instead to use `DataFrame.style.to_latex` which also contains additional functionality.\n",
      "  latex_table = df.to_latex(index=False, float_format=\"%.4f\", column_format='|'.join(['l']*len(df.columns)))\n"
     ]
    }
   ],
   "source": [
    "import os\n",
    "import pandas as pd\n",
    "\n",
    "def consolidate_metrics(base_dir, class_name):\n",
    "    # Define the directory path\n",
    "    class_dir = os.path.join(base_dir, class_name)\n",
    "    \n",
    "    # Create an empty dataframe to store all results\n",
    "    consolidated_df = pd.DataFrame()\n",
    "    \n",
    "    # Loop through each folder in the class directory\n",
    "    for model_dir in os.listdir(class_dir):\n",
    "        model_path = os.path.join(class_dir, model_dir)\n",
    "        \n",
    "        # Check if it's a directory\n",
    "        if os.path.isdir(model_path):\n",
    "            # Look for the metrics CSV file\n",
    "            for file in os.listdir(model_path):\n",
    "                if file.endswith('_metrics.csv'):\n",
    "                    # Read the CSV file\n",
    "                    csv_path = os.path.join(model_path, file)\n",
    "                    df = pd.read_csv(csv_path)\n",
    "                    \n",
    "                    # Add a column for the model name\n",
    "                    df['Model'] = model_dir\n",
    "                    \n",
    "                    # Concatenate the dataframe\n",
    "                    consolidated_df = pd.concat([consolidated_df, df], ignore_index=True)\n",
    "    \n",
    "    return consolidated_df\n",
    "\n",
    "def df_to_latex_table(df, class_name):\n",
    "    # Reorder columns to place 'Model' at the front\n",
    "    cols = ['Model'] + [col for col in df if col != 'Model']\n",
    "    df = df[cols]\n",
    "\n",
    "    # Generate LaTeX table code\n",
    "    latex_table = df.to_latex(index=False, float_format=\"%.4f\", column_format='|'.join(['l']*len(df.columns)))\n",
    "\n",
    "    # Wrap the table with LaTeX table environment\n",
    "    latex_code = f\"\"\"\n",
    "\\\\begin{{table}}[h!]\n",
    "    \\\\centering\n",
    "    \\\\caption{{Metrics for {class_name} models}}\n",
    "    \\\\label{{tab:{class_name}_metrics}}\n",
    "    {latex_table}\n",
    "\\\\end{{table}}\n",
    "\"\"\"\n",
    "\n",
    "    return latex_code\n",
    "\n",
    "def save_latex_table(base_dir, class_name, latex_code):\n",
    "    # Define the output path\n",
    "    output_path = os.path.join(base_dir, f\"{class_name}_metrics_table.tex\")\n",
    "    \n",
    "    # Save the LaTeX code to a .tex file\n",
    "    with open(output_path, 'w') as f:\n",
    "        f.write(latex_code)\n",
    "    \n",
    "    print(f\"LaTeX table saved to: {output_path}\")\n",
    "\n",
    "# Define the base directory\n",
    "base_directory = r\"D:\\ModelosTreinadosMLEE\"\n",
    "\n",
    "# Consolidate metrics for Balanced and Unbalanced classes\n",
    "for class_name in [\"Balanced\", \"Unbalanced\"]:\n",
    "    df = consolidate_metrics(base_directory, class_name)\n",
    "    latex_code = df_to_latex_table(df, class_name)\n",
    "    save_latex_table(base_directory, class_name, latex_code)\n"
   ]
  }
 ],
 "metadata": {
  "kernelspec": {
   "display_name": "Python 3",
   "language": "python",
   "name": "python3"
  },
  "language_info": {
   "codemirror_mode": {
    "name": "ipython",
    "version": 3
   },
   "file_extension": ".py",
   "mimetype": "text/x-python",
   "name": "python",
   "nbconvert_exporter": "python",
   "pygments_lexer": "ipython3",
   "version": "3.11.4"
  }
 },
 "nbformat": 4,
 "nbformat_minor": 2
}
