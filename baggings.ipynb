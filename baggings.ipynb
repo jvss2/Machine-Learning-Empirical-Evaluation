{
 "cells": [
  {
   "cell_type": "code",
   "execution_count": 1,
   "metadata": {},
   "outputs": [],
   "source": [
    "from sklearn.ensemble import BaggingClassifier\n",
    "from sklearn.tree import DecisionTreeClassifier\n",
    "from sklearn.model_selection import train_test_split\n",
    "from sklearn.datasets import make_classification\n",
    "from sklearn.preprocessing import StandardScaler\n",
    "from sklearn.utils import resample\n",
    "from sklearn.metrics import accuracy_score\n",
    "import numpy as np\n",
    "import matplotlib.pyplot as plt\n",
    "import joblib\n",
    "from sklearn.ensemble import RandomForestClassifier\n",
    "from imblearn.over_sampling import SMOTE\n",
    "from sklearn.model_selection import train_test_split, KFold\n",
    "import sys\n",
    "import os\n",
    "from os import listdir\n",
    "from os.path import isfile, join\n",
    "import pandas as pd\n",
    "from sklearn.tree import DecisionTreeClassifier\n",
    "from sklearn.metrics import accuracy_score\n",
    "from sklearn.naive_bayes import BernoulliNB, GaussianNB\n",
    "from sklearn.neural_network import MLPClassifier\n",
    "from sklearn.svm import SVC\n",
    "from sklearn.neighbors import KNeighborsClassifier\n",
    "from sklearn.ensemble import BaggingClassifier\n",
    "from sklearn.datasets import make_classification\n",
    "from sklearn.metrics import accuracy_score, precision_score, recall_score, f1_score, confusion_matrix, roc_auc_score\n",
    "from sklearn.tree import DecisionTreeClassifier\n",
    "from sklearn.ensemble import BaggingClassifier\n",
    "from sklearn.metrics import accuracy_score, precision_score, recall_score, f1_score, roc_auc_score, confusion_matrix\n",
    "from tabulate import tabulate\n",
    "from tqdm import tqdm\n",
    "from sklearn.ensemble import RandomForestClassifier\n",
    "from sklearn.metrics import accuracy_score, classification_report, confusion_matrix\n",
    "import matplotlib.pyplot as plt\n",
    "import seaborn as sns\n",
    "from sklearn.ensemble import GradientBoostingClassifier\n",
    "from sklearn.ensemble import RandomForestClassifier\n",
    "from imblearn.metrics import geometric_mean_score\n",
    "import numpy as np\n",
    "import matplotlib.pyplot as plt\n",
    "import joblib\n",
    "from sklearn.ensemble import RandomForestClassifier\n",
    "from sklearn.metrics import matthews_corrcoef, cohen_kappa_score\n",
    "from imblearn.over_sampling import SMOTE\n",
    "from sklearn.model_selection import train_test_split, KFold\n",
    "import sys\n",
    "import os\n",
    "from os import listdir\n",
    "from os.path import isfile, join\n",
    "import pandas as pd\n",
    "from sklearn.tree import DecisionTreeClassifier\n",
    "from sklearn.metrics import accuracy_score\n",
    "from sklearn.naive_bayes import BernoulliNB, GaussianNB\n",
    "from sklearn.neural_network import MLPClassifier\n",
    "from sklearn.svm import SVC\n",
    "from sklearn.neighbors import KNeighborsClassifier\n",
    "from sklearn.ensemble import BaggingClassifier\n",
    "from sklearn.datasets import make_classification\n",
    "from sklearn.metrics import accuracy_score, precision_score, recall_score, f1_score, confusion_matrix, roc_auc_score\n",
    "from sklearn.tree import DecisionTreeClassifier\n",
    "from sklearn.ensemble import BaggingClassifier\n",
    "from sklearn.metrics import accuracy_score, precision_score, recall_score, f1_score, roc_auc_score, confusion_matrix\n",
    "from tabulate import tabulate\n",
    "from tqdm import tqdm\n",
    "from sklearn.ensemble import RandomForestClassifier\n",
    "from sklearn.metrics import accuracy_score, classification_report, confusion_matrix\n",
    "import matplotlib.pyplot as plt\n",
    "import seaborn as sns\n",
    "from sklearn.ensemble import GradientBoostingClassifier\n",
    "from sklearn.ensemble import RandomForestClassifier\n",
    "from deslib.dcs import OLA\n",
    "# from deslib.dcs import KNORA_U, KNORA_E\n",
    "from deslib.des import  KNOP, METADES\n",
    "from deslib.static import SingleBest, StackedClassifier\n",
    "from deslib.static import StaticSelection\n",
    "from imblearn.metrics import geometric_mean_score"
   ]
  },
  {
   "cell_type": "code",
   "execution_count": null,
   "metadata": {},
   "outputs": [],
   "source": [
    "x = np.load(r\"C:\\Users\\josev\\Desktop\\ProjetoPessoalNN\\GeorgeDarminton/x_all.npy\")\n",
    "y = np.load(r\"C:\\Users\\josev\\Desktop\\ProjetoPessoalNN\\GeorgeDarminton/y_all.npy\")"
   ]
  },
  {
   "cell_type": "code",
   "execution_count": null,
   "metadata": {},
   "outputs": [
    {
     "name": "stdout",
     "output_type": "stream",
     "text": [
      "(103210, 8) (103210,)\n",
      "(25803, 8) (25803,)\n"
     ]
    }
   ],
   "source": [
    "x_all = np.load(r\"C:\\Users\\josev\\Desktop\\ProjetoPessoalNN\\GeorgeDarminton/x_all.npy\")\n",
    "y_all = np.load(r\"C:\\Users\\josev\\Desktop\\ProjetoPessoalNN\\GeorgeDarminton/y_all.npy\")\n",
    "x_train, x_test, y_train, y_test = train_test_split(x_all, y_all, test_size=0.2, stratify=y_all, random_state=42)\n",
    "print(x_train.shape, y_train.shape)\n",
    "print(x_test.shape, y_test.shape)"
   ]
  },
  {
   "cell_type": "code",
   "execution_count": null,
   "metadata": {},
   "outputs": [],
   "source": [
    "baggings = {\n",
    "    'DT': DecisionTreeClassifier(criterion='gini'),\n",
    "    'NB': GaussianNB(),\n",
    "    'Knn': KNeighborsClassifier(n_neighbors=7),\n",
    "    'MLP': MLPClassifier(hidden_layer_sizes=(100), max_iter=1000)\n",
    "}"
   ]
  },
  {
   "cell_type": "code",
   "execution_count": null,
   "metadata": {},
   "outputs": [],
   "source": [
    "for modelName, model in baggings.items():\n",
    "    for i in tqdm(range(30)):\n",
    "    # Criando o diretorio\n",
    "        model_dir = os.path.join(\"E:/DrebinStudy/Balanced/Bagging2\", modelName)\n",
    "        model_dir = os.path.join(model_dir, str(i+1))\n",
    "        os.makedirs(model_dir, exist_ok=True)  # Create the directory if it doesn't exist\n",
    "\n",
    "        for j in tqdm(range(30)):\n",
    "\n",
    "            print(\"entrou aqui\")\n",
    "            # Gerar uma amostra bootstrap\n",
    "            x_resampled, y_resampled = resample(x_train, y_train, replace=True)\n",
    "\n",
    "            # Balancear a amostra usando SMOTE\n",
    "            smote = SMOTE(sampling_strategy='auto', k_neighbors=5)\n",
    "            x_balanced, y_balanced = smote.fit_resample(x_resampled, y_resampled)\n",
    "\n",
    "            print(\"ta treinando\")\n",
    "\n",
    "            # Treinar o modelo na amostra balanceada\n",
    "            model.fit(x_balanced, y_balanced)\n",
    "            \n",
    "            # Salva o modelo treinado\n",
    "            model_path = os.path.join(model_dir, f'model_{j+1}.joblib')\n",
    "            joblib.dump(model, model_path)"
   ]
  },
  {
   "cell_type": "code",
   "execution_count": null,
   "metadata": {},
   "outputs": [
    {
     "name": "stderr",
     "output_type": "stream",
     "text": [
      "  3%|▎         | 1/30 [00:00<00:19,  1.47it/s]"
     ]
    },
    {
     "name": "stdout",
     "output_type": "stream",
     "text": [
      "Repetição 30 MLP - Acurácia: 0.95, Precisão: 0.48, Recall: 0.92, F1-score: 0.63, ROC AUC: 0.94\n"
     ]
    },
    {
     "name": "stderr",
     "output_type": "stream",
     "text": [
      "  7%|▋         | 2/30 [00:01<00:19,  1.46it/s]"
     ]
    },
    {
     "name": "stdout",
     "output_type": "stream",
     "text": [
      "Repetição 30 MLP - Acurácia: 0.95, Precisão: 0.47, Recall: 0.92, F1-score: 0.62, ROC AUC: 0.94\n"
     ]
    },
    {
     "name": "stderr",
     "output_type": "stream",
     "text": [
      " 10%|█         | 3/30 [00:02<00:18,  1.46it/s]"
     ]
    },
    {
     "name": "stdout",
     "output_type": "stream",
     "text": [
      "Repetição 30 MLP - Acurácia: 0.95, Precisão: 0.46, Recall: 0.92, F1-score: 0.61, ROC AUC: 0.94\n"
     ]
    },
    {
     "name": "stderr",
     "output_type": "stream",
     "text": [
      " 13%|█▎        | 4/30 [00:02<00:18,  1.44it/s]"
     ]
    },
    {
     "name": "stdout",
     "output_type": "stream",
     "text": [
      "Repetição 30 MLP - Acurácia: 0.95, Precisão: 0.47, Recall: 0.91, F1-score: 0.62, ROC AUC: 0.93\n"
     ]
    },
    {
     "name": "stderr",
     "output_type": "stream",
     "text": [
      " 17%|█▋        | 5/30 [00:03<00:17,  1.43it/s]"
     ]
    },
    {
     "name": "stdout",
     "output_type": "stream",
     "text": [
      "Repetição 30 MLP - Acurácia: 0.95, Precisão: 0.47, Recall: 0.92, F1-score: 0.62, ROC AUC: 0.93\n"
     ]
    },
    {
     "name": "stderr",
     "output_type": "stream",
     "text": [
      " 20%|██        | 6/30 [00:04<00:17,  1.41it/s]"
     ]
    },
    {
     "name": "stdout",
     "output_type": "stream",
     "text": [
      "Repetição 30 MLP - Acurácia: 0.95, Precisão: 0.47, Recall: 0.91, F1-score: 0.62, ROC AUC: 0.93\n"
     ]
    },
    {
     "name": "stderr",
     "output_type": "stream",
     "text": [
      " 23%|██▎       | 7/30 [00:04<00:16,  1.41it/s]"
     ]
    },
    {
     "name": "stdout",
     "output_type": "stream",
     "text": [
      "Repetição 30 MLP - Acurácia: 0.95, Precisão: 0.46, Recall: 0.93, F1-score: 0.62, ROC AUC: 0.94\n"
     ]
    },
    {
     "name": "stderr",
     "output_type": "stream",
     "text": [
      " 27%|██▋       | 8/30 [00:05<00:16,  1.37it/s]"
     ]
    },
    {
     "name": "stdout",
     "output_type": "stream",
     "text": [
      "Repetição 30 MLP - Acurácia: 0.95, Precisão: 0.44, Recall: 0.92, F1-score: 0.60, ROC AUC: 0.93\n"
     ]
    },
    {
     "name": "stderr",
     "output_type": "stream",
     "text": [
      " 30%|███       | 9/30 [00:06<00:15,  1.34it/s]"
     ]
    },
    {
     "name": "stdout",
     "output_type": "stream",
     "text": [
      "Repetição 30 MLP - Acurácia: 0.95, Precisão: 0.47, Recall: 0.91, F1-score: 0.62, ROC AUC: 0.93\n"
     ]
    },
    {
     "name": "stderr",
     "output_type": "stream",
     "text": [
      " 33%|███▎      | 10/30 [00:07<00:15,  1.32it/s]"
     ]
    },
    {
     "name": "stdout",
     "output_type": "stream",
     "text": [
      "Repetição 30 MLP - Acurácia: 0.95, Precisão: 0.46, Recall: 0.92, F1-score: 0.61, ROC AUC: 0.93\n"
     ]
    },
    {
     "name": "stderr",
     "output_type": "stream",
     "text": [
      " 37%|███▋      | 11/30 [00:07<00:13,  1.36it/s]"
     ]
    },
    {
     "name": "stdout",
     "output_type": "stream",
     "text": [
      "Repetição 30 MLP - Acurácia: 0.95, Precisão: 0.47, Recall: 0.92, F1-score: 0.62, ROC AUC: 0.93\n"
     ]
    },
    {
     "name": "stderr",
     "output_type": "stream",
     "text": [
      " 40%|████      | 12/30 [00:08<00:12,  1.40it/s]"
     ]
    },
    {
     "name": "stdout",
     "output_type": "stream",
     "text": [
      "Repetição 30 MLP - Acurácia: 0.95, Precisão: 0.47, Recall: 0.92, F1-score: 0.62, ROC AUC: 0.93\n"
     ]
    },
    {
     "name": "stderr",
     "output_type": "stream",
     "text": [
      " 43%|████▎     | 13/30 [00:09<00:12,  1.42it/s]"
     ]
    },
    {
     "name": "stdout",
     "output_type": "stream",
     "text": [
      "Repetição 30 MLP - Acurácia: 0.96, Precisão: 0.49, Recall: 0.91, F1-score: 0.64, ROC AUC: 0.93\n"
     ]
    },
    {
     "name": "stderr",
     "output_type": "stream",
     "text": [
      " 47%|████▋     | 14/30 [00:09<00:11,  1.44it/s]"
     ]
    },
    {
     "name": "stdout",
     "output_type": "stream",
     "text": [
      "Repetição 30 MLP - Acurácia: 0.95, Precisão: 0.48, Recall: 0.92, F1-score: 0.63, ROC AUC: 0.94\n"
     ]
    },
    {
     "name": "stderr",
     "output_type": "stream",
     "text": [
      " 50%|█████     | 15/30 [00:10<00:10,  1.46it/s]"
     ]
    },
    {
     "name": "stdout",
     "output_type": "stream",
     "text": [
      "Repetição 30 MLP - Acurácia: 0.95, Precisão: 0.47, Recall: 0.92, F1-score: 0.62, ROC AUC: 0.93\n"
     ]
    },
    {
     "name": "stderr",
     "output_type": "stream",
     "text": [
      " 53%|█████▎    | 16/30 [00:11<00:09,  1.48it/s]"
     ]
    },
    {
     "name": "stdout",
     "output_type": "stream",
     "text": [
      "Repetição 30 MLP - Acurácia: 0.96, Precisão: 0.49, Recall: 0.91, F1-score: 0.64, ROC AUC: 0.93\n"
     ]
    },
    {
     "name": "stderr",
     "output_type": "stream",
     "text": [
      " 57%|█████▋    | 17/30 [00:11<00:08,  1.48it/s]"
     ]
    },
    {
     "name": "stdout",
     "output_type": "stream",
     "text": [
      "Repetição 30 MLP - Acurácia: 0.95, Precisão: 0.49, Recall: 0.91, F1-score: 0.63, ROC AUC: 0.94\n"
     ]
    },
    {
     "name": "stderr",
     "output_type": "stream",
     "text": [
      " 60%|██████    | 18/30 [00:12<00:08,  1.49it/s]"
     ]
    },
    {
     "name": "stdout",
     "output_type": "stream",
     "text": [
      "Repetição 30 MLP - Acurácia: 0.95, Precisão: 0.48, Recall: 0.91, F1-score: 0.63, ROC AUC: 0.94\n"
     ]
    },
    {
     "name": "stderr",
     "output_type": "stream",
     "text": [
      " 63%|██████▎   | 19/30 [00:13<00:07,  1.47it/s]"
     ]
    },
    {
     "name": "stdout",
     "output_type": "stream",
     "text": [
      "Repetição 30 MLP - Acurácia: 0.96, Precisão: 0.49, Recall: 0.92, F1-score: 0.64, ROC AUC: 0.94\n"
     ]
    },
    {
     "name": "stderr",
     "output_type": "stream",
     "text": [
      " 67%|██████▋   | 20/30 [00:13<00:06,  1.47it/s]"
     ]
    },
    {
     "name": "stdout",
     "output_type": "stream",
     "text": [
      "Repetição 30 MLP - Acurácia: 0.95, Precisão: 0.48, Recall: 0.92, F1-score: 0.63, ROC AUC: 0.94\n"
     ]
    },
    {
     "name": "stderr",
     "output_type": "stream",
     "text": [
      " 70%|███████   | 21/30 [00:14<00:06,  1.46it/s]"
     ]
    },
    {
     "name": "stdout",
     "output_type": "stream",
     "text": [
      "Repetição 30 MLP - Acurácia: 0.95, Precisão: 0.47, Recall: 0.91, F1-score: 0.62, ROC AUC: 0.93\n"
     ]
    },
    {
     "name": "stderr",
     "output_type": "stream",
     "text": [
      " 73%|███████▎  | 22/30 [00:15<00:05,  1.47it/s]"
     ]
    },
    {
     "name": "stdout",
     "output_type": "stream",
     "text": [
      "Repetição 30 MLP - Acurácia: 0.95, Precisão: 0.47, Recall: 0.92, F1-score: 0.62, ROC AUC: 0.94\n"
     ]
    },
    {
     "name": "stderr",
     "output_type": "stream",
     "text": [
      " 77%|███████▋  | 23/30 [00:16<00:04,  1.46it/s]"
     ]
    },
    {
     "name": "stdout",
     "output_type": "stream",
     "text": [
      "Repetição 30 MLP - Acurácia: 0.95, Precisão: 0.47, Recall: 0.91, F1-score: 0.62, ROC AUC: 0.93\n"
     ]
    },
    {
     "name": "stderr",
     "output_type": "stream",
     "text": [
      " 80%|████████  | 24/30 [00:16<00:04,  1.47it/s]"
     ]
    },
    {
     "name": "stdout",
     "output_type": "stream",
     "text": [
      "Repetição 30 MLP - Acurácia: 0.95, Precisão: 0.44, Recall: 0.92, F1-score: 0.60, ROC AUC: 0.93\n"
     ]
    },
    {
     "name": "stderr",
     "output_type": "stream",
     "text": [
      " 83%|████████▎ | 25/30 [00:17<00:03,  1.48it/s]"
     ]
    },
    {
     "name": "stdout",
     "output_type": "stream",
     "text": [
      "Repetição 30 MLP - Acurácia: 0.95, Precisão: 0.47, Recall: 0.92, F1-score: 0.63, ROC AUC: 0.94\n"
     ]
    },
    {
     "name": "stderr",
     "output_type": "stream",
     "text": [
      " 87%|████████▋ | 26/30 [00:18<00:02,  1.50it/s]"
     ]
    },
    {
     "name": "stdout",
     "output_type": "stream",
     "text": [
      "Repetição 30 MLP - Acurácia: 0.96, Precisão: 0.50, Recall: 0.91, F1-score: 0.64, ROC AUC: 0.94\n"
     ]
    },
    {
     "name": "stderr",
     "output_type": "stream",
     "text": [
      " 90%|█████████ | 27/30 [00:18<00:01,  1.53it/s]"
     ]
    },
    {
     "name": "stdout",
     "output_type": "stream",
     "text": [
      "Repetição 30 MLP - Acurácia: 0.95, Precisão: 0.47, Recall: 0.92, F1-score: 0.62, ROC AUC: 0.94\n"
     ]
    },
    {
     "name": "stderr",
     "output_type": "stream",
     "text": [
      " 93%|█████████▎| 28/30 [00:19<00:01,  1.54it/s]"
     ]
    },
    {
     "name": "stdout",
     "output_type": "stream",
     "text": [
      "Repetição 30 MLP - Acurácia: 0.95, Precisão: 0.47, Recall: 0.92, F1-score: 0.62, ROC AUC: 0.93\n"
     ]
    },
    {
     "name": "stderr",
     "output_type": "stream",
     "text": [
      " 97%|█████████▋| 29/30 [00:19<00:00,  1.53it/s]"
     ]
    },
    {
     "name": "stdout",
     "output_type": "stream",
     "text": [
      "Repetição 30 MLP - Acurácia: 0.95, Precisão: 0.48, Recall: 0.92, F1-score: 0.63, ROC AUC: 0.94\n"
     ]
    },
    {
     "name": "stderr",
     "output_type": "stream",
     "text": [
      "100%|██████████| 30/30 [00:20<00:00,  1.46it/s]"
     ]
    },
    {
     "name": "stdout",
     "output_type": "stream",
     "text": [
      "Repetição 30 MLP - Acurácia: 0.95, Precisão: 0.46, Recall: 0.91, F1-score: 0.61, ROC AUC: 0.93\n"
     ]
    },
    {
     "name": "stderr",
     "output_type": "stream",
     "text": [
      "\n"
     ]
    }
   ],
   "source": [
    "acuracias = []\n",
    "precisoes = []\n",
    "recalls = []\n",
    "f1_scores = []\n",
    "roc_auc_scores = []\n",
    "gmean_scores = []\n",
    "mcc_scores = []\n",
    "cohen_scores = []\n",
    "\n",
    "\n",
    "for j in tqdm(range(30)):\n",
    "    # Criando o diretorio\n",
    "    model_dir = os.path.join(\"E:/DrebinStudy/Balanced/Bagging2\", modelName)\n",
    "    model_dir = os.path.join(model_dir, str(j+1))\n",
    "\n",
    "    loaded_estimators = []\n",
    "    for i in range(30):\n",
    "        model_path = os.path.join(model_dir, f'model_{i+1}.joblib')\n",
    "        Bagging = joblib.load(model_path)\n",
    "        loaded_estimators.append(Bagging)\n",
    "\n",
    "    # 5. Fazer a previsão combinada\n",
    "    y_preds = np.array([estimator.predict(x_test) for estimator in loaded_estimators])\n",
    "    previsoes = np.apply_along_axis(lambda x: np.bincount(x).argmax(), axis=0, arr=y_preds)\n",
    "\n",
    "    # Avaliar as métricas do modelo e armazenar na lista temporaria\n",
    "    cm = confusion_matrix(y_test, previsoes)\n",
    "    acuracia = accuracy_score(y_test, previsoes)\n",
    "    precisao = precision_score(y_test, previsoes)\n",
    "    recall = recall_score(y_test, previsoes)\n",
    "    f1 = f1_score(y_test, previsoes)\n",
    "    roc_auc = roc_auc_score(y_test, previsoes)\n",
    "    geoMedia = geometric_mean_score(y_test, previsoes)\n",
    "    mcc = matthews_corrcoef(y_test, previsoes)\n",
    "    kappa = cohen_kappa_score(y_test, previsoes)\n",
    "\n",
    "    \n",
    "    acuracias.append(acuracia)\n",
    "    precisoes.append(precisao)\n",
    "    recalls.append(recall)\n",
    "    f1_scores.append(f1)\n",
    "    roc_auc_scores.append(roc_auc)\n",
    "    gmean_scores.append(geoMedia)\n",
    "    mcc_scores.append(mcc)\n",
    "    cohen_scores.append(kappa)\n",
    "\n",
    "    print(f'Repetição {i+1} {modelName} - Acurácia: {acuracia:.2f}, Precisão: {precisao:.2f}, Recall: {recall:.2f}, F1-score: {f1:.2f}, ROC AUC: {roc_auc:.2f}')\n",
    "\n",
    "# Criar um DataFrame com as métricas\n",
    "    metrics_df = pd.DataFrame({\n",
    "        'Accuracy': [np.mean(acuracias)],\n",
    "        'Precision': [np.mean(precisoes)],\n",
    "        'Recall': [np.mean(recalls)],\n",
    "        'F1_score': [np.mean(f1_scores)],\n",
    "        'Roc_auc': [np.mean(roc_auc_scores)],\n",
    "        'G-Mean': [np.mean(gmean_scores)],\n",
    "        'MCC': [np.mean(mcc_scores)],\n",
    "        'Cohen_Kappa': [np.mean(cohen_scores)],\n",
    "        'Accuracy_std': [np.std(acuracias)],\n",
    "        'Precision_std': [np.std(precisoes)],\n",
    "        'Recall_std': [np.std(recalls)],\n",
    "        'F1_score_std': [np.std(f1_scores)],\n",
    "        'Roc_auc_std': [np.std(roc_auc_scores)],\n",
    "        'G-Mean_std': [np.std(gmean_scores)],\n",
    "        'MCC_std': [np.std(mcc_scores)],\n",
    "        'Cohen_Kappa_std': [np.std(cohen_scores)],\n",
    "    })\n",
    "\n",
    "csv_path = os.path.join(\"E:/DrebinStudy/Balanced/Metrics\", f'bagging{modelName}-2_metrics.csv')\n",
    "metrics_df.to_csv(csv_path, index=False)"
   ]
  }
 ],
 "metadata": {
  "kernelspec": {
   "display_name": "Python 3",
   "language": "python",
   "name": "python3"
  },
  "language_info": {
   "codemirror_mode": {
    "name": "ipython",
    "version": 3
   },
   "file_extension": ".py",
   "mimetype": "text/x-python",
   "name": "python",
   "nbconvert_exporter": "python",
   "pygments_lexer": "ipython3",
   "version": "3.11.4"
  }
 },
 "nbformat": 4,
 "nbformat_minor": 2
}
