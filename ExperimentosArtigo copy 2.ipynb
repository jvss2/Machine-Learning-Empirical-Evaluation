{
 "cells": [
  {
   "cell_type": "markdown",
   "metadata": {},
   "source": [
    "### Libs"
   ]
  },
  {
   "cell_type": "code",
   "execution_count": 13,
   "metadata": {},
   "outputs": [],
   "source": [
    "import numpy as np\n",
    "import matplotlib.pyplot as plt\n",
    "import joblib\n",
    "from sklearn.ensemble import RandomForestClassifier\n",
    "from imblearn.over_sampling import SMOTE\n",
    "from sklearn.model_selection import train_test_split, KFold\n",
    "import sys\n",
    "import os\n",
    "from os import listdir\n",
    "from os.path import isfile, join\n",
    "import pandas as pd\n",
    "from sklearn.tree import DecisionTreeClassifier\n",
    "from sklearn.metrics import accuracy_score\n",
    "from sklearn.naive_bayes import BernoulliNB, GaussianNB\n",
    "from sklearn.neural_network import MLPClassifier\n",
    "from sklearn.svm import SVC\n",
    "from sklearn.neighbors import KNeighborsClassifier\n",
    "from sklearn.ensemble import BaggingClassifier\n",
    "from sklearn.datasets import make_classification\n",
    "from sklearn.metrics import accuracy_score, precision_score, recall_score, f1_score, confusion_matrix, roc_auc_score\n",
    "from sklearn.tree import DecisionTreeClassifier\n",
    "from sklearn.ensemble import BaggingClassifier\n",
    "from sklearn.metrics import accuracy_score, precision_score, recall_score, f1_score, roc_auc_score, confusion_matrix\n",
    "from tabulate import tabulate\n",
    "from tqdm import tqdm\n",
    "from sklearn.ensemble import RandomForestClassifier\n",
    "from sklearn.metrics import accuracy_score, classification_report, confusion_matrix\n",
    "import matplotlib.pyplot as plt\n",
    "import seaborn as sns\n",
    "from sklearn.ensemble import GradientBoostingClassifier\n",
    "from sklearn.ensemble import RandomForestClassifier\n",
    "from deslib.dcs import OLA\n",
    "# from deslib.dcs import KNORA_U, KNORA_E\n",
    "from deslib.des import  KNOP, METADES\n",
    "from deslib.static import SingleBest, StackedClassifier\n",
    "from deslib.static import StaticSelection\n",
    "from imblearn.metrics import geometric_mean_score"
   ]
  },
  {
   "cell_type": "markdown",
   "metadata": {},
   "source": [
    "### Feature extrection"
   ]
  },
  {
   "cell_type": "code",
   "execution_count": 14,
   "metadata": {},
   "outputs": [],
   "source": [
    "FEATURES_SET = {\n",
    "    \"feature\": 1,\n",
    "    \"permission\": 2,\n",
    "    \"activity\": 3,\n",
    "    \"service_receiver\": 3,\n",
    "    \"provider\": 3,\n",
    "    \"service\": 3,\n",
    "    \"intent\": 4,\n",
    "    \"api_call\": 5,\n",
    "    \"real_permission\": 6,\n",
    "    \"call\": 7,\n",
    "    \"url\": 8\n",
    "}\n",
    "\n",
    "\n",
    "def count_feature_set(lines):\n",
    "    \"\"\"\n",
    "    Count how many features belong to a specific set\n",
    "    :param lines: features in the text file\n",
    "    :return:\n",
    "    \"\"\"\n",
    "    features_map = {x: 0 for x in range(1, 9)}\n",
    "    for l in lines:\n",
    "        if l != \"\\n\":\n",
    "            set = l.split(\"::\")[0]\n",
    "            features_map[FEATURES_SET[set]] += 1\n",
    "    features = []\n",
    "    for i in range(1, 9):\n",
    "        features.append(features_map[i])\n",
    "    return features\n"
   ]
  },
  {
   "cell_type": "code",
   "execution_count": 15,
   "metadata": {},
   "outputs": [
    {
     "name": "stdout",
     "output_type": "stream",
     "text": [
      "Loading previous data ...\n",
      "(129013, 8) (129013,)\n"
     ]
    }
   ],
   "source": [
    "def read(LOAD_DATA=False):\n",
    "    if LOAD_DATA:\n",
    "        print(\"Previous data not loaded. Attempt to read data ...\")\n",
    "        mypath = r\"C:\\Users\\josev\\Desktop\\ProjetoPessoalNN\\GeorgeDarminton\\Drebin\\MetaData\\feature_vectors\\feature_vectors\"\n",
    "        onlyfiles = [f for f in listdir(mypath) if isfile(join(mypath, f))]\n",
    "\n",
    "        print(\"Reading csv file for ground truth ...\")\n",
    "        ground_truth = np.loadtxt(r\"C:\\Users\\josev\\Desktop\\ProjetoPessoalNN\\GeorgeDarminton\\Drebin\\MetaData\\sha256_family.csv\", delimiter=\",\", skiprows=1, dtype=str)\n",
    "        # print ground_truth.shape\n",
    "        # families = np.unique(ground_truth[:, 1])\n",
    "        # print families\n",
    "        # print len(families)\n",
    "\n",
    "        print(\"Reading positive and negative texts ...\")\n",
    "        pos = []\n",
    "        neg = []\n",
    "        for virus in tqdm(onlyfiles):\n",
    "            if virus in ground_truth[:, 0]:\n",
    "                pos.append(virus)\n",
    "            else:\n",
    "                #if len(neg) < 5560:\n",
    "                #if len(neg) < 22240:\n",
    "                    neg.append(virus)\n",
    "\n",
    "        print(\"Extracting features ...\")\n",
    "        x = []\n",
    "        y = []\n",
    "        for text_file in tqdm(pos):\n",
    "            sys.stdin = open(\"%s/%s\" % (mypath, text_file))\n",
    "            features = sys.stdin.readlines()\n",
    "            sample = count_feature_set(features)\n",
    "            x.append(sample)\n",
    "            y.append(1)\n",
    "\n",
    "        for text_file in tqdm(neg):\n",
    "            sys.stdin = open(\"%s/%s\" % (mypath, text_file))\n",
    "            features = sys.stdin.readlines()\n",
    "            sample = count_feature_set(features)\n",
    "            x.append(sample)\n",
    "            y.append(0)\n",
    "\n",
    "        print(\"Data is read successfully:\")\n",
    "        x = np.array(x)\n",
    "        y = np.array(y)\n",
    "        print(x.shape, y.shape)\n",
    "\n",
    "        print(\"Saving data under data_numpy directory ...\")\n",
    "        np.save(r\"C:\\Users\\josev\\Desktop\\ProjetoPessoalNN\\GeorgeDarminton/x_all.npy\", x)\n",
    "        np.save(r\"C:\\Users\\josev\\Desktop\\ProjetoPessoalNN\\GeorgeDarminton/y_all.npy\", y)\n",
    "\n",
    "        return x, y\n",
    "    else:\n",
    "        print(\"Loading previous data ...\")\n",
    "        x_ = np.load(r\"C:\\Users\\josev\\Desktop\\ProjetoPessoalNN\\GeorgeDarminton/x_all.npy\")\n",
    "        y_ = np.load(r\"C:\\Users\\josev\\Desktop\\ProjetoPessoalNN\\GeorgeDarminton/y_all.npy\")\n",
    "        print(x_.shape, y_.shape)\n",
    "        # print x == x_, y == y_\n",
    "        return x_, y_\n",
    "\n",
    "\n",
    "def map_family_to_category(families):\n",
    "    out = {}\n",
    "    count = 1\n",
    "    for family in families:\n",
    "        out[family] = count\n",
    "        count += 1\n",
    "    return out\n",
    "\n",
    "\n",
    "if __name__ == \"__main__\":\n",
    "    #x, y = read(LOAD_DATA=True)\n",
    "    x, y = read()"
   ]
  },
  {
   "cell_type": "markdown",
   "metadata": {},
   "source": [
    "### Dataframe"
   ]
  },
  {
   "cell_type": "code",
   "execution_count": 16,
   "metadata": {},
   "outputs": [
    {
     "name": "stdout",
     "output_type": "stream",
     "text": [
      "Loading previous data ...\n",
      "(129013, 8) (129013,)\n",
      "(103210, 8) (103210,)\n",
      "(25803, 8) (25803,)\n"
     ]
    }
   ],
   "source": [
    "x_all, y_all = read(LOAD_DATA=False)\n",
    "x_train, x_test, y_train, y_test = train_test_split(x_all, y_all, test_size=0.2, stratify=y_all)\n",
    "print(x_train.shape, y_train.shape)\n",
    "print(x_test.shape, y_test.shape)"
   ]
  },
  {
   "cell_type": "markdown",
   "metadata": {},
   "source": [
    "### Algorithms"
   ]
  },
  {
   "cell_type": "code",
   "execution_count": 17,
   "metadata": {},
   "outputs": [],
   "source": [
    "classifiers = {\n",
    "    # 'DecisionTree': DecisionTreeClassifier(criterion='gini'),\n",
    "    # 'MLP': MLPClassifier(hidden_layer_sizes=(100), max_iter=1000),\n",
    "    # 'Knn': KNeighborsClassifier(n_neighbors=7),\n",
    "    # 'NaiveBayes': GaussianNB(),\n",
    "    # 'BaggingDecisionTree': BaggingClassifier(estimator=DecisionTreeClassifier(criterion='gini'), n_estimators=30),\n",
    "    # 'BaggingNaiveBayes': BaggingClassifier(estimator=GaussianNB(), n_estimators=30),\n",
    "    # 'BaggingKnn': BaggingClassifier(estimator=KNeighborsClassifier(n_neighbors=7), n_estimators=30),\n",
    "    # 'BaggingMLP': BaggingClassifier(estimator=MLPClassifier(hidden_layer_sizes=(100), max_iter=1000), n_estimators=30),\n",
    "    'GradientBoostedDecisionTree': GradientBoostingClassifier(n_estimators=100),\n",
    "    'RandomForest': RandomForestClassifier(n_estimators=100)\n",
    "}\n",
    "\n",
    "DES = {\n",
    "    \"SingleBest\": SingleBest,\n",
    "    \"StaticSelection\": StaticSelection,\n",
    "    \"OLA\": OLA,\n",
    "    # \"KNORAU\": KNORAU,\n",
    "    # \"KNORAE\": KNORAE,\n",
    "    \"KNOP\": KNOP,\n",
    "    \"METADES\": METADES\n",
    "}"
   ]
  },
  {
   "cell_type": "markdown",
   "metadata": {},
   "source": [
    "### Saving Time Functions"
   ]
  },
  {
   "cell_type": "code",
   "execution_count": 18,
   "metadata": {},
   "outputs": [],
   "source": [
    "def CreateModel(x_all, y_all, model, modelName, balance, num_rep=30):\n",
    "\n",
    "    model_dir = os.path.join(\"E:/DrebinStudy/Unbalanced\", modelName)\n",
    "    os.makedirs(model_dir, exist_ok=True)  # Create the directory if it doesn't exist\n",
    "\n",
    "    acuracias = []\n",
    "    precisoes = []\n",
    "    recalls = []\n",
    "    f1_scores = []\n",
    "    roc_auc_scores = []\n",
    "    gmean_scores = []\n",
    "\n",
    "\n",
    "    for i in tqdm(range(num_rep)):\n",
    "\n",
    "        if balance:\n",
    "            x_train, x_test, y_train, y_test = train_test_split(x_all, y_all, test_size=0.2, stratify=y_all)\n",
    "            smote = SMOTE(sampling_strategy='auto', k_neighbors=5)\n",
    "            x_train, y_train = smote.fit_resample(x_train, y_train)\n",
    "            model_dir = os.path.join(\"E:/DrebinStudy/Balanced\", modelName)\n",
    "            os.makedirs(model_dir, exist_ok=True)  # Create the directory if it doesn't exist\n",
    "\n",
    "        else:\n",
    "            x_train, x_test, y_train, y_test = train_test_split(x_all, y_all, test_size=0.2, stratify=y_all)\n",
    "\n",
    "        # Treinar o modelo no conjunto de treino\n",
    "        model.fit(x_train, y_train)\n",
    "\n",
    "        # Fazer previsões no conjunto de teste\n",
    "        previsoes = model.predict(x_test)\n",
    "        \n",
    "        # Avaliar as métricas do modelo e armazenar na lista temporaria\n",
    "        cm = confusion_matrix(y_test, previsoes)\n",
    "        acuracia = accuracy_score(y_test, previsoes)\n",
    "        precisao = precision_score(y_test, previsoes)\n",
    "        recall = recall_score(y_test, previsoes)\n",
    "        f1 = f1_score(y_test, previsoes)\n",
    "        roc_auc = roc_auc_score(y_test, previsoes)\n",
    "        geoMedia = geometric_mean_score(y_test, previsoes)\n",
    "        \n",
    "        acuracias.append(acuracia)\n",
    "        precisoes.append(precisao)\n",
    "        recalls.append(recall)\n",
    "        f1_scores.append(f1)\n",
    "        roc_auc_scores.append(roc_auc)\n",
    "        gmean_scores.append(geoMedia)\n",
    "        \n",
    "        # Salva o modelo treinado\n",
    "        model_path = os.path.join(model_dir, f'model_{i+1}.joblib')\n",
    "        joblib.dump(model, model_path)\n",
    "\n",
    "        # plt.figure(figsize=(8, 6))\n",
    "        # sns.heatmap(cm, annot=True, fmt='d', cmap='Blues')\n",
    "        # plt.xlabel('Predicted')\n",
    "        # plt.ylabel('Actual')\n",
    "        # plt.title('Confusion Matrix')\n",
    "        # plt.show()\n",
    "        print(f'Repetição {i+1} {modelName} - Acurácia: {acuracia:.2f}, Precisão: {precisao:.2f}, Recall: {recall:.2f}, F1-score: {f1:.2f}, ROC AUC: {roc_auc:.2f}')\n",
    "\n",
    "    # Criar um DataFrame com as métricas\n",
    "    metrics_df = pd.DataFrame({\n",
    "        'Accuracy': [np.mean(acuracias)],\n",
    "        'Precision': [np.mean(precisoes)],\n",
    "        'Recall': [np.mean(recalls)],\n",
    "        'F1_score': [np.mean(f1_scores)],\n",
    "        'Roc_auc': [np.mean(roc_auc_scores)],\n",
    "        'G-Mean': [np.mean(gmean_scores)],\n",
    "        'Accuracy_std': [np.std(acuracias)],\n",
    "        'Precision_std': [np.std(precisoes)],\n",
    "        'Recall_std': [np.std(recalls)],\n",
    "        'F1_score_std': [np.std(f1_scores)],\n",
    "        'Roc_auc_std': [np.std(roc_auc_scores)],\n",
    "        'G-Mean_std': [np.std(gmean_scores)]\n",
    "    })\n",
    "\n",
    "\n",
    "    if balance:\n",
    "        # Salvar o DataFrame em um arquivo CSV\n",
    "        csv_path = os.path.join(\"E:/DrebinStudy/Balanced/Metrics\", f'{modelName}_metrics.csv')\n",
    "        metrics_df.to_csv(csv_path, index=False)\n",
    "    \n",
    "    else:\n",
    "        # Salvar o DataFrame em um arquivo CSV\n",
    "        csv_path = os.path.join(\"E:/DrebinStudy/Unbalanced/Metrics\", f'{modelName}_metrics.csv')\n",
    "        metrics_df.to_csv(csv_path, index=False)\n",
    "    print(f'Métricas salvas em {csv_path}')"
   ]
  },
  {
   "cell_type": "code",
   "execution_count": 19,
   "metadata": {},
   "outputs": [],
   "source": [
    "def CreateDESModel(x_all, y_all, model, modelName, balance, num_rep=30):\n",
    "    if balance:\n",
    "        model_dir = os.path.join(\"E:/DrebinStudy/Balanced\", modelName)\n",
    "    else:\n",
    "        model_dir = os.path.join(\"E:/DrebinStudy/Unbalanced\", modelName)\n",
    "    \n",
    "    os.makedirs(model_dir, exist_ok=True)\n",
    "\n",
    "    acuracias = []\n",
    "    precisoes = []\n",
    "    recalls = []\n",
    "    f1_scores = []\n",
    "    roc_auc_scores = []\n",
    "    gmean_scores = []\n",
    "\n",
    "    for i in tqdm(range(num_rep)):\n",
    "        x_train, x_test, y_train, y_test = train_test_split(x_all, y_all, test_size=0.2, stratify=y_all)\n",
    "\n",
    "        if balance:\n",
    "            smote = SMOTE(sampling_strategy='auto', k_neighbors=5)\n",
    "            x_train, y_train = smote.fit_resample(x_train, y_train)\n",
    "\n",
    "        # Train an ensemble of classifiers\n",
    "        ensemble = RandomForestClassifier(n_estimators=100)\n",
    "        ensemble.fit(x_train, y_train)\n",
    "\n",
    "        # Initialize and train the DES model on the training set\n",
    "        des_model = model(ensemble)\n",
    "        des_model.fit(x_train, y_train)\n",
    "\n",
    "        # Make predictions on the test set\n",
    "        previsoes = des_model.predict(x_test)\n",
    "\n",
    "        # Avaliar as métricas do modelo e armazenar na lista temporaria\n",
    "        cm = confusion_matrix(y_test, previsoes)\n",
    "        acuracia = accuracy_score(y_test, previsoes)\n",
    "        precisao = precision_score(y_test, previsoes)\n",
    "        recall = recall_score(y_test, previsoes)\n",
    "        f1 = f1_score(y_test, previsoes)\n",
    "        roc_auc = roc_auc_score(y_test, previsoes)\n",
    "        geoMedia = geometric_mean_score(y_test, previsoes)\n",
    "        \n",
    "        acuracias.append(acuracia)\n",
    "        precisoes.append(precisao)\n",
    "        recalls.append(recall)\n",
    "        f1_scores.append(f1)\n",
    "        roc_auc_scores.append(roc_auc)\n",
    "        gmean_scores.append(geoMedia)\n",
    "\n",
    "        # # Save the trained model\n",
    "        model_path = os.path.join(model_dir, f'model_{i+1}.joblib')\n",
    "        joblib.dump(des_model, model_path)\n",
    "\n",
    "        # plt.figure(figsize=(8, 6))\n",
    "        # sns.heatmap(cm, annot=True, fmt='d', cmap='Blues')\n",
    "        # plt.xlabel('Predicted')\n",
    "        # plt.ylabel('Actual')\n",
    "        # plt.title('Confusion Matrix')\n",
    "        # plt.show()\n",
    "        print(f'Repetition {i+1} - Accuracy: {acuracia:.2f}, Precision: {precisao:.2f}, Recall: {recall:.2f}, F1-score: {f1:.2f}, ROC AUC: {roc_auc:.2f}')\n",
    "\n",
    "    # Criar um DataFrame com as métricas\n",
    "    metrics_df = pd.DataFrame({\n",
    "        'Accuracy': [np.mean(acuracias)],\n",
    "        'Precision': [np.mean(precisoes)],\n",
    "        'Recall': [np.mean(recalls)],\n",
    "        'F1_score': [np.mean(f1_scores)],\n",
    "        'Roc_auc': [np.mean(roc_auc_scores)],\n",
    "        'G-Mean': [np.mean(gmean_scores)],\n",
    "        'Accuracy_std': [np.std(acuracias)],\n",
    "        'Precision_std': [np.std(precisoes)],\n",
    "        'Recall_std': [np.std(recalls)],\n",
    "        'F1_score_std': [np.std(f1_scores)],\n",
    "        'Roc_auc_std': [np.std(roc_auc_scores)],\n",
    "        'G-Mean_std': [np.std(gmean_scores)]\n",
    "    })\n",
    "\n",
    "\n",
    "    if balance:\n",
    "        # Salvar o DataFrame em um arquivo CSV\n",
    "        csv_path = os.path.join(\"E:/DrebinStudy/Balanced/Metrics\", f'{modelName}_metrics.csv')\n",
    "        metrics_df.to_csv(csv_path, index=False)\n",
    "    \n",
    "    else:\n",
    "        # Salvar o DataFrame em um arquivo CSV\n",
    "        csv_path = os.path.join(\"E:/DrebinStudy/Unbalanced/Metrics\", f'{modelName}_metrics.csv')\n",
    "        metrics_df.to_csv(csv_path, index=False)\n",
    "    print(f'Métricas salvas em {csv_path}')"
   ]
  },
  {
   "cell_type": "markdown",
   "metadata": {},
   "source": [
    "### Models"
   ]
  },
  {
   "cell_type": "markdown",
   "metadata": {},
   "source": [
    "#### Unbalanced"
   ]
  },
  {
   "cell_type": "code",
   "execution_count": 20,
   "metadata": {},
   "outputs": [],
   "source": [
    "# for name, classifier in classifiers.items():\n",
    "#     CreateModel(x_all, y_all, classifier, name, False)"
   ]
  },
  {
   "cell_type": "code",
   "execution_count": 21,
   "metadata": {},
   "outputs": [],
   "source": [
    "# for name, classifier in DES.items():\n",
    "#     CreateDESModel(x_all, y_all, classifier, name, balance=False)"
   ]
  },
  {
   "cell_type": "markdown",
   "metadata": {},
   "source": [
    "#### Balanced"
   ]
  },
  {
   "cell_type": "code",
   "execution_count": 22,
   "metadata": {},
   "outputs": [
    {
     "name": "stderr",
     "output_type": "stream",
     "text": [
      "  3%|▎         | 1/30 [00:22<10:41, 22.12s/it]"
     ]
    },
    {
     "name": "stdout",
     "output_type": "stream",
     "text": [
      "Repetição 1 GradientBoostedDecisionTree - Acurácia: 0.90, Precisão: 0.28, Recall: 0.87, F1-score: 0.42, ROC AUC: 0.89\n"
     ]
    },
    {
     "name": "stderr",
     "output_type": "stream",
     "text": [
      "  7%|▋         | 2/30 [00:41<09:36, 20.58s/it]"
     ]
    },
    {
     "name": "stdout",
     "output_type": "stream",
     "text": [
      "Repetição 2 GradientBoostedDecisionTree - Acurácia: 0.90, Precisão: 0.28, Recall: 0.87, F1-score: 0.42, ROC AUC: 0.88\n"
     ]
    },
    {
     "name": "stderr",
     "output_type": "stream",
     "text": [
      " 10%|█         | 3/30 [01:00<08:58, 19.93s/it]"
     ]
    },
    {
     "name": "stdout",
     "output_type": "stream",
     "text": [
      "Repetição 3 GradientBoostedDecisionTree - Acurácia: 0.90, Precisão: 0.28, Recall: 0.88, F1-score: 0.42, ROC AUC: 0.89\n"
     ]
    },
    {
     "name": "stderr",
     "output_type": "stream",
     "text": [
      " 13%|█▎        | 4/30 [01:19<08:29, 19.59s/it]"
     ]
    },
    {
     "name": "stdout",
     "output_type": "stream",
     "text": [
      "Repetição 4 GradientBoostedDecisionTree - Acurácia: 0.90, Precisão: 0.28, Recall: 0.87, F1-score: 0.42, ROC AUC: 0.88\n"
     ]
    },
    {
     "name": "stderr",
     "output_type": "stream",
     "text": [
      " 17%|█▋        | 5/30 [01:39<08:06, 19.45s/it]"
     ]
    },
    {
     "name": "stdout",
     "output_type": "stream",
     "text": [
      "Repetição 5 GradientBoostedDecisionTree - Acurácia: 0.90, Precisão: 0.28, Recall: 0.86, F1-score: 0.42, ROC AUC: 0.88\n"
     ]
    },
    {
     "name": "stderr",
     "output_type": "stream",
     "text": [
      " 20%|██        | 6/30 [02:09<09:13, 23.07s/it]"
     ]
    },
    {
     "name": "stdout",
     "output_type": "stream",
     "text": [
      "Repetição 6 GradientBoostedDecisionTree - Acurácia: 0.90, Precisão: 0.27, Recall: 0.85, F1-score: 0.41, ROC AUC: 0.87\n"
     ]
    },
    {
     "name": "stderr",
     "output_type": "stream",
     "text": [
      " 23%|██▎       | 7/30 [02:35<09:12, 24.00s/it]"
     ]
    },
    {
     "name": "stdout",
     "output_type": "stream",
     "text": [
      "Repetição 7 GradientBoostedDecisionTree - Acurácia: 0.90, Precisão: 0.28, Recall: 0.85, F1-score: 0.42, ROC AUC: 0.87\n"
     ]
    },
    {
     "name": "stderr",
     "output_type": "stream",
     "text": [
      " 27%|██▋       | 8/30 [02:54<08:13, 22.44s/it]"
     ]
    },
    {
     "name": "stdout",
     "output_type": "stream",
     "text": [
      "Repetição 8 GradientBoostedDecisionTree - Acurácia: 0.90, Precisão: 0.28, Recall: 0.86, F1-score: 0.42, ROC AUC: 0.88\n"
     ]
    },
    {
     "name": "stderr",
     "output_type": "stream",
     "text": [
      " 30%|███       | 9/30 [03:13<07:31, 21.48s/it]"
     ]
    },
    {
     "name": "stdout",
     "output_type": "stream",
     "text": [
      "Repetição 9 GradientBoostedDecisionTree - Acurácia: 0.90, Precisão: 0.28, Recall: 0.87, F1-score: 0.42, ROC AUC: 0.88\n"
     ]
    },
    {
     "name": "stderr",
     "output_type": "stream",
     "text": [
      " 33%|███▎      | 10/30 [03:34<07:06, 21.30s/it]"
     ]
    },
    {
     "name": "stdout",
     "output_type": "stream",
     "text": [
      "Repetição 10 GradientBoostedDecisionTree - Acurácia: 0.90, Precisão: 0.27, Recall: 0.87, F1-score: 0.42, ROC AUC: 0.88\n"
     ]
    },
    {
     "name": "stderr",
     "output_type": "stream",
     "text": [
      " 37%|███▋      | 11/30 [03:54<06:37, 20.94s/it]"
     ]
    },
    {
     "name": "stdout",
     "output_type": "stream",
     "text": [
      "Repetição 11 GradientBoostedDecisionTree - Acurácia: 0.90, Precisão: 0.28, Recall: 0.88, F1-score: 0.43, ROC AUC: 0.89\n"
     ]
    },
    {
     "name": "stderr",
     "output_type": "stream",
     "text": [
      " 40%|████      | 12/30 [04:13<06:07, 20.44s/it]"
     ]
    },
    {
     "name": "stdout",
     "output_type": "stream",
     "text": [
      "Repetição 12 GradientBoostedDecisionTree - Acurácia: 0.90, Precisão: 0.29, Recall: 0.86, F1-score: 0.43, ROC AUC: 0.88\n"
     ]
    },
    {
     "name": "stderr",
     "output_type": "stream",
     "text": [
      " 43%|████▎     | 13/30 [04:33<05:41, 20.09s/it]"
     ]
    },
    {
     "name": "stdout",
     "output_type": "stream",
     "text": [
      "Repetição 13 GradientBoostedDecisionTree - Acurácia: 0.90, Precisão: 0.28, Recall: 0.87, F1-score: 0.42, ROC AUC: 0.89\n"
     ]
    },
    {
     "name": "stderr",
     "output_type": "stream",
     "text": [
      " 47%|████▋     | 14/30 [04:51<05:15, 19.69s/it]"
     ]
    },
    {
     "name": "stdout",
     "output_type": "stream",
     "text": [
      "Repetição 14 GradientBoostedDecisionTree - Acurácia: 0.90, Precisão: 0.28, Recall: 0.87, F1-score: 0.42, ROC AUC: 0.88\n"
     ]
    },
    {
     "name": "stderr",
     "output_type": "stream",
     "text": [
      " 50%|█████     | 15/30 [05:12<04:58, 19.89s/it]"
     ]
    },
    {
     "name": "stdout",
     "output_type": "stream",
     "text": [
      "Repetição 15 GradientBoostedDecisionTree - Acurácia: 0.90, Precisão: 0.28, Recall: 0.86, F1-score: 0.43, ROC AUC: 0.88\n"
     ]
    },
    {
     "name": "stderr",
     "output_type": "stream",
     "text": [
      " 53%|█████▎    | 16/30 [05:34<04:47, 20.53s/it]"
     ]
    },
    {
     "name": "stdout",
     "output_type": "stream",
     "text": [
      "Repetição 16 GradientBoostedDecisionTree - Acurácia: 0.90, Precisão: 0.29, Recall: 0.88, F1-score: 0.43, ROC AUC: 0.89\n"
     ]
    },
    {
     "name": "stderr",
     "output_type": "stream",
     "text": [
      " 57%|█████▋    | 17/30 [05:55<04:28, 20.64s/it]"
     ]
    },
    {
     "name": "stdout",
     "output_type": "stream",
     "text": [
      "Repetição 17 GradientBoostedDecisionTree - Acurácia: 0.89, Precisão: 0.27, Recall: 0.87, F1-score: 0.41, ROC AUC: 0.88\n"
     ]
    },
    {
     "name": "stderr",
     "output_type": "stream",
     "text": [
      " 60%|██████    | 18/30 [06:15<04:07, 20.61s/it]"
     ]
    },
    {
     "name": "stdout",
     "output_type": "stream",
     "text": [
      "Repetição 18 GradientBoostedDecisionTree - Acurácia: 0.90, Precisão: 0.28, Recall: 0.86, F1-score: 0.42, ROC AUC: 0.88\n"
     ]
    },
    {
     "name": "stderr",
     "output_type": "stream",
     "text": [
      " 63%|██████▎   | 19/30 [06:36<03:46, 20.55s/it]"
     ]
    },
    {
     "name": "stdout",
     "output_type": "stream",
     "text": [
      "Repetição 19 GradientBoostedDecisionTree - Acurácia: 0.89, Precisão: 0.27, Recall: 0.88, F1-score: 0.42, ROC AUC: 0.89\n"
     ]
    },
    {
     "name": "stderr",
     "output_type": "stream",
     "text": [
      " 67%|██████▋   | 20/30 [06:56<03:23, 20.39s/it]"
     ]
    },
    {
     "name": "stdout",
     "output_type": "stream",
     "text": [
      "Repetição 20 GradientBoostedDecisionTree - Acurácia: 0.90, Precisão: 0.28, Recall: 0.87, F1-score: 0.43, ROC AUC: 0.88\n"
     ]
    },
    {
     "name": "stderr",
     "output_type": "stream",
     "text": [
      " 70%|███████   | 21/30 [07:15<03:01, 20.20s/it]"
     ]
    },
    {
     "name": "stdout",
     "output_type": "stream",
     "text": [
      "Repetição 21 GradientBoostedDecisionTree - Acurácia: 0.90, Precisão: 0.29, Recall: 0.88, F1-score: 0.43, ROC AUC: 0.89\n"
     ]
    },
    {
     "name": "stderr",
     "output_type": "stream",
     "text": [
      " 73%|███████▎  | 22/30 [07:35<02:40, 20.06s/it]"
     ]
    },
    {
     "name": "stdout",
     "output_type": "stream",
     "text": [
      "Repetição 22 GradientBoostedDecisionTree - Acurácia: 0.89, Precisão: 0.27, Recall: 0.87, F1-score: 0.41, ROC AUC: 0.88\n"
     ]
    },
    {
     "name": "stderr",
     "output_type": "stream",
     "text": [
      " 77%|███████▋  | 23/30 [07:55<02:20, 20.06s/it]"
     ]
    },
    {
     "name": "stdout",
     "output_type": "stream",
     "text": [
      "Repetição 23 GradientBoostedDecisionTree - Acurácia: 0.90, Precisão: 0.28, Recall: 0.87, F1-score: 0.42, ROC AUC: 0.88\n"
     ]
    },
    {
     "name": "stderr",
     "output_type": "stream",
     "text": [
      " 80%|████████  | 24/30 [08:14<01:58, 19.81s/it]"
     ]
    },
    {
     "name": "stdout",
     "output_type": "stream",
     "text": [
      "Repetição 24 GradientBoostedDecisionTree - Acurácia: 0.90, Precisão: 0.28, Recall: 0.87, F1-score: 0.42, ROC AUC: 0.88\n"
     ]
    },
    {
     "name": "stderr",
     "output_type": "stream",
     "text": [
      " 83%|████████▎ | 25/30 [08:31<01:33, 18.77s/it]"
     ]
    },
    {
     "name": "stdout",
     "output_type": "stream",
     "text": [
      "Repetição 25 GradientBoostedDecisionTree - Acurácia: 0.90, Precisão: 0.28, Recall: 0.88, F1-score: 0.42, ROC AUC: 0.89\n"
     ]
    },
    {
     "name": "stderr",
     "output_type": "stream",
     "text": [
      " 87%|████████▋ | 26/30 [08:47<01:11, 18.00s/it]"
     ]
    },
    {
     "name": "stdout",
     "output_type": "stream",
     "text": [
      "Repetição 26 GradientBoostedDecisionTree - Acurácia: 0.90, Precisão: 0.28, Recall: 0.86, F1-score: 0.43, ROC AUC: 0.88\n"
     ]
    },
    {
     "name": "stderr",
     "output_type": "stream",
     "text": [
      " 90%|█████████ | 27/30 [09:03<00:52, 17.40s/it]"
     ]
    },
    {
     "name": "stdout",
     "output_type": "stream",
     "text": [
      "Repetição 27 GradientBoostedDecisionTree - Acurácia: 0.90, Precisão: 0.28, Recall: 0.86, F1-score: 0.42, ROC AUC: 0.88\n"
     ]
    },
    {
     "name": "stderr",
     "output_type": "stream",
     "text": [
      " 93%|█████████▎| 28/30 [09:21<00:35, 17.61s/it]"
     ]
    },
    {
     "name": "stdout",
     "output_type": "stream",
     "text": [
      "Repetição 28 GradientBoostedDecisionTree - Acurácia: 0.90, Precisão: 0.28, Recall: 0.86, F1-score: 0.42, ROC AUC: 0.88\n"
     ]
    },
    {
     "name": "stderr",
     "output_type": "stream",
     "text": [
      " 97%|█████████▋| 29/30 [09:37<00:17, 17.23s/it]"
     ]
    },
    {
     "name": "stdout",
     "output_type": "stream",
     "text": [
      "Repetição 29 GradientBoostedDecisionTree - Acurácia: 0.90, Precisão: 0.28, Recall: 0.87, F1-score: 0.42, ROC AUC: 0.89\n"
     ]
    },
    {
     "name": "stderr",
     "output_type": "stream",
     "text": [
      "100%|██████████| 30/30 [09:53<00:00, 19.79s/it]\n"
     ]
    },
    {
     "name": "stdout",
     "output_type": "stream",
     "text": [
      "Repetição 30 GradientBoostedDecisionTree - Acurácia: 0.90, Precisão: 0.28, Recall: 0.86, F1-score: 0.42, ROC AUC: 0.88\n",
      "Métricas salvas em E:/DrebinStudy/Balanced/Metrics\\GradientBoostedDecisionTree_metrics.csv\n"
     ]
    },
    {
     "name": "stderr",
     "output_type": "stream",
     "text": [
      "  3%|▎         | 1/30 [00:13<06:24, 13.25s/it]"
     ]
    },
    {
     "name": "stdout",
     "output_type": "stream",
     "text": [
      "Repetição 1 RandomForest - Acurácia: 0.98, Precisão: 0.70, Recall: 0.89, F1-score: 0.78, ROC AUC: 0.94\n"
     ]
    },
    {
     "name": "stderr",
     "output_type": "stream",
     "text": [
      "  7%|▋         | 2/30 [00:27<06:19, 13.56s/it]"
     ]
    },
    {
     "name": "stdout",
     "output_type": "stream",
     "text": [
      "Repetição 2 RandomForest - Acurácia: 0.98, Precisão: 0.73, Recall: 0.88, F1-score: 0.80, ROC AUC: 0.93\n"
     ]
    },
    {
     "name": "stderr",
     "output_type": "stream",
     "text": [
      " 10%|█         | 3/30 [00:41<06:23, 14.19s/it]"
     ]
    },
    {
     "name": "stdout",
     "output_type": "stream",
     "text": [
      "Repetição 3 RandomForest - Acurácia: 0.98, Precisão: 0.71, Recall: 0.85, F1-score: 0.77, ROC AUC: 0.92\n"
     ]
    },
    {
     "name": "stderr",
     "output_type": "stream",
     "text": [
      " 13%|█▎        | 4/30 [00:56<06:11, 14.30s/it]"
     ]
    },
    {
     "name": "stdout",
     "output_type": "stream",
     "text": [
      "Repetição 4 RandomForest - Acurácia: 0.98, Precisão: 0.72, Recall: 0.87, F1-score: 0.79, ROC AUC: 0.93\n"
     ]
    },
    {
     "name": "stderr",
     "output_type": "stream",
     "text": [
      " 17%|█▋        | 5/30 [01:11<06:05, 14.63s/it]"
     ]
    },
    {
     "name": "stdout",
     "output_type": "stream",
     "text": [
      "Repetição 5 RandomForest - Acurácia: 0.98, Precisão: 0.74, Recall: 0.86, F1-score: 0.79, ROC AUC: 0.92\n"
     ]
    },
    {
     "name": "stderr",
     "output_type": "stream",
     "text": [
      " 20%|██        | 6/30 [01:25<05:48, 14.50s/it]"
     ]
    },
    {
     "name": "stdout",
     "output_type": "stream",
     "text": [
      "Repetição 6 RandomForest - Acurácia: 0.98, Precisão: 0.71, Recall: 0.87, F1-score: 0.78, ROC AUC: 0.93\n"
     ]
    },
    {
     "name": "stderr",
     "output_type": "stream",
     "text": [
      " 23%|██▎       | 7/30 [01:40<05:31, 14.41s/it]"
     ]
    },
    {
     "name": "stdout",
     "output_type": "stream",
     "text": [
      "Repetição 7 RandomForest - Acurácia: 0.98, Precisão: 0.73, Recall: 0.89, F1-score: 0.80, ROC AUC: 0.94\n"
     ]
    },
    {
     "name": "stderr",
     "output_type": "stream",
     "text": [
      " 27%|██▋       | 8/30 [01:54<05:16, 14.39s/it]"
     ]
    },
    {
     "name": "stdout",
     "output_type": "stream",
     "text": [
      "Repetição 8 RandomForest - Acurácia: 0.98, Precisão: 0.73, Recall: 0.87, F1-score: 0.80, ROC AUC: 0.93\n"
     ]
    },
    {
     "name": "stderr",
     "output_type": "stream",
     "text": [
      " 30%|███       | 9/30 [02:08<05:00, 14.32s/it]"
     ]
    },
    {
     "name": "stdout",
     "output_type": "stream",
     "text": [
      "Repetição 9 RandomForest - Acurácia: 0.98, Precisão: 0.71, Recall: 0.86, F1-score: 0.78, ROC AUC: 0.92\n"
     ]
    },
    {
     "name": "stderr",
     "output_type": "stream",
     "text": [
      " 33%|███▎      | 10/30 [02:23<04:47, 14.39s/it]"
     ]
    },
    {
     "name": "stdout",
     "output_type": "stream",
     "text": [
      "Repetição 10 RandomForest - Acurácia: 0.98, Precisão: 0.71, Recall: 0.87, F1-score: 0.78, ROC AUC: 0.93\n"
     ]
    },
    {
     "name": "stderr",
     "output_type": "stream",
     "text": [
      " 37%|███▋      | 11/30 [02:37<04:32, 14.35s/it]"
     ]
    },
    {
     "name": "stdout",
     "output_type": "stream",
     "text": [
      "Repetição 11 RandomForest - Acurácia: 0.98, Precisão: 0.73, Recall: 0.88, F1-score: 0.80, ROC AUC: 0.93\n"
     ]
    },
    {
     "name": "stderr",
     "output_type": "stream",
     "text": [
      " 40%|████      | 12/30 [02:51<04:16, 14.24s/it]"
     ]
    },
    {
     "name": "stdout",
     "output_type": "stream",
     "text": [
      "Repetição 12 RandomForest - Acurácia: 0.98, Precisão: 0.74, Recall: 0.87, F1-score: 0.80, ROC AUC: 0.93\n"
     ]
    },
    {
     "name": "stderr",
     "output_type": "stream",
     "text": [
      " 43%|████▎     | 13/30 [03:06<04:04, 14.38s/it]"
     ]
    },
    {
     "name": "stdout",
     "output_type": "stream",
     "text": [
      "Repetição 13 RandomForest - Acurácia: 0.98, Precisão: 0.71, Recall: 0.89, F1-score: 0.79, ROC AUC: 0.94\n"
     ]
    },
    {
     "name": "stderr",
     "output_type": "stream",
     "text": [
      " 47%|████▋     | 14/30 [03:20<03:49, 14.35s/it]"
     ]
    },
    {
     "name": "stdout",
     "output_type": "stream",
     "text": [
      "Repetição 14 RandomForest - Acurácia: 0.98, Precisão: 0.70, Recall: 0.86, F1-score: 0.77, ROC AUC: 0.92\n"
     ]
    },
    {
     "name": "stderr",
     "output_type": "stream",
     "text": [
      " 50%|█████     | 15/30 [03:34<03:34, 14.32s/it]"
     ]
    },
    {
     "name": "stdout",
     "output_type": "stream",
     "text": [
      "Repetição 15 RandomForest - Acurácia: 0.98, Precisão: 0.73, Recall: 0.85, F1-score: 0.79, ROC AUC: 0.92\n"
     ]
    },
    {
     "name": "stderr",
     "output_type": "stream",
     "text": [
      " 53%|█████▎    | 16/30 [03:48<03:20, 14.32s/it]"
     ]
    },
    {
     "name": "stdout",
     "output_type": "stream",
     "text": [
      "Repetição 16 RandomForest - Acurácia: 0.98, Precisão: 0.75, Recall: 0.88, F1-score: 0.81, ROC AUC: 0.93\n"
     ]
    },
    {
     "name": "stderr",
     "output_type": "stream",
     "text": [
      " 57%|█████▋    | 17/30 [04:04<03:09, 14.60s/it]"
     ]
    },
    {
     "name": "stdout",
     "output_type": "stream",
     "text": [
      "Repetição 17 RandomForest - Acurácia: 0.98, Precisão: 0.72, Recall: 0.90, F1-score: 0.80, ROC AUC: 0.94\n"
     ]
    },
    {
     "name": "stderr",
     "output_type": "stream",
     "text": [
      " 60%|██████    | 18/30 [04:18<02:54, 14.50s/it]"
     ]
    },
    {
     "name": "stdout",
     "output_type": "stream",
     "text": [
      "Repetição 18 RandomForest - Acurácia: 0.98, Precisão: 0.74, Recall: 0.86, F1-score: 0.80, ROC AUC: 0.92\n"
     ]
    },
    {
     "name": "stderr",
     "output_type": "stream",
     "text": [
      " 63%|██████▎   | 19/30 [04:33<02:39, 14.54s/it]"
     ]
    },
    {
     "name": "stdout",
     "output_type": "stream",
     "text": [
      "Repetição 19 RandomForest - Acurácia: 0.98, Precisão: 0.74, Recall: 0.86, F1-score: 0.80, ROC AUC: 0.92\n"
     ]
    },
    {
     "name": "stderr",
     "output_type": "stream",
     "text": [
      " 67%|██████▋   | 20/30 [04:46<02:23, 14.32s/it]"
     ]
    },
    {
     "name": "stdout",
     "output_type": "stream",
     "text": [
      "Repetição 20 RandomForest - Acurácia: 0.98, Precisão: 0.75, Recall: 0.88, F1-score: 0.81, ROC AUC: 0.93\n"
     ]
    },
    {
     "name": "stderr",
     "output_type": "stream",
     "text": [
      " 70%|███████   | 21/30 [05:00<02:07, 14.19s/it]"
     ]
    },
    {
     "name": "stdout",
     "output_type": "stream",
     "text": [
      "Repetição 21 RandomForest - Acurácia: 0.98, Precisão: 0.70, Recall: 0.88, F1-score: 0.78, ROC AUC: 0.93\n"
     ]
    },
    {
     "name": "stderr",
     "output_type": "stream",
     "text": [
      " 73%|███████▎  | 22/30 [05:14<01:52, 14.10s/it]"
     ]
    },
    {
     "name": "stdout",
     "output_type": "stream",
     "text": [
      "Repetição 22 RandomForest - Acurácia: 0.98, Precisão: 0.74, Recall: 0.86, F1-score: 0.80, ROC AUC: 0.92\n"
     ]
    },
    {
     "name": "stderr",
     "output_type": "stream",
     "text": [
      " 77%|███████▋  | 23/30 [05:28<01:38, 14.01s/it]"
     ]
    },
    {
     "name": "stdout",
     "output_type": "stream",
     "text": [
      "Repetição 23 RandomForest - Acurácia: 0.98, Precisão: 0.74, Recall: 0.88, F1-score: 0.80, ROC AUC: 0.93\n"
     ]
    },
    {
     "name": "stderr",
     "output_type": "stream",
     "text": [
      " 80%|████████  | 24/30 [05:42<01:24, 14.12s/it]"
     ]
    },
    {
     "name": "stdout",
     "output_type": "stream",
     "text": [
      "Repetição 24 RandomForest - Acurácia: 0.98, Precisão: 0.73, Recall: 0.88, F1-score: 0.80, ROC AUC: 0.93\n"
     ]
    },
    {
     "name": "stderr",
     "output_type": "stream",
     "text": [
      " 83%|████████▎ | 25/30 [05:56<01:10, 14.08s/it]"
     ]
    },
    {
     "name": "stdout",
     "output_type": "stream",
     "text": [
      "Repetição 25 RandomForest - Acurácia: 0.98, Precisão: 0.73, Recall: 0.88, F1-score: 0.80, ROC AUC: 0.93\n"
     ]
    },
    {
     "name": "stderr",
     "output_type": "stream",
     "text": [
      " 87%|████████▋ | 26/30 [06:10<00:55, 13.99s/it]"
     ]
    },
    {
     "name": "stdout",
     "output_type": "stream",
     "text": [
      "Repetição 26 RandomForest - Acurácia: 0.98, Precisão: 0.71, Recall: 0.88, F1-score: 0.79, ROC AUC: 0.93\n"
     ]
    },
    {
     "name": "stderr",
     "output_type": "stream",
     "text": [
      " 90%|█████████ | 27/30 [06:25<00:42, 14.21s/it]"
     ]
    },
    {
     "name": "stdout",
     "output_type": "stream",
     "text": [
      "Repetição 27 RandomForest - Acurácia: 0.98, Precisão: 0.73, Recall: 0.88, F1-score: 0.80, ROC AUC: 0.93\n"
     ]
    },
    {
     "name": "stderr",
     "output_type": "stream",
     "text": [
      " 93%|█████████▎| 28/30 [06:39<00:28, 14.08s/it]"
     ]
    },
    {
     "name": "stdout",
     "output_type": "stream",
     "text": [
      "Repetição 28 RandomForest - Acurácia: 0.98, Precisão: 0.75, Recall: 0.87, F1-score: 0.81, ROC AUC: 0.93\n"
     ]
    },
    {
     "name": "stderr",
     "output_type": "stream",
     "text": [
      " 97%|█████████▋| 29/30 [06:52<00:13, 13.95s/it]"
     ]
    },
    {
     "name": "stdout",
     "output_type": "stream",
     "text": [
      "Repetição 29 RandomForest - Acurácia: 0.98, Precisão: 0.74, Recall: 0.88, F1-score: 0.80, ROC AUC: 0.93\n"
     ]
    },
    {
     "name": "stderr",
     "output_type": "stream",
     "text": [
      "100%|██████████| 30/30 [07:06<00:00, 14.22s/it]"
     ]
    },
    {
     "name": "stdout",
     "output_type": "stream",
     "text": [
      "Repetição 30 RandomForest - Acurácia: 0.98, Precisão: 0.74, Recall: 0.87, F1-score: 0.80, ROC AUC: 0.93\n",
      "Métricas salvas em E:/DrebinStudy/Balanced/Metrics\\RandomForest_metrics.csv\n"
     ]
    },
    {
     "name": "stderr",
     "output_type": "stream",
     "text": [
      "\n"
     ]
    }
   ],
   "source": [
    "for name, classifier in classifiers.items():\n",
    "    CreateModel(x_all, y_all, classifier, name, True)"
   ]
  },
  {
   "cell_type": "code",
   "execution_count": 23,
   "metadata": {},
   "outputs": [],
   "source": [
    "# for name, classifier in DES.items():\n",
    "#     CreateDESModel(x_all, y_all, classifier, name, balance=True)"
   ]
  },
  {
   "cell_type": "markdown",
   "metadata": {},
   "source": [
    "### Results"
   ]
  },
  {
   "cell_type": "code",
   "execution_count": 24,
   "metadata": {},
   "outputs": [
    {
     "ename": "FileNotFoundError",
     "evalue": "[WinError 3] O sistema não pode encontrar o caminho especificado: 'D:\\\\ModelosTreinadosMLEE\\\\Balanced'",
     "output_type": "error",
     "traceback": [
      "\u001b[1;31m---------------------------------------------------------------------------\u001b[0m",
      "\u001b[1;31mFileNotFoundError\u001b[0m                         Traceback (most recent call last)",
      "Cell \u001b[1;32mIn[24], line 36\u001b[0m\n\u001b[0;32m     33\u001b[0m base_directory \u001b[38;5;241m=\u001b[39m \u001b[38;5;124mr\u001b[39m\u001b[38;5;124m\"\u001b[39m\u001b[38;5;124mD:\u001b[39m\u001b[38;5;124m\\\u001b[39m\u001b[38;5;124mModelosTreinadosMLEE\u001b[39m\u001b[38;5;124m\"\u001b[39m\n\u001b[0;32m     35\u001b[0m \u001b[38;5;66;03m# Consolidate metrics for Balanced and Unbalanced classes\u001b[39;00m\n\u001b[1;32m---> 36\u001b[0m \u001b[43mconsolidate_metrics\u001b[49m\u001b[43m(\u001b[49m\u001b[43mbase_directory\u001b[49m\u001b[43m,\u001b[49m\u001b[43m \u001b[49m\u001b[38;5;124;43m\"\u001b[39;49m\u001b[38;5;124;43mBalanced\u001b[39;49m\u001b[38;5;124;43m\"\u001b[39;49m\u001b[43m)\u001b[49m\n\u001b[0;32m     37\u001b[0m consolidate_metrics(base_directory, \u001b[38;5;124m\"\u001b[39m\u001b[38;5;124mUnbalanced\u001b[39m\u001b[38;5;124m\"\u001b[39m)\n",
      "Cell \u001b[1;32mIn[24], line 9\u001b[0m, in \u001b[0;36mconsolidate_metrics\u001b[1;34m(base_dir, class_name)\u001b[0m\n\u001b[0;32m      6\u001b[0m consolidated_df \u001b[38;5;241m=\u001b[39m pd\u001b[38;5;241m.\u001b[39mDataFrame()\n\u001b[0;32m      8\u001b[0m \u001b[38;5;66;03m# Loop through each folder in the class directory\u001b[39;00m\n\u001b[1;32m----> 9\u001b[0m \u001b[38;5;28;01mfor\u001b[39;00m model_dir \u001b[38;5;129;01min\u001b[39;00m \u001b[43mos\u001b[49m\u001b[38;5;241;43m.\u001b[39;49m\u001b[43mlistdir\u001b[49m\u001b[43m(\u001b[49m\u001b[43mclass_dir\u001b[49m\u001b[43m)\u001b[49m:\n\u001b[0;32m     10\u001b[0m     model_path \u001b[38;5;241m=\u001b[39m os\u001b[38;5;241m.\u001b[39mpath\u001b[38;5;241m.\u001b[39mjoin(class_dir, model_dir)\n\u001b[0;32m     12\u001b[0m     \u001b[38;5;66;03m# Check if it's a directory\u001b[39;00m\n",
      "\u001b[1;31mFileNotFoundError\u001b[0m: [WinError 3] O sistema não pode encontrar o caminho especificado: 'D:\\\\ModelosTreinadosMLEE\\\\Balanced'"
     ]
    }
   ],
   "source": [
    "def consolidate_metrics(base_dir, class_name):\n",
    "    # Define the directory path\n",
    "    class_dir = os.path.join(base_dir, class_name)\n",
    "    \n",
    "    # Create an empty dataframe to store all results\n",
    "    consolidated_df = pd.DataFrame()\n",
    "    \n",
    "    # Loop through each folder in the class directory\n",
    "    for model_dir in os.listdir(class_dir):\n",
    "        model_path = os.path.join(class_dir, model_dir)\n",
    "        \n",
    "        # Check if it's a directory\n",
    "        if os.path.isdir(model_path):\n",
    "            # Look for the metrics CSV file\n",
    "            for file in os.listdir(model_path):\n",
    "                if file.endswith('_metrics.csv'):\n",
    "                    # Read the CSV file\n",
    "                    csv_path = os.path.join(model_path, file)\n",
    "                    df = pd.read_csv(csv_path)\n",
    "                    \n",
    "                    # Add a column for the model name\n",
    "                    df['Model'] = model_dir\n",
    "                    \n",
    "                    # Concatenate the dataframe\n",
    "                    consolidated_df = pd.concat([consolidated_df, df], ignore_index=True)\n",
    "    \n",
    "    # Save the consolidated dataframe to a new CSV file\n",
    "    consolidated_csv_path = os.path.join(base_dir, f\"{class_name}_consolidated_metrics.csv\")\n",
    "    consolidated_df.to_csv(consolidated_csv_path, index=False)\n",
    "    print(f\"Consolidated metrics saved to: {consolidated_csv_path}\")\n",
    "\n",
    "# Define the base directory\n",
    "base_directory = r\"D:\\ModelosTreinadosMLEE\"\n",
    "\n",
    "# Consolidate metrics for Balanced and Unbalanced classes\n",
    "consolidate_metrics(base_directory, \"Balanced\")\n",
    "consolidate_metrics(base_directory, \"Unbalanced\")"
   ]
  },
  {
   "cell_type": "code",
   "execution_count": null,
   "metadata": {},
   "outputs": [],
   "source": [
    "import os\n",
    "import pandas as pd\n",
    "\n",
    "def consolidate_metrics(base_dir, class_name):\n",
    "    # Define the directory path\n",
    "    class_dir = os.path.join(base_dir, class_name)\n",
    "    \n",
    "    # Create an empty dataframe to store all results\n",
    "    consolidated_df = pd.DataFrame()\n",
    "    \n",
    "    # Loop through each folder in the class directory\n",
    "    for model_dir in os.listdir(class_dir):\n",
    "        model_path = os.path.join(class_dir, model_dir)\n",
    "        \n",
    "        # Check if it's a directory\n",
    "        if os.path.isdir(model_path):\n",
    "            # Look for the metrics CSV file\n",
    "            for file in os.listdir(model_path):\n",
    "                if file.endswith('_metrics.csv'):\n",
    "                    # Read the CSV file\n",
    "                    csv_path = os.path.join(model_path, file)\n",
    "                    df = pd.read_csv(csv_path)\n",
    "                    \n",
    "                    # Add a column for the model name\n",
    "                    df['Model'] = model_dir\n",
    "                    \n",
    "                    # Concatenate the dataframe\n",
    "                    consolidated_df = pd.concat([consolidated_df, df], ignore_index=True)\n",
    "    \n",
    "    return consolidated_df\n",
    "\n",
    "def df_to_latex_table(df, class_name):\n",
    "    # Reorder columns to place 'Model' at the front\n",
    "    cols = ['Model'] + [col for col in df if col != 'Model']\n",
    "    df = df[cols]\n",
    "\n",
    "    # Generate LaTeX table code\n",
    "    latex_table = df.to_latex(index=False, float_format=\"%.4f\", column_format='|'.join(['l']*len(df.columns)))\n",
    "\n",
    "    # Wrap the table with LaTeX table environment\n",
    "    latex_code = f\"\"\"\n",
    "\\\\begin{{table}}[h!]\n",
    "    \\\\centering\n",
    "    \\\\caption{{Metrics for {class_name} models}}\n",
    "    \\\\label{{tab:{class_name}_metrics}}\n",
    "    {latex_table}\n",
    "\\\\end{{table}}\n",
    "\"\"\"\n",
    "\n",
    "    return latex_code\n",
    "\n",
    "def save_latex_table(base_dir, class_name, latex_code):\n",
    "    # Define the output path\n",
    "    output_path = os.path.join(base_dir, f\"{class_name}_metrics_table.tex\")\n",
    "    \n",
    "    # Save the LaTeX code to a .tex file\n",
    "    with open(output_path, 'w') as f:\n",
    "        f.write(latex_code)\n",
    "    \n",
    "    print(f\"LaTeX table saved to: {output_path}\")\n",
    "\n",
    "# Define the base directory\n",
    "base_directory = r\"D:\\ModelosTreinadosMLEE\"\n",
    "\n",
    "# Consolidate metrics for Balanced and Unbalanced classes\n",
    "for class_name in [\"Balanced\", \"Unbalanced\"]:\n",
    "    df = consolidate_metrics(base_directory, class_name)\n",
    "    latex_code = df_to_latex_table(df, class_name)\n",
    "    save_latex_table(base_directory, class_name, latex_code)\n"
   ]
  }
 ],
 "metadata": {
  "kernelspec": {
   "display_name": "Python 3",
   "language": "python",
   "name": "python3"
  },
  "language_info": {
   "codemirror_mode": {
    "name": "ipython",
    "version": 3
   },
   "file_extension": ".py",
   "mimetype": "text/x-python",
   "name": "python",
   "nbconvert_exporter": "python",
   "pygments_lexer": "ipython3",
   "version": "3.11.4"
  }
 },
 "nbformat": 4,
 "nbformat_minor": 2
}
