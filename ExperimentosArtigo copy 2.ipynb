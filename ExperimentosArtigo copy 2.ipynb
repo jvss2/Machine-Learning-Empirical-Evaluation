{
 "cells": [
  {
   "cell_type": "markdown",
   "metadata": {},
   "source": [
    "### Libs"
   ]
  },
  {
   "cell_type": "code",
   "execution_count": 1,
   "metadata": {},
   "outputs": [
    {
     "name": "stderr",
     "output_type": "stream",
     "text": [
      "c:\\Users\\josev\\anaconda3\\Lib\\site-packages\\pandas\\core\\arrays\\masked.py:60: UserWarning: Pandas requires version '1.3.6' or newer of 'bottleneck' (version '1.3.5' currently installed).\n",
      "  from pandas.core import (\n"
     ]
    }
   ],
   "source": [
    "import numpy as np\n",
    "import matplotlib.pyplot as plt\n",
    "import joblib\n",
    "from sklearn.ensemble import RandomForestClassifier\n",
    "from sklearn.metrics import matthews_corrcoef, cohen_kappa_score\n",
    "from imblearn.over_sampling import SMOTE\n",
    "from sklearn.model_selection import train_test_split, KFold\n",
    "import sys\n",
    "import os\n",
    "from os import listdir\n",
    "from os.path import isfile, join\n",
    "import pandas as pd\n",
    "from sklearn.tree import DecisionTreeClassifier\n",
    "from sklearn.metrics import accuracy_score\n",
    "from sklearn.naive_bayes import BernoulliNB, GaussianNB\n",
    "from sklearn.neural_network import MLPClassifier\n",
    "from sklearn.svm import SVC\n",
    "from sklearn.neighbors import KNeighborsClassifier\n",
    "from sklearn.ensemble import BaggingClassifier\n",
    "from sklearn.datasets import make_classification\n",
    "from sklearn.metrics import accuracy_score, precision_score, recall_score, f1_score, confusion_matrix, roc_auc_score\n",
    "from sklearn.tree import DecisionTreeClassifier\n",
    "from sklearn.ensemble import BaggingClassifier\n",
    "from sklearn.metrics import accuracy_score, precision_score, recall_score, f1_score, roc_auc_score, confusion_matrix\n",
    "from tabulate import tabulate\n",
    "from tqdm import tqdm\n",
    "from sklearn.ensemble import RandomForestClassifier\n",
    "from sklearn.metrics import accuracy_score, classification_report, confusion_matrix\n",
    "import matplotlib.pyplot as plt\n",
    "import seaborn as sns\n",
    "from sklearn.ensemble import GradientBoostingClassifier\n",
    "from sklearn.ensemble import RandomForestClassifier\n",
    "from deslib.dcs import OLA\n",
    "# from deslib.dcs import KNORA_U, KNORA_E\n",
    "from deslib.des import  KNOP, METADES\n",
    "from deslib.static import SingleBest, StackedClassifier\n",
    "from deslib.static import StaticSelection\n",
    "from imblearn.metrics import geometric_mean_score"
   ]
  },
  {
   "cell_type": "markdown",
   "metadata": {},
   "source": [
    "### Feature extrection"
   ]
  },
  {
   "cell_type": "code",
   "execution_count": 2,
   "metadata": {},
   "outputs": [],
   "source": [
    "FEATURES_SET = {\n",
    "    \"feature\": 1,\n",
    "    \"permission\": 2,\n",
    "    \"activity\": 3,\n",
    "    \"service_receiver\": 3,\n",
    "    \"provider\": 3,\n",
    "    \"service\": 3,\n",
    "    \"intent\": 4,\n",
    "    \"api_call\": 5,\n",
    "    \"real_permission\": 6,\n",
    "    \"call\": 7,\n",
    "    \"url\": 8\n",
    "}\n",
    "\n",
    "\n",
    "def count_feature_set(lines):\n",
    "    \"\"\"\n",
    "    Count how many features belong to a specific set\n",
    "    :param lines: features in the text file\n",
    "    :return:\n",
    "    \"\"\"\n",
    "    features_map = {x: 0 for x in range(1, 9)}\n",
    "    for l in lines:\n",
    "        if l != \"\\n\":\n",
    "            set = l.split(\"::\")[0]\n",
    "            features_map[FEATURES_SET[set]] += 1\n",
    "    features = []\n",
    "    for i in range(1, 9):\n",
    "        features.append(features_map[i])\n",
    "    return features\n"
   ]
  },
  {
   "cell_type": "code",
   "execution_count": 3,
   "metadata": {},
   "outputs": [
    {
     "name": "stdout",
     "output_type": "stream",
     "text": [
      "Loading previous data ...\n",
      "(129013, 8) (129013,)\n"
     ]
    }
   ],
   "source": [
    "def read(LOAD_DATA=False):\n",
    "    if LOAD_DATA:\n",
    "        print(\"Previous data not loaded. Attempt to read data ...\")\n",
    "        mypath = r\"C:\\Users\\josev\\Desktop\\ProjetoPessoalNN\\GeorgeDarminton\\Drebin\\MetaData\\feature_vectors\\feature_vectors\"\n",
    "        onlyfiles = [f for f in listdir(mypath) if isfile(join(mypath, f))]\n",
    "\n",
    "        print(\"Reading csv file for ground truth ...\")\n",
    "        ground_truth = np.loadtxt(r\"C:\\Users\\josev\\Desktop\\ProjetoPessoalNN\\GeorgeDarminton\\Drebin\\MetaData\\sha256_family.csv\", delimiter=\",\", skiprows=1, dtype=str)\n",
    "        # print ground_truth.shape\n",
    "        # families = np.unique(ground_truth[:, 1])\n",
    "        # print families\n",
    "        # print len(families)\n",
    "\n",
    "        print(\"Reading positive and negative texts ...\")\n",
    "        pos = []\n",
    "        neg = []\n",
    "        for virus in tqdm(onlyfiles):\n",
    "            if virus in ground_truth[:, 0]:\n",
    "                pos.append(virus)\n",
    "            else:\n",
    "                #if len(neg) < 5560:\n",
    "                #if len(neg) < 22240:\n",
    "                    neg.append(virus)\n",
    "\n",
    "        print(\"Extracting features ...\")\n",
    "        x = []\n",
    "        y = []\n",
    "        for text_file in tqdm(pos):\n",
    "            sys.stdin = open(\"%s/%s\" % (mypath, text_file))\n",
    "            features = sys.stdin.readlines()\n",
    "            sample = count_feature_set(features)\n",
    "            x.append(sample)\n",
    "            y.append(1)\n",
    "\n",
    "        for text_file in tqdm(neg):\n",
    "            sys.stdin = open(\"%s/%s\" % (mypath, text_file))\n",
    "            features = sys.stdin.readlines()\n",
    "            sample = count_feature_set(features)\n",
    "            x.append(sample)\n",
    "            y.append(0)\n",
    "\n",
    "        print(\"Data is read successfully:\")\n",
    "        x = np.array(x)\n",
    "        y = np.array(y)\n",
    "        print(x.shape, y.shape)\n",
    "\n",
    "        print(\"Saving data under data_numpy directory ...\")\n",
    "        np.save(r\"C:\\Users\\josev\\Desktop\\ProjetoPessoalNN\\GeorgeDarminton/x_all.npy\", x)\n",
    "        np.save(r\"C:\\Users\\josev\\Desktop\\ProjetoPessoalNN\\GeorgeDarminton/y_all.npy\", y)\n",
    "\n",
    "        return x, y\n",
    "    else:\n",
    "        print(\"Loading previous data ...\")\n",
    "        x_ = np.load(r\"C:\\Users\\josev\\Desktop\\ProjetoPessoalNN\\GeorgeDarminton/x_all.npy\")\n",
    "        y_ = np.load(r\"C:\\Users\\josev\\Desktop\\ProjetoPessoalNN\\GeorgeDarminton/y_all.npy\")\n",
    "        print(x_.shape, y_.shape)\n",
    "        # print x == x_, y == y_\n",
    "        return x_, y_\n",
    "\n",
    "\n",
    "def map_family_to_category(families):\n",
    "    out = {}\n",
    "    count = 1\n",
    "    for family in families:\n",
    "        out[family] = count\n",
    "        count += 1\n",
    "    return out\n",
    "\n",
    "\n",
    "if __name__ == \"__main__\":\n",
    "    #x, y = read(LOAD_DATA=True)\n",
    "    x, y = read()"
   ]
  },
  {
   "cell_type": "markdown",
   "metadata": {},
   "source": [
    "### Dataframe"
   ]
  },
  {
   "cell_type": "code",
   "execution_count": 4,
   "metadata": {},
   "outputs": [
    {
     "name": "stdout",
     "output_type": "stream",
     "text": [
      "Loading previous data ...\n",
      "(129013, 8) (129013,)\n",
      "(103210, 8) (103210,)\n",
      "(25803, 8) (25803,)\n"
     ]
    }
   ],
   "source": [
    "x_all, y_all = read(LOAD_DATA=False)\n",
    "x_train, x_test, y_train, y_test = train_test_split(x_all, y_all, test_size=0.2, stratify=y_all)\n",
    "print(x_train.shape, y_train.shape)\n",
    "print(x_test.shape, y_test.shape)"
   ]
  },
  {
   "cell_type": "markdown",
   "metadata": {},
   "source": [
    "### Algorithms"
   ]
  },
  {
   "cell_type": "code",
   "execution_count": 5,
   "metadata": {},
   "outputs": [],
   "source": [
    "classifiers = {\n",
    "    'DecisionTree': DecisionTreeClassifier(criterion='gini'),\n",
    "    'Knn': KNeighborsClassifier(n_neighbors=7),\n",
    "    'NaiveBayes': GaussianNB(),\n",
    "    'BaggingDecisionTree': BaggingClassifier(estimator=DecisionTreeClassifier(criterion='gini'), n_estimators=30),\n",
    "    'BaggingNaiveBayes': BaggingClassifier(estimator=GaussianNB(), n_estimators=30),\n",
    "    'BaggingKnn': BaggingClassifier(estimator=KNeighborsClassifier(n_neighbors=7), n_estimators=30),\n",
    "    'GradientBoostedDecisionTree': GradientBoostingClassifier(n_estimators=100),\n",
    "    'RandomForest': RandomForestClassifier(n_estimators=100),\n",
    "    'MLP': MLPClassifier(hidden_layer_sizes=(100), max_iter=1000),\n",
    "    'BaggingMLP': BaggingClassifier(estimator=MLPClassifier(hidden_layer_sizes=(100), max_iter=1000), n_estimators=30),\n",
    "}\n",
    "\n",
    "DES = {\n",
    "    \"SingleBest\": SingleBest,\n",
    "    \"StaticSelection\": StaticSelection,\n",
    "    \"OLA\": OLA,\n",
    "    # \"KNORAU\": KNORAU,\n",
    "    # \"KNORAE\": KNORAE,\n",
    "    \"KNOP\": KNOP,\n",
    "    \"METADES\": METADES\n",
    "}"
   ]
  },
  {
   "cell_type": "markdown",
   "metadata": {},
   "source": [
    "### Saving Time Functions"
   ]
  },
  {
   "cell_type": "code",
   "execution_count": 6,
   "metadata": {},
   "outputs": [],
   "source": [
    "def CreateModel(x_all, y_all, model, modelName, balance, num_rep=30):\n",
    "\n",
    "    model_dir = os.path.join(\"E:/DrebinStudy/Unbalanced\", modelName)\n",
    "    os.makedirs(model_dir, exist_ok=True)  # Create the directory if it doesn't exist\n",
    "\n",
    "    acuracias = []\n",
    "    precisoes = []\n",
    "    recalls = []\n",
    "    f1_scores = []\n",
    "    roc_auc_scores = []\n",
    "    gmean_scores = []\n",
    "    mcc_scores = []\n",
    "    cohen_scores = []\n",
    "\n",
    "    for i in tqdm(range(num_rep)):\n",
    "\n",
    "        if balance:\n",
    "            x_train, x_test, y_train, y_test = train_test_split(x_all, y_all, test_size=0.2, stratify=y_all, random_state = i)\n",
    "            smote = SMOTE(sampling_strategy='auto', k_neighbors=5)\n",
    "            x_train, y_train = smote.fit_resample(x_train, y_train)\n",
    "            model_dir = os.path.join(\"E:/DrebinStudy/Balanced\", modelName)\n",
    "            os.makedirs(model_dir, exist_ok=True)  # Create the directory if it doesn't exist\n",
    "\n",
    "        else:\n",
    "            x_train, x_test, y_train, y_test = train_test_split(x_all, y_all, test_size=0.2, stratify=y_all)\n",
    "\n",
    "        # Treinar o modelo no conjunto de treino\n",
    "        model.fit(x_train, y_train)\n",
    "\n",
    "        # Fazer previsões no conjunto de teste\n",
    "        previsoes = model.predict(x_test)\n",
    "        \n",
    "        # Avaliar as métricas do modelo e armazenar na lista temporaria\n",
    "        cm = confusion_matrix(y_test, previsoes)\n",
    "        acuracia = accuracy_score(y_test, previsoes)\n",
    "        precisao = precision_score(y_test, previsoes)\n",
    "        recall = recall_score(y_test, previsoes)\n",
    "        f1 = f1_score(y_test, previsoes)\n",
    "        roc_auc = roc_auc_score(y_test, previsoes)\n",
    "        geoMedia = geometric_mean_score(y_test, previsoes)\n",
    "        mcc = matthews_corrcoef(y_test, previsoes)\n",
    "        kappa = cohen_kappa_score(y_test, previsoes)\n",
    "\n",
    "        \n",
    "        acuracias.append(acuracia)\n",
    "        precisoes.append(precisao)\n",
    "        recalls.append(recall)\n",
    "        f1_scores.append(f1)\n",
    "        roc_auc_scores.append(roc_auc)\n",
    "        gmean_scores.append(geoMedia)\n",
    "        mcc_scores.append(mcc)\n",
    "        cohen_scores.append(kappa)\n",
    "        \n",
    "        # Salva o modelo treinado\n",
    "        model_path = os.path.join(model_dir, f'model_{i+1}.joblib')\n",
    "        joblib.dump(model, model_path)\n",
    "\n",
    "        # plt.figure(figsize=(8, 6))\n",
    "        # sns.heatmap(cm, annot=True, fmt='d', cmap='Blues')\n",
    "        # plt.xlabel('Predicted')\n",
    "        # plt.ylabel('Actual')\n",
    "        # plt.title('Confusion Matrix')\n",
    "        # plt.show()\n",
    "        print(f'Repetição {i+1} {modelName} - Acurácia: {acuracia:.2f}, Precisão: {precisao:.2f}, Recall: {recall:.2f}, F1-score: {f1:.2f}, ROC AUC: {roc_auc:.2f}')\n",
    "\n",
    "    # Criar um DataFrame com as métricas\n",
    "    metrics_df = pd.DataFrame({\n",
    "        'Accuracy': [np.mean(acuracias)],\n",
    "        'Precision': [np.mean(precisoes)],\n",
    "        'Recall': [np.mean(recalls)],\n",
    "        'F1_score': [np.mean(f1_scores)],\n",
    "        'Roc_auc': [np.mean(roc_auc_scores)],\n",
    "        'G-Mean': [np.mean(gmean_scores)],\n",
    "        'MCC': [np.mean(mcc_scores)],\n",
    "        'Cohen_Kappa': [np.mean(cohen_scores)],\n",
    "        'Accuracy_std': [np.std(acuracias)],\n",
    "        'Precision_std': [np.std(precisoes)],\n",
    "        'Recall_std': [np.std(recalls)],\n",
    "        'F1_score_std': [np.std(f1_scores)],\n",
    "        'Roc_auc_std': [np.std(roc_auc_scores)],\n",
    "        'G-Mean_std': [np.std(gmean_scores)],\n",
    "        'MCC_std': [np.std(mcc_scores)],\n",
    "        'Cohen_Kappa_std': [np.std(cohen_scores)],\n",
    "    })\n",
    "\n",
    "\n",
    "    if balance:\n",
    "        # Salvar o DataFrame em um arquivo CSV\n",
    "        csv_path = os.path.join(\"E:/DrebinStudy/Balanced/Metrics\", f'{modelName}_metrics.csv')\n",
    "        metrics_df.to_csv(csv_path, index=False)\n",
    "    \n",
    "    else:\n",
    "        # Salvar o DataFrame em um arquivo CSV\n",
    "        csv_path = os.path.join(\"E:/DrebinStudy/Unbalanced/Metrics\", f'{modelName}_metrics.csv')\n",
    "        metrics_df.to_csv(csv_path, index=False)\n",
    "    print(f'Métricas salvas em {csv_path}')"
   ]
  },
  {
   "cell_type": "code",
   "execution_count": 7,
   "metadata": {},
   "outputs": [],
   "source": [
    "def CreateDESModel(x_all, y_all, model, modelName, balance, num_rep=30):\n",
    "    if balance:\n",
    "        model_dir = os.path.join(\"E:/DrebinStudy/Balanced\", modelName)\n",
    "    else:\n",
    "        model_dir = os.path.join(\"E:/DrebinStudy/Unbalanced\", modelName)\n",
    "    \n",
    "    os.makedirs(model_dir, exist_ok=True)\n",
    "\n",
    "    acuracias = []\n",
    "    precisoes = []\n",
    "    recalls = []\n",
    "    f1_scores = []\n",
    "    roc_auc_scores = []\n",
    "    gmean_scores = []\n",
    "    mcc_scores = []\n",
    "    cohen_scores = []\n",
    "\n",
    "    for i in tqdm(range(num_rep)):\n",
    "        x_train, x_test, y_train, y_test = train_test_split(x_all, y_all, test_size=0.2, stratify=y_all, random_state= i)\n",
    "\n",
    "        if balance:\n",
    "            smote = SMOTE(sampling_strategy='auto', k_neighbors=5)\n",
    "            x_train, y_train = smote.fit_resample(x_train, y_train)\n",
    "\n",
    "        # Train an ensemble of classifiers\n",
    "        ensemble = RandomForestClassifier(n_estimators=100)\n",
    "        ensemble.fit(x_train, y_train)\n",
    "\n",
    "        # Initialize and train the DES model on the training set\n",
    "        des_model = model(ensemble)\n",
    "        des_model.fit(x_train, y_train)\n",
    "\n",
    "        # Make predictions on the test set\n",
    "        previsoes = des_model.predict(x_test)\n",
    "\n",
    "        # Avaliar as métricas do modelo e armazenar na lista temporaria\n",
    "        cm = confusion_matrix(y_test, previsoes)\n",
    "        acuracia = accuracy_score(y_test, previsoes)\n",
    "        precisao = precision_score(y_test, previsoes)\n",
    "        recall = recall_score(y_test, previsoes)\n",
    "        f1 = f1_score(y_test, previsoes)\n",
    "        roc_auc = roc_auc_score(y_test, previsoes)\n",
    "        geoMedia = geometric_mean_score(y_test, previsoes)\n",
    "        mcc = matthews_corrcoef(y_test, previsoes)\n",
    "        kappa = cohen_kappa_score(y_test, previsoes)\n",
    "\n",
    "        \n",
    "        acuracias.append(acuracia)\n",
    "        precisoes.append(precisao)\n",
    "        recalls.append(recall)\n",
    "        f1_scores.append(f1)\n",
    "        roc_auc_scores.append(roc_auc)\n",
    "        gmean_scores.append(geoMedia)\n",
    "        mcc_scores.append(mcc)\n",
    "        cohen_scores.append(kappa)\n",
    "        \n",
    "        # Salva o modelo treinado\n",
    "        model_path = os.path.join(model_dir, f'model_{i+1}.joblib')\n",
    "        joblib.dump(model, model_path)\n",
    "\n",
    "        # plt.figure(figsize=(8, 6))\n",
    "        # sns.heatmap(cm, annot=True, fmt='d', cmap='Blues')\n",
    "        # plt.xlabel('Predicted')\n",
    "        # plt.ylabel('Actual')\n",
    "        # plt.title('Confusion Matrix')\n",
    "        # plt.show()\n",
    "        print(f'Repetição {i+1} {modelName} - Acurácia: {acuracia:.2f}, Precisão: {precisao:.2f}, Recall: {recall:.2f}, F1-score: {f1:.2f}, ROC AUC: {roc_auc:.2f}')\n",
    "\n",
    "    # Criar um DataFrame com as métricas\n",
    "    metrics_df = pd.DataFrame({\n",
    "        'Accuracy': [np.mean(acuracias)],\n",
    "        'Precision': [np.mean(precisoes)],\n",
    "        'Recall': [np.mean(recalls)],\n",
    "        'F1_score': [np.mean(f1_scores)],\n",
    "        'Roc_auc': [np.mean(roc_auc_scores)],\n",
    "        'G-Mean': [np.mean(gmean_scores)],\n",
    "        'MCC': [np.mean(mcc_scores)],\n",
    "        'Cohen_Kappa': [np.mean(cohen_scores)],\n",
    "        'Accuracy_std': [np.std(acuracias)],\n",
    "        'Precision_std': [np.std(precisoes)],\n",
    "        'Recall_std': [np.std(recalls)],\n",
    "        'F1_score_std': [np.std(f1_scores)],\n",
    "        'Roc_auc_std': [np.std(roc_auc_scores)],\n",
    "        'G-Mean_std': [np.std(gmean_scores)],\n",
    "        'MCC_std': [np.std(mcc_scores)],\n",
    "        'Cohen_Kappa_std': [np.std(cohen_scores)],\n",
    "    })\n",
    "\n",
    "\n",
    "    if balance:\n",
    "        # Salvar o DataFrame em um arquivo CSV\n",
    "        csv_path = os.path.join(\"E:/DrebinStudy/Balanced/Metrics\", f'{modelName}_metrics.csv')\n",
    "        metrics_df.to_csv(csv_path, index=False)\n",
    "    \n",
    "    else:\n",
    "        # Salvar o DataFrame em um arquivo CSV\n",
    "        csv_path = os.path.join(\"E:/DrebinStudy/Unbalanced/Metrics\", f'{modelName}_metrics.csv')\n",
    "        metrics_df.to_csv(csv_path, index=False)\n",
    "    print(f'Métricas salvas em {csv_path}')"
   ]
  },
  {
   "cell_type": "markdown",
   "metadata": {},
   "source": [
    "### Models"
   ]
  },
  {
   "cell_type": "markdown",
   "metadata": {},
   "source": [
    "#### Unbalanced"
   ]
  },
  {
   "cell_type": "code",
   "execution_count": 8,
   "metadata": {},
   "outputs": [
    {
     "name": "stderr",
     "output_type": "stream",
     "text": [
      "  3%|▎         | 1/30 [00:00<00:20,  1.40it/s]"
     ]
    },
    {
     "name": "stdout",
     "output_type": "stream",
     "text": [
      "Repetição 1 DecisionTree - Acurácia: 0.98, Precisão: 0.79, Recall: 0.82, F1-score: 0.80, ROC AUC: 0.90\n"
     ]
    },
    {
     "name": "stderr",
     "output_type": "stream",
     "text": [
      "  7%|▋         | 2/30 [00:01<00:16,  1.67it/s]"
     ]
    },
    {
     "name": "stdout",
     "output_type": "stream",
     "text": [
      "Repetição 2 DecisionTree - Acurácia: 0.98, Precisão: 0.77, Recall: 0.82, F1-score: 0.79, ROC AUC: 0.90\n"
     ]
    },
    {
     "name": "stderr",
     "output_type": "stream",
     "text": [
      " 10%|█         | 3/30 [00:01<00:14,  1.82it/s]"
     ]
    },
    {
     "name": "stdout",
     "output_type": "stream",
     "text": [
      "Repetição 3 DecisionTree - Acurácia: 0.98, Precisão: 0.77, Recall: 0.83, F1-score: 0.80, ROC AUC: 0.91\n"
     ]
    },
    {
     "name": "stderr",
     "output_type": "stream",
     "text": [
      " 13%|█▎        | 4/30 [00:02<00:14,  1.77it/s]"
     ]
    },
    {
     "name": "stdout",
     "output_type": "stream",
     "text": [
      "Repetição 4 DecisionTree - Acurácia: 0.98, Precisão: 0.78, Recall: 0.84, F1-score: 0.81, ROC AUC: 0.91\n"
     ]
    },
    {
     "name": "stderr",
     "output_type": "stream",
     "text": [
      " 17%|█▋        | 5/30 [00:02<00:14,  1.68it/s]"
     ]
    },
    {
     "name": "stdout",
     "output_type": "stream",
     "text": [
      "Repetição 5 DecisionTree - Acurácia: 0.98, Precisão: 0.76, Recall: 0.83, F1-score: 0.79, ROC AUC: 0.91\n"
     ]
    },
    {
     "name": "stderr",
     "output_type": "stream",
     "text": [
      " 20%|██        | 6/30 [00:03<00:13,  1.75it/s]"
     ]
    },
    {
     "name": "stdout",
     "output_type": "stream",
     "text": [
      "Repetição 6 DecisionTree - Acurácia: 0.98, Precisão: 0.76, Recall: 0.80, F1-score: 0.78, ROC AUC: 0.89\n"
     ]
    },
    {
     "name": "stderr",
     "output_type": "stream",
     "text": [
      " 23%|██▎       | 7/30 [00:04<00:13,  1.70it/s]"
     ]
    },
    {
     "name": "stdout",
     "output_type": "stream",
     "text": [
      "Repetição 7 DecisionTree - Acurácia: 0.98, Precisão: 0.75, Recall: 0.80, F1-score: 0.77, ROC AUC: 0.89\n"
     ]
    },
    {
     "name": "stderr",
     "output_type": "stream",
     "text": [
      " 27%|██▋       | 8/30 [00:04<00:12,  1.71it/s]"
     ]
    },
    {
     "name": "stdout",
     "output_type": "stream",
     "text": [
      "Repetição 8 DecisionTree - Acurácia: 0.98, Precisão: 0.75, Recall: 0.83, F1-score: 0.79, ROC AUC: 0.91\n"
     ]
    },
    {
     "name": "stderr",
     "output_type": "stream",
     "text": [
      " 30%|███       | 9/30 [00:05<00:11,  1.80it/s]"
     ]
    },
    {
     "name": "stdout",
     "output_type": "stream",
     "text": [
      "Repetição 9 DecisionTree - Acurácia: 0.98, Precisão: 0.79, Recall: 0.82, F1-score: 0.81, ROC AUC: 0.91\n"
     ]
    },
    {
     "name": "stderr",
     "output_type": "stream",
     "text": [
      " 33%|███▎      | 10/30 [00:05<00:10,  1.83it/s]"
     ]
    },
    {
     "name": "stdout",
     "output_type": "stream",
     "text": [
      "Repetição 10 DecisionTree - Acurácia: 0.98, Precisão: 0.78, Recall: 0.84, F1-score: 0.81, ROC AUC: 0.91\n"
     ]
    },
    {
     "name": "stderr",
     "output_type": "stream",
     "text": [
      " 37%|███▋      | 11/30 [00:06<00:10,  1.83it/s]"
     ]
    },
    {
     "name": "stdout",
     "output_type": "stream",
     "text": [
      "Repetição 11 DecisionTree - Acurácia: 0.98, Precisão: 0.77, Recall: 0.81, F1-score: 0.79, ROC AUC: 0.90\n"
     ]
    },
    {
     "name": "stderr",
     "output_type": "stream",
     "text": [
      " 40%|████      | 12/30 [00:06<00:09,  1.81it/s]"
     ]
    },
    {
     "name": "stdout",
     "output_type": "stream",
     "text": [
      "Repetição 12 DecisionTree - Acurácia: 0.98, Precisão: 0.78, Recall: 0.83, F1-score: 0.80, ROC AUC: 0.91\n"
     ]
    },
    {
     "name": "stderr",
     "output_type": "stream",
     "text": [
      " 43%|████▎     | 13/30 [00:07<00:09,  1.78it/s]"
     ]
    },
    {
     "name": "stdout",
     "output_type": "stream",
     "text": [
      "Repetição 13 DecisionTree - Acurácia: 0.98, Precisão: 0.76, Recall: 0.83, F1-score: 0.80, ROC AUC: 0.91\n"
     ]
    },
    {
     "name": "stderr",
     "output_type": "stream",
     "text": [
      " 47%|████▋     | 14/30 [00:08<00:10,  1.59it/s]"
     ]
    },
    {
     "name": "stdout",
     "output_type": "stream",
     "text": [
      "Repetição 14 DecisionTree - Acurácia: 0.98, Precisão: 0.78, Recall: 0.81, F1-score: 0.80, ROC AUC: 0.90\n"
     ]
    },
    {
     "name": "stderr",
     "output_type": "stream",
     "text": [
      " 50%|█████     | 15/30 [00:08<00:09,  1.54it/s]"
     ]
    },
    {
     "name": "stdout",
     "output_type": "stream",
     "text": [
      "Repetição 15 DecisionTree - Acurácia: 0.98, Precisão: 0.78, Recall: 0.83, F1-score: 0.81, ROC AUC: 0.91\n"
     ]
    },
    {
     "name": "stderr",
     "output_type": "stream",
     "text": [
      " 53%|█████▎    | 16/30 [00:09<00:08,  1.56it/s]"
     ]
    },
    {
     "name": "stdout",
     "output_type": "stream",
     "text": [
      "Repetição 16 DecisionTree - Acurácia: 0.98, Precisão: 0.77, Recall: 0.82, F1-score: 0.79, ROC AUC: 0.90\n"
     ]
    },
    {
     "name": "stderr",
     "output_type": "stream",
     "text": [
      " 57%|█████▋    | 17/30 [00:10<00:08,  1.46it/s]"
     ]
    },
    {
     "name": "stdout",
     "output_type": "stream",
     "text": [
      "Repetição 17 DecisionTree - Acurácia: 0.98, Precisão: 0.77, Recall: 0.81, F1-score: 0.79, ROC AUC: 0.90\n"
     ]
    },
    {
     "name": "stderr",
     "output_type": "stream",
     "text": [
      " 60%|██████    | 18/30 [00:10<00:08,  1.45it/s]"
     ]
    },
    {
     "name": "stdout",
     "output_type": "stream",
     "text": [
      "Repetição 18 DecisionTree - Acurácia: 0.98, Precisão: 0.74, Recall: 0.81, F1-score: 0.77, ROC AUC: 0.90\n"
     ]
    },
    {
     "name": "stderr",
     "output_type": "stream",
     "text": [
      " 63%|██████▎   | 19/30 [00:11<00:07,  1.41it/s]"
     ]
    },
    {
     "name": "stdout",
     "output_type": "stream",
     "text": [
      "Repetição 19 DecisionTree - Acurácia: 0.98, Precisão: 0.76, Recall: 0.84, F1-score: 0.80, ROC AUC: 0.91\n"
     ]
    },
    {
     "name": "stderr",
     "output_type": "stream",
     "text": [
      " 67%|██████▋   | 20/30 [00:12<00:06,  1.46it/s]"
     ]
    },
    {
     "name": "stdout",
     "output_type": "stream",
     "text": [
      "Repetição 20 DecisionTree - Acurácia: 0.98, Precisão: 0.78, Recall: 0.82, F1-score: 0.80, ROC AUC: 0.91\n"
     ]
    },
    {
     "name": "stderr",
     "output_type": "stream",
     "text": [
      " 70%|███████   | 21/30 [00:12<00:05,  1.52it/s]"
     ]
    },
    {
     "name": "stdout",
     "output_type": "stream",
     "text": [
      "Repetição 21 DecisionTree - Acurácia: 0.98, Precisão: 0.79, Recall: 0.84, F1-score: 0.81, ROC AUC: 0.91\n"
     ]
    },
    {
     "name": "stderr",
     "output_type": "stream",
     "text": [
      " 73%|███████▎  | 22/30 [00:13<00:05,  1.53it/s]"
     ]
    },
    {
     "name": "stdout",
     "output_type": "stream",
     "text": [
      "Repetição 22 DecisionTree - Acurácia: 0.98, Precisão: 0.77, Recall: 0.82, F1-score: 0.80, ROC AUC: 0.91\n"
     ]
    },
    {
     "name": "stderr",
     "output_type": "stream",
     "text": [
      " 77%|███████▋  | 23/30 [00:14<00:04,  1.59it/s]"
     ]
    },
    {
     "name": "stdout",
     "output_type": "stream",
     "text": [
      "Repetição 23 DecisionTree - Acurácia: 0.98, Precisão: 0.77, Recall: 0.81, F1-score: 0.79, ROC AUC: 0.90\n"
     ]
    },
    {
     "name": "stderr",
     "output_type": "stream",
     "text": [
      " 80%|████████  | 24/30 [00:14<00:03,  1.61it/s]"
     ]
    },
    {
     "name": "stdout",
     "output_type": "stream",
     "text": [
      "Repetição 24 DecisionTree - Acurácia: 0.98, Precisão: 0.78, Recall: 0.82, F1-score: 0.80, ROC AUC: 0.90\n"
     ]
    },
    {
     "name": "stderr",
     "output_type": "stream",
     "text": [
      " 83%|████████▎ | 25/30 [00:15<00:03,  1.61it/s]"
     ]
    },
    {
     "name": "stdout",
     "output_type": "stream",
     "text": [
      "Repetição 25 DecisionTree - Acurácia: 0.98, Precisão: 0.77, Recall: 0.83, F1-score: 0.79, ROC AUC: 0.91\n"
     ]
    },
    {
     "name": "stderr",
     "output_type": "stream",
     "text": [
      " 87%|████████▋ | 26/30 [00:16<00:02,  1.60it/s]"
     ]
    },
    {
     "name": "stdout",
     "output_type": "stream",
     "text": [
      "Repetição 26 DecisionTree - Acurácia: 0.98, Precisão: 0.78, Recall: 0.83, F1-score: 0.81, ROC AUC: 0.91\n"
     ]
    },
    {
     "name": "stderr",
     "output_type": "stream",
     "text": [
      " 90%|█████████ | 27/30 [00:16<00:01,  1.53it/s]"
     ]
    },
    {
     "name": "stdout",
     "output_type": "stream",
     "text": [
      "Repetição 27 DecisionTree - Acurácia: 0.98, Precisão: 0.78, Recall: 0.81, F1-score: 0.80, ROC AUC: 0.90\n"
     ]
    },
    {
     "name": "stderr",
     "output_type": "stream",
     "text": [
      " 93%|█████████▎| 28/30 [00:17<00:01,  1.49it/s]"
     ]
    },
    {
     "name": "stdout",
     "output_type": "stream",
     "text": [
      "Repetição 28 DecisionTree - Acurácia: 0.98, Precisão: 0.78, Recall: 0.83, F1-score: 0.81, ROC AUC: 0.91\n"
     ]
    },
    {
     "name": "stderr",
     "output_type": "stream",
     "text": [
      " 97%|█████████▋| 29/30 [00:18<00:00,  1.54it/s]"
     ]
    },
    {
     "name": "stdout",
     "output_type": "stream",
     "text": [
      "Repetição 29 DecisionTree - Acurácia: 0.98, Precisão: 0.78, Recall: 0.80, F1-score: 0.79, ROC AUC: 0.90\n"
     ]
    },
    {
     "name": "stderr",
     "output_type": "stream",
     "text": [
      "100%|██████████| 30/30 [00:18<00:00,  1.61it/s]\n"
     ]
    },
    {
     "name": "stdout",
     "output_type": "stream",
     "text": [
      "Repetição 30 DecisionTree - Acurácia: 0.98, Precisão: 0.77, Recall: 0.83, F1-score: 0.80, ROC AUC: 0.91\n",
      "Métricas salvas em E:/DrebinStudy/Unbalanced/Metrics\\DecisionTree_metrics.csv\n"
     ]
    },
    {
     "name": "stderr",
     "output_type": "stream",
     "text": [
      "  3%|▎         | 1/30 [00:06<02:58,  6.14s/it]"
     ]
    },
    {
     "name": "stdout",
     "output_type": "stream",
     "text": [
      "Repetição 1 Knn - Acurácia: 0.98, Precisão: 0.83, Recall: 0.72, F1-score: 0.77, ROC AUC: 0.86\n"
     ]
    },
    {
     "name": "stderr",
     "output_type": "stream",
     "text": [
      "  7%|▋         | 2/30 [00:12<02:56,  6.30s/it]"
     ]
    },
    {
     "name": "stdout",
     "output_type": "stream",
     "text": [
      "Repetição 2 Knn - Acurácia: 0.98, Precisão: 0.82, Recall: 0.73, F1-score: 0.78, ROC AUC: 0.86\n"
     ]
    },
    {
     "name": "stderr",
     "output_type": "stream",
     "text": [
      " 10%|█         | 3/30 [00:18<02:51,  6.36s/it]"
     ]
    },
    {
     "name": "stdout",
     "output_type": "stream",
     "text": [
      "Repetição 3 Knn - Acurácia: 0.98, Precisão: 0.82, Recall: 0.73, F1-score: 0.77, ROC AUC: 0.86\n"
     ]
    },
    {
     "name": "stderr",
     "output_type": "stream",
     "text": [
      " 13%|█▎        | 4/30 [00:25<02:42,  6.26s/it]"
     ]
    },
    {
     "name": "stdout",
     "output_type": "stream",
     "text": [
      "Repetição 4 Knn - Acurácia: 0.98, Precisão: 0.79, Recall: 0.74, F1-score: 0.76, ROC AUC: 0.86\n"
     ]
    },
    {
     "name": "stderr",
     "output_type": "stream",
     "text": [
      " 17%|█▋        | 5/30 [00:29<02:24,  5.77s/it]"
     ]
    },
    {
     "name": "stdout",
     "output_type": "stream",
     "text": [
      "Repetição 5 Knn - Acurácia: 0.98, Precisão: 0.84, Recall: 0.75, F1-score: 0.79, ROC AUC: 0.87\n"
     ]
    },
    {
     "name": "stderr",
     "output_type": "stream",
     "text": [
      " 20%|██        | 6/30 [00:34<02:09,  5.38s/it]"
     ]
    },
    {
     "name": "stdout",
     "output_type": "stream",
     "text": [
      "Repetição 6 Knn - Acurácia: 0.98, Precisão: 0.82, Recall: 0.75, F1-score: 0.78, ROC AUC: 0.87\n"
     ]
    },
    {
     "name": "stderr",
     "output_type": "stream",
     "text": [
      " 23%|██▎       | 7/30 [00:40<02:06,  5.48s/it]"
     ]
    },
    {
     "name": "stdout",
     "output_type": "stream",
     "text": [
      "Repetição 7 Knn - Acurácia: 0.98, Precisão: 0.80, Recall: 0.73, F1-score: 0.76, ROC AUC: 0.86\n"
     ]
    },
    {
     "name": "stderr",
     "output_type": "stream",
     "text": [
      " 27%|██▋       | 8/30 [00:45<01:55,  5.23s/it]"
     ]
    },
    {
     "name": "stdout",
     "output_type": "stream",
     "text": [
      "Repetição 8 Knn - Acurácia: 0.98, Precisão: 0.82, Recall: 0.74, F1-score: 0.78, ROC AUC: 0.86\n"
     ]
    },
    {
     "name": "stderr",
     "output_type": "stream",
     "text": [
      " 30%|███       | 9/30 [00:49<01:42,  4.90s/it]"
     ]
    },
    {
     "name": "stdout",
     "output_type": "stream",
     "text": [
      "Repetição 9 Knn - Acurácia: 0.98, Precisão: 0.80, Recall: 0.73, F1-score: 0.76, ROC AUC: 0.86\n"
     ]
    },
    {
     "name": "stderr",
     "output_type": "stream",
     "text": [
      " 33%|███▎      | 10/30 [00:53<01:34,  4.71s/it]"
     ]
    },
    {
     "name": "stdout",
     "output_type": "stream",
     "text": [
      "Repetição 10 Knn - Acurácia: 0.98, Precisão: 0.80, Recall: 0.77, F1-score: 0.78, ROC AUC: 0.88\n"
     ]
    }
   ],
   "source": [
    "for name, classifier in classifiers.items():\n",
    "    CreateModel(x_all, y_all, classifier, name, False)"
   ]
  },
  {
   "cell_type": "code",
   "execution_count": null,
   "metadata": {},
   "outputs": [],
   "source": [
    "# for name, classifier in DES.items():\n",
    "#     CreateDESModel(x_all, y_all, classifier, name, balance=False)"
   ]
  },
  {
   "cell_type": "markdown",
   "metadata": {},
   "source": [
    "#### Balanced"
   ]
  },
  {
   "cell_type": "code",
   "execution_count": null,
   "metadata": {},
   "outputs": [],
   "source": [
    "# for name, classifier in classifiers.items():\n",
    "#     CreateModel(x_all, y_all, classifier, name, True)"
   ]
  },
  {
   "cell_type": "code",
   "execution_count": null,
   "metadata": {},
   "outputs": [],
   "source": [
    "# for name, classifier in DES.items():\n",
    "#     CreateDESModel(x_all, y_all, classifier, name, balance=True)"
   ]
  },
  {
   "cell_type": "markdown",
   "metadata": {},
   "source": [
    "### Results"
   ]
  },
  {
   "cell_type": "code",
   "execution_count": null,
   "metadata": {},
   "outputs": [],
   "source": [
    "def consolidate_metrics(base_dir, class_name):\n",
    "    # Define the directory path\n",
    "    class_dir = os.path.join(base_dir, class_name)\n",
    "    \n",
    "    # Create an empty dataframe to store all results\n",
    "    consolidated_df = pd.DataFrame()\n",
    "    \n",
    "    # Loop through each folder in the class directory\n",
    "    for model_dir in os.listdir(class_dir):\n",
    "        model_path = os.path.join(class_dir, model_dir)\n",
    "        \n",
    "        # Check if it's a directory\n",
    "        if os.path.isdir(model_path):\n",
    "            # Look for the metrics CSV file\n",
    "            for file in os.listdir(model_path):\n",
    "                if file.endswith('_metrics.csv'):\n",
    "                    # Read the CSV file\n",
    "                    csv_path = os.path.join(model_path, file)\n",
    "                    df = pd.read_csv(csv_path)\n",
    "                    \n",
    "                    # Add a column for the model name\n",
    "                    df['Model'] = model_dir\n",
    "                    \n",
    "                    # Concatenate the dataframe\n",
    "                    consolidated_df = pd.concat([consolidated_df, df], ignore_index=True)\n",
    "    \n",
    "    # Save the consolidated dataframe to a new CSV file\n",
    "    consolidated_csv_path = os.path.join(base_dir, f\"{class_name}_consolidated_metrics.csv\")\n",
    "    consolidated_df.to_csv(consolidated_csv_path, index=False)\n",
    "    print(f\"Consolidated metrics saved to: {consolidated_csv_path}\")\n",
    "\n",
    "# Define the base directory\n",
    "base_directory = r\"D:\\ModelosTreinadosMLEE\"\n",
    "\n",
    "# Consolidate metrics for Balanced and Unbalanced classes\n",
    "consolidate_metrics(base_directory, \"Balanced\")\n",
    "consolidate_metrics(base_directory, \"Unbalanced\")"
   ]
  },
  {
   "cell_type": "code",
   "execution_count": null,
   "metadata": {},
   "outputs": [],
   "source": [
    "import os\n",
    "import pandas as pd\n",
    "\n",
    "# Define os caminhos das pastas\n",
    "unbalanced_dir = r\"E:\\DrebinStudy\\Unbalanced\\Metrics\"\n",
    "balanced_dir = r\"E:\\DrebinStudy\\Balanced\\Metrics\"\n",
    "output_dir = r\"E:\\DrebinStudy\"\n",
    "\n",
    "# Função para unificar os CSVs de uma pasta\n",
    "def unify_csvs(directory, output_filename):\n",
    "    csv_files = [os.path.join(directory, f) for f in os.listdir(directory) if f.endswith('_metrics.csv')]\n",
    "    unified_df = pd.concat([pd.read_csv(f) for f in csv_files], ignore_index=True)\n",
    "    unified_path = os.path.join(output_dir, output_filename)\n",
    "    unified_df.to_csv(unified_path, index=False)\n",
    "    return unified_df\n",
    "\n",
    "# Função para transformar o DataFrame em uma tabela LaTeX\n",
    "def df_to_latex(df, output_filename):\n",
    "    latex_table = df.to_latex(index=False)\n",
    "    with open(os.path.join(output_dir, output_filename), 'w') as f:\n",
    "        f.write(latex_table)\n",
    "\n",
    "# Unificar os CSVs e gerar as tabelas LaTeX\n",
    "unified_unbalanced = unify_csvs(unbalanced_dir, 'UnifiedMetricsUnbalanced.csv')\n",
    "df_to_latex(unified_unbalanced, 'LatexUnifiedMetricsUnbalanced.tex')\n",
    "\n",
    "unified_balanced = unify_csvs(balanced_dir, 'UnifiedMetricsBalanced.csv')\n",
    "df_to_latex(unified_balanced, 'LatexUnifiedMetricsBalanced.tex')\n",
    "\n",
    "print(\"Processo concluído com sucesso!\")\n"
   ]
  },
  {
   "cell_type": "code",
   "execution_count": null,
   "metadata": {},
   "outputs": [],
   "source": [
    "import pandas as pd\n",
    "import os\n",
    "\n",
    "# Caminhos dos arquivos de entrada e saída\n",
    "output_dir = r\"E:\\DrebinStudy\"\n",
    "unified_unbalanced_path = os.path.join(output_dir, 'UnifiedMetricsUnbalanced.csv')\n",
    "unified_balanced_path = os.path.join(output_dir, 'UnifiedMetricsBalanced.csv')\n",
    "difference_metrics_path = os.path.join(output_dir, 'DifferenceMetrics.csv')\n",
    "\n",
    "# Carregar os arquivos CSV unificados\n",
    "unbalanced_df = pd.read_csv(unified_unbalanced_path)\n",
    "balanced_df = pd.read_csv(unified_balanced_path)\n",
    "\n",
    "# Criar uma lista para armazenar as linhas de diferença\n",
    "difference_rows = []\n",
    "\n",
    "# Processar cada modelo no CSV balanceado\n",
    "for _, balanced_row in balanced_df.iterrows():\n",
    "    model_name = balanced_row['Model']\n",
    "    \n",
    "    # Verificar se o modelo é uma variante com \"-2\"\n",
    "    if \"-2\" in model_name:\n",
    "        original_model_name = model_name.replace(\"-2\", \"\")\n",
    "    else:\n",
    "        original_model_name = model_name\n",
    "    \n",
    "    # Procurar o modelo correspondente no CSV desbalanceado\n",
    "    unbalanced_row = unbalanced_df[unbalanced_df['Model'] == original_model_name]\n",
    "    \n",
    "    # Se a variante correspondente for encontrada, calcular a diferença\n",
    "    if not unbalanced_row.empty:\n",
    "        difference_row = balanced_row.copy()\n",
    "        for column in balanced_df.columns[1:]:  # Ignora a primeira coluna (nome do modelo)\n",
    "            difference_row[column] = balanced_row[column] - unbalanced_row.iloc[0][column]\n",
    "        \n",
    "        # Adicionar a linha de diferença à lista\n",
    "        difference_rows.append(difference_row)\n",
    "    else:\n",
    "        # Se não houver correspondente, manter a linha do modelo sem mudanças\n",
    "        difference_rows.append(balanced_row)\n",
    "\n",
    "# Converter as diferenças em um DataFrame\n",
    "difference_df = pd.DataFrame(difference_rows)\n",
    "\n",
    "# Salvar o DataFrame de diferença como CSV\n",
    "difference_df.to_csv(difference_metrics_path, index=False)\n",
    "\n",
    "print(\"Arquivo DifferenceMetrics.csv gerado com sucesso!\")\n"
   ]
  },
  {
   "cell_type": "code",
   "execution_count": null,
   "metadata": {},
   "outputs": [],
   "source": [
    "import pandas as pd\n",
    "import os\n",
    "\n",
    "# Caminhos dos arquivos de entrada e saída\n",
    "input_dir = r\"E:\\DrebinStudy\"\n",
    "input_files = ['UnifiedMetricsBalanced.csv', 'UnifiedMetricsUnbalanced.csv', 'DifferenceMetrics.csv']\n",
    "\n",
    "# Função para combinar valor e desvio padrão com 4 casas decimais\n",
    "def combine_value_and_std(df):\n",
    "    metrics = ['Accuracy', 'Precision', 'Recall', 'F1_score', 'Roc_auc', 'G-Mean']\n",
    "    for metric in metrics:\n",
    "        std_column = metric + '_std'\n",
    "        if std_column in df.columns:\n",
    "            df[metric] = df[metric].apply(lambda x: f\"{x:.4f}\") + '(' + df[std_column].apply(lambda x: f\"{x:.4f}\") + ')'\n",
    "            df.drop(columns=[std_column], inplace=True)\n",
    "    return df\n",
    "\n",
    "# Função para converter o DataFrame para LaTeX\n",
    "def convert_to_latex(df, output_file):\n",
    "    latex_table = df.to_latex(index=False, escape=False)\n",
    "    with open(output_file, 'w') as f:\n",
    "        f.write(latex_table)\n",
    "\n",
    "# Processar e salvar cada arquivo\n",
    "for file in input_files:\n",
    "    file_path = os.path.join(input_dir, file)\n",
    "    \n",
    "    if os.path.exists(file_path):\n",
    "        # Carregar, combinar e salvar como CSV\n",
    "        df = pd.read_csv(file_path)\n",
    "        df_combined = combine_value_and_std(df)\n",
    "        \n",
    "        output_csv_file = os.path.join(input_dir, 'Formatted_' + file)\n",
    "        df_combined.to_csv(output_csv_file, index=False)\n",
    "        \n",
    "        # Converter e salvar como LaTeX\n",
    "        output_latex_file = os.path.join(input_dir, 'Latex_' + file.replace('.csv', '.tex'))\n",
    "        convert_to_latex(df_combined, output_latex_file)\n",
    "        \n",
    "        print(f\"Arquivos {output_csv_file} e {output_latex_file} gerados com sucesso!\")\n"
   ]
  },
  {
   "cell_type": "code",
   "execution_count": null,
   "metadata": {},
   "outputs": [],
   "source": [
    "import pandas as pd\n",
    "\n",
    "# Caminho do arquivo CSV e do arquivo LaTeX\n",
    "csv_file_path = r\"E:\\DrebinStudy\\DifferenceMetrics.csv\"\n",
    "latex_file_path = r\"E:\\DrebinStudy\\Latex_DifferenceMetrics.tex\"\n",
    "\n",
    "# Função para converter o DataFrame para LaTeX\n",
    "def convert_to_latex(df, output_file):\n",
    "    latex_table = df.to_latex(index=False, escape=False)\n",
    "    with open(output_file, 'w') as f:\n",
    "        f.write(latex_table)\n",
    "\n",
    "# Carregar o CSV, converter e salvar como LaTeX\n",
    "df = pd.read_csv(csv_file_path)\n",
    "convert_to_latex(df, latex_file_path)\n",
    "\n",
    "print(f\"Arquivo LaTeX gerado com sucesso: {latex_file_path}\")"
   ]
  }
 ],
 "metadata": {
  "kernelspec": {
   "display_name": "Python 3",
   "language": "python",
   "name": "python3"
  },
  "language_info": {
   "codemirror_mode": {
    "name": "ipython",
    "version": 3
   },
   "file_extension": ".py",
   "mimetype": "text/x-python",
   "name": "python",
   "nbconvert_exporter": "python",
   "pygments_lexer": "ipython3",
   "version": "3.11.4"
  }
 },
 "nbformat": 4,
 "nbformat_minor": 2
}
