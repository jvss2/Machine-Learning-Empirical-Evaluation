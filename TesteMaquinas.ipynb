{
 "cells": [
  {
   "cell_type": "code",
   "execution_count": 1,
   "metadata": {},
   "outputs": [],
   "source": [
    "import numpy as np\n",
    "import matplotlib.pyplot as plt\n",
    "from sklearn.ensemble import RandomForestClassifier\n",
    "from imblearn.over_sampling import SMOTE\n",
    "from sklearn.model_selection import train_test_split\n",
    "import sys\n",
    "from os import listdir\n",
    "from os.path import isfile, join\n",
    "import pandas as pd\n",
    "from sklearn.tree import DecisionTreeClassifier\n",
    "from sklearn.metrics import accuracy_score\n",
    "from sklearn.naive_bayes import BernoulliNB\n",
    "from sklearn.neural_network import MLPClassifier\n",
    "from sklearn.svm import SVC\n",
    "from sklearn.neighbors import KNeighborsClassifier\n",
    "from sklearn.ensemble import BaggingClassifier\n",
    "from sklearn.datasets import make_classification\n",
    "from sklearn.metrics import accuracy_score, precision_score, recall_score, f1_score, confusion_matrix, roc_auc_score\n",
    "import pandas as pd\n",
    "from sklearn.tree import DecisionTreeClassifier\n",
    "from sklearn.ensemble import BaggingClassifier\n",
    "from sklearn.metrics import accuracy_score, precision_score, recall_score, f1_score, roc_auc_score, confusion_matrix\n",
    "from tabulate import tabulate\n",
    "from tqdm import tqdm\n",
    "from sklearn.model_selection import train_test_split\n",
    "from sklearn.preprocessing import StandardScaler\n",
    "from sklearn.svm import SVC\n",
    "from sklearn.metrics import accuracy_score\n",
    "from sklearn.datasets import load_iris\n",
    "from sklearn.model_selection import train_test_split\n",
    "from sklearn.naive_bayes import ComplementNB, GaussianNB\n",
    "from sklearn.metrics import accuracy_score, confusion_matrix, precision_score, recall_score, f1_score\n",
    "from sklearn import metrics\n",
    "from sklearn import svm\n",
    "from sklearn.datasets import make_classification\n",
    "from sklearn.model_selection import train_test_split\n",
    "from sklearn.metrics import accuracy_score"
   ]
  },
  {
   "cell_type": "code",
   "execution_count": 2,
   "metadata": {},
   "outputs": [],
   "source": [
    "FEATURES_SET = {\n",
    "    \"feature\": 1,\n",
    "    \"permission\": 2,\n",
    "    \"activity\": 3,\n",
    "    \"service_receiver\": 3,\n",
    "    \"provider\": 3,\n",
    "    \"service\": 3,\n",
    "    \"intent\": 4,\n",
    "    \"api_call\": 5,\n",
    "    \"real_permission\": 6,\n",
    "    \"call\": 7,\n",
    "    \"url\": 8\n",
    "}\n",
    "\n",
    "\n",
    "def count_feature_set(lines):\n",
    "    \"\"\"\n",
    "    Count how many features belong to a specific set\n",
    "    :param lines: features in the text file\n",
    "    :return:\n",
    "    \"\"\"\n",
    "    features_map = {x: 0 for x in range(1, 9)}\n",
    "    for l in lines:\n",
    "        if l != \"\\n\":\n",
    "            set = l.split(\"::\")[0]\n",
    "            features_map[FEATURES_SET[set]] += 1\n",
    "    features = []\n",
    "    for i in range(1, 9):\n",
    "        features.append(features_map[i])\n",
    "    return features\n"
   ]
  },
  {
   "cell_type": "code",
   "execution_count": 3,
   "metadata": {},
   "outputs": [
    {
     "name": "stdout",
     "output_type": "stream",
     "text": [
      "Previous data not loaded. Attempt to read data ...\n",
      "Reading csv file for ground truth ...\n",
      "Reading positive and negative texts ...\n"
     ]
    },
    {
     "name": "stderr",
     "output_type": "stream",
     "text": [
      "100%|██████████| 129013/129013 [00:01<00:00, 70352.57it/s]\n"
     ]
    },
    {
     "name": "stdout",
     "output_type": "stream",
     "text": [
      "Extracting features ...\n"
     ]
    },
    {
     "name": "stderr",
     "output_type": "stream",
     "text": [
      "100%|██████████| 5560/5560 [00:22<00:00, 250.75it/s]\n",
      "100%|██████████| 5560/5560 [00:28<00:00, 192.88it/s]"
     ]
    },
    {
     "name": "stdout",
     "output_type": "stream",
     "text": [
      "Data is read successfully:\n",
      "(11120, 8) (11120,)\n",
      "Saving data under data_numpy directory ...\n"
     ]
    },
    {
     "name": "stderr",
     "output_type": "stream",
     "text": [
      "\n"
     ]
    }
   ],
   "source": [
    "def read(LOAD_DATA=False):\n",
    "    if LOAD_DATA:\n",
    "        print(\"Previous data not loaded. Attempt to read data ...\")\n",
    "        mypath = r\"C:\\Users\\josev\\Desktop\\ProjetoPessoalNN\\GeorgeDarminton\\Drebin\\MetaData\\feature_vectors\\feature_vectors\"\n",
    "        onlyfiles = [f for f in listdir(mypath) if isfile(join(mypath, f))]\n",
    "\n",
    "        print(\"Reading csv file for ground truth ...\")\n",
    "        ground_truth = np.loadtxt(r\"C:\\Users\\josev\\Desktop\\ProjetoPessoalNN\\GeorgeDarminton\\Drebin\\MetaData\\sha256_family.csv\", delimiter=\",\", skiprows=1, dtype=str)\n",
    "        # print ground_truth.shape\n",
    "        # families = np.unique(ground_truth[:, 1])\n",
    "        # print families\n",
    "        # print len(families)\n",
    "\n",
    "        print(\"Reading positive and negative texts ...\")\n",
    "        pos = []\n",
    "        neg = []\n",
    "        for virus in tqdm(onlyfiles):\n",
    "            if virus in ground_truth[:, 0]:\n",
    "                pos.append(virus)\n",
    "            else:\n",
    "                if len(neg) < 5560:\n",
    "                #if len(neg) < 22240:\n",
    "                    neg.append(virus)\n",
    "\n",
    "        print(\"Extracting features ...\")\n",
    "        x = []\n",
    "        y = []\n",
    "        for text_file in tqdm(pos):\n",
    "            sys.stdin = open(\"%s/%s\" % (mypath, text_file))\n",
    "            features = sys.stdin.readlines()\n",
    "            sample = count_feature_set(features)\n",
    "            x.append(sample)\n",
    "            y.append(1)\n",
    "\n",
    "        for text_file in tqdm(neg):\n",
    "            sys.stdin = open(\"%s/%s\" % (mypath, text_file))\n",
    "            features = sys.stdin.readlines()\n",
    "            sample = count_feature_set(features)\n",
    "            x.append(sample)\n",
    "            y.append(0)\n",
    "\n",
    "        print(\"Data is read successfully:\")\n",
    "        x = np.array(x)\n",
    "        y = np.array(y)\n",
    "        print(x.shape, y.shape)\n",
    "\n",
    "        print(\"Saving data under data_numpy directory ...\")\n",
    "        np.save(r\"C:\\Users\\josev\\Desktop\\ProjetoPessoalNN\\GeorgeDarminton/x_all.npy\", x)\n",
    "        np.save(r\"C:\\Users\\josev\\Desktop\\ProjetoPessoalNN\\GeorgeDarminton/y_all.npy\", y)\n",
    "\n",
    "        return x, y\n",
    "    else:\n",
    "        print(\"Loading previous data ...\")\n",
    "        x_ = np.load(r\"C:\\Users\\josev\\Desktop\\ProjetoPessoalNN\\GeorgeDarminton/x_all.npy\")\n",
    "        y_ = np.load(r\"C:\\Users\\josev\\Desktop\\ProjetoPessoalNN\\GeorgeDarminton/y_all.npy\")\n",
    "        print(x_.shape, y_.shape)\n",
    "        # print x == x_, y == y_\n",
    "        return x_, y_\n",
    "\n",
    "\n",
    "def map_family_to_category(families):\n",
    "    out = {}\n",
    "    count = 1\n",
    "    for family in families:\n",
    "        out[family] = count\n",
    "        count += 1\n",
    "    return out\n",
    "\n",
    "\n",
    "if __name__ == \"__main__\":\n",
    "    x, y = read(LOAD_DATA=True)"
   ]
  },
  {
   "cell_type": "code",
   "execution_count": 4,
   "metadata": {},
   "outputs": [
    {
     "name": "stdout",
     "output_type": "stream",
     "text": [
      "Loading previous data ...\n",
      "(11120, 8) (11120,)\n",
      "(7450, 8) (7450,)\n",
      "(3670, 8) (3670,)\n"
     ]
    }
   ],
   "source": [
    "x_all, y_all = read(LOAD_DATA=False)\n",
    "x_train, x_test, y_train, y_test = train_test_split(x_all, y_all, test_size=0.33, stratify=y_all)\n",
    "print(x_train.shape, y_train.shape)\n",
    "print(x_test.shape, y_test.shape)"
   ]
  },
  {
   "cell_type": "code",
   "execution_count": 5,
   "metadata": {},
   "outputs": [
    {
     "data": {
      "text/plain": [
       "array([ 2, 11,  5,  3,  7,  6, 11, 26])"
      ]
     },
     "execution_count": 5,
     "metadata": {},
     "output_type": "execute_result"
    }
   ],
   "source": [
    "x_all[0]"
   ]
  },
  {
   "cell_type": "code",
   "execution_count": 6,
   "metadata": {},
   "outputs": [
    {
     "name": "stdout",
     "output_type": "stream",
     "text": [
      "[LibSVM]Acurácia do modelo SVM: 0.808174386920981\n",
      "Matriz de Confusão:\n",
      "[[1610  225]\n",
      " [ 479 1356]]\n",
      "Recall: 0.7389645776566758\n",
      "Precisão: 0.857685009487666\n",
      "F1-Score: 0.7939110070257611\n",
      "AUC Score: 0.8081743869209809\n",
      "Índice de Matthews: 0.6223396194555193\n"
     ]
    }
   ],
   "source": [
    "# Criando e treinando o modelo SVM\n",
    "model = svm.SVC(kernel='linear', C=0.0001, verbose=1)\n",
    "model.fit(x_train, y_train)\n",
    "\n",
    "# Fazendo previsões no conjunto de teste\n",
    "y_pred = model.predict(x_test)\n",
    "\n",
    "# Avaliando a precisão do modelo\n",
    "accuracy = accuracy_score(y_test, y_pred)\n",
    "print(\"Acurácia do modelo SVM:\", accuracy)\n",
    "\n",
    "# Calculando a matriz de confusão\n",
    "conf_matrix = metrics.confusion_matrix(y_test, y_pred)\n",
    "print(\"Matriz de Confusão:\")\n",
    "print(conf_matrix)\n",
    "\n",
    "# Calculando recall, precisão e f1-score\n",
    "recall = metrics.recall_score(y_test, y_pred)\n",
    "precision = metrics.precision_score(y_test, y_pred)\n",
    "f1 = metrics.f1_score(y_test, y_pred)\n",
    "print(\"Recall:\", recall)\n",
    "print(\"Precisão:\", precision)\n",
    "print(\"F1-Score:\", f1)\n",
    "\n",
    "# Calculando a curva ROC e AUC\n",
    "fpr, tpr, thresholds = metrics.roc_curve(y_test, y_pred)\n",
    "auc = metrics.auc(fpr, tpr)\n",
    "print(\"AUC Score:\", auc)\n",
    "\n",
    "# Calculando o índice de Matthews\n",
    "mcc = metrics.matthews_corrcoef(y_test, y_pred)\n",
    "print(\"Índice de Matthews:\", mcc)"
   ]
  }
 ],
 "metadata": {
  "kernelspec": {
   "display_name": "Python 3",
   "language": "python",
   "name": "python3"
  },
  "language_info": {
   "codemirror_mode": {
    "name": "ipython",
    "version": 3
   },
   "file_extension": ".py",
   "mimetype": "text/x-python",
   "name": "python",
   "nbconvert_exporter": "python",
   "pygments_lexer": "ipython3",
   "version": "3.11.4"
  }
 },
 "nbformat": 4,
 "nbformat_minor": 2
}
