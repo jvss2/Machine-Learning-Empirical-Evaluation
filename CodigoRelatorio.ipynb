{
 "cells": [
  {
   "cell_type": "markdown",
   "metadata": {},
   "source": [
    "### Libs "
   ]
  },
  {
   "cell_type": "code",
   "execution_count": 1,
   "metadata": {},
   "outputs": [],
   "source": [
    "import numpy as np\n",
    "import matplotlib.pyplot as plt\n",
    "from sklearn.ensemble import RandomForestClassifier\n",
    "from imblearn.over_sampling import SMOTE\n",
    "from sklearn.model_selection import train_test_split\n",
    "import sys\n",
    "from os import listdir\n",
    "from os.path import isfile, join\n",
    "import pandas as pd\n",
    "from sklearn.tree import DecisionTreeClassifier\n",
    "from sklearn.metrics import accuracy_score\n",
    "from sklearn.naive_bayes import BernoulliNB\n",
    "from sklearn.neural_network import MLPClassifier\n",
    "from sklearn.svm import SVC\n",
    "from sklearn.neighbors import KNeighborsClassifier\n",
    "from sklearn.ensemble import BaggingClassifier\n",
    "from sklearn.datasets import make_classification\n",
    "from sklearn.metrics import accuracy_score, precision_score, recall_score, f1_score, confusion_matrix, roc_auc_score\n",
    "import pandas as pd\n",
    "from sklearn.tree import DecisionTreeClassifier\n",
    "from sklearn.ensemble import BaggingClassifier\n",
    "from sklearn.metrics import accuracy_score, precision_score, recall_score, f1_score, roc_auc_score, confusion_matrix\n",
    "from tabulate import tabulate\n",
    "from tqdm import tqdm"
   ]
  },
  {
   "cell_type": "markdown",
   "metadata": {},
   "source": [
    "### Dados"
   ]
  },
  {
   "cell_type": "code",
   "execution_count": 2,
   "metadata": {},
   "outputs": [],
   "source": [
    "FEATURES_SET = {\n",
    "    \"feature\": 1,\n",
    "    \"permission\": 2,\n",
    "    \"activity\": 3,\n",
    "    \"service_receiver\": 3,\n",
    "    \"provider\": 3,\n",
    "    \"service\": 3,\n",
    "    \"intent\": 4,\n",
    "    \"api_call\": 5,\n",
    "    \"real_permission\": 6,\n",
    "    \"call\": 7,\n",
    "    \"url\": 8\n",
    "}\n",
    "\n",
    "\n",
    "def count_feature_set(lines):\n",
    "    \"\"\"\n",
    "    Count how many features belong to a specific set\n",
    "    :param lines: features in the text file\n",
    "    :return:\n",
    "    \"\"\"\n",
    "    features_map = {x: 0 for x in range(1, 9)}\n",
    "    for l in lines:\n",
    "        if l != \"\\n\":\n",
    "            set = l.split(\"::\")[0]\n",
    "            features_map[FEATURES_SET[set]] += 1\n",
    "    features = []\n",
    "    for i in range(1, 9):\n",
    "        features.append(features_map[i])\n",
    "    return features\n"
   ]
  },
  {
   "cell_type": "code",
   "execution_count": 3,
   "metadata": {},
   "outputs": [
    {
     "name": "stdout",
     "output_type": "stream",
     "text": [
      "Previous data not loaded. Attempt to read data ...\n",
      "Reading csv file for ground truth ...\n",
      "Reading positive and negative texts ...\n"
     ]
    },
    {
     "name": "stderr",
     "output_type": "stream",
     "text": [
      "100%|██████████| 129013/129013 [00:01<00:00, 70768.04it/s]\n"
     ]
    },
    {
     "name": "stdout",
     "output_type": "stream",
     "text": [
      "Extracting features ...\n"
     ]
    },
    {
     "name": "stderr",
     "output_type": "stream",
     "text": [
      "100%|██████████| 5560/5560 [00:00<00:00, 8100.77it/s]\n",
      "100%|██████████| 123453/123453 [08:35<00:00, 239.64it/s]\n"
     ]
    },
    {
     "name": "stdout",
     "output_type": "stream",
     "text": [
      "Data is read successfully:\n",
      "(129013, 8) (129013,)\n",
      "Saving data under data_numpy directory ...\n"
     ]
    }
   ],
   "source": [
    "def read(LOAD_DATA=False):\n",
    "    if LOAD_DATA:\n",
    "        print(\"Previous data not loaded. Attempt to read data ...\")\n",
    "        mypath = r\"C:\\Users\\josev\\Desktop\\ProjetoPessoalNN\\GeorgeDarminton\\Drebin\\MetaData\\feature_vectors\\feature_vectors\"\n",
    "        onlyfiles = [f for f in listdir(mypath) if isfile(join(mypath, f))]\n",
    "\n",
    "        print(\"Reading csv file for ground truth ...\")\n",
    "        ground_truth = np.loadtxt(r\"C:\\Users\\josev\\Desktop\\ProjetoPessoalNN\\GeorgeDarminton\\Drebin\\MetaData\\sha256_family.csv\", delimiter=\",\", skiprows=1, dtype=str)\n",
    "        # print ground_truth.shape\n",
    "        # families = np.unique(ground_truth[:, 1])\n",
    "        # print families\n",
    "        # print len(families)\n",
    "\n",
    "        print(\"Reading positive and negative texts ...\")\n",
    "        pos = []\n",
    "        neg = []\n",
    "        for virus in tqdm(onlyfiles):\n",
    "            if virus in ground_truth[:, 0]:\n",
    "                pos.append(virus)\n",
    "            else:\n",
    "                #if len(neg) < 5560:\n",
    "                #if len(neg) < 22240:\n",
    "                    neg.append(virus)\n",
    "\n",
    "        print(\"Extracting features ...\")\n",
    "        x = []\n",
    "        y = []\n",
    "        for text_file in tqdm(pos):\n",
    "            sys.stdin = open(\"%s/%s\" % (mypath, text_file))\n",
    "            features = sys.stdin.readlines()\n",
    "            sample = count_feature_set(features)\n",
    "            x.append(sample)\n",
    "            y.append(1)\n",
    "\n",
    "        for text_file in tqdm(neg):\n",
    "            sys.stdin = open(\"%s/%s\" % (mypath, text_file))\n",
    "            features = sys.stdin.readlines()\n",
    "            sample = count_feature_set(features)\n",
    "            x.append(sample)\n",
    "            y.append(0)\n",
    "\n",
    "        print(\"Data is read successfully:\")\n",
    "        x = np.array(x)\n",
    "        y = np.array(y)\n",
    "        print(x.shape, y.shape)\n",
    "\n",
    "        print(\"Saving data under data_numpy directory ...\")\n",
    "        np.save(r\"C:\\Users\\josev\\Desktop\\ProjetoPessoalNN\\GeorgeDarminton/x_all.npy\", x)\n",
    "        np.save(r\"C:\\Users\\josev\\Desktop\\ProjetoPessoalNN\\GeorgeDarminton/y_all.npy\", y)\n",
    "\n",
    "        return x, y\n",
    "    else:\n",
    "        print(\"Loading previous data ...\")\n",
    "        x_ = np.load(r\"C:\\Users\\josev\\Desktop\\ProjetoPessoalNN\\GeorgeDarminton/x_all.npy\")\n",
    "        y_ = np.load(r\"C:\\Users\\josev\\Desktop\\ProjetoPessoalNN\\GeorgeDarminton/y_all.npy\")\n",
    "        print(x_.shape, y_.shape)\n",
    "        # print x == x_, y == y_\n",
    "        return x_, y_\n",
    "\n",
    "\n",
    "def map_family_to_category(families):\n",
    "    out = {}\n",
    "    count = 1\n",
    "    for family in families:\n",
    "        out[family] = count\n",
    "        count += 1\n",
    "    return out\n",
    "\n",
    "\n",
    "if __name__ == \"__main__\":\n",
    "    x, y = read(LOAD_DATA=True)"
   ]
  },
  {
   "cell_type": "code",
   "execution_count": 4,
   "metadata": {},
   "outputs": [
    {
     "name": "stdout",
     "output_type": "stream",
     "text": [
      "Loading previous data ...\n",
      "(129013, 8) (129013,)\n",
      "(103210, 8) (103210,)\n",
      "(25803, 8) (25803,)\n"
     ]
    }
   ],
   "source": [
    "x_all, y_all = read(LOAD_DATA=False)\n",
    "x_train, x_test, y_train, y_test = train_test_split(x_all, y_all, test_size=0.2, stratify=y_all)\n",
    "print(x_train.shape, y_train.shape)\n",
    "print(x_test.shape, y_test.shape)"
   ]
  },
  {
   "cell_type": "code",
   "execution_count": 5,
   "metadata": {},
   "outputs": [],
   "source": [
    "# # Contagem de classes antes da divisão\n",
    "# y_all_counts = pd.Series(y_all).value_counts(normalize=True)\n",
    "\n",
    "# # Divisão dos dados em treinamento e teste\n",
    "# x_train, x_test, y_train, y_test = train_test_split(x_all, y_all, test_size=0.2, random_state=42, stratify=y_all)\n",
    "\n",
    "# # Contagem de classes após a divisão\n",
    "# y_train_counts = pd.Series(y_train).value_counts(normalize=True)\n",
    "# y_test_counts = pd.Series(y_test).value_counts(normalize=True)\n",
    "\n",
    "# # Verificação se as proporções foram mantidas\n",
    "# print(\"Proporções das classes no conjunto original:\")\n",
    "# print(y_all_counts)\n",
    "# print(\"\\nProporções das classes no conjunto de treinamento:\")\n",
    "# print(y_train_counts)\n",
    "# print(\"\\nProporções das classes no conjunto de teste:\")\n",
    "# print(y_test_counts)"
   ]
  },
  {
   "cell_type": "code",
   "execution_count": 6,
   "metadata": {},
   "outputs": [],
   "source": [
    "####### DP = Desvio Padrão; PosBal = Pos Balanceamento\n",
    "Acurracy = []\n",
    "Precision = []\n",
    "Recall = []\n",
    "F1_score = []\n",
    "Roc_auc = []\n",
    "######\n",
    "AcurracyDP = []\n",
    "PrecisionDP = []\n",
    "RecallDP = []\n",
    "F1_scoreDP = []\n",
    "Roc_aucDP = []\n",
    "######\n",
    "AcurracyBagging = []\n",
    "PrecisionBagging = []\n",
    "RecallBagging = []\n",
    "F1Bagging = []\n",
    "Roc_aucBagging = []\n",
    "######\n",
    "AcurracyBaggingDP = []\n",
    "PrecisionBaggingDP = []\n",
    "RecallBaggingDP = []\n",
    "F1BaggingDP = []\n",
    "Roc_aucBaggingDP = []\n",
    "#####\n",
    "AcurracyPosBal = []\n",
    "PrecisionPosBal = []\n",
    "RecallPosBal = []\n",
    "F1_scorePosBal = []\n",
    "Roc_aucPosBal = []\n",
    "######\n",
    "AcurracyDPPosBal = []\n",
    "PrecisionDPPosBal = []\n",
    "RecallDPPosBal = []\n",
    "F1_scoreDPPosBal = []\n",
    "Roc_aucDPPosBal = []\n",
    "######\n",
    "AcurracyBaggingPosBal = []\n",
    "PrecisionBaggingPosBal = []\n",
    "RecallBaggingPosBal = []\n",
    "F1BaggingPosBal = []\n",
    "Roc_aucBaggingPosBal = []\n",
    "######\n",
    "AcurracyBaggingDPPosBal = []\n",
    "PrecisionBaggingDPPosBal = []\n",
    "RecallBaggingDPPosBal = []\n",
    "F1BaggingDPPosBal = []\n",
    "Roc_aucBaggingDPPosBal = []"
   ]
  },
  {
   "cell_type": "markdown",
   "metadata": {},
   "source": [
    "### Modelos Base"
   ]
  },
  {
   "cell_type": "code",
   "execution_count": 7,
   "metadata": {},
   "outputs": [
    {
     "name": "stderr",
     "output_type": "stream",
     "text": [
      "  3%|▎         | 1/30 [00:00<00:08,  3.56it/s]"
     ]
    },
    {
     "name": "stdout",
     "output_type": "stream",
     "text": [
      "Repetição 1 - Acurácia: 0.98, Precisão: 0.79, Recall: 0.81, F1-score: 0.80, ROC AUC: 0.90\n"
     ]
    },
    {
     "name": "stderr",
     "output_type": "stream",
     "text": [
      "  7%|▋         | 2/30 [00:00<00:07,  3.91it/s]"
     ]
    },
    {
     "name": "stdout",
     "output_type": "stream",
     "text": [
      "Repetição 2 - Acurácia: 0.98, Precisão: 0.78, Recall: 0.85, F1-score: 0.81, ROC AUC: 0.92\n"
     ]
    },
    {
     "name": "stderr",
     "output_type": "stream",
     "text": [
      " 10%|█         | 3/30 [00:00<00:06,  3.97it/s]"
     ]
    },
    {
     "name": "stdout",
     "output_type": "stream",
     "text": [
      "Repetição 3 - Acurácia: 0.98, Precisão: 0.77, Recall: 0.81, F1-score: 0.79, ROC AUC: 0.90\n"
     ]
    },
    {
     "name": "stderr",
     "output_type": "stream",
     "text": [
      " 13%|█▎        | 4/30 [00:01<00:06,  4.08it/s]"
     ]
    },
    {
     "name": "stdout",
     "output_type": "stream",
     "text": [
      "Repetição 4 - Acurácia: 0.98, Precisão: 0.77, Recall: 0.83, F1-score: 0.80, ROC AUC: 0.91\n"
     ]
    },
    {
     "name": "stderr",
     "output_type": "stream",
     "text": [
      " 17%|█▋        | 5/30 [00:01<00:06,  4.10it/s]"
     ]
    },
    {
     "name": "stdout",
     "output_type": "stream",
     "text": [
      "Repetição 5 - Acurácia: 0.98, Precisão: 0.77, Recall: 0.83, F1-score: 0.80, ROC AUC: 0.91\n"
     ]
    },
    {
     "name": "stderr",
     "output_type": "stream",
     "text": [
      " 20%|██        | 6/30 [00:01<00:05,  4.13it/s]"
     ]
    },
    {
     "name": "stdout",
     "output_type": "stream",
     "text": [
      "Repetição 6 - Acurácia: 0.98, Precisão: 0.76, Recall: 0.81, F1-score: 0.79, ROC AUC: 0.90\n"
     ]
    },
    {
     "name": "stderr",
     "output_type": "stream",
     "text": [
      " 23%|██▎       | 7/30 [00:01<00:05,  4.14it/s]"
     ]
    },
    {
     "name": "stdout",
     "output_type": "stream",
     "text": [
      "Repetição 7 - Acurácia: 0.98, Precisão: 0.79, Recall: 0.80, F1-score: 0.79, ROC AUC: 0.90\n"
     ]
    },
    {
     "name": "stderr",
     "output_type": "stream",
     "text": [
      " 27%|██▋       | 8/30 [00:01<00:05,  4.12it/s]"
     ]
    },
    {
     "name": "stdout",
     "output_type": "stream",
     "text": [
      "Repetição 8 - Acurácia: 0.98, Precisão: 0.78, Recall: 0.82, F1-score: 0.80, ROC AUC: 0.91\n"
     ]
    },
    {
     "name": "stderr",
     "output_type": "stream",
     "text": [
      " 30%|███       | 9/30 [00:02<00:05,  4.14it/s]"
     ]
    },
    {
     "name": "stdout",
     "output_type": "stream",
     "text": [
      "Repetição 9 - Acurácia: 0.98, Precisão: 0.76, Recall: 0.84, F1-score: 0.80, ROC AUC: 0.91\n"
     ]
    },
    {
     "name": "stderr",
     "output_type": "stream",
     "text": [
      " 33%|███▎      | 10/30 [00:02<00:04,  4.17it/s]"
     ]
    },
    {
     "name": "stdout",
     "output_type": "stream",
     "text": [
      "Repetição 10 - Acurácia: 0.98, Precisão: 0.75, Recall: 0.83, F1-score: 0.79, ROC AUC: 0.91\n"
     ]
    },
    {
     "name": "stderr",
     "output_type": "stream",
     "text": [
      " 37%|███▋      | 11/30 [00:02<00:04,  4.18it/s]"
     ]
    },
    {
     "name": "stdout",
     "output_type": "stream",
     "text": [
      "Repetição 11 - Acurácia: 0.98, Precisão: 0.76, Recall: 0.82, F1-score: 0.79, ROC AUC: 0.90\n"
     ]
    },
    {
     "name": "stderr",
     "output_type": "stream",
     "text": [
      " 40%|████      | 12/30 [00:02<00:04,  4.18it/s]"
     ]
    },
    {
     "name": "stdout",
     "output_type": "stream",
     "text": [
      "Repetição 12 - Acurácia: 0.98, Precisão: 0.77, Recall: 0.81, F1-score: 0.79, ROC AUC: 0.90\n"
     ]
    },
    {
     "name": "stderr",
     "output_type": "stream",
     "text": [
      " 43%|████▎     | 13/30 [00:03<00:04,  4.15it/s]"
     ]
    },
    {
     "name": "stdout",
     "output_type": "stream",
     "text": [
      "Repetição 13 - Acurácia: 0.98, Precisão: 0.78, Recall: 0.82, F1-score: 0.80, ROC AUC: 0.90\n"
     ]
    },
    {
     "name": "stderr",
     "output_type": "stream",
     "text": [
      " 47%|████▋     | 14/30 [00:03<00:03,  4.18it/s]"
     ]
    },
    {
     "name": "stdout",
     "output_type": "stream",
     "text": [
      "Repetição 14 - Acurácia: 0.98, Precisão: 0.78, Recall: 0.81, F1-score: 0.80, ROC AUC: 0.90\n"
     ]
    },
    {
     "name": "stderr",
     "output_type": "stream",
     "text": [
      " 50%|█████     | 15/30 [00:03<00:03,  4.19it/s]"
     ]
    },
    {
     "name": "stdout",
     "output_type": "stream",
     "text": [
      "Repetição 15 - Acurácia: 0.98, Precisão: 0.76, Recall: 0.81, F1-score: 0.79, ROC AUC: 0.90\n"
     ]
    },
    {
     "name": "stderr",
     "output_type": "stream",
     "text": [
      " 53%|█████▎    | 16/30 [00:03<00:03,  4.15it/s]"
     ]
    },
    {
     "name": "stdout",
     "output_type": "stream",
     "text": [
      "Repetição 16 - Acurácia: 0.98, Precisão: 0.78, Recall: 0.81, F1-score: 0.80, ROC AUC: 0.90\n"
     ]
    },
    {
     "name": "stderr",
     "output_type": "stream",
     "text": [
      " 57%|█████▋    | 17/30 [00:04<00:03,  4.14it/s]"
     ]
    },
    {
     "name": "stdout",
     "output_type": "stream",
     "text": [
      "Repetição 17 - Acurácia: 0.98, Precisão: 0.78, Recall: 0.83, F1-score: 0.80, ROC AUC: 0.91\n"
     ]
    },
    {
     "name": "stderr",
     "output_type": "stream",
     "text": [
      " 60%|██████    | 18/30 [00:04<00:02,  4.14it/s]"
     ]
    },
    {
     "name": "stdout",
     "output_type": "stream",
     "text": [
      "Repetição 18 - Acurácia: 0.98, Precisão: 0.77, Recall: 0.82, F1-score: 0.80, ROC AUC: 0.91\n"
     ]
    },
    {
     "name": "stderr",
     "output_type": "stream",
     "text": [
      " 63%|██████▎   | 19/30 [00:04<00:02,  4.14it/s]"
     ]
    },
    {
     "name": "stdout",
     "output_type": "stream",
     "text": [
      "Repetição 19 - Acurácia: 0.98, Precisão: 0.78, Recall: 0.81, F1-score: 0.80, ROC AUC: 0.90\n"
     ]
    },
    {
     "name": "stderr",
     "output_type": "stream",
     "text": [
      " 67%|██████▋   | 20/30 [00:04<00:02,  4.14it/s]"
     ]
    },
    {
     "name": "stdout",
     "output_type": "stream",
     "text": [
      "Repetição 20 - Acurácia: 0.98, Precisão: 0.77, Recall: 0.81, F1-score: 0.79, ROC AUC: 0.90\n"
     ]
    },
    {
     "name": "stderr",
     "output_type": "stream",
     "text": [
      " 70%|███████   | 21/30 [00:05<00:02,  4.12it/s]"
     ]
    },
    {
     "name": "stdout",
     "output_type": "stream",
     "text": [
      "Repetição 21 - Acurácia: 0.98, Precisão: 0.77, Recall: 0.81, F1-score: 0.79, ROC AUC: 0.90\n"
     ]
    },
    {
     "name": "stderr",
     "output_type": "stream",
     "text": [
      " 73%|███████▎  | 22/30 [00:05<00:01,  4.16it/s]"
     ]
    },
    {
     "name": "stdout",
     "output_type": "stream",
     "text": [
      "Repetição 22 - Acurácia: 0.98, Precisão: 0.75, Recall: 0.83, F1-score: 0.79, ROC AUC: 0.91\n"
     ]
    },
    {
     "name": "stderr",
     "output_type": "stream",
     "text": [
      " 77%|███████▋  | 23/30 [00:05<00:01,  4.17it/s]"
     ]
    },
    {
     "name": "stdout",
     "output_type": "stream",
     "text": [
      "Repetição 23 - Acurácia: 0.98, Precisão: 0.77, Recall: 0.81, F1-score: 0.79, ROC AUC: 0.90\n"
     ]
    },
    {
     "name": "stderr",
     "output_type": "stream",
     "text": [
      " 80%|████████  | 24/30 [00:05<00:01,  4.18it/s]"
     ]
    },
    {
     "name": "stdout",
     "output_type": "stream",
     "text": [
      "Repetição 24 - Acurácia: 0.98, Precisão: 0.75, Recall: 0.83, F1-score: 0.79, ROC AUC: 0.91\n"
     ]
    },
    {
     "name": "stderr",
     "output_type": "stream",
     "text": [
      " 83%|████████▎ | 25/30 [00:06<00:01,  4.20it/s]"
     ]
    },
    {
     "name": "stdout",
     "output_type": "stream",
     "text": [
      "Repetição 25 - Acurácia: 0.98, Precisão: 0.77, Recall: 0.80, F1-score: 0.78, ROC AUC: 0.89\n"
     ]
    },
    {
     "name": "stderr",
     "output_type": "stream",
     "text": [
      " 87%|████████▋ | 26/30 [00:06<00:00,  4.18it/s]"
     ]
    },
    {
     "name": "stdout",
     "output_type": "stream",
     "text": [
      "Repetição 26 - Acurácia: 0.98, Precisão: 0.79, Recall: 0.83, F1-score: 0.81, ROC AUC: 0.91\n"
     ]
    },
    {
     "name": "stderr",
     "output_type": "stream",
     "text": [
      " 90%|█████████ | 27/30 [00:06<00:00,  4.21it/s]"
     ]
    },
    {
     "name": "stdout",
     "output_type": "stream",
     "text": [
      "Repetição 27 - Acurácia: 0.98, Precisão: 0.78, Recall: 0.84, F1-score: 0.81, ROC AUC: 0.91\n"
     ]
    },
    {
     "name": "stderr",
     "output_type": "stream",
     "text": [
      " 93%|█████████▎| 28/30 [00:06<00:00,  4.22it/s]"
     ]
    },
    {
     "name": "stdout",
     "output_type": "stream",
     "text": [
      "Repetição 28 - Acurácia: 0.98, Precisão: 0.77, Recall: 0.83, F1-score: 0.80, ROC AUC: 0.91\n"
     ]
    },
    {
     "name": "stderr",
     "output_type": "stream",
     "text": [
      " 97%|█████████▋| 29/30 [00:06<00:00,  4.20it/s]"
     ]
    },
    {
     "name": "stdout",
     "output_type": "stream",
     "text": [
      "Repetição 29 - Acurácia: 0.98, Precisão: 0.77, Recall: 0.79, F1-score: 0.78, ROC AUC: 0.89\n"
     ]
    },
    {
     "name": "stderr",
     "output_type": "stream",
     "text": [
      "100%|██████████| 30/30 [00:07<00:00,  4.15it/s]"
     ]
    },
    {
     "name": "stdout",
     "output_type": "stream",
     "text": [
      "Repetição 30 - Acurácia: 0.98, Precisão: 0.77, Recall: 0.83, F1-score: 0.80, ROC AUC: 0.91\n",
      "Média das Acurácias: 0.98173 ± 0.00069\n",
      "Média das Precisões: 0.77129 ± 0.01061\n",
      "Média dos Recalls: 0.81936 ± 0.01282\n",
      "Média dos F1-scores: 0.79450 ± 0.00767\n",
      "Média dos ROC AUC: 0.90421 ± 0.00629\n"
     ]
    },
    {
     "name": "stderr",
     "output_type": "stream",
     "text": [
      "\n"
     ]
    }
   ],
   "source": [
    "num_repeticoes = 30\n",
    "\n",
    "# Listas para armazenar as métricas\n",
    "acuracias = []\n",
    "precisoes = []\n",
    "recalls = []\n",
    "f1_scores = []\n",
    "roc_auc_scores = []\n",
    "\n",
    "# Loop para repetir o processo\n",
    "for i in tqdm(range(num_repeticoes)):\n",
    "\n",
    "    x_train, x_test, y_train, y_test = train_test_split(x_all, y_all, test_size=0.2, stratify=y_all)\n",
    "\n",
    "    # Inicializar o modelo de árvore de decisão com Gini Impurity e sem limitação de altura\n",
    "    modelo_arvore = DecisionTreeClassifier(criterion='gini')\n",
    "\n",
    "    # Treinar o modelo no conjunto de treino\n",
    "    modelo_arvore.fit(x_train, y_train)\n",
    "\n",
    "    # Fazer previsões no conjunto de teste\n",
    "    previsoes = modelo_arvore.predict(x_test)\n",
    "\n",
    "    # Avaliar as métricas do modelo e armazenar na lista\n",
    "    acuracia = accuracy_score(y_test, previsoes)\n",
    "    precisao = precision_score(y_test, previsoes)\n",
    "    recall = recall_score(y_test, previsoes)\n",
    "    f1 = f1_score(y_test, previsoes)\n",
    "    roc_auc = roc_auc_score(y_test, previsoes)\n",
    "    \n",
    "    acuracias.append(acuracia)\n",
    "    precisoes.append(precisao)\n",
    "    recalls.append(recall)\n",
    "    f1_scores.append(f1)\n",
    "    roc_auc_scores.append(roc_auc)\n",
    "\n",
    "    print(f'Repetição {i+1} - Acurácia: {acuracia:.2f}, Precisão: {precisao:.2f}, Recall: {recall:.2f}, F1-score: {f1:.2f}, ROC AUC: {roc_auc:.2f}')\n",
    "\n",
    "# Calcular as médias das métricas\n",
    "media_acuracias = np.mean(acuracias)\n",
    "media_precisoes = np.mean(precisoes)\n",
    "media_recalls = np.mean(recalls)\n",
    "media_f1_scores = np.mean(f1_scores)\n",
    "media_roc_auc_scores = np.mean(roc_auc_scores)\n",
    "\n",
    "# Calcular os desvios padrão das métricas\n",
    "dp_acuracias = np.std(acuracias)\n",
    "dp_precisoes = np.std(precisoes)\n",
    "dp_recalls = np.std(recalls)\n",
    "dp_f1_scores = np.std(f1_scores)\n",
    "dp_roc_auc_scores = np.std(roc_auc_scores)\n",
    "\n",
    "# Adicionar as médias e desvios padrão às listas de métricas\n",
    "Acurracy.append(media_acuracias)\n",
    "Precision.append(media_precisoes)\n",
    "Recall.append(media_recalls)\n",
    "F1_score.append(media_f1_scores)\n",
    "Roc_auc.append(media_roc_auc_scores)\n",
    "\n",
    "AcurracyDP.append(dp_acuracias)\n",
    "PrecisionDP.append(dp_precisoes)\n",
    "RecallDP.append(dp_recalls)\n",
    "F1_scoreDP.append(dp_f1_scores)\n",
    "Roc_aucDP.append(dp_roc_auc_scores)\n",
    "\n",
    "print(f'Média das Acurácias: {media_acuracias:.5f} ± {dp_acuracias:.5f}')\n",
    "print(f'Média das Precisões: {media_precisoes:.5f} ± {dp_precisoes:.5f}')\n",
    "print(f'Média dos Recalls: {media_recalls:.5f} ± {dp_recalls:.5f}')\n",
    "print(f'Média dos F1-scores: {media_f1_scores:.5f} ± {dp_f1_scores:.5f}')\n",
    "print(f'Média dos ROC AUC: {media_roc_auc_scores:.5f} ± {dp_roc_auc_scores:.5f}')"
   ]
  },
  {
   "cell_type": "code",
   "execution_count": 8,
   "metadata": {},
   "outputs": [
    {
     "name": "stderr",
     "output_type": "stream",
     "text": [
      "  0%|          | 0/30 [00:00<?, ?it/s]"
     ]
    },
    {
     "name": "stderr",
     "output_type": "stream",
     "text": [
      "c:\\Users\\josev\\anaconda3\\Lib\\site-packages\\sklearn\\metrics\\_classification.py:1509: UndefinedMetricWarning: Precision is ill-defined and being set to 0.0 due to no predicted samples. Use `zero_division` parameter to control this behavior.\n",
      "  _warn_prf(average, modifier, f\"{metric.capitalize()} is\", len(result))\n",
      "  3%|▎         | 1/30 [00:00<00:03,  9.13it/s]"
     ]
    },
    {
     "name": "stdout",
     "output_type": "stream",
     "text": [
      "Repetição 1 - Acurácia: 0.96, Precisão: 0.00, Recall: 0.00, F1-score: 0.00, ROC AUC: 0.50\n"
     ]
    },
    {
     "name": "stderr",
     "output_type": "stream",
     "text": [
      "c:\\Users\\josev\\anaconda3\\Lib\\site-packages\\sklearn\\metrics\\_classification.py:1509: UndefinedMetricWarning: Precision is ill-defined and being set to 0.0 due to no predicted samples. Use `zero_division` parameter to control this behavior.\n",
      "  _warn_prf(average, modifier, f\"{metric.capitalize()} is\", len(result))\n",
      "c:\\Users\\josev\\anaconda3\\Lib\\site-packages\\sklearn\\metrics\\_classification.py:1509: UndefinedMetricWarning: Precision is ill-defined and being set to 0.0 due to no predicted samples. Use `zero_division` parameter to control this behavior.\n",
      "  _warn_prf(average, modifier, f\"{metric.capitalize()} is\", len(result))\n",
      " 10%|█         | 3/30 [00:00<00:01, 13.62it/s]c:\\Users\\josev\\anaconda3\\Lib\\site-packages\\sklearn\\metrics\\_classification.py:1509: UndefinedMetricWarning: Precision is ill-defined and being set to 0.0 due to no predicted samples. Use `zero_division` parameter to control this behavior.\n",
      "  _warn_prf(average, modifier, f\"{metric.capitalize()} is\", len(result))\n"
     ]
    },
    {
     "name": "stdout",
     "output_type": "stream",
     "text": [
      "Repetição 2 - Acurácia: 0.96, Precisão: 0.00, Recall: 0.00, F1-score: 0.00, ROC AUC: 0.50\n",
      "Repetição 3 - Acurácia: 0.96, Precisão: 0.00, Recall: 0.00, F1-score: 0.00, ROC AUC: 0.50\n",
      "Repetição 4 - Acurácia: 0.96, Precisão: 0.00, Recall: 0.00, F1-score: 0.00, ROC AUC: 0.50\n"
     ]
    },
    {
     "name": "stderr",
     "output_type": "stream",
     "text": [
      "c:\\Users\\josev\\anaconda3\\Lib\\site-packages\\sklearn\\metrics\\_classification.py:1509: UndefinedMetricWarning: Precision is ill-defined and being set to 0.0 due to no predicted samples. Use `zero_division` parameter to control this behavior.\n",
      "  _warn_prf(average, modifier, f\"{metric.capitalize()} is\", len(result))\n",
      " 17%|█▋        | 5/30 [00:00<00:01, 14.37it/s]"
     ]
    },
    {
     "name": "stdout",
     "output_type": "stream",
     "text": [
      "Repetição 5 - Acurácia: 0.96, Precisão: 0.00, Recall: 0.00, F1-score: 0.00, ROC AUC: 0.50\n",
      "Repetição 6 - Acurácia: 0.96, Precisão: 0.00, Recall: 0.00, F1-score: 0.00, ROC AUC: 0.50\n"
     ]
    },
    {
     "name": "stderr",
     "output_type": "stream",
     "text": [
      "c:\\Users\\josev\\anaconda3\\Lib\\site-packages\\sklearn\\metrics\\_classification.py:1509: UndefinedMetricWarning: Precision is ill-defined and being set to 0.0 due to no predicted samples. Use `zero_division` parameter to control this behavior.\n",
      "  _warn_prf(average, modifier, f\"{metric.capitalize()} is\", len(result))\n",
      "c:\\Users\\josev\\anaconda3\\Lib\\site-packages\\sklearn\\metrics\\_classification.py:1509: UndefinedMetricWarning: Precision is ill-defined and being set to 0.0 due to no predicted samples. Use `zero_division` parameter to control this behavior.\n",
      "  _warn_prf(average, modifier, f\"{metric.capitalize()} is\", len(result))\n",
      " 23%|██▎       | 7/30 [00:00<00:01, 14.41it/s]c:\\Users\\josev\\anaconda3\\Lib\\site-packages\\sklearn\\metrics\\_classification.py:1509: UndefinedMetricWarning: Precision is ill-defined and being set to 0.0 due to no predicted samples. Use `zero_division` parameter to control this behavior.\n",
      "  _warn_prf(average, modifier, f\"{metric.capitalize()} is\", len(result))\n"
     ]
    },
    {
     "name": "stdout",
     "output_type": "stream",
     "text": [
      "Repetição 7 - Acurácia: 0.96, Precisão: 0.00, Recall: 0.00, F1-score: 0.00, ROC AUC: 0.50\n"
     ]
    },
    {
     "name": "stderr",
     "output_type": "stream",
     "text": [
      "c:\\Users\\josev\\anaconda3\\Lib\\site-packages\\sklearn\\metrics\\_classification.py:1509: UndefinedMetricWarning: Precision is ill-defined and being set to 0.0 due to no predicted samples. Use `zero_division` parameter to control this behavior.\n",
      "  _warn_prf(average, modifier, f\"{metric.capitalize()} is\", len(result))\n",
      " 30%|███       | 9/30 [00:00<00:01, 14.91it/s]"
     ]
    },
    {
     "name": "stdout",
     "output_type": "stream",
     "text": [
      "Repetição 8 - Acurácia: 0.96, Precisão: 0.00, Recall: 0.00, F1-score: 0.00, ROC AUC: 0.50\n",
      "Repetição 9 - Acurácia: 0.96, Precisão: 0.00, Recall: 0.00, F1-score: 0.00, ROC AUC: 0.50\n"
     ]
    },
    {
     "name": "stderr",
     "output_type": "stream",
     "text": [
      "c:\\Users\\josev\\anaconda3\\Lib\\site-packages\\sklearn\\metrics\\_classification.py:1509: UndefinedMetricWarning: Precision is ill-defined and being set to 0.0 due to no predicted samples. Use `zero_division` parameter to control this behavior.\n",
      "  _warn_prf(average, modifier, f\"{metric.capitalize()} is\", len(result))\n",
      "c:\\Users\\josev\\anaconda3\\Lib\\site-packages\\sklearn\\metrics\\_classification.py:1509: UndefinedMetricWarning: Precision is ill-defined and being set to 0.0 due to no predicted samples. Use `zero_division` parameter to control this behavior.\n",
      "  _warn_prf(average, modifier, f\"{metric.capitalize()} is\", len(result))\n"
     ]
    },
    {
     "name": "stdout",
     "output_type": "stream",
     "text": [
      "Repetição 10 - Acurácia: 0.96, Precisão: 0.00, Recall: 0.00, F1-score: 0.00, ROC AUC: 0.50\n",
      "Repetição 11 - Acurácia: 0.96, Precisão: 0.00, Recall: 0.00, F1-score: 0.00, ROC AUC: 0.50\n"
     ]
    },
    {
     "name": "stderr",
     "output_type": "stream",
     "text": [
      " 37%|███▋      | 11/30 [00:00<00:01, 15.01it/s]c:\\Users\\josev\\anaconda3\\Lib\\site-packages\\sklearn\\metrics\\_classification.py:1509: UndefinedMetricWarning: Precision is ill-defined and being set to 0.0 due to no predicted samples. Use `zero_division` parameter to control this behavior.\n",
      "  _warn_prf(average, modifier, f\"{metric.capitalize()} is\", len(result))\n",
      "c:\\Users\\josev\\anaconda3\\Lib\\site-packages\\sklearn\\metrics\\_classification.py:1509: UndefinedMetricWarning: Precision is ill-defined and being set to 0.0 due to no predicted samples. Use `zero_division` parameter to control this behavior.\n",
      "  _warn_prf(average, modifier, f\"{metric.capitalize()} is\", len(result))\n"
     ]
    },
    {
     "name": "stdout",
     "output_type": "stream",
     "text": [
      "Repetição 12 - Acurácia: 0.96, Precisão: 0.00, Recall: 0.00, F1-score: 0.00, ROC AUC: 0.50\n"
     ]
    },
    {
     "name": "stderr",
     "output_type": "stream",
     "text": [
      " 43%|████▎     | 13/30 [00:00<00:01, 14.85it/s]c:\\Users\\josev\\anaconda3\\Lib\\site-packages\\sklearn\\metrics\\_classification.py:1509: UndefinedMetricWarning: Precision is ill-defined and being set to 0.0 due to no predicted samples. Use `zero_division` parameter to control this behavior.\n",
      "  _warn_prf(average, modifier, f\"{metric.capitalize()} is\", len(result))\n"
     ]
    },
    {
     "name": "stdout",
     "output_type": "stream",
     "text": [
      "Repetição 13 - Acurácia: 0.96, Precisão: 0.00, Recall: 0.00, F1-score: 0.00, ROC AUC: 0.50\n",
      "Repetição 14 - Acurácia: 0.96, Precisão: 0.00, Recall: 0.00, F1-score: 0.00, ROC AUC: 0.50\n"
     ]
    },
    {
     "name": "stderr",
     "output_type": "stream",
     "text": [
      "c:\\Users\\josev\\anaconda3\\Lib\\site-packages\\sklearn\\metrics\\_classification.py:1509: UndefinedMetricWarning: Precision is ill-defined and being set to 0.0 due to no predicted samples. Use `zero_division` parameter to control this behavior.\n",
      "  _warn_prf(average, modifier, f\"{metric.capitalize()} is\", len(result))\n",
      " 50%|█████     | 15/30 [00:01<00:01, 14.96it/s]c:\\Users\\josev\\anaconda3\\Lib\\site-packages\\sklearn\\metrics\\_classification.py:1509: UndefinedMetricWarning: Precision is ill-defined and being set to 0.0 due to no predicted samples. Use `zero_division` parameter to control this behavior.\n",
      "  _warn_prf(average, modifier, f\"{metric.capitalize()} is\", len(result))\n"
     ]
    },
    {
     "name": "stdout",
     "output_type": "stream",
     "text": [
      "Repetição 15 - Acurácia: 0.96, Precisão: 0.00, Recall: 0.00, F1-score: 0.00, ROC AUC: 0.50\n",
      "Repetição 16 - Acurácia: 0.96, Precisão: 0.00, Recall: 0.00, F1-score: 0.00, ROC AUC: 0.50\n"
     ]
    },
    {
     "name": "stderr",
     "output_type": "stream",
     "text": [
      "c:\\Users\\josev\\anaconda3\\Lib\\site-packages\\sklearn\\metrics\\_classification.py:1509: UndefinedMetricWarning: Precision is ill-defined and being set to 0.0 due to no predicted samples. Use `zero_division` parameter to control this behavior.\n",
      "  _warn_prf(average, modifier, f\"{metric.capitalize()} is\", len(result))\n",
      " 57%|█████▋    | 17/30 [00:01<00:00, 15.15it/s]c:\\Users\\josev\\anaconda3\\Lib\\site-packages\\sklearn\\metrics\\_classification.py:1509: UndefinedMetricWarning: Precision is ill-defined and being set to 0.0 due to no predicted samples. Use `zero_division` parameter to control this behavior.\n",
      "  _warn_prf(average, modifier, f\"{metric.capitalize()} is\", len(result))\n"
     ]
    },
    {
     "name": "stdout",
     "output_type": "stream",
     "text": [
      "Repetição 17 - Acurácia: 0.96, Precisão: 0.00, Recall: 0.00, F1-score: 0.00, ROC AUC: 0.50\n"
     ]
    },
    {
     "name": "stderr",
     "output_type": "stream",
     "text": [
      "c:\\Users\\josev\\anaconda3\\Lib\\site-packages\\sklearn\\metrics\\_classification.py:1509: UndefinedMetricWarning: Precision is ill-defined and being set to 0.0 due to no predicted samples. Use `zero_division` parameter to control this behavior.\n",
      "  _warn_prf(average, modifier, f\"{metric.capitalize()} is\", len(result))\n",
      " 63%|██████▎   | 19/30 [00:01<00:00, 15.02it/s]"
     ]
    },
    {
     "name": "stdout",
     "output_type": "stream",
     "text": [
      "Repetição 18 - Acurácia: 0.96, Precisão: 0.00, Recall: 0.00, F1-score: 0.00, ROC AUC: 0.50\n",
      "Repetição 19 - Acurácia: 0.96, Precisão: 0.00, Recall: 0.00, F1-score: 0.00, ROC AUC: 0.50\n"
     ]
    },
    {
     "name": "stderr",
     "output_type": "stream",
     "text": [
      "c:\\Users\\josev\\anaconda3\\Lib\\site-packages\\sklearn\\metrics\\_classification.py:1509: UndefinedMetricWarning: Precision is ill-defined and being set to 0.0 due to no predicted samples. Use `zero_division` parameter to control this behavior.\n",
      "  _warn_prf(average, modifier, f\"{metric.capitalize()} is\", len(result))\n",
      "c:\\Users\\josev\\anaconda3\\Lib\\site-packages\\sklearn\\metrics\\_classification.py:1509: UndefinedMetricWarning: Precision is ill-defined and being set to 0.0 due to no predicted samples. Use `zero_division` parameter to control this behavior.\n",
      "  _warn_prf(average, modifier, f\"{metric.capitalize()} is\", len(result))\n"
     ]
    },
    {
     "name": "stdout",
     "output_type": "stream",
     "text": [
      "Repetição 20 - Acurácia: 0.96, Precisão: 0.00, Recall: 0.00, F1-score: 0.00, ROC AUC: 0.50\n"
     ]
    },
    {
     "name": "stderr",
     "output_type": "stream",
     "text": [
      " 70%|███████   | 21/30 [00:01<00:00, 15.18it/s]c:\\Users\\josev\\anaconda3\\Lib\\site-packages\\sklearn\\metrics\\_classification.py:1509: UndefinedMetricWarning: Precision is ill-defined and being set to 0.0 due to no predicted samples. Use `zero_division` parameter to control this behavior.\n",
      "  _warn_prf(average, modifier, f\"{metric.capitalize()} is\", len(result))\n"
     ]
    },
    {
     "name": "stdout",
     "output_type": "stream",
     "text": [
      "Repetição 21 - Acurácia: 0.96, Precisão: 0.00, Recall: 0.00, F1-score: 0.00, ROC AUC: 0.50\n",
      "Repetição 22 - Acurácia: 0.96, Precisão: 0.00, Recall: 0.00, F1-score: 0.00, ROC AUC: 0.50\n"
     ]
    },
    {
     "name": "stderr",
     "output_type": "stream",
     "text": [
      "c:\\Users\\josev\\anaconda3\\Lib\\site-packages\\sklearn\\metrics\\_classification.py:1509: UndefinedMetricWarning: Precision is ill-defined and being set to 0.0 due to no predicted samples. Use `zero_division` parameter to control this behavior.\n",
      "  _warn_prf(average, modifier, f\"{metric.capitalize()} is\", len(result))\n",
      " 77%|███████▋  | 23/30 [00:01<00:00, 15.33it/s]"
     ]
    },
    {
     "name": "stdout",
     "output_type": "stream",
     "text": [
      "Repetição 23 - Acurácia: 0.96, Precisão: 0.00, Recall: 0.00, F1-score: 0.00, ROC AUC: 0.50\n"
     ]
    },
    {
     "name": "stderr",
     "output_type": "stream",
     "text": [
      "c:\\Users\\josev\\anaconda3\\Lib\\site-packages\\sklearn\\metrics\\_classification.py:1509: UndefinedMetricWarning: Precision is ill-defined and being set to 0.0 due to no predicted samples. Use `zero_division` parameter to control this behavior.\n",
      "  _warn_prf(average, modifier, f\"{metric.capitalize()} is\", len(result))\n",
      "c:\\Users\\josev\\anaconda3\\Lib\\site-packages\\sklearn\\metrics\\_classification.py:1509: UndefinedMetricWarning: Precision is ill-defined and being set to 0.0 due to no predicted samples. Use `zero_division` parameter to control this behavior.\n",
      "  _warn_prf(average, modifier, f\"{metric.capitalize()} is\", len(result))\n",
      " 83%|████████▎ | 25/30 [00:01<00:00, 15.46it/s]"
     ]
    },
    {
     "name": "stdout",
     "output_type": "stream",
     "text": [
      "Repetição 24 - Acurácia: 0.96, Precisão: 0.00, Recall: 0.00, F1-score: 0.00, ROC AUC: 0.50\n",
      "Repetição 25 - Acurácia: 0.96, Precisão: 0.00, Recall: 0.00, F1-score: 0.00, ROC AUC: 0.50\n"
     ]
    },
    {
     "name": "stderr",
     "output_type": "stream",
     "text": [
      "c:\\Users\\josev\\anaconda3\\Lib\\site-packages\\sklearn\\metrics\\_classification.py:1509: UndefinedMetricWarning: Precision is ill-defined and being set to 0.0 due to no predicted samples. Use `zero_division` parameter to control this behavior.\n",
      "  _warn_prf(average, modifier, f\"{metric.capitalize()} is\", len(result))\n"
     ]
    },
    {
     "name": "stdout",
     "output_type": "stream",
     "text": [
      "Repetição 26 - Acurácia: 0.96, Precisão: 0.00, Recall: 0.00, F1-score: 0.00, ROC AUC: 0.50\n"
     ]
    },
    {
     "name": "stderr",
     "output_type": "stream",
     "text": [
      "c:\\Users\\josev\\anaconda3\\Lib\\site-packages\\sklearn\\metrics\\_classification.py:1509: UndefinedMetricWarning: Precision is ill-defined and being set to 0.0 due to no predicted samples. Use `zero_division` parameter to control this behavior.\n",
      "  _warn_prf(average, modifier, f\"{metric.capitalize()} is\", len(result))\n",
      " 90%|█████████ | 27/30 [00:01<00:00, 14.84it/s]c:\\Users\\josev\\anaconda3\\Lib\\site-packages\\sklearn\\metrics\\_classification.py:1509: UndefinedMetricWarning: Precision is ill-defined and being set to 0.0 due to no predicted samples. Use `zero_division` parameter to control this behavior.\n",
      "  _warn_prf(average, modifier, f\"{metric.capitalize()} is\", len(result))\n",
      "c:\\Users\\josev\\anaconda3\\Lib\\site-packages\\sklearn\\metrics\\_classification.py:1509: UndefinedMetricWarning: Precision is ill-defined and being set to 0.0 due to no predicted samples. Use `zero_division` parameter to control this behavior.\n",
      "  _warn_prf(average, modifier, f\"{metric.capitalize()} is\", len(result))\n",
      " 97%|█████████▋| 29/30 [00:01<00:00, 15.02it/s]"
     ]
    },
    {
     "name": "stdout",
     "output_type": "stream",
     "text": [
      "Repetição 27 - Acurácia: 0.96, Precisão: 0.00, Recall: 0.00, F1-score: 0.00, ROC AUC: 0.50\n",
      "Repetição 28 - Acurácia: 0.96, Precisão: 0.00, Recall: 0.00, F1-score: 0.00, ROC AUC: 0.50\n",
      "Repetição 29 - Acurácia: 0.96, Precisão: 0.00, Recall: 0.00, F1-score: 0.00, ROC AUC: 0.50\n"
     ]
    },
    {
     "name": "stderr",
     "output_type": "stream",
     "text": [
      "c:\\Users\\josev\\anaconda3\\Lib\\site-packages\\sklearn\\metrics\\_classification.py:1509: UndefinedMetricWarning: Precision is ill-defined and being set to 0.0 due to no predicted samples. Use `zero_division` parameter to control this behavior.\n",
      "  _warn_prf(average, modifier, f\"{metric.capitalize()} is\", len(result))\n",
      "100%|██████████| 30/30 [00:02<00:00, 14.80it/s]"
     ]
    },
    {
     "name": "stdout",
     "output_type": "stream",
     "text": [
      "Repetição 30 - Acurácia: 0.96, Precisão: 0.00, Recall: 0.00, F1-score: 0.00, ROC AUC: 0.50\n",
      "Média das Acurácias: 0.95690 ± 0.00000\n",
      "Média das Precisões: 0.00000 ± 0.00000\n",
      "Média dos Recalls: 0.00000 ± 0.00000\n",
      "Média dos F1-scores: 0.00000 ± 0.00000\n",
      "Média dos ROC AUC: 0.50000 ± 0.00000\n"
     ]
    },
    {
     "name": "stderr",
     "output_type": "stream",
     "text": [
      "\n"
     ]
    }
   ],
   "source": [
    "num_repeticoes = 30\n",
    "\n",
    "# Listas para armazenar as métricas\n",
    "acuracias = []\n",
    "precisoes = []\n",
    "recalls = []\n",
    "f1_scores = []\n",
    "roc_auc_scores = []\n",
    "\n",
    "# Loop para repetir o processo\n",
    "for i in tqdm(range(num_repeticoes)):\n",
    "\n",
    "    x_train, x_test, y_train, y_test = train_test_split(x_all, y_all, test_size=0.2, stratify=y_all)\n",
    "    \n",
    "    #Inicializar o modelo de Naive Bayes com distribuição de Bernoulli\n",
    "    modelo_naive_bayes = BernoulliNB()\n",
    "\n",
    "    # Treinar o modelo no conjunto de treino\n",
    "    modelo_naive_bayes.fit(x_train, y_train)\n",
    "\n",
    "    # Fazer previsões no conjunto de teste\n",
    "    previsoes = modelo_naive_bayes.predict(x_test)\n",
    "\n",
    "    # Avaliar as métricas do modelo e armazenar na lista\n",
    "    acuracia = accuracy_score(y_test, previsoes)\n",
    "    precisao = precision_score(y_test, previsoes)\n",
    "    recall = recall_score(y_test, previsoes)\n",
    "    f1 = f1_score(y_test, previsoes)\n",
    "    roc_auc = roc_auc_score(y_test, previsoes)\n",
    "    \n",
    "    acuracias.append(acuracia)\n",
    "    precisoes.append(precisao)\n",
    "    recalls.append(recall)\n",
    "    f1_scores.append(f1)\n",
    "    roc_auc_scores.append(roc_auc)\n",
    "\n",
    "    print(f'Repetição {i+1} - Acurácia: {acuracia:.2f}, Precisão: {precisao:.2f}, Recall: {recall:.2f}, F1-score: {f1:.2f}, ROC AUC: {roc_auc:.2f}')\n",
    "\n",
    "# Calcular as médias das métricas\n",
    "media_acuracias = np.mean(acuracias)\n",
    "media_precisoes = np.mean(precisoes)\n",
    "media_recalls = np.mean(recalls)\n",
    "media_f1_scores = np.mean(f1_scores)\n",
    "media_roc_auc_scores = np.mean(roc_auc_scores)\n",
    "\n",
    "# Calcular os desvios padrão das métricas\n",
    "dp_acuracias = np.std(acuracias)\n",
    "dp_precisoes = np.std(precisoes)\n",
    "dp_recalls = np.std(recalls)\n",
    "dp_f1_scores = np.std(f1_scores)\n",
    "dp_roc_auc_scores = np.std(roc_auc_scores)\n",
    "\n",
    "# Adicionar as médias e desvios padrão às listas de métricas\n",
    "Acurracy.append(media_acuracias)\n",
    "Precision.append(media_precisoes)\n",
    "Recall.append(media_recalls)\n",
    "F1_score.append(media_f1_scores)\n",
    "Roc_auc.append(media_roc_auc_scores)\n",
    "\n",
    "AcurracyDP.append(dp_acuracias)\n",
    "PrecisionDP.append(dp_precisoes)\n",
    "RecallDP.append(dp_recalls)\n",
    "F1_scoreDP.append(dp_f1_scores)\n",
    "Roc_aucDP.append(dp_roc_auc_scores)\n",
    "\n",
    "print(f'Média das Acurácias: {media_acuracias:.5f} ± {dp_acuracias:.5f}')\n",
    "print(f'Média das Precisões: {media_precisoes:.5f} ± {dp_precisoes:.5f}')\n",
    "print(f'Média dos Recalls: {media_recalls:.5f} ± {dp_recalls:.5f}')\n",
    "print(f'Média dos F1-scores: {media_f1_scores:.5f} ± {dp_f1_scores:.5f}')\n",
    "print(f'Média dos ROC AUC: {media_roc_auc_scores:.5f} ± {dp_roc_auc_scores:.5f}')"
   ]
  },
  {
   "cell_type": "code",
   "execution_count": 9,
   "metadata": {},
   "outputs": [
    {
     "name": "stderr",
     "output_type": "stream",
     "text": [
      "  3%|▎         | 1/30 [00:24<11:58, 24.78s/it]"
     ]
    },
    {
     "name": "stdout",
     "output_type": "stream",
     "text": [
      "Repetição 1 - Acurácia: 0.98, Precisão: 0.81, Recall: 0.64, F1-score: 0.72, ROC AUC: 0.82\n"
     ]
    },
    {
     "name": "stderr",
     "output_type": "stream",
     "text": [
      "  7%|▋         | 2/30 [01:01<14:53, 31.90s/it]"
     ]
    },
    {
     "name": "stdout",
     "output_type": "stream",
     "text": [
      "Repetição 2 - Acurácia: 0.98, Precisão: 0.82, Recall: 0.59, F1-score: 0.69, ROC AUC: 0.79\n"
     ]
    },
    {
     "name": "stderr",
     "output_type": "stream",
     "text": [
      " 10%|█         | 3/30 [01:38<15:23, 34.19s/it]"
     ]
    },
    {
     "name": "stdout",
     "output_type": "stream",
     "text": [
      "Repetição 3 - Acurácia: 0.98, Precisão: 0.79, Recall: 0.61, F1-score: 0.69, ROC AUC: 0.80\n"
     ]
    },
    {
     "name": "stderr",
     "output_type": "stream",
     "text": [
      " 13%|█▎        | 4/30 [02:03<13:14, 30.56s/it]"
     ]
    },
    {
     "name": "stdout",
     "output_type": "stream",
     "text": [
      "Repetição 4 - Acurácia: 0.98, Precisão: 0.84, Recall: 0.57, F1-score: 0.68, ROC AUC: 0.78\n"
     ]
    },
    {
     "name": "stderr",
     "output_type": "stream",
     "text": [
      " 17%|█▋        | 5/30 [02:35<12:55, 31.01s/it]"
     ]
    },
    {
     "name": "stdout",
     "output_type": "stream",
     "text": [
      "Repetição 5 - Acurácia: 0.98, Precisão: 0.85, Recall: 0.59, F1-score: 0.70, ROC AUC: 0.79\n"
     ]
    },
    {
     "name": "stderr",
     "output_type": "stream",
     "text": [
      " 20%|██        | 6/30 [03:09<12:45, 31.91s/it]"
     ]
    },
    {
     "name": "stdout",
     "output_type": "stream",
     "text": [
      "Repetição 6 - Acurácia: 0.98, Precisão: 0.82, Recall: 0.60, F1-score: 0.69, ROC AUC: 0.80\n"
     ]
    },
    {
     "name": "stderr",
     "output_type": "stream",
     "text": [
      " 23%|██▎       | 7/30 [03:23<10:02, 26.19s/it]"
     ]
    },
    {
     "name": "stdout",
     "output_type": "stream",
     "text": [
      "Repetição 7 - Acurácia: 0.98, Precisão: 0.83, Recall: 0.58, F1-score: 0.68, ROC AUC: 0.79\n"
     ]
    },
    {
     "name": "stderr",
     "output_type": "stream",
     "text": [
      " 27%|██▋       | 8/30 [03:58<10:36, 28.91s/it]"
     ]
    },
    {
     "name": "stdout",
     "output_type": "stream",
     "text": [
      "Repetição 8 - Acurácia: 0.98, Precisão: 0.80, Recall: 0.66, F1-score: 0.72, ROC AUC: 0.83\n"
     ]
    },
    {
     "name": "stderr",
     "output_type": "stream",
     "text": [
      " 30%|███       | 9/30 [04:32<10:40, 30.51s/it]"
     ]
    },
    {
     "name": "stdout",
     "output_type": "stream",
     "text": [
      "Repetição 9 - Acurácia: 0.98, Precisão: 0.82, Recall: 0.62, F1-score: 0.70, ROC AUC: 0.80\n"
     ]
    },
    {
     "name": "stderr",
     "output_type": "stream",
     "text": [
      " 33%|███▎      | 10/30 [04:54<09:18, 27.94s/it]"
     ]
    },
    {
     "name": "stdout",
     "output_type": "stream",
     "text": [
      "Repetição 10 - Acurácia: 0.97, Precisão: 0.79, Recall: 0.57, F1-score: 0.66, ROC AUC: 0.78\n"
     ]
    },
    {
     "name": "stderr",
     "output_type": "stream",
     "text": [
      " 37%|███▋      | 11/30 [05:37<10:16, 32.43s/it]"
     ]
    },
    {
     "name": "stdout",
     "output_type": "stream",
     "text": [
      "Repetição 11 - Acurácia: 0.98, Precisão: 0.80, Recall: 0.59, F1-score: 0.68, ROC AUC: 0.79\n"
     ]
    },
    {
     "name": "stderr",
     "output_type": "stream",
     "text": [
      " 40%|████      | 12/30 [06:19<10:36, 35.38s/it]"
     ]
    },
    {
     "name": "stdout",
     "output_type": "stream",
     "text": [
      "Repetição 12 - Acurácia: 0.98, Precisão: 0.85, Recall: 0.54, F1-score: 0.66, ROC AUC: 0.77\n"
     ]
    },
    {
     "name": "stderr",
     "output_type": "stream",
     "text": [
      " 43%|████▎     | 13/30 [06:43<09:02, 31.92s/it]"
     ]
    },
    {
     "name": "stdout",
     "output_type": "stream",
     "text": [
      "Repetição 13 - Acurácia: 0.98, Precisão: 0.83, Recall: 0.62, F1-score: 0.71, ROC AUC: 0.81\n"
     ]
    },
    {
     "name": "stderr",
     "output_type": "stream",
     "text": [
      " 47%|████▋     | 14/30 [07:12<08:18, 31.16s/it]"
     ]
    },
    {
     "name": "stdout",
     "output_type": "stream",
     "text": [
      "Repetição 14 - Acurácia: 0.98, Precisão: 0.80, Recall: 0.61, F1-score: 0.69, ROC AUC: 0.80\n"
     ]
    },
    {
     "name": "stderr",
     "output_type": "stream",
     "text": [
      " 50%|█████     | 15/30 [07:42<07:43, 30.92s/it]"
     ]
    },
    {
     "name": "stdout",
     "output_type": "stream",
     "text": [
      "Repetição 15 - Acurácia: 0.98, Precisão: 0.87, Recall: 0.59, F1-score: 0.70, ROC AUC: 0.79\n"
     ]
    },
    {
     "name": "stderr",
     "output_type": "stream",
     "text": [
      " 53%|█████▎    | 16/30 [08:23<07:52, 33.72s/it]"
     ]
    },
    {
     "name": "stdout",
     "output_type": "stream",
     "text": [
      "Repetição 16 - Acurácia: 0.98, Precisão: 0.87, Recall: 0.58, F1-score: 0.69, ROC AUC: 0.79\n"
     ]
    },
    {
     "name": "stderr",
     "output_type": "stream",
     "text": [
      " 57%|█████▋    | 17/30 [09:00<07:31, 34.74s/it]"
     ]
    },
    {
     "name": "stdout",
     "output_type": "stream",
     "text": [
      "Repetição 17 - Acurácia: 0.98, Precisão: 0.87, Recall: 0.56, F1-score: 0.68, ROC AUC: 0.78\n"
     ]
    },
    {
     "name": "stderr",
     "output_type": "stream",
     "text": [
      " 60%|██████    | 18/30 [09:42<07:25, 37.15s/it]"
     ]
    },
    {
     "name": "stdout",
     "output_type": "stream",
     "text": [
      "Repetição 18 - Acurácia: 0.98, Precisão: 0.80, Recall: 0.60, F1-score: 0.68, ROC AUC: 0.79\n"
     ]
    },
    {
     "name": "stderr",
     "output_type": "stream",
     "text": [
      " 63%|██████▎   | 19/30 [10:11<06:21, 34.67s/it]"
     ]
    },
    {
     "name": "stdout",
     "output_type": "stream",
     "text": [
      "Repetição 19 - Acurácia: 0.98, Precisão: 0.79, Recall: 0.61, F1-score: 0.69, ROC AUC: 0.80\n"
     ]
    },
    {
     "name": "stderr",
     "output_type": "stream",
     "text": [
      " 67%|██████▋   | 20/30 [10:46<05:45, 34.59s/it]"
     ]
    },
    {
     "name": "stdout",
     "output_type": "stream",
     "text": [
      "Repetição 20 - Acurácia: 0.98, Precisão: 0.86, Recall: 0.58, F1-score: 0.69, ROC AUC: 0.79\n"
     ]
    },
    {
     "name": "stderr",
     "output_type": "stream",
     "text": [
      " 70%|███████   | 21/30 [11:23<05:19, 35.53s/it]"
     ]
    },
    {
     "name": "stdout",
     "output_type": "stream",
     "text": [
      "Repetição 21 - Acurácia: 0.98, Precisão: 0.80, Recall: 0.63, F1-score: 0.70, ROC AUC: 0.81\n"
     ]
    },
    {
     "name": "stderr",
     "output_type": "stream",
     "text": [
      " 73%|███████▎  | 22/30 [11:54<04:31, 33.91s/it]"
     ]
    },
    {
     "name": "stdout",
     "output_type": "stream",
     "text": [
      "Repetição 22 - Acurácia: 0.98, Precisão: 0.82, Recall: 0.60, F1-score: 0.69, ROC AUC: 0.80\n"
     ]
    },
    {
     "name": "stderr",
     "output_type": "stream",
     "text": [
      " 77%|███████▋  | 23/30 [12:27<03:57, 33.86s/it]"
     ]
    },
    {
     "name": "stdout",
     "output_type": "stream",
     "text": [
      "Repetição 23 - Acurácia: 0.98, Precisão: 0.80, Recall: 0.61, F1-score: 0.69, ROC AUC: 0.80\n"
     ]
    },
    {
     "name": "stderr",
     "output_type": "stream",
     "text": [
      " 80%|████████  | 24/30 [12:53<03:09, 31.54s/it]"
     ]
    },
    {
     "name": "stdout",
     "output_type": "stream",
     "text": [
      "Repetição 24 - Acurácia: 0.97, Precisão: 0.72, Recall: 0.63, F1-score: 0.67, ROC AUC: 0.81\n"
     ]
    },
    {
     "name": "stderr",
     "output_type": "stream",
     "text": [
      " 83%|████████▎ | 25/30 [13:38<02:57, 35.50s/it]"
     ]
    },
    {
     "name": "stdout",
     "output_type": "stream",
     "text": [
      "Repetição 25 - Acurácia: 0.98, Precisão: 0.81, Recall: 0.58, F1-score: 0.67, ROC AUC: 0.78\n"
     ]
    },
    {
     "name": "stderr",
     "output_type": "stream",
     "text": [
      " 87%|████████▋ | 26/30 [14:11<02:19, 34.77s/it]"
     ]
    },
    {
     "name": "stdout",
     "output_type": "stream",
     "text": [
      "Repetição 26 - Acurácia: 0.98, Precisão: 0.82, Recall: 0.62, F1-score: 0.71, ROC AUC: 0.81\n"
     ]
    },
    {
     "name": "stderr",
     "output_type": "stream",
     "text": [
      " 90%|█████████ | 27/30 [14:59<01:55, 38.58s/it]"
     ]
    },
    {
     "name": "stdout",
     "output_type": "stream",
     "text": [
      "Repetição 27 - Acurácia: 0.98, Precisão: 0.78, Recall: 0.64, F1-score: 0.70, ROC AUC: 0.82\n"
     ]
    },
    {
     "name": "stderr",
     "output_type": "stream",
     "text": [
      " 93%|█████████▎| 28/30 [15:38<01:17, 38.67s/it]"
     ]
    },
    {
     "name": "stdout",
     "output_type": "stream",
     "text": [
      "Repetição 28 - Acurácia: 0.98, Precisão: 0.77, Recall: 0.66, F1-score: 0.71, ROC AUC: 0.83\n"
     ]
    },
    {
     "name": "stderr",
     "output_type": "stream",
     "text": [
      " 97%|█████████▋| 29/30 [16:19<00:39, 39.44s/it]"
     ]
    },
    {
     "name": "stdout",
     "output_type": "stream",
     "text": [
      "Repetição 29 - Acurácia: 0.98, Precisão: 0.83, Recall: 0.62, F1-score: 0.71, ROC AUC: 0.81\n"
     ]
    },
    {
     "name": "stderr",
     "output_type": "stream",
     "text": [
      "100%|██████████| 30/30 [16:57<00:00, 33.91s/it]"
     ]
    },
    {
     "name": "stdout",
     "output_type": "stream",
     "text": [
      "Repetição 30 - Acurácia: 0.98, Precisão: 0.85, Recall: 0.58, F1-score: 0.69, ROC AUC: 0.79\n",
      "Média das Acurácias: 0.97695 ± 0.00107\n",
      "Média das Precisões: 0.81735 ± 0.03268\n",
      "Média dos Recalls: 0.60162 ± 0.02823\n",
      "Média dos F1-scores: 0.69205 ± 0.01490\n",
      "Média dos ROC AUC: 0.79774 ± 0.01356\n"
     ]
    },
    {
     "name": "stderr",
     "output_type": "stream",
     "text": [
      "\n"
     ]
    }
   ],
   "source": [
    "num_repeticoes = 30\n",
    "\n",
    "# Listas para armazenar as métricas\n",
    "acuracias = []\n",
    "precisoes = []\n",
    "recalls = []\n",
    "f1_scores = []\n",
    "roc_auc_scores = []\n",
    "\n",
    "# Loop para repetir o processo\n",
    "for i in tqdm(range(num_repeticoes)):\n",
    "\n",
    "    x_train, x_test, y_train, y_test = train_test_split(x_all, y_all, test_size=0.2, stratify=y_all)\n",
    "    \n",
    "    # Inicializar o modelo MLP\n",
    "    modelo_mlp = MLPClassifier(hidden_layer_sizes=(100), max_iter=1000)\n",
    "\n",
    "    # Treinar o modelo no conjunto de treino\n",
    "    modelo_mlp.fit(x_train, y_train)\n",
    "\n",
    "    # Fazer previsões no conjunto de teste\n",
    "    previsoes = modelo_mlp.predict(x_test)\n",
    "\n",
    "    # Avaliar as métricas do modelo e armazenar na lista\n",
    "    acuracia = accuracy_score(y_test, previsoes)\n",
    "    precisao = precision_score(y_test, previsoes)\n",
    "    recall = recall_score(y_test, previsoes)\n",
    "    f1 = f1_score(y_test, previsoes)\n",
    "    roc_auc = roc_auc_score(y_test, previsoes)\n",
    "    \n",
    "    acuracias.append(acuracia)\n",
    "    precisoes.append(precisao)\n",
    "    recalls.append(recall)\n",
    "    f1_scores.append(f1)\n",
    "    roc_auc_scores.append(roc_auc)\n",
    "\n",
    "    print(f'Repetição {i+1} - Acurácia: {acuracia:.2f}, Precisão: {precisao:.2f}, Recall: {recall:.2f}, F1-score: {f1:.2f}, ROC AUC: {roc_auc:.2f}')\n",
    "\n",
    "# Calcular as médias das métricas\n",
    "media_acuracias = np.mean(acuracias)\n",
    "media_precisoes = np.mean(precisoes)\n",
    "media_recalls = np.mean(recalls)\n",
    "media_f1_scores = np.mean(f1_scores)\n",
    "media_roc_auc_scores = np.mean(roc_auc_scores)\n",
    "\n",
    "# Calcular os desvios padrão das métricas\n",
    "dp_acuracias = np.std(acuracias)\n",
    "dp_precisoes = np.std(precisoes)\n",
    "dp_recalls = np.std(recalls)\n",
    "dp_f1_scores = np.std(f1_scores)\n",
    "dp_roc_auc_scores = np.std(roc_auc_scores)\n",
    "\n",
    "# Adicionar as médias e desvios padrão às listas de métricas\n",
    "Acurracy.append(media_acuracias)\n",
    "Precision.append(media_precisoes)\n",
    "Recall.append(media_recalls)\n",
    "F1_score.append(media_f1_scores)\n",
    "Roc_auc.append(media_roc_auc_scores)\n",
    "\n",
    "AcurracyDP.append(dp_acuracias)\n",
    "PrecisionDP.append(dp_precisoes)\n",
    "RecallDP.append(dp_recalls)\n",
    "F1_scoreDP.append(dp_f1_scores)\n",
    "Roc_aucDP.append(dp_roc_auc_scores)\n",
    "\n",
    "print(f'Média das Acurácias: {media_acuracias:.5f} ± {dp_acuracias:.5f}')\n",
    "print(f'Média das Precisões: {media_precisoes:.5f} ± {dp_precisoes:.5f}')\n",
    "print(f'Média dos Recalls: {media_recalls:.5f} ± {dp_recalls:.5f}')\n",
    "print(f'Média dos F1-scores: {media_f1_scores:.5f} ± {dp_f1_scores:.5f}')\n",
    "print(f'Média dos ROC AUC: {media_roc_auc_scores:.5f} ± {dp_roc_auc_scores:.5f}')"
   ]
  },
  {
   "cell_type": "code",
   "execution_count": 10,
   "metadata": {},
   "outputs": [
    {
     "name": "stderr",
     "output_type": "stream",
     "text": [
      "  3%|▎         | 1/30 [00:01<00:45,  1.57s/it]"
     ]
    },
    {
     "name": "stdout",
     "output_type": "stream",
     "text": [
      "Repetição 1 - Acurácia: 0.98, Precisão: 0.83, Recall: 0.76, F1-score: 0.80, ROC AUC: 0.88\n"
     ]
    },
    {
     "name": "stderr",
     "output_type": "stream",
     "text": [
      "  7%|▋         | 2/30 [00:03<00:42,  1.53s/it]"
     ]
    },
    {
     "name": "stdout",
     "output_type": "stream",
     "text": [
      "Repetição 2 - Acurácia: 0.98, Precisão: 0.81, Recall: 0.75, F1-score: 0.78, ROC AUC: 0.87\n"
     ]
    },
    {
     "name": "stderr",
     "output_type": "stream",
     "text": [
      " 10%|█         | 3/30 [00:04<00:41,  1.54s/it]"
     ]
    },
    {
     "name": "stdout",
     "output_type": "stream",
     "text": [
      "Repetição 3 - Acurácia: 0.98, Precisão: 0.81, Recall: 0.72, F1-score: 0.76, ROC AUC: 0.86\n"
     ]
    },
    {
     "name": "stderr",
     "output_type": "stream",
     "text": [
      " 13%|█▎        | 4/30 [00:06<00:39,  1.52s/it]"
     ]
    },
    {
     "name": "stdout",
     "output_type": "stream",
     "text": [
      "Repetição 4 - Acurácia: 0.98, Precisão: 0.81, Recall: 0.73, F1-score: 0.77, ROC AUC: 0.86\n"
     ]
    },
    {
     "name": "stderr",
     "output_type": "stream",
     "text": [
      " 17%|█▋        | 5/30 [00:07<00:38,  1.53s/it]"
     ]
    },
    {
     "name": "stdout",
     "output_type": "stream",
     "text": [
      "Repetição 5 - Acurácia: 0.98, Precisão: 0.83, Recall: 0.73, F1-score: 0.78, ROC AUC: 0.86\n"
     ]
    },
    {
     "name": "stderr",
     "output_type": "stream",
     "text": [
      " 20%|██        | 6/30 [00:09<00:36,  1.53s/it]"
     ]
    },
    {
     "name": "stdout",
     "output_type": "stream",
     "text": [
      "Repetição 6 - Acurácia: 0.98, Precisão: 0.83, Recall: 0.72, F1-score: 0.77, ROC AUC: 0.86\n"
     ]
    },
    {
     "name": "stderr",
     "output_type": "stream",
     "text": [
      " 23%|██▎       | 7/30 [00:10<00:34,  1.51s/it]"
     ]
    },
    {
     "name": "stdout",
     "output_type": "stream",
     "text": [
      "Repetição 7 - Acurácia: 0.98, Precisão: 0.81, Recall: 0.74, F1-score: 0.78, ROC AUC: 0.87\n"
     ]
    },
    {
     "name": "stderr",
     "output_type": "stream",
     "text": [
      " 27%|██▋       | 8/30 [00:12<00:32,  1.49s/it]"
     ]
    },
    {
     "name": "stdout",
     "output_type": "stream",
     "text": [
      "Repetição 8 - Acurácia: 0.98, Precisão: 0.81, Recall: 0.72, F1-score: 0.76, ROC AUC: 0.86\n"
     ]
    },
    {
     "name": "stderr",
     "output_type": "stream",
     "text": [
      " 30%|███       | 9/30 [00:13<00:30,  1.46s/it]"
     ]
    },
    {
     "name": "stdout",
     "output_type": "stream",
     "text": [
      "Repetição 9 - Acurácia: 0.98, Precisão: 0.80, Recall: 0.72, F1-score: 0.76, ROC AUC: 0.86\n"
     ]
    },
    {
     "name": "stderr",
     "output_type": "stream",
     "text": [
      " 33%|███▎      | 10/30 [00:14<00:29,  1.45s/it]"
     ]
    },
    {
     "name": "stdout",
     "output_type": "stream",
     "text": [
      "Repetição 10 - Acurácia: 0.98, Precisão: 0.83, Recall: 0.74, F1-score: 0.78, ROC AUC: 0.86\n"
     ]
    },
    {
     "name": "stderr",
     "output_type": "stream",
     "text": [
      " 37%|███▋      | 11/30 [00:16<00:27,  1.45s/it]"
     ]
    },
    {
     "name": "stdout",
     "output_type": "stream",
     "text": [
      "Repetição 11 - Acurácia: 0.98, Precisão: 0.81, Recall: 0.74, F1-score: 0.78, ROC AUC: 0.87\n"
     ]
    },
    {
     "name": "stderr",
     "output_type": "stream",
     "text": [
      " 40%|████      | 12/30 [00:17<00:25,  1.44s/it]"
     ]
    },
    {
     "name": "stdout",
     "output_type": "stream",
     "text": [
      "Repetição 12 - Acurácia: 0.98, Precisão: 0.82, Recall: 0.73, F1-score: 0.77, ROC AUC: 0.86\n"
     ]
    },
    {
     "name": "stderr",
     "output_type": "stream",
     "text": [
      " 43%|████▎     | 13/30 [00:19<00:24,  1.43s/it]"
     ]
    },
    {
     "name": "stdout",
     "output_type": "stream",
     "text": [
      "Repetição 13 - Acurácia: 0.98, Precisão: 0.82, Recall: 0.75, F1-score: 0.79, ROC AUC: 0.87\n"
     ]
    },
    {
     "name": "stderr",
     "output_type": "stream",
     "text": [
      " 47%|████▋     | 14/30 [00:20<00:22,  1.42s/it]"
     ]
    },
    {
     "name": "stdout",
     "output_type": "stream",
     "text": [
      "Repetição 14 - Acurácia: 0.98, Precisão: 0.81, Recall: 0.72, F1-score: 0.76, ROC AUC: 0.86\n"
     ]
    },
    {
     "name": "stderr",
     "output_type": "stream",
     "text": [
      " 50%|█████     | 15/30 [00:22<00:21,  1.42s/it]"
     ]
    },
    {
     "name": "stdout",
     "output_type": "stream",
     "text": [
      "Repetição 15 - Acurácia: 0.98, Precisão: 0.81, Recall: 0.75, F1-score: 0.78, ROC AUC: 0.87\n"
     ]
    },
    {
     "name": "stderr",
     "output_type": "stream",
     "text": [
      " 53%|█████▎    | 16/30 [00:23<00:19,  1.42s/it]"
     ]
    },
    {
     "name": "stdout",
     "output_type": "stream",
     "text": [
      "Repetição 16 - Acurácia: 0.98, Precisão: 0.81, Recall: 0.73, F1-score: 0.77, ROC AUC: 0.86\n"
     ]
    },
    {
     "name": "stderr",
     "output_type": "stream",
     "text": [
      " 57%|█████▋    | 17/30 [00:24<00:18,  1.42s/it]"
     ]
    },
    {
     "name": "stdout",
     "output_type": "stream",
     "text": [
      "Repetição 17 - Acurácia: 0.98, Precisão: 0.82, Recall: 0.73, F1-score: 0.77, ROC AUC: 0.86\n"
     ]
    },
    {
     "name": "stderr",
     "output_type": "stream",
     "text": [
      " 60%|██████    | 18/30 [00:26<00:17,  1.42s/it]"
     ]
    },
    {
     "name": "stdout",
     "output_type": "stream",
     "text": [
      "Repetição 18 - Acurácia: 0.98, Precisão: 0.80, Recall: 0.75, F1-score: 0.78, ROC AUC: 0.87\n"
     ]
    },
    {
     "name": "stderr",
     "output_type": "stream",
     "text": [
      " 63%|██████▎   | 19/30 [00:27<00:15,  1.42s/it]"
     ]
    },
    {
     "name": "stdout",
     "output_type": "stream",
     "text": [
      "Repetição 19 - Acurácia: 0.98, Precisão: 0.82, Recall: 0.73, F1-score: 0.77, ROC AUC: 0.86\n"
     ]
    },
    {
     "name": "stderr",
     "output_type": "stream",
     "text": [
      " 67%|██████▋   | 20/30 [00:29<00:14,  1.42s/it]"
     ]
    },
    {
     "name": "stdout",
     "output_type": "stream",
     "text": [
      "Repetição 20 - Acurácia: 0.98, Precisão: 0.81, Recall: 0.75, F1-score: 0.78, ROC AUC: 0.87\n"
     ]
    },
    {
     "name": "stderr",
     "output_type": "stream",
     "text": [
      " 70%|███████   | 21/30 [00:30<00:12,  1.42s/it]"
     ]
    },
    {
     "name": "stdout",
     "output_type": "stream",
     "text": [
      "Repetição 21 - Acurácia: 0.98, Precisão: 0.80, Recall: 0.74, F1-score: 0.77, ROC AUC: 0.86\n"
     ]
    },
    {
     "name": "stderr",
     "output_type": "stream",
     "text": [
      " 73%|███████▎  | 22/30 [00:32<00:11,  1.44s/it]"
     ]
    },
    {
     "name": "stdout",
     "output_type": "stream",
     "text": [
      "Repetição 22 - Acurácia: 0.98, Precisão: 0.79, Recall: 0.73, F1-score: 0.76, ROC AUC: 0.86\n"
     ]
    },
    {
     "name": "stderr",
     "output_type": "stream",
     "text": [
      " 77%|███████▋  | 23/30 [00:33<00:10,  1.44s/it]"
     ]
    },
    {
     "name": "stdout",
     "output_type": "stream",
     "text": [
      "Repetição 23 - Acurácia: 0.98, Precisão: 0.82, Recall: 0.73, F1-score: 0.77, ROC AUC: 0.86\n"
     ]
    },
    {
     "name": "stderr",
     "output_type": "stream",
     "text": [
      " 80%|████████  | 24/30 [00:34<00:08,  1.43s/it]"
     ]
    },
    {
     "name": "stdout",
     "output_type": "stream",
     "text": [
      "Repetição 24 - Acurácia: 0.98, Precisão: 0.82, Recall: 0.74, F1-score: 0.78, ROC AUC: 0.87\n"
     ]
    },
    {
     "name": "stderr",
     "output_type": "stream",
     "text": [
      " 83%|████████▎ | 25/30 [00:36<00:07,  1.42s/it]"
     ]
    },
    {
     "name": "stdout",
     "output_type": "stream",
     "text": [
      "Repetição 25 - Acurácia: 0.98, Precisão: 0.80, Recall: 0.75, F1-score: 0.77, ROC AUC: 0.87\n"
     ]
    },
    {
     "name": "stderr",
     "output_type": "stream",
     "text": [
      " 87%|████████▋ | 26/30 [00:37<00:05,  1.41s/it]"
     ]
    },
    {
     "name": "stdout",
     "output_type": "stream",
     "text": [
      "Repetição 26 - Acurácia: 0.98, Precisão: 0.84, Recall: 0.73, F1-score: 0.78, ROC AUC: 0.86\n"
     ]
    },
    {
     "name": "stderr",
     "output_type": "stream",
     "text": [
      " 90%|█████████ | 27/30 [00:39<00:04,  1.42s/it]"
     ]
    },
    {
     "name": "stdout",
     "output_type": "stream",
     "text": [
      "Repetição 27 - Acurácia: 0.98, Precisão: 0.81, Recall: 0.77, F1-score: 0.79, ROC AUC: 0.88\n"
     ]
    },
    {
     "name": "stderr",
     "output_type": "stream",
     "text": [
      " 93%|█████████▎| 28/30 [00:40<00:02,  1.41s/it]"
     ]
    },
    {
     "name": "stdout",
     "output_type": "stream",
     "text": [
      "Repetição 28 - Acurácia: 0.98, Precisão: 0.82, Recall: 0.74, F1-score: 0.78, ROC AUC: 0.87\n"
     ]
    },
    {
     "name": "stderr",
     "output_type": "stream",
     "text": [
      " 97%|█████████▋| 29/30 [00:41<00:01,  1.44s/it]"
     ]
    },
    {
     "name": "stdout",
     "output_type": "stream",
     "text": [
      "Repetição 29 - Acurácia: 0.98, Precisão: 0.81, Recall: 0.75, F1-score: 0.78, ROC AUC: 0.87\n"
     ]
    },
    {
     "name": "stderr",
     "output_type": "stream",
     "text": [
      "100%|██████████| 30/30 [00:43<00:00,  1.45s/it]"
     ]
    },
    {
     "name": "stdout",
     "output_type": "stream",
     "text": [
      "Repetição 30 - Acurácia: 0.98, Precisão: 0.81, Recall: 0.76, F1-score: 0.78, ROC AUC: 0.88\n",
      "Média das Acurácias: 0.98143 ± 0.00070\n",
      "Média das Precisões: 0.81364 ± 0.01136\n",
      "Média dos Recalls: 0.73828 ± 0.01337\n",
      "Média dos F1-scores: 0.77403 ± 0.00894\n",
      "Média dos ROC AUC: 0.86533 ± 0.00662\n"
     ]
    },
    {
     "name": "stderr",
     "output_type": "stream",
     "text": [
      "\n"
     ]
    }
   ],
   "source": [
    "num_repeticoes = 30\n",
    "\n",
    "# Listas para armazenar as métricas\n",
    "acuracias = []\n",
    "precisoes = []\n",
    "recalls = []\n",
    "f1_scores = []\n",
    "roc_auc_scores = []\n",
    "\n",
    "# Loop para repetir o processo\n",
    "for i in tqdm(range(num_repeticoes)):\n",
    "\n",
    "    x_train, x_test, y_train, y_test = train_test_split(x_all, y_all, test_size=0.2, stratify=y_all)\n",
    "    \n",
    "    #inicializar o modelo KNN\n",
    "    modelo_knn = KNeighborsClassifier(n_neighbors=7)  # Escolha o número de vizinhos desejado\n",
    "\n",
    "    # Treinar o modelo no conjunto de treino\n",
    "    modelo_knn.fit(np.array(x_train), y_train)\n",
    "\n",
    "    # Fazer previsões no conjunto de teste\n",
    "    previsoes = modelo_knn.predict(np.array(x_test))\n",
    "\n",
    "    # Avaliar as métricas do modelo e armazenar na lista\n",
    "    acuracia = accuracy_score(y_test, previsoes)\n",
    "    precisao = precision_score(y_test, previsoes)\n",
    "    recall = recall_score(y_test, previsoes)\n",
    "    f1 = f1_score(y_test, previsoes)\n",
    "    roc_auc = roc_auc_score(y_test, previsoes)\n",
    "    \n",
    "    acuracias.append(acuracia)\n",
    "    precisoes.append(precisao)\n",
    "    recalls.append(recall)\n",
    "    f1_scores.append(f1)\n",
    "    roc_auc_scores.append(roc_auc)\n",
    "\n",
    "    print(f'Repetição {i+1} - Acurácia: {acuracia:.2f}, Precisão: {precisao:.2f}, Recall: {recall:.2f}, F1-score: {f1:.2f}, ROC AUC: {roc_auc:.2f}')\n",
    "\n",
    "# Calcular as médias das métricas\n",
    "media_acuracias = np.mean(acuracias)\n",
    "media_precisoes = np.mean(precisoes)\n",
    "media_recalls = np.mean(recalls)\n",
    "media_f1_scores = np.mean(f1_scores)\n",
    "media_roc_auc_scores = np.mean(roc_auc_scores)\n",
    "\n",
    "# Calcular os desvios padrão das métricas\n",
    "dp_acuracias = np.std(acuracias)\n",
    "dp_precisoes = np.std(precisoes)\n",
    "dp_recalls = np.std(recalls)\n",
    "dp_f1_scores = np.std(f1_scores)\n",
    "dp_roc_auc_scores = np.std(roc_auc_scores)\n",
    "\n",
    "# Adicionar as médias e desvios padrão às listas de métricas\n",
    "Acurracy.append(media_acuracias)\n",
    "Precision.append(media_precisoes)\n",
    "Recall.append(media_recalls)\n",
    "F1_score.append(media_f1_scores)\n",
    "Roc_auc.append(media_roc_auc_scores)\n",
    "\n",
    "AcurracyDP.append(dp_acuracias)\n",
    "PrecisionDP.append(dp_precisoes)\n",
    "RecallDP.append(dp_recalls)\n",
    "F1_scoreDP.append(dp_f1_scores)\n",
    "Roc_aucDP.append(dp_roc_auc_scores)\n",
    "\n",
    "print(f'Média das Acurácias: {media_acuracias:.5f} ± {dp_acuracias:.5f}')\n",
    "print(f'Média das Precisões: {media_precisoes:.5f} ± {dp_precisoes:.5f}')\n",
    "print(f'Média dos Recalls: {media_recalls:.5f} ± {dp_recalls:.5f}')\n",
    "print(f'Média dos F1-scores: {media_f1_scores:.5f} ± {dp_f1_scores:.5f}')\n",
    "print(f'Média dos ROC AUC: {media_roc_auc_scores:.5f} ± {dp_roc_auc_scores:.5f}')"
   ]
  },
  {
   "cell_type": "code",
   "execution_count": 11,
   "metadata": {},
   "outputs": [
    {
     "data": {
      "text/html": [
       "<style type=\"text/css\">\n",
       "#T_9ac66_row0_col0, #T_9ac66_row0_col2, #T_9ac66_row1_col0, #T_9ac66_row1_col1, #T_9ac66_row1_col2, #T_9ac66_row1_col3, #T_9ac66_row1_col4, #T_9ac66_row1_col5, #T_9ac66_row2_col0, #T_9ac66_row2_col1, #T_9ac66_row2_col3, #T_9ac66_row2_col4, #T_9ac66_row2_col5, #T_9ac66_row3_col0, #T_9ac66_row3_col1, #T_9ac66_row3_col2, #T_9ac66_row3_col3, #T_9ac66_row3_col4, #T_9ac66_row3_col5 {\n",
       "  color: white;\n",
       "}\n",
       "#T_9ac66_row0_col1, #T_9ac66_row0_col3, #T_9ac66_row0_col4, #T_9ac66_row0_col5, #T_9ac66_row2_col2 {\n",
       "  background-color: green;\n",
       "  color: white;\n",
       "}\n",
       "</style>\n",
       "<table id=\"T_9ac66\">\n",
       "  <thead>\n",
       "    <tr>\n",
       "      <th class=\"blank level0\" >&nbsp;</th>\n",
       "      <th id=\"T_9ac66_level0_col0\" class=\"col_heading level0 col0\" >Modelos</th>\n",
       "      <th id=\"T_9ac66_level0_col1\" class=\"col_heading level0 col1\" >Acuracia (DREBIN)</th>\n",
       "      <th id=\"T_9ac66_level0_col2\" class=\"col_heading level0 col2\" >Precisão (DREBIN)</th>\n",
       "      <th id=\"T_9ac66_level0_col3\" class=\"col_heading level0 col3\" >Recall (DREBIN)</th>\n",
       "      <th id=\"T_9ac66_level0_col4\" class=\"col_heading level0 col4\" >F1 Score</th>\n",
       "      <th id=\"T_9ac66_level0_col5\" class=\"col_heading level0 col5\" >AUC RoC</th>\n",
       "    </tr>\n",
       "  </thead>\n",
       "  <tbody>\n",
       "    <tr>\n",
       "      <th id=\"T_9ac66_level0_row0\" class=\"row_heading level0 row0\" >0</th>\n",
       "      <td id=\"T_9ac66_row0_col0\" class=\"data row0 col0\" >Decision Tree</td>\n",
       "      <td id=\"T_9ac66_row0_col1\" class=\"data row0 col1\" >0.9817 ± 0.0007</td>\n",
       "      <td id=\"T_9ac66_row0_col2\" class=\"data row0 col2\" >0.7713 ± 0.0106</td>\n",
       "      <td id=\"T_9ac66_row0_col3\" class=\"data row0 col3\" >0.8194 ± 0.0128</td>\n",
       "      <td id=\"T_9ac66_row0_col4\" class=\"data row0 col4\" >0.7945 ± 0.0077</td>\n",
       "      <td id=\"T_9ac66_row0_col5\" class=\"data row0 col5\" >0.9042 ± 0.0063</td>\n",
       "    </tr>\n",
       "    <tr>\n",
       "      <th id=\"T_9ac66_level0_row1\" class=\"row_heading level0 row1\" >1</th>\n",
       "      <td id=\"T_9ac66_row1_col0\" class=\"data row1 col0\" >Naive Bayes</td>\n",
       "      <td id=\"T_9ac66_row1_col1\" class=\"data row1 col1\" >0.9569 ± 0.0000</td>\n",
       "      <td id=\"T_9ac66_row1_col2\" class=\"data row1 col2\" >0.0000 ± 0.0000</td>\n",
       "      <td id=\"T_9ac66_row1_col3\" class=\"data row1 col3\" >0.0000 ± 0.0000</td>\n",
       "      <td id=\"T_9ac66_row1_col4\" class=\"data row1 col4\" >0.0000 ± 0.0000</td>\n",
       "      <td id=\"T_9ac66_row1_col5\" class=\"data row1 col5\" >0.5000 ± 0.0000</td>\n",
       "    </tr>\n",
       "    <tr>\n",
       "      <th id=\"T_9ac66_level0_row2\" class=\"row_heading level0 row2\" >2</th>\n",
       "      <td id=\"T_9ac66_row2_col0\" class=\"data row2 col0\" >MLP</td>\n",
       "      <td id=\"T_9ac66_row2_col1\" class=\"data row2 col1\" >0.9769 ± 0.0011</td>\n",
       "      <td id=\"T_9ac66_row2_col2\" class=\"data row2 col2\" >0.8174 ± 0.0327</td>\n",
       "      <td id=\"T_9ac66_row2_col3\" class=\"data row2 col3\" >0.6016 ± 0.0282</td>\n",
       "      <td id=\"T_9ac66_row2_col4\" class=\"data row2 col4\" >0.6920 ± 0.0149</td>\n",
       "      <td id=\"T_9ac66_row2_col5\" class=\"data row2 col5\" >0.7977 ± 0.0136</td>\n",
       "    </tr>\n",
       "    <tr>\n",
       "      <th id=\"T_9ac66_level0_row3\" class=\"row_heading level0 row3\" >3</th>\n",
       "      <td id=\"T_9ac66_row3_col0\" class=\"data row3 col0\" >KNN</td>\n",
       "      <td id=\"T_9ac66_row3_col1\" class=\"data row3 col1\" >0.9814 ± 0.0007</td>\n",
       "      <td id=\"T_9ac66_row3_col2\" class=\"data row3 col2\" >0.8136 ± 0.0114</td>\n",
       "      <td id=\"T_9ac66_row3_col3\" class=\"data row3 col3\" >0.7383 ± 0.0134</td>\n",
       "      <td id=\"T_9ac66_row3_col4\" class=\"data row3 col4\" >0.7740 ± 0.0089</td>\n",
       "      <td id=\"T_9ac66_row3_col5\" class=\"data row3 col5\" >0.8653 ± 0.0066</td>\n",
       "    </tr>\n",
       "  </tbody>\n",
       "</table>\n"
      ],
      "text/plain": [
       "<pandas.io.formats.style.Styler at 0x19512edc990>"
      ]
     },
     "execution_count": 11,
     "metadata": {},
     "output_type": "execute_result"
    }
   ],
   "source": [
    "import pandas as pd\n",
    "\n",
    "# Definir os modelos\n",
    "Modelos = ['Decision Tree', 'Naive Bayes', 'MLP', 'KNN']\n",
    "\n",
    "# Criar um DataFrame do Pandas com os valores das variáveis\n",
    "df = pd.DataFrame({\n",
    "    'Modelos': Modelos,\n",
    "    'Acuracia (DREBIN)': [f\"{media:.4f} ± {dp:.4f}\" for media, dp in zip(Acurracy, AcurracyDP)],\n",
    "    'Precisão (DREBIN)': [f\"{media:.4f} ± {dp:.4f}\" for media, dp in zip(Precision, PrecisionDP)],\n",
    "    'Recall (DREBIN)': [f\"{media:.4f} ± {dp:.4f}\" for media, dp in zip(Recall, RecallDP)],\n",
    "    'F1 Score': [f\"{media:.4f} ± {dp:.4f}\" for media, dp in zip(F1_score, F1_scoreDP)],\n",
    "    'AUC RoC': [f\"{media:.4f} ± {dp:.4f}\" for media, dp in zip(Roc_auc, Roc_aucDP)]\n",
    "})\n",
    "\n",
    "# Função para destacar o maior valor de cada coluna\n",
    "def highlight_max(s):\n",
    "    is_max = s == s.max()\n",
    "    return ['background-color: green' if v else '' for v in is_max]\n",
    "\n",
    "# Aplicar a função de destaque apenas para as colunas numéricas\n",
    "numeric_columns = df.columns[1:]\n",
    "styled_df = df.style.apply(highlight_max, subset=numeric_columns)\n",
    "\n",
    "# Definir a cor do texto para a tabela\n",
    "styled_df.set_properties(**{'color': 'white'}, subset=pd.IndexSlice[:, :])\n",
    "\n",
    "# Exibir o DataFrame estilizado no Jupyter Notebook\n",
    "styled_df\n"
   ]
  },
  {
   "cell_type": "markdown",
   "metadata": {},
   "source": [
    "### Bagging"
   ]
  },
  {
   "cell_type": "code",
   "execution_count": 12,
   "metadata": {},
   "outputs": [
    {
     "name": "stdout",
     "output_type": "stream",
     "text": [
      "Acurácia do modelo Bagging com Decision Tree: 0.9890710382513661\n",
      "Precisão do modelo Bagging com Decision Tree: 0.9036964980544747\n",
      "Recall do modelo Bagging com Decision Tree: 0.835431654676259\n",
      "F1-score do modelo Bagging com Decision Tree: 0.8682242990654205\n",
      "AUC ROC do modelo Bagging com Decision Tree: 0.915711048268833\n",
      "Matriz de confusão do modelo Bagging com Decision Tree:\n",
      "[[24592    99]\n",
      " [  183   929]]\n"
     ]
    }
   ],
   "source": [
    "# Definir o classificador Decision Tree\n",
    "modelo_arvore = DecisionTreeClassifier(criterion='gini')\n",
    "\n",
    "# Definir o classificador de Bagging com Decision Tree como base\n",
    "bagging_clf = BaggingClassifier(estimator = modelo_arvore, n_estimators=30)\n",
    "\n",
    "# Treinar o modelo Bagging\n",
    "bagging_clf.fit(x_train, y_train)\n",
    "\n",
    "# Prever usando o modelo Bagging\n",
    "y_pred = bagging_clf.predict(x_test)\n",
    "\n",
    "# Avaliar a precisão do modelo\n",
    "accuracy_bagging = accuracy_score(y_test, y_pred)\n",
    "precision_bagging = precision_score(y_test, y_pred)\n",
    "recall_bagging = recall_score(y_test, y_pred)\n",
    "f1_score_bagging = f1_score(y_test, y_pred)\n",
    "auc_roc_bagging = roc_auc_score(y_test, y_pred)\n",
    "\n",
    "\n",
    "print(\"Acurácia do modelo Bagging com Decision Tree:\", accuracy_bagging)\n",
    "print(\"Precisão do modelo Bagging com Decision Tree:\", precision_bagging)\n",
    "print(\"Recall do modelo Bagging com Decision Tree:\", recall_bagging)\n",
    "print(\"F1-score do modelo Bagging com Decision Tree:\", f1_score_bagging)\n",
    "print(\"AUC ROC do modelo Bagging com Decision Tree:\", auc_roc_bagging)\n",
    "\n",
    "# Matriz de confusão\n",
    "conf_matrix_bagging = confusion_matrix(y_test, y_pred)\n",
    "print(\"Matriz de confusão do modelo Bagging com Decision Tree:\")\n",
    "print(conf_matrix_bagging)\n",
    "\n",
    "# Adicione a acurácia à lista de acurácias do Bagging\n",
    "AcurracyBagging.append(accuracy_bagging)\n",
    "PrecisionBagging.append(precision_bagging)\n",
    "RecallBagging.append(recall_bagging)\n",
    "F1Bagging.append(f1_score_bagging)\n",
    "Roc_aucBagging.append(auc_roc_bagging)\n",
    "\n"
   ]
  },
  {
   "cell_type": "code",
   "execution_count": 13,
   "metadata": {},
   "outputs": [
    {
     "name": "stdout",
     "output_type": "stream",
     "text": [
      "Acurácia do modelo Bagging com Naive Bayes: 0.9569042359415572\n",
      "Precisão do modelo Bagging com Naive Bayes: 0.0\n",
      "Recall do modelo Bagging com Naive Bayes: 0.0\n",
      "F1-score do modelo Bagging com Naive Bayes: 0.0\n",
      "AUC ROC do modelo Bagging com Naive Bayes: 0.5\n",
      "Matriz de confusão do modelo Bagging com Naive Bayes:\n",
      "[[24691     0]\n",
      " [ 1112     0]]\n"
     ]
    },
    {
     "name": "stderr",
     "output_type": "stream",
     "text": [
      "c:\\Users\\josev\\anaconda3\\Lib\\site-packages\\sklearn\\metrics\\_classification.py:1509: UndefinedMetricWarning: Precision is ill-defined and being set to 0.0 due to no predicted samples. Use `zero_division` parameter to control this behavior.\n",
      "  _warn_prf(average, modifier, f\"{metric.capitalize()} is\", len(result))\n"
     ]
    }
   ],
   "source": [
    "# Inicializar o modelo de Naive Bayes com distribuição de Bernoulli\n",
    "modelo_naive_bayes = BernoulliNB()\n",
    "\n",
    "# Definir o classificador de Bagging com Naive Bayes como base\n",
    "bagging_clf = BaggingClassifier(estimator=modelo_naive_bayes, n_estimators=30)\n",
    "\n",
    "# Treinar o modelo Bagging\n",
    "bagging_clf.fit(x_train, y_train)\n",
    "\n",
    "# Prever usando o modelo Bagging\n",
    "y_pred = bagging_clf.predict(x_test)\n",
    "\n",
    "# Avaliar a precisão do modelo\n",
    "accuracy_bagging = accuracy_score(y_test, y_pred)\n",
    "precision_bagging = precision_score(y_test, y_pred)\n",
    "recall_bagging = recall_score(y_test, y_pred)\n",
    "f1_score_bagging = f1_score(y_test, y_pred)\n",
    "auc_roc_bagging = roc_auc_score(y_test, y_pred)\n",
    "\n",
    "\n",
    "print(\"Acurácia do modelo Bagging com Naive Bayes:\", accuracy_bagging)\n",
    "print(\"Precisão do modelo Bagging com Naive Bayes:\", precision_bagging)\n",
    "print(\"Recall do modelo Bagging com Naive Bayes:\", recall_bagging)\n",
    "print(\"F1-score do modelo Bagging com Naive Bayes:\", f1_score_bagging)\n",
    "print(\"AUC ROC do modelo Bagging com Naive Bayes:\", auc_roc_bagging)\n",
    "\n",
    "# Matriz de confusão\n",
    "conf_matrix_bagging = confusion_matrix(y_test, y_pred)\n",
    "print(\"Matriz de confusão do modelo Bagging com Naive Bayes:\")\n",
    "print(conf_matrix_bagging)\n",
    "\n",
    "# Adicione a acurácia à lista de acurácias do Bagging\n",
    "AcurracyBagging.append(accuracy_bagging)\n",
    "PrecisionBagging.append(precision_bagging)\n",
    "RecallBagging.append(recall_bagging)\n",
    "F1Bagging.append(f1_score_bagging)\n",
    "Roc_aucBagging.append(auc_roc_bagging)"
   ]
  },
  {
   "cell_type": "code",
   "execution_count": 14,
   "metadata": {},
   "outputs": [
    {
     "name": "stdout",
     "output_type": "stream",
     "text": [
      "Acurácia do modelo Bagging com MLP: 0.9795372631089408\n",
      "Precisão do modelo Bagging com MLP: 0.8526570048309179\n",
      "Recall do modelo Bagging com MLP: 0.6348920863309353\n",
      "F1-score do modelo Bagging com MLP: 0.7278350515463917\n",
      "AUC ROC do modelo Bagging com MLP: 0.8149755073426983\n",
      "Matriz de confusão do modelo Bagging com MLP:\n",
      "[[24569   122]\n",
      " [  406   706]]\n"
     ]
    }
   ],
   "source": [
    "# Definir o classificador base (MLP)\n",
    "modelo_mlp = MLPClassifier(hidden_layer_sizes=(100), max_iter=1000)\n",
    "\n",
    "# Definir o classificador de Bagging com MLP como base\n",
    "bagging_clf = BaggingClassifier(estimator=modelo_mlp, n_estimators=30)\n",
    "\n",
    "# Treinar o modelo Bagging\n",
    "bagging_clf.fit(x_train, y_train)\n",
    "\n",
    "# Prever usando o modelo Bagging\n",
    "y_pred = bagging_clf.predict(x_test)\n",
    "\n",
    "# Avaliar a precisão do modelo\n",
    "accuracy_bagging = accuracy_score(y_test, y_pred)\n",
    "precision_bagging = precision_score(y_test, y_pred)\n",
    "recall_bagging = recall_score(y_test, y_pred)\n",
    "f1_score_bagging = f1_score(y_test, y_pred)\n",
    "auc_roc_bagging = roc_auc_score(y_test, y_pred)\n",
    "\n",
    "\n",
    "print(\"Acurácia do modelo Bagging com MLP:\", accuracy_bagging)\n",
    "print(\"Precisão do modelo Bagging com MLP:\", precision_bagging)\n",
    "print(\"Recall do modelo Bagging com MLP:\", recall_bagging)\n",
    "print(\"F1-score do modelo Bagging com MLP:\", f1_score_bagging)\n",
    "print(\"AUC ROC do modelo Bagging com MLP:\", auc_roc_bagging)\n",
    "\n",
    "# Matriz de confusão\n",
    "conf_matrix_bagging = confusion_matrix(y_test, y_pred)\n",
    "print(\"Matriz de confusão do modelo Bagging com MLP:\")\n",
    "print(conf_matrix_bagging)\n",
    "\n",
    "# Adicione a acurácia à lista de acurácias do Bagging\n",
    "AcurracyBagging.append(accuracy_bagging)\n",
    "PrecisionBagging.append(precision_bagging)\n",
    "RecallBagging.append(recall_bagging)\n",
    "F1Bagging.append(f1_score_bagging)\n",
    "Roc_aucBagging.append(auc_roc_bagging)"
   ]
  },
  {
   "cell_type": "code",
   "execution_count": 15,
   "metadata": {},
   "outputs": [
    {
     "name": "stdout",
     "output_type": "stream",
     "text": [
      "Acurácia do modelo Bagging com KNN: 0.9822888811378522\n",
      "Precisão do modelo Bagging com KNN: 0.8182701652089407\n",
      "Recall do modelo Bagging com KNN: 0.7571942446043165\n",
      "F1-score do modelo Bagging com KNN: 0.7865483418963102\n",
      "AUC ROC do modelo Bagging com KNN: 0.874810317393487\n",
      "Matriz de confusão do modelo Bagging com KNN:\n",
      "[[24504   187]\n",
      " [  270   842]]\n"
     ]
    }
   ],
   "source": [
    "#inicializar o modelo KNN\n",
    "modelo_knn = KNeighborsClassifier(n_neighbors=7)  # Escolha o número de vizinhos desejado\n",
    "\n",
    "# Definir o classificador de Bagging com KNN como base\n",
    "bagging_clf = BaggingClassifier(estimator=modelo_knn, n_estimators=30)\n",
    "\n",
    "# Treinar o modelo Bagging\n",
    "bagging_clf.fit(x_train, y_train)\n",
    "\n",
    "# Prever usando o modelo Bagging\n",
    "y_pred = bagging_clf.predict(x_test)\n",
    "\n",
    "# Avaliar a precisão do modelo\n",
    "accuracy_bagging = accuracy_score(y_test, y_pred)\n",
    "precision_bagging = precision_score(y_test, y_pred)\n",
    "recall_bagging = recall_score(y_test, y_pred)\n",
    "f1_score_bagging = f1_score(y_test, y_pred)\n",
    "auc_roc_bagging = roc_auc_score(y_test, y_pred)\n",
    "\n",
    "\n",
    "print(\"Acurácia do modelo Bagging com KNN:\", accuracy_bagging)\n",
    "print(\"Precisão do modelo Bagging com KNN:\", precision_bagging)\n",
    "print(\"Recall do modelo Bagging com KNN:\", recall_bagging)\n",
    "print(\"F1-score do modelo Bagging com KNN:\", f1_score_bagging)\n",
    "print(\"AUC ROC do modelo Bagging com KNN:\", auc_roc_bagging)\n",
    "\n",
    "# Matriz de confusão\n",
    "conf_matrix_bagging = confusion_matrix(y_test, y_pred)\n",
    "print(\"Matriz de confusão do modelo Bagging com KNN:\")\n",
    "print(conf_matrix_bagging)\n",
    "\n",
    "# Adicione a acurácia à lista de acurácias do Bagging\n",
    "AcurracyBagging.append(accuracy_bagging)\n",
    "PrecisionBagging.append(precision_bagging)\n",
    "RecallBagging.append(recall_bagging)\n",
    "F1Bagging.append(f1_score_bagging)\n",
    "Roc_aucBagging.append(auc_roc_bagging)"
   ]
  },
  {
   "cell_type": "code",
   "execution_count": 16,
   "metadata": {},
   "outputs": [
    {
     "name": "stdout",
     "output_type": "stream",
     "text": [
      "╒════╤═══════════════════╤═════════════════════╤═════════════════════╤═══════════════════╤════════════╤═══════════╕\n",
      "│    │ Modelos Bagging   │   Acuracia (DREBIN) │   Precisão (DREBIN) │   Recall (DREBIN) │   F1 Score │   AUC ROC │\n",
      "╞════╪═══════════════════╪═════════════════════╪═════════════════════╪═══════════════════╪════════════╪═══════════╡\n",
      "│  0 │ Decision Tree     │              0.9891 │              0.9037 │            0.8354 │     0.8682 │    0.9157 │\n",
      "├────┼───────────────────┼─────────────────────┼─────────────────────┼───────────────────┼────────────┼───────────┤\n",
      "│  1 │ Naive Bayes       │              0.9569 │              0.0000 │            0.0000 │     0.0000 │    0.5000 │\n",
      "├────┼───────────────────┼─────────────────────┼─────────────────────┼───────────────────┼────────────┼───────────┤\n",
      "│  2 │ MLP               │              0.9795 │              0.8527 │            0.6349 │     0.7278 │    0.8150 │\n",
      "├────┼───────────────────┼─────────────────────┼─────────────────────┼───────────────────┼────────────┼───────────┤\n",
      "│  3 │ KNN               │              0.9823 │              0.8183 │            0.7572 │     0.7865 │    0.8748 │\n",
      "╘════╧═══════════════════╧═════════════════════╧═════════════════════╧═══════════════════╧════════════╧═══════════╛\n"
     ]
    }
   ],
   "source": [
    "Modelos = ['Decision Tree', 'Naive Bayes', 'MLP', 'KNN']\n",
    "# Criar um DataFrame do Pandas com os valores das variáveis\n",
    "dfB = pd.DataFrame({'Modelos Bagging': Modelos, 'Acuracia (DREBIN)': AcurracyBagging,\n",
    "                    'Precisão (DREBIN)': PrecisionBagging, 'Recall (DREBIN)':RecallBagging, \n",
    "                    'F1 Score': F1Bagging, 'AUC ROC': Roc_aucBagging})\n",
    "\n",
    "print(tabulate(dfB, headers='keys', tablefmt='fancy_grid', floatfmt=\".4f\"))"
   ]
  },
  {
   "cell_type": "markdown",
   "metadata": {},
   "source": [
    "### Balanceamento de dados"
   ]
  },
  {
   "cell_type": "code",
   "execution_count": 17,
   "metadata": {},
   "outputs": [
    {
     "name": "stdout",
     "output_type": "stream",
     "text": [
      "(197524, 8) (197524,)\n",
      "(49382, 8) (49382,)\n"
     ]
    }
   ],
   "source": [
    "smote = SMOTE(sampling_strategy='auto', random_state=42)\n",
    "X_resampled, y_resampled = smote.fit_resample(x_all, y_all)\n",
    "\n",
    "x_train, x_test, y_train, y_test = train_test_split(X_resampled, y_resampled, test_size=0.2, stratify=y_resampled)\n",
    "print(x_train.shape, y_train.shape)\n",
    "print(x_test.shape, y_test.shape)"
   ]
  },
  {
   "cell_type": "code",
   "execution_count": 18,
   "metadata": {},
   "outputs": [
    {
     "name": "stdout",
     "output_type": "stream",
     "text": [
      "Proporção das classes no conjunto original:\n",
      "Classe 0: 0.96\n",
      "Classe 1: 0.04\n",
      "Proporção das classes no conjunto resampleado:\n",
      "Classe 0: 0.50\n",
      "Classe 1: 0.50\n"
     ]
    }
   ],
   "source": [
    "# Calcular proporção das classes em y_all\n",
    "unique_classes, class_counts = np.unique(y_all, return_counts=True)\n",
    "proporcao_classes_resampled = class_counts / len(y_all)\n",
    "\n",
    "print(\"Proporção das classes no conjunto original:\")\n",
    "for classe, proporcao in zip(unique_classes, proporcao_classes_resampled):\n",
    "    print(f\"Classe {classe}: {proporcao:.2f}\")\n",
    "\n",
    "# Calcular proporção das classes em y_resampled\n",
    "unique_classes, class_counts = np.unique(y_resampled, return_counts=True)\n",
    "proporcao_classes_resampled = class_counts / len(y_resampled)\n",
    "\n",
    "print(\"Proporção das classes no conjunto resampleado:\")\n",
    "for classe, proporcao in zip(unique_classes, proporcao_classes_resampled):\n",
    "    print(f\"Classe {classe}: {proporcao:.2f}\")"
   ]
  },
  {
   "cell_type": "markdown",
   "metadata": {},
   "source": [
    "### Modelos Base após o Balanceamento"
   ]
  },
  {
   "cell_type": "code",
   "execution_count": 19,
   "metadata": {},
   "outputs": [
    {
     "name": "stderr",
     "output_type": "stream",
     "text": [
      "  3%|▎         | 1/30 [00:00<00:15,  1.88it/s]"
     ]
    },
    {
     "name": "stdout",
     "output_type": "stream",
     "text": [
      "Repetição 1 - Acurácia: 0.98, Precisão: 0.97, Recall: 0.99, F1-score: 0.98, ROC AUC: 0.98\n"
     ]
    },
    {
     "name": "stderr",
     "output_type": "stream",
     "text": [
      "  7%|▋         | 2/30 [00:01<00:14,  1.88it/s]"
     ]
    },
    {
     "name": "stdout",
     "output_type": "stream",
     "text": [
      "Repetição 2 - Acurácia: 0.98, Precisão: 0.97, Recall: 0.99, F1-score: 0.98, ROC AUC: 0.98\n"
     ]
    },
    {
     "name": "stderr",
     "output_type": "stream",
     "text": [
      " 10%|█         | 3/30 [00:01<00:14,  1.88it/s]"
     ]
    },
    {
     "name": "stdout",
     "output_type": "stream",
     "text": [
      "Repetição 3 - Acurácia: 0.98, Precisão: 0.97, Recall: 0.99, F1-score: 0.98, ROC AUC: 0.98\n"
     ]
    },
    {
     "name": "stderr",
     "output_type": "stream",
     "text": [
      " 13%|█▎        | 4/30 [00:02<00:13,  1.87it/s]"
     ]
    },
    {
     "name": "stdout",
     "output_type": "stream",
     "text": [
      "Repetição 4 - Acurácia: 0.98, Precisão: 0.97, Recall: 0.99, F1-score: 0.98, ROC AUC: 0.98\n"
     ]
    },
    {
     "name": "stderr",
     "output_type": "stream",
     "text": [
      " 17%|█▋        | 5/30 [00:02<00:13,  1.84it/s]"
     ]
    },
    {
     "name": "stdout",
     "output_type": "stream",
     "text": [
      "Repetição 5 - Acurácia: 0.98, Precisão: 0.97, Recall: 0.99, F1-score: 0.98, ROC AUC: 0.98\n"
     ]
    },
    {
     "name": "stderr",
     "output_type": "stream",
     "text": [
      " 20%|██        | 6/30 [00:03<00:12,  1.86it/s]"
     ]
    },
    {
     "name": "stdout",
     "output_type": "stream",
     "text": [
      "Repetição 6 - Acurácia: 0.98, Precisão: 0.98, Recall: 0.99, F1-score: 0.98, ROC AUC: 0.98\n"
     ]
    },
    {
     "name": "stderr",
     "output_type": "stream",
     "text": [
      " 23%|██▎       | 7/30 [00:03<00:12,  1.87it/s]"
     ]
    },
    {
     "name": "stdout",
     "output_type": "stream",
     "text": [
      "Repetição 7 - Acurácia: 0.98, Precisão: 0.97, Recall: 0.99, F1-score: 0.98, ROC AUC: 0.98\n"
     ]
    },
    {
     "name": "stderr",
     "output_type": "stream",
     "text": [
      " 27%|██▋       | 8/30 [00:04<00:11,  1.88it/s]"
     ]
    },
    {
     "name": "stdout",
     "output_type": "stream",
     "text": [
      "Repetição 8 - Acurácia: 0.98, Precisão: 0.97, Recall: 0.99, F1-score: 0.98, ROC AUC: 0.98\n"
     ]
    },
    {
     "name": "stderr",
     "output_type": "stream",
     "text": [
      " 30%|███       | 9/30 [00:04<00:11,  1.89it/s]"
     ]
    },
    {
     "name": "stdout",
     "output_type": "stream",
     "text": [
      "Repetição 9 - Acurácia: 0.98, Precisão: 0.97, Recall: 0.99, F1-score: 0.98, ROC AUC: 0.98\n"
     ]
    },
    {
     "name": "stderr",
     "output_type": "stream",
     "text": [
      " 33%|███▎      | 10/30 [00:05<00:10,  1.89it/s]"
     ]
    },
    {
     "name": "stdout",
     "output_type": "stream",
     "text": [
      "Repetição 10 - Acurácia: 0.98, Precisão: 0.97, Recall: 0.99, F1-score: 0.98, ROC AUC: 0.98\n"
     ]
    },
    {
     "name": "stderr",
     "output_type": "stream",
     "text": [
      " 37%|███▋      | 11/30 [00:05<00:10,  1.90it/s]"
     ]
    },
    {
     "name": "stdout",
     "output_type": "stream",
     "text": [
      "Repetição 11 - Acurácia: 0.98, Precisão: 0.97, Recall: 0.99, F1-score: 0.98, ROC AUC: 0.98\n"
     ]
    },
    {
     "name": "stderr",
     "output_type": "stream",
     "text": [
      " 40%|████      | 12/30 [00:06<00:09,  1.88it/s]"
     ]
    },
    {
     "name": "stdout",
     "output_type": "stream",
     "text": [
      "Repetição 12 - Acurácia: 0.98, Precisão: 0.97, Recall: 0.99, F1-score: 0.98, ROC AUC: 0.98\n"
     ]
    },
    {
     "name": "stderr",
     "output_type": "stream",
     "text": [
      " 43%|████▎     | 13/30 [00:06<00:09,  1.89it/s]"
     ]
    },
    {
     "name": "stdout",
     "output_type": "stream",
     "text": [
      "Repetição 13 - Acurácia: 0.98, Precisão: 0.97, Recall: 0.99, F1-score: 0.98, ROC AUC: 0.98\n"
     ]
    },
    {
     "name": "stderr",
     "output_type": "stream",
     "text": [
      " 47%|████▋     | 14/30 [00:07<00:08,  1.89it/s]"
     ]
    },
    {
     "name": "stdout",
     "output_type": "stream",
     "text": [
      "Repetição 14 - Acurácia: 0.98, Precisão: 0.97, Recall: 0.99, F1-score: 0.98, ROC AUC: 0.98\n"
     ]
    },
    {
     "name": "stderr",
     "output_type": "stream",
     "text": [
      " 50%|█████     | 15/30 [00:07<00:07,  1.90it/s]"
     ]
    },
    {
     "name": "stdout",
     "output_type": "stream",
     "text": [
      "Repetição 15 - Acurácia: 0.98, Precisão: 0.97, Recall: 0.99, F1-score: 0.98, ROC AUC: 0.98\n"
     ]
    },
    {
     "name": "stderr",
     "output_type": "stream",
     "text": [
      " 53%|█████▎    | 16/30 [00:08<00:07,  1.89it/s]"
     ]
    },
    {
     "name": "stdout",
     "output_type": "stream",
     "text": [
      "Repetição 16 - Acurácia: 0.98, Precisão: 0.97, Recall: 0.99, F1-score: 0.98, ROC AUC: 0.98\n"
     ]
    },
    {
     "name": "stderr",
     "output_type": "stream",
     "text": [
      " 57%|█████▋    | 17/30 [00:09<00:06,  1.89it/s]"
     ]
    },
    {
     "name": "stdout",
     "output_type": "stream",
     "text": [
      "Repetição 17 - Acurácia: 0.98, Precisão: 0.98, Recall: 0.99, F1-score: 0.98, ROC AUC: 0.98\n"
     ]
    },
    {
     "name": "stderr",
     "output_type": "stream",
     "text": [
      " 60%|██████    | 18/30 [00:09<00:06,  1.88it/s]"
     ]
    },
    {
     "name": "stdout",
     "output_type": "stream",
     "text": [
      "Repetição 18 - Acurácia: 0.98, Precisão: 0.98, Recall: 0.99, F1-score: 0.98, ROC AUC: 0.98\n"
     ]
    },
    {
     "name": "stderr",
     "output_type": "stream",
     "text": [
      " 63%|██████▎   | 19/30 [00:10<00:05,  1.89it/s]"
     ]
    },
    {
     "name": "stdout",
     "output_type": "stream",
     "text": [
      "Repetição 19 - Acurácia: 0.98, Precisão: 0.97, Recall: 0.99, F1-score: 0.98, ROC AUC: 0.98\n"
     ]
    },
    {
     "name": "stderr",
     "output_type": "stream",
     "text": [
      " 67%|██████▋   | 20/30 [00:10<00:05,  1.90it/s]"
     ]
    },
    {
     "name": "stdout",
     "output_type": "stream",
     "text": [
      "Repetição 20 - Acurácia: 0.98, Precisão: 0.97, Recall: 0.99, F1-score: 0.98, ROC AUC: 0.98\n"
     ]
    },
    {
     "name": "stderr",
     "output_type": "stream",
     "text": [
      " 70%|███████   | 21/30 [00:11<00:04,  1.91it/s]"
     ]
    },
    {
     "name": "stdout",
     "output_type": "stream",
     "text": [
      "Repetição 21 - Acurácia: 0.98, Precisão: 0.97, Recall: 0.99, F1-score: 0.98, ROC AUC: 0.98\n"
     ]
    },
    {
     "name": "stderr",
     "output_type": "stream",
     "text": [
      " 73%|███████▎  | 22/30 [00:11<00:04,  1.91it/s]"
     ]
    },
    {
     "name": "stdout",
     "output_type": "stream",
     "text": [
      "Repetição 22 - Acurácia: 0.98, Precisão: 0.97, Recall: 0.99, F1-score: 0.98, ROC AUC: 0.98\n"
     ]
    },
    {
     "name": "stderr",
     "output_type": "stream",
     "text": [
      " 77%|███████▋  | 23/30 [00:12<00:03,  1.91it/s]"
     ]
    },
    {
     "name": "stdout",
     "output_type": "stream",
     "text": [
      "Repetição 23 - Acurácia: 0.98, Precisão: 0.97, Recall: 0.99, F1-score: 0.98, ROC AUC: 0.98\n"
     ]
    },
    {
     "name": "stderr",
     "output_type": "stream",
     "text": [
      " 80%|████████  | 24/30 [00:12<00:03,  1.92it/s]"
     ]
    },
    {
     "name": "stdout",
     "output_type": "stream",
     "text": [
      "Repetição 24 - Acurácia: 0.98, Precisão: 0.97, Recall: 0.99, F1-score: 0.98, ROC AUC: 0.98\n"
     ]
    },
    {
     "name": "stderr",
     "output_type": "stream",
     "text": [
      " 83%|████████▎ | 25/30 [00:13<00:02,  1.93it/s]"
     ]
    },
    {
     "name": "stdout",
     "output_type": "stream",
     "text": [
      "Repetição 25 - Acurácia: 0.98, Precisão: 0.97, Recall: 0.99, F1-score: 0.98, ROC AUC: 0.98\n"
     ]
    },
    {
     "name": "stderr",
     "output_type": "stream",
     "text": [
      " 87%|████████▋ | 26/30 [00:13<00:02,  1.92it/s]"
     ]
    },
    {
     "name": "stdout",
     "output_type": "stream",
     "text": [
      "Repetição 26 - Acurácia: 0.98, Precisão: 0.97, Recall: 0.99, F1-score: 0.98, ROC AUC: 0.98\n"
     ]
    },
    {
     "name": "stderr",
     "output_type": "stream",
     "text": [
      " 90%|█████████ | 27/30 [00:14<00:01,  1.92it/s]"
     ]
    },
    {
     "name": "stdout",
     "output_type": "stream",
     "text": [
      "Repetição 27 - Acurácia: 0.98, Precisão: 0.97, Recall: 0.99, F1-score: 0.98, ROC AUC: 0.98\n"
     ]
    },
    {
     "name": "stderr",
     "output_type": "stream",
     "text": [
      " 93%|█████████▎| 28/30 [00:14<00:01,  1.93it/s]"
     ]
    },
    {
     "name": "stdout",
     "output_type": "stream",
     "text": [
      "Repetição 28 - Acurácia: 0.98, Precisão: 0.97, Recall: 0.99, F1-score: 0.98, ROC AUC: 0.98\n"
     ]
    },
    {
     "name": "stderr",
     "output_type": "stream",
     "text": [
      " 97%|█████████▋| 29/30 [00:15<00:00,  1.93it/s]"
     ]
    },
    {
     "name": "stdout",
     "output_type": "stream",
     "text": [
      "Repetição 29 - Acurácia: 0.98, Precisão: 0.97, Recall: 0.99, F1-score: 0.98, ROC AUC: 0.98\n"
     ]
    },
    {
     "name": "stderr",
     "output_type": "stream",
     "text": [
      "100%|██████████| 30/30 [00:15<00:00,  1.90it/s]"
     ]
    },
    {
     "name": "stdout",
     "output_type": "stream",
     "text": [
      "Repetição 30 - Acurácia: 0.98, Precisão: 0.98, Recall: 0.99, F1-score: 0.98, ROC AUC: 0.98\n",
      "Média das Acurácias: 0.98119 ± 0.00064\n",
      "Média das Precisões: 0.97369 ± 0.00089\n",
      "Média dos Recalls: 0.98911 ± 0.00107\n",
      "Média dos F1-scores: 0.98134 ± 0.00064\n",
      "Média dos ROC AUC: 0.98119 ± 0.00064\n"
     ]
    },
    {
     "name": "stderr",
     "output_type": "stream",
     "text": [
      "\n"
     ]
    }
   ],
   "source": [
    "num_repeticoes = 30\n",
    "\n",
    "# Listas para armazenar as métricas\n",
    "acuracias = []\n",
    "precisoes = []\n",
    "recalls = []\n",
    "f1_scores = []\n",
    "roc_auc_scores = []\n",
    "\n",
    "# Loop para repetir o processo\n",
    "for i in tqdm(range(num_repeticoes)):\n",
    "    x_train, x_test, y_train, y_test = train_test_split(X_resampled, y_resampled, test_size=0.2, stratify=y_resampled)\n",
    "    # Inicializar o modelo de árvore de decisão com Gini Impurity e sem limitação de altura\n",
    "    modelo_arvore = DecisionTreeClassifier(criterion='gini')\n",
    "\n",
    "    # Treinar o modelo no conjunto de treino\n",
    "    modelo_arvore.fit(x_train, y_train)\n",
    "\n",
    "    # Fazer previsões no conjunto de teste\n",
    "    previsoes = modelo_arvore.predict(x_test)\n",
    "\n",
    "    # Avaliar as métricas do modelo e armazenar na lista\n",
    "    acuracia = accuracy_score(y_test, previsoes)\n",
    "    precisao = precision_score(y_test, previsoes)\n",
    "    recall = recall_score(y_test, previsoes)\n",
    "    f1 = f1_score(y_test, previsoes)\n",
    "    roc_auc = roc_auc_score(y_test, previsoes)\n",
    "    \n",
    "    acuracias.append(acuracia)\n",
    "    precisoes.append(precisao)\n",
    "    recalls.append(recall)\n",
    "    f1_scores.append(f1)\n",
    "    roc_auc_scores.append(roc_auc)\n",
    "\n",
    "    print(f'Repetição {i+1} - Acurácia: {acuracia:.2f}, Precisão: {precisao:.2f}, Recall: {recall:.2f}, F1-score: {f1:.2f}, ROC AUC: {roc_auc:.2f}')\n",
    "\n",
    "# Calcular as médias das métricas\n",
    "media_acuracias = np.mean(acuracias)\n",
    "media_precisoes = np.mean(precisoes)\n",
    "media_recalls = np.mean(recalls)\n",
    "media_f1_scores = np.mean(f1_scores)\n",
    "media_roc_auc_scores = np.mean(roc_auc_scores)\n",
    "\n",
    "# Calcular os desvios padrão das métricas\n",
    "dp_acuracias = np.std(acuracias)\n",
    "dp_precisoes = np.std(precisoes)\n",
    "dp_recalls = np.std(recalls)\n",
    "dp_f1_scores = np.std(f1_scores)\n",
    "dp_roc_auc_scores = np.std(roc_auc_scores)\n",
    "\n",
    "# Adicionar as médias e desvios padrão às listas de métricas\n",
    "AcurracyPosBal.append(media_acuracias)\n",
    "PrecisionPosBal.append(media_precisoes)\n",
    "RecallPosBal.append(media_recalls)\n",
    "F1_scorePosBal.append(media_f1_scores)\n",
    "Roc_aucPosBal.append(media_roc_auc_scores)\n",
    "\n",
    "AcurracyDPPosBal.append(dp_acuracias)\n",
    "PrecisionDPPosBal.append(dp_precisoes)\n",
    "RecallDPPosBal.append(dp_recalls)\n",
    "F1_scoreDPPosBal.append(dp_f1_scores)\n",
    "Roc_aucDPPosBal.append(dp_roc_auc_scores)\n",
    "\n",
    "print(f'Média das Acurácias: {media_acuracias:.5f} ± {dp_acuracias:.5f}')\n",
    "print(f'Média das Precisões: {media_precisoes:.5f} ± {dp_precisoes:.5f}')\n",
    "print(f'Média dos Recalls: {media_recalls:.5f} ± {dp_recalls:.5f}')\n",
    "print(f'Média dos F1-scores: {media_f1_scores:.5f} ± {dp_f1_scores:.5f}')\n",
    "print(f'Média dos ROC AUC: {media_roc_auc_scores:.5f} ± {dp_roc_auc_scores:.5f}')"
   ]
  },
  {
   "cell_type": "code",
   "execution_count": 20,
   "metadata": {},
   "outputs": [
    {
     "name": "stderr",
     "output_type": "stream",
     "text": [
      "  3%|▎         | 1/30 [00:00<00:04,  7.09it/s]"
     ]
    },
    {
     "name": "stdout",
     "output_type": "stream",
     "text": [
      "Repetição 1 - Acurácia: 0.55, Precisão: 0.53, Recall: 0.93, F1-score: 0.67, ROC AUC: 0.55\n"
     ]
    },
    {
     "name": "stderr",
     "output_type": "stream",
     "text": [
      "  7%|▋         | 2/30 [00:00<00:03,  7.20it/s]"
     ]
    },
    {
     "name": "stdout",
     "output_type": "stream",
     "text": [
      "Repetição 2 - Acurácia: 0.55, Precisão: 0.53, Recall: 0.93, F1-score: 0.67, ROC AUC: 0.55\n"
     ]
    },
    {
     "name": "stderr",
     "output_type": "stream",
     "text": [
      " 10%|█         | 3/30 [00:00<00:03,  7.41it/s]"
     ]
    },
    {
     "name": "stdout",
     "output_type": "stream",
     "text": [
      "Repetição 3 - Acurácia: 0.54, Precisão: 0.52, Recall: 0.92, F1-score: 0.67, ROC AUC: 0.54\n"
     ]
    },
    {
     "name": "stderr",
     "output_type": "stream",
     "text": [
      " 13%|█▎        | 4/30 [00:00<00:03,  7.65it/s]"
     ]
    },
    {
     "name": "stdout",
     "output_type": "stream",
     "text": [
      "Repetição 4 - Acurácia: 0.55, Precisão: 0.53, Recall: 0.93, F1-score: 0.67, ROC AUC: 0.55\n"
     ]
    },
    {
     "name": "stderr",
     "output_type": "stream",
     "text": [
      " 17%|█▋        | 5/30 [00:00<00:03,  7.76it/s]"
     ]
    },
    {
     "name": "stdout",
     "output_type": "stream",
     "text": [
      "Repetição 5 - Acurácia: 0.55, Precisão: 0.53, Recall: 0.93, F1-score: 0.67, ROC AUC: 0.55\n"
     ]
    },
    {
     "name": "stderr",
     "output_type": "stream",
     "text": [
      " 20%|██        | 6/30 [00:00<00:03,  7.37it/s]"
     ]
    },
    {
     "name": "stdout",
     "output_type": "stream",
     "text": [
      "Repetição 6 - Acurácia: 0.55, Precisão: 0.53, Recall: 0.93, F1-score: 0.67, ROC AUC: 0.55\n"
     ]
    },
    {
     "name": "stderr",
     "output_type": "stream",
     "text": [
      " 23%|██▎       | 7/30 [00:00<00:03,  7.53it/s]"
     ]
    },
    {
     "name": "stdout",
     "output_type": "stream",
     "text": [
      "Repetição 7 - Acurácia: 0.54, Precisão: 0.53, Recall: 0.93, F1-score: 0.67, ROC AUC: 0.54\n"
     ]
    },
    {
     "name": "stderr",
     "output_type": "stream",
     "text": [
      " 27%|██▋       | 8/30 [00:01<00:02,  7.40it/s]"
     ]
    },
    {
     "name": "stdout",
     "output_type": "stream",
     "text": [
      "Repetição 8 - Acurácia: 0.54, Precisão: 0.52, Recall: 0.93, F1-score: 0.67, ROC AUC: 0.54\n"
     ]
    },
    {
     "name": "stderr",
     "output_type": "stream",
     "text": [
      " 30%|███       | 9/30 [00:01<00:02,  7.28it/s]"
     ]
    },
    {
     "name": "stdout",
     "output_type": "stream",
     "text": [
      "Repetição 9 - Acurácia: 0.54, Precisão: 0.53, Recall: 0.92, F1-score: 0.67, ROC AUC: 0.54\n"
     ]
    },
    {
     "name": "stderr",
     "output_type": "stream",
     "text": [
      " 33%|███▎      | 10/30 [00:01<00:02,  7.33it/s]"
     ]
    },
    {
     "name": "stdout",
     "output_type": "stream",
     "text": [
      "Repetição 10 - Acurácia: 0.54, Precisão: 0.53, Recall: 0.92, F1-score: 0.67, ROC AUC: 0.54\n"
     ]
    },
    {
     "name": "stderr",
     "output_type": "stream",
     "text": [
      " 37%|███▋      | 11/30 [00:01<00:02,  7.34it/s]"
     ]
    },
    {
     "name": "stdout",
     "output_type": "stream",
     "text": [
      "Repetição 11 - Acurácia: 0.54, Precisão: 0.52, Recall: 0.92, F1-score: 0.67, ROC AUC: 0.54\n"
     ]
    },
    {
     "name": "stderr",
     "output_type": "stream",
     "text": [
      " 40%|████      | 12/30 [00:01<00:02,  7.36it/s]"
     ]
    },
    {
     "name": "stdout",
     "output_type": "stream",
     "text": [
      "Repetição 12 - Acurácia: 0.55, Precisão: 0.53, Recall: 0.93, F1-score: 0.67, ROC AUC: 0.55\n"
     ]
    },
    {
     "name": "stderr",
     "output_type": "stream",
     "text": [
      " 43%|████▎     | 13/30 [00:01<00:02,  7.43it/s]"
     ]
    },
    {
     "name": "stdout",
     "output_type": "stream",
     "text": [
      "Repetição 13 - Acurácia: 0.54, Precisão: 0.53, Recall: 0.93, F1-score: 0.67, ROC AUC: 0.54\n"
     ]
    },
    {
     "name": "stderr",
     "output_type": "stream",
     "text": [
      " 47%|████▋     | 14/30 [00:01<00:02,  7.43it/s]"
     ]
    },
    {
     "name": "stdout",
     "output_type": "stream",
     "text": [
      "Repetição 14 - Acurácia: 0.55, Precisão: 0.53, Recall: 0.92, F1-score: 0.67, ROC AUC: 0.55\n"
     ]
    },
    {
     "name": "stderr",
     "output_type": "stream",
     "text": [
      " 50%|█████     | 15/30 [00:02<00:02,  7.28it/s]"
     ]
    },
    {
     "name": "stdout",
     "output_type": "stream",
     "text": [
      "Repetição 15 - Acurácia: 0.54, Precisão: 0.53, Recall: 0.92, F1-score: 0.67, ROC AUC: 0.54\n"
     ]
    },
    {
     "name": "stderr",
     "output_type": "stream",
     "text": [
      " 53%|█████▎    | 16/30 [00:02<00:01,  7.21it/s]"
     ]
    },
    {
     "name": "stdout",
     "output_type": "stream",
     "text": [
      "Repetição 16 - Acurácia: 0.55, Precisão: 0.53, Recall: 0.92, F1-score: 0.67, ROC AUC: 0.55\n"
     ]
    },
    {
     "name": "stderr",
     "output_type": "stream",
     "text": [
      " 57%|█████▋    | 17/30 [00:02<00:01,  7.11it/s]"
     ]
    },
    {
     "name": "stdout",
     "output_type": "stream",
     "text": [
      "Repetição 17 - Acurácia: 0.54, Precisão: 0.53, Recall: 0.93, F1-score: 0.67, ROC AUC: 0.54\n"
     ]
    },
    {
     "name": "stderr",
     "output_type": "stream",
     "text": [
      " 60%|██████    | 18/30 [00:02<00:01,  7.18it/s]"
     ]
    },
    {
     "name": "stdout",
     "output_type": "stream",
     "text": [
      "Repetição 18 - Acurácia: 0.54, Precisão: 0.52, Recall: 0.92, F1-score: 0.67, ROC AUC: 0.54\n"
     ]
    },
    {
     "name": "stderr",
     "output_type": "stream",
     "text": [
      " 63%|██████▎   | 19/30 [00:02<00:01,  7.40it/s]"
     ]
    },
    {
     "name": "stdout",
     "output_type": "stream",
     "text": [
      "Repetição 19 - Acurácia: 0.55, Precisão: 0.53, Recall: 0.93, F1-score: 0.67, ROC AUC: 0.55\n"
     ]
    },
    {
     "name": "stderr",
     "output_type": "stream",
     "text": [
      " 67%|██████▋   | 20/30 [00:02<00:01,  7.40it/s]"
     ]
    },
    {
     "name": "stdout",
     "output_type": "stream",
     "text": [
      "Repetição 20 - Acurácia: 0.55, Precisão: 0.53, Recall: 0.92, F1-score: 0.67, ROC AUC: 0.55\n"
     ]
    },
    {
     "name": "stderr",
     "output_type": "stream",
     "text": [
      " 70%|███████   | 21/30 [00:02<00:01,  7.34it/s]"
     ]
    },
    {
     "name": "stdout",
     "output_type": "stream",
     "text": [
      "Repetição 21 - Acurácia: 0.55, Precisão: 0.53, Recall: 0.92, F1-score: 0.67, ROC AUC: 0.55\n"
     ]
    },
    {
     "name": "stderr",
     "output_type": "stream",
     "text": [
      " 73%|███████▎  | 22/30 [00:03<00:01,  7.10it/s]"
     ]
    },
    {
     "name": "stdout",
     "output_type": "stream",
     "text": [
      "Repetição 22 - Acurácia: 0.54, Precisão: 0.53, Recall: 0.92, F1-score: 0.67, ROC AUC: 0.54\n"
     ]
    },
    {
     "name": "stderr",
     "output_type": "stream",
     "text": [
      " 77%|███████▋  | 23/30 [00:03<00:01,  6.94it/s]"
     ]
    },
    {
     "name": "stdout",
     "output_type": "stream",
     "text": [
      "Repetição 23 - Acurácia: 0.54, Precisão: 0.53, Recall: 0.93, F1-score: 0.67, ROC AUC: 0.54\n"
     ]
    },
    {
     "name": "stderr",
     "output_type": "stream",
     "text": [
      " 80%|████████  | 24/30 [00:03<00:00,  6.86it/s]"
     ]
    },
    {
     "name": "stdout",
     "output_type": "stream",
     "text": [
      "Repetição 24 - Acurácia: 0.55, Precisão: 0.53, Recall: 0.93, F1-score: 0.67, ROC AUC: 0.55\n"
     ]
    },
    {
     "name": "stderr",
     "output_type": "stream",
     "text": [
      " 83%|████████▎ | 25/30 [00:03<00:00,  7.11it/s]"
     ]
    },
    {
     "name": "stdout",
     "output_type": "stream",
     "text": [
      "Repetição 25 - Acurácia: 0.55, Precisão: 0.53, Recall: 0.93, F1-score: 0.67, ROC AUC: 0.55\n"
     ]
    },
    {
     "name": "stderr",
     "output_type": "stream",
     "text": [
      " 87%|████████▋ | 26/30 [00:03<00:00,  7.22it/s]"
     ]
    },
    {
     "name": "stdout",
     "output_type": "stream",
     "text": [
      "Repetição 26 - Acurácia: 0.55, Precisão: 0.53, Recall: 0.93, F1-score: 0.67, ROC AUC: 0.55\n"
     ]
    },
    {
     "name": "stderr",
     "output_type": "stream",
     "text": [
      " 90%|█████████ | 27/30 [00:03<00:00,  7.10it/s]"
     ]
    },
    {
     "name": "stdout",
     "output_type": "stream",
     "text": [
      "Repetição 27 - Acurácia: 0.55, Precisão: 0.53, Recall: 0.92, F1-score: 0.67, ROC AUC: 0.55\n"
     ]
    },
    {
     "name": "stderr",
     "output_type": "stream",
     "text": [
      " 93%|█████████▎| 28/30 [00:03<00:00,  6.93it/s]"
     ]
    },
    {
     "name": "stdout",
     "output_type": "stream",
     "text": [
      "Repetição 28 - Acurácia: 0.54, Precisão: 0.52, Recall: 0.93, F1-score: 0.67, ROC AUC: 0.54\n"
     ]
    },
    {
     "name": "stderr",
     "output_type": "stream",
     "text": [
      " 97%|█████████▋| 29/30 [00:03<00:00,  7.21it/s]"
     ]
    },
    {
     "name": "stdout",
     "output_type": "stream",
     "text": [
      "Repetição 29 - Acurácia: 0.54, Precisão: 0.53, Recall: 0.92, F1-score: 0.67, ROC AUC: 0.54\n",
      "Repetição 30 - Acurácia: 0.55, Precisão: 0.53, Recall: 0.93, F1-score: 0.67, ROC AUC: 0.55"
     ]
    },
    {
     "name": "stderr",
     "output_type": "stream",
     "text": [
      "100%|██████████| 30/30 [00:04<00:00,  7.18it/s]"
     ]
    },
    {
     "name": "stdout",
     "output_type": "stream",
     "text": [
      "\n",
      "Média das Acurácias: 0.54515 ± 0.00120\n",
      "Média das Precisões: 0.52564 ± 0.00070\n",
      "Média dos Recalls: 0.92549 ± 0.00133\n",
      "Média dos F1-scores: 0.67048 ± 0.00080\n",
      "Média dos ROC AUC: 0.54515 ± 0.00120\n"
     ]
    },
    {
     "name": "stderr",
     "output_type": "stream",
     "text": [
      "\n"
     ]
    }
   ],
   "source": [
    "num_repeticoes = 30\n",
    "\n",
    "# Listas para armazenar as métricas\n",
    "acuracias = []\n",
    "precisoes = []\n",
    "recalls = []\n",
    "f1_scores = []\n",
    "roc_auc_scores = []\n",
    "\n",
    "# Loop para repetir o processo\n",
    "for i in tqdm(range(num_repeticoes)):\n",
    "\n",
    "    x_train, x_test, y_train, y_test = train_test_split(X_resampled, y_resampled, test_size=0.2, stratify=y_resampled)\n",
    "    \n",
    "    #Inicializar o modelo de Naive Bayes com distribuição de Bernoulli\n",
    "    modelo_naive_bayes = BernoulliNB()\n",
    "\n",
    "    # Treinar o modelo no conjunto de treino\n",
    "    modelo_naive_bayes.fit(x_train, y_train)\n",
    "\n",
    "    # Fazer previsões no conjunto de teste\n",
    "    previsoes = modelo_naive_bayes.predict(x_test)\n",
    "\n",
    "    # Avaliar as métricas do modelo e armazenar na lista\n",
    "    acuracia = accuracy_score(y_test, previsoes)\n",
    "    precisao = precision_score(y_test, previsoes)\n",
    "    recall = recall_score(y_test, previsoes)\n",
    "    f1 = f1_score(y_test, previsoes)\n",
    "    roc_auc = roc_auc_score(y_test, previsoes)\n",
    "    \n",
    "    acuracias.append(acuracia)\n",
    "    precisoes.append(precisao)\n",
    "    recalls.append(recall)\n",
    "    f1_scores.append(f1)\n",
    "    roc_auc_scores.append(roc_auc)\n",
    "\n",
    "    print(f'Repetição {i+1} - Acurácia: {acuracia:.2f}, Precisão: {precisao:.2f}, Recall: {recall:.2f}, F1-score: {f1:.2f}, ROC AUC: {roc_auc:.2f}')\n",
    "\n",
    "# Calcular as médias das métricas\n",
    "media_acuracias = np.mean(acuracias)\n",
    "media_precisoes = np.mean(precisoes)\n",
    "media_recalls = np.mean(recalls)\n",
    "media_f1_scores = np.mean(f1_scores)\n",
    "media_roc_auc_scores = np.mean(roc_auc_scores)\n",
    "\n",
    "# Calcular os desvios padrão das métricas\n",
    "dp_acuracias = np.std(acuracias)\n",
    "dp_precisoes = np.std(precisoes)\n",
    "dp_recalls = np.std(recalls)\n",
    "dp_f1_scores = np.std(f1_scores)\n",
    "dp_roc_auc_scores = np.std(roc_auc_scores)\n",
    "\n",
    "# Adicionar as médias e desvios padrão às listas de métricas\n",
    "AcurracyPosBal.append(media_acuracias)\n",
    "PrecisionPosBal.append(media_precisoes)\n",
    "RecallPosBal.append(media_recalls)\n",
    "F1_scorePosBal.append(media_f1_scores)\n",
    "Roc_aucPosBal.append(media_roc_auc_scores)\n",
    "\n",
    "AcurracyDPPosBal.append(dp_acuracias)\n",
    "PrecisionDPPosBal.append(dp_precisoes)\n",
    "RecallDPPosBal.append(dp_recalls)\n",
    "F1_scoreDPPosBal.append(dp_f1_scores)\n",
    "Roc_aucDPPosBal.append(dp_roc_auc_scores)\n",
    "\n",
    "print(f'Média das Acurácias: {media_acuracias:.5f} ± {dp_acuracias:.5f}')\n",
    "print(f'Média das Precisões: {media_precisoes:.5f} ± {dp_precisoes:.5f}')\n",
    "print(f'Média dos Recalls: {media_recalls:.5f} ± {dp_recalls:.5f}')\n",
    "print(f'Média dos F1-scores: {media_f1_scores:.5f} ± {dp_f1_scores:.5f}')\n",
    "print(f'Média dos ROC AUC: {media_roc_auc_scores:.5f} ± {dp_roc_auc_scores:.5f}')"
   ]
  },
  {
   "cell_type": "code",
   "execution_count": 21,
   "metadata": {},
   "outputs": [
    {
     "name": "stderr",
     "output_type": "stream",
     "text": [
      "  3%|▎         | 1/30 [01:34<45:47, 94.73s/it]"
     ]
    },
    {
     "name": "stdout",
     "output_type": "stream",
     "text": [
      "Repetição 1 - Acurácia: 0.94, Precisão: 0.95, Recall: 0.92, F1-score: 0.94, ROC AUC: 0.94\n"
     ]
    },
    {
     "name": "stderr",
     "output_type": "stream",
     "text": [
      "  7%|▋         | 2/30 [02:54<40:02, 85.81s/it]"
     ]
    },
    {
     "name": "stdout",
     "output_type": "stream",
     "text": [
      "Repetição 2 - Acurácia: 0.94, Precisão: 0.92, Recall: 0.95, F1-score: 0.94, ROC AUC: 0.94\n"
     ]
    },
    {
     "name": "stderr",
     "output_type": "stream",
     "text": [
      " 10%|█         | 3/30 [03:45<31:33, 70.14s/it]"
     ]
    },
    {
     "name": "stdout",
     "output_type": "stream",
     "text": [
      "Repetição 3 - Acurácia: 0.93, Precisão: 0.94, Recall: 0.92, F1-score: 0.93, ROC AUC: 0.93\n"
     ]
    },
    {
     "name": "stderr",
     "output_type": "stream",
     "text": [
      " 13%|█▎        | 4/30 [05:04<31:51, 73.50s/it]"
     ]
    },
    {
     "name": "stdout",
     "output_type": "stream",
     "text": [
      "Repetição 4 - Acurácia: 0.93, Precisão: 0.94, Recall: 0.92, F1-score: 0.93, ROC AUC: 0.93\n"
     ]
    },
    {
     "name": "stderr",
     "output_type": "stream",
     "text": [
      " 17%|█▋        | 5/30 [06:37<33:37, 80.68s/it]"
     ]
    },
    {
     "name": "stdout",
     "output_type": "stream",
     "text": [
      "Repetição 5 - Acurácia: 0.93, Precisão: 0.93, Recall: 0.94, F1-score: 0.93, ROC AUC: 0.93\n"
     ]
    },
    {
     "name": "stderr",
     "output_type": "stream",
     "text": [
      " 20%|██        | 6/30 [08:01<32:40, 81.69s/it]"
     ]
    },
    {
     "name": "stdout",
     "output_type": "stream",
     "text": [
      "Repetição 6 - Acurácia: 0.93, Precisão: 0.92, Recall: 0.95, F1-score: 0.94, ROC AUC: 0.93\n"
     ]
    },
    {
     "name": "stderr",
     "output_type": "stream",
     "text": [
      " 23%|██▎       | 7/30 [09:06<29:10, 76.13s/it]"
     ]
    },
    {
     "name": "stdout",
     "output_type": "stream",
     "text": [
      "Repetição 7 - Acurácia: 0.93, Precisão: 0.93, Recall: 0.94, F1-score: 0.93, ROC AUC: 0.93\n"
     ]
    },
    {
     "name": "stderr",
     "output_type": "stream",
     "text": [
      " 27%|██▋       | 8/30 [10:09<26:24, 72.01s/it]"
     ]
    },
    {
     "name": "stdout",
     "output_type": "stream",
     "text": [
      "Repetição 8 - Acurácia: 0.94, Precisão: 0.92, Recall: 0.96, F1-score: 0.94, ROC AUC: 0.94\n"
     ]
    },
    {
     "name": "stderr",
     "output_type": "stream",
     "text": [
      " 30%|███       | 9/30 [11:33<26:34, 75.92s/it]"
     ]
    },
    {
     "name": "stdout",
     "output_type": "stream",
     "text": [
      "Repetição 9 - Acurácia: 0.94, Precisão: 0.92, Recall: 0.96, F1-score: 0.94, ROC AUC: 0.94\n"
     ]
    },
    {
     "name": "stderr",
     "output_type": "stream",
     "text": [
      " 33%|███▎      | 10/30 [12:41<24:27, 73.38s/it]"
     ]
    },
    {
     "name": "stdout",
     "output_type": "stream",
     "text": [
      "Repetição 10 - Acurácia: 0.93, Precisão: 0.95, Recall: 0.92, F1-score: 0.93, ROC AUC: 0.93\n"
     ]
    },
    {
     "name": "stderr",
     "output_type": "stream",
     "text": [
      " 37%|███▋      | 11/30 [13:58<23:34, 74.44s/it]"
     ]
    },
    {
     "name": "stdout",
     "output_type": "stream",
     "text": [
      "Repetição 11 - Acurácia: 0.94, Precisão: 0.93, Recall: 0.94, F1-score: 0.94, ROC AUC: 0.94\n"
     ]
    },
    {
     "name": "stderr",
     "output_type": "stream",
     "text": [
      " 40%|████      | 12/30 [15:33<24:14, 80.82s/it]"
     ]
    },
    {
     "name": "stdout",
     "output_type": "stream",
     "text": [
      "Repetição 12 - Acurácia: 0.93, Precisão: 0.94, Recall: 0.93, F1-score: 0.93, ROC AUC: 0.93\n"
     ]
    },
    {
     "name": "stderr",
     "output_type": "stream",
     "text": [
      " 43%|████▎     | 13/30 [16:58<23:13, 81.94s/it]"
     ]
    },
    {
     "name": "stdout",
     "output_type": "stream",
     "text": [
      "Repetição 13 - Acurácia: 0.94, Precisão: 0.93, Recall: 0.94, F1-score: 0.94, ROC AUC: 0.94\n"
     ]
    },
    {
     "name": "stderr",
     "output_type": "stream",
     "text": [
      " 47%|████▋     | 14/30 [17:56<19:56, 74.76s/it]"
     ]
    },
    {
     "name": "stdout",
     "output_type": "stream",
     "text": [
      "Repetição 14 - Acurácia: 0.93, Precisão: 0.92, Recall: 0.94, F1-score: 0.93, ROC AUC: 0.93\n"
     ]
    },
    {
     "name": "stderr",
     "output_type": "stream",
     "text": [
      " 50%|█████     | 15/30 [19:04<18:11, 72.78s/it]"
     ]
    },
    {
     "name": "stdout",
     "output_type": "stream",
     "text": [
      "Repetição 15 - Acurácia: 0.93, Precisão: 0.95, Recall: 0.91, F1-score: 0.93, ROC AUC: 0.93\n"
     ]
    },
    {
     "name": "stderr",
     "output_type": "stream",
     "text": [
      " 53%|█████▎    | 16/30 [20:08<16:21, 70.10s/it]"
     ]
    },
    {
     "name": "stdout",
     "output_type": "stream",
     "text": [
      "Repetição 16 - Acurácia: 0.93, Precisão: 0.92, Recall: 0.94, F1-score: 0.93, ROC AUC: 0.93\n"
     ]
    },
    {
     "name": "stderr",
     "output_type": "stream",
     "text": [
      " 57%|█████▋    | 17/30 [21:06<14:23, 66.44s/it]"
     ]
    },
    {
     "name": "stdout",
     "output_type": "stream",
     "text": [
      "Repetição 17 - Acurácia: 0.93, Precisão: 0.93, Recall: 0.94, F1-score: 0.93, ROC AUC: 0.93\n"
     ]
    },
    {
     "name": "stderr",
     "output_type": "stream",
     "text": [
      " 60%|██████    | 18/30 [22:06<12:52, 64.41s/it]"
     ]
    },
    {
     "name": "stdout",
     "output_type": "stream",
     "text": [
      "Repetição 18 - Acurácia: 0.93, Precisão: 0.94, Recall: 0.93, F1-score: 0.93, ROC AUC: 0.93\n"
     ]
    },
    {
     "name": "stderr",
     "output_type": "stream",
     "text": [
      " 63%|██████▎   | 19/30 [23:34<13:07, 71.56s/it]"
     ]
    },
    {
     "name": "stdout",
     "output_type": "stream",
     "text": [
      "Repetição 19 - Acurácia: 0.94, Precisão: 0.93, Recall: 0.94, F1-score: 0.94, ROC AUC: 0.94\n"
     ]
    },
    {
     "name": "stderr",
     "output_type": "stream",
     "text": [
      " 67%|██████▋   | 20/30 [24:45<11:54, 71.47s/it]"
     ]
    },
    {
     "name": "stdout",
     "output_type": "stream",
     "text": [
      "Repetição 20 - Acurácia: 0.93, Precisão: 0.91, Recall: 0.95, F1-score: 0.93, ROC AUC: 0.93\n"
     ]
    },
    {
     "name": "stderr",
     "output_type": "stream",
     "text": [
      " 70%|███████   | 21/30 [25:56<10:40, 71.15s/it]"
     ]
    },
    {
     "name": "stdout",
     "output_type": "stream",
     "text": [
      "Repetição 21 - Acurácia: 0.94, Precisão: 0.93, Recall: 0.94, F1-score: 0.94, ROC AUC: 0.94\n"
     ]
    },
    {
     "name": "stderr",
     "output_type": "stream",
     "text": [
      " 73%|███████▎  | 22/30 [27:38<10:44, 80.53s/it]"
     ]
    },
    {
     "name": "stdout",
     "output_type": "stream",
     "text": [
      "Repetição 22 - Acurácia: 0.94, Precisão: 0.93, Recall: 0.94, F1-score: 0.94, ROC AUC: 0.94\n"
     ]
    },
    {
     "name": "stderr",
     "output_type": "stream",
     "text": [
      " 77%|███████▋  | 23/30 [29:29<10:26, 89.54s/it]"
     ]
    },
    {
     "name": "stdout",
     "output_type": "stream",
     "text": [
      "Repetição 23 - Acurácia: 0.94, Precisão: 0.94, Recall: 0.94, F1-score: 0.94, ROC AUC: 0.94\n"
     ]
    },
    {
     "name": "stderr",
     "output_type": "stream",
     "text": [
      " 80%|████████  | 24/30 [30:54<08:50, 88.40s/it]"
     ]
    },
    {
     "name": "stdout",
     "output_type": "stream",
     "text": [
      "Repetição 24 - Acurácia: 0.93, Precisão: 0.93, Recall: 0.94, F1-score: 0.94, ROC AUC: 0.93\n"
     ]
    },
    {
     "name": "stderr",
     "output_type": "stream",
     "text": [
      " 83%|████████▎ | 25/30 [31:58<06:45, 81.02s/it]"
     ]
    },
    {
     "name": "stdout",
     "output_type": "stream",
     "text": [
      "Repetição 25 - Acurácia: 0.93, Precisão: 0.95, Recall: 0.90, F1-score: 0.93, ROC AUC: 0.93\n"
     ]
    },
    {
     "name": "stderr",
     "output_type": "stream",
     "text": [
      " 87%|████████▋ | 26/30 [33:34<05:42, 85.56s/it]"
     ]
    },
    {
     "name": "stdout",
     "output_type": "stream",
     "text": [
      "Repetição 26 - Acurácia: 0.93, Precisão: 0.94, Recall: 0.92, F1-score: 0.93, ROC AUC: 0.93\n"
     ]
    },
    {
     "name": "stderr",
     "output_type": "stream",
     "text": [
      " 90%|█████████ | 27/30 [34:46<04:04, 81.38s/it]"
     ]
    },
    {
     "name": "stdout",
     "output_type": "stream",
     "text": [
      "Repetição 27 - Acurácia: 0.93, Precisão: 0.95, Recall: 0.91, F1-score: 0.93, ROC AUC: 0.93\n"
     ]
    },
    {
     "name": "stderr",
     "output_type": "stream",
     "text": [
      " 93%|█████████▎| 28/30 [35:52<02:33, 76.74s/it]"
     ]
    },
    {
     "name": "stdout",
     "output_type": "stream",
     "text": [
      "Repetição 28 - Acurácia: 0.93, Precisão: 0.91, Recall: 0.96, F1-score: 0.93, ROC AUC: 0.93\n"
     ]
    },
    {
     "name": "stderr",
     "output_type": "stream",
     "text": [
      " 97%|█████████▋| 29/30 [37:05<01:15, 75.65s/it]"
     ]
    },
    {
     "name": "stdout",
     "output_type": "stream",
     "text": [
      "Repetição 29 - Acurácia: 0.93, Precisão: 0.91, Recall: 0.95, F1-score: 0.93, ROC AUC: 0.93\n"
     ]
    },
    {
     "name": "stderr",
     "output_type": "stream",
     "text": [
      "100%|██████████| 30/30 [38:15<00:00, 76.51s/it]"
     ]
    },
    {
     "name": "stdout",
     "output_type": "stream",
     "text": [
      "Repetição 30 - Acurácia: 0.94, Precisão: 0.95, Recall: 0.93, F1-score: 0.94, ROC AUC: 0.94\n",
      "Média das Acurácias: 0.93371 ± 0.00250\n",
      "Média das Precisões: 0.93193 ± 0.01193\n",
      "Média dos Recalls: 0.93614 ± 0.01473\n",
      "Média dos F1-scores: 0.93385 ± 0.00282\n",
      "Média dos ROC AUC: 0.93371 ± 0.00250\n"
     ]
    },
    {
     "name": "stderr",
     "output_type": "stream",
     "text": [
      "\n"
     ]
    }
   ],
   "source": [
    "num_repeticoes = 30\n",
    "\n",
    "# Listas para armazenar as métricas\n",
    "acuracias = []\n",
    "precisoes = []\n",
    "recalls = []\n",
    "f1_scores = []\n",
    "roc_auc_scores = []\n",
    "\n",
    "# Loop para repetir o processo\n",
    "for i in tqdm(range(num_repeticoes)):\n",
    "\n",
    "    x_train, x_test, y_train, y_test = train_test_split(X_resampled, y_resampled, test_size=0.2, stratify=y_resampled)\n",
    "    \n",
    "    # Inicializar o modelo MLP\n",
    "    modelo_mlp = MLPClassifier(hidden_layer_sizes=(100), max_iter=1000)\n",
    "\n",
    "    # Treinar o modelo no conjunto de treino\n",
    "    modelo_mlp.fit(x_train, y_train)\n",
    "\n",
    "    # Fazer previsões no conjunto de teste\n",
    "    previsoes = modelo_mlp.predict(x_test)\n",
    "\n",
    "    # Avaliar as métricas do modelo e armazenar na lista\n",
    "    acuracia = accuracy_score(y_test, previsoes)\n",
    "    precisao = precision_score(y_test, previsoes)\n",
    "    recall = recall_score(y_test, previsoes)\n",
    "    f1 = f1_score(y_test, previsoes)\n",
    "    roc_auc = roc_auc_score(y_test, previsoes)\n",
    "    \n",
    "    acuracias.append(acuracia)\n",
    "    precisoes.append(precisao)\n",
    "    recalls.append(recall)\n",
    "    f1_scores.append(f1)\n",
    "    roc_auc_scores.append(roc_auc)\n",
    "\n",
    "    print(f'Repetição {i+1} - Acurácia: {acuracia:.2f}, Precisão: {precisao:.2f}, Recall: {recall:.2f}, F1-score: {f1:.2f}, ROC AUC: {roc_auc:.2f}')\n",
    "\n",
    "# Calcular as médias das métricas\n",
    "media_acuracias = np.mean(acuracias)\n",
    "media_precisoes = np.mean(precisoes)\n",
    "media_recalls = np.mean(recalls)\n",
    "media_f1_scores = np.mean(f1_scores)\n",
    "media_roc_auc_scores = np.mean(roc_auc_scores)\n",
    "\n",
    "# Calcular os desvios padrão das métricas\n",
    "dp_acuracias = np.std(acuracias)\n",
    "dp_precisoes = np.std(precisoes)\n",
    "dp_recalls = np.std(recalls)\n",
    "dp_f1_scores = np.std(f1_scores)\n",
    "dp_roc_auc_scores = np.std(roc_auc_scores)\n",
    "\n",
    "# Adicionar as médias e desvios padrão às listas de métricas\n",
    "AcurracyPosBal.append(media_acuracias)\n",
    "PrecisionPosBal.append(media_precisoes)\n",
    "RecallPosBal.append(media_recalls)\n",
    "F1_scorePosBal.append(media_f1_scores)\n",
    "Roc_aucPosBal.append(media_roc_auc_scores)\n",
    "\n",
    "AcurracyDPPosBal.append(dp_acuracias)\n",
    "PrecisionDPPosBal.append(dp_precisoes)\n",
    "RecallDPPosBal.append(dp_recalls)\n",
    "F1_scoreDPPosBal.append(dp_f1_scores)\n",
    "Roc_aucDPPosBal.append(dp_roc_auc_scores)\n",
    "\n",
    "print(f'Média das Acurácias: {media_acuracias:.5f} ± {dp_acuracias:.5f}')\n",
    "print(f'Média das Precisões: {media_precisoes:.5f} ± {dp_precisoes:.5f}')\n",
    "print(f'Média dos Recalls: {media_recalls:.5f} ± {dp_recalls:.5f}')\n",
    "print(f'Média dos F1-scores: {media_f1_scores:.5f} ± {dp_f1_scores:.5f}')\n",
    "print(f'Média dos ROC AUC: {media_roc_auc_scores:.5f} ± {dp_roc_auc_scores:.5f}')"
   ]
  },
  {
   "cell_type": "code",
   "execution_count": 22,
   "metadata": {},
   "outputs": [
    {
     "name": "stderr",
     "output_type": "stream",
     "text": [
      "  3%|▎         | 1/30 [00:03<01:48,  3.74s/it]"
     ]
    },
    {
     "name": "stdout",
     "output_type": "stream",
     "text": [
      "Repetição 1 - Acurácia: 0.97, Precisão: 0.96, Recall: 0.99, F1-score: 0.97, ROC AUC: 0.97\n"
     ]
    },
    {
     "name": "stderr",
     "output_type": "stream",
     "text": [
      "  7%|▋         | 2/30 [00:07<01:45,  3.75s/it]"
     ]
    },
    {
     "name": "stdout",
     "output_type": "stream",
     "text": [
      "Repetição 2 - Acurácia: 0.97, Precisão: 0.95, Recall: 0.99, F1-score: 0.97, ROC AUC: 0.97\n"
     ]
    },
    {
     "name": "stderr",
     "output_type": "stream",
     "text": [
      " 10%|█         | 3/30 [00:11<01:40,  3.72s/it]"
     ]
    },
    {
     "name": "stdout",
     "output_type": "stream",
     "text": [
      "Repetição 3 - Acurácia: 0.97, Precisão: 0.95, Recall: 0.99, F1-score: 0.97, ROC AUC: 0.97\n"
     ]
    },
    {
     "name": "stderr",
     "output_type": "stream",
     "text": [
      " 13%|█▎        | 4/30 [00:14<01:34,  3.62s/it]"
     ]
    },
    {
     "name": "stdout",
     "output_type": "stream",
     "text": [
      "Repetição 4 - Acurácia: 0.97, Precisão: 0.95, Recall: 0.99, F1-score: 0.97, ROC AUC: 0.97\n"
     ]
    },
    {
     "name": "stderr",
     "output_type": "stream",
     "text": [
      " 17%|█▋        | 5/30 [00:18<01:28,  3.55s/it]"
     ]
    },
    {
     "name": "stdout",
     "output_type": "stream",
     "text": [
      "Repetição 5 - Acurácia: 0.97, Precisão: 0.95, Recall: 0.99, F1-score: 0.97, ROC AUC: 0.97\n"
     ]
    },
    {
     "name": "stderr",
     "output_type": "stream",
     "text": [
      " 20%|██        | 6/30 [00:21<01:24,  3.54s/it]"
     ]
    },
    {
     "name": "stdout",
     "output_type": "stream",
     "text": [
      "Repetição 6 - Acurácia: 0.97, Precisão: 0.95, Recall: 0.99, F1-score: 0.97, ROC AUC: 0.97\n"
     ]
    },
    {
     "name": "stderr",
     "output_type": "stream",
     "text": [
      " 23%|██▎       | 7/30 [00:25<01:20,  3.50s/it]"
     ]
    },
    {
     "name": "stdout",
     "output_type": "stream",
     "text": [
      "Repetição 7 - Acurácia: 0.97, Precisão: 0.95, Recall: 0.99, F1-score: 0.97, ROC AUC: 0.97\n"
     ]
    },
    {
     "name": "stderr",
     "output_type": "stream",
     "text": [
      " 27%|██▋       | 8/30 [00:28<01:16,  3.48s/it]"
     ]
    },
    {
     "name": "stdout",
     "output_type": "stream",
     "text": [
      "Repetição 8 - Acurácia: 0.97, Precisão: 0.95, Recall: 0.99, F1-score: 0.97, ROC AUC: 0.97\n"
     ]
    },
    {
     "name": "stderr",
     "output_type": "stream",
     "text": [
      " 30%|███       | 9/30 [00:31<01:13,  3.48s/it]"
     ]
    },
    {
     "name": "stdout",
     "output_type": "stream",
     "text": [
      "Repetição 9 - Acurácia: 0.97, Precisão: 0.95, Recall: 0.99, F1-score: 0.97, ROC AUC: 0.97\n"
     ]
    },
    {
     "name": "stderr",
     "output_type": "stream",
     "text": [
      " 33%|███▎      | 10/30 [00:35<01:09,  3.47s/it]"
     ]
    },
    {
     "name": "stdout",
     "output_type": "stream",
     "text": [
      "Repetição 10 - Acurácia: 0.97, Precisão: 0.95, Recall: 0.99, F1-score: 0.97, ROC AUC: 0.97\n"
     ]
    },
    {
     "name": "stderr",
     "output_type": "stream",
     "text": [
      " 37%|███▋      | 11/30 [00:38<01:05,  3.46s/it]"
     ]
    },
    {
     "name": "stdout",
     "output_type": "stream",
     "text": [
      "Repetição 11 - Acurácia: 0.97, Precisão: 0.95, Recall: 0.99, F1-score: 0.97, ROC AUC: 0.97\n"
     ]
    },
    {
     "name": "stderr",
     "output_type": "stream",
     "text": [
      " 40%|████      | 12/30 [00:42<01:02,  3.47s/it]"
     ]
    },
    {
     "name": "stdout",
     "output_type": "stream",
     "text": [
      "Repetição 12 - Acurácia: 0.97, Precisão: 0.95, Recall: 0.99, F1-score: 0.97, ROC AUC: 0.97\n"
     ]
    },
    {
     "name": "stderr",
     "output_type": "stream",
     "text": [
      " 43%|████▎     | 13/30 [00:45<00:59,  3.48s/it]"
     ]
    },
    {
     "name": "stdout",
     "output_type": "stream",
     "text": [
      "Repetição 13 - Acurácia: 0.97, Precisão: 0.95, Recall: 0.99, F1-score: 0.97, ROC AUC: 0.97\n"
     ]
    },
    {
     "name": "stderr",
     "output_type": "stream",
     "text": [
      " 47%|████▋     | 14/30 [00:49<00:55,  3.49s/it]"
     ]
    },
    {
     "name": "stdout",
     "output_type": "stream",
     "text": [
      "Repetição 14 - Acurácia: 0.97, Precisão: 0.95, Recall: 0.99, F1-score: 0.97, ROC AUC: 0.97\n"
     ]
    },
    {
     "name": "stderr",
     "output_type": "stream",
     "text": [
      " 50%|█████     | 15/30 [00:52<00:52,  3.48s/it]"
     ]
    },
    {
     "name": "stdout",
     "output_type": "stream",
     "text": [
      "Repetição 15 - Acurácia: 0.97, Precisão: 0.95, Recall: 0.99, F1-score: 0.97, ROC AUC: 0.97\n"
     ]
    },
    {
     "name": "stderr",
     "output_type": "stream",
     "text": [
      " 53%|█████▎    | 16/30 [00:56<00:48,  3.48s/it]"
     ]
    },
    {
     "name": "stdout",
     "output_type": "stream",
     "text": [
      "Repetição 16 - Acurácia: 0.97, Precisão: 0.95, Recall: 0.99, F1-score: 0.97, ROC AUC: 0.97\n"
     ]
    },
    {
     "name": "stderr",
     "output_type": "stream",
     "text": [
      " 57%|█████▋    | 17/30 [00:59<00:45,  3.47s/it]"
     ]
    },
    {
     "name": "stdout",
     "output_type": "stream",
     "text": [
      "Repetição 17 - Acurácia: 0.97, Precisão: 0.95, Recall: 0.99, F1-score: 0.97, ROC AUC: 0.97\n"
     ]
    },
    {
     "name": "stderr",
     "output_type": "stream",
     "text": [
      " 60%|██████    | 18/30 [01:03<00:41,  3.48s/it]"
     ]
    },
    {
     "name": "stdout",
     "output_type": "stream",
     "text": [
      "Repetição 18 - Acurácia: 0.97, Precisão: 0.95, Recall: 0.99, F1-score: 0.97, ROC AUC: 0.97\n"
     ]
    },
    {
     "name": "stderr",
     "output_type": "stream",
     "text": [
      " 63%|██████▎   | 19/30 [01:06<00:38,  3.48s/it]"
     ]
    },
    {
     "name": "stdout",
     "output_type": "stream",
     "text": [
      "Repetição 19 - Acurácia: 0.97, Precisão: 0.95, Recall: 0.99, F1-score: 0.97, ROC AUC: 0.97\n"
     ]
    },
    {
     "name": "stderr",
     "output_type": "stream",
     "text": [
      " 67%|██████▋   | 20/30 [01:10<00:34,  3.48s/it]"
     ]
    },
    {
     "name": "stdout",
     "output_type": "stream",
     "text": [
      "Repetição 20 - Acurácia: 0.97, Precisão: 0.95, Recall: 0.99, F1-score: 0.97, ROC AUC: 0.97\n"
     ]
    },
    {
     "name": "stderr",
     "output_type": "stream",
     "text": [
      " 70%|███████   | 21/30 [01:13<00:31,  3.54s/it]"
     ]
    },
    {
     "name": "stdout",
     "output_type": "stream",
     "text": [
      "Repetição 21 - Acurácia: 0.97, Precisão: 0.95, Recall: 0.99, F1-score: 0.97, ROC AUC: 0.97\n"
     ]
    },
    {
     "name": "stderr",
     "output_type": "stream",
     "text": [
      " 73%|███████▎  | 22/30 [01:17<00:28,  3.51s/it]"
     ]
    },
    {
     "name": "stdout",
     "output_type": "stream",
     "text": [
      "Repetição 22 - Acurácia: 0.97, Precisão: 0.95, Recall: 0.99, F1-score: 0.97, ROC AUC: 0.97\n"
     ]
    },
    {
     "name": "stderr",
     "output_type": "stream",
     "text": [
      " 77%|███████▋  | 23/30 [01:20<00:24,  3.54s/it]"
     ]
    },
    {
     "name": "stdout",
     "output_type": "stream",
     "text": [
      "Repetição 23 - Acurácia: 0.97, Precisão: 0.95, Recall: 0.99, F1-score: 0.97, ROC AUC: 0.97\n"
     ]
    },
    {
     "name": "stderr",
     "output_type": "stream",
     "text": [
      " 80%|████████  | 24/30 [01:24<00:21,  3.58s/it]"
     ]
    },
    {
     "name": "stdout",
     "output_type": "stream",
     "text": [
      "Repetição 24 - Acurácia: 0.97, Precisão: 0.95, Recall: 0.99, F1-score: 0.97, ROC AUC: 0.97\n"
     ]
    },
    {
     "name": "stderr",
     "output_type": "stream",
     "text": [
      " 83%|████████▎ | 25/30 [01:28<00:17,  3.54s/it]"
     ]
    },
    {
     "name": "stdout",
     "output_type": "stream",
     "text": [
      "Repetição 25 - Acurácia: 0.97, Precisão: 0.95, Recall: 0.99, F1-score: 0.97, ROC AUC: 0.97\n"
     ]
    },
    {
     "name": "stderr",
     "output_type": "stream",
     "text": [
      " 87%|████████▋ | 26/30 [01:31<00:14,  3.52s/it]"
     ]
    },
    {
     "name": "stdout",
     "output_type": "stream",
     "text": [
      "Repetição 26 - Acurácia: 0.97, Precisão: 0.95, Recall: 0.99, F1-score: 0.97, ROC AUC: 0.97\n"
     ]
    },
    {
     "name": "stderr",
     "output_type": "stream",
     "text": [
      " 90%|█████████ | 27/30 [01:34<00:10,  3.50s/it]"
     ]
    },
    {
     "name": "stdout",
     "output_type": "stream",
     "text": [
      "Repetição 27 - Acurácia: 0.97, Precisão: 0.95, Recall: 0.99, F1-score: 0.97, ROC AUC: 0.97\n"
     ]
    },
    {
     "name": "stderr",
     "output_type": "stream",
     "text": [
      " 93%|█████████▎| 28/30 [01:38<00:07,  3.50s/it]"
     ]
    },
    {
     "name": "stdout",
     "output_type": "stream",
     "text": [
      "Repetição 28 - Acurácia: 0.97, Precisão: 0.95, Recall: 0.99, F1-score: 0.97, ROC AUC: 0.97\n"
     ]
    },
    {
     "name": "stderr",
     "output_type": "stream",
     "text": [
      " 97%|█████████▋| 29/30 [01:41<00:03,  3.49s/it]"
     ]
    },
    {
     "name": "stdout",
     "output_type": "stream",
     "text": [
      "Repetição 29 - Acurácia: 0.97, Precisão: 0.95, Recall: 0.99, F1-score: 0.97, ROC AUC: 0.97\n"
     ]
    },
    {
     "name": "stderr",
     "output_type": "stream",
     "text": [
      "100%|██████████| 30/30 [01:45<00:00,  3.51s/it]"
     ]
    },
    {
     "name": "stdout",
     "output_type": "stream",
     "text": [
      "Repetição 30 - Acurácia: 0.97, Precisão: 0.95, Recall: 0.99, F1-score: 0.97, ROC AUC: 0.97\n",
      "Média das Acurácias: 0.97072 ± 0.00088\n",
      "Média das Precisões: 0.95161 ± 0.00158\n",
      "Média dos Recalls: 0.99188 ± 0.00126\n",
      "Média dos F1-scores: 0.97133 ± 0.00085\n",
      "Média dos ROC AUC: 0.97072 ± 0.00088\n"
     ]
    },
    {
     "name": "stderr",
     "output_type": "stream",
     "text": [
      "\n"
     ]
    }
   ],
   "source": [
    "num_repeticoes = 30\n",
    "\n",
    "# Listas para armazenar as métricas\n",
    "acuracias = []\n",
    "precisoes = []\n",
    "recalls = []\n",
    "f1_scores = []\n",
    "roc_auc_scores = []\n",
    "\n",
    "# Loop para repetir o processo\n",
    "for i in tqdm(range(num_repeticoes)):\n",
    "\n",
    "    x_train, x_test, y_train, y_test = train_test_split(X_resampled, y_resampled, test_size=0.2, stratify=y_resampled)\n",
    "    \n",
    "    #inicializar o modelo KNN\n",
    "    modelo_knn = KNeighborsClassifier(n_neighbors=7)  # Escolha o número de vizinhos desejado\n",
    "\n",
    "    # Treinar o modelo no conjunto de treino\n",
    "    modelo_knn.fit(np.array(x_train), y_train)\n",
    "\n",
    "    # Fazer previsões no conjunto de teste\n",
    "    previsoes = modelo_knn.predict(np.array(x_test))\n",
    "\n",
    "    # Avaliar as métricas do modelo e armazenar na lista\n",
    "    acuracia = accuracy_score(y_test, previsoes)\n",
    "    precisao = precision_score(y_test, previsoes)\n",
    "    recall = recall_score(y_test, previsoes)\n",
    "    f1 = f1_score(y_test, previsoes)\n",
    "    roc_auc = roc_auc_score(y_test, previsoes)\n",
    "    \n",
    "    acuracias.append(acuracia)\n",
    "    precisoes.append(precisao)\n",
    "    recalls.append(recall)\n",
    "    f1_scores.append(f1)\n",
    "    roc_auc_scores.append(roc_auc)\n",
    "\n",
    "    print(f'Repetição {i+1} - Acurácia: {acuracia:.2f}, Precisão: {precisao:.2f}, Recall: {recall:.2f}, F1-score: {f1:.2f}, ROC AUC: {roc_auc:.2f}')\n",
    "\n",
    "# Calcular as médias das métricas\n",
    "media_acuracias = np.mean(acuracias)\n",
    "media_precisoes = np.mean(precisoes)\n",
    "media_recalls = np.mean(recalls)\n",
    "media_f1_scores = np.mean(f1_scores)\n",
    "media_roc_auc_scores = np.mean(roc_auc_scores)\n",
    "\n",
    "# Calcular os desvios padrão das métricas\n",
    "dp_acuracias = np.std(acuracias)\n",
    "dp_precisoes = np.std(precisoes)\n",
    "dp_recalls = np.std(recalls)\n",
    "dp_f1_scores = np.std(f1_scores)\n",
    "dp_roc_auc_scores = np.std(roc_auc_scores)\n",
    "\n",
    "# Adicionar as médias e desvios padrão às listas de métricas\n",
    "AcurracyPosBal.append(media_acuracias)\n",
    "PrecisionPosBal.append(media_precisoes)\n",
    "RecallPosBal.append(media_recalls)\n",
    "F1_scorePosBal.append(media_f1_scores)\n",
    "Roc_aucPosBal.append(media_roc_auc_scores)\n",
    "\n",
    "AcurracyDPPosBal.append(dp_acuracias)\n",
    "PrecisionDPPosBal.append(dp_precisoes)\n",
    "RecallDPPosBal.append(dp_recalls)\n",
    "F1_scoreDPPosBal.append(dp_f1_scores)\n",
    "Roc_aucDPPosBal.append(dp_roc_auc_scores)\n",
    "\n",
    "print(f'Média das Acurácias: {media_acuracias:.5f} ± {dp_acuracias:.5f}')\n",
    "print(f'Média das Precisões: {media_precisoes:.5f} ± {dp_precisoes:.5f}')\n",
    "print(f'Média dos Recalls: {media_recalls:.5f} ± {dp_recalls:.5f}')\n",
    "print(f'Média dos F1-scores: {media_f1_scores:.5f} ± {dp_f1_scores:.5f}')\n",
    "print(f'Média dos ROC AUC: {media_roc_auc_scores:.5f} ± {dp_roc_auc_scores:.5f}')"
   ]
  },
  {
   "cell_type": "code",
   "execution_count": 23,
   "metadata": {},
   "outputs": [
    {
     "data": {
      "text/html": [
       "<style type=\"text/css\">\n",
       "#T_733fa_row0_col0, #T_733fa_row0_col3, #T_733fa_row1_col0, #T_733fa_row1_col1, #T_733fa_row1_col2, #T_733fa_row1_col3, #T_733fa_row1_col4, #T_733fa_row1_col5, #T_733fa_row2_col0, #T_733fa_row2_col1, #T_733fa_row2_col2, #T_733fa_row2_col3, #T_733fa_row2_col4, #T_733fa_row2_col5, #T_733fa_row3_col0, #T_733fa_row3_col1, #T_733fa_row3_col2, #T_733fa_row3_col4, #T_733fa_row3_col5 {\n",
       "  color: white;\n",
       "}\n",
       "#T_733fa_row0_col1, #T_733fa_row0_col2, #T_733fa_row0_col4, #T_733fa_row0_col5, #T_733fa_row3_col3 {\n",
       "  background-color: green;\n",
       "  color: white;\n",
       "}\n",
       "</style>\n",
       "<table id=\"T_733fa\">\n",
       "  <thead>\n",
       "    <tr>\n",
       "      <th class=\"blank level0\" >&nbsp;</th>\n",
       "      <th id=\"T_733fa_level0_col0\" class=\"col_heading level0 col0\" >Modelos</th>\n",
       "      <th id=\"T_733fa_level0_col1\" class=\"col_heading level0 col1\" >Acuracia (DREBIN)</th>\n",
       "      <th id=\"T_733fa_level0_col2\" class=\"col_heading level0 col2\" >Precisão (DREBIN)</th>\n",
       "      <th id=\"T_733fa_level0_col3\" class=\"col_heading level0 col3\" >Recall (DREBIN)</th>\n",
       "      <th id=\"T_733fa_level0_col4\" class=\"col_heading level0 col4\" >F1 Score</th>\n",
       "      <th id=\"T_733fa_level0_col5\" class=\"col_heading level0 col5\" >AUC RoC</th>\n",
       "    </tr>\n",
       "  </thead>\n",
       "  <tbody>\n",
       "    <tr>\n",
       "      <th id=\"T_733fa_level0_row0\" class=\"row_heading level0 row0\" >0</th>\n",
       "      <td id=\"T_733fa_row0_col0\" class=\"data row0 col0\" >Decision Tree</td>\n",
       "      <td id=\"T_733fa_row0_col1\" class=\"data row0 col1\" >0.9812 ± 0.0006</td>\n",
       "      <td id=\"T_733fa_row0_col2\" class=\"data row0 col2\" >0.9737 ± 0.0009</td>\n",
       "      <td id=\"T_733fa_row0_col3\" class=\"data row0 col3\" >0.9891 ± 0.0011</td>\n",
       "      <td id=\"T_733fa_row0_col4\" class=\"data row0 col4\" >0.9813 ± 0.0006</td>\n",
       "      <td id=\"T_733fa_row0_col5\" class=\"data row0 col5\" >0.9812 ± 0.0006</td>\n",
       "    </tr>\n",
       "    <tr>\n",
       "      <th id=\"T_733fa_level0_row1\" class=\"row_heading level0 row1\" >1</th>\n",
       "      <td id=\"T_733fa_row1_col0\" class=\"data row1 col0\" >Naive Bayes</td>\n",
       "      <td id=\"T_733fa_row1_col1\" class=\"data row1 col1\" >0.5451 ± 0.0012</td>\n",
       "      <td id=\"T_733fa_row1_col2\" class=\"data row1 col2\" >0.5256 ± 0.0007</td>\n",
       "      <td id=\"T_733fa_row1_col3\" class=\"data row1 col3\" >0.9255 ± 0.0013</td>\n",
       "      <td id=\"T_733fa_row1_col4\" class=\"data row1 col4\" >0.6705 ± 0.0008</td>\n",
       "      <td id=\"T_733fa_row1_col5\" class=\"data row1 col5\" >0.5451 ± 0.0012</td>\n",
       "    </tr>\n",
       "    <tr>\n",
       "      <th id=\"T_733fa_level0_row2\" class=\"row_heading level0 row2\" >2</th>\n",
       "      <td id=\"T_733fa_row2_col0\" class=\"data row2 col0\" >MLP</td>\n",
       "      <td id=\"T_733fa_row2_col1\" class=\"data row2 col1\" >0.9337 ± 0.0025</td>\n",
       "      <td id=\"T_733fa_row2_col2\" class=\"data row2 col2\" >0.9319 ± 0.0119</td>\n",
       "      <td id=\"T_733fa_row2_col3\" class=\"data row2 col3\" >0.9361 ± 0.0147</td>\n",
       "      <td id=\"T_733fa_row2_col4\" class=\"data row2 col4\" >0.9338 ± 0.0028</td>\n",
       "      <td id=\"T_733fa_row2_col5\" class=\"data row2 col5\" >0.9337 ± 0.0025</td>\n",
       "    </tr>\n",
       "    <tr>\n",
       "      <th id=\"T_733fa_level0_row3\" class=\"row_heading level0 row3\" >3</th>\n",
       "      <td id=\"T_733fa_row3_col0\" class=\"data row3 col0\" >KNN</td>\n",
       "      <td id=\"T_733fa_row3_col1\" class=\"data row3 col1\" >0.9707 ± 0.0009</td>\n",
       "      <td id=\"T_733fa_row3_col2\" class=\"data row3 col2\" >0.9516 ± 0.0016</td>\n",
       "      <td id=\"T_733fa_row3_col3\" class=\"data row3 col3\" >0.9919 ± 0.0013</td>\n",
       "      <td id=\"T_733fa_row3_col4\" class=\"data row3 col4\" >0.9713 ± 0.0009</td>\n",
       "      <td id=\"T_733fa_row3_col5\" class=\"data row3 col5\" >0.9707 ± 0.0009</td>\n",
       "    </tr>\n",
       "  </tbody>\n",
       "</table>\n"
      ],
      "text/plain": [
       "<pandas.io.formats.style.Styler at 0x1951345bc10>"
      ]
     },
     "execution_count": 23,
     "metadata": {},
     "output_type": "execute_result"
    }
   ],
   "source": [
    "import pandas as pd\n",
    "\n",
    "# Definir os modelos\n",
    "Modelos = ['Decision Tree', 'Naive Bayes', 'MLP', 'KNN']\n",
    "\n",
    "# Criar um DataFrame do Pandas com os valores das variáveis\n",
    "df = pd.DataFrame({\n",
    "    'Modelos': Modelos,\n",
    "    'Acuracia (DREBIN)': [f\"{media:.4f} ± {dp:.4f}\" for media, dp in zip(AcurracyPosBal, AcurracyDPPosBal)],\n",
    "    'Precisão (DREBIN)': [f\"{media:.4f} ± {dp:.4f}\" for media, dp in zip(PrecisionPosBal, PrecisionDPPosBal)],\n",
    "    'Recall (DREBIN)': [f\"{media:.4f} ± {dp:.4f}\" for media, dp in zip(RecallPosBal, RecallDPPosBal)],\n",
    "    'F1 Score': [f\"{media:.4f} ± {dp:.4f}\" for media, dp in zip(F1_scorePosBal, F1_scoreDPPosBal)],\n",
    "    'AUC RoC': [f\"{media:.4f} ± {dp:.4f}\" for media, dp in zip(Roc_aucPosBal, Roc_aucDPPosBal)]\n",
    "})\n",
    "\n",
    "# Função para destacar o maior valor de cada coluna\n",
    "def highlight_max(s):\n",
    "    is_max = s == s.max()\n",
    "    return ['background-color: green' if v else '' for v in is_max]\n",
    "\n",
    "# Aplicar a função de destaque apenas para as colunas numéricas\n",
    "numeric_columns = df.columns[1:]\n",
    "styled_df = df.style.apply(highlight_max, subset=numeric_columns)\n",
    "\n",
    "# Definir a cor do texto para a tabela\n",
    "styled_df.set_properties(**{'color': 'white'}, subset=pd.IndexSlice[:, :])\n",
    "\n",
    "# Exibir o DataFrame estilizado no Jupyter Notebook\n",
    "styled_df\n"
   ]
  },
  {
   "cell_type": "markdown",
   "metadata": {},
   "source": [
    "### Bagging após o Balanceamento"
   ]
  },
  {
   "cell_type": "code",
   "execution_count": 24,
   "metadata": {},
   "outputs": [
    {
     "name": "stdout",
     "output_type": "stream",
     "text": [
      "Acurácia do modelo Bagging com Decision Tree: 0.9853387874124174\n",
      "Precisão do modelo Bagging com Decision Tree: 0.9805509884909973\n",
      "Recall do modelo Bagging com Decision Tree: 0.9903203596452148\n",
      "F1-score do modelo Bagging com Decision Tree: 0.9854114612718626\n",
      "AUC ROC do modelo Bagging com Decision Tree: 0.9853387874124175\n",
      "Matriz de confusão do modelo Bagging com Decision Tree:\n",
      "[[24206   485]\n",
      " [  239 24452]]\n"
     ]
    }
   ],
   "source": [
    "# Definir o classificador Decision Tree\n",
    "modelo_arvore = DecisionTreeClassifier(criterion='gini')\n",
    "\n",
    "# Definir o classificador de Bagging com Decision Tree como base\n",
    "bagging_clf = BaggingClassifier(estimator = modelo_arvore, n_estimators=30)\n",
    "\n",
    "# Treinar o modelo Bagging\n",
    "bagging_clf.fit(x_train, y_train)\n",
    "\n",
    "# Prever usando o modelo Bagging\n",
    "y_pred = bagging_clf.predict(x_test)\n",
    "\n",
    "# Avaliar a precisão do modelo\n",
    "accuracy_bagging = accuracy_score(y_test, y_pred)\n",
    "precision_bagging = precision_score(y_test, y_pred)\n",
    "recall_bagging = recall_score(y_test, y_pred)\n",
    "f1_score_bagging = f1_score(y_test, y_pred)\n",
    "auc_roc_bagging = roc_auc_score(y_test, y_pred)\n",
    "\n",
    "\n",
    "print(\"Acurácia do modelo Bagging com Decision Tree:\", accuracy_bagging)\n",
    "print(\"Precisão do modelo Bagging com Decision Tree:\", precision_bagging)\n",
    "print(\"Recall do modelo Bagging com Decision Tree:\", recall_bagging)\n",
    "print(\"F1-score do modelo Bagging com Decision Tree:\", f1_score_bagging)\n",
    "print(\"AUC ROC do modelo Bagging com Decision Tree:\", auc_roc_bagging)\n",
    "\n",
    "# Matriz de confusão\n",
    "conf_matrix_bagging = confusion_matrix(y_test, y_pred)\n",
    "print(\"Matriz de confusão do modelo Bagging com Decision Tree:\")\n",
    "print(conf_matrix_bagging)\n",
    "\n",
    "# Adicione a acurácia à lista de acurácias do Bagging\n",
    "AcurracyBaggingPosBal.append(accuracy_bagging)\n",
    "PrecisionBaggingPosBal.append(precision_bagging)\n",
    "RecallBaggingPosBal.append(recall_bagging)\n",
    "F1BaggingPosBal.append(f1_score_bagging)\n",
    "Roc_aucBaggingPosBal.append(auc_roc_bagging)\n",
    "\n"
   ]
  },
  {
   "cell_type": "code",
   "execution_count": 25,
   "metadata": {},
   "outputs": [
    {
     "name": "stdout",
     "output_type": "stream",
     "text": [
      "Acurácia do modelo Bagging com Naive Bayes: 0.5430116236685432\n",
      "Precisão do modelo Bagging com Naive Bayes: 0.5243969676085458\n",
      "Recall do modelo Bagging com Naive Bayes: 0.9245069053501276\n",
      "F1-score do modelo Bagging com Naive Bayes: 0.6692074287975843\n",
      "AUC ROC do modelo Bagging com Naive Bayes: 0.5430116236685433\n",
      "Matriz de confusão do modelo Bagging com Naive Bayes:\n",
      "[[ 3988 20703]\n",
      " [ 1864 22827]]\n"
     ]
    }
   ],
   "source": [
    "# Inicializar o modelo de Naive Bayes com distribuição de Bernoulli\n",
    "modelo_naive_bayes = BernoulliNB()\n",
    "\n",
    "# Definir o classificador de Bagging com Naive Bayes como base\n",
    "bagging_clf = BaggingClassifier(estimator=modelo_naive_bayes, n_estimators=30)\n",
    "\n",
    "# Treinar o modelo Bagging\n",
    "bagging_clf.fit(x_train, y_train)\n",
    "\n",
    "# Prever usando o modelo Bagging\n",
    "y_pred = bagging_clf.predict(x_test)\n",
    "\n",
    "# Avaliar a precisão do modelo\n",
    "accuracy_bagging = accuracy_score(y_test, y_pred)\n",
    "precision_bagging = precision_score(y_test, y_pred)\n",
    "recall_bagging = recall_score(y_test, y_pred)\n",
    "f1_score_bagging = f1_score(y_test, y_pred)\n",
    "auc_roc_bagging = roc_auc_score(y_test, y_pred)\n",
    "\n",
    "\n",
    "print(\"Acurácia do modelo Bagging com Naive Bayes:\", accuracy_bagging)\n",
    "print(\"Precisão do modelo Bagging com Naive Bayes:\", precision_bagging)\n",
    "print(\"Recall do modelo Bagging com Naive Bayes:\", recall_bagging)\n",
    "print(\"F1-score do modelo Bagging com Naive Bayes:\", f1_score_bagging)\n",
    "print(\"AUC ROC do modelo Bagging com Naive Bayes:\", auc_roc_bagging)\n",
    "\n",
    "# Matriz de confusão\n",
    "conf_matrix_bagging = confusion_matrix(y_test, y_pred)\n",
    "print(\"Matriz de confusão do modelo Bagging com Naive Bayes:\")\n",
    "print(conf_matrix_bagging)\n",
    "\n",
    "# Adicione a acurácia à lista de acurácias do Bagging\n",
    "AcurracyBaggingPosBal.append(accuracy_bagging)\n",
    "PrecisionBaggingPosBal.append(precision_bagging)\n",
    "RecallBaggingPosBal.append(recall_bagging)\n",
    "F1BaggingPosBal.append(f1_score_bagging)\n",
    "Roc_aucBaggingPosBal.append(auc_roc_bagging)\n"
   ]
  },
  {
   "cell_type": "code",
   "execution_count": 26,
   "metadata": {},
   "outputs": [
    {
     "name": "stdout",
     "output_type": "stream",
     "text": [
      "Acurácia do modelo Bagging com MLP: 0.9437244340042931\n",
      "Precisão do modelo Bagging com MLP: 0.9392943063352045\n",
      "Recall do modelo Bagging com MLP: 0.9487667571179782\n",
      "F1-score do modelo Bagging com MLP: 0.9440067699623219\n",
      "AUC ROC do modelo Bagging com MLP: 0.943724434004293\n",
      "Matriz de confusão do modelo Bagging com MLP:\n",
      "[[23177  1514]\n",
      " [ 1265 23426]]\n"
     ]
    }
   ],
   "source": [
    "# Definir o classificador base (MLP)\n",
    "modelo_mlp = MLPClassifier(hidden_layer_sizes=(100), max_iter=1000)\n",
    "\n",
    "# Definir o classificador de Bagging com MLP como base\n",
    "bagging_clf = BaggingClassifier(estimator=modelo_mlp, n_estimators=30)\n",
    "\n",
    "# Treinar o modelo Bagging\n",
    "bagging_clf.fit(x_train, y_train)\n",
    "\n",
    "# Prever usando o modelo Bagging\n",
    "y_pred = bagging_clf.predict(x_test)\n",
    "\n",
    "# Avaliar a precisão do modelo\n",
    "accuracy_bagging = accuracy_score(y_test, y_pred)\n",
    "precision_bagging = precision_score(y_test, y_pred)\n",
    "recall_bagging = recall_score(y_test, y_pred)\n",
    "f1_score_bagging = f1_score(y_test, y_pred)\n",
    "auc_roc_bagging = roc_auc_score(y_test, y_pred)\n",
    "\n",
    "\n",
    "print(\"Acurácia do modelo Bagging com MLP:\", accuracy_bagging)\n",
    "print(\"Precisão do modelo Bagging com MLP:\", precision_bagging)\n",
    "print(\"Recall do modelo Bagging com MLP:\", recall_bagging)\n",
    "print(\"F1-score do modelo Bagging com MLP:\", f1_score_bagging)\n",
    "print(\"AUC ROC do modelo Bagging com MLP:\", auc_roc_bagging)\n",
    "\n",
    "# Matriz de confusão\n",
    "conf_matrix_bagging = confusion_matrix(y_test, y_pred)\n",
    "print(\"Matriz de confusão do modelo Bagging com MLP:\")\n",
    "print(conf_matrix_bagging)\n",
    "\n",
    "# Adicione a acurácia à lista de acurácias do Bagging\n",
    "AcurracyBaggingPosBal.append(accuracy_bagging)\n",
    "PrecisionBaggingPosBal.append(precision_bagging)\n",
    "RecallBaggingPosBal.append(recall_bagging)\n",
    "F1BaggingPosBal.append(f1_score_bagging)\n",
    "Roc_aucBaggingPosBal.append(auc_roc_bagging)\n"
   ]
  },
  {
   "cell_type": "code",
   "execution_count": 27,
   "metadata": {},
   "outputs": [
    {
     "name": "stdout",
     "output_type": "stream",
     "text": [
      "Acurácia do modelo Bagging com KNN: 0.9719533433234782\n",
      "Precisão do modelo Bagging com KNN: 0.9543788505030024\n",
      "Recall do modelo Bagging com KNN: 0.9912923737394193\n",
      "F1-score do modelo Bagging com KNN: 0.9724854480799412\n",
      "AUC ROC do modelo Bagging com KNN: 0.9719533433234783\n",
      "Matriz de confusão do modelo Bagging com KNN:\n",
      "[[23521  1170]\n",
      " [  215 24476]]\n"
     ]
    }
   ],
   "source": [
    "#inicializar o modelo KNN\n",
    "modelo_knn = KNeighborsClassifier(n_neighbors=7)  # Escolha o número de vizinhos desejado\n",
    "\n",
    "# Definir o classificador de Bagging com KNN como base\n",
    "bagging_clf = BaggingClassifier(estimator=modelo_knn, n_estimators=30)\n",
    "\n",
    "# Treinar o modelo Bagging\n",
    "bagging_clf.fit(x_train, y_train)\n",
    "\n",
    "# Prever usando o modelo Bagging\n",
    "y_pred = bagging_clf.predict(x_test)\n",
    "\n",
    "# Avaliar a precisão do modelo\n",
    "accuracy_bagging = accuracy_score(y_test, y_pred)\n",
    "precision_bagging = precision_score(y_test, y_pred)\n",
    "recall_bagging = recall_score(y_test, y_pred)\n",
    "f1_score_bagging = f1_score(y_test, y_pred)\n",
    "auc_roc_bagging = roc_auc_score(y_test, y_pred)\n",
    "\n",
    "\n",
    "print(\"Acurácia do modelo Bagging com KNN:\", accuracy_bagging)\n",
    "print(\"Precisão do modelo Bagging com KNN:\", precision_bagging)\n",
    "print(\"Recall do modelo Bagging com KNN:\", recall_bagging)\n",
    "print(\"F1-score do modelo Bagging com KNN:\", f1_score_bagging)\n",
    "print(\"AUC ROC do modelo Bagging com KNN:\", auc_roc_bagging)\n",
    "\n",
    "# Matriz de confusão\n",
    "conf_matrix_bagging = confusion_matrix(y_test, y_pred)\n",
    "print(\"Matriz de confusão do modelo Bagging com KNN:\")\n",
    "print(conf_matrix_bagging)\n",
    "\n",
    "# Adicione a acurácia à lista de acurácias do Bagging\n",
    "AcurracyBaggingPosBal.append(accuracy_bagging)\n",
    "PrecisionBaggingPosBal.append(precision_bagging)\n",
    "RecallBaggingPosBal.append(recall_bagging)\n",
    "F1BaggingPosBal.append(f1_score_bagging)\n",
    "Roc_aucBaggingPosBal.append(auc_roc_bagging)\n"
   ]
  },
  {
   "cell_type": "code",
   "execution_count": 28,
   "metadata": {},
   "outputs": [
    {
     "name": "stdout",
     "output_type": "stream",
     "text": [
      "╒════╤═══════════════════╤═════════════════════╤═════════════════════╤═══════════════════╤════════════╤═══════════╕\n",
      "│    │ Modelos Bagging   │   Acuracia (DREBIN) │   Precisão (DREBIN) │   Recall (DREBIN) │   F1 Score │   AUC ROC │\n",
      "╞════╪═══════════════════╪═════════════════════╪═════════════════════╪═══════════════════╪════════════╪═══════════╡\n",
      "│  0 │ Decision Tree     │              0.9853 │              0.9806 │            0.9903 │     0.9854 │    0.9853 │\n",
      "├────┼───────────────────┼─────────────────────┼─────────────────────┼───────────────────┼────────────┼───────────┤\n",
      "│  1 │ Naive Bayes       │              0.5430 │              0.5244 │            0.9245 │     0.6692 │    0.5430 │\n",
      "├────┼───────────────────┼─────────────────────┼─────────────────────┼───────────────────┼────────────┼───────────┤\n",
      "│  2 │ MLP               │              0.9437 │              0.9393 │            0.9488 │     0.9440 │    0.9437 │\n",
      "├────┼───────────────────┼─────────────────────┼─────────────────────┼───────────────────┼────────────┼───────────┤\n",
      "│  3 │ KNN               │              0.9720 │              0.9544 │            0.9913 │     0.9725 │    0.9720 │\n",
      "╘════╧═══════════════════╧═════════════════════╧═════════════════════╧═══════════════════╧════════════╧═══════════╛\n"
     ]
    }
   ],
   "source": [
    "Modelos = ['Decision Tree', 'Naive Bayes', 'MLP', 'KNN']\n",
    "# Criar um DataFrame do Pandas com os valores das variáveis\n",
    "dfB = pd.DataFrame({'Modelos Bagging': Modelos, 'Acuracia (DREBIN)': AcurracyBaggingPosBal,\n",
    "                    'Precisão (DREBIN)': PrecisionBaggingPosBal, 'Recall (DREBIN)':RecallBaggingPosBal, \n",
    "                    'F1 Score': F1BaggingPosBal, 'AUC ROC': Roc_aucBaggingPosBal})\n",
    "\n",
    "print(tabulate(dfB, headers='keys', tablefmt='fancy_grid', floatfmt=\".4f\"))"
   ]
  },
  {
   "cell_type": "markdown",
   "metadata": {},
   "source": [
    "### Resultados"
   ]
  },
  {
   "cell_type": "code",
   "execution_count": 29,
   "metadata": {},
   "outputs": [
    {
     "data": {
      "text/html": [
       "<style type=\"text/css\">\n",
       "#T_71ba6_row0_col0, #T_71ba6_row0_col2, #T_71ba6_row1_col0, #T_71ba6_row1_col1, #T_71ba6_row1_col2, #T_71ba6_row1_col3, #T_71ba6_row1_col4, #T_71ba6_row1_col5, #T_71ba6_row2_col0, #T_71ba6_row2_col1, #T_71ba6_row2_col3, #T_71ba6_row2_col4, #T_71ba6_row2_col5, #T_71ba6_row3_col0, #T_71ba6_row3_col1, #T_71ba6_row3_col2, #T_71ba6_row3_col3, #T_71ba6_row3_col4, #T_71ba6_row3_col5 {\n",
       "  color: white;\n",
       "}\n",
       "#T_71ba6_row0_col1, #T_71ba6_row0_col3, #T_71ba6_row0_col4, #T_71ba6_row0_col5, #T_71ba6_row2_col2 {\n",
       "  background-color: green;\n",
       "  color: white;\n",
       "}\n",
       "</style>\n",
       "<table id=\"T_71ba6\">\n",
       "  <thead>\n",
       "    <tr>\n",
       "      <th class=\"blank level0\" >&nbsp;</th>\n",
       "      <th id=\"T_71ba6_level0_col0\" class=\"col_heading level0 col0\" >Modelos</th>\n",
       "      <th id=\"T_71ba6_level0_col1\" class=\"col_heading level0 col1\" >Acuracia (DREBIN)</th>\n",
       "      <th id=\"T_71ba6_level0_col2\" class=\"col_heading level0 col2\" >Precisão (DREBIN)</th>\n",
       "      <th id=\"T_71ba6_level0_col3\" class=\"col_heading level0 col3\" >Recall (DREBIN)</th>\n",
       "      <th id=\"T_71ba6_level0_col4\" class=\"col_heading level0 col4\" >F1 Score</th>\n",
       "      <th id=\"T_71ba6_level0_col5\" class=\"col_heading level0 col5\" >AUC RoC</th>\n",
       "    </tr>\n",
       "  </thead>\n",
       "  <tbody>\n",
       "    <tr>\n",
       "      <th id=\"T_71ba6_level0_row0\" class=\"row_heading level0 row0\" >0</th>\n",
       "      <td id=\"T_71ba6_row0_col0\" class=\"data row0 col0\" >Decision Tree</td>\n",
       "      <td id=\"T_71ba6_row0_col1\" class=\"data row0 col1\" >0.9817 ± 0.0007</td>\n",
       "      <td id=\"T_71ba6_row0_col2\" class=\"data row0 col2\" >0.7713 ± 0.0106</td>\n",
       "      <td id=\"T_71ba6_row0_col3\" class=\"data row0 col3\" >0.8194 ± 0.0128</td>\n",
       "      <td id=\"T_71ba6_row0_col4\" class=\"data row0 col4\" >0.7945 ± 0.0077</td>\n",
       "      <td id=\"T_71ba6_row0_col5\" class=\"data row0 col5\" >0.9042 ± 0.0063</td>\n",
       "    </tr>\n",
       "    <tr>\n",
       "      <th id=\"T_71ba6_level0_row1\" class=\"row_heading level0 row1\" >1</th>\n",
       "      <td id=\"T_71ba6_row1_col0\" class=\"data row1 col0\" >Naive Bayes</td>\n",
       "      <td id=\"T_71ba6_row1_col1\" class=\"data row1 col1\" >0.9569 ± 0.0000</td>\n",
       "      <td id=\"T_71ba6_row1_col2\" class=\"data row1 col2\" >0.0000 ± 0.0000</td>\n",
       "      <td id=\"T_71ba6_row1_col3\" class=\"data row1 col3\" >0.0000 ± 0.0000</td>\n",
       "      <td id=\"T_71ba6_row1_col4\" class=\"data row1 col4\" >0.0000 ± 0.0000</td>\n",
       "      <td id=\"T_71ba6_row1_col5\" class=\"data row1 col5\" >0.5000 ± 0.0000</td>\n",
       "    </tr>\n",
       "    <tr>\n",
       "      <th id=\"T_71ba6_level0_row2\" class=\"row_heading level0 row2\" >2</th>\n",
       "      <td id=\"T_71ba6_row2_col0\" class=\"data row2 col0\" >MLP</td>\n",
       "      <td id=\"T_71ba6_row2_col1\" class=\"data row2 col1\" >0.9769 ± 0.0011</td>\n",
       "      <td id=\"T_71ba6_row2_col2\" class=\"data row2 col2\" >0.8174 ± 0.0327</td>\n",
       "      <td id=\"T_71ba6_row2_col3\" class=\"data row2 col3\" >0.6016 ± 0.0282</td>\n",
       "      <td id=\"T_71ba6_row2_col4\" class=\"data row2 col4\" >0.6920 ± 0.0149</td>\n",
       "      <td id=\"T_71ba6_row2_col5\" class=\"data row2 col5\" >0.7977 ± 0.0136</td>\n",
       "    </tr>\n",
       "    <tr>\n",
       "      <th id=\"T_71ba6_level0_row3\" class=\"row_heading level0 row3\" >3</th>\n",
       "      <td id=\"T_71ba6_row3_col0\" class=\"data row3 col0\" >KNN</td>\n",
       "      <td id=\"T_71ba6_row3_col1\" class=\"data row3 col1\" >0.9814 ± 0.0007</td>\n",
       "      <td id=\"T_71ba6_row3_col2\" class=\"data row3 col2\" >0.8136 ± 0.0114</td>\n",
       "      <td id=\"T_71ba6_row3_col3\" class=\"data row3 col3\" >0.7383 ± 0.0134</td>\n",
       "      <td id=\"T_71ba6_row3_col4\" class=\"data row3 col4\" >0.7740 ± 0.0089</td>\n",
       "      <td id=\"T_71ba6_row3_col5\" class=\"data row3 col5\" >0.8653 ± 0.0066</td>\n",
       "    </tr>\n",
       "  </tbody>\n",
       "</table>\n"
      ],
      "text/plain": [
       "<pandas.io.formats.style.Styler at 0x1950ed53c10>"
      ]
     },
     "execution_count": 29,
     "metadata": {},
     "output_type": "execute_result"
    }
   ],
   "source": [
    "import pandas as pd\n",
    "\n",
    "# Definir os modelos\n",
    "Modelos = ['Decision Tree', 'Naive Bayes', 'MLP', 'KNN']\n",
    "\n",
    "# Criar um DataFrame do Pandas com os valores das variáveis\n",
    "df = pd.DataFrame({\n",
    "    'Modelos': Modelos,\n",
    "    'Acuracia (DREBIN)': [f\"{media:.4f} ± {dp:.4f}\" for media, dp in zip(Acurracy, AcurracyDP)],\n",
    "    'Precisão (DREBIN)': [f\"{media:.4f} ± {dp:.4f}\" for media, dp in zip(Precision, PrecisionDP)],\n",
    "    'Recall (DREBIN)': [f\"{media:.4f} ± {dp:.4f}\" for media, dp in zip(Recall, RecallDP)],\n",
    "    'F1 Score': [f\"{media:.4f} ± {dp:.4f}\" for media, dp in zip(F1_score, F1_scoreDP)],\n",
    "    'AUC RoC': [f\"{media:.4f} ± {dp:.4f}\" for media, dp in zip(Roc_auc, Roc_aucDP)]\n",
    "})\n",
    "\n",
    "# Função para destacar o maior valor de cada coluna\n",
    "def highlight_max(s):\n",
    "    is_max = s == s.max()\n",
    "    return ['background-color: green' if v else '' for v in is_max]\n",
    "\n",
    "# Aplicar a função de destaque apenas para as colunas numéricas\n",
    "numeric_columns = df.columns[1:]\n",
    "styled_df = df.style.apply(highlight_max, subset=numeric_columns)\n",
    "\n",
    "# Definir a cor do texto para a tabela\n",
    "styled_df.set_properties(**{'color': 'white'}, subset=pd.IndexSlice[:, :])\n",
    "\n",
    "# Exibir o DataFrame estilizado no Jupyter Notebook\n",
    "styled_df\n"
   ]
  },
  {
   "cell_type": "code",
   "execution_count": 41,
   "metadata": {},
   "outputs": [
    {
     "data": {
      "text/html": [
       "<style type=\"text/css\">\n",
       "#T_c8259_row0_col0, #T_c8259_row1_col0, #T_c8259_row1_col1, #T_c8259_row1_col2, #T_c8259_row1_col3, #T_c8259_row1_col4, #T_c8259_row1_col5, #T_c8259_row2_col0, #T_c8259_row2_col1, #T_c8259_row2_col2, #T_c8259_row2_col3, #T_c8259_row2_col4, #T_c8259_row2_col5, #T_c8259_row3_col0, #T_c8259_row3_col1, #T_c8259_row3_col2, #T_c8259_row3_col3, #T_c8259_row3_col4, #T_c8259_row3_col5 {\n",
       "  color: white;\n",
       "}\n",
       "#T_c8259_row0_col1, #T_c8259_row0_col2, #T_c8259_row0_col3, #T_c8259_row0_col4, #T_c8259_row0_col5 {\n",
       "  background-color: green;\n",
       "  color: white;\n",
       "}\n",
       "</style>\n",
       "<table id=\"T_c8259\">\n",
       "  <thead>\n",
       "    <tr>\n",
       "      <th class=\"blank level0\" >&nbsp;</th>\n",
       "      <th id=\"T_c8259_level0_col0\" class=\"col_heading level0 col0\" >Modelos</th>\n",
       "      <th id=\"T_c8259_level0_col1\" class=\"col_heading level0 col1\" >Acuracia (DREBIN)</th>\n",
       "      <th id=\"T_c8259_level0_col2\" class=\"col_heading level0 col2\" >Precisão (DREBIN)</th>\n",
       "      <th id=\"T_c8259_level0_col3\" class=\"col_heading level0 col3\" >Recall (DREBIN)</th>\n",
       "      <th id=\"T_c8259_level0_col4\" class=\"col_heading level0 col4\" >F1 Score</th>\n",
       "      <th id=\"T_c8259_level0_col5\" class=\"col_heading level0 col5\" >AUC RoC</th>\n",
       "    </tr>\n",
       "  </thead>\n",
       "  <tbody>\n",
       "    <tr>\n",
       "      <th id=\"T_c8259_level0_row0\" class=\"row_heading level0 row0\" >0</th>\n",
       "      <td id=\"T_c8259_row0_col0\" class=\"data row0 col0\" >Decision Tree</td>\n",
       "      <td id=\"T_c8259_row0_col1\" class=\"data row0 col1\" >0.9891</td>\n",
       "      <td id=\"T_c8259_row0_col2\" class=\"data row0 col2\" >0.9037</td>\n",
       "      <td id=\"T_c8259_row0_col3\" class=\"data row0 col3\" >0.8354</td>\n",
       "      <td id=\"T_c8259_row0_col4\" class=\"data row0 col4\" >0.8682</td>\n",
       "      <td id=\"T_c8259_row0_col5\" class=\"data row0 col5\" >0.9157</td>\n",
       "    </tr>\n",
       "    <tr>\n",
       "      <th id=\"T_c8259_level0_row1\" class=\"row_heading level0 row1\" >1</th>\n",
       "      <td id=\"T_c8259_row1_col0\" class=\"data row1 col0\" >Naive Bayes</td>\n",
       "      <td id=\"T_c8259_row1_col1\" class=\"data row1 col1\" >0.9569</td>\n",
       "      <td id=\"T_c8259_row1_col2\" class=\"data row1 col2\" >0.0000</td>\n",
       "      <td id=\"T_c8259_row1_col3\" class=\"data row1 col3\" >0.0000</td>\n",
       "      <td id=\"T_c8259_row1_col4\" class=\"data row1 col4\" >0.0000</td>\n",
       "      <td id=\"T_c8259_row1_col5\" class=\"data row1 col5\" >0.5000</td>\n",
       "    </tr>\n",
       "    <tr>\n",
       "      <th id=\"T_c8259_level0_row2\" class=\"row_heading level0 row2\" >2</th>\n",
       "      <td id=\"T_c8259_row2_col0\" class=\"data row2 col0\" >MLP</td>\n",
       "      <td id=\"T_c8259_row2_col1\" class=\"data row2 col1\" >0.9795</td>\n",
       "      <td id=\"T_c8259_row2_col2\" class=\"data row2 col2\" >0.8527</td>\n",
       "      <td id=\"T_c8259_row2_col3\" class=\"data row2 col3\" >0.6349</td>\n",
       "      <td id=\"T_c8259_row2_col4\" class=\"data row2 col4\" >0.7278</td>\n",
       "      <td id=\"T_c8259_row2_col5\" class=\"data row2 col5\" >0.8150</td>\n",
       "    </tr>\n",
       "    <tr>\n",
       "      <th id=\"T_c8259_level0_row3\" class=\"row_heading level0 row3\" >3</th>\n",
       "      <td id=\"T_c8259_row3_col0\" class=\"data row3 col0\" >KNN</td>\n",
       "      <td id=\"T_c8259_row3_col1\" class=\"data row3 col1\" >0.9823</td>\n",
       "      <td id=\"T_c8259_row3_col2\" class=\"data row3 col2\" >0.8183</td>\n",
       "      <td id=\"T_c8259_row3_col3\" class=\"data row3 col3\" >0.7572</td>\n",
       "      <td id=\"T_c8259_row3_col4\" class=\"data row3 col4\" >0.7865</td>\n",
       "      <td id=\"T_c8259_row3_col5\" class=\"data row3 col5\" >0.8748</td>\n",
       "    </tr>\n",
       "  </tbody>\n",
       "</table>\n"
      ],
      "text/plain": [
       "<pandas.io.formats.style.Styler at 0x19512643c10>"
      ]
     },
     "execution_count": 41,
     "metadata": {},
     "output_type": "execute_result"
    }
   ],
   "source": [
    "import pandas as pd\n",
    "array = [0,0,0,0,0]\n",
    "# Definir os modelos\n",
    "Modelos = ['Decision Tree', 'Naive Bayes', 'MLP', 'KNN']\n",
    "\n",
    "# Criar um DataFrame do Pandas com os valores das variáveis\n",
    "df = pd.DataFrame({\n",
    "    'Modelos': Modelos,\n",
    "    'Acuracia (DREBIN)': [f\"{media:.4f}\" for media, dp in zip(AcurracyBagging, array)],\n",
    "    'Precisão (DREBIN)': [f\"{media:.4f}\" for media, dp in zip(PrecisionBagging, array)],\n",
    "    'Recall (DREBIN)': [f\"{media:.4f}\" for media, dp in zip(RecallBagging, array)],\n",
    "    'F1 Score': [f\"{media:.4f}\" for media, dp in zip(F1Bagging, array)],\n",
    "    'AUC RoC': [f\"{media:.4f}\" for media, dp in zip(Roc_aucBagging, array)]\n",
    "})\n",
    "\n",
    "# Função para destacar o maior valor de cada coluna\n",
    "def highlight_max(s):\n",
    "    is_max = s == s.max()\n",
    "    return ['background-color: green' if v else '' for v in is_max]\n",
    "\n",
    "# Aplicar a função de destaque apenas para as colunas numéricas\n",
    "numeric_columns = df.columns[1:]\n",
    "styled_df = df.style.apply(highlight_max, subset=numeric_columns)\n",
    "\n",
    "# Definir a cor do texto para a tabela\n",
    "styled_df.set_properties(**{'color': 'white'}, subset=pd.IndexSlice[:, :])\n",
    "\n",
    "# Exibir o DataFrame estilizado no Jupyter Notebook\n",
    "styled_df\n"
   ]
  },
  {
   "cell_type": "code",
   "execution_count": 31,
   "metadata": {},
   "outputs": [
    {
     "data": {
      "text/html": [
       "<style type=\"text/css\">\n",
       "#T_40644_row0_col0, #T_40644_row0_col3, #T_40644_row1_col0, #T_40644_row1_col1, #T_40644_row1_col2, #T_40644_row1_col3, #T_40644_row1_col4, #T_40644_row1_col5, #T_40644_row2_col0, #T_40644_row2_col1, #T_40644_row2_col2, #T_40644_row2_col3, #T_40644_row2_col4, #T_40644_row2_col5, #T_40644_row3_col0, #T_40644_row3_col1, #T_40644_row3_col2, #T_40644_row3_col4, #T_40644_row3_col5 {\n",
       "  color: white;\n",
       "}\n",
       "#T_40644_row0_col1, #T_40644_row0_col2, #T_40644_row0_col4, #T_40644_row0_col5, #T_40644_row3_col3 {\n",
       "  background-color: green;\n",
       "  color: white;\n",
       "}\n",
       "</style>\n",
       "<table id=\"T_40644\">\n",
       "  <thead>\n",
       "    <tr>\n",
       "      <th class=\"blank level0\" >&nbsp;</th>\n",
       "      <th id=\"T_40644_level0_col0\" class=\"col_heading level0 col0\" >Modelos</th>\n",
       "      <th id=\"T_40644_level0_col1\" class=\"col_heading level0 col1\" >Acuracia (DREBIN)</th>\n",
       "      <th id=\"T_40644_level0_col2\" class=\"col_heading level0 col2\" >Precisão (DREBIN)</th>\n",
       "      <th id=\"T_40644_level0_col3\" class=\"col_heading level0 col3\" >Recall (DREBIN)</th>\n",
       "      <th id=\"T_40644_level0_col4\" class=\"col_heading level0 col4\" >F1 Score</th>\n",
       "      <th id=\"T_40644_level0_col5\" class=\"col_heading level0 col5\" >AUC RoC</th>\n",
       "    </tr>\n",
       "  </thead>\n",
       "  <tbody>\n",
       "    <tr>\n",
       "      <th id=\"T_40644_level0_row0\" class=\"row_heading level0 row0\" >0</th>\n",
       "      <td id=\"T_40644_row0_col0\" class=\"data row0 col0\" >Decision Tree</td>\n",
       "      <td id=\"T_40644_row0_col1\" class=\"data row0 col1\" >0.9812 ± 0.0006</td>\n",
       "      <td id=\"T_40644_row0_col2\" class=\"data row0 col2\" >0.9737 ± 0.0009</td>\n",
       "      <td id=\"T_40644_row0_col3\" class=\"data row0 col3\" >0.9891 ± 0.0011</td>\n",
       "      <td id=\"T_40644_row0_col4\" class=\"data row0 col4\" >0.9813 ± 0.0006</td>\n",
       "      <td id=\"T_40644_row0_col5\" class=\"data row0 col5\" >0.9812 ± 0.0006</td>\n",
       "    </tr>\n",
       "    <tr>\n",
       "      <th id=\"T_40644_level0_row1\" class=\"row_heading level0 row1\" >1</th>\n",
       "      <td id=\"T_40644_row1_col0\" class=\"data row1 col0\" >Naive Bayes</td>\n",
       "      <td id=\"T_40644_row1_col1\" class=\"data row1 col1\" >0.5451 ± 0.0012</td>\n",
       "      <td id=\"T_40644_row1_col2\" class=\"data row1 col2\" >0.5256 ± 0.0007</td>\n",
       "      <td id=\"T_40644_row1_col3\" class=\"data row1 col3\" >0.9255 ± 0.0013</td>\n",
       "      <td id=\"T_40644_row1_col4\" class=\"data row1 col4\" >0.6705 ± 0.0008</td>\n",
       "      <td id=\"T_40644_row1_col5\" class=\"data row1 col5\" >0.5451 ± 0.0012</td>\n",
       "    </tr>\n",
       "    <tr>\n",
       "      <th id=\"T_40644_level0_row2\" class=\"row_heading level0 row2\" >2</th>\n",
       "      <td id=\"T_40644_row2_col0\" class=\"data row2 col0\" >MLP</td>\n",
       "      <td id=\"T_40644_row2_col1\" class=\"data row2 col1\" >0.9337 ± 0.0025</td>\n",
       "      <td id=\"T_40644_row2_col2\" class=\"data row2 col2\" >0.9319 ± 0.0119</td>\n",
       "      <td id=\"T_40644_row2_col3\" class=\"data row2 col3\" >0.9361 ± 0.0147</td>\n",
       "      <td id=\"T_40644_row2_col4\" class=\"data row2 col4\" >0.9338 ± 0.0028</td>\n",
       "      <td id=\"T_40644_row2_col5\" class=\"data row2 col5\" >0.9337 ± 0.0025</td>\n",
       "    </tr>\n",
       "    <tr>\n",
       "      <th id=\"T_40644_level0_row3\" class=\"row_heading level0 row3\" >3</th>\n",
       "      <td id=\"T_40644_row3_col0\" class=\"data row3 col0\" >KNN</td>\n",
       "      <td id=\"T_40644_row3_col1\" class=\"data row3 col1\" >0.9707 ± 0.0009</td>\n",
       "      <td id=\"T_40644_row3_col2\" class=\"data row3 col2\" >0.9516 ± 0.0016</td>\n",
       "      <td id=\"T_40644_row3_col3\" class=\"data row3 col3\" >0.9919 ± 0.0013</td>\n",
       "      <td id=\"T_40644_row3_col4\" class=\"data row3 col4\" >0.9713 ± 0.0009</td>\n",
       "      <td id=\"T_40644_row3_col5\" class=\"data row3 col5\" >0.9707 ± 0.0009</td>\n",
       "    </tr>\n",
       "  </tbody>\n",
       "</table>\n"
      ],
      "text/plain": [
       "<pandas.io.formats.style.Styler at 0x1951355e190>"
      ]
     },
     "execution_count": 31,
     "metadata": {},
     "output_type": "execute_result"
    }
   ],
   "source": [
    "import pandas as pd\n",
    "\n",
    "# Definir os modelos\n",
    "Modelos = ['Decision Tree', 'Naive Bayes', 'MLP', 'KNN']\n",
    "\n",
    "# Criar um DataFrame do Pandas com os valores das variáveis\n",
    "df = pd.DataFrame({\n",
    "    'Modelos': Modelos,\n",
    "    'Acuracia (DREBIN)': [f\"{media:.4f} ± {dp:.4f}\" for media, dp in zip(AcurracyPosBal, AcurracyDPPosBal)],\n",
    "    'Precisão (DREBIN)': [f\"{media:.4f} ± {dp:.4f}\" for media, dp in zip(PrecisionPosBal, PrecisionDPPosBal)],\n",
    "    'Recall (DREBIN)': [f\"{media:.4f} ± {dp:.4f}\" for media, dp in zip(RecallPosBal, RecallDPPosBal)],\n",
    "    'F1 Score': [f\"{media:.4f} ± {dp:.4f}\" for media, dp in zip(F1_scorePosBal, F1_scoreDPPosBal)],\n",
    "    'AUC RoC': [f\"{media:.4f} ± {dp:.4f}\" for media, dp in zip(Roc_aucPosBal, Roc_aucDPPosBal)]\n",
    "})\n",
    "\n",
    "# Função para destacar o maior valor de cada coluna\n",
    "def highlight_max(s):\n",
    "    is_max = s == s.max()\n",
    "    return ['background-color: green' if v else '' for v in is_max]\n",
    "\n",
    "# Aplicar a função de destaque apenas para as colunas numéricas\n",
    "numeric_columns = df.columns[1:]\n",
    "styled_df = df.style.apply(highlight_max, subset=numeric_columns)\n",
    "\n",
    "# Definir a cor do texto para a tabela\n",
    "styled_df.set_properties(**{'color': 'white'}, subset=pd.IndexSlice[:, :])\n",
    "\n",
    "# Exibir o DataFrame estilizado no Jupyter Notebook\n",
    "styled_df\n"
   ]
  },
  {
   "cell_type": "code",
   "execution_count": 38,
   "metadata": {},
   "outputs": [
    {
     "data": {
      "text/html": [
       "<style type=\"text/css\">\n",
       "#T_6bf7c_row0_col0, #T_6bf7c_row0_col3, #T_6bf7c_row1_col0, #T_6bf7c_row1_col1, #T_6bf7c_row1_col2, #T_6bf7c_row1_col3, #T_6bf7c_row1_col4, #T_6bf7c_row1_col5, #T_6bf7c_row2_col0, #T_6bf7c_row2_col1, #T_6bf7c_row2_col2, #T_6bf7c_row2_col3, #T_6bf7c_row2_col4, #T_6bf7c_row2_col5, #T_6bf7c_row3_col0, #T_6bf7c_row3_col1, #T_6bf7c_row3_col2, #T_6bf7c_row3_col4, #T_6bf7c_row3_col5 {\n",
       "  color: white;\n",
       "}\n",
       "#T_6bf7c_row0_col1, #T_6bf7c_row0_col2, #T_6bf7c_row0_col4, #T_6bf7c_row0_col5, #T_6bf7c_row3_col3 {\n",
       "  background-color: green;\n",
       "  color: white;\n",
       "}\n",
       "</style>\n",
       "<table id=\"T_6bf7c\">\n",
       "  <thead>\n",
       "    <tr>\n",
       "      <th class=\"blank level0\" >&nbsp;</th>\n",
       "      <th id=\"T_6bf7c_level0_col0\" class=\"col_heading level0 col0\" >Modelos</th>\n",
       "      <th id=\"T_6bf7c_level0_col1\" class=\"col_heading level0 col1\" >Acuracia (DREBIN)</th>\n",
       "      <th id=\"T_6bf7c_level0_col2\" class=\"col_heading level0 col2\" >Precisão (DREBIN)</th>\n",
       "      <th id=\"T_6bf7c_level0_col3\" class=\"col_heading level0 col3\" >Recall (DREBIN)</th>\n",
       "      <th id=\"T_6bf7c_level0_col4\" class=\"col_heading level0 col4\" >F1 Score</th>\n",
       "      <th id=\"T_6bf7c_level0_col5\" class=\"col_heading level0 col5\" >AUC RoC</th>\n",
       "    </tr>\n",
       "  </thead>\n",
       "  <tbody>\n",
       "    <tr>\n",
       "      <th id=\"T_6bf7c_level0_row0\" class=\"row_heading level0 row0\" >0</th>\n",
       "      <td id=\"T_6bf7c_row0_col0\" class=\"data row0 col0\" >Decision Tree</td>\n",
       "      <td id=\"T_6bf7c_row0_col1\" class=\"data row0 col1\" >0.9853</td>\n",
       "      <td id=\"T_6bf7c_row0_col2\" class=\"data row0 col2\" >0.9806</td>\n",
       "      <td id=\"T_6bf7c_row0_col3\" class=\"data row0 col3\" >0.9903</td>\n",
       "      <td id=\"T_6bf7c_row0_col4\" class=\"data row0 col4\" >0.9854</td>\n",
       "      <td id=\"T_6bf7c_row0_col5\" class=\"data row0 col5\" >0.9853</td>\n",
       "    </tr>\n",
       "    <tr>\n",
       "      <th id=\"T_6bf7c_level0_row1\" class=\"row_heading level0 row1\" >1</th>\n",
       "      <td id=\"T_6bf7c_row1_col0\" class=\"data row1 col0\" >Naive Bayes</td>\n",
       "      <td id=\"T_6bf7c_row1_col1\" class=\"data row1 col1\" >0.5430</td>\n",
       "      <td id=\"T_6bf7c_row1_col2\" class=\"data row1 col2\" >0.5244</td>\n",
       "      <td id=\"T_6bf7c_row1_col3\" class=\"data row1 col3\" >0.9245</td>\n",
       "      <td id=\"T_6bf7c_row1_col4\" class=\"data row1 col4\" >0.6692</td>\n",
       "      <td id=\"T_6bf7c_row1_col5\" class=\"data row1 col5\" >0.5430</td>\n",
       "    </tr>\n",
       "    <tr>\n",
       "      <th id=\"T_6bf7c_level0_row2\" class=\"row_heading level0 row2\" >2</th>\n",
       "      <td id=\"T_6bf7c_row2_col0\" class=\"data row2 col0\" >MLP</td>\n",
       "      <td id=\"T_6bf7c_row2_col1\" class=\"data row2 col1\" >0.9437</td>\n",
       "      <td id=\"T_6bf7c_row2_col2\" class=\"data row2 col2\" >0.9393</td>\n",
       "      <td id=\"T_6bf7c_row2_col3\" class=\"data row2 col3\" >0.9488</td>\n",
       "      <td id=\"T_6bf7c_row2_col4\" class=\"data row2 col4\" >0.9440</td>\n",
       "      <td id=\"T_6bf7c_row2_col5\" class=\"data row2 col5\" >0.9437</td>\n",
       "    </tr>\n",
       "    <tr>\n",
       "      <th id=\"T_6bf7c_level0_row3\" class=\"row_heading level0 row3\" >3</th>\n",
       "      <td id=\"T_6bf7c_row3_col0\" class=\"data row3 col0\" >KNN</td>\n",
       "      <td id=\"T_6bf7c_row3_col1\" class=\"data row3 col1\" >0.9720</td>\n",
       "      <td id=\"T_6bf7c_row3_col2\" class=\"data row3 col2\" >0.9544</td>\n",
       "      <td id=\"T_6bf7c_row3_col3\" class=\"data row3 col3\" >0.9913</td>\n",
       "      <td id=\"T_6bf7c_row3_col4\" class=\"data row3 col4\" >0.9725</td>\n",
       "      <td id=\"T_6bf7c_row3_col5\" class=\"data row3 col5\" >0.9720</td>\n",
       "    </tr>\n",
       "  </tbody>\n",
       "</table>\n"
      ],
      "text/plain": [
       "<pandas.io.formats.style.Styler at 0x1951267e550>"
      ]
     },
     "execution_count": 38,
     "metadata": {},
     "output_type": "execute_result"
    }
   ],
   "source": [
    "import pandas as pd\n",
    "array = [0,0,0,0,0]\n",
    "# Definir os modelos\n",
    "Modelos = ['Decision Tree', 'Naive Bayes', 'MLP', 'KNN']\n",
    "\n",
    "# Criar um DataFrame do Pandas com os valores das variáveis\n",
    "df = pd.DataFrame({\n",
    "    'Modelos': Modelos,\n",
    "    'Acuracia (DREBIN)': [f\"{media:.4f}\" for media, dp in zip(AcurracyBaggingPosBal, array)],\n",
    "    'Precisão (DREBIN)': [f\"{media:.4f}\" for media, dp in zip(PrecisionBaggingPosBal, array)],\n",
    "    'Recall (DREBIN)': [f\"{media:.4f}\" for media, dp in zip(RecallBaggingPosBal, array)],\n",
    "    'F1 Score': [f\"{media:.4f}\" for media, dp in zip(F1BaggingPosBal, array)],\n",
    "    'AUC RoC': [f\"{media:.4f}\" for media, dp in zip(Roc_aucBaggingPosBal, array)]\n",
    "})\n",
    "\n",
    "# Função para destacar o maior valor de cada coluna\n",
    "def highlight_max(s):\n",
    "    is_max = s == s.max()\n",
    "    return ['background-color: green' if v else '' for v in is_max]\n",
    "\n",
    "# Aplicar a função de destaque apenas para as colunas numéricas\n",
    "numeric_columns = df.columns[1:]\n",
    "styled_df = df.style.apply(highlight_max, subset=numeric_columns)\n",
    "\n",
    "# Definir a cor do texto para a tabela\n",
    "styled_df.set_properties(**{'color': 'white'}, subset=pd.IndexSlice[:, :])\n",
    "\n",
    "# Exibir o DataFrame estilizado no Jupyter Notebook\n",
    "styled_df\n"
   ]
  }
 ],
 "metadata": {
  "kernelspec": {
   "display_name": "Python 3",
   "language": "python",
   "name": "python3"
  },
  "language_info": {
   "codemirror_mode": {
    "name": "ipython",
    "version": 3
   },
   "file_extension": ".py",
   "mimetype": "text/x-python",
   "name": "python",
   "nbconvert_exporter": "python",
   "pygments_lexer": "ipython3",
   "version": "3.11.4"
  }
 },
 "nbformat": 4,
 "nbformat_minor": 2
}
