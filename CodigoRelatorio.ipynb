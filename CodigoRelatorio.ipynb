{
 "cells": [
  {
   "cell_type": "code",
   "execution_count": 9,
   "metadata": {},
   "outputs": [],
   "source": [
    "import numpy as np\n",
    "import matplotlib.pyplot as plt\n",
    "from sklearn.ensemble import RandomForestClassifier\n",
    "from imblearn.over_sampling import SMOTE\n",
    "from sklearn.model_selection import train_test_split\n",
    "import sys\n",
    "from os import listdir\n",
    "from os.path import isfile, join\n",
    "import pandas as pd\n",
    "from sklearn.tree import DecisionTreeClassifier\n",
    "from sklearn.metrics import accuracy_score\n",
    "from sklearn.naive_bayes import BernoulliNB\n",
    "from sklearn.neural_network import MLPClassifier\n",
    "from sklearn.svm import SVC\n",
    "from sklearn.neighbors import KNeighborsClassifier\n",
    "from sklearn.ensemble import BaggingClassifier\n",
    "from sklearn.datasets import make_classification\n",
    "from sklearn.metrics import accuracy_score, precision_score, recall_score, f1_score, confusion_matrix, roc_auc_score\n",
    "import pandas as pd\n",
    "from sklearn.tree import DecisionTreeClassifier\n",
    "from sklearn.ensemble import BaggingClassifier\n",
    "from sklearn.metrics import accuracy_score, precision_score, recall_score, f1_score, roc_auc_score, confusion_matrix\n",
    "from tabulate import tabulate\n",
    "from tqdm import tqdm"
   ]
  },
  {
   "cell_type": "code",
   "execution_count": 2,
   "metadata": {},
   "outputs": [],
   "source": [
    "FEATURES_SET = {\n",
    "    \"feature\": 1,\n",
    "    \"permission\": 2,\n",
    "    \"activity\": 3,\n",
    "    \"service_receiver\": 3,\n",
    "    \"provider\": 3,\n",
    "    \"service\": 3,\n",
    "    \"intent\": 4,\n",
    "    \"api_call\": 5,\n",
    "    \"real_permission\": 6,\n",
    "    \"call\": 7,\n",
    "    \"url\": 8\n",
    "}\n",
    "\n",
    "\n",
    "def count_feature_set(lines):\n",
    "    \"\"\"\n",
    "    Count how many features belong to a specific set\n",
    "    :param lines: features in the text file\n",
    "    :return:\n",
    "    \"\"\"\n",
    "    features_map = {x: 0 for x in range(1, 9)}\n",
    "    for l in lines:\n",
    "        if l != \"\\n\":\n",
    "            set = l.split(\"::\")[0]\n",
    "            features_map[FEATURES_SET[set]] += 1\n",
    "    features = []\n",
    "    for i in range(1, 9):\n",
    "        features.append(features_map[i])\n",
    "    return features\n"
   ]
  },
  {
   "cell_type": "code",
   "execution_count": 3,
   "metadata": {},
   "outputs": [
    {
     "name": "stdout",
     "output_type": "stream",
     "text": [
      "Previous data not loaded. Attempt to read data ...\n",
      "Reading csv file for ground truth ...\n",
      "Reading positive and negative texts ...\n"
     ]
    },
    {
     "name": "stderr",
     "output_type": "stream",
     "text": [
      "100%|██████████| 129013/129013 [00:01<00:00, 70960.38it/s]\n"
     ]
    },
    {
     "name": "stdout",
     "output_type": "stream",
     "text": [
      "Extracting features ...\n"
     ]
    },
    {
     "name": "stderr",
     "output_type": "stream",
     "text": [
      "100%|██████████| 5560/5560 [00:18<00:00, 295.20it/s]\n",
      "100%|██████████| 5560/5560 [00:25<00:00, 218.34it/s]"
     ]
    },
    {
     "name": "stdout",
     "output_type": "stream",
     "text": [
      "Data is read successfully:\n",
      "(11120, 8) (11120,)\n",
      "Saving data under data_numpy directory ...\n"
     ]
    },
    {
     "name": "stderr",
     "output_type": "stream",
     "text": [
      "\n"
     ]
    }
   ],
   "source": [
    "def read(LOAD_DATA=False):\n",
    "    if LOAD_DATA:\n",
    "        print(\"Previous data not loaded. Attempt to read data ...\")\n",
    "        mypath = r\"C:\\Users\\josev\\Desktop\\ProjetoPessoalNN\\GeorgeDarminton\\Drebin\\MetaData\\feature_vectors\\feature_vectors\"\n",
    "        onlyfiles = [f for f in listdir(mypath) if isfile(join(mypath, f))]\n",
    "\n",
    "        print(\"Reading csv file for ground truth ...\")\n",
    "        ground_truth = np.loadtxt(r\"C:\\Users\\josev\\Desktop\\ProjetoPessoalNN\\GeorgeDarminton\\Drebin\\MetaData\\sha256_family.csv\", delimiter=\",\", skiprows=1, dtype=str)\n",
    "        # print ground_truth.shape\n",
    "        # families = np.unique(ground_truth[:, 1])\n",
    "        # print families\n",
    "        # print len(families)\n",
    "\n",
    "        print(\"Reading positive and negative texts ...\")\n",
    "        pos = []\n",
    "        neg = []\n",
    "        for virus in tqdm(onlyfiles):\n",
    "            if virus in ground_truth[:, 0]:\n",
    "                pos.append(virus)\n",
    "            else:\n",
    "                if len(neg) < 5560:\n",
    "                #if len(neg) < 22240:\n",
    "                    neg.append(virus)\n",
    "\n",
    "        print(\"Extracting features ...\")\n",
    "        x = []\n",
    "        y = []\n",
    "        for text_file in tqdm(pos):\n",
    "            sys.stdin = open(\"%s/%s\" % (mypath, text_file))\n",
    "            features = sys.stdin.readlines()\n",
    "            sample = count_feature_set(features)\n",
    "            x.append(sample)\n",
    "            y.append(1)\n",
    "\n",
    "        for text_file in tqdm(neg):\n",
    "            sys.stdin = open(\"%s/%s\" % (mypath, text_file))\n",
    "            features = sys.stdin.readlines()\n",
    "            sample = count_feature_set(features)\n",
    "            x.append(sample)\n",
    "            y.append(0)\n",
    "\n",
    "        print(\"Data is read successfully:\")\n",
    "        x = np.array(x)\n",
    "        y = np.array(y)\n",
    "        print(x.shape, y.shape)\n",
    "\n",
    "        print(\"Saving data under data_numpy directory ...\")\n",
    "        np.save(r\"C:\\Users\\josev\\Desktop\\ProjetoPessoalNN\\GeorgeDarminton/x_all.npy\", x)\n",
    "        np.save(r\"C:\\Users\\josev\\Desktop\\ProjetoPessoalNN\\GeorgeDarminton/y_all.npy\", y)\n",
    "\n",
    "        return x, y\n",
    "    else:\n",
    "        print(\"Loading previous data ...\")\n",
    "        x_ = np.load(r\"C:\\Users\\josev\\Desktop\\ProjetoPessoalNN\\GeorgeDarminton/x_all.npy\")\n",
    "        y_ = np.load(r\"C:\\Users\\josev\\Desktop\\ProjetoPessoalNN\\GeorgeDarminton/y_all.npy\")\n",
    "        print(x_.shape, y_.shape)\n",
    "        # print x == x_, y == y_\n",
    "        return x_, y_\n",
    "\n",
    "\n",
    "def map_family_to_category(families):\n",
    "    out = {}\n",
    "    count = 1\n",
    "    for family in families:\n",
    "        out[family] = count\n",
    "        count += 1\n",
    "    return out\n",
    "\n",
    "\n",
    "if __name__ == \"__main__\":\n",
    "    x, y = read(LOAD_DATA=True)"
   ]
  },
  {
   "cell_type": "code",
   "execution_count": 4,
   "metadata": {},
   "outputs": [
    {
     "name": "stdout",
     "output_type": "stream",
     "text": [
      "Loading previous data ...\n",
      "(11120, 8) (11120,)\n",
      "(8896, 8) (8896,)\n",
      "(2224, 8) (2224,)\n"
     ]
    }
   ],
   "source": [
    "x_all, y_all = read(LOAD_DATA=False)\n",
    "x_train, x_test, y_train, y_test = train_test_split(x_all, y_all, test_size=0.2, stratify=y_all)\n",
    "print(x_train.shape, y_train.shape)\n",
    "print(x_test.shape, y_test.shape)"
   ]
  },
  {
   "cell_type": "code",
   "execution_count": null,
   "metadata": {},
   "outputs": [],
   "source": [
    "# # Contagem de classes antes da divisão\n",
    "# y_all_counts = pd.Series(y_all).value_counts(normalize=True)\n",
    "\n",
    "# # Divisão dos dados em treinamento e teste\n",
    "# x_train, x_test, y_train, y_test = train_test_split(x_all, y_all, test_size=0.2, random_state=42, stratify=y_all)\n",
    "\n",
    "# # Contagem de classes após a divisão\n",
    "# y_train_counts = pd.Series(y_train).value_counts(normalize=True)\n",
    "# y_test_counts = pd.Series(y_test).value_counts(normalize=True)\n",
    "\n",
    "# # Verificação se as proporções foram mantidas\n",
    "# print(\"Proporções das classes no conjunto original:\")\n",
    "# print(y_all_counts)\n",
    "# print(\"\\nProporções das classes no conjunto de treinamento:\")\n",
    "# print(y_train_counts)\n",
    "# print(\"\\nProporções das classes no conjunto de teste:\")\n",
    "# print(y_test_counts)"
   ]
  },
  {
   "cell_type": "code",
   "execution_count": 6,
   "metadata": {},
   "outputs": [],
   "source": [
    "####### DP = Desvio Padrão; PosBal = Pos Balanceamento\n",
    "Acurracy = []\n",
    "Precision = []\n",
    "Recall = []\n",
    "F1_score = []\n",
    "Roc_auc = []\n",
    "######\n",
    "AcurracyDP = []\n",
    "PrecisionDP = []\n",
    "RecallDP = []\n",
    "F1_scoreDP = []\n",
    "Roc_aucDP = []\n",
    "######\n",
    "AcurracyBagging = []\n",
    "PrecisionBagging = []\n",
    "RecallBagging = []\n",
    "F1Bagging = []\n",
    "Roc_aucBagging = []\n",
    "######\n",
    "AcurracyBaggingDP = []\n",
    "PrecisionBaggingDP = []\n",
    "RecallBaggingDP = []\n",
    "F1BaggingDP = []\n",
    "Roc_aucBaggingDP = []\n",
    "#####\n",
    "AcurracyPosBal = []\n",
    "PrecisionPosBal = []\n",
    "RecallPosBal = []\n",
    "F1_scorePosBal = []\n",
    "Roc_aucPosBal = []\n",
    "######\n",
    "AcurracyDPPosBal = []\n",
    "PrecisionDPPosBal = []\n",
    "RecallDPPosBal = []\n",
    "F1_scoreDPPosBal = []\n",
    "Roc_aucDPPosBal = []\n",
    "######\n",
    "AcurracyBaggingPosBal = []\n",
    "PrecisionBaggingPosBal = []\n",
    "RecallBaggingPosBal = []\n",
    "F1BaggingPosBal = []\n",
    "Roc_aucBaggingPosBal = []\n",
    "######\n",
    "AcurracyBaggingDPPosBal = []\n",
    "PrecisionBaggingDPPosBal = []\n",
    "RecallBaggingDPPosBal = []\n",
    "F1BaggingDPPosBal = []\n",
    "Roc_aucBaggingDPPosBal = []"
   ]
  },
  {
   "cell_type": "markdown",
   "metadata": {},
   "source": [
    "### Modelos Base"
   ]
  },
  {
   "cell_type": "code",
   "execution_count": null,
   "metadata": {},
   "outputs": [
    {
     "name": "stderr",
     "output_type": "stream",
     "text": [
      "  3%|▎         | 1/30 [00:00<00:08,  3.56it/s]"
     ]
    },
    {
     "name": "stdout",
     "output_type": "stream",
     "text": [
      "Repetição 1 - Acurácia: 0.98, Precisão: 0.77, Recall: 0.82, F1-score: 0.79, ROC AUC: 0.90\n"
     ]
    },
    {
     "name": "stderr",
     "output_type": "stream",
     "text": [
      "  7%|▋         | 2/30 [00:00<00:07,  3.90it/s]"
     ]
    },
    {
     "name": "stdout",
     "output_type": "stream",
     "text": [
      "Repetição 2 - Acurácia: 0.98, Precisão: 0.79, Recall: 0.81, F1-score: 0.80, ROC AUC: 0.90\n"
     ]
    },
    {
     "name": "stderr",
     "output_type": "stream",
     "text": [
      " 10%|█         | 3/30 [00:00<00:06,  3.99it/s]"
     ]
    },
    {
     "name": "stdout",
     "output_type": "stream",
     "text": [
      "Repetição 3 - Acurácia: 0.98, Precisão: 0.78, Recall: 0.82, F1-score: 0.80, ROC AUC: 0.91\n"
     ]
    },
    {
     "name": "stderr",
     "output_type": "stream",
     "text": [
      " 13%|█▎        | 4/30 [00:01<00:06,  4.04it/s]"
     ]
    },
    {
     "name": "stdout",
     "output_type": "stream",
     "text": [
      "Repetição 4 - Acurácia: 0.98, Precisão: 0.75, Recall: 0.83, F1-score: 0.79, ROC AUC: 0.91\n"
     ]
    },
    {
     "name": "stderr",
     "output_type": "stream",
     "text": [
      " 17%|█▋        | 5/30 [00:01<00:06,  4.10it/s]"
     ]
    },
    {
     "name": "stdout",
     "output_type": "stream",
     "text": [
      "Repetição 5 - Acurácia: 0.98, Precisão: 0.77, Recall: 0.83, F1-score: 0.80, ROC AUC: 0.91\n"
     ]
    },
    {
     "name": "stderr",
     "output_type": "stream",
     "text": [
      " 20%|██        | 6/30 [00:01<00:05,  4.14it/s]"
     ]
    },
    {
     "name": "stdout",
     "output_type": "stream",
     "text": [
      "Repetição 6 - Acurácia: 0.98, Precisão: 0.75, Recall: 0.83, F1-score: 0.79, ROC AUC: 0.91\n"
     ]
    },
    {
     "name": "stderr",
     "output_type": "stream",
     "text": [
      " 23%|██▎       | 7/30 [00:01<00:05,  4.15it/s]"
     ]
    },
    {
     "name": "stdout",
     "output_type": "stream",
     "text": [
      "Repetição 7 - Acurácia: 0.98, Precisão: 0.77, Recall: 0.82, F1-score: 0.80, ROC AUC: 0.91\n"
     ]
    },
    {
     "name": "stderr",
     "output_type": "stream",
     "text": [
      " 27%|██▋       | 8/30 [00:01<00:05,  4.14it/s]"
     ]
    },
    {
     "name": "stdout",
     "output_type": "stream",
     "text": [
      "Repetição 8 - Acurácia: 0.98, Precisão: 0.77, Recall: 0.81, F1-score: 0.79, ROC AUC: 0.90\n"
     ]
    },
    {
     "name": "stderr",
     "output_type": "stream",
     "text": [
      " 30%|███       | 9/30 [00:02<00:05,  4.18it/s]"
     ]
    },
    {
     "name": "stdout",
     "output_type": "stream",
     "text": [
      "Repetição 9 - Acurácia: 0.98, Precisão: 0.77, Recall: 0.83, F1-score: 0.80, ROC AUC: 0.91\n"
     ]
    },
    {
     "name": "stderr",
     "output_type": "stream",
     "text": [
      " 33%|███▎      | 10/30 [00:02<00:04,  4.16it/s]"
     ]
    },
    {
     "name": "stdout",
     "output_type": "stream",
     "text": [
      "Repetição 10 - Acurácia: 0.98, Precisão: 0.77, Recall: 0.84, F1-score: 0.80, ROC AUC: 0.91\n"
     ]
    },
    {
     "name": "stderr",
     "output_type": "stream",
     "text": [
      " 37%|███▋      | 11/30 [00:02<00:04,  4.18it/s]"
     ]
    },
    {
     "name": "stdout",
     "output_type": "stream",
     "text": [
      "Repetição 11 - Acurácia: 0.98, Precisão: 0.80, Recall: 0.81, F1-score: 0.81, ROC AUC: 0.90\n"
     ]
    },
    {
     "name": "stderr",
     "output_type": "stream",
     "text": [
      " 40%|████      | 12/30 [00:02<00:04,  4.21it/s]"
     ]
    },
    {
     "name": "stdout",
     "output_type": "stream",
     "text": [
      "Repetição 12 - Acurácia: 0.98, Precisão: 0.77, Recall: 0.83, F1-score: 0.80, ROC AUC: 0.91\n"
     ]
    },
    {
     "name": "stderr",
     "output_type": "stream",
     "text": [
      " 43%|████▎     | 13/30 [00:03<00:04,  4.16it/s]"
     ]
    },
    {
     "name": "stdout",
     "output_type": "stream",
     "text": [
      "Repetição 13 - Acurácia: 0.98, Precisão: 0.77, Recall: 0.81, F1-score: 0.79, ROC AUC: 0.90\n"
     ]
    },
    {
     "name": "stderr",
     "output_type": "stream",
     "text": [
      " 47%|████▋     | 14/30 [00:03<00:03,  4.19it/s]"
     ]
    },
    {
     "name": "stdout",
     "output_type": "stream",
     "text": [
      "Repetição 14 - Acurácia: 0.98, Precisão: 0.78, Recall: 0.81, F1-score: 0.80, ROC AUC: 0.90\n"
     ]
    },
    {
     "name": "stderr",
     "output_type": "stream",
     "text": [
      " 50%|█████     | 15/30 [00:03<00:03,  4.16it/s]"
     ]
    },
    {
     "name": "stdout",
     "output_type": "stream",
     "text": [
      "Repetição 15 - Acurácia: 0.98, Precisão: 0.79, Recall: 0.83, F1-score: 0.81, ROC AUC: 0.91\n"
     ]
    },
    {
     "name": "stderr",
     "output_type": "stream",
     "text": [
      " 53%|█████▎    | 16/30 [00:03<00:03,  4.15it/s]"
     ]
    },
    {
     "name": "stdout",
     "output_type": "stream",
     "text": [
      "Repetição 16 - Acurácia: 0.98, Precisão: 0.77, Recall: 0.80, F1-score: 0.79, ROC AUC: 0.90\n"
     ]
    },
    {
     "name": "stderr",
     "output_type": "stream",
     "text": [
      " 57%|█████▋    | 17/30 [00:04<00:03,  4.13it/s]"
     ]
    },
    {
     "name": "stdout",
     "output_type": "stream",
     "text": [
      "Repetição 17 - Acurácia: 0.98, Precisão: 0.78, Recall: 0.83, F1-score: 0.80, ROC AUC: 0.91\n"
     ]
    },
    {
     "name": "stderr",
     "output_type": "stream",
     "text": [
      " 60%|██████    | 18/30 [00:04<00:02,  4.14it/s]"
     ]
    },
    {
     "name": "stdout",
     "output_type": "stream",
     "text": [
      "Repetição 18 - Acurácia: 0.98, Precisão: 0.77, Recall: 0.83, F1-score: 0.80, ROC AUC: 0.91\n"
     ]
    },
    {
     "name": "stderr",
     "output_type": "stream",
     "text": [
      " 63%|██████▎   | 19/30 [00:04<00:02,  4.16it/s]"
     ]
    },
    {
     "name": "stdout",
     "output_type": "stream",
     "text": [
      "Repetição 19 - Acurácia: 0.98, Precisão: 0.75, Recall: 0.82, F1-score: 0.79, ROC AUC: 0.91\n"
     ]
    },
    {
     "name": "stderr",
     "output_type": "stream",
     "text": [
      " 67%|██████▋   | 20/30 [00:04<00:02,  4.19it/s]"
     ]
    },
    {
     "name": "stdout",
     "output_type": "stream",
     "text": [
      "Repetição 20 - Acurácia: 0.98, Precisão: 0.79, Recall: 0.82, F1-score: 0.81, ROC AUC: 0.90\n"
     ]
    },
    {
     "name": "stderr",
     "output_type": "stream",
     "text": [
      " 70%|███████   | 21/30 [00:05<00:02,  4.10it/s]"
     ]
    },
    {
     "name": "stdout",
     "output_type": "stream",
     "text": [
      "Repetição 21 - Acurácia: 0.98, Precisão: 0.78, Recall: 0.84, F1-score: 0.81, ROC AUC: 0.92\n"
     ]
    },
    {
     "name": "stderr",
     "output_type": "stream",
     "text": [
      " 73%|███████▎  | 22/30 [00:05<00:01,  4.03it/s]"
     ]
    },
    {
     "name": "stdout",
     "output_type": "stream",
     "text": [
      "Repetição 22 - Acurácia: 0.98, Precisão: 0.77, Recall: 0.81, F1-score: 0.79, ROC AUC: 0.90\n"
     ]
    },
    {
     "name": "stderr",
     "output_type": "stream",
     "text": [
      " 77%|███████▋  | 23/30 [00:05<00:01,  4.06it/s]"
     ]
    },
    {
     "name": "stdout",
     "output_type": "stream",
     "text": [
      "Repetição 23 - Acurácia: 0.98, Precisão: 0.76, Recall: 0.82, F1-score: 0.79, ROC AUC: 0.90\n"
     ]
    },
    {
     "name": "stderr",
     "output_type": "stream",
     "text": [
      " 80%|████████  | 24/30 [00:05<00:01,  4.01it/s]"
     ]
    },
    {
     "name": "stdout",
     "output_type": "stream",
     "text": [
      "Repetição 24 - Acurácia: 0.98, Precisão: 0.78, Recall: 0.81, F1-score: 0.80, ROC AUC: 0.90\n"
     ]
    },
    {
     "name": "stderr",
     "output_type": "stream",
     "text": [
      " 83%|████████▎ | 25/30 [00:06<00:01,  4.07it/s]"
     ]
    },
    {
     "name": "stdout",
     "output_type": "stream",
     "text": [
      "Repetição 25 - Acurácia: 0.98, Precisão: 0.77, Recall: 0.83, F1-score: 0.80, ROC AUC: 0.91\n"
     ]
    },
    {
     "name": "stderr",
     "output_type": "stream",
     "text": [
      " 87%|████████▋ | 26/30 [00:06<00:00,  4.12it/s]"
     ]
    },
    {
     "name": "stdout",
     "output_type": "stream",
     "text": [
      "Repetição 26 - Acurácia: 0.98, Precisão: 0.76, Recall: 0.82, F1-score: 0.79, ROC AUC: 0.91\n"
     ]
    },
    {
     "name": "stderr",
     "output_type": "stream",
     "text": [
      " 90%|█████████ | 27/30 [00:06<00:00,  4.14it/s]"
     ]
    },
    {
     "name": "stdout",
     "output_type": "stream",
     "text": [
      "Repetição 27 - Acurácia: 0.98, Precisão: 0.79, Recall: 0.82, F1-score: 0.80, ROC AUC: 0.91\n"
     ]
    },
    {
     "name": "stderr",
     "output_type": "stream",
     "text": [
      " 93%|█████████▎| 28/30 [00:06<00:00,  4.13it/s]"
     ]
    },
    {
     "name": "stdout",
     "output_type": "stream",
     "text": [
      "Repetição 28 - Acurácia: 0.98, Precisão: 0.76, Recall: 0.82, F1-score: 0.79, ROC AUC: 0.91\n"
     ]
    },
    {
     "name": "stderr",
     "output_type": "stream",
     "text": [
      " 97%|█████████▋| 29/30 [00:07<00:00,  4.15it/s]"
     ]
    },
    {
     "name": "stdout",
     "output_type": "stream",
     "text": [
      "Repetição 29 - Acurácia: 0.98, Precisão: 0.75, Recall: 0.81, F1-score: 0.78, ROC AUC: 0.90\n"
     ]
    },
    {
     "name": "stderr",
     "output_type": "stream",
     "text": [
      "100%|██████████| 30/30 [00:07<00:00,  4.12it/s]"
     ]
    },
    {
     "name": "stdout",
     "output_type": "stream",
     "text": [
      "Repetição 30 - Acurácia: 0.98, Precisão: 0.76, Recall: 0.79, F1-score: 0.78, ROC AUC: 0.89\n",
      "Média das Acurácias: 0.98179 ± 0.00079\n",
      "Média das Precisões: 0.77154 ± 0.01227\n",
      "Média dos Recalls: 0.82068 ± 0.00998\n",
      "Média dos F1-scores: 0.79527 ± 0.00802\n",
      "Média dos ROC AUC: 0.90486 ± 0.00493\n"
     ]
    },
    {
     "name": "stderr",
     "output_type": "stream",
     "text": [
      "\n"
     ]
    }
   ],
   "source": [
    "num_repeticoes = 30\n",
    "\n",
    "# Listas para armazenar as métricas\n",
    "acuracias = []\n",
    "precisoes = []\n",
    "recalls = []\n",
    "f1_scores = []\n",
    "roc_auc_scores = []\n",
    "\n",
    "# Loop para repetir o processo\n",
    "for i in tqdm(range(num_repeticoes)):\n",
    "\n",
    "    x_train, x_test, y_train, y_test = train_test_split(x_all, y_all, test_size=0.2, stratify=y_all)\n",
    "\n",
    "    # Inicializar o modelo de árvore de decisão com Gini Impurity e sem limitação de altura\n",
    "    modelo_arvore = DecisionTreeClassifier(criterion='gini')\n",
    "\n",
    "    # Treinar o modelo no conjunto de treino\n",
    "    modelo_arvore.fit(x_train, y_train)\n",
    "\n",
    "    # Fazer previsões no conjunto de teste\n",
    "    previsoes = modelo_arvore.predict(x_test)\n",
    "\n",
    "    # Avaliar as métricas do modelo e armazenar na lista\n",
    "    acuracia = accuracy_score(y_test, previsoes)\n",
    "    precisao = precision_score(y_test, previsoes)\n",
    "    recall = recall_score(y_test, previsoes)\n",
    "    f1 = f1_score(y_test, previsoes)\n",
    "    roc_auc = roc_auc_score(y_test, previsoes)\n",
    "    \n",
    "    acuracias.append(acuracia)\n",
    "    precisoes.append(precisao)\n",
    "    recalls.append(recall)\n",
    "    f1_scores.append(f1)\n",
    "    roc_auc_scores.append(roc_auc)\n",
    "\n",
    "    print(f'Repetição {i+1} - Acurácia: {acuracia:.2f}, Precisão: {precisao:.2f}, Recall: {recall:.2f}, F1-score: {f1:.2f}, ROC AUC: {roc_auc:.2f}')\n",
    "\n",
    "# Calcular as médias das métricas\n",
    "media_acuracias = np.mean(acuracias)\n",
    "media_precisoes = np.mean(precisoes)\n",
    "media_recalls = np.mean(recalls)\n",
    "media_f1_scores = np.mean(f1_scores)\n",
    "media_roc_auc_scores = np.mean(roc_auc_scores)\n",
    "\n",
    "# Calcular os desvios padrão das métricas\n",
    "dp_acuracias = np.std(acuracias)\n",
    "dp_precisoes = np.std(precisoes)\n",
    "dp_recalls = np.std(recalls)\n",
    "dp_f1_scores = np.std(f1_scores)\n",
    "dp_roc_auc_scores = np.std(roc_auc_scores)\n",
    "\n",
    "# Adicionar as médias e desvios padrão às listas de métricas\n",
    "Acurracy.append(media_acuracias)\n",
    "Precision.append(media_precisoes)\n",
    "Recall.append(media_recalls)\n",
    "F1_score.append(media_f1_scores)\n",
    "Roc_auc.append(media_roc_auc_scores)\n",
    "\n",
    "AcurracyDP.append(dp_acuracias)\n",
    "PrecisionDP.append(dp_precisoes)\n",
    "RecallDP.append(dp_recalls)\n",
    "F1_scoreDP.append(dp_f1_scores)\n",
    "Roc_aucDP.append(dp_roc_auc_scores)\n",
    "\n",
    "print(f'Média das Acurácias: {media_acuracias:.5f} ± {dp_acuracias:.5f}')\n",
    "print(f'Média das Precisões: {media_precisoes:.5f} ± {dp_precisoes:.5f}')\n",
    "print(f'Média dos Recalls: {media_recalls:.5f} ± {dp_recalls:.5f}')\n",
    "print(f'Média dos F1-scores: {media_f1_scores:.5f} ± {dp_f1_scores:.5f}')\n",
    "print(f'Média dos ROC AUC: {media_roc_auc_scores:.5f} ± {dp_roc_auc_scores:.5f}')"
   ]
  },
  {
   "cell_type": "code",
   "execution_count": 7,
   "metadata": {},
   "outputs": [
    {
     "name": "stderr",
     "output_type": "stream",
     "text": [
      " 67%|██████▋   | 20/30 [00:00<00:00, 95.70it/s]"
     ]
    },
    {
     "name": "stdout",
     "output_type": "stream",
     "text": [
      "Repetição 1 - Acurácia: 0.54, Precisão: 0.52, Recall: 0.92, F1-score: 0.67, ROC AUC: 0.54\n",
      "Repetição 2 - Acurácia: 0.54, Precisão: 0.52, Recall: 0.92, F1-score: 0.67, ROC AUC: 0.54\n",
      "Repetição 3 - Acurácia: 0.54, Precisão: 0.52, Recall: 0.93, F1-score: 0.67, ROC AUC: 0.54\n",
      "Repetição 4 - Acurácia: 0.54, Precisão: 0.52, Recall: 0.92, F1-score: 0.67, ROC AUC: 0.54\n",
      "Repetição 5 - Acurácia: 0.54, Precisão: 0.53, Recall: 0.92, F1-score: 0.67, ROC AUC: 0.54\n",
      "Repetição 6 - Acurácia: 0.55, Precisão: 0.53, Recall: 0.94, F1-score: 0.68, ROC AUC: 0.55\n",
      "Repetição 7 - Acurácia: 0.54, Precisão: 0.52, Recall: 0.93, F1-score: 0.67, ROC AUC: 0.54\n",
      "Repetição 8 - Acurácia: 0.54, Precisão: 0.53, Recall: 0.93, F1-score: 0.67, ROC AUC: 0.54\n",
      "Repetição 9 - Acurácia: 0.54, Precisão: 0.52, Recall: 0.93, F1-score: 0.67, ROC AUC: 0.54\n",
      "Repetição 10 - Acurácia: 0.55, Precisão: 0.53, Recall: 0.93, F1-score: 0.67, ROC AUC: 0.55\n",
      "Repetição 11 - Acurácia: 0.56, Precisão: 0.53, Recall: 0.93, F1-score: 0.68, ROC AUC: 0.56\n",
      "Repetição 12 - Acurácia: 0.53, Precisão: 0.52, Recall: 0.92, F1-score: 0.66, ROC AUC: 0.53\n",
      "Repetição 13 - Acurácia: 0.54, Precisão: 0.52, Recall: 0.91, F1-score: 0.66, ROC AUC: 0.54\n",
      "Repetição 14 - Acurácia: 0.55, Precisão: 0.53, Recall: 0.92, F1-score: 0.67, ROC AUC: 0.55\n",
      "Repetição 15 - Acurácia: 0.55, Precisão: 0.53, Recall: 0.93, F1-score: 0.67, ROC AUC: 0.55\n",
      "Repetição 16 - Acurácia: 0.54, Precisão: 0.52, Recall: 0.93, F1-score: 0.67, ROC AUC: 0.54\n",
      "Repetição 17 - Acurácia: 0.53, Precisão: 0.52, Recall: 0.91, F1-score: 0.66, ROC AUC: 0.53\n",
      "Repetição 18 - Acurácia: 0.56, Precisão: 0.53, Recall: 0.93, F1-score: 0.68, ROC AUC: 0.56\n",
      "Repetição 19 - Acurácia: 0.55, Precisão: 0.53, Recall: 0.93, F1-score: 0.68, ROC AUC: 0.55\n",
      "Repetição 20 - Acurácia: 0.55, Precisão: 0.53, Recall: 0.92, F1-score: 0.67, ROC AUC: 0.55\n"
     ]
    },
    {
     "name": "stderr",
     "output_type": "stream",
     "text": [
      "100%|██████████| 30/30 [00:00<00:00, 88.90it/s]"
     ]
    },
    {
     "name": "stdout",
     "output_type": "stream",
     "text": [
      "Repetição 21 - Acurácia: 0.55, Precisão: 0.53, Recall: 0.94, F1-score: 0.68, ROC AUC: 0.55\n",
      "Repetição 22 - Acurácia: 0.54, Precisão: 0.52, Recall: 0.92, F1-score: 0.67, ROC AUC: 0.54\n",
      "Repetição 23 - Acurácia: 0.55, Precisão: 0.53, Recall: 0.92, F1-score: 0.67, ROC AUC: 0.55\n",
      "Repetição 24 - Acurácia: 0.54, Precisão: 0.53, Recall: 0.93, F1-score: 0.67, ROC AUC: 0.54\n",
      "Repetição 25 - Acurácia: 0.54, Precisão: 0.52, Recall: 0.92, F1-score: 0.67, ROC AUC: 0.54\n",
      "Repetição 26 - Acurácia: 0.54, Precisão: 0.53, Recall: 0.93, F1-score: 0.67, ROC AUC: 0.54\n",
      "Repetição 27 - Acurácia: 0.55, Precisão: 0.53, Recall: 0.93, F1-score: 0.67, ROC AUC: 0.55\n",
      "Repetição 28 - Acurácia: 0.54, Precisão: 0.52, Recall: 0.92, F1-score: 0.67, ROC AUC: 0.54\n",
      "Repetição 29 - Acurácia: 0.54, Precisão: 0.52, Recall: 0.92, F1-score: 0.67, ROC AUC: 0.54\n",
      "Repetição 30 - Acurácia: 0.54, Precisão: 0.52, Recall: 0.93, F1-score: 0.67, ROC AUC: 0.54\n",
      "Média das Acurácias: 0.54447 ± 0.00614\n",
      "Média das Precisões: 0.52525 ± 0.00355\n",
      "Média dos Recalls: 0.92518 ± 0.00660\n",
      "Média dos F1-scores: 0.67008 ± 0.00420\n",
      "Média dos ROC AUC: 0.54447 ± 0.00614\n"
     ]
    },
    {
     "name": "stderr",
     "output_type": "stream",
     "text": [
      "\n"
     ]
    }
   ],
   "source": [
    "num_repeticoes = 30\n",
    "\n",
    "# Listas para armazenar as métricas\n",
    "acuracias = []\n",
    "precisoes = []\n",
    "recalls = []\n",
    "f1_scores = []\n",
    "roc_auc_scores = []\n",
    "\n",
    "# Loop para repetir o processo\n",
    "for i in tqdm(range(num_repeticoes)):\n",
    "\n",
    "    x_train, x_test, y_train, y_test = train_test_split(x_all, y_all, test_size=0.2, stratify=y_all)\n",
    "    \n",
    "    #Inicializar o modelo de Naive Bayes com distribuição de Bernoulli\n",
    "    modelo_naive_bayes = BernoulliNB()\n",
    "\n",
    "    # Treinar o modelo no conjunto de treino\n",
    "    modelo_naive_bayes.fit(x_train, y_train)\n",
    "\n",
    "    # Fazer previsões no conjunto de teste\n",
    "    previsoes = modelo_naive_bayes.predict(x_test)\n",
    "\n",
    "    # Avaliar as métricas do modelo e armazenar na lista\n",
    "    acuracia = accuracy_score(y_test, previsoes)\n",
    "    precisao = precision_score(y_test, previsoes)\n",
    "    recall = recall_score(y_test, previsoes)\n",
    "    f1 = f1_score(y_test, previsoes)\n",
    "    roc_auc = roc_auc_score(y_test, previsoes)\n",
    "    \n",
    "    acuracias.append(acuracia)\n",
    "    precisoes.append(precisao)\n",
    "    recalls.append(recall)\n",
    "    f1_scores.append(f1)\n",
    "    roc_auc_scores.append(roc_auc)\n",
    "\n",
    "    print(f'Repetição {i+1} - Acurácia: {acuracia:.2f}, Precisão: {precisao:.2f}, Recall: {recall:.2f}, F1-score: {f1:.2f}, ROC AUC: {roc_auc:.2f}')\n",
    "\n",
    "# Calcular as médias das métricas\n",
    "media_acuracias = np.mean(acuracias)\n",
    "media_precisoes = np.mean(precisoes)\n",
    "media_recalls = np.mean(recalls)\n",
    "media_f1_scores = np.mean(f1_scores)\n",
    "media_roc_auc_scores = np.mean(roc_auc_scores)\n",
    "\n",
    "# Calcular os desvios padrão das métricas\n",
    "dp_acuracias = np.std(acuracias)\n",
    "dp_precisoes = np.std(precisoes)\n",
    "dp_recalls = np.std(recalls)\n",
    "dp_f1_scores = np.std(f1_scores)\n",
    "dp_roc_auc_scores = np.std(roc_auc_scores)\n",
    "\n",
    "# Adicionar as médias e desvios padrão às listas de métricas\n",
    "Acurracy.append(media_acuracias)\n",
    "Precision.append(media_precisoes)\n",
    "Recall.append(media_recalls)\n",
    "F1_score.append(media_f1_scores)\n",
    "Roc_auc.append(media_roc_auc_scores)\n",
    "\n",
    "AcurracyDP.append(dp_acuracias)\n",
    "PrecisionDP.append(dp_precisoes)\n",
    "RecallDP.append(dp_recalls)\n",
    "F1_scoreDP.append(dp_f1_scores)\n",
    "Roc_aucDP.append(dp_roc_auc_scores)\n",
    "\n",
    "print(f'Média das Acurácias: {media_acuracias:.5f} ± {dp_acuracias:.5f}')\n",
    "print(f'Média das Precisões: {media_precisoes:.5f} ± {dp_precisoes:.5f}')\n",
    "print(f'Média dos Recalls: {media_recalls:.5f} ± {dp_recalls:.5f}')\n",
    "print(f'Média dos F1-scores: {media_f1_scores:.5f} ± {dp_f1_scores:.5f}')\n",
    "print(f'Média dos ROC AUC: {media_roc_auc_scores:.5f} ± {dp_roc_auc_scores:.5f}')"
   ]
  },
  {
   "cell_type": "code",
   "execution_count": null,
   "metadata": {},
   "outputs": [
    {
     "name": "stderr",
     "output_type": "stream",
     "text": [
      "  3%|▎         | 1/30 [00:30<14:47, 30.62s/it]"
     ]
    },
    {
     "name": "stdout",
     "output_type": "stream",
     "text": [
      "Repetição 1 - Acurácia: 0.98, Precisão: 0.82, Recall: 0.64, F1-score: 0.72, ROC AUC: 0.82\n"
     ]
    },
    {
     "name": "stderr",
     "output_type": "stream",
     "text": [
      "  7%|▋         | 2/30 [01:00<14:13, 30.47s/it]"
     ]
    },
    {
     "name": "stdout",
     "output_type": "stream",
     "text": [
      "Repetição 2 - Acurácia: 0.98, Precisão: 0.81, Recall: 0.62, F1-score: 0.70, ROC AUC: 0.81\n"
     ]
    },
    {
     "name": "stderr",
     "output_type": "stream",
     "text": [
      " 10%|█         | 3/30 [01:28<13:11, 29.30s/it]"
     ]
    },
    {
     "name": "stdout",
     "output_type": "stream",
     "text": [
      "Repetição 3 - Acurácia: 0.98, Precisão: 0.78, Recall: 0.60, F1-score: 0.68, ROC AUC: 0.80\n"
     ]
    },
    {
     "name": "stderr",
     "output_type": "stream",
     "text": [
      " 13%|█▎        | 4/30 [02:12<15:12, 35.10s/it]"
     ]
    },
    {
     "name": "stdout",
     "output_type": "stream",
     "text": [
      "Repetição 4 - Acurácia: 0.98, Precisão: 0.89, Recall: 0.52, F1-score: 0.65, ROC AUC: 0.76\n"
     ]
    },
    {
     "name": "stderr",
     "output_type": "stream",
     "text": [
      " 17%|█▋        | 5/30 [03:01<16:35, 39.84s/it]"
     ]
    },
    {
     "name": "stdout",
     "output_type": "stream",
     "text": [
      "Repetição 5 - Acurácia: 0.98, Precisão: 0.81, Recall: 0.62, F1-score: 0.70, ROC AUC: 0.81\n"
     ]
    },
    {
     "name": "stderr",
     "output_type": "stream",
     "text": [
      " 20%|██        | 6/30 [03:34<15:04, 37.69s/it]"
     ]
    },
    {
     "name": "stdout",
     "output_type": "stream",
     "text": [
      "Repetição 6 - Acurácia: 0.98, Precisão: 0.79, Recall: 0.63, F1-score: 0.70, ROC AUC: 0.81\n"
     ]
    },
    {
     "name": "stderr",
     "output_type": "stream",
     "text": [
      " 23%|██▎       | 7/30 [04:22<15:42, 40.97s/it]"
     ]
    },
    {
     "name": "stdout",
     "output_type": "stream",
     "text": [
      "Repetição 7 - Acurácia: 0.98, Precisão: 0.79, Recall: 0.68, F1-score: 0.73, ROC AUC: 0.84\n"
     ]
    },
    {
     "name": "stderr",
     "output_type": "stream",
     "text": [
      " 27%|██▋       | 8/30 [04:46<13:05, 35.70s/it]"
     ]
    },
    {
     "name": "stdout",
     "output_type": "stream",
     "text": [
      "Repetição 8 - Acurácia: 0.97, Precisão: 0.62, Recall: 0.69, F1-score: 0.65, ROC AUC: 0.83\n"
     ]
    },
    {
     "name": "stderr",
     "output_type": "stream",
     "text": [
      " 30%|███       | 9/30 [05:18<12:06, 34.59s/it]"
     ]
    },
    {
     "name": "stdout",
     "output_type": "stream",
     "text": [
      "Repetição 9 - Acurácia: 0.98, Precisão: 0.77, Recall: 0.62, F1-score: 0.69, ROC AUC: 0.81\n"
     ]
    },
    {
     "name": "stderr",
     "output_type": "stream",
     "text": [
      " 33%|███▎      | 10/30 [05:57<11:58, 35.94s/it]"
     ]
    },
    {
     "name": "stdout",
     "output_type": "stream",
     "text": [
      "Repetição 10 - Acurácia: 0.98, Precisão: 0.77, Recall: 0.65, F1-score: 0.70, ROC AUC: 0.82\n"
     ]
    },
    {
     "name": "stderr",
     "output_type": "stream",
     "text": [
      " 37%|███▋      | 11/30 [06:36<11:40, 36.85s/it]"
     ]
    },
    {
     "name": "stdout",
     "output_type": "stream",
     "text": [
      "Repetição 11 - Acurácia: 0.98, Precisão: 0.83, Recall: 0.64, F1-score: 0.72, ROC AUC: 0.82\n"
     ]
    },
    {
     "name": "stderr",
     "output_type": "stream",
     "text": [
      " 40%|████      | 12/30 [07:08<10:32, 35.13s/it]"
     ]
    },
    {
     "name": "stdout",
     "output_type": "stream",
     "text": [
      "Repetição 12 - Acurácia: 0.98, Precisão: 0.81, Recall: 0.61, F1-score: 0.70, ROC AUC: 0.80\n"
     ]
    },
    {
     "name": "stderr",
     "output_type": "stream",
     "text": [
      " 43%|████▎     | 13/30 [07:37<09:28, 33.45s/it]"
     ]
    },
    {
     "name": "stdout",
     "output_type": "stream",
     "text": [
      "Repetição 13 - Acurácia: 0.98, Precisão: 0.84, Recall: 0.54, F1-score: 0.66, ROC AUC: 0.77\n"
     ]
    },
    {
     "name": "stderr",
     "output_type": "stream",
     "text": [
      " 47%|████▋     | 14/30 [08:09<08:48, 33.05s/it]"
     ]
    },
    {
     "name": "stdout",
     "output_type": "stream",
     "text": [
      "Repetição 14 - Acurácia: 0.98, Precisão: 0.83, Recall: 0.59, F1-score: 0.69, ROC AUC: 0.79\n"
     ]
    },
    {
     "name": "stderr",
     "output_type": "stream",
     "text": [
      " 50%|█████     | 15/30 [08:48<08:40, 34.72s/it]"
     ]
    },
    {
     "name": "stdout",
     "output_type": "stream",
     "text": [
      "Repetição 15 - Acurácia: 0.98, Precisão: 0.86, Recall: 0.53, F1-score: 0.66, ROC AUC: 0.76\n"
     ]
    },
    {
     "name": "stderr",
     "output_type": "stream",
     "text": [
      " 53%|█████▎    | 16/30 [09:04<06:48, 29.20s/it]"
     ]
    },
    {
     "name": "stdout",
     "output_type": "stream",
     "text": [
      "Repetição 16 - Acurácia: 0.98, Precisão: 0.76, Recall: 0.65, F1-score: 0.70, ROC AUC: 0.82\n"
     ]
    },
    {
     "name": "stderr",
     "output_type": "stream",
     "text": [
      " 57%|█████▋    | 17/30 [09:39<06:42, 30.93s/it]"
     ]
    },
    {
     "name": "stdout",
     "output_type": "stream",
     "text": [
      "Repetição 17 - Acurácia: 0.98, Precisão: 0.79, Recall: 0.62, F1-score: 0.69, ROC AUC: 0.80\n"
     ]
    },
    {
     "name": "stderr",
     "output_type": "stream",
     "text": [
      " 60%|██████    | 18/30 [10:12<06:19, 31.63s/it]"
     ]
    },
    {
     "name": "stdout",
     "output_type": "stream",
     "text": [
      "Repetição 18 - Acurácia: 0.98, Precisão: 0.82, Recall: 0.60, F1-score: 0.69, ROC AUC: 0.80\n"
     ]
    },
    {
     "name": "stderr",
     "output_type": "stream",
     "text": [
      " 63%|██████▎   | 19/30 [10:39<05:30, 30.08s/it]"
     ]
    },
    {
     "name": "stdout",
     "output_type": "stream",
     "text": [
      "Repetição 19 - Acurácia: 0.98, Precisão: 0.74, Recall: 0.66, F1-score: 0.70, ROC AUC: 0.83\n"
     ]
    },
    {
     "name": "stderr",
     "output_type": "stream",
     "text": [
      " 67%|██████▋   | 20/30 [11:17<05:24, 32.41s/it]"
     ]
    },
    {
     "name": "stdout",
     "output_type": "stream",
     "text": [
      "Repetição 20 - Acurácia: 0.98, Precisão: 0.81, Recall: 0.59, F1-score: 0.68, ROC AUC: 0.79\n"
     ]
    },
    {
     "name": "stderr",
     "output_type": "stream",
     "text": [
      " 70%|███████   | 21/30 [11:57<05:12, 34.77s/it]"
     ]
    },
    {
     "name": "stdout",
     "output_type": "stream",
     "text": [
      "Repetição 21 - Acurácia: 0.98, Precisão: 0.81, Recall: 0.61, F1-score: 0.69, ROC AUC: 0.80\n"
     ]
    },
    {
     "name": "stderr",
     "output_type": "stream",
     "text": [
      " 73%|███████▎  | 22/30 [12:29<04:31, 33.95s/it]"
     ]
    },
    {
     "name": "stdout",
     "output_type": "stream",
     "text": [
      "Repetição 22 - Acurácia: 0.98, Precisão: 0.84, Recall: 0.55, F1-score: 0.66, ROC AUC: 0.77\n"
     ]
    },
    {
     "name": "stderr",
     "output_type": "stream",
     "text": [
      " 77%|███████▋  | 23/30 [13:18<04:28, 38.35s/it]"
     ]
    },
    {
     "name": "stdout",
     "output_type": "stream",
     "text": [
      "Repetição 23 - Acurácia: 0.98, Precisão: 0.78, Recall: 0.66, F1-score: 0.71, ROC AUC: 0.82\n"
     ]
    },
    {
     "name": "stderr",
     "output_type": "stream",
     "text": [
      " 80%|████████  | 24/30 [13:51<03:41, 36.99s/it]"
     ]
    },
    {
     "name": "stdout",
     "output_type": "stream",
     "text": [
      "Repetição 24 - Acurácia: 0.98, Precisão: 0.82, Recall: 0.59, F1-score: 0.69, ROC AUC: 0.79\n"
     ]
    },
    {
     "name": "stderr",
     "output_type": "stream",
     "text": [
      " 83%|████████▎ | 25/30 [14:21<02:53, 34.66s/it]"
     ]
    },
    {
     "name": "stdout",
     "output_type": "stream",
     "text": [
      "Repetição 25 - Acurácia: 0.98, Precisão: 0.85, Recall: 0.52, F1-score: 0.65, ROC AUC: 0.76\n"
     ]
    },
    {
     "name": "stderr",
     "output_type": "stream",
     "text": [
      " 87%|████████▋ | 26/30 [14:49<02:11, 32.85s/it]"
     ]
    },
    {
     "name": "stdout",
     "output_type": "stream",
     "text": [
      "Repetição 26 - Acurácia: 0.98, Precisão: 0.81, Recall: 0.63, F1-score: 0.71, ROC AUC: 0.81\n"
     ]
    },
    {
     "name": "stderr",
     "output_type": "stream",
     "text": [
      " 90%|█████████ | 27/30 [15:21<01:37, 32.49s/it]"
     ]
    },
    {
     "name": "stdout",
     "output_type": "stream",
     "text": [
      "Repetição 27 - Acurácia: 0.98, Precisão: 0.84, Recall: 0.57, F1-score: 0.68, ROC AUC: 0.78\n"
     ]
    },
    {
     "name": "stderr",
     "output_type": "stream",
     "text": [
      " 93%|█████████▎| 28/30 [15:56<01:06, 33.38s/it]"
     ]
    },
    {
     "name": "stdout",
     "output_type": "stream",
     "text": [
      "Repetição 28 - Acurácia: 0.97, Precisão: 0.87, Recall: 0.49, F1-score: 0.63, ROC AUC: 0.75\n"
     ]
    },
    {
     "name": "stderr",
     "output_type": "stream",
     "text": [
      " 97%|█████████▋| 29/30 [16:27<00:32, 32.63s/it]"
     ]
    },
    {
     "name": "stdout",
     "output_type": "stream",
     "text": [
      "Repetição 29 - Acurácia: 0.98, Precisão: 0.81, Recall: 0.57, F1-score: 0.67, ROC AUC: 0.78\n"
     ]
    },
    {
     "name": "stderr",
     "output_type": "stream",
     "text": [
      "100%|██████████| 30/30 [17:11<00:00, 34.37s/it]"
     ]
    },
    {
     "name": "stdout",
     "output_type": "stream",
     "text": [
      "Repetição 30 - Acurácia: 0.98, Precisão: 0.80, Recall: 0.66, F1-score: 0.72, ROC AUC: 0.83\n",
      "Média das Acurácias: 0.97645 ± 0.00177\n",
      "Média das Precisões: 0.80596 ± 0.04730\n",
      "Média dos Recalls: 0.60516 ± 0.04960\n",
      "Média dos F1-scores: 0.68822 ± 0.02467\n",
      "Média dos ROC AUC: 0.79916 ± 0.02374\n"
     ]
    },
    {
     "name": "stderr",
     "output_type": "stream",
     "text": [
      "\n"
     ]
    }
   ],
   "source": [
    "num_repeticoes = 30\n",
    "\n",
    "# Listas para armazenar as métricas\n",
    "acuracias = []\n",
    "precisoes = []\n",
    "recalls = []\n",
    "f1_scores = []\n",
    "roc_auc_scores = []\n",
    "\n",
    "# Loop para repetir o processo\n",
    "for i in tqdm(range(num_repeticoes)):\n",
    "\n",
    "    x_train, x_test, y_train, y_test = train_test_split(x_all, y_all, test_size=0.2, stratify=y_all)\n",
    "    \n",
    "    # Inicializar o modelo MLP\n",
    "    modelo_mlp = MLPClassifier(hidden_layer_sizes=(100), max_iter=1000)\n",
    "\n",
    "    # Treinar o modelo no conjunto de treino\n",
    "    modelo_mlp.fit(x_train, y_train)\n",
    "\n",
    "    # Fazer previsões no conjunto de teste\n",
    "    previsoes = modelo_mlp.predict(x_test)\n",
    "\n",
    "    # Avaliar as métricas do modelo e armazenar na lista\n",
    "    acuracia = accuracy_score(y_test, previsoes)\n",
    "    precisao = precision_score(y_test, previsoes)\n",
    "    recall = recall_score(y_test, previsoes)\n",
    "    f1 = f1_score(y_test, previsoes)\n",
    "    roc_auc = roc_auc_score(y_test, previsoes)\n",
    "    \n",
    "    acuracias.append(acuracia)\n",
    "    precisoes.append(precisao)\n",
    "    recalls.append(recall)\n",
    "    f1_scores.append(f1)\n",
    "    roc_auc_scores.append(roc_auc)\n",
    "\n",
    "    print(f'Repetição {i+1} - Acurácia: {acuracia:.2f}, Precisão: {precisao:.2f}, Recall: {recall:.2f}, F1-score: {f1:.2f}, ROC AUC: {roc_auc:.2f}')\n",
    "\n",
    "# Calcular as médias das métricas\n",
    "media_acuracias = np.mean(acuracias)\n",
    "media_precisoes = np.mean(precisoes)\n",
    "media_recalls = np.mean(recalls)\n",
    "media_f1_scores = np.mean(f1_scores)\n",
    "media_roc_auc_scores = np.mean(roc_auc_scores)\n",
    "\n",
    "# Calcular os desvios padrão das métricas\n",
    "dp_acuracias = np.std(acuracias)\n",
    "dp_precisoes = np.std(precisoes)\n",
    "dp_recalls = np.std(recalls)\n",
    "dp_f1_scores = np.std(f1_scores)\n",
    "dp_roc_auc_scores = np.std(roc_auc_scores)\n",
    "\n",
    "# Adicionar as médias e desvios padrão às listas de métricas\n",
    "Acurracy.append(media_acuracias)\n",
    "Precision.append(media_precisoes)\n",
    "Recall.append(media_recalls)\n",
    "F1_score.append(media_f1_scores)\n",
    "Roc_auc.append(media_roc_auc_scores)\n",
    "\n",
    "AcurracyDP.append(dp_acuracias)\n",
    "PrecisionDP.append(dp_precisoes)\n",
    "RecallDP.append(dp_recalls)\n",
    "F1_scoreDP.append(dp_f1_scores)\n",
    "Roc_aucDP.append(dp_roc_auc_scores)\n",
    "\n",
    "print(f'Média das Acurácias: {media_acuracias:.5f} ± {dp_acuracias:.5f}')\n",
    "print(f'Média das Precisões: {media_precisoes:.5f} ± {dp_precisoes:.5f}')\n",
    "print(f'Média dos Recalls: {media_recalls:.5f} ± {dp_recalls:.5f}')\n",
    "print(f'Média dos F1-scores: {media_f1_scores:.5f} ± {dp_f1_scores:.5f}')\n",
    "print(f'Média dos ROC AUC: {media_roc_auc_scores:.5f} ± {dp_roc_auc_scores:.5f}')"
   ]
  },
  {
   "cell_type": "code",
   "execution_count": null,
   "metadata": {},
   "outputs": [
    {
     "name": "stderr",
     "output_type": "stream",
     "text": [
      "  3%|▎         | 1/30 [00:01<00:42,  1.48s/it]"
     ]
    },
    {
     "name": "stdout",
     "output_type": "stream",
     "text": [
      "Repetição 1 - Acurácia: 0.98, Precisão: 0.83, Recall: 0.75, F1-score: 0.79, ROC AUC: 0.87\n"
     ]
    },
    {
     "name": "stderr",
     "output_type": "stream",
     "text": [
      "  7%|▋         | 2/30 [00:02<00:38,  1.37s/it]"
     ]
    },
    {
     "name": "stdout",
     "output_type": "stream",
     "text": [
      "Repetição 2 - Acurácia: 0.98, Precisão: 0.81, Recall: 0.74, F1-score: 0.77, ROC AUC: 0.87\n"
     ]
    },
    {
     "name": "stderr",
     "output_type": "stream",
     "text": [
      " 10%|█         | 3/30 [00:04<00:36,  1.35s/it]"
     ]
    },
    {
     "name": "stdout",
     "output_type": "stream",
     "text": [
      "Repetição 3 - Acurácia: 0.98, Precisão: 0.81, Recall: 0.73, F1-score: 0.77, ROC AUC: 0.86\n"
     ]
    },
    {
     "name": "stderr",
     "output_type": "stream",
     "text": [
      " 13%|█▎        | 4/30 [00:05<00:34,  1.33s/it]"
     ]
    },
    {
     "name": "stdout",
     "output_type": "stream",
     "text": [
      "Repetição 4 - Acurácia: 0.98, Precisão: 0.83, Recall: 0.75, F1-score: 0.79, ROC AUC: 0.87\n"
     ]
    },
    {
     "name": "stderr",
     "output_type": "stream",
     "text": [
      " 17%|█▋        | 5/30 [00:06<00:33,  1.32s/it]"
     ]
    },
    {
     "name": "stdout",
     "output_type": "stream",
     "text": [
      "Repetição 5 - Acurácia: 0.98, Precisão: 0.81, Recall: 0.73, F1-score: 0.77, ROC AUC: 0.86\n"
     ]
    },
    {
     "name": "stderr",
     "output_type": "stream",
     "text": [
      " 20%|██        | 6/30 [00:08<00:31,  1.32s/it]"
     ]
    },
    {
     "name": "stdout",
     "output_type": "stream",
     "text": [
      "Repetição 6 - Acurácia: 0.98, Precisão: 0.81, Recall: 0.73, F1-score: 0.76, ROC AUC: 0.86\n"
     ]
    },
    {
     "name": "stderr",
     "output_type": "stream",
     "text": [
      " 23%|██▎       | 7/30 [00:09<00:30,  1.31s/it]"
     ]
    },
    {
     "name": "stdout",
     "output_type": "stream",
     "text": [
      "Repetição 7 - Acurácia: 0.98, Precisão: 0.80, Recall: 0.73, F1-score: 0.76, ROC AUC: 0.86\n"
     ]
    },
    {
     "name": "stderr",
     "output_type": "stream",
     "text": [
      " 27%|██▋       | 8/30 [00:10<00:28,  1.30s/it]"
     ]
    },
    {
     "name": "stdout",
     "output_type": "stream",
     "text": [
      "Repetição 8 - Acurácia: 0.98, Precisão: 0.82, Recall: 0.74, F1-score: 0.78, ROC AUC: 0.87\n"
     ]
    },
    {
     "name": "stderr",
     "output_type": "stream",
     "text": [
      " 30%|███       | 9/30 [00:11<00:27,  1.30s/it]"
     ]
    },
    {
     "name": "stdout",
     "output_type": "stream",
     "text": [
      "Repetição 9 - Acurácia: 0.98, Precisão: 0.81, Recall: 0.73, F1-score: 0.77, ROC AUC: 0.86\n"
     ]
    },
    {
     "name": "stderr",
     "output_type": "stream",
     "text": [
      " 33%|███▎      | 10/30 [00:13<00:25,  1.29s/it]"
     ]
    },
    {
     "name": "stdout",
     "output_type": "stream",
     "text": [
      "Repetição 10 - Acurácia: 0.98, Precisão: 0.81, Recall: 0.72, F1-score: 0.77, ROC AUC: 0.86\n"
     ]
    },
    {
     "name": "stderr",
     "output_type": "stream",
     "text": [
      " 37%|███▋      | 11/30 [00:14<00:24,  1.31s/it]"
     ]
    },
    {
     "name": "stdout",
     "output_type": "stream",
     "text": [
      "Repetição 11 - Acurácia: 0.98, Precisão: 0.80, Recall: 0.74, F1-score: 0.77, ROC AUC: 0.87\n"
     ]
    },
    {
     "name": "stderr",
     "output_type": "stream",
     "text": [
      " 40%|████      | 12/30 [00:15<00:23,  1.31s/it]"
     ]
    },
    {
     "name": "stdout",
     "output_type": "stream",
     "text": [
      "Repetição 12 - Acurácia: 0.98, Precisão: 0.81, Recall: 0.71, F1-score: 0.76, ROC AUC: 0.85\n"
     ]
    },
    {
     "name": "stderr",
     "output_type": "stream",
     "text": [
      " 43%|████▎     | 13/30 [00:17<00:22,  1.32s/it]"
     ]
    },
    {
     "name": "stdout",
     "output_type": "stream",
     "text": [
      "Repetição 13 - Acurácia: 0.98, Precisão: 0.80, Recall: 0.70, F1-score: 0.74, ROC AUC: 0.84\n"
     ]
    },
    {
     "name": "stderr",
     "output_type": "stream",
     "text": [
      " 47%|████▋     | 14/30 [00:18<00:20,  1.31s/it]"
     ]
    },
    {
     "name": "stdout",
     "output_type": "stream",
     "text": [
      "Repetição 14 - Acurácia: 0.98, Precisão: 0.83, Recall: 0.76, F1-score: 0.79, ROC AUC: 0.88\n"
     ]
    },
    {
     "name": "stderr",
     "output_type": "stream",
     "text": [
      " 50%|█████     | 15/30 [00:19<00:19,  1.31s/it]"
     ]
    },
    {
     "name": "stdout",
     "output_type": "stream",
     "text": [
      "Repetição 15 - Acurácia: 0.98, Precisão: 0.82, Recall: 0.75, F1-score: 0.78, ROC AUC: 0.87\n"
     ]
    },
    {
     "name": "stderr",
     "output_type": "stream",
     "text": [
      " 53%|█████▎    | 16/30 [00:21<00:18,  1.30s/it]"
     ]
    },
    {
     "name": "stdout",
     "output_type": "stream",
     "text": [
      "Repetição 16 - Acurácia: 0.98, Precisão: 0.80, Recall: 0.76, F1-score: 0.78, ROC AUC: 0.87\n"
     ]
    },
    {
     "name": "stderr",
     "output_type": "stream",
     "text": [
      " 57%|█████▋    | 17/30 [00:22<00:16,  1.30s/it]"
     ]
    },
    {
     "name": "stdout",
     "output_type": "stream",
     "text": [
      "Repetição 17 - Acurácia: 0.98, Precisão: 0.81, Recall: 0.72, F1-score: 0.76, ROC AUC: 0.85\n"
     ]
    },
    {
     "name": "stderr",
     "output_type": "stream",
     "text": [
      " 60%|██████    | 18/30 [00:23<00:15,  1.29s/it]"
     ]
    },
    {
     "name": "stdout",
     "output_type": "stream",
     "text": [
      "Repetição 18 - Acurácia: 0.98, Precisão: 0.80, Recall: 0.73, F1-score: 0.76, ROC AUC: 0.86\n"
     ]
    },
    {
     "name": "stderr",
     "output_type": "stream",
     "text": [
      " 63%|██████▎   | 19/30 [00:24<00:14,  1.30s/it]"
     ]
    },
    {
     "name": "stdout",
     "output_type": "stream",
     "text": [
      "Repetição 19 - Acurácia: 0.98, Precisão: 0.80, Recall: 0.76, F1-score: 0.78, ROC AUC: 0.88\n"
     ]
    },
    {
     "name": "stderr",
     "output_type": "stream",
     "text": [
      " 67%|██████▋   | 20/30 [00:26<00:13,  1.31s/it]"
     ]
    },
    {
     "name": "stdout",
     "output_type": "stream",
     "text": [
      "Repetição 20 - Acurácia: 0.98, Precisão: 0.80, Recall: 0.73, F1-score: 0.77, ROC AUC: 0.86\n"
     ]
    },
    {
     "name": "stderr",
     "output_type": "stream",
     "text": [
      " 70%|███████   | 21/30 [00:27<00:11,  1.32s/it]"
     ]
    },
    {
     "name": "stdout",
     "output_type": "stream",
     "text": [
      "Repetição 21 - Acurácia: 0.98, Precisão: 0.83, Recall: 0.71, F1-score: 0.76, ROC AUC: 0.85\n"
     ]
    },
    {
     "name": "stderr",
     "output_type": "stream",
     "text": [
      " 73%|███████▎  | 22/30 [00:28<00:10,  1.31s/it]"
     ]
    },
    {
     "name": "stdout",
     "output_type": "stream",
     "text": [
      "Repetição 22 - Acurácia: 0.98, Precisão: 0.81, Recall: 0.74, F1-score: 0.77, ROC AUC: 0.86\n"
     ]
    },
    {
     "name": "stderr",
     "output_type": "stream",
     "text": [
      " 77%|███████▋  | 23/30 [00:30<00:09,  1.30s/it]"
     ]
    },
    {
     "name": "stdout",
     "output_type": "stream",
     "text": [
      "Repetição 23 - Acurácia: 0.98, Precisão: 0.82, Recall: 0.76, F1-score: 0.79, ROC AUC: 0.88\n"
     ]
    },
    {
     "name": "stderr",
     "output_type": "stream",
     "text": [
      " 80%|████████  | 24/30 [00:31<00:07,  1.30s/it]"
     ]
    },
    {
     "name": "stdout",
     "output_type": "stream",
     "text": [
      "Repetição 24 - Acurácia: 0.98, Precisão: 0.81, Recall: 0.74, F1-score: 0.78, ROC AUC: 0.87\n"
     ]
    },
    {
     "name": "stderr",
     "output_type": "stream",
     "text": [
      " 83%|████████▎ | 25/30 [00:32<00:06,  1.31s/it]"
     ]
    },
    {
     "name": "stdout",
     "output_type": "stream",
     "text": [
      "Repetição 25 - Acurácia: 0.98, Precisão: 0.82, Recall: 0.75, F1-score: 0.78, ROC AUC: 0.87\n"
     ]
    },
    {
     "name": "stderr",
     "output_type": "stream",
     "text": [
      " 87%|████████▋ | 26/30 [00:34<00:05,  1.30s/it]"
     ]
    },
    {
     "name": "stdout",
     "output_type": "stream",
     "text": [
      "Repetição 26 - Acurácia: 0.98, Precisão: 0.81, Recall: 0.74, F1-score: 0.78, ROC AUC: 0.87\n"
     ]
    },
    {
     "name": "stderr",
     "output_type": "stream",
     "text": [
      " 90%|█████████ | 27/30 [00:35<00:03,  1.30s/it]"
     ]
    },
    {
     "name": "stdout",
     "output_type": "stream",
     "text": [
      "Repetição 27 - Acurácia: 0.98, Precisão: 0.82, Recall: 0.73, F1-score: 0.77, ROC AUC: 0.86\n"
     ]
    },
    {
     "name": "stderr",
     "output_type": "stream",
     "text": [
      " 93%|█████████▎| 28/30 [00:36<00:02,  1.31s/it]"
     ]
    },
    {
     "name": "stdout",
     "output_type": "stream",
     "text": [
      "Repetição 28 - Acurácia: 0.98, Precisão: 0.79, Recall: 0.73, F1-score: 0.76, ROC AUC: 0.86\n"
     ]
    },
    {
     "name": "stderr",
     "output_type": "stream",
     "text": [
      " 97%|█████████▋| 29/30 [00:37<00:01,  1.30s/it]"
     ]
    },
    {
     "name": "stdout",
     "output_type": "stream",
     "text": [
      "Repetição 29 - Acurácia: 0.98, Precisão: 0.82, Recall: 0.74, F1-score: 0.78, ROC AUC: 0.87\n"
     ]
    },
    {
     "name": "stderr",
     "output_type": "stream",
     "text": [
      "100%|██████████| 30/30 [00:39<00:00,  1.32s/it]"
     ]
    },
    {
     "name": "stdout",
     "output_type": "stream",
     "text": [
      "Repetição 30 - Acurácia: 0.98, Precisão: 0.82, Recall: 0.76, F1-score: 0.79, ROC AUC: 0.87\n",
      "Média das Acurácias: 0.98132 ± 0.00082\n",
      "Média das Precisões: 0.81238 ± 0.01030\n",
      "Média dos Recalls: 0.73690 ± 0.01586\n",
      "Média dos F1-scores: 0.77271 ± 0.01106\n",
      "Média dos ROC AUC: 0.86462 ± 0.00793\n"
     ]
    },
    {
     "name": "stderr",
     "output_type": "stream",
     "text": [
      "\n"
     ]
    }
   ],
   "source": [
    "num_repeticoes = 30\n",
    "\n",
    "# Listas para armazenar as métricas\n",
    "acuracias = []\n",
    "precisoes = []\n",
    "recalls = []\n",
    "f1_scores = []\n",
    "roc_auc_scores = []\n",
    "\n",
    "# Loop para repetir o processo\n",
    "for i in tqdm(range(num_repeticoes)):\n",
    "\n",
    "    x_train, x_test, y_train, y_test = train_test_split(x_all, y_all, test_size=0.2, stratify=y_all)\n",
    "    \n",
    "    #inicializar o modelo KNN\n",
    "    modelo_knn = KNeighborsClassifier(n_neighbors=7)  # Escolha o número de vizinhos desejado\n",
    "\n",
    "    # Treinar o modelo no conjunto de treino\n",
    "    modelo_knn.fit(np.array(x_train), y_train)\n",
    "\n",
    "    # Fazer previsões no conjunto de teste\n",
    "    previsoes = modelo_knn.predict(np.array(x_test))\n",
    "\n",
    "    # Avaliar as métricas do modelo e armazenar na lista\n",
    "    acuracia = accuracy_score(y_test, previsoes)\n",
    "    precisao = precision_score(y_test, previsoes)\n",
    "    recall = recall_score(y_test, previsoes)\n",
    "    f1 = f1_score(y_test, previsoes)\n",
    "    roc_auc = roc_auc_score(y_test, previsoes)\n",
    "    \n",
    "    acuracias.append(acuracia)\n",
    "    precisoes.append(precisao)\n",
    "    recalls.append(recall)\n",
    "    f1_scores.append(f1)\n",
    "    roc_auc_scores.append(roc_auc)\n",
    "\n",
    "    print(f'Repetição {i+1} - Acurácia: {acuracia:.2f}, Precisão: {precisao:.2f}, Recall: {recall:.2f}, F1-score: {f1:.2f}, ROC AUC: {roc_auc:.2f}')\n",
    "\n",
    "# Calcular as médias das métricas\n",
    "media_acuracias = np.mean(acuracias)\n",
    "media_precisoes = np.mean(precisoes)\n",
    "media_recalls = np.mean(recalls)\n",
    "media_f1_scores = np.mean(f1_scores)\n",
    "media_roc_auc_scores = np.mean(roc_auc_scores)\n",
    "\n",
    "# Calcular os desvios padrão das métricas\n",
    "dp_acuracias = np.std(acuracias)\n",
    "dp_precisoes = np.std(precisoes)\n",
    "dp_recalls = np.std(recalls)\n",
    "dp_f1_scores = np.std(f1_scores)\n",
    "dp_roc_auc_scores = np.std(roc_auc_scores)\n",
    "\n",
    "# Adicionar as médias e desvios padrão às listas de métricas\n",
    "Acurracy.append(media_acuracias)\n",
    "Precision.append(media_precisoes)\n",
    "Recall.append(media_recalls)\n",
    "F1_score.append(media_f1_scores)\n",
    "Roc_auc.append(media_roc_auc_scores)\n",
    "\n",
    "AcurracyDP.append(dp_acuracias)\n",
    "PrecisionDP.append(dp_precisoes)\n",
    "RecallDP.append(dp_recalls)\n",
    "F1_scoreDP.append(dp_f1_scores)\n",
    "Roc_aucDP.append(dp_roc_auc_scores)\n",
    "\n",
    "print(f'Média das Acurácias: {media_acuracias:.5f} ± {dp_acuracias:.5f}')\n",
    "print(f'Média das Precisões: {media_precisoes:.5f} ± {dp_precisoes:.5f}')\n",
    "print(f'Média dos Recalls: {media_recalls:.5f} ± {dp_recalls:.5f}')\n",
    "print(f'Média dos F1-scores: {media_f1_scores:.5f} ± {dp_f1_scores:.5f}')\n",
    "print(f'Média dos ROC AUC: {media_roc_auc_scores:.5f} ± {dp_roc_auc_scores:.5f}')"
   ]
  },
  {
   "cell_type": "code",
   "execution_count": null,
   "metadata": {},
   "outputs": [
    {
     "data": {
      "text/html": [
       "<style type=\"text/css\">\n",
       "#T_a0b85_row0_col0, #T_a0b85_row0_col2, #T_a0b85_row1_col0, #T_a0b85_row1_col1, #T_a0b85_row1_col2, #T_a0b85_row1_col3, #T_a0b85_row1_col4, #T_a0b85_row1_col5, #T_a0b85_row2_col0, #T_a0b85_row2_col1, #T_a0b85_row2_col2, #T_a0b85_row2_col3, #T_a0b85_row2_col4, #T_a0b85_row2_col5, #T_a0b85_row3_col0, #T_a0b85_row3_col1, #T_a0b85_row3_col3, #T_a0b85_row3_col4, #T_a0b85_row3_col5 {\n",
       "  color: white;\n",
       "}\n",
       "#T_a0b85_row0_col1, #T_a0b85_row0_col3, #T_a0b85_row0_col4, #T_a0b85_row0_col5, #T_a0b85_row3_col2 {\n",
       "  background-color: green;\n",
       "  color: white;\n",
       "}\n",
       "</style>\n",
       "<table id=\"T_a0b85\">\n",
       "  <thead>\n",
       "    <tr>\n",
       "      <th class=\"blank level0\" >&nbsp;</th>\n",
       "      <th id=\"T_a0b85_level0_col0\" class=\"col_heading level0 col0\" >Modelos</th>\n",
       "      <th id=\"T_a0b85_level0_col1\" class=\"col_heading level0 col1\" >Acuracia (DREBIN)</th>\n",
       "      <th id=\"T_a0b85_level0_col2\" class=\"col_heading level0 col2\" >Precisão (DREBIN)</th>\n",
       "      <th id=\"T_a0b85_level0_col3\" class=\"col_heading level0 col3\" >Recall (DREBIN)</th>\n",
       "      <th id=\"T_a0b85_level0_col4\" class=\"col_heading level0 col4\" >F1 Score</th>\n",
       "      <th id=\"T_a0b85_level0_col5\" class=\"col_heading level0 col5\" >AUC RoC</th>\n",
       "    </tr>\n",
       "  </thead>\n",
       "  <tbody>\n",
       "    <tr>\n",
       "      <th id=\"T_a0b85_level0_row0\" class=\"row_heading level0 row0\" >0</th>\n",
       "      <td id=\"T_a0b85_row0_col0\" class=\"data row0 col0\" >Decision Tree</td>\n",
       "      <td id=\"T_a0b85_row0_col1\" class=\"data row0 col1\" >0.9818 ± 0.0008</td>\n",
       "      <td id=\"T_a0b85_row0_col2\" class=\"data row0 col2\" >0.7715 ± 0.0123</td>\n",
       "      <td id=\"T_a0b85_row0_col3\" class=\"data row0 col3\" >0.8207 ± 0.0100</td>\n",
       "      <td id=\"T_a0b85_row0_col4\" class=\"data row0 col4\" >0.7953 ± 0.0080</td>\n",
       "      <td id=\"T_a0b85_row0_col5\" class=\"data row0 col5\" >0.9049 ± 0.0049</td>\n",
       "    </tr>\n",
       "    <tr>\n",
       "      <th id=\"T_a0b85_level0_row1\" class=\"row_heading level0 row1\" >1</th>\n",
       "      <td id=\"T_a0b85_row1_col0\" class=\"data row1 col0\" >Naive Bayes</td>\n",
       "      <td id=\"T_a0b85_row1_col1\" class=\"data row1 col1\" >0.9569 ± 0.0000</td>\n",
       "      <td id=\"T_a0b85_row1_col2\" class=\"data row1 col2\" >0.0000 ± 0.0000</td>\n",
       "      <td id=\"T_a0b85_row1_col3\" class=\"data row1 col3\" >0.0000 ± 0.0000</td>\n",
       "      <td id=\"T_a0b85_row1_col4\" class=\"data row1 col4\" >0.0000 ± 0.0000</td>\n",
       "      <td id=\"T_a0b85_row1_col5\" class=\"data row1 col5\" >0.5000 ± 0.0000</td>\n",
       "    </tr>\n",
       "    <tr>\n",
       "      <th id=\"T_a0b85_level0_row2\" class=\"row_heading level0 row2\" >2</th>\n",
       "      <td id=\"T_a0b85_row2_col0\" class=\"data row2 col0\" >MLP</td>\n",
       "      <td id=\"T_a0b85_row2_col1\" class=\"data row2 col1\" >0.9765 ± 0.0018</td>\n",
       "      <td id=\"T_a0b85_row2_col2\" class=\"data row2 col2\" >0.8060 ± 0.0473</td>\n",
       "      <td id=\"T_a0b85_row2_col3\" class=\"data row2 col3\" >0.6052 ± 0.0496</td>\n",
       "      <td id=\"T_a0b85_row2_col4\" class=\"data row2 col4\" >0.6882 ± 0.0247</td>\n",
       "      <td id=\"T_a0b85_row2_col5\" class=\"data row2 col5\" >0.7992 ± 0.0237</td>\n",
       "    </tr>\n",
       "    <tr>\n",
       "      <th id=\"T_a0b85_level0_row3\" class=\"row_heading level0 row3\" >3</th>\n",
       "      <td id=\"T_a0b85_row3_col0\" class=\"data row3 col0\" >KNN</td>\n",
       "      <td id=\"T_a0b85_row3_col1\" class=\"data row3 col1\" >0.9813 ± 0.0008</td>\n",
       "      <td id=\"T_a0b85_row3_col2\" class=\"data row3 col2\" >0.8124 ± 0.0103</td>\n",
       "      <td id=\"T_a0b85_row3_col3\" class=\"data row3 col3\" >0.7369 ± 0.0159</td>\n",
       "      <td id=\"T_a0b85_row3_col4\" class=\"data row3 col4\" >0.7727 ± 0.0111</td>\n",
       "      <td id=\"T_a0b85_row3_col5\" class=\"data row3 col5\" >0.8646 ± 0.0079</td>\n",
       "    </tr>\n",
       "  </tbody>\n",
       "</table>\n"
      ],
      "text/plain": [
       "<pandas.io.formats.style.Styler at 0x1e57b204c10>"
      ]
     },
     "execution_count": 46,
     "metadata": {},
     "output_type": "execute_result"
    }
   ],
   "source": [
    "import pandas as pd\n",
    "\n",
    "# Definir os modelos\n",
    "Modelos = ['Decision Tree', 'Naive Bayes', 'MLP', 'KNN']\n",
    "\n",
    "# Criar um DataFrame do Pandas com os valores das variáveis\n",
    "df = pd.DataFrame({\n",
    "    'Modelos': Modelos,\n",
    "    'Acuracia (DREBIN)': [f\"{media:.4f} ± {dp:.4f}\" for media, dp in zip(Acurracy, AcurracyDP)],\n",
    "    'Precisão (DREBIN)': [f\"{media:.4f} ± {dp:.4f}\" for media, dp in zip(Precision, PrecisionDP)],\n",
    "    'Recall (DREBIN)': [f\"{media:.4f} ± {dp:.4f}\" for media, dp in zip(Recall, RecallDP)],\n",
    "    'F1 Score': [f\"{media:.4f} ± {dp:.4f}\" for media, dp in zip(F1_score, F1_scoreDP)],\n",
    "    'AUC RoC': [f\"{media:.4f} ± {dp:.4f}\" for media, dp in zip(Roc_auc, Roc_aucDP)]\n",
    "})\n",
    "\n",
    "# Função para destacar o maior valor de cada coluna\n",
    "def highlight_max(s):\n",
    "    is_max = s == s.max()\n",
    "    return ['background-color: green' if v else '' for v in is_max]\n",
    "\n",
    "# Aplicar a função de destaque apenas para as colunas numéricas\n",
    "numeric_columns = df.columns[1:]\n",
    "styled_df = df.style.apply(highlight_max, subset=numeric_columns)\n",
    "\n",
    "# Definir a cor do texto para a tabela\n",
    "styled_df.set_properties(**{'color': 'white'}, subset=pd.IndexSlice[:, :])\n",
    "\n",
    "# Exibir o DataFrame estilizado no Jupyter Notebook\n",
    "styled_df\n"
   ]
  },
  {
   "cell_type": "markdown",
   "metadata": {},
   "source": [
    "### Bagging"
   ]
  },
  {
   "cell_type": "code",
   "execution_count": null,
   "metadata": {},
   "outputs": [
    {
     "name": "stdout",
     "output_type": "stream",
     "text": [
      "Acurácia do modelo Bagging com Decision Tree: 0.9886834864163082\n",
      "Precisão do modelo Bagging com Decision Tree: 0.9019607843137255\n",
      "Recall do modelo Bagging com Decision Tree: 0.8273381294964028\n",
      "F1-score do modelo Bagging com Decision Tree: 0.8630393996247655\n",
      "AUC ROC do modelo Bagging com Decision Tree: 0.9116440353852757\n",
      "Matriz de confusão do modelo Bagging com Decision Tree:\n",
      "[[24591   100]\n",
      " [  192   920]]\n"
     ]
    }
   ],
   "source": [
    "# Definir o classificador Decision Tree\n",
    "modelo_arvore = DecisionTreeClassifier(criterion='gini')\n",
    "\n",
    "# Definir o classificador de Bagging com Decision Tree como base\n",
    "bagging_clf = BaggingClassifier(estimator = modelo_arvore, n_estimators=30)\n",
    "\n",
    "# Treinar o modelo Bagging\n",
    "bagging_clf.fit(x_train, y_train)\n",
    "\n",
    "# Prever usando o modelo Bagging\n",
    "y_pred = bagging_clf.predict(x_test)\n",
    "\n",
    "# Avaliar a precisão do modelo\n",
    "accuracy_bagging = accuracy_score(y_test, y_pred)\n",
    "precision_bagging = precision_score(y_test, y_pred)\n",
    "recall_bagging = recall_score(y_test, y_pred)\n",
    "f1_score_bagging = f1_score(y_test, y_pred)\n",
    "auc_roc_bagging = roc_auc_score(y_test, y_pred)\n",
    "\n",
    "\n",
    "print(\"Acurácia do modelo Bagging com Decision Tree:\", accuracy_bagging)\n",
    "print(\"Precisão do modelo Bagging com Decision Tree:\", precision_bagging)\n",
    "print(\"Recall do modelo Bagging com Decision Tree:\", recall_bagging)\n",
    "print(\"F1-score do modelo Bagging com Decision Tree:\", f1_score_bagging)\n",
    "print(\"AUC ROC do modelo Bagging com Decision Tree:\", auc_roc_bagging)\n",
    "\n",
    "# Matriz de confusão\n",
    "conf_matrix_bagging = confusion_matrix(y_test, y_pred)\n",
    "print(\"Matriz de confusão do modelo Bagging com Decision Tree:\")\n",
    "print(conf_matrix_bagging)\n",
    "\n",
    "# Adicione a acurácia à lista de acurácias do Bagging\n",
    "AcurracyBagging.append(accuracy_bagging)\n",
    "PrecisionBagging.append(precision_bagging)\n",
    "RecallBagging.append(recall_bagging)\n",
    "F1Bagging.append(f1_score_bagging)\n",
    "Roc_aucBagging.append(auc_roc_bagging)\n",
    "\n"
   ]
  },
  {
   "cell_type": "code",
   "execution_count": 8,
   "metadata": {},
   "outputs": [
    {
     "name": "stdout",
     "output_type": "stream",
     "text": [
      "Acurácia do modelo Bagging com Naive Bayes: 0.5422661870503597\n",
      "Precisão do modelo Bagging com Naive Bayes: 0.5238821138211383\n",
      "Recall do modelo Bagging com Naive Bayes: 0.927158273381295\n",
      "F1-score do modelo Bagging com Naive Bayes: 0.6694805194805195\n",
      "AUC ROC do modelo Bagging com Naive Bayes: 0.5422661870503597\n",
      "Matriz de confusão do modelo Bagging com Naive Bayes:\n",
      "[[ 175  937]\n",
      " [  81 1031]]\n"
     ]
    }
   ],
   "source": [
    "# Inicializar o modelo de Naive Bayes com distribuição de Bernoulli\n",
    "modelo_naive_bayes = BernoulliNB()\n",
    "\n",
    "# Definir o classificador de Bagging com Naive Bayes como base\n",
    "bagging_clf = BaggingClassifier(estimator=modelo_naive_bayes, n_estimators=30)\n",
    "\n",
    "# Treinar o modelo Bagging\n",
    "bagging_clf.fit(x_train, y_train)\n",
    "\n",
    "# Prever usando o modelo Bagging\n",
    "y_pred = bagging_clf.predict(x_test)\n",
    "\n",
    "# Avaliar a precisão do modelo\n",
    "accuracy_bagging = accuracy_score(y_test, y_pred)\n",
    "precision_bagging = precision_score(y_test, y_pred)\n",
    "recall_bagging = recall_score(y_test, y_pred)\n",
    "f1_score_bagging = f1_score(y_test, y_pred)\n",
    "auc_roc_bagging = roc_auc_score(y_test, y_pred)\n",
    "\n",
    "\n",
    "print(\"Acurácia do modelo Bagging com Naive Bayes:\", accuracy_bagging)\n",
    "print(\"Precisão do modelo Bagging com Naive Bayes:\", precision_bagging)\n",
    "print(\"Recall do modelo Bagging com Naive Bayes:\", recall_bagging)\n",
    "print(\"F1-score do modelo Bagging com Naive Bayes:\", f1_score_bagging)\n",
    "print(\"AUC ROC do modelo Bagging com Naive Bayes:\", auc_roc_bagging)\n",
    "\n",
    "# Matriz de confusão\n",
    "conf_matrix_bagging = confusion_matrix(y_test, y_pred)\n",
    "print(\"Matriz de confusão do modelo Bagging com Naive Bayes:\")\n",
    "print(conf_matrix_bagging)\n",
    "\n",
    "# Adicione a acurácia à lista de acurácias do Bagging\n",
    "AcurracyBagging.append(accuracy_bagging)\n",
    "PrecisionBagging.append(precision_bagging)\n",
    "RecallBagging.append(recall_bagging)\n",
    "F1Bagging.append(f1_score_bagging)\n",
    "Roc_aucBagging.append(auc_roc_bagging)"
   ]
  },
  {
   "cell_type": "code",
   "execution_count": null,
   "metadata": {},
   "outputs": [
    {
     "name": "stdout",
     "output_type": "stream",
     "text": [
      "Acurácia do modelo Bagging com MLP: 0.9807774289811262\n",
      "Precisão do modelo Bagging com MLP: 0.8548387096774194\n",
      "Recall do modelo Bagging com MLP: 0.6672661870503597\n",
      "F1-score do modelo Bagging com MLP: 0.7494949494949495\n",
      "AUC ROC do modelo Bagging com MLP: 0.8310815565278935\n",
      "Matriz de confusão do modelo Bagging com MLP:\n",
      "[[24565   126]\n",
      " [  370   742]]\n"
     ]
    }
   ],
   "source": [
    "# Definir o classificador base (MLP)\n",
    "modelo_mlp = MLPClassifier(hidden_layer_sizes=(100), max_iter=1000)\n",
    "\n",
    "# Definir o classificador de Bagging com MLP como base\n",
    "bagging_clf = BaggingClassifier(estimator=modelo_mlp, n_estimators=30)\n",
    "\n",
    "# Treinar o modelo Bagging\n",
    "bagging_clf.fit(x_train, y_train)\n",
    "\n",
    "# Prever usando o modelo Bagging\n",
    "y_pred = bagging_clf.predict(x_test)\n",
    "\n",
    "# Avaliar a precisão do modelo\n",
    "accuracy_bagging = accuracy_score(y_test, y_pred)\n",
    "precision_bagging = precision_score(y_test, y_pred)\n",
    "recall_bagging = recall_score(y_test, y_pred)\n",
    "f1_score_bagging = f1_score(y_test, y_pred)\n",
    "auc_roc_bagging = roc_auc_score(y_test, y_pred)\n",
    "\n",
    "\n",
    "print(\"Acurácia do modelo Bagging com MLP:\", accuracy_bagging)\n",
    "print(\"Precisão do modelo Bagging com MLP:\", precision_bagging)\n",
    "print(\"Recall do modelo Bagging com MLP:\", recall_bagging)\n",
    "print(\"F1-score do modelo Bagging com MLP:\", f1_score_bagging)\n",
    "print(\"AUC ROC do modelo Bagging com MLP:\", auc_roc_bagging)\n",
    "\n",
    "# Matriz de confusão\n",
    "conf_matrix_bagging = confusion_matrix(y_test, y_pred)\n",
    "print(\"Matriz de confusão do modelo Bagging com MLP:\")\n",
    "print(conf_matrix_bagging)\n",
    "\n",
    "# Adicione a acurácia à lista de acurácias do Bagging\n",
    "AcurracyBagging.append(accuracy_bagging)\n",
    "PrecisionBagging.append(precision_bagging)\n",
    "RecallBagging.append(recall_bagging)\n",
    "F1Bagging.append(f1_score_bagging)\n",
    "Roc_aucBagging.append(auc_roc_bagging)"
   ]
  },
  {
   "cell_type": "code",
   "execution_count": null,
   "metadata": {},
   "outputs": [
    {
     "name": "stdout",
     "output_type": "stream",
     "text": [
      "Acurácia do modelo Bagging com KNN: 0.9829089640739449\n",
      "Precisão do modelo Bagging com KNN: 0.8273170731707317\n",
      "Recall do modelo Bagging com KNN: 0.762589928057554\n",
      "F1-score do modelo Bagging com KNN: 0.7936359382311652\n",
      "AUC ROC do modelo Bagging com KNN: 0.8777106620563985\n",
      "Matriz de confusão do modelo Bagging com KNN:\n",
      "[[24514   177]\n",
      " [  264   848]]\n"
     ]
    }
   ],
   "source": [
    "#inicializar o modelo KNN\n",
    "modelo_knn = KNeighborsClassifier(n_neighbors=7)  # Escolha o número de vizinhos desejado\n",
    "\n",
    "# Definir o classificador de Bagging com KNN como base\n",
    "bagging_clf = BaggingClassifier(estimator=modelo_knn, n_estimators=30)\n",
    "\n",
    "# Treinar o modelo Bagging\n",
    "bagging_clf.fit(x_train, y_train)\n",
    "\n",
    "# Prever usando o modelo Bagging\n",
    "y_pred = bagging_clf.predict(x_test)\n",
    "\n",
    "# Avaliar a precisão do modelo\n",
    "accuracy_bagging = accuracy_score(y_test, y_pred)\n",
    "precision_bagging = precision_score(y_test, y_pred)\n",
    "recall_bagging = recall_score(y_test, y_pred)\n",
    "f1_score_bagging = f1_score(y_test, y_pred)\n",
    "auc_roc_bagging = roc_auc_score(y_test, y_pred)\n",
    "\n",
    "\n",
    "print(\"Acurácia do modelo Bagging com KNN:\", accuracy_bagging)\n",
    "print(\"Precisão do modelo Bagging com KNN:\", precision_bagging)\n",
    "print(\"Recall do modelo Bagging com KNN:\", recall_bagging)\n",
    "print(\"F1-score do modelo Bagging com KNN:\", f1_score_bagging)\n",
    "print(\"AUC ROC do modelo Bagging com KNN:\", auc_roc_bagging)\n",
    "\n",
    "# Matriz de confusão\n",
    "conf_matrix_bagging = confusion_matrix(y_test, y_pred)\n",
    "print(\"Matriz de confusão do modelo Bagging com KNN:\")\n",
    "print(conf_matrix_bagging)\n",
    "\n",
    "# Adicione a acurácia à lista de acurácias do Bagging\n",
    "AcurracyBagging.append(accuracy_bagging)\n",
    "PrecisionBagging.append(precision_bagging)\n",
    "RecallBagging.append(recall_bagging)\n",
    "F1Bagging.append(f1_score_bagging)\n",
    "Roc_aucBagging.append(auc_roc_bagging)"
   ]
  },
  {
   "cell_type": "code",
   "execution_count": null,
   "metadata": {},
   "outputs": [
    {
     "name": "stdout",
     "output_type": "stream",
     "text": [
      "╒════╤═══════════════════╤═════════════════════╤═════════════════════╤═══════════════════╤════════════╤═══════════╕\n",
      "│    │ Modelos Bagging   │   Acuracia (DREBIN) │   Precisão (DREBIN) │   Recall (DREBIN) │   F1 Score │   AUC ROC │\n",
      "╞════╪═══════════════════╪═════════════════════╪═════════════════════╪═══════════════════╪════════════╪═══════════╡\n",
      "│  0 │ Decision Tree     │              0.9887 │              0.9020 │            0.8273 │     0.8630 │    0.9116 │\n",
      "├────┼───────────────────┼─────────────────────┼─────────────────────┼───────────────────┼────────────┼───────────┤\n",
      "│  1 │ Naive Bayes       │              0.9569 │              0.0000 │            0.0000 │     0.0000 │    0.5000 │\n",
      "├────┼───────────────────┼─────────────────────┼─────────────────────┼───────────────────┼────────────┼───────────┤\n",
      "│  2 │ MLP               │              0.9808 │              0.8548 │            0.6673 │     0.7495 │    0.8311 │\n",
      "├────┼───────────────────┼─────────────────────┼─────────────────────┼───────────────────┼────────────┼───────────┤\n",
      "│  3 │ KNN               │              0.9829 │              0.8273 │            0.7626 │     0.7936 │    0.8777 │\n",
      "╘════╧═══════════════════╧═════════════════════╧═════════════════════╧═══════════════════╧════════════╧═══════════╛\n"
     ]
    }
   ],
   "source": [
    "Modelos = ['Decision Tree', 'Naive Bayes', 'MLP', 'KNN']\n",
    "# Criar um DataFrame do Pandas com os valores das variáveis\n",
    "dfB = pd.DataFrame({'Modelos Bagging': Modelos, 'Acuracia (DREBIN)': AcurracyBagging,\n",
    "                    'Precisão (DREBIN)': PrecisionBagging, 'Recall (DREBIN)':RecallBagging, \n",
    "                    'F1 Score': F1Bagging, 'AUC ROC': Roc_aucBagging})\n",
    "\n",
    "print(tabulate(dfB, headers='keys', tablefmt='fancy_grid', floatfmt=\".4f\"))"
   ]
  },
  {
   "cell_type": "markdown",
   "metadata": {},
   "source": [
    "### Balanceamento de dados"
   ]
  },
  {
   "cell_type": "code",
   "execution_count": null,
   "metadata": {},
   "outputs": [
    {
     "name": "stdout",
     "output_type": "stream",
     "text": [
      "(197524, 8) (197524,)\n",
      "(49382, 8) (49382,)\n"
     ]
    }
   ],
   "source": [
    "smote = SMOTE(sampling_strategy='auto', random_state=42)\n",
    "X_resampled, y_resampled = smote.fit_resample(x_all, y_all)\n",
    "\n",
    "x_train, x_test, y_train, y_test = train_test_split(X_resampled, y_resampled, test_size=0.2, stratify=y_resampled)\n",
    "print(x_train.shape, y_train.shape)\n",
    "print(x_test.shape, y_test.shape)"
   ]
  },
  {
   "cell_type": "code",
   "execution_count": null,
   "metadata": {},
   "outputs": [
    {
     "name": "stdout",
     "output_type": "stream",
     "text": [
      "Proporção das classes no conjunto original:\n",
      "Classe 0: 0.96\n",
      "Classe 1: 0.04\n",
      "Proporção das classes no conjunto resampleado:\n",
      "Classe 0: 0.50\n",
      "Classe 1: 0.50\n"
     ]
    }
   ],
   "source": [
    "# Calcular proporção das classes em y_all\n",
    "unique_classes, class_counts = np.unique(y_all, return_counts=True)\n",
    "proporcao_classes_resampled = class_counts / len(y_all)\n",
    "\n",
    "print(\"Proporção das classes no conjunto original:\")\n",
    "for classe, proporcao in zip(unique_classes, proporcao_classes_resampled):\n",
    "    print(f\"Classe {classe}: {proporcao:.2f}\")\n",
    "\n",
    "# Calcular proporção das classes em y_resampled\n",
    "unique_classes, class_counts = np.unique(y_resampled, return_counts=True)\n",
    "proporcao_classes_resampled = class_counts / len(y_resampled)\n",
    "\n",
    "print(\"Proporção das classes no conjunto resampleado:\")\n",
    "for classe, proporcao in zip(unique_classes, proporcao_classes_resampled):\n",
    "    print(f\"Classe {classe}: {proporcao:.2f}\")"
   ]
  },
  {
   "cell_type": "markdown",
   "metadata": {},
   "source": [
    "### Modelos Base após o Balanceamento"
   ]
  },
  {
   "cell_type": "code",
   "execution_count": null,
   "metadata": {},
   "outputs": [
    {
     "name": "stderr",
     "output_type": "stream",
     "text": [
      "  3%|▎         | 1/30 [00:00<00:15,  1.93it/s]"
     ]
    },
    {
     "name": "stdout",
     "output_type": "stream",
     "text": [
      "Repetição 1 - Acurácia: 0.98, Precisão: 0.97, Recall: 0.99, F1-score: 0.98, ROC AUC: 0.98\n"
     ]
    },
    {
     "name": "stderr",
     "output_type": "stream",
     "text": [
      "  7%|▋         | 2/30 [00:01<00:14,  1.93it/s]"
     ]
    },
    {
     "name": "stdout",
     "output_type": "stream",
     "text": [
      "Repetição 2 - Acurácia: 0.98, Precisão: 0.97, Recall: 0.99, F1-score: 0.98, ROC AUC: 0.98\n"
     ]
    },
    {
     "name": "stderr",
     "output_type": "stream",
     "text": [
      " 10%|█         | 3/30 [00:01<00:14,  1.92it/s]"
     ]
    },
    {
     "name": "stdout",
     "output_type": "stream",
     "text": [
      "Repetição 3 - Acurácia: 0.98, Precisão: 0.97, Recall: 0.99, F1-score: 0.98, ROC AUC: 0.98\n"
     ]
    },
    {
     "name": "stderr",
     "output_type": "stream",
     "text": [
      " 13%|█▎        | 4/30 [00:02<00:13,  1.93it/s]"
     ]
    },
    {
     "name": "stdout",
     "output_type": "stream",
     "text": [
      "Repetição 4 - Acurácia: 0.98, Precisão: 0.97, Recall: 0.99, F1-score: 0.98, ROC AUC: 0.98\n"
     ]
    },
    {
     "name": "stderr",
     "output_type": "stream",
     "text": [
      " 17%|█▋        | 5/30 [00:02<00:12,  1.93it/s]"
     ]
    },
    {
     "name": "stdout",
     "output_type": "stream",
     "text": [
      "Repetição 5 - Acurácia: 0.98, Precisão: 0.97, Recall: 0.99, F1-score: 0.98, ROC AUC: 0.98\n"
     ]
    },
    {
     "name": "stderr",
     "output_type": "stream",
     "text": [
      " 20%|██        | 6/30 [00:03<00:12,  1.91it/s]"
     ]
    },
    {
     "name": "stdout",
     "output_type": "stream",
     "text": [
      "Repetição 6 - Acurácia: 0.98, Precisão: 0.97, Recall: 0.99, F1-score: 0.98, ROC AUC: 0.98\n"
     ]
    },
    {
     "name": "stderr",
     "output_type": "stream",
     "text": [
      " 23%|██▎       | 7/30 [00:03<00:11,  1.93it/s]"
     ]
    },
    {
     "name": "stdout",
     "output_type": "stream",
     "text": [
      "Repetição 7 - Acurácia: 0.98, Precisão: 0.97, Recall: 0.99, F1-score: 0.98, ROC AUC: 0.98\n"
     ]
    },
    {
     "name": "stderr",
     "output_type": "stream",
     "text": [
      " 27%|██▋       | 8/30 [00:04<00:11,  1.93it/s]"
     ]
    },
    {
     "name": "stdout",
     "output_type": "stream",
     "text": [
      "Repetição 8 - Acurácia: 0.98, Precisão: 0.97, Recall: 0.99, F1-score: 0.98, ROC AUC: 0.98\n"
     ]
    },
    {
     "name": "stderr",
     "output_type": "stream",
     "text": [
      " 30%|███       | 9/30 [00:04<00:10,  1.93it/s]"
     ]
    },
    {
     "name": "stdout",
     "output_type": "stream",
     "text": [
      "Repetição 9 - Acurácia: 0.98, Precisão: 0.97, Recall: 0.99, F1-score: 0.98, ROC AUC: 0.98\n"
     ]
    },
    {
     "name": "stderr",
     "output_type": "stream",
     "text": [
      " 33%|███▎      | 10/30 [00:05<00:10,  1.94it/s]"
     ]
    },
    {
     "name": "stdout",
     "output_type": "stream",
     "text": [
      "Repetição 10 - Acurácia: 0.98, Precisão: 0.97, Recall: 0.99, F1-score: 0.98, ROC AUC: 0.98\n"
     ]
    },
    {
     "name": "stderr",
     "output_type": "stream",
     "text": [
      " 37%|███▋      | 11/30 [00:05<00:09,  1.93it/s]"
     ]
    },
    {
     "name": "stdout",
     "output_type": "stream",
     "text": [
      "Repetição 11 - Acurácia: 0.98, Precisão: 0.97, Recall: 0.99, F1-score: 0.98, ROC AUC: 0.98\n"
     ]
    },
    {
     "name": "stderr",
     "output_type": "stream",
     "text": [
      " 40%|████      | 12/30 [00:06<00:09,  1.93it/s]"
     ]
    },
    {
     "name": "stdout",
     "output_type": "stream",
     "text": [
      "Repetição 12 - Acurácia: 0.98, Precisão: 0.97, Recall: 0.99, F1-score: 0.98, ROC AUC: 0.98\n"
     ]
    },
    {
     "name": "stderr",
     "output_type": "stream",
     "text": [
      " 43%|████▎     | 13/30 [00:06<00:08,  1.94it/s]"
     ]
    },
    {
     "name": "stdout",
     "output_type": "stream",
     "text": [
      "Repetição 13 - Acurácia: 0.98, Precisão: 0.98, Recall: 0.99, F1-score: 0.98, ROC AUC: 0.98\n"
     ]
    },
    {
     "name": "stderr",
     "output_type": "stream",
     "text": [
      " 47%|████▋     | 14/30 [00:07<00:08,  1.94it/s]"
     ]
    },
    {
     "name": "stdout",
     "output_type": "stream",
     "text": [
      "Repetição 14 - Acurácia: 0.98, Precisão: 0.98, Recall: 0.99, F1-score: 0.98, ROC AUC: 0.98\n"
     ]
    },
    {
     "name": "stderr",
     "output_type": "stream",
     "text": [
      " 50%|█████     | 15/30 [00:07<00:07,  1.94it/s]"
     ]
    },
    {
     "name": "stdout",
     "output_type": "stream",
     "text": [
      "Repetição 15 - Acurácia: 0.98, Precisão: 0.98, Recall: 0.99, F1-score: 0.98, ROC AUC: 0.98\n"
     ]
    },
    {
     "name": "stderr",
     "output_type": "stream",
     "text": [
      " 53%|█████▎    | 16/30 [00:08<00:07,  1.94it/s]"
     ]
    },
    {
     "name": "stdout",
     "output_type": "stream",
     "text": [
      "Repetição 16 - Acurácia: 0.98, Precisão: 0.98, Recall: 0.99, F1-score: 0.98, ROC AUC: 0.98\n"
     ]
    },
    {
     "name": "stderr",
     "output_type": "stream",
     "text": [
      " 57%|█████▋    | 17/30 [00:08<00:06,  1.93it/s]"
     ]
    },
    {
     "name": "stdout",
     "output_type": "stream",
     "text": [
      "Repetição 17 - Acurácia: 0.98, Precisão: 0.97, Recall: 0.99, F1-score: 0.98, ROC AUC: 0.98\n"
     ]
    },
    {
     "name": "stderr",
     "output_type": "stream",
     "text": [
      " 60%|██████    | 18/30 [00:09<00:06,  1.93it/s]"
     ]
    },
    {
     "name": "stdout",
     "output_type": "stream",
     "text": [
      "Repetição 18 - Acurácia: 0.98, Precisão: 0.97, Recall: 0.99, F1-score: 0.98, ROC AUC: 0.98\n"
     ]
    },
    {
     "name": "stderr",
     "output_type": "stream",
     "text": [
      " 63%|██████▎   | 19/30 [00:09<00:05,  1.93it/s]"
     ]
    },
    {
     "name": "stdout",
     "output_type": "stream",
     "text": [
      "Repetição 19 - Acurácia: 0.98, Precisão: 0.97, Recall: 0.99, F1-score: 0.98, ROC AUC: 0.98\n"
     ]
    },
    {
     "name": "stderr",
     "output_type": "stream",
     "text": [
      " 67%|██████▋   | 20/30 [00:10<00:05,  1.93it/s]"
     ]
    },
    {
     "name": "stdout",
     "output_type": "stream",
     "text": [
      "Repetição 20 - Acurácia: 0.98, Precisão: 0.97, Recall: 0.99, F1-score: 0.98, ROC AUC: 0.98\n"
     ]
    },
    {
     "name": "stderr",
     "output_type": "stream",
     "text": [
      " 70%|███████   | 21/30 [00:10<00:04,  1.94it/s]"
     ]
    },
    {
     "name": "stdout",
     "output_type": "stream",
     "text": [
      "Repetição 21 - Acurácia: 0.98, Precisão: 0.98, Recall: 0.99, F1-score: 0.98, ROC AUC: 0.98\n"
     ]
    },
    {
     "name": "stderr",
     "output_type": "stream",
     "text": [
      " 73%|███████▎  | 22/30 [00:11<00:04,  1.94it/s]"
     ]
    },
    {
     "name": "stdout",
     "output_type": "stream",
     "text": [
      "Repetição 22 - Acurácia: 0.98, Precisão: 0.97, Recall: 0.99, F1-score: 0.98, ROC AUC: 0.98\n"
     ]
    },
    {
     "name": "stderr",
     "output_type": "stream",
     "text": [
      " 77%|███████▋  | 23/30 [00:11<00:03,  1.94it/s]"
     ]
    },
    {
     "name": "stdout",
     "output_type": "stream",
     "text": [
      "Repetição 23 - Acurácia: 0.98, Precisão: 0.97, Recall: 0.99, F1-score: 0.98, ROC AUC: 0.98\n"
     ]
    },
    {
     "name": "stderr",
     "output_type": "stream",
     "text": [
      " 80%|████████  | 24/30 [00:12<00:03,  1.94it/s]"
     ]
    },
    {
     "name": "stdout",
     "output_type": "stream",
     "text": [
      "Repetição 24 - Acurácia: 0.98, Precisão: 0.97, Recall: 0.99, F1-score: 0.98, ROC AUC: 0.98\n"
     ]
    },
    {
     "name": "stderr",
     "output_type": "stream",
     "text": [
      " 83%|████████▎ | 25/30 [00:12<00:02,  1.95it/s]"
     ]
    },
    {
     "name": "stdout",
     "output_type": "stream",
     "text": [
      "Repetição 25 - Acurácia: 0.98, Precisão: 0.97, Recall: 0.99, F1-score: 0.98, ROC AUC: 0.98\n"
     ]
    },
    {
     "name": "stderr",
     "output_type": "stream",
     "text": [
      " 87%|████████▋ | 26/30 [00:13<00:02,  1.95it/s]"
     ]
    },
    {
     "name": "stdout",
     "output_type": "stream",
     "text": [
      "Repetição 26 - Acurácia: 0.98, Precisão: 0.97, Recall: 0.99, F1-score: 0.98, ROC AUC: 0.98\n"
     ]
    },
    {
     "name": "stderr",
     "output_type": "stream",
     "text": [
      " 90%|█████████ | 27/30 [00:13<00:01,  1.92it/s]"
     ]
    },
    {
     "name": "stdout",
     "output_type": "stream",
     "text": [
      "Repetição 27 - Acurácia: 0.98, Precisão: 0.98, Recall: 0.99, F1-score: 0.98, ROC AUC: 0.98\n"
     ]
    },
    {
     "name": "stderr",
     "output_type": "stream",
     "text": [
      " 93%|█████████▎| 28/30 [00:14<00:01,  1.94it/s]"
     ]
    },
    {
     "name": "stdout",
     "output_type": "stream",
     "text": [
      "Repetição 28 - Acurácia: 0.98, Precisão: 0.97, Recall: 0.99, F1-score: 0.98, ROC AUC: 0.98\n"
     ]
    },
    {
     "name": "stderr",
     "output_type": "stream",
     "text": [
      " 97%|█████████▋| 29/30 [00:14<00:00,  1.95it/s]"
     ]
    },
    {
     "name": "stdout",
     "output_type": "stream",
     "text": [
      "Repetição 29 - Acurácia: 0.98, Precisão: 0.98, Recall: 0.99, F1-score: 0.98, ROC AUC: 0.98\n"
     ]
    },
    {
     "name": "stderr",
     "output_type": "stream",
     "text": [
      "100%|██████████| 30/30 [00:15<00:00,  1.94it/s]"
     ]
    },
    {
     "name": "stdout",
     "output_type": "stream",
     "text": [
      "Repetição 30 - Acurácia: 0.98, Precisão: 0.97, Recall: 0.99, F1-score: 0.98, ROC AUC: 0.98\n",
      "Média das Acurácias: 0.98132 ± 0.00053\n",
      "Média das Precisões: 0.97398 ± 0.00101\n",
      "Média dos Recalls: 0.98906 ± 0.00071\n",
      "Média dos F1-scores: 0.98146 ± 0.00053\n",
      "Média dos ROC AUC: 0.98132 ± 0.00053\n"
     ]
    },
    {
     "name": "stderr",
     "output_type": "stream",
     "text": [
      "\n"
     ]
    }
   ],
   "source": [
    "num_repeticoes = 30\n",
    "\n",
    "# Listas para armazenar as métricas\n",
    "acuracias = []\n",
    "precisoes = []\n",
    "recalls = []\n",
    "f1_scores = []\n",
    "roc_auc_scores = []\n",
    "\n",
    "# Loop para repetir o processo\n",
    "for i in tqdm(range(num_repeticoes)):\n",
    "    x_train, x_test, y_train, y_test = train_test_split(X_resampled, y_resampled, test_size=0.2, stratify=y_resampled)\n",
    "    # Inicializar o modelo de árvore de decisão com Gini Impurity e sem limitação de altura\n",
    "    modelo_arvore = DecisionTreeClassifier(criterion='gini')\n",
    "\n",
    "    # Treinar o modelo no conjunto de treino\n",
    "    modelo_arvore.fit(x_train, y_train)\n",
    "\n",
    "    # Fazer previsões no conjunto de teste\n",
    "    previsoes = modelo_arvore.predict(x_test)\n",
    "\n",
    "    # Avaliar as métricas do modelo e armazenar na lista\n",
    "    acuracia = accuracy_score(y_test, previsoes)\n",
    "    precisao = precision_score(y_test, previsoes)\n",
    "    recall = recall_score(y_test, previsoes)\n",
    "    f1 = f1_score(y_test, previsoes)\n",
    "    roc_auc = roc_auc_score(y_test, previsoes)\n",
    "    \n",
    "    acuracias.append(acuracia)\n",
    "    precisoes.append(precisao)\n",
    "    recalls.append(recall)\n",
    "    f1_scores.append(f1)\n",
    "    roc_auc_scores.append(roc_auc)\n",
    "\n",
    "    print(f'Repetição {i+1} - Acurácia: {acuracia:.2f}, Precisão: {precisao:.2f}, Recall: {recall:.2f}, F1-score: {f1:.2f}, ROC AUC: {roc_auc:.2f}')\n",
    "\n",
    "# Calcular as médias das métricas\n",
    "media_acuracias = np.mean(acuracias)\n",
    "media_precisoes = np.mean(precisoes)\n",
    "media_recalls = np.mean(recalls)\n",
    "media_f1_scores = np.mean(f1_scores)\n",
    "media_roc_auc_scores = np.mean(roc_auc_scores)\n",
    "\n",
    "# Calcular os desvios padrão das métricas\n",
    "dp_acuracias = np.std(acuracias)\n",
    "dp_precisoes = np.std(precisoes)\n",
    "dp_recalls = np.std(recalls)\n",
    "dp_f1_scores = np.std(f1_scores)\n",
    "dp_roc_auc_scores = np.std(roc_auc_scores)\n",
    "\n",
    "# Adicionar as médias e desvios padrão às listas de métricas\n",
    "AcurracyPosBal.append(media_acuracias)\n",
    "PrecisionPosBal.append(media_precisoes)\n",
    "RecallPosBal.append(media_recalls)\n",
    "F1_scorePosBal.append(media_f1_scores)\n",
    "Roc_aucPosBal.append(media_roc_auc_scores)\n",
    "\n",
    "AcurracyDPPosBal.append(dp_acuracias)\n",
    "PrecisionDPPosBal.append(dp_precisoes)\n",
    "RecallDPPosBal.append(dp_recalls)\n",
    "F1_scoreDPPosBal.append(dp_f1_scores)\n",
    "Roc_aucDPPosBal.append(dp_roc_auc_scores)\n",
    "\n",
    "print(f'Média das Acurácias: {media_acuracias:.5f} ± {dp_acuracias:.5f}')\n",
    "print(f'Média das Precisões: {media_precisoes:.5f} ± {dp_precisoes:.5f}')\n",
    "print(f'Média dos Recalls: {media_recalls:.5f} ± {dp_recalls:.5f}')\n",
    "print(f'Média dos F1-scores: {media_f1_scores:.5f} ± {dp_f1_scores:.5f}')\n",
    "print(f'Média dos ROC AUC: {media_roc_auc_scores:.5f} ± {dp_roc_auc_scores:.5f}')"
   ]
  },
  {
   "cell_type": "code",
   "execution_count": null,
   "metadata": {},
   "outputs": [
    {
     "name": "stderr",
     "output_type": "stream",
     "text": [
      "  7%|▋         | 2/30 [00:00<00:03,  7.27it/s]"
     ]
    },
    {
     "name": "stdout",
     "output_type": "stream",
     "text": [
      "Repetição 1 - Acurácia: 0.55, Precisão: 0.53, Recall: 0.93, F1-score: 0.67, ROC AUC: 0.55\n",
      "Repetição 2 - Acurácia: 0.55, Precisão: 0.53, Recall: 0.92, F1-score: 0.67, ROC AUC: 0.55\n"
     ]
    },
    {
     "name": "stderr",
     "output_type": "stream",
     "text": [
      " 13%|█▎        | 4/30 [00:00<00:03,  7.34it/s]"
     ]
    },
    {
     "name": "stdout",
     "output_type": "stream",
     "text": [
      "Repetição 3 - Acurácia: 0.55, Precisão: 0.53, Recall: 0.93, F1-score: 0.67, ROC AUC: 0.55\n",
      "Repetição 4 - Acurácia: 0.54, Precisão: 0.53, Recall: 0.92, F1-score: 0.67, ROC AUC: 0.54\n"
     ]
    },
    {
     "name": "stderr",
     "output_type": "stream",
     "text": [
      " 20%|██        | 6/30 [00:00<00:03,  7.57it/s]"
     ]
    },
    {
     "name": "stdout",
     "output_type": "stream",
     "text": [
      "Repetição 5 - Acurácia: 0.55, Precisão: 0.53, Recall: 0.93, F1-score: 0.67, ROC AUC: 0.55\n",
      "Repetição 6 - Acurácia: 0.54, Precisão: 0.53, Recall: 0.92, F1-score: 0.67, ROC AUC: 0.54\n"
     ]
    },
    {
     "name": "stderr",
     "output_type": "stream",
     "text": [
      " 27%|██▋       | 8/30 [00:01<00:02,  7.65it/s]"
     ]
    },
    {
     "name": "stdout",
     "output_type": "stream",
     "text": [
      "Repetição 7 - Acurácia: 0.55, Precisão: 0.53, Recall: 0.93, F1-score: 0.67, ROC AUC: 0.55\n",
      "Repetição 8 - Acurácia: 0.55, Precisão: 0.53, Recall: 0.93, F1-score: 0.67, ROC AUC: 0.55\n"
     ]
    },
    {
     "name": "stderr",
     "output_type": "stream",
     "text": [
      " 33%|███▎      | 10/30 [00:01<00:02,  7.19it/s]"
     ]
    },
    {
     "name": "stdout",
     "output_type": "stream",
     "text": [
      "Repetição 9 - Acurácia: 0.55, Precisão: 0.53, Recall: 0.93, F1-score: 0.67, ROC AUC: 0.55\n",
      "Repetição 10 - Acurácia: 0.55, Precisão: 0.53, Recall: 0.93, F1-score: 0.67, ROC AUC: 0.55\n"
     ]
    },
    {
     "name": "stderr",
     "output_type": "stream",
     "text": [
      " 40%|████      | 12/30 [00:01<00:02,  7.21it/s]"
     ]
    },
    {
     "name": "stdout",
     "output_type": "stream",
     "text": [
      "Repetição 11 - Acurácia: 0.55, Precisão: 0.53, Recall: 0.93, F1-score: 0.67, ROC AUC: 0.55\n",
      "Repetição 12 - Acurácia: 0.54, Precisão: 0.53, Recall: 0.93, F1-score: 0.67, ROC AUC: 0.54\n"
     ]
    },
    {
     "name": "stderr",
     "output_type": "stream",
     "text": [
      " 47%|████▋     | 14/30 [00:01<00:02,  7.08it/s]"
     ]
    },
    {
     "name": "stdout",
     "output_type": "stream",
     "text": [
      "Repetição 13 - Acurácia: 0.55, Precisão: 0.53, Recall: 0.93, F1-score: 0.67, ROC AUC: 0.55\n",
      "Repetição 14 - Acurácia: 0.55, Precisão: 0.53, Recall: 0.92, F1-score: 0.67, ROC AUC: 0.55\n"
     ]
    },
    {
     "name": "stderr",
     "output_type": "stream",
     "text": [
      " 53%|█████▎    | 16/30 [00:02<00:01,  7.09it/s]"
     ]
    },
    {
     "name": "stdout",
     "output_type": "stream",
     "text": [
      "Repetição 15 - Acurácia: 0.54, Precisão: 0.53, Recall: 0.92, F1-score: 0.67, ROC AUC: 0.54\n",
      "Repetição 16 - Acurácia: 0.55, Precisão: 0.53, Recall: 0.92, F1-score: 0.67, ROC AUC: 0.55\n"
     ]
    },
    {
     "name": "stderr",
     "output_type": "stream",
     "text": [
      " 60%|██████    | 18/30 [00:02<00:01,  6.51it/s]"
     ]
    },
    {
     "name": "stdout",
     "output_type": "stream",
     "text": [
      "Repetição 17 - Acurácia: 0.54, Precisão: 0.52, Recall: 0.92, F1-score: 0.67, ROC AUC: 0.54\n",
      "Repetição 18 - Acurácia: 0.55, Precisão: 0.53, Recall: 0.93, F1-score: 0.67, ROC AUC: 0.55\n"
     ]
    },
    {
     "name": "stderr",
     "output_type": "stream",
     "text": [
      " 67%|██████▋   | 20/30 [00:02<00:01,  6.98it/s]"
     ]
    },
    {
     "name": "stdout",
     "output_type": "stream",
     "text": [
      "Repetição 19 - Acurácia: 0.55, Precisão: 0.53, Recall: 0.93, F1-score: 0.67, ROC AUC: 0.55\n",
      "Repetição 20 - Acurácia: 0.55, Precisão: 0.53, Recall: 0.93, F1-score: 0.67, ROC AUC: 0.55\n"
     ]
    },
    {
     "name": "stderr",
     "output_type": "stream",
     "text": [
      " 73%|███████▎  | 22/30 [00:03<00:01,  7.32it/s]"
     ]
    },
    {
     "name": "stdout",
     "output_type": "stream",
     "text": [
      "Repetição 21 - Acurácia: 0.55, Precisão: 0.53, Recall: 0.93, F1-score: 0.67, ROC AUC: 0.55\n",
      "Repetição 22 - Acurácia: 0.55, Precisão: 0.53, Recall: 0.93, F1-score: 0.67, ROC AUC: 0.55\n"
     ]
    },
    {
     "name": "stderr",
     "output_type": "stream",
     "text": [
      " 80%|████████  | 24/30 [00:03<00:00,  7.19it/s]"
     ]
    },
    {
     "name": "stdout",
     "output_type": "stream",
     "text": [
      "Repetição 23 - Acurácia: 0.55, Precisão: 0.53, Recall: 0.92, F1-score: 0.67, ROC AUC: 0.55\n",
      "Repetição 24 - Acurácia: 0.54, Precisão: 0.53, Recall: 0.93, F1-score: 0.67, ROC AUC: 0.54\n"
     ]
    },
    {
     "name": "stderr",
     "output_type": "stream",
     "text": [
      " 87%|████████▋ | 26/30 [00:03<00:00,  7.40it/s]"
     ]
    },
    {
     "name": "stdout",
     "output_type": "stream",
     "text": [
      "Repetição 25 - Acurácia: 0.54, Precisão: 0.52, Recall: 0.93, F1-score: 0.67, ROC AUC: 0.54\n",
      "Repetição 26 - Acurácia: 0.54, Precisão: 0.53, Recall: 0.93, F1-score: 0.67, ROC AUC: 0.54\n"
     ]
    },
    {
     "name": "stderr",
     "output_type": "stream",
     "text": [
      " 93%|█████████▎| 28/30 [00:03<00:00,  7.29it/s]"
     ]
    },
    {
     "name": "stdout",
     "output_type": "stream",
     "text": [
      "Repetição 27 - Acurácia: 0.54, Precisão: 0.52, Recall: 0.93, F1-score: 0.67, ROC AUC: 0.54\n",
      "Repetição 28 - Acurácia: 0.55, Precisão: 0.53, Recall: 0.93, F1-score: 0.67, ROC AUC: 0.55\n"
     ]
    },
    {
     "name": "stderr",
     "output_type": "stream",
     "text": [
      "100%|██████████| 30/30 [00:04<00:00,  7.22it/s]"
     ]
    },
    {
     "name": "stdout",
     "output_type": "stream",
     "text": [
      "Repetição 29 - Acurácia: 0.54, Precisão: 0.53, Recall: 0.92, F1-score: 0.67, ROC AUC: 0.54\n",
      "Repetição 30 - Acurácia: 0.54, Precisão: 0.53, Recall: 0.92, F1-score: 0.67, ROC AUC: 0.54\n",
      "Média das Acurácias: 0.54536 ± 0.00131\n",
      "Média das Precisões: 0.52577 ± 0.00076\n",
      "Média dos Recalls: 0.92546 ± 0.00120\n",
      "Média dos F1-scores: 0.67057 ± 0.00084\n",
      "Média dos ROC AUC: 0.54536 ± 0.00131\n"
     ]
    },
    {
     "name": "stderr",
     "output_type": "stream",
     "text": [
      "\n"
     ]
    }
   ],
   "source": [
    "num_repeticoes = 30\n",
    "\n",
    "# Listas para armazenar as métricas\n",
    "acuracias = []\n",
    "precisoes = []\n",
    "recalls = []\n",
    "f1_scores = []\n",
    "roc_auc_scores = []\n",
    "\n",
    "# Loop para repetir o processo\n",
    "for i in tqdm(range(num_repeticoes)):\n",
    "\n",
    "    x_train, x_test, y_train, y_test = train_test_split(X_resampled, y_resampled, test_size=0.2, stratify=y_resampled)\n",
    "    \n",
    "    #Inicializar o modelo de Naive Bayes com distribuição de Bernoulli\n",
    "    modelo_naive_bayes = BernoulliNB()\n",
    "\n",
    "    # Treinar o modelo no conjunto de treino\n",
    "    modelo_naive_bayes.fit(x_train, y_train)\n",
    "\n",
    "    # Fazer previsões no conjunto de teste\n",
    "    previsoes = modelo_naive_bayes.predict(x_test)\n",
    "\n",
    "    # Avaliar as métricas do modelo e armazenar na lista\n",
    "    acuracia = accuracy_score(y_test, previsoes)\n",
    "    precisao = precision_score(y_test, previsoes)\n",
    "    recall = recall_score(y_test, previsoes)\n",
    "    f1 = f1_score(y_test, previsoes)\n",
    "    roc_auc = roc_auc_score(y_test, previsoes)\n",
    "    \n",
    "    acuracias.append(acuracia)\n",
    "    precisoes.append(precisao)\n",
    "    recalls.append(recall)\n",
    "    f1_scores.append(f1)\n",
    "    roc_auc_scores.append(roc_auc)\n",
    "\n",
    "    print(f'Repetição {i+1} - Acurácia: {acuracia:.2f}, Precisão: {precisao:.2f}, Recall: {recall:.2f}, F1-score: {f1:.2f}, ROC AUC: {roc_auc:.2f}')\n",
    "\n",
    "# Calcular as médias das métricas\n",
    "media_acuracias = np.mean(acuracias)\n",
    "media_precisoes = np.mean(precisoes)\n",
    "media_recalls = np.mean(recalls)\n",
    "media_f1_scores = np.mean(f1_scores)\n",
    "media_roc_auc_scores = np.mean(roc_auc_scores)\n",
    "\n",
    "# Calcular os desvios padrão das métricas\n",
    "dp_acuracias = np.std(acuracias)\n",
    "dp_precisoes = np.std(precisoes)\n",
    "dp_recalls = np.std(recalls)\n",
    "dp_f1_scores = np.std(f1_scores)\n",
    "dp_roc_auc_scores = np.std(roc_auc_scores)\n",
    "\n",
    "# Adicionar as médias e desvios padrão às listas de métricas\n",
    "Acurracy.append(media_acuracias)\n",
    "Precision.append(media_precisoes)\n",
    "Recall.append(media_recalls)\n",
    "F1_score.append(media_f1_scores)\n",
    "Roc_auc.append(media_roc_auc_scores)\n",
    "\n",
    "AcurracyDP.append(dp_acuracias)\n",
    "PrecisionDP.append(dp_precisoes)\n",
    "RecallDP.append(dp_recalls)\n",
    "F1_scoreDP.append(dp_f1_scores)\n",
    "Roc_aucDP.append(dp_roc_auc_scores)\n",
    "\n",
    "print(f'Média das Acurácias: {media_acuracias:.5f} ± {dp_acuracias:.5f}')\n",
    "print(f'Média das Precisões: {media_precisoes:.5f} ± {dp_precisoes:.5f}')\n",
    "print(f'Média dos Recalls: {media_recalls:.5f} ± {dp_recalls:.5f}')\n",
    "print(f'Média dos F1-scores: {media_f1_scores:.5f} ± {dp_f1_scores:.5f}')\n",
    "print(f'Média dos ROC AUC: {media_roc_auc_scores:.5f} ± {dp_roc_auc_scores:.5f}')"
   ]
  },
  {
   "cell_type": "markdown",
   "metadata": {},
   "source": [
    "### Resultados"
   ]
  }
 ],
 "metadata": {
  "kernelspec": {
   "display_name": "Python 3",
   "language": "python",
   "name": "python3"
  },
  "language_info": {
   "codemirror_mode": {
    "name": "ipython",
    "version": 3
   },
   "file_extension": ".py",
   "mimetype": "text/x-python",
   "name": "python",
   "nbconvert_exporter": "python",
   "pygments_lexer": "ipython3",
   "version": "3.11.4"
  }
 },
 "nbformat": 4,
 "nbformat_minor": 2
}
