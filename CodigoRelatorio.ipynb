{
 "cells": [
  {
   "cell_type": "markdown",
   "metadata": {},
   "source": [
    "### Libs "
   ]
  },
  {
   "cell_type": "code",
   "execution_count": 6,
   "metadata": {},
   "outputs": [],
   "source": [
    "import numpy as np\n",
    "import matplotlib.pyplot as plt\n",
    "from sklearn.ensemble import RandomForestClassifier\n",
    "from imblearn.over_sampling import SMOTE\n",
    "from sklearn.model_selection import train_test_split\n",
    "import sys\n",
    "from os import listdir\n",
    "from os.path import isfile, join\n",
    "import pandas as pd\n",
    "from sklearn.tree import DecisionTreeClassifier\n",
    "from sklearn.metrics import accuracy_score\n",
    "from sklearn.naive_bayes import BernoulliNB, GaussianNB\n",
    "from sklearn.neural_network import MLPClassifier\n",
    "from sklearn.svm import SVC\n",
    "from sklearn.neighbors import KNeighborsClassifier\n",
    "from sklearn.ensemble import BaggingClassifier\n",
    "from sklearn.datasets import make_classification\n",
    "from sklearn.metrics import accuracy_score, precision_score, recall_score, f1_score, confusion_matrix, roc_auc_score\n",
    "from sklearn.tree import DecisionTreeClassifier\n",
    "from sklearn.ensemble import BaggingClassifier\n",
    "from sklearn.metrics import accuracy_score, precision_score, recall_score, f1_score, roc_auc_score, confusion_matrix\n",
    "from tabulate import tabulate\n",
    "from tqdm import tqdm"
   ]
  },
  {
   "cell_type": "markdown",
   "metadata": {},
   "source": [
    "### Dados"
   ]
  },
  {
   "cell_type": "code",
   "execution_count": 7,
   "metadata": {},
   "outputs": [],
   "source": [
    "FEATURES_SET = {\n",
    "    \"feature\": 1,\n",
    "    \"permission\": 2,\n",
    "    \"activity\": 3,\n",
    "    \"service_receiver\": 3,\n",
    "    \"provider\": 3,\n",
    "    \"service\": 3,\n",
    "    \"intent\": 4,\n",
    "    \"api_call\": 5,\n",
    "    \"real_permission\": 6,\n",
    "    \"call\": 7,\n",
    "    \"url\": 8\n",
    "}\n",
    "\n",
    "\n",
    "def count_feature_set(lines):\n",
    "    \"\"\"\n",
    "    Count how many features belong to a specific set\n",
    "    :param lines: features in the text file\n",
    "    :return:\n",
    "    \"\"\"\n",
    "    features_map = {x: 0 for x in range(1, 9)}\n",
    "    for l in lines:\n",
    "        if l != \"\\n\":\n",
    "            set = l.split(\"::\")[0]\n",
    "            features_map[FEATURES_SET[set]] += 1\n",
    "    features = []\n",
    "    for i in range(1, 9):\n",
    "        features.append(features_map[i])\n",
    "    return features\n"
   ]
  },
  {
   "cell_type": "code",
   "execution_count": 8,
   "metadata": {},
   "outputs": [
    {
     "name": "stdout",
     "output_type": "stream",
     "text": [
      "Loading previous data ...\n",
      "(129013, 8) (129013,)\n"
     ]
    }
   ],
   "source": [
    "def read(LOAD_DATA=False):\n",
    "    # if LOAD_DATA:\n",
    "    #     print(\"Previous data not loaded. Attempt to read data ...\")\n",
    "    #     mypath = r\"C:\\Users\\josev\\Desktop\\ProjetoPessoalNN\\GeorgeDarminton\\Drebin\\MetaData\\feature_vectors\\feature_vectors\"\n",
    "    #     onlyfiles = [f for f in listdir(mypath) if isfile(join(mypath, f))]\n",
    "\n",
    "    #     print(\"Reading csv file for ground truth ...\")\n",
    "    #     ground_truth = np.loadtxt(r\"C:\\Users\\josev\\Desktop\\ProjetoPessoalNN\\GeorgeDarminton\\Drebin\\MetaData\\sha256_family.csv\", delimiter=\",\", skiprows=1, dtype=str)\n",
    "    #     # print ground_truth.shape\n",
    "    #     # families = np.unique(ground_truth[:, 1])\n",
    "    #     # print families\n",
    "    #     # print len(families)\n",
    "\n",
    "    #     print(\"Reading positive and negative texts ...\")\n",
    "    #     pos = []\n",
    "    #     neg = []\n",
    "    #     for virus in tqdm(onlyfiles):\n",
    "    #         if virus in ground_truth[:, 0]:\n",
    "    #             pos.append(virus)\n",
    "    #         else:\n",
    "    #             #if len(neg) < 5560:\n",
    "    #             #if len(neg) < 22240:\n",
    "    #                 neg.append(virus)\n",
    "\n",
    "    #     print(\"Extracting features ...\")\n",
    "    #     x = []\n",
    "    #     y = []\n",
    "    #     for text_file in tqdm(pos):\n",
    "    #         sys.stdin = open(\"%s/%s\" % (mypath, text_file))\n",
    "    #         features = sys.stdin.readlines()\n",
    "    #         sample = count_feature_set(features)\n",
    "    #         x.append(sample)\n",
    "    #         y.append(1)\n",
    "\n",
    "    #     for text_file in tqdm(neg):\n",
    "    #         sys.stdin = open(\"%s/%s\" % (mypath, text_file))\n",
    "    #         features = sys.stdin.readlines()\n",
    "    #         sample = count_feature_set(features)\n",
    "    #         x.append(sample)\n",
    "    #         y.append(0)\n",
    "\n",
    "    #     print(\"Data is read successfully:\")\n",
    "    #     x = np.array(x)\n",
    "    #     y = np.array(y)\n",
    "    #     print(x.shape, y.shape)\n",
    "\n",
    "    #     print(\"Saving data under data_numpy directory ...\")\n",
    "    #     np.save(r\"C:\\Users\\josev\\Desktop\\ProjetoPessoalNN\\GeorgeDarminton/x_all.npy\", x)\n",
    "    #     np.save(r\"C:\\Users\\josev\\Desktop\\ProjetoPessoalNN\\GeorgeDarminton/y_all.npy\", y)\n",
    "\n",
    "    #     return x, y\n",
    "    # else:\n",
    "        print(\"Loading previous data ...\")\n",
    "        x_ = np.load(r\"C:\\Users\\josev\\Desktop\\ProjetoPessoalNN\\GeorgeDarminton/x_all.npy\")\n",
    "        y_ = np.load(r\"C:\\Users\\josev\\Desktop\\ProjetoPessoalNN\\GeorgeDarminton/y_all.npy\")\n",
    "        print(x_.shape, y_.shape)\n",
    "        # print x == x_, y == y_\n",
    "        return x_, y_\n",
    "\n",
    "\n",
    "def map_family_to_category(families):\n",
    "    out = {}\n",
    "    count = 1\n",
    "    for family in families:\n",
    "        out[family] = count\n",
    "        count += 1\n",
    "    return out\n",
    "\n",
    "\n",
    "if __name__ == \"__main__\":\n",
    "    x, y = read(LOAD_DATA=True)"
   ]
  },
  {
   "cell_type": "code",
   "execution_count": 9,
   "metadata": {},
   "outputs": [
    {
     "name": "stdout",
     "output_type": "stream",
     "text": [
      "Loading previous data ...\n",
      "(129013, 8) (129013,)\n",
      "(103210, 8) (103210,)\n",
      "(25803, 8) (25803,)\n"
     ]
    }
   ],
   "source": [
    "x_all, y_all = read(LOAD_DATA=False)\n",
    "x_train, x_test, y_train, y_test = train_test_split(x_all, y_all, test_size=0.2, stratify=y_all)\n",
    "print(x_train.shape, y_train.shape)\n",
    "print(x_test.shape, y_test.shape)"
   ]
  },
  {
   "cell_type": "code",
   "execution_count": 10,
   "metadata": {},
   "outputs": [],
   "source": [
    "# # Contagem de classes antes da divisão\n",
    "# y_all_counts = pd.Series(y_all).value_counts(normalize=True)\n",
    "\n",
    "# # Divisão dos dados em treinamento e teste\n",
    "# x_train, x_test, y_train, y_test = train_test_split(x_all, y_all, test_size=0.2, random_state=42, stratify=y_all)\n",
    "\n",
    "# # Contagem de classes após a divisão\n",
    "# y_train_counts = pd.Series(y_train).value_counts(normalize=True)\n",
    "# y_test_counts = pd.Series(y_test).value_counts(normalize=True)\n",
    "\n",
    "# # Verificação se as proporções foram mantidas\n",
    "# print(\"Proporções das classes no conjunto original:\")\n",
    "# print(y_all_counts)\n",
    "# print(\"\\nProporções das classes no conjunto de treinamento:\")\n",
    "# print(y_train_counts)\n",
    "# print(\"\\nProporções das classes no conjunto de teste:\")\n",
    "# print(y_test_counts)"
   ]
  },
  {
   "cell_type": "code",
   "execution_count": 11,
   "metadata": {},
   "outputs": [],
   "source": [
    "####### DP = Desvio Padrão; PosBal = Pos Balanceamento\n",
    "Acurracy = []\n",
    "Precision = []\n",
    "Recall = []\n",
    "F1_score = []\n",
    "Roc_auc = []\n",
    "######\n",
    "AcurracyDP = []\n",
    "PrecisionDP = []\n",
    "RecallDP = []\n",
    "F1_scoreDP = []\n",
    "Roc_aucDP = []\n",
    "######\n",
    "AcurracyBagging = []\n",
    "PrecisionBagging = []\n",
    "RecallBagging = []\n",
    "F1Bagging = []\n",
    "Roc_aucBagging = []\n",
    "######\n",
    "AcurracyBaggingDP = []\n",
    "PrecisionBaggingDP = []\n",
    "RecallBaggingDP = []\n",
    "F1BaggingDP = []\n",
    "Roc_aucBaggingDP = []\n",
    "#####\n",
    "AcurracyPosBal = []\n",
    "PrecisionPosBal = []\n",
    "RecallPosBal = []\n",
    "F1_scorePosBal = []\n",
    "Roc_aucPosBal = []\n",
    "######\n",
    "AcurracyDPPosBal = []\n",
    "PrecisionDPPosBal = []\n",
    "RecallDPPosBal = []\n",
    "F1_scoreDPPosBal = []\n",
    "Roc_aucDPPosBal = []\n",
    "######\n",
    "AcurracyBaggingPosBal = []\n",
    "PrecisionBaggingPosBal = []\n",
    "RecallBaggingPosBal = []\n",
    "F1BaggingPosBal = []\n",
    "Roc_aucBaggingPosBal = []\n",
    "######\n",
    "AcurracyBaggingDPPosBal = []\n",
    "PrecisionBaggingDPPosBal = []\n",
    "RecallBaggingDPPosBal = []\n",
    "F1BaggingDPPosBal = []\n",
    "Roc_aucBaggingDPPosBal = []"
   ]
  },
  {
   "cell_type": "markdown",
   "metadata": {},
   "source": [
    "### Modelos Base"
   ]
  },
  {
   "cell_type": "markdown",
   "metadata": {},
   "source": [
    "#### Decision Tree"
   ]
  },
  {
   "cell_type": "code",
   "execution_count": 12,
   "metadata": {},
   "outputs": [
    {
     "name": "stderr",
     "output_type": "stream",
     "text": [
      "  3%|▎         | 1/30 [00:00<00:08,  3.44it/s]"
     ]
    },
    {
     "name": "stdout",
     "output_type": "stream",
     "text": [
      "Repetição 1 - Acurácia: 0.98, Precisão: 0.78, Recall: 0.84, F1-score: 0.81, ROC AUC: 0.92\n"
     ]
    },
    {
     "name": "stderr",
     "output_type": "stream",
     "text": [
      "  7%|▋         | 2/30 [00:00<00:07,  3.77it/s]"
     ]
    },
    {
     "name": "stdout",
     "output_type": "stream",
     "text": [
      "Repetição 2 - Acurácia: 0.98, Precisão: 0.78, Recall: 0.82, F1-score: 0.80, ROC AUC: 0.91\n"
     ]
    },
    {
     "name": "stderr",
     "output_type": "stream",
     "text": [
      " 10%|█         | 3/30 [00:00<00:06,  3.93it/s]"
     ]
    },
    {
     "name": "stdout",
     "output_type": "stream",
     "text": [
      "Repetição 3 - Acurácia: 0.98, Precisão: 0.76, Recall: 0.83, F1-score: 0.79, ROC AUC: 0.91\n"
     ]
    },
    {
     "name": "stderr",
     "output_type": "stream",
     "text": [
      " 13%|█▎        | 4/30 [00:01<00:06,  4.01it/s]"
     ]
    },
    {
     "name": "stdout",
     "output_type": "stream",
     "text": [
      "Repetição 4 - Acurácia: 0.98, Precisão: 0.77, Recall: 0.82, F1-score: 0.79, ROC AUC: 0.90\n"
     ]
    },
    {
     "name": "stderr",
     "output_type": "stream",
     "text": [
      " 17%|█▋        | 5/30 [00:01<00:06,  4.03it/s]"
     ]
    },
    {
     "name": "stdout",
     "output_type": "stream",
     "text": [
      "Repetição 5 - Acurácia: 0.98, Precisão: 0.78, Recall: 0.82, F1-score: 0.80, ROC AUC: 0.91\n"
     ]
    },
    {
     "name": "stderr",
     "output_type": "stream",
     "text": [
      " 20%|██        | 6/30 [00:01<00:05,  4.07it/s]"
     ]
    },
    {
     "name": "stdout",
     "output_type": "stream",
     "text": [
      "Repetição 6 - Acurácia: 0.98, Precisão: 0.78, Recall: 0.84, F1-score: 0.81, ROC AUC: 0.92\n"
     ]
    },
    {
     "name": "stderr",
     "output_type": "stream",
     "text": [
      " 23%|██▎       | 7/30 [00:01<00:05,  4.09it/s]"
     ]
    },
    {
     "name": "stdout",
     "output_type": "stream",
     "text": [
      "Repetição 7 - Acurácia: 0.98, Precisão: 0.77, Recall: 0.82, F1-score: 0.79, ROC AUC: 0.90\n"
     ]
    },
    {
     "name": "stderr",
     "output_type": "stream",
     "text": [
      " 27%|██▋       | 8/30 [00:01<00:05,  4.08it/s]"
     ]
    },
    {
     "name": "stdout",
     "output_type": "stream",
     "text": [
      "Repetição 8 - Acurácia: 0.98, Precisão: 0.78, Recall: 0.82, F1-score: 0.80, ROC AUC: 0.90\n"
     ]
    },
    {
     "name": "stderr",
     "output_type": "stream",
     "text": [
      " 30%|███       | 9/30 [00:02<00:05,  4.09it/s]"
     ]
    },
    {
     "name": "stdout",
     "output_type": "stream",
     "text": [
      "Repetição 9 - Acurácia: 0.98, Precisão: 0.78, Recall: 0.82, F1-score: 0.80, ROC AUC: 0.90\n"
     ]
    },
    {
     "name": "stderr",
     "output_type": "stream",
     "text": [
      " 33%|███▎      | 10/30 [00:02<00:04,  4.06it/s]"
     ]
    },
    {
     "name": "stdout",
     "output_type": "stream",
     "text": [
      "Repetição 10 - Acurácia: 0.98, Precisão: 0.75, Recall: 0.83, F1-score: 0.79, ROC AUC: 0.91\n"
     ]
    },
    {
     "name": "stderr",
     "output_type": "stream",
     "text": [
      " 37%|███▋      | 11/30 [00:02<00:04,  4.05it/s]"
     ]
    },
    {
     "name": "stdout",
     "output_type": "stream",
     "text": [
      "Repetição 11 - Acurácia: 0.98, Precisão: 0.77, Recall: 0.82, F1-score: 0.79, ROC AUC: 0.91\n"
     ]
    },
    {
     "name": "stderr",
     "output_type": "stream",
     "text": [
      " 40%|████      | 12/30 [00:02<00:04,  4.09it/s]"
     ]
    },
    {
     "name": "stdout",
     "output_type": "stream",
     "text": [
      "Repetição 12 - Acurácia: 0.98, Precisão: 0.75, Recall: 0.81, F1-score: 0.78, ROC AUC: 0.90\n"
     ]
    },
    {
     "name": "stderr",
     "output_type": "stream",
     "text": [
      " 43%|████▎     | 13/30 [00:03<00:04,  4.11it/s]"
     ]
    },
    {
     "name": "stdout",
     "output_type": "stream",
     "text": [
      "Repetição 13 - Acurácia: 0.98, Precisão: 0.78, Recall: 0.81, F1-score: 0.79, ROC AUC: 0.90\n"
     ]
    },
    {
     "name": "stderr",
     "output_type": "stream",
     "text": [
      " 47%|████▋     | 14/30 [00:03<00:03,  4.10it/s]"
     ]
    },
    {
     "name": "stdout",
     "output_type": "stream",
     "text": [
      "Repetição 14 - Acurácia: 0.98, Precisão: 0.78, Recall: 0.80, F1-score: 0.79, ROC AUC: 0.89\n"
     ]
    },
    {
     "name": "stderr",
     "output_type": "stream",
     "text": [
      " 50%|█████     | 15/30 [00:03<00:03,  4.14it/s]"
     ]
    },
    {
     "name": "stdout",
     "output_type": "stream",
     "text": [
      "Repetição 15 - Acurácia: 0.98, Precisão: 0.77, Recall: 0.82, F1-score: 0.79, ROC AUC: 0.90\n"
     ]
    },
    {
     "name": "stderr",
     "output_type": "stream",
     "text": [
      " 53%|█████▎    | 16/30 [00:03<00:03,  4.13it/s]"
     ]
    },
    {
     "name": "stdout",
     "output_type": "stream",
     "text": [
      "Repetição 16 - Acurácia: 0.98, Precisão: 0.76, Recall: 0.79, F1-score: 0.78, ROC AUC: 0.89\n"
     ]
    },
    {
     "name": "stderr",
     "output_type": "stream",
     "text": [
      " 57%|█████▋    | 17/30 [00:04<00:03,  4.07it/s]"
     ]
    },
    {
     "name": "stdout",
     "output_type": "stream",
     "text": [
      "Repetição 17 - Acurácia: 0.98, Precisão: 0.78, Recall: 0.81, F1-score: 0.79, ROC AUC: 0.90\n"
     ]
    },
    {
     "name": "stderr",
     "output_type": "stream",
     "text": [
      " 60%|██████    | 18/30 [00:04<00:02,  4.13it/s]"
     ]
    },
    {
     "name": "stdout",
     "output_type": "stream",
     "text": [
      "Repetição 18 - Acurácia: 0.98, Precisão: 0.76, Recall: 0.80, F1-score: 0.78, ROC AUC: 0.90\n"
     ]
    },
    {
     "name": "stderr",
     "output_type": "stream",
     "text": [
      " 63%|██████▎   | 19/30 [00:04<00:02,  4.14it/s]"
     ]
    },
    {
     "name": "stdout",
     "output_type": "stream",
     "text": [
      "Repetição 19 - Acurácia: 0.98, Precisão: 0.76, Recall: 0.83, F1-score: 0.79, ROC AUC: 0.91\n"
     ]
    },
    {
     "name": "stderr",
     "output_type": "stream",
     "text": [
      " 67%|██████▋   | 20/30 [00:04<00:02,  4.18it/s]"
     ]
    },
    {
     "name": "stdout",
     "output_type": "stream",
     "text": [
      "Repetição 20 - Acurácia: 0.98, Precisão: 0.78, Recall: 0.82, F1-score: 0.80, ROC AUC: 0.91\n"
     ]
    },
    {
     "name": "stderr",
     "output_type": "stream",
     "text": [
      " 70%|███████   | 21/30 [00:05<00:02,  4.15it/s]"
     ]
    },
    {
     "name": "stdout",
     "output_type": "stream",
     "text": [
      "Repetição 21 - Acurácia: 0.98, Precisão: 0.78, Recall: 0.82, F1-score: 0.80, ROC AUC: 0.91\n"
     ]
    },
    {
     "name": "stderr",
     "output_type": "stream",
     "text": [
      " 73%|███████▎  | 22/30 [00:05<00:01,  4.12it/s]"
     ]
    },
    {
     "name": "stdout",
     "output_type": "stream",
     "text": [
      "Repetição 22 - Acurácia: 0.98, Precisão: 0.77, Recall: 0.84, F1-score: 0.80, ROC AUC: 0.91\n"
     ]
    },
    {
     "name": "stderr",
     "output_type": "stream",
     "text": [
      " 77%|███████▋  | 23/30 [00:05<00:01,  4.11it/s]"
     ]
    },
    {
     "name": "stdout",
     "output_type": "stream",
     "text": [
      "Repetição 23 - Acurácia: 0.98, Precisão: 0.75, Recall: 0.83, F1-score: 0.79, ROC AUC: 0.91\n"
     ]
    },
    {
     "name": "stderr",
     "output_type": "stream",
     "text": [
      " 80%|████████  | 24/30 [00:05<00:01,  4.15it/s]"
     ]
    },
    {
     "name": "stdout",
     "output_type": "stream",
     "text": [
      "Repetição 24 - Acurácia: 0.98, Precisão: 0.76, Recall: 0.82, F1-score: 0.79, ROC AUC: 0.91\n"
     ]
    },
    {
     "name": "stderr",
     "output_type": "stream",
     "text": [
      " 83%|████████▎ | 25/30 [00:06<00:01,  4.13it/s]"
     ]
    },
    {
     "name": "stdout",
     "output_type": "stream",
     "text": [
      "Repetição 25 - Acurácia: 0.98, Precisão: 0.75, Recall: 0.84, F1-score: 0.79, ROC AUC: 0.91\n"
     ]
    },
    {
     "name": "stderr",
     "output_type": "stream",
     "text": [
      " 87%|████████▋ | 26/30 [00:06<00:00,  4.13it/s]"
     ]
    },
    {
     "name": "stdout",
     "output_type": "stream",
     "text": [
      "Repetição 26 - Acurácia: 0.98, Precisão: 0.76, Recall: 0.82, F1-score: 0.79, ROC AUC: 0.90\n"
     ]
    },
    {
     "name": "stderr",
     "output_type": "stream",
     "text": [
      " 90%|█████████ | 27/30 [00:06<00:00,  4.14it/s]"
     ]
    },
    {
     "name": "stdout",
     "output_type": "stream",
     "text": [
      "Repetição 27 - Acurácia: 0.98, Precisão: 0.77, Recall: 0.80, F1-score: 0.79, ROC AUC: 0.90\n"
     ]
    },
    {
     "name": "stderr",
     "output_type": "stream",
     "text": [
      " 93%|█████████▎| 28/30 [00:06<00:00,  4.14it/s]"
     ]
    },
    {
     "name": "stdout",
     "output_type": "stream",
     "text": [
      "Repetição 28 - Acurácia: 0.98, Precisão: 0.78, Recall: 0.80, F1-score: 0.79, ROC AUC: 0.90\n"
     ]
    },
    {
     "name": "stderr",
     "output_type": "stream",
     "text": [
      " 97%|█████████▋| 29/30 [00:07<00:00,  4.16it/s]"
     ]
    },
    {
     "name": "stdout",
     "output_type": "stream",
     "text": [
      "Repetição 29 - Acurácia: 0.98, Precisão: 0.78, Recall: 0.82, F1-score: 0.80, ROC AUC: 0.91\n"
     ]
    },
    {
     "name": "stderr",
     "output_type": "stream",
     "text": [
      "100%|██████████| 30/30 [00:07<00:00,  4.10it/s]"
     ]
    },
    {
     "name": "stdout",
     "output_type": "stream",
     "text": [
      "Repetição 30 - Acurácia: 0.98, Precisão: 0.79, Recall: 0.82, F1-score: 0.80, ROC AUC: 0.91\n",
      "Média das Acurácias: 0.98173 ± 0.00071\n",
      "Média das Precisões: 0.77117 ± 0.01049\n",
      "Média dos Recalls: 0.81939 ± 0.01203\n",
      "Média dos F1-scores: 0.79447 ± 0.00772\n",
      "Média dos ROC AUC: 0.90422 ± 0.00593\n"
     ]
    },
    {
     "name": "stderr",
     "output_type": "stream",
     "text": [
      "\n"
     ]
    }
   ],
   "source": [
    "num_repeticoes = 30\n",
    "\n",
    "# Listas para armazenar as métricas\n",
    "acuracias = []\n",
    "precisoes = []\n",
    "recalls = []\n",
    "f1_scores = []\n",
    "roc_auc_scores = []\n",
    "\n",
    "# Loop para repetir o processo\n",
    "for i in tqdm(range(num_repeticoes)):\n",
    "\n",
    "    x_train, x_test, y_train, y_test = train_test_split(x_all, y_all, test_size=0.2, stratify=y_all)\n",
    "\n",
    "    # Inicializar o modelo de árvore de decisão com Gini Impurity e sem limitação de altura\n",
    "    modelo_arvore = DecisionTreeClassifier(criterion='gini')\n",
    "\n",
    "    # Treinar o modelo no conjunto de treino\n",
    "    modelo_arvore.fit(x_train, y_train)\n",
    "\n",
    "    # Fazer previsões no conjunto de teste\n",
    "    previsoes = modelo_arvore.predict(x_test)\n",
    "\n",
    "    # Avaliar as métricas do modelo e armazenar na lista\n",
    "    acuracia = accuracy_score(y_test, previsoes)\n",
    "    precisao = precision_score(y_test, previsoes)\n",
    "    recall = recall_score(y_test, previsoes)\n",
    "    f1 = f1_score(y_test, previsoes)\n",
    "    roc_auc = roc_auc_score(y_test, previsoes)\n",
    "    \n",
    "    acuracias.append(acuracia)\n",
    "    precisoes.append(precisao)\n",
    "    recalls.append(recall)\n",
    "    f1_scores.append(f1)\n",
    "    roc_auc_scores.append(roc_auc)\n",
    "\n",
    "    print(f'Repetição {i+1} - Acurácia: {acuracia:.2f}, Precisão: {precisao:.2f}, Recall: {recall:.2f}, F1-score: {f1:.2f}, ROC AUC: {roc_auc:.2f}')\n",
    "\n",
    "# Calcular as médias das métricas\n",
    "media_acuracias = np.mean(acuracias)\n",
    "media_precisoes = np.mean(precisoes)\n",
    "media_recalls = np.mean(recalls)\n",
    "media_f1_scores = np.mean(f1_scores)\n",
    "media_roc_auc_scores = np.mean(roc_auc_scores)\n",
    "\n",
    "# Calcular os desvios padrão das métricas\n",
    "dp_acuracias = np.std(acuracias)\n",
    "dp_precisoes = np.std(precisoes)\n",
    "dp_recalls = np.std(recalls)\n",
    "dp_f1_scores = np.std(f1_scores)\n",
    "dp_roc_auc_scores = np.std(roc_auc_scores)\n",
    "\n",
    "# Adicionar as médias e desvios padrão às listas de métricas\n",
    "Acurracy.append(media_acuracias)\n",
    "Precision.append(media_precisoes)\n",
    "Recall.append(media_recalls)\n",
    "F1_score.append(media_f1_scores)\n",
    "Roc_auc.append(media_roc_auc_scores)\n",
    "\n",
    "AcurracyDP.append(dp_acuracias)\n",
    "PrecisionDP.append(dp_precisoes)\n",
    "RecallDP.append(dp_recalls)\n",
    "F1_scoreDP.append(dp_f1_scores)\n",
    "Roc_aucDP.append(dp_roc_auc_scores)\n",
    "\n",
    "print(f'Média das Acurácias: {media_acuracias:.5f} ± {dp_acuracias:.5f}')\n",
    "print(f'Média das Precisões: {media_precisoes:.5f} ± {dp_precisoes:.5f}')\n",
    "print(f'Média dos Recalls: {media_recalls:.5f} ± {dp_recalls:.5f}')\n",
    "print(f'Média dos F1-scores: {media_f1_scores:.5f} ± {dp_f1_scores:.5f}')\n",
    "print(f'Média dos ROC AUC: {media_roc_auc_scores:.5f} ± {dp_roc_auc_scores:.5f}')"
   ]
  },
  {
   "cell_type": "markdown",
   "metadata": {},
   "source": [
    "#### Naive Bayes"
   ]
  },
  {
   "cell_type": "code",
   "execution_count": 13,
   "metadata": {},
   "outputs": [
    {
     "name": "stderr",
     "output_type": "stream",
     "text": [
      "  7%|▋         | 2/30 [00:00<00:01, 15.50it/s]"
     ]
    },
    {
     "name": "stdout",
     "output_type": "stream",
     "text": [
      "Repetição 1 - Acurácia: 0.91, Precisão: 0.25, Recall: 0.49, F1-score: 0.33, ROC AUC: 0.71\n",
      "Repetição 2 - Acurácia: 0.92, Precisão: 0.25, Recall: 0.50, F1-score: 0.34, ROC AUC: 0.72\n",
      "Repetição 3 - Acurácia: 0.91, Precisão: 0.23, Recall: 0.45, F1-score: 0.31, ROC AUC: 0.69\n",
      "Repetição 4 - Acurácia: 0.92, Precisão: 0.25, Recall: 0.46, F1-score: 0.32, ROC AUC: 0.70\n"
     ]
    },
    {
     "name": "stderr",
     "output_type": "stream",
     "text": [
      " 13%|█▎        | 4/30 [00:00<00:01, 15.56it/s]"
     ]
    },
    {
     "name": "stdout",
     "output_type": "stream",
     "text": [
      "Repetição 5 - Acurácia: 0.91, Precisão: 0.24, Recall: 0.47, F1-score: 0.32, ROC AUC: 0.70\n",
      "Repetição 6 - Acurácia: 0.91, Precisão: 0.23, Recall: 0.44, F1-score: 0.31, ROC AUC: 0.69\n"
     ]
    },
    {
     "name": "stderr",
     "output_type": "stream",
     "text": [
      " 20%|██        | 6/30 [00:00<00:01, 15.59it/s]"
     ]
    },
    {
     "name": "stdout",
     "output_type": "stream",
     "text": [
      "Repetição 7 - Acurácia: 0.92, Precisão: 0.25, Recall: 0.46, F1-score: 0.32, ROC AUC: 0.70\n",
      "Repetição 8 - Acurácia: 0.92, Precisão: 0.25, Recall: 0.46, F1-score: 0.32, ROC AUC: 0.70\n"
     ]
    },
    {
     "name": "stderr",
     "output_type": "stream",
     "text": [
      " 33%|███▎      | 10/30 [00:00<00:01, 15.82it/s]"
     ]
    },
    {
     "name": "stdout",
     "output_type": "stream",
     "text": [
      "Repetição 9 - Acurácia: 0.91, Precisão: 0.24, Recall: 0.47, F1-score: 0.32, ROC AUC: 0.70\n",
      "Repetição 10 - Acurácia: 0.92, Precisão: 0.25, Recall: 0.48, F1-score: 0.33, ROC AUC: 0.71\n"
     ]
    },
    {
     "name": "stderr",
     "output_type": "stream",
     "text": [
      " 40%|████      | 12/30 [00:00<00:01, 15.92it/s]"
     ]
    },
    {
     "name": "stdout",
     "output_type": "stream",
     "text": [
      "Repetição 11 - Acurácia: 0.92, Precisão: 0.26, Recall: 0.49, F1-score: 0.34, ROC AUC: 0.71\n",
      "Repetição 12 - Acurácia: 0.91, Precisão: 0.25, Recall: 0.49, F1-score: 0.33, ROC AUC: 0.71\n",
      "Repetição 13 - Acurácia: 0.92, Precisão: 0.25, Recall: 0.47, F1-score: 0.33, ROC AUC: 0.70\n",
      "Repetição 14 - Acurácia: 0.91, Precisão: 0.25, Recall: 0.48, F1-score: 0.33, ROC AUC: 0.71\n"
     ]
    },
    {
     "name": "stderr",
     "output_type": "stream",
     "text": [
      " 53%|█████▎    | 16/30 [00:01<00:00, 15.94it/s]"
     ]
    },
    {
     "name": "stdout",
     "output_type": "stream",
     "text": [
      "Repetição 15 - Acurácia: 0.92, Precisão: 0.25, Recall: 0.47, F1-score: 0.33, ROC AUC: 0.70\n",
      "Repetição 16 - Acurácia: 0.91, Precisão: 0.24, Recall: 0.47, F1-score: 0.32, ROC AUC: 0.70\n",
      "Repetição 17 - Acurácia: 0.92, Precisão: 0.27, Recall: 0.46, F1-score: 0.34, ROC AUC: 0.70\n",
      "Repetição 18 - Acurácia: 0.92, Precisão: 0.26, Recall: 0.46, F1-score: 0.33, ROC AUC: 0.70\n"
     ]
    },
    {
     "name": "stderr",
     "output_type": "stream",
     "text": [
      " 60%|██████    | 18/30 [00:01<00:00, 15.94it/s]"
     ]
    },
    {
     "name": "stdout",
     "output_type": "stream",
     "text": [
      "Repetição 19 - Acurácia: 0.93, Precisão: 0.28, Recall: 0.45, F1-score: 0.35, ROC AUC: 0.70\n",
      "Repetição 20 - Acurácia: 0.92, Precisão: 0.25, Recall: 0.46, F1-score: 0.33, ROC AUC: 0.70\n"
     ]
    },
    {
     "name": "stderr",
     "output_type": "stream",
     "text": [
      " 73%|███████▎  | 22/30 [00:01<00:00, 15.99it/s]"
     ]
    },
    {
     "name": "stdout",
     "output_type": "stream",
     "text": [
      "Repetição 21 - Acurácia: 0.92, Precisão: 0.25, Recall: 0.46, F1-score: 0.32, ROC AUC: 0.70\n",
      "Repetição 22 - Acurácia: 0.92, Precisão: 0.25, Recall: 0.46, F1-score: 0.32, ROC AUC: 0.70\n",
      "Repetição 23 - Acurácia: 0.92, Precisão: 0.25, Recall: 0.47, F1-score: 0.33, ROC AUC: 0.70\n",
      "Repetição 24 - Acurácia: 0.92, Precisão: 0.26, Recall: 0.50, F1-score: 0.34, ROC AUC: 0.72\n"
     ]
    },
    {
     "name": "stderr",
     "output_type": "stream",
     "text": [
      " 80%|████████  | 24/30 [00:01<00:00, 16.01it/s]"
     ]
    },
    {
     "name": "stdout",
     "output_type": "stream",
     "text": [
      "Repetição 25 - Acurácia: 0.92, Precisão: 0.26, Recall: 0.49, F1-score: 0.34, ROC AUC: 0.71\n",
      "Repetição 26 - Acurácia: 0.92, Precisão: 0.26, Recall: 0.49, F1-score: 0.34, ROC AUC: 0.71\n"
     ]
    },
    {
     "name": "stderr",
     "output_type": "stream",
     "text": [
      " 87%|████████▋ | 26/30 [00:01<00:00, 15.99it/s]"
     ]
    },
    {
     "name": "stdout",
     "output_type": "stream",
     "text": [
      "Repetição 27 - Acurácia: 0.91, Precisão: 0.23, Recall: 0.46, F1-score: 0.31, ROC AUC: 0.69\n",
      "Repetição 28 - Acurácia: 0.92, Precisão: 0.25, Recall: 0.46, F1-score: 0.32, ROC AUC: 0.70\n"
     ]
    },
    {
     "name": "stderr",
     "output_type": "stream",
     "text": [
      "100%|██████████| 30/30 [00:01<00:00, 15.41it/s]"
     ]
    },
    {
     "name": "stdout",
     "output_type": "stream",
     "text": [
      "Repetição 29 - Acurácia: 0.92, Precisão: 0.24, Recall: 0.46, F1-score: 0.32, ROC AUC: 0.70\n",
      "Repetição 30 - Acurácia: 0.92, Precisão: 0.26, Recall: 0.47, F1-score: 0.33, ROC AUC: 0.70\n"
     ]
    },
    {
     "name": "stderr",
     "output_type": "stream",
     "text": [
      "100%|██████████| 30/30 [00:01<00:00, 15.73it/s]"
     ]
    },
    {
     "name": "stdout",
     "output_type": "stream",
     "text": [
      "Média das Acurácias: 0.91629 ± 0.00298\n",
      "Média das Precisões: 0.25006 ± 0.00980\n",
      "Média dos Recalls: 0.47035 ± 0.01486\n",
      "Média dos F1-scores: 0.32638 ± 0.00967\n",
      "Média dos ROC AUC: 0.70336 ± 0.00703\n"
     ]
    },
    {
     "name": "stderr",
     "output_type": "stream",
     "text": [
      "\n"
     ]
    }
   ],
   "source": [
    "num_repeticoes = 30\n",
    "\n",
    "# Listas para armazenar as métricas\n",
    "acuracias = []\n",
    "precisoes = []\n",
    "recalls = []\n",
    "f1_scores = []\n",
    "roc_auc_scores = []\n",
    "\n",
    "# Loop para repetir o processo\n",
    "for i in tqdm(range(num_repeticoes)):\n",
    "\n",
    "    x_train, x_test, y_train, y_test = train_test_split(x_all, y_all, test_size=0.2, stratify=y_all)\n",
    "    \n",
    "    #Inicializar o modelo de Naive Bayes com distribuição de Bernoulli\n",
    "    modelo_naive_bayes = GaussianNB()\n",
    "\n",
    "    # Treinar o modelo no conjunto de treino\n",
    "    modelo_naive_bayes.fit(x_train, y_train)\n",
    "\n",
    "    # Fazer previsões no conjunto de teste\n",
    "    previsoes = modelo_naive_bayes.predict(x_test)\n",
    "\n",
    "    # Avaliar as métricas do modelo e armazenar na lista\n",
    "    acuracia = accuracy_score(y_test, previsoes)\n",
    "    precisao = precision_score(y_test, previsoes)\n",
    "    recall = recall_score(y_test, previsoes)\n",
    "    f1 = f1_score(y_test, previsoes)\n",
    "    roc_auc = roc_auc_score(y_test, previsoes)\n",
    "    \n",
    "    acuracias.append(acuracia)\n",
    "    precisoes.append(precisao)\n",
    "    recalls.append(recall)\n",
    "    f1_scores.append(f1)\n",
    "    roc_auc_scores.append(roc_auc)\n",
    "\n",
    "    print(f'Repetição {i+1} - Acurácia: {acuracia:.2f}, Precisão: {precisao:.2f}, Recall: {recall:.2f}, F1-score: {f1:.2f}, ROC AUC: {roc_auc:.2f}')\n",
    "\n",
    "# Calcular as médias das métricas\n",
    "media_acuracias = np.mean(acuracias)\n",
    "media_precisoes = np.mean(precisoes)\n",
    "media_recalls = np.mean(recalls)\n",
    "media_f1_scores = np.mean(f1_scores)\n",
    "media_roc_auc_scores = np.mean(roc_auc_scores)\n",
    "\n",
    "# Calcular os desvios padrão das métricas\n",
    "dp_acuracias = np.std(acuracias)\n",
    "dp_precisoes = np.std(precisoes)\n",
    "dp_recalls = np.std(recalls)\n",
    "dp_f1_scores = np.std(f1_scores)\n",
    "dp_roc_auc_scores = np.std(roc_auc_scores)\n",
    "\n",
    "# Adicionar as médias e desvios padrão às listas de métricas\n",
    "Acurracy.append(media_acuracias)\n",
    "Precision.append(media_precisoes)\n",
    "Recall.append(media_recalls)\n",
    "F1_score.append(media_f1_scores)\n",
    "Roc_auc.append(media_roc_auc_scores)\n",
    "\n",
    "AcurracyDP.append(dp_acuracias)\n",
    "PrecisionDP.append(dp_precisoes)\n",
    "RecallDP.append(dp_recalls)\n",
    "F1_scoreDP.append(dp_f1_scores)\n",
    "Roc_aucDP.append(dp_roc_auc_scores)\n",
    "\n",
    "print(f'Média das Acurácias: {media_acuracias:.5f} ± {dp_acuracias:.5f}')\n",
    "print(f'Média das Precisões: {media_precisoes:.5f} ± {dp_precisoes:.5f}')\n",
    "print(f'Média dos Recalls: {media_recalls:.5f} ± {dp_recalls:.5f}')\n",
    "print(f'Média dos F1-scores: {media_f1_scores:.5f} ± {dp_f1_scores:.5f}')\n",
    "print(f'Média dos ROC AUC: {media_roc_auc_scores:.5f} ± {dp_roc_auc_scores:.5f}')"
   ]
  },
  {
   "cell_type": "markdown",
   "metadata": {},
   "source": [
    "####  MLP"
   ]
  },
  {
   "cell_type": "code",
   "execution_count": 14,
   "metadata": {},
   "outputs": [
    {
     "name": "stderr",
     "output_type": "stream",
     "text": [
      "  3%|▎         | 1/30 [00:25<12:11, 25.21s/it]"
     ]
    },
    {
     "name": "stdout",
     "output_type": "stream",
     "text": [
      "Repetição 1 - Acurácia: 0.98, Precisão: 0.79, Recall: 0.58, F1-score: 0.67, ROC AUC: 0.79\n"
     ]
    },
    {
     "name": "stderr",
     "output_type": "stream",
     "text": [
      "  7%|▋         | 2/30 [00:56<13:21, 28.61s/it]"
     ]
    },
    {
     "name": "stdout",
     "output_type": "stream",
     "text": [
      "Repetição 2 - Acurácia: 0.98, Precisão: 0.86, Recall: 0.57, F1-score: 0.68, ROC AUC: 0.78\n"
     ]
    },
    {
     "name": "stderr",
     "output_type": "stream",
     "text": [
      " 10%|█         | 3/30 [01:34<14:53, 33.10s/it]"
     ]
    },
    {
     "name": "stdout",
     "output_type": "stream",
     "text": [
      "Repetição 3 - Acurácia: 0.98, Precisão: 0.81, Recall: 0.60, F1-score: 0.69, ROC AUC: 0.80\n"
     ]
    },
    {
     "name": "stderr",
     "output_type": "stream",
     "text": [
      " 13%|█▎        | 4/30 [02:16<15:51, 36.61s/it]"
     ]
    },
    {
     "name": "stdout",
     "output_type": "stream",
     "text": [
      "Repetição 4 - Acurácia: 0.98, Precisão: 0.82, Recall: 0.58, F1-score: 0.68, ROC AUC: 0.79\n"
     ]
    },
    {
     "name": "stderr",
     "output_type": "stream",
     "text": [
      " 17%|█▋        | 5/30 [02:56<15:45, 37.83s/it]"
     ]
    },
    {
     "name": "stdout",
     "output_type": "stream",
     "text": [
      "Repetição 5 - Acurácia: 0.98, Precisão: 0.83, Recall: 0.64, F1-score: 0.73, ROC AUC: 0.82\n"
     ]
    },
    {
     "name": "stderr",
     "output_type": "stream",
     "text": [
      " 20%|██        | 6/30 [03:41<16:02, 40.11s/it]"
     ]
    },
    {
     "name": "stdout",
     "output_type": "stream",
     "text": [
      "Repetição 6 - Acurácia: 0.98, Precisão: 0.81, Recall: 0.62, F1-score: 0.70, ROC AUC: 0.81\n"
     ]
    },
    {
     "name": "stderr",
     "output_type": "stream",
     "text": [
      " 23%|██▎       | 7/30 [04:28<16:20, 42.62s/it]"
     ]
    },
    {
     "name": "stdout",
     "output_type": "stream",
     "text": [
      "Repetição 7 - Acurácia: 0.98, Precisão: 0.83, Recall: 0.59, F1-score: 0.69, ROC AUC: 0.79\n"
     ]
    },
    {
     "name": "stderr",
     "output_type": "stream",
     "text": [
      " 27%|██▋       | 8/30 [05:17<16:20, 44.57s/it]"
     ]
    },
    {
     "name": "stdout",
     "output_type": "stream",
     "text": [
      "Repetição 8 - Acurácia: 0.98, Precisão: 0.80, Recall: 0.60, F1-score: 0.69, ROC AUC: 0.80\n"
     ]
    },
    {
     "name": "stderr",
     "output_type": "stream",
     "text": [
      " 30%|███       | 9/30 [05:53<14:41, 41.98s/it]"
     ]
    },
    {
     "name": "stdout",
     "output_type": "stream",
     "text": [
      "Repetição 9 - Acurácia: 0.98, Precisão: 0.78, Recall: 0.62, F1-score: 0.69, ROC AUC: 0.81\n"
     ]
    },
    {
     "name": "stderr",
     "output_type": "stream",
     "text": [
      " 33%|███▎      | 10/30 [06:36<14:02, 42.11s/it]"
     ]
    },
    {
     "name": "stdout",
     "output_type": "stream",
     "text": [
      "Repetição 10 - Acurácia: 0.98, Precisão: 0.88, Recall: 0.54, F1-score: 0.67, ROC AUC: 0.77\n"
     ]
    },
    {
     "name": "stderr",
     "output_type": "stream",
     "text": [
      " 37%|███▋      | 11/30 [07:12<12:44, 40.25s/it]"
     ]
    },
    {
     "name": "stdout",
     "output_type": "stream",
     "text": [
      "Repetição 11 - Acurácia: 0.98, Precisão: 0.81, Recall: 0.61, F1-score: 0.70, ROC AUC: 0.80\n"
     ]
    },
    {
     "name": "stderr",
     "output_type": "stream",
     "text": [
      " 40%|████      | 12/30 [08:02<13:00, 43.35s/it]"
     ]
    },
    {
     "name": "stdout",
     "output_type": "stream",
     "text": [
      "Repetição 12 - Acurácia: 0.97, Precisão: 0.73, Recall: 0.67, F1-score: 0.70, ROC AUC: 0.83\n"
     ]
    },
    {
     "name": "stderr",
     "output_type": "stream",
     "text": [
      " 43%|████▎     | 13/30 [08:34<11:15, 39.72s/it]"
     ]
    },
    {
     "name": "stdout",
     "output_type": "stream",
     "text": [
      "Repetição 13 - Acurácia: 0.98, Precisão: 0.81, Recall: 0.60, F1-score: 0.69, ROC AUC: 0.79\n"
     ]
    },
    {
     "name": "stderr",
     "output_type": "stream",
     "text": [
      " 47%|████▋     | 14/30 [09:08<10:07, 37.96s/it]"
     ]
    },
    {
     "name": "stdout",
     "output_type": "stream",
     "text": [
      "Repetição 14 - Acurácia: 0.98, Precisão: 0.81, Recall: 0.60, F1-score: 0.69, ROC AUC: 0.80\n"
     ]
    },
    {
     "name": "stderr",
     "output_type": "stream",
     "text": [
      " 50%|█████     | 15/30 [09:53<10:04, 40.30s/it]"
     ]
    },
    {
     "name": "stdout",
     "output_type": "stream",
     "text": [
      "Repetição 15 - Acurácia: 0.98, Precisão: 0.81, Recall: 0.56, F1-score: 0.66, ROC AUC: 0.77\n"
     ]
    },
    {
     "name": "stderr",
     "output_type": "stream",
     "text": [
      " 53%|█████▎    | 16/30 [10:28<08:59, 38.51s/it]"
     ]
    },
    {
     "name": "stdout",
     "output_type": "stream",
     "text": [
      "Repetição 16 - Acurácia: 0.98, Precisão: 0.76, Recall: 0.67, F1-score: 0.71, ROC AUC: 0.83\n"
     ]
    },
    {
     "name": "stderr",
     "output_type": "stream",
     "text": [
      " 57%|█████▋    | 17/30 [11:04<08:11, 37.84s/it]"
     ]
    },
    {
     "name": "stdout",
     "output_type": "stream",
     "text": [
      "Repetição 17 - Acurácia: 0.98, Precisão: 0.80, Recall: 0.62, F1-score: 0.70, ROC AUC: 0.81\n"
     ]
    },
    {
     "name": "stderr",
     "output_type": "stream",
     "text": [
      " 60%|██████    | 18/30 [11:35<07:08, 35.68s/it]"
     ]
    },
    {
     "name": "stdout",
     "output_type": "stream",
     "text": [
      "Repetição 18 - Acurácia: 0.98, Precisão: 0.86, Recall: 0.57, F1-score: 0.69, ROC AUC: 0.78\n"
     ]
    },
    {
     "name": "stderr",
     "output_type": "stream",
     "text": [
      " 63%|██████▎   | 19/30 [12:10<06:30, 35.46s/it]"
     ]
    },
    {
     "name": "stdout",
     "output_type": "stream",
     "text": [
      "Repetição 19 - Acurácia: 0.98, Precisão: 0.90, Recall: 0.53, F1-score: 0.67, ROC AUC: 0.76\n"
     ]
    },
    {
     "name": "stderr",
     "output_type": "stream",
     "text": [
      " 67%|██████▋   | 20/30 [12:48<06:02, 36.21s/it]"
     ]
    },
    {
     "name": "stdout",
     "output_type": "stream",
     "text": [
      "Repetição 20 - Acurácia: 0.98, Precisão: 0.79, Recall: 0.65, F1-score: 0.71, ROC AUC: 0.82\n"
     ]
    },
    {
     "name": "stderr",
     "output_type": "stream",
     "text": [
      " 70%|███████   | 21/30 [13:30<05:41, 37.97s/it]"
     ]
    },
    {
     "name": "stdout",
     "output_type": "stream",
     "text": [
      "Repetição 21 - Acurácia: 0.98, Precisão: 0.86, Recall: 0.58, F1-score: 0.69, ROC AUC: 0.79\n"
     ]
    },
    {
     "name": "stderr",
     "output_type": "stream",
     "text": [
      " 73%|███████▎  | 22/30 [14:15<05:22, 40.26s/it]"
     ]
    },
    {
     "name": "stdout",
     "output_type": "stream",
     "text": [
      "Repetição 22 - Acurácia: 0.98, Precisão: 0.70, Recall: 0.73, F1-score: 0.72, ROC AUC: 0.86\n"
     ]
    },
    {
     "name": "stderr",
     "output_type": "stream",
     "text": [
      " 77%|███████▋  | 23/30 [14:58<04:47, 41.05s/it]"
     ]
    },
    {
     "name": "stdout",
     "output_type": "stream",
     "text": [
      "Repetição 23 - Acurácia: 0.98, Precisão: 0.84, Recall: 0.61, F1-score: 0.71, ROC AUC: 0.80\n"
     ]
    },
    {
     "name": "stderr",
     "output_type": "stream",
     "text": [
      " 80%|████████  | 24/30 [15:37<04:03, 40.54s/it]"
     ]
    },
    {
     "name": "stdout",
     "output_type": "stream",
     "text": [
      "Repetição 24 - Acurácia: 0.98, Precisão: 0.80, Recall: 0.62, F1-score: 0.70, ROC AUC: 0.81\n"
     ]
    },
    {
     "name": "stderr",
     "output_type": "stream",
     "text": [
      " 83%|████████▎ | 25/30 [16:13<03:15, 39.12s/it]"
     ]
    },
    {
     "name": "stdout",
     "output_type": "stream",
     "text": [
      "Repetição 25 - Acurácia: 0.98, Precisão: 0.85, Recall: 0.55, F1-score: 0.67, ROC AUC: 0.77\n"
     ]
    },
    {
     "name": "stderr",
     "output_type": "stream",
     "text": [
      " 87%|████████▋ | 26/30 [16:53<02:37, 39.28s/it]"
     ]
    },
    {
     "name": "stdout",
     "output_type": "stream",
     "text": [
      "Repetição 26 - Acurácia: 0.98, Precisão: 0.86, Recall: 0.56, F1-score: 0.68, ROC AUC: 0.78\n"
     ]
    },
    {
     "name": "stderr",
     "output_type": "stream",
     "text": [
      " 90%|█████████ | 27/30 [17:23<01:49, 36.64s/it]"
     ]
    },
    {
     "name": "stdout",
     "output_type": "stream",
     "text": [
      "Repetição 27 - Acurácia: 0.98, Precisão: 0.85, Recall: 0.61, F1-score: 0.71, ROC AUC: 0.80\n"
     ]
    },
    {
     "name": "stderr",
     "output_type": "stream",
     "text": [
      " 93%|█████████▎| 28/30 [18:04<01:15, 37.91s/it]"
     ]
    },
    {
     "name": "stdout",
     "output_type": "stream",
     "text": [
      "Repetição 28 - Acurácia: 0.98, Precisão: 0.83, Recall: 0.59, F1-score: 0.69, ROC AUC: 0.79\n"
     ]
    },
    {
     "name": "stderr",
     "output_type": "stream",
     "text": [
      " 97%|█████████▋| 29/30 [18:45<00:38, 38.64s/it]"
     ]
    },
    {
     "name": "stdout",
     "output_type": "stream",
     "text": [
      "Repetição 29 - Acurácia: 0.98, Precisão: 0.84, Recall: 0.60, F1-score: 0.70, ROC AUC: 0.80\n"
     ]
    },
    {
     "name": "stderr",
     "output_type": "stream",
     "text": [
      "100%|██████████| 30/30 [19:20<00:00, 38.69s/it]"
     ]
    },
    {
     "name": "stdout",
     "output_type": "stream",
     "text": [
      "Repetição 30 - Acurácia: 0.98, Precisão: 0.79, Recall: 0.62, F1-score: 0.70, ROC AUC: 0.81\n",
      "Média das Acurácias: 0.97690 ± 0.00095\n",
      "Média das Precisões: 0.81707 ± 0.04075\n",
      "Média dos Recalls: 0.60309 ± 0.04099\n",
      "Média dos F1-scores: 0.69179 ± 0.01578\n",
      "Média dos ROC AUC: 0.79841 ± 0.01950\n"
     ]
    },
    {
     "name": "stderr",
     "output_type": "stream",
     "text": [
      "\n"
     ]
    }
   ],
   "source": [
    "num_repeticoes = 30\n",
    "\n",
    "# Listas para armazenar as métricas\n",
    "acuracias = []\n",
    "precisoes = []\n",
    "recalls = []\n",
    "f1_scores = []\n",
    "roc_auc_scores = []\n",
    "\n",
    "# Loop para repetir o processo\n",
    "for i in tqdm(range(num_repeticoes)):\n",
    "\n",
    "    x_train, x_test, y_train, y_test = train_test_split(x_all, y_all, test_size=0.2, stratify=y_all)\n",
    "    \n",
    "    # Inicializar o modelo MLP\n",
    "    modelo_mlp = MLPClassifier(hidden_layer_sizes=(100), max_iter=1000)\n",
    "\n",
    "    # Treinar o modelo no conjunto de treino\n",
    "    modelo_mlp.fit(x_train, y_train)\n",
    "\n",
    "    # Fazer previsões no conjunto de teste\n",
    "    previsoes = modelo_mlp.predict(x_test)\n",
    "\n",
    "    # Avaliar as métricas do modelo e armazenar na lista\n",
    "    acuracia = accuracy_score(y_test, previsoes)\n",
    "    precisao = precision_score(y_test, previsoes)\n",
    "    recall = recall_score(y_test, previsoes)\n",
    "    f1 = f1_score(y_test, previsoes)\n",
    "    roc_auc = roc_auc_score(y_test, previsoes)\n",
    "    \n",
    "    acuracias.append(acuracia)\n",
    "    precisoes.append(precisao)\n",
    "    recalls.append(recall)\n",
    "    f1_scores.append(f1)\n",
    "    roc_auc_scores.append(roc_auc)\n",
    "\n",
    "    print(f'Repetição {i+1} - Acurácia: {acuracia:.2f}, Precisão: {precisao:.2f}, Recall: {recall:.2f}, F1-score: {f1:.2f}, ROC AUC: {roc_auc:.2f}')\n",
    "\n",
    "# Calcular as médias das métricas\n",
    "media_acuracias = np.mean(acuracias)\n",
    "media_precisoes = np.mean(precisoes)\n",
    "media_recalls = np.mean(recalls)\n",
    "media_f1_scores = np.mean(f1_scores)\n",
    "media_roc_auc_scores = np.mean(roc_auc_scores)\n",
    "\n",
    "# Calcular os desvios padrão das métricas\n",
    "dp_acuracias = np.std(acuracias)\n",
    "dp_precisoes = np.std(precisoes)\n",
    "dp_recalls = np.std(recalls)\n",
    "dp_f1_scores = np.std(f1_scores)\n",
    "dp_roc_auc_scores = np.std(roc_auc_scores)\n",
    "\n",
    "# Adicionar as médias e desvios padrão às listas de métricas\n",
    "Acurracy.append(media_acuracias)\n",
    "Precision.append(media_precisoes)\n",
    "Recall.append(media_recalls)\n",
    "F1_score.append(media_f1_scores)\n",
    "Roc_auc.append(media_roc_auc_scores)\n",
    "\n",
    "AcurracyDP.append(dp_acuracias)\n",
    "PrecisionDP.append(dp_precisoes)\n",
    "RecallDP.append(dp_recalls)\n",
    "F1_scoreDP.append(dp_f1_scores)\n",
    "Roc_aucDP.append(dp_roc_auc_scores)\n",
    "\n",
    "print(f'Média das Acurácias: {media_acuracias:.5f} ± {dp_acuracias:.5f}')\n",
    "print(f'Média das Precisões: {media_precisoes:.5f} ± {dp_precisoes:.5f}')\n",
    "print(f'Média dos Recalls: {media_recalls:.5f} ± {dp_recalls:.5f}')\n",
    "print(f'Média dos F1-scores: {media_f1_scores:.5f} ± {dp_f1_scores:.5f}')\n",
    "print(f'Média dos ROC AUC: {media_roc_auc_scores:.5f} ± {dp_roc_auc_scores:.5f}')"
   ]
  },
  {
   "cell_type": "markdown",
   "metadata": {},
   "source": [
    "#### KNN"
   ]
  },
  {
   "cell_type": "code",
   "execution_count": 15,
   "metadata": {},
   "outputs": [
    {
     "name": "stderr",
     "output_type": "stream",
     "text": [
      "  3%|▎         | 1/30 [00:01<00:51,  1.79s/it]"
     ]
    },
    {
     "name": "stdout",
     "output_type": "stream",
     "text": [
      "Repetição 1 - Acurácia: 0.98, Precisão: 0.81, Recall: 0.69, F1-score: 0.75, ROC AUC: 0.84\n"
     ]
    },
    {
     "name": "stderr",
     "output_type": "stream",
     "text": [
      "  7%|▋         | 2/30 [00:03<00:49,  1.77s/it]"
     ]
    },
    {
     "name": "stdout",
     "output_type": "stream",
     "text": [
      "Repetição 2 - Acurácia: 0.98, Precisão: 0.80, Recall: 0.73, F1-score: 0.76, ROC AUC: 0.86\n"
     ]
    },
    {
     "name": "stderr",
     "output_type": "stream",
     "text": [
      " 10%|█         | 3/30 [00:05<00:47,  1.75s/it]"
     ]
    },
    {
     "name": "stdout",
     "output_type": "stream",
     "text": [
      "Repetição 3 - Acurácia: 0.98, Precisão: 0.79, Recall: 0.74, F1-score: 0.77, ROC AUC: 0.87\n"
     ]
    },
    {
     "name": "stderr",
     "output_type": "stream",
     "text": [
      " 13%|█▎        | 4/30 [00:07<00:45,  1.75s/it]"
     ]
    },
    {
     "name": "stdout",
     "output_type": "stream",
     "text": [
      "Repetição 4 - Acurácia: 0.98, Precisão: 0.81, Recall: 0.71, F1-score: 0.76, ROC AUC: 0.85\n"
     ]
    },
    {
     "name": "stderr",
     "output_type": "stream",
     "text": [
      " 17%|█▋        | 5/30 [00:08<00:44,  1.77s/it]"
     ]
    },
    {
     "name": "stdout",
     "output_type": "stream",
     "text": [
      "Repetição 5 - Acurácia: 0.98, Precisão: 0.79, Recall: 0.73, F1-score: 0.76, ROC AUC: 0.86\n"
     ]
    },
    {
     "name": "stderr",
     "output_type": "stream",
     "text": [
      " 20%|██        | 6/30 [00:10<00:42,  1.79s/it]"
     ]
    },
    {
     "name": "stdout",
     "output_type": "stream",
     "text": [
      "Repetição 6 - Acurácia: 0.98, Precisão: 0.82, Recall: 0.75, F1-score: 0.78, ROC AUC: 0.87\n"
     ]
    },
    {
     "name": "stderr",
     "output_type": "stream",
     "text": [
      " 23%|██▎       | 7/30 [00:12<00:42,  1.86s/it]"
     ]
    },
    {
     "name": "stdout",
     "output_type": "stream",
     "text": [
      "Repetição 7 - Acurácia: 0.98, Precisão: 0.81, Recall: 0.74, F1-score: 0.77, ROC AUC: 0.87\n"
     ]
    },
    {
     "name": "stderr",
     "output_type": "stream",
     "text": [
      " 27%|██▋       | 8/30 [00:14<00:38,  1.74s/it]"
     ]
    },
    {
     "name": "stdout",
     "output_type": "stream",
     "text": [
      "Repetição 8 - Acurácia: 0.98, Precisão: 0.81, Recall: 0.71, F1-score: 0.76, ROC AUC: 0.85\n"
     ]
    },
    {
     "name": "stderr",
     "output_type": "stream",
     "text": [
      " 30%|███       | 9/30 [00:15<00:34,  1.65s/it]"
     ]
    },
    {
     "name": "stdout",
     "output_type": "stream",
     "text": [
      "Repetição 9 - Acurácia: 0.98, Precisão: 0.81, Recall: 0.73, F1-score: 0.77, ROC AUC: 0.86\n"
     ]
    },
    {
     "name": "stderr",
     "output_type": "stream",
     "text": [
      " 33%|███▎      | 10/30 [00:17<00:31,  1.58s/it]"
     ]
    },
    {
     "name": "stdout",
     "output_type": "stream",
     "text": [
      "Repetição 10 - Acurácia: 0.98, Precisão: 0.80, Recall: 0.74, F1-score: 0.77, ROC AUC: 0.87\n"
     ]
    },
    {
     "name": "stderr",
     "output_type": "stream",
     "text": [
      " 37%|███▋      | 11/30 [00:18<00:30,  1.60s/it]"
     ]
    },
    {
     "name": "stdout",
     "output_type": "stream",
     "text": [
      "Repetição 11 - Acurácia: 0.98, Precisão: 0.82, Recall: 0.74, F1-score: 0.78, ROC AUC: 0.86\n"
     ]
    },
    {
     "name": "stderr",
     "output_type": "stream",
     "text": [
      " 40%|████      | 12/30 [00:20<00:29,  1.62s/it]"
     ]
    },
    {
     "name": "stdout",
     "output_type": "stream",
     "text": [
      "Repetição 12 - Acurácia: 0.98, Precisão: 0.82, Recall: 0.73, F1-score: 0.77, ROC AUC: 0.86\n"
     ]
    },
    {
     "name": "stderr",
     "output_type": "stream",
     "text": [
      " 43%|████▎     | 13/30 [00:21<00:27,  1.61s/it]"
     ]
    },
    {
     "name": "stdout",
     "output_type": "stream",
     "text": [
      "Repetição 13 - Acurácia: 0.98, Precisão: 0.82, Recall: 0.73, F1-score: 0.77, ROC AUC: 0.86\n"
     ]
    },
    {
     "name": "stderr",
     "output_type": "stream",
     "text": [
      " 47%|████▋     | 14/30 [00:23<00:25,  1.56s/it]"
     ]
    },
    {
     "name": "stdout",
     "output_type": "stream",
     "text": [
      "Repetição 14 - Acurácia: 0.98, Precisão: 0.83, Recall: 0.73, F1-score: 0.77, ROC AUC: 0.86\n"
     ]
    },
    {
     "name": "stderr",
     "output_type": "stream",
     "text": [
      " 50%|█████     | 15/30 [00:24<00:22,  1.52s/it]"
     ]
    },
    {
     "name": "stdout",
     "output_type": "stream",
     "text": [
      "Repetição 15 - Acurácia: 0.98, Precisão: 0.80, Recall: 0.74, F1-score: 0.77, ROC AUC: 0.87\n"
     ]
    },
    {
     "name": "stderr",
     "output_type": "stream",
     "text": [
      " 53%|█████▎    | 16/30 [00:26<00:20,  1.49s/it]"
     ]
    },
    {
     "name": "stdout",
     "output_type": "stream",
     "text": [
      "Repetição 16 - Acurácia: 0.98, Precisão: 0.81, Recall: 0.77, F1-score: 0.79, ROC AUC: 0.88\n"
     ]
    },
    {
     "name": "stderr",
     "output_type": "stream",
     "text": [
      " 57%|█████▋    | 17/30 [00:27<00:19,  1.47s/it]"
     ]
    },
    {
     "name": "stdout",
     "output_type": "stream",
     "text": [
      "Repetição 17 - Acurácia: 0.98, Precisão: 0.82, Recall: 0.74, F1-score: 0.78, ROC AUC: 0.86\n"
     ]
    },
    {
     "name": "stderr",
     "output_type": "stream",
     "text": [
      " 60%|██████    | 18/30 [00:29<00:17,  1.48s/it]"
     ]
    },
    {
     "name": "stdout",
     "output_type": "stream",
     "text": [
      "Repetição 18 - Acurácia: 0.98, Precisão: 0.81, Recall: 0.73, F1-score: 0.76, ROC AUC: 0.86\n"
     ]
    },
    {
     "name": "stderr",
     "output_type": "stream",
     "text": [
      " 63%|██████▎   | 19/30 [00:30<00:16,  1.52s/it]"
     ]
    },
    {
     "name": "stdout",
     "output_type": "stream",
     "text": [
      "Repetição 19 - Acurácia: 0.98, Precisão: 0.82, Recall: 0.74, F1-score: 0.78, ROC AUC: 0.87\n"
     ]
    },
    {
     "name": "stderr",
     "output_type": "stream",
     "text": [
      " 67%|██████▋   | 20/30 [00:32<00:15,  1.60s/it]"
     ]
    },
    {
     "name": "stdout",
     "output_type": "stream",
     "text": [
      "Repetição 20 - Acurácia: 0.98, Precisão: 0.80, Recall: 0.74, F1-score: 0.77, ROC AUC: 0.87\n"
     ]
    },
    {
     "name": "stderr",
     "output_type": "stream",
     "text": [
      " 70%|███████   | 21/30 [00:34<00:14,  1.64s/it]"
     ]
    },
    {
     "name": "stdout",
     "output_type": "stream",
     "text": [
      "Repetição 21 - Acurácia: 0.98, Precisão: 0.85, Recall: 0.74, F1-score: 0.79, ROC AUC: 0.86\n"
     ]
    },
    {
     "name": "stderr",
     "output_type": "stream",
     "text": [
      " 73%|███████▎  | 22/30 [00:36<00:13,  1.67s/it]"
     ]
    },
    {
     "name": "stdout",
     "output_type": "stream",
     "text": [
      "Repetição 22 - Acurácia: 0.98, Precisão: 0.80, Recall: 0.73, F1-score: 0.76, ROC AUC: 0.86\n"
     ]
    },
    {
     "name": "stderr",
     "output_type": "stream",
     "text": [
      " 77%|███████▋  | 23/30 [00:37<00:11,  1.63s/it]"
     ]
    },
    {
     "name": "stdout",
     "output_type": "stream",
     "text": [
      "Repetição 23 - Acurácia: 0.98, Precisão: 0.82, Recall: 0.76, F1-score: 0.79, ROC AUC: 0.87\n"
     ]
    },
    {
     "name": "stderr",
     "output_type": "stream",
     "text": [
      " 80%|████████  | 24/30 [00:39<00:09,  1.59s/it]"
     ]
    },
    {
     "name": "stdout",
     "output_type": "stream",
     "text": [
      "Repetição 24 - Acurácia: 0.98, Precisão: 0.81, Recall: 0.75, F1-score: 0.78, ROC AUC: 0.87\n"
     ]
    },
    {
     "name": "stderr",
     "output_type": "stream",
     "text": [
      " 83%|████████▎ | 25/30 [00:40<00:08,  1.69s/it]"
     ]
    },
    {
     "name": "stdout",
     "output_type": "stream",
     "text": [
      "Repetição 25 - Acurácia: 0.98, Precisão: 0.84, Recall: 0.72, F1-score: 0.78, ROC AUC: 0.86\n"
     ]
    },
    {
     "name": "stderr",
     "output_type": "stream",
     "text": [
      " 87%|████████▋ | 26/30 [00:42<00:06,  1.61s/it]"
     ]
    },
    {
     "name": "stdout",
     "output_type": "stream",
     "text": [
      "Repetição 26 - Acurácia: 0.98, Precisão: 0.80, Recall: 0.74, F1-score: 0.77, ROC AUC: 0.87\n"
     ]
    },
    {
     "name": "stderr",
     "output_type": "stream",
     "text": [
      " 90%|█████████ | 27/30 [00:43<00:04,  1.56s/it]"
     ]
    },
    {
     "name": "stdout",
     "output_type": "stream",
     "text": [
      "Repetição 27 - Acurácia: 0.98, Precisão: 0.80, Recall: 0.74, F1-score: 0.77, ROC AUC: 0.87\n"
     ]
    },
    {
     "name": "stderr",
     "output_type": "stream",
     "text": [
      " 93%|█████████▎| 28/30 [00:45<00:03,  1.57s/it]"
     ]
    },
    {
     "name": "stdout",
     "output_type": "stream",
     "text": [
      "Repetição 28 - Acurácia: 0.98, Precisão: 0.82, Recall: 0.73, F1-score: 0.77, ROC AUC: 0.86\n"
     ]
    },
    {
     "name": "stderr",
     "output_type": "stream",
     "text": [
      " 97%|█████████▋| 29/30 [00:46<00:01,  1.55s/it]"
     ]
    },
    {
     "name": "stdout",
     "output_type": "stream",
     "text": [
      "Repetição 29 - Acurácia: 0.98, Precisão: 0.80, Recall: 0.73, F1-score: 0.76, ROC AUC: 0.86\n"
     ]
    },
    {
     "name": "stderr",
     "output_type": "stream",
     "text": [
      "100%|██████████| 30/30 [00:48<00:00,  1.62s/it]"
     ]
    },
    {
     "name": "stdout",
     "output_type": "stream",
     "text": [
      "Repetição 30 - Acurácia: 0.98, Precisão: 0.80, Recall: 0.75, F1-score: 0.77, ROC AUC: 0.87\n",
      "Média das Acurácias: 0.98119 ± 0.00075\n",
      "Média das Precisões: 0.81119 ± 0.01283\n",
      "Média dos Recalls: 0.73471 ± 0.01448\n",
      "Média dos F1-scores: 0.77093 ± 0.00948\n",
      "Média dos ROC AUC: 0.86350 ± 0.00715\n"
     ]
    },
    {
     "name": "stderr",
     "output_type": "stream",
     "text": [
      "\n"
     ]
    }
   ],
   "source": [
    "num_repeticoes = 30\n",
    "\n",
    "# Listas para armazenar as métricas\n",
    "acuracias = []\n",
    "precisoes = []\n",
    "recalls = []\n",
    "f1_scores = []\n",
    "roc_auc_scores = []\n",
    "\n",
    "# Loop para repetir o processo\n",
    "for i in tqdm(range(num_repeticoes)):\n",
    "\n",
    "    x_train, x_test, y_train, y_test = train_test_split(x_all, y_all, test_size=0.2, stratify=y_all)\n",
    "    \n",
    "    #inicializar o modelo KNN\n",
    "    modelo_knn = KNeighborsClassifier(n_neighbors=7)  # Escolha o número de vizinhos desejado\n",
    "\n",
    "    # Treinar o modelo no conjunto de treino\n",
    "    modelo_knn.fit(np.array(x_train), y_train)\n",
    "\n",
    "    # Fazer previsões no conjunto de teste\n",
    "    previsoes = modelo_knn.predict(np.array(x_test))\n",
    "\n",
    "    # Avaliar as métricas do modelo e armazenar na lista\n",
    "    acuracia = accuracy_score(y_test, previsoes)\n",
    "    precisao = precision_score(y_test, previsoes)\n",
    "    recall = recall_score(y_test, previsoes)\n",
    "    f1 = f1_score(y_test, previsoes)\n",
    "    roc_auc = roc_auc_score(y_test, previsoes)\n",
    "    \n",
    "    acuracias.append(acuracia)\n",
    "    precisoes.append(precisao)\n",
    "    recalls.append(recall)\n",
    "    f1_scores.append(f1)\n",
    "    roc_auc_scores.append(roc_auc)\n",
    "\n",
    "    print(f'Repetição {i+1} - Acurácia: {acuracia:.2f}, Precisão: {precisao:.2f}, Recall: {recall:.2f}, F1-score: {f1:.2f}, ROC AUC: {roc_auc:.2f}')\n",
    "\n",
    "# Calcular as médias das métricas\n",
    "media_acuracias = np.mean(acuracias)\n",
    "media_precisoes = np.mean(precisoes)\n",
    "media_recalls = np.mean(recalls)\n",
    "media_f1_scores = np.mean(f1_scores)\n",
    "media_roc_auc_scores = np.mean(roc_auc_scores)\n",
    "\n",
    "# Calcular os desvios padrão das métricas\n",
    "dp_acuracias = np.std(acuracias)\n",
    "dp_precisoes = np.std(precisoes)\n",
    "dp_recalls = np.std(recalls)\n",
    "dp_f1_scores = np.std(f1_scores)\n",
    "dp_roc_auc_scores = np.std(roc_auc_scores)\n",
    "\n",
    "# Adicionar as médias e desvios padrão às listas de métricas\n",
    "Acurracy.append(media_acuracias)\n",
    "Precision.append(media_precisoes)\n",
    "Recall.append(media_recalls)\n",
    "F1_score.append(media_f1_scores)\n",
    "Roc_auc.append(media_roc_auc_scores)\n",
    "\n",
    "AcurracyDP.append(dp_acuracias)\n",
    "PrecisionDP.append(dp_precisoes)\n",
    "RecallDP.append(dp_recalls)\n",
    "F1_scoreDP.append(dp_f1_scores)\n",
    "Roc_aucDP.append(dp_roc_auc_scores)\n",
    "\n",
    "print(f'Média das Acurácias: {media_acuracias:.5f} ± {dp_acuracias:.5f}')\n",
    "print(f'Média das Precisões: {media_precisoes:.5f} ± {dp_precisoes:.5f}')\n",
    "print(f'Média dos Recalls: {media_recalls:.5f} ± {dp_recalls:.5f}')\n",
    "print(f'Média dos F1-scores: {media_f1_scores:.5f} ± {dp_f1_scores:.5f}')\n",
    "print(f'Média dos ROC AUC: {media_roc_auc_scores:.5f} ± {dp_roc_auc_scores:.5f}')"
   ]
  },
  {
   "cell_type": "markdown",
   "metadata": {},
   "source": [
    "#### Resultados"
   ]
  },
  {
   "cell_type": "code",
   "execution_count": 16,
   "metadata": {},
   "outputs": [
    {
     "data": {
      "text/html": [
       "<style type=\"text/css\">\n",
       "#T_7e3d3_row0_col0, #T_7e3d3_row0_col2, #T_7e3d3_row1_col0, #T_7e3d3_row1_col1, #T_7e3d3_row1_col2, #T_7e3d3_row1_col3, #T_7e3d3_row1_col4, #T_7e3d3_row1_col5, #T_7e3d3_row2_col0, #T_7e3d3_row2_col1, #T_7e3d3_row2_col3, #T_7e3d3_row2_col4, #T_7e3d3_row2_col5, #T_7e3d3_row3_col0, #T_7e3d3_row3_col1, #T_7e3d3_row3_col2, #T_7e3d3_row3_col3, #T_7e3d3_row3_col4, #T_7e3d3_row3_col5 {\n",
       "  color: white;\n",
       "}\n",
       "#T_7e3d3_row0_col1, #T_7e3d3_row0_col3, #T_7e3d3_row0_col4, #T_7e3d3_row0_col5, #T_7e3d3_row2_col2 {\n",
       "  background-color: green;\n",
       "  color: white;\n",
       "}\n",
       "</style>\n",
       "<table id=\"T_7e3d3\">\n",
       "  <thead>\n",
       "    <tr>\n",
       "      <th class=\"blank level0\" >&nbsp;</th>\n",
       "      <th id=\"T_7e3d3_level0_col0\" class=\"col_heading level0 col0\" >Modelos</th>\n",
       "      <th id=\"T_7e3d3_level0_col1\" class=\"col_heading level0 col1\" >Acuracia (DREBIN)</th>\n",
       "      <th id=\"T_7e3d3_level0_col2\" class=\"col_heading level0 col2\" >Precisão (DREBIN)</th>\n",
       "      <th id=\"T_7e3d3_level0_col3\" class=\"col_heading level0 col3\" >Recall (DREBIN)</th>\n",
       "      <th id=\"T_7e3d3_level0_col4\" class=\"col_heading level0 col4\" >F1 Score</th>\n",
       "      <th id=\"T_7e3d3_level0_col5\" class=\"col_heading level0 col5\" >AUC RoC</th>\n",
       "    </tr>\n",
       "  </thead>\n",
       "  <tbody>\n",
       "    <tr>\n",
       "      <th id=\"T_7e3d3_level0_row0\" class=\"row_heading level0 row0\" >0</th>\n",
       "      <td id=\"T_7e3d3_row0_col0\" class=\"data row0 col0\" >Decision Tree</td>\n",
       "      <td id=\"T_7e3d3_row0_col1\" class=\"data row0 col1\" >0.9817 ± 0.0007</td>\n",
       "      <td id=\"T_7e3d3_row0_col2\" class=\"data row0 col2\" >0.7712 ± 0.0105</td>\n",
       "      <td id=\"T_7e3d3_row0_col3\" class=\"data row0 col3\" >0.8194 ± 0.0120</td>\n",
       "      <td id=\"T_7e3d3_row0_col4\" class=\"data row0 col4\" >0.7945 ± 0.0077</td>\n",
       "      <td id=\"T_7e3d3_row0_col5\" class=\"data row0 col5\" >0.9042 ± 0.0059</td>\n",
       "    </tr>\n",
       "    <tr>\n",
       "      <th id=\"T_7e3d3_level0_row1\" class=\"row_heading level0 row1\" >1</th>\n",
       "      <td id=\"T_7e3d3_row1_col0\" class=\"data row1 col0\" >Naive Bayes</td>\n",
       "      <td id=\"T_7e3d3_row1_col1\" class=\"data row1 col1\" >0.9163 ± 0.0030</td>\n",
       "      <td id=\"T_7e3d3_row1_col2\" class=\"data row1 col2\" >0.2501 ± 0.0098</td>\n",
       "      <td id=\"T_7e3d3_row1_col3\" class=\"data row1 col3\" >0.4704 ± 0.0149</td>\n",
       "      <td id=\"T_7e3d3_row1_col4\" class=\"data row1 col4\" >0.3264 ± 0.0097</td>\n",
       "      <td id=\"T_7e3d3_row1_col5\" class=\"data row1 col5\" >0.7034 ± 0.0070</td>\n",
       "    </tr>\n",
       "    <tr>\n",
       "      <th id=\"T_7e3d3_level0_row2\" class=\"row_heading level0 row2\" >2</th>\n",
       "      <td id=\"T_7e3d3_row2_col0\" class=\"data row2 col0\" >MLP</td>\n",
       "      <td id=\"T_7e3d3_row2_col1\" class=\"data row2 col1\" >0.9769 ± 0.0009</td>\n",
       "      <td id=\"T_7e3d3_row2_col2\" class=\"data row2 col2\" >0.8171 ± 0.0407</td>\n",
       "      <td id=\"T_7e3d3_row2_col3\" class=\"data row2 col3\" >0.6031 ± 0.0410</td>\n",
       "      <td id=\"T_7e3d3_row2_col4\" class=\"data row2 col4\" >0.6918 ± 0.0158</td>\n",
       "      <td id=\"T_7e3d3_row2_col5\" class=\"data row2 col5\" >0.7984 ± 0.0195</td>\n",
       "    </tr>\n",
       "    <tr>\n",
       "      <th id=\"T_7e3d3_level0_row3\" class=\"row_heading level0 row3\" >3</th>\n",
       "      <td id=\"T_7e3d3_row3_col0\" class=\"data row3 col0\" >KNN</td>\n",
       "      <td id=\"T_7e3d3_row3_col1\" class=\"data row3 col1\" >0.9812 ± 0.0007</td>\n",
       "      <td id=\"T_7e3d3_row3_col2\" class=\"data row3 col2\" >0.8112 ± 0.0128</td>\n",
       "      <td id=\"T_7e3d3_row3_col3\" class=\"data row3 col3\" >0.7347 ± 0.0145</td>\n",
       "      <td id=\"T_7e3d3_row3_col4\" class=\"data row3 col4\" >0.7709 ± 0.0095</td>\n",
       "      <td id=\"T_7e3d3_row3_col5\" class=\"data row3 col5\" >0.8635 ± 0.0071</td>\n",
       "    </tr>\n",
       "  </tbody>\n",
       "</table>\n"
      ],
      "text/plain": [
       "<pandas.io.formats.style.Styler at 0x1f516d6f550>"
      ]
     },
     "execution_count": 16,
     "metadata": {},
     "output_type": "execute_result"
    }
   ],
   "source": [
    "import pandas as pd\n",
    "\n",
    "# Definir os modelos\n",
    "Modelos = ['Decision Tree', 'Naive Bayes', 'MLP', 'KNN']\n",
    "\n",
    "# Criar um DataFrame do Pandas com os valores das variáveis\n",
    "df = pd.DataFrame({\n",
    "    'Modelos': Modelos,\n",
    "    'Acuracia (DREBIN)': [f\"{media:.4f} ± {dp:.4f}\" for media, dp in zip(Acurracy, AcurracyDP)],\n",
    "    'Precisão (DREBIN)': [f\"{media:.4f} ± {dp:.4f}\" for media, dp in zip(Precision, PrecisionDP)],\n",
    "    'Recall (DREBIN)': [f\"{media:.4f} ± {dp:.4f}\" for media, dp in zip(Recall, RecallDP)],\n",
    "    'F1 Score': [f\"{media:.4f} ± {dp:.4f}\" for media, dp in zip(F1_score, F1_scoreDP)],\n",
    "    'AUC RoC': [f\"{media:.4f} ± {dp:.4f}\" for media, dp in zip(Roc_auc, Roc_aucDP)]\n",
    "})\n",
    "\n",
    "# Função para destacar o maior valor de cada coluna\n",
    "def highlight_max(s):\n",
    "    is_max = s == s.max()\n",
    "    return ['background-color: green' if v else '' for v in is_max]\n",
    "\n",
    "# Aplicar a função de destaque apenas para as colunas numéricas\n",
    "numeric_columns = df.columns[1:]\n",
    "styled_df = df.style.apply(highlight_max, subset=numeric_columns)\n",
    "\n",
    "# Definir a cor do texto para a tabela\n",
    "styled_df.set_properties(**{'color': 'white'}, subset=pd.IndexSlice[:, :])\n",
    "\n",
    "# Exibir o DataFrame estilizado no Jupyter Notebook\n",
    "styled_df\n"
   ]
  },
  {
   "cell_type": "markdown",
   "metadata": {},
   "source": [
    "### Bagging"
   ]
  },
  {
   "cell_type": "markdown",
   "metadata": {},
   "source": [
    "#### Decision Tree"
   ]
  },
  {
   "cell_type": "code",
   "execution_count": 17,
   "metadata": {},
   "outputs": [
    {
     "name": "stdout",
     "output_type": "stream",
     "text": [
      "Acurácia do modelo Bagging com Decision Tree: 0.9876758516451576\n",
      "Precisão do modelo Bagging com Decision Tree: 0.8993963782696177\n",
      "Recall do modelo Bagging com Decision Tree: 0.8039568345323741\n",
      "F1-score do modelo Bagging com Decision Tree: 0.8490028490028491\n",
      "AUC ROC do modelo Bagging com Decision Tree: 0.8999533879032614\n",
      "Matriz de confusão do modelo Bagging com Decision Tree:\n",
      "[[24591   100]\n",
      " [  218   894]]\n"
     ]
    }
   ],
   "source": [
    "# Definir o classificador Decision Tree\n",
    "modelo_arvore = DecisionTreeClassifier(criterion='gini')\n",
    "\n",
    "# Definir o classificador de Bagging com Decision Tree como base\n",
    "bagging_clf = BaggingClassifier(estimator = modelo_arvore, n_estimators=30)\n",
    "\n",
    "# Treinar o modelo Bagging\n",
    "bagging_clf.fit(x_train, y_train)\n",
    "\n",
    "# Prever usando o modelo Bagging\n",
    "y_pred = bagging_clf.predict(x_test)\n",
    "\n",
    "# Avaliar a precisão do modelo\n",
    "accuracy_bagging = accuracy_score(y_test, y_pred)\n",
    "precision_bagging = precision_score(y_test, y_pred)\n",
    "recall_bagging = recall_score(y_test, y_pred)\n",
    "f1_score_bagging = f1_score(y_test, y_pred)\n",
    "auc_roc_bagging = roc_auc_score(y_test, y_pred)\n",
    "\n",
    "\n",
    "print(\"Acurácia do modelo Bagging com Decision Tree:\", accuracy_bagging)\n",
    "print(\"Precisão do modelo Bagging com Decision Tree:\", precision_bagging)\n",
    "print(\"Recall do modelo Bagging com Decision Tree:\", recall_bagging)\n",
    "print(\"F1-score do modelo Bagging com Decision Tree:\", f1_score_bagging)\n",
    "print(\"AUC ROC do modelo Bagging com Decision Tree:\", auc_roc_bagging)\n",
    "\n",
    "# Matriz de confusão\n",
    "conf_matrix_bagging = confusion_matrix(y_test, y_pred)\n",
    "print(\"Matriz de confusão do modelo Bagging com Decision Tree:\")\n",
    "print(conf_matrix_bagging)\n",
    "\n",
    "# Adicione a acurácia à lista de acurácias do Bagging\n",
    "AcurracyBagging.append(accuracy_bagging)\n",
    "PrecisionBagging.append(precision_bagging)\n",
    "RecallBagging.append(recall_bagging)\n",
    "F1Bagging.append(f1_score_bagging)\n",
    "Roc_aucBagging.append(auc_roc_bagging)\n",
    "\n"
   ]
  },
  {
   "cell_type": "markdown",
   "metadata": {},
   "source": [
    "#### Naive Bayes"
   ]
  },
  {
   "cell_type": "code",
   "execution_count": 18,
   "metadata": {},
   "outputs": [
    {
     "name": "stdout",
     "output_type": "stream",
     "text": [
      "Acurácia do modelo Bagging com Naive Bayes: 0.9178002557842111\n",
      "Precisão do modelo Bagging com Naive Bayes: 0.24862979571499752\n",
      "Recall do modelo Bagging com Naive Bayes: 0.4487410071942446\n",
      "F1-score do modelo Bagging com Naive Bayes: 0.3199743507534466\n",
      "AUC ROC do modelo Bagging com Naive Bayes: 0.6938330608042018\n",
      "Matriz de confusão do modelo Bagging com Naive Bayes:\n",
      "[[23183  1508]\n",
      " [  613   499]]\n"
     ]
    }
   ],
   "source": [
    "# Inicializar o modelo de Naive Bayes com distribuição de Bernoulli\n",
    "modelo_naive_bayes = GaussianNB()\n",
    "\n",
    "# Definir o classificador de Bagging com Naive Bayes como base\n",
    "bagging_clf = BaggingClassifier(estimator=modelo_naive_bayes, n_estimators=30)\n",
    "\n",
    "# Treinar o modelo Bagging\n",
    "bagging_clf.fit(x_train, y_train)\n",
    "\n",
    "# Prever usando o modelo Bagging\n",
    "y_pred = bagging_clf.predict(x_test)\n",
    "\n",
    "# Avaliar a precisão do modelo\n",
    "accuracy_bagging = accuracy_score(y_test, y_pred)\n",
    "precision_bagging = precision_score(y_test, y_pred)\n",
    "recall_bagging = recall_score(y_test, y_pred)\n",
    "f1_score_bagging = f1_score(y_test, y_pred)\n",
    "auc_roc_bagging = roc_auc_score(y_test, y_pred)\n",
    "\n",
    "\n",
    "print(\"Acurácia do modelo Bagging com Naive Bayes:\", accuracy_bagging)\n",
    "print(\"Precisão do modelo Bagging com Naive Bayes:\", precision_bagging)\n",
    "print(\"Recall do modelo Bagging com Naive Bayes:\", recall_bagging)\n",
    "print(\"F1-score do modelo Bagging com Naive Bayes:\", f1_score_bagging)\n",
    "print(\"AUC ROC do modelo Bagging com Naive Bayes:\", auc_roc_bagging)\n",
    "\n",
    "# Matriz de confusão\n",
    "conf_matrix_bagging = confusion_matrix(y_test, y_pred)\n",
    "print(\"Matriz de confusão do modelo Bagging com Naive Bayes:\")\n",
    "print(conf_matrix_bagging)\n",
    "\n",
    "# Adicione a acurácia à lista de acurácias do Bagging\n",
    "AcurracyBagging.append(accuracy_bagging)\n",
    "PrecisionBagging.append(precision_bagging)\n",
    "RecallBagging.append(recall_bagging)\n",
    "F1Bagging.append(f1_score_bagging)\n",
    "Roc_aucBagging.append(auc_roc_bagging)"
   ]
  },
  {
   "cell_type": "markdown",
   "metadata": {},
   "source": [
    "#### MLP"
   ]
  },
  {
   "cell_type": "code",
   "execution_count": 19,
   "metadata": {},
   "outputs": [
    {
     "name": "stdout",
     "output_type": "stream",
     "text": [
      "Acurácia do modelo Bagging com MLP: 0.9770181761810642\n",
      "Precisão do modelo Bagging com MLP: 0.8280657395701644\n",
      "Recall do modelo Bagging com MLP: 0.5890287769784173\n",
      "F1-score do modelo Bagging com MLP: 0.6883867577509196\n",
      "AUC ROC do modelo Bagging com MLP: 0.7917603485556296\n",
      "Matriz de confusão do modelo Bagging com MLP:\n",
      "[[24555   136]\n",
      " [  457   655]]\n"
     ]
    }
   ],
   "source": [
    "# Definir o classificador base (MLP)\n",
    "modelo_mlp = MLPClassifier(hidden_layer_sizes=(100), max_iter=1000)\n",
    "\n",
    "# Definir o classificador de Bagging com MLP como base\n",
    "bagging_clf = BaggingClassifier(estimator=modelo_mlp, n_estimators=30)\n",
    "\n",
    "# Treinar o modelo Bagging\n",
    "bagging_clf.fit(x_train, y_train)\n",
    "\n",
    "# Prever usando o modelo Bagging\n",
    "y_pred = bagging_clf.predict(x_test)\n",
    "\n",
    "# Avaliar a precisão do modelo\n",
    "accuracy_bagging = accuracy_score(y_test, y_pred)\n",
    "precision_bagging = precision_score(y_test, y_pred)\n",
    "recall_bagging = recall_score(y_test, y_pred)\n",
    "f1_score_bagging = f1_score(y_test, y_pred)\n",
    "auc_roc_bagging = roc_auc_score(y_test, y_pred)\n",
    "\n",
    "\n",
    "print(\"Acurácia do modelo Bagging com MLP:\", accuracy_bagging)\n",
    "print(\"Precisão do modelo Bagging com MLP:\", precision_bagging)\n",
    "print(\"Recall do modelo Bagging com MLP:\", recall_bagging)\n",
    "print(\"F1-score do modelo Bagging com MLP:\", f1_score_bagging)\n",
    "print(\"AUC ROC do modelo Bagging com MLP:\", auc_roc_bagging)\n",
    "\n",
    "# Matriz de confusão\n",
    "conf_matrix_bagging = confusion_matrix(y_test, y_pred)\n",
    "print(\"Matriz de confusão do modelo Bagging com MLP:\")\n",
    "print(conf_matrix_bagging)\n",
    "\n",
    "# Adicione a acurácia à lista de acurácias do Bagging\n",
    "AcurracyBagging.append(accuracy_bagging)\n",
    "PrecisionBagging.append(precision_bagging)\n",
    "RecallBagging.append(recall_bagging)\n",
    "F1Bagging.append(f1_score_bagging)\n",
    "Roc_aucBagging.append(auc_roc_bagging)"
   ]
  },
  {
   "cell_type": "markdown",
   "metadata": {},
   "source": [
    "#### KNN"
   ]
  },
  {
   "cell_type": "code",
   "execution_count": 20,
   "metadata": {},
   "outputs": [
    {
     "name": "stdout",
     "output_type": "stream",
     "text": [
      "Acurácia do modelo Bagging com KNN: 0.9815912878347479\n",
      "Precisão do modelo Bagging com KNN: 0.8188188188188188\n",
      "Recall do modelo Bagging com KNN: 0.7356115107913669\n",
      "F1-score do modelo Bagging com KNN: 0.7749881572714353\n",
      "AUC ROC do modelo Bagging com KNN: 0.864140452248788\n",
      "Matriz de confusão do modelo Bagging com KNN:\n",
      "[[24510   181]\n",
      " [  294   818]]\n"
     ]
    }
   ],
   "source": [
    "#inicializar o modelo KNN\n",
    "modelo_knn = KNeighborsClassifier(n_neighbors=7)  # Escolha o número de vizinhos desejado\n",
    "\n",
    "# Definir o classificador de Bagging com KNN como base\n",
    "bagging_clf = BaggingClassifier(estimator=modelo_knn, n_estimators=30)\n",
    "\n",
    "# Treinar o modelo Bagging\n",
    "bagging_clf.fit(x_train, y_train)\n",
    "\n",
    "# Prever usando o modelo Bagging\n",
    "y_pred = bagging_clf.predict(x_test)\n",
    "\n",
    "# Avaliar a precisão do modelo\n",
    "accuracy_bagging = accuracy_score(y_test, y_pred)\n",
    "precision_bagging = precision_score(y_test, y_pred)\n",
    "recall_bagging = recall_score(y_test, y_pred)\n",
    "f1_score_bagging = f1_score(y_test, y_pred)\n",
    "auc_roc_bagging = roc_auc_score(y_test, y_pred)\n",
    "\n",
    "\n",
    "print(\"Acurácia do modelo Bagging com KNN:\", accuracy_bagging)\n",
    "print(\"Precisão do modelo Bagging com KNN:\", precision_bagging)\n",
    "print(\"Recall do modelo Bagging com KNN:\", recall_bagging)\n",
    "print(\"F1-score do modelo Bagging com KNN:\", f1_score_bagging)\n",
    "print(\"AUC ROC do modelo Bagging com KNN:\", auc_roc_bagging)\n",
    "\n",
    "# Matriz de confusão\n",
    "conf_matrix_bagging = confusion_matrix(y_test, y_pred)\n",
    "print(\"Matriz de confusão do modelo Bagging com KNN:\")\n",
    "print(conf_matrix_bagging)\n",
    "\n",
    "# Adicione a acurácia à lista de acurácias do Bagging\n",
    "AcurracyBagging.append(accuracy_bagging)\n",
    "PrecisionBagging.append(precision_bagging)\n",
    "RecallBagging.append(recall_bagging)\n",
    "F1Bagging.append(f1_score_bagging)\n",
    "Roc_aucBagging.append(auc_roc_bagging)"
   ]
  },
  {
   "cell_type": "markdown",
   "metadata": {},
   "source": [
    "#### Resultados"
   ]
  },
  {
   "cell_type": "code",
   "execution_count": 21,
   "metadata": {},
   "outputs": [
    {
     "name": "stdout",
     "output_type": "stream",
     "text": [
      "╒════╤═══════════════════╤═════════════════════╤═════════════════════╤═══════════════════╤════════════╤═══════════╕\n",
      "│    │ Modelos Bagging   │   Acuracia (DREBIN) │   Precisão (DREBIN) │   Recall (DREBIN) │   F1 Score │   AUC ROC │\n",
      "╞════╪═══════════════════╪═════════════════════╪═════════════════════╪═══════════════════╪════════════╪═══════════╡\n",
      "│  0 │ Decision Tree     │              0.9877 │              0.8994 │            0.8040 │     0.8490 │    0.9000 │\n",
      "├────┼───────────────────┼─────────────────────┼─────────────────────┼───────────────────┼────────────┼───────────┤\n",
      "│  1 │ Naive Bayes       │              0.9178 │              0.2486 │            0.4487 │     0.3200 │    0.6938 │\n",
      "├────┼───────────────────┼─────────────────────┼─────────────────────┼───────────────────┼────────────┼───────────┤\n",
      "│  2 │ MLP               │              0.9770 │              0.8281 │            0.5890 │     0.6884 │    0.7918 │\n",
      "├────┼───────────────────┼─────────────────────┼─────────────────────┼───────────────────┼────────────┼───────────┤\n",
      "│  3 │ KNN               │              0.9816 │              0.8188 │            0.7356 │     0.7750 │    0.8641 │\n",
      "╘════╧═══════════════════╧═════════════════════╧═════════════════════╧═══════════════════╧════════════╧═══════════╛\n"
     ]
    }
   ],
   "source": [
    "Modelos = ['Decision Tree', 'Naive Bayes', 'MLP', 'KNN']\n",
    "# Criar um DataFrame do Pandas com os valores das variáveis\n",
    "dfB = pd.DataFrame({'Modelos Bagging': Modelos, 'Acuracia (DREBIN)': AcurracyBagging,\n",
    "                    'Precisão (DREBIN)': PrecisionBagging, 'Recall (DREBIN)':RecallBagging, \n",
    "                    'F1 Score': F1Bagging, 'AUC ROC': Roc_aucBagging})\n",
    "\n",
    "print(tabulate(dfB, headers='keys', tablefmt='fancy_grid', floatfmt=\".4f\"))"
   ]
  },
  {
   "cell_type": "markdown",
   "metadata": {},
   "source": [
    "### Balanceamento de dados"
   ]
  },
  {
   "cell_type": "code",
   "execution_count": 22,
   "metadata": {},
   "outputs": [
    {
     "name": "stdout",
     "output_type": "stream",
     "text": [
      "(197524, 8) (197524,)\n",
      "(49382, 8) (49382,)\n"
     ]
    }
   ],
   "source": [
    "smote = SMOTE(sampling_strategy='auto', random_state=42)\n",
    "X_resampled, y_resampled = smote.fit_resample(x_all, y_all)\n",
    "\n",
    "x_train, x_test, y_train, y_test = train_test_split(X_resampled, y_resampled, test_size=0.2, stratify=y_resampled)\n",
    "print(x_train.shape, y_train.shape)\n",
    "print(x_test.shape, y_test.shape)"
   ]
  },
  {
   "cell_type": "code",
   "execution_count": 23,
   "metadata": {},
   "outputs": [
    {
     "name": "stdout",
     "output_type": "stream",
     "text": [
      "Proporção das classes no conjunto original:\n",
      "Classe 0: 0.96\n",
      "Classe 1: 0.04\n",
      "Proporção das classes no conjunto resampleado:\n",
      "Classe 0: 0.50\n",
      "Classe 1: 0.50\n"
     ]
    }
   ],
   "source": [
    "# Calcular proporção das classes em y_all\n",
    "unique_classes, class_counts = np.unique(y_all, return_counts=True)\n",
    "proporcao_classes_resampled = class_counts / len(y_all)\n",
    "\n",
    "print(\"Proporção das classes no conjunto original:\")\n",
    "for classe, proporcao in zip(unique_classes, proporcao_classes_resampled):\n",
    "    print(f\"Classe {classe}: {proporcao:.2f}\")\n",
    "\n",
    "# Calcular proporção das classes em y_resampled\n",
    "unique_classes, class_counts = np.unique(y_resampled, return_counts=True)\n",
    "proporcao_classes_resampled = class_counts / len(y_resampled)\n",
    "\n",
    "print(\"Proporção das classes no conjunto resampleado:\")\n",
    "for classe, proporcao in zip(unique_classes, proporcao_classes_resampled):\n",
    "    print(f\"Classe {classe}: {proporcao:.2f}\")"
   ]
  },
  {
   "cell_type": "markdown",
   "metadata": {},
   "source": [
    "### Modelos Base após o Balanceamento"
   ]
  },
  {
   "cell_type": "markdown",
   "metadata": {},
   "source": [
    "#### Decision Tree"
   ]
  },
  {
   "cell_type": "code",
   "execution_count": 24,
   "metadata": {},
   "outputs": [
    {
     "name": "stderr",
     "output_type": "stream",
     "text": [
      "  3%|▎         | 1/30 [00:00<00:15,  1.89it/s]"
     ]
    },
    {
     "name": "stdout",
     "output_type": "stream",
     "text": [
      "Repetição 1 - Acurácia: 0.98, Precisão: 0.97, Recall: 0.99, F1-score: 0.98, ROC AUC: 0.98\n"
     ]
    },
    {
     "name": "stderr",
     "output_type": "stream",
     "text": [
      "  7%|▋         | 2/30 [00:01<00:14,  1.90it/s]"
     ]
    },
    {
     "name": "stdout",
     "output_type": "stream",
     "text": [
      "Repetição 2 - Acurácia: 0.98, Precisão: 0.98, Recall: 0.99, F1-score: 0.98, ROC AUC: 0.98\n"
     ]
    },
    {
     "name": "stderr",
     "output_type": "stream",
     "text": [
      " 10%|█         | 3/30 [00:01<00:14,  1.90it/s]"
     ]
    },
    {
     "name": "stdout",
     "output_type": "stream",
     "text": [
      "Repetição 3 - Acurácia: 0.98, Precisão: 0.97, Recall: 0.99, F1-score: 0.98, ROC AUC: 0.98\n"
     ]
    },
    {
     "name": "stderr",
     "output_type": "stream",
     "text": [
      " 13%|█▎        | 4/30 [00:02<00:13,  1.90it/s]"
     ]
    },
    {
     "name": "stdout",
     "output_type": "stream",
     "text": [
      "Repetição 4 - Acurácia: 0.98, Precisão: 0.97, Recall: 0.99, F1-score: 0.98, ROC AUC: 0.98\n"
     ]
    },
    {
     "name": "stderr",
     "output_type": "stream",
     "text": [
      " 17%|█▋        | 5/30 [00:02<00:13,  1.86it/s]"
     ]
    },
    {
     "name": "stdout",
     "output_type": "stream",
     "text": [
      "Repetição 5 - Acurácia: 0.98, Precisão: 0.97, Recall: 0.99, F1-score: 0.98, ROC AUC: 0.98\n"
     ]
    },
    {
     "name": "stderr",
     "output_type": "stream",
     "text": [
      " 20%|██        | 6/30 [00:03<00:12,  1.89it/s]"
     ]
    },
    {
     "name": "stdout",
     "output_type": "stream",
     "text": [
      "Repetição 6 - Acurácia: 0.98, Precisão: 0.97, Recall: 0.99, F1-score: 0.98, ROC AUC: 0.98\n"
     ]
    },
    {
     "name": "stderr",
     "output_type": "stream",
     "text": [
      " 23%|██▎       | 7/30 [00:03<00:12,  1.90it/s]"
     ]
    },
    {
     "name": "stdout",
     "output_type": "stream",
     "text": [
      "Repetição 7 - Acurácia: 0.98, Precisão: 0.97, Recall: 0.99, F1-score: 0.98, ROC AUC: 0.98\n"
     ]
    },
    {
     "name": "stderr",
     "output_type": "stream",
     "text": [
      " 27%|██▋       | 8/30 [00:04<00:11,  1.91it/s]"
     ]
    },
    {
     "name": "stdout",
     "output_type": "stream",
     "text": [
      "Repetição 8 - Acurácia: 0.98, Precisão: 0.98, Recall: 0.99, F1-score: 0.98, ROC AUC: 0.98\n"
     ]
    },
    {
     "name": "stderr",
     "output_type": "stream",
     "text": [
      " 30%|███       | 9/30 [00:04<00:11,  1.89it/s]"
     ]
    },
    {
     "name": "stdout",
     "output_type": "stream",
     "text": [
      "Repetição 9 - Acurácia: 0.98, Precisão: 0.97, Recall: 0.99, F1-score: 0.98, ROC AUC: 0.98\n"
     ]
    },
    {
     "name": "stderr",
     "output_type": "stream",
     "text": [
      " 33%|███▎      | 10/30 [00:05<00:10,  1.89it/s]"
     ]
    },
    {
     "name": "stdout",
     "output_type": "stream",
     "text": [
      "Repetição 10 - Acurácia: 0.98, Precisão: 0.97, Recall: 0.99, F1-score: 0.98, ROC AUC: 0.98\n"
     ]
    },
    {
     "name": "stderr",
     "output_type": "stream",
     "text": [
      " 37%|███▋      | 11/30 [00:05<00:10,  1.89it/s]"
     ]
    },
    {
     "name": "stdout",
     "output_type": "stream",
     "text": [
      "Repetição 11 - Acurácia: 0.98, Precisão: 0.98, Recall: 0.99, F1-score: 0.98, ROC AUC: 0.98\n"
     ]
    },
    {
     "name": "stderr",
     "output_type": "stream",
     "text": [
      " 40%|████      | 12/30 [00:06<00:09,  1.88it/s]"
     ]
    },
    {
     "name": "stdout",
     "output_type": "stream",
     "text": [
      "Repetição 12 - Acurácia: 0.98, Precisão: 0.97, Recall: 0.99, F1-score: 0.98, ROC AUC: 0.98\n"
     ]
    },
    {
     "name": "stderr",
     "output_type": "stream",
     "text": [
      " 43%|████▎     | 13/30 [00:06<00:09,  1.87it/s]"
     ]
    },
    {
     "name": "stdout",
     "output_type": "stream",
     "text": [
      "Repetição 13 - Acurácia: 0.98, Precisão: 0.97, Recall: 0.99, F1-score: 0.98, ROC AUC: 0.98\n"
     ]
    },
    {
     "name": "stderr",
     "output_type": "stream",
     "text": [
      " 47%|████▋     | 14/30 [00:07<00:08,  1.88it/s]"
     ]
    },
    {
     "name": "stdout",
     "output_type": "stream",
     "text": [
      "Repetição 14 - Acurácia: 0.98, Precisão: 0.97, Recall: 0.99, F1-score: 0.98, ROC AUC: 0.98\n"
     ]
    },
    {
     "name": "stderr",
     "output_type": "stream",
     "text": [
      " 50%|█████     | 15/30 [00:07<00:07,  1.88it/s]"
     ]
    },
    {
     "name": "stdout",
     "output_type": "stream",
     "text": [
      "Repetição 15 - Acurácia: 0.98, Precisão: 0.97, Recall: 0.99, F1-score: 0.98, ROC AUC: 0.98\n"
     ]
    },
    {
     "name": "stderr",
     "output_type": "stream",
     "text": [
      " 53%|█████▎    | 16/30 [00:08<00:07,  1.88it/s]"
     ]
    },
    {
     "name": "stdout",
     "output_type": "stream",
     "text": [
      "Repetição 16 - Acurácia: 0.98, Precisão: 0.97, Recall: 0.99, F1-score: 0.98, ROC AUC: 0.98\n"
     ]
    },
    {
     "name": "stderr",
     "output_type": "stream",
     "text": [
      " 57%|█████▋    | 17/30 [00:09<00:06,  1.88it/s]"
     ]
    },
    {
     "name": "stdout",
     "output_type": "stream",
     "text": [
      "Repetição 17 - Acurácia: 0.98, Precisão: 0.97, Recall: 0.99, F1-score: 0.98, ROC AUC: 0.98\n"
     ]
    },
    {
     "name": "stderr",
     "output_type": "stream",
     "text": [
      " 60%|██████    | 18/30 [00:09<00:06,  1.88it/s]"
     ]
    },
    {
     "name": "stdout",
     "output_type": "stream",
     "text": [
      "Repetição 18 - Acurácia: 0.98, Precisão: 0.98, Recall: 0.99, F1-score: 0.98, ROC AUC: 0.98\n"
     ]
    },
    {
     "name": "stderr",
     "output_type": "stream",
     "text": [
      " 63%|██████▎   | 19/30 [00:10<00:05,  1.88it/s]"
     ]
    },
    {
     "name": "stdout",
     "output_type": "stream",
     "text": [
      "Repetição 19 - Acurácia: 0.98, Precisão: 0.97, Recall: 0.99, F1-score: 0.98, ROC AUC: 0.98\n"
     ]
    },
    {
     "name": "stderr",
     "output_type": "stream",
     "text": [
      " 67%|██████▋   | 20/30 [00:10<00:05,  1.89it/s]"
     ]
    },
    {
     "name": "stdout",
     "output_type": "stream",
     "text": [
      "Repetição 20 - Acurácia: 0.98, Precisão: 0.97, Recall: 0.99, F1-score: 0.98, ROC AUC: 0.98\n"
     ]
    },
    {
     "name": "stderr",
     "output_type": "stream",
     "text": [
      " 70%|███████   | 21/30 [00:11<00:04,  1.90it/s]"
     ]
    },
    {
     "name": "stdout",
     "output_type": "stream",
     "text": [
      "Repetição 21 - Acurácia: 0.98, Precisão: 0.97, Recall: 0.99, F1-score: 0.98, ROC AUC: 0.98\n"
     ]
    },
    {
     "name": "stderr",
     "output_type": "stream",
     "text": [
      " 73%|███████▎  | 22/30 [00:11<00:04,  1.90it/s]"
     ]
    },
    {
     "name": "stdout",
     "output_type": "stream",
     "text": [
      "Repetição 22 - Acurácia: 0.98, Precisão: 0.97, Recall: 0.99, F1-score: 0.98, ROC AUC: 0.98\n"
     ]
    },
    {
     "name": "stderr",
     "output_type": "stream",
     "text": [
      " 77%|███████▋  | 23/30 [00:12<00:03,  1.91it/s]"
     ]
    },
    {
     "name": "stdout",
     "output_type": "stream",
     "text": [
      "Repetição 23 - Acurácia: 0.98, Precisão: 0.97, Recall: 0.99, F1-score: 0.98, ROC AUC: 0.98\n"
     ]
    },
    {
     "name": "stderr",
     "output_type": "stream",
     "text": [
      " 80%|████████  | 24/30 [00:12<00:03,  1.91it/s]"
     ]
    },
    {
     "name": "stdout",
     "output_type": "stream",
     "text": [
      "Repetição 24 - Acurácia: 0.98, Precisão: 0.97, Recall: 0.99, F1-score: 0.98, ROC AUC: 0.98\n"
     ]
    },
    {
     "name": "stderr",
     "output_type": "stream",
     "text": [
      " 83%|████████▎ | 25/30 [00:13<00:02,  1.91it/s]"
     ]
    },
    {
     "name": "stdout",
     "output_type": "stream",
     "text": [
      "Repetição 25 - Acurácia: 0.98, Precisão: 0.97, Recall: 0.99, F1-score: 0.98, ROC AUC: 0.98\n"
     ]
    },
    {
     "name": "stderr",
     "output_type": "stream",
     "text": [
      " 87%|████████▋ | 26/30 [00:13<00:02,  1.91it/s]"
     ]
    },
    {
     "name": "stdout",
     "output_type": "stream",
     "text": [
      "Repetição 26 - Acurácia: 0.98, Precisão: 0.97, Recall: 0.99, F1-score: 0.98, ROC AUC: 0.98\n"
     ]
    },
    {
     "name": "stderr",
     "output_type": "stream",
     "text": [
      " 90%|█████████ | 27/30 [00:14<00:01,  1.90it/s]"
     ]
    },
    {
     "name": "stdout",
     "output_type": "stream",
     "text": [
      "Repetição 27 - Acurácia: 0.98, Precisão: 0.97, Recall: 0.99, F1-score: 0.98, ROC AUC: 0.98\n"
     ]
    },
    {
     "name": "stderr",
     "output_type": "stream",
     "text": [
      " 93%|█████████▎| 28/30 [00:14<00:01,  1.89it/s]"
     ]
    },
    {
     "name": "stdout",
     "output_type": "stream",
     "text": [
      "Repetição 28 - Acurácia: 0.98, Precisão: 0.98, Recall: 0.99, F1-score: 0.98, ROC AUC: 0.98\n"
     ]
    },
    {
     "name": "stderr",
     "output_type": "stream",
     "text": [
      " 97%|█████████▋| 29/30 [00:15<00:00,  1.90it/s]"
     ]
    },
    {
     "name": "stdout",
     "output_type": "stream",
     "text": [
      "Repetição 29 - Acurácia: 0.98, Precisão: 0.97, Recall: 0.99, F1-score: 0.98, ROC AUC: 0.98\n"
     ]
    },
    {
     "name": "stderr",
     "output_type": "stream",
     "text": [
      "100%|██████████| 30/30 [00:15<00:00,  1.89it/s]"
     ]
    },
    {
     "name": "stdout",
     "output_type": "stream",
     "text": [
      "Repetição 30 - Acurácia: 0.98, Precisão: 0.97, Recall: 0.99, F1-score: 0.98, ROC AUC: 0.98\n",
      "Média das Acurácias: 0.98104 ± 0.00065\n",
      "Média das Precisões: 0.97373 ± 0.00115\n",
      "Média dos Recalls: 0.98875 ± 0.00083\n",
      "Média dos F1-scores: 0.98118 ± 0.00064\n",
      "Média dos ROC AUC: 0.98104 ± 0.00065\n"
     ]
    },
    {
     "name": "stderr",
     "output_type": "stream",
     "text": [
      "\n"
     ]
    }
   ],
   "source": [
    "num_repeticoes = 30\n",
    "\n",
    "# Listas para armazenar as métricas\n",
    "acuracias = []\n",
    "precisoes = []\n",
    "recalls = []\n",
    "f1_scores = []\n",
    "roc_auc_scores = []\n",
    "\n",
    "# Loop para repetir o processo\n",
    "for i in tqdm(range(num_repeticoes)):\n",
    "    x_train, x_test, y_train, y_test = train_test_split(X_resampled, y_resampled, test_size=0.2, stratify=y_resampled)\n",
    "    # Inicializar o modelo de árvore de decisão com Gini Impurity e sem limitação de altura\n",
    "    modelo_arvore = DecisionTreeClassifier(criterion='gini')\n",
    "\n",
    "    # Treinar o modelo no conjunto de treino\n",
    "    modelo_arvore.fit(x_train, y_train)\n",
    "\n",
    "    # Fazer previsões no conjunto de teste\n",
    "    previsoes = modelo_arvore.predict(x_test)\n",
    "\n",
    "    # Avaliar as métricas do modelo e armazenar na lista\n",
    "    acuracia = accuracy_score(y_test, previsoes)\n",
    "    precisao = precision_score(y_test, previsoes)\n",
    "    recall = recall_score(y_test, previsoes)\n",
    "    f1 = f1_score(y_test, previsoes)\n",
    "    roc_auc = roc_auc_score(y_test, previsoes)\n",
    "    \n",
    "    acuracias.append(acuracia)\n",
    "    precisoes.append(precisao)\n",
    "    recalls.append(recall)\n",
    "    f1_scores.append(f1)\n",
    "    roc_auc_scores.append(roc_auc)\n",
    "\n",
    "    print(f'Repetição {i+1} - Acurácia: {acuracia:.2f}, Precisão: {precisao:.2f}, Recall: {recall:.2f}, F1-score: {f1:.2f}, ROC AUC: {roc_auc:.2f}')\n",
    "\n",
    "# Calcular as médias das métricas\n",
    "media_acuracias = np.mean(acuracias)\n",
    "media_precisoes = np.mean(precisoes)\n",
    "media_recalls = np.mean(recalls)\n",
    "media_f1_scores = np.mean(f1_scores)\n",
    "media_roc_auc_scores = np.mean(roc_auc_scores)\n",
    "\n",
    "# Calcular os desvios padrão das métricas\n",
    "dp_acuracias = np.std(acuracias)\n",
    "dp_precisoes = np.std(precisoes)\n",
    "dp_recalls = np.std(recalls)\n",
    "dp_f1_scores = np.std(f1_scores)\n",
    "dp_roc_auc_scores = np.std(roc_auc_scores)\n",
    "\n",
    "# Adicionar as médias e desvios padrão às listas de métricas\n",
    "AcurracyPosBal.append(media_acuracias)\n",
    "PrecisionPosBal.append(media_precisoes)\n",
    "RecallPosBal.append(media_recalls)\n",
    "F1_scorePosBal.append(media_f1_scores)\n",
    "Roc_aucPosBal.append(media_roc_auc_scores)\n",
    "\n",
    "AcurracyDPPosBal.append(dp_acuracias)\n",
    "PrecisionDPPosBal.append(dp_precisoes)\n",
    "RecallDPPosBal.append(dp_recalls)\n",
    "F1_scoreDPPosBal.append(dp_f1_scores)\n",
    "Roc_aucDPPosBal.append(dp_roc_auc_scores)\n",
    "\n",
    "print(f'Média das Acurácias: {media_acuracias:.5f} ± {dp_acuracias:.5f}')\n",
    "print(f'Média das Precisões: {media_precisoes:.5f} ± {dp_precisoes:.5f}')\n",
    "print(f'Média dos Recalls: {media_recalls:.5f} ± {dp_recalls:.5f}')\n",
    "print(f'Média dos F1-scores: {media_f1_scores:.5f} ± {dp_f1_scores:.5f}')\n",
    "print(f'Média dos ROC AUC: {media_roc_auc_scores:.5f} ± {dp_roc_auc_scores:.5f}')"
   ]
  },
  {
   "cell_type": "markdown",
   "metadata": {},
   "source": [
    "#### Naive Bayes"
   ]
  },
  {
   "cell_type": "code",
   "execution_count": 25,
   "metadata": {},
   "outputs": [
    {
     "name": "stderr",
     "output_type": "stream",
     "text": [
      "  3%|▎         | 1/30 [00:00<00:04,  6.53it/s]"
     ]
    },
    {
     "name": "stdout",
     "output_type": "stream",
     "text": [
      "Repetição 1 - Acurácia: 0.73, Precisão: 0.73, Recall: 0.74, F1-score: 0.73, ROC AUC: 0.73\n"
     ]
    },
    {
     "name": "stderr",
     "output_type": "stream",
     "text": [
      "  7%|▋         | 2/30 [00:00<00:03,  7.06it/s]"
     ]
    },
    {
     "name": "stdout",
     "output_type": "stream",
     "text": [
      "Repetição 2 - Acurácia: 0.73, Precisão: 0.73, Recall: 0.74, F1-score: 0.73, ROC AUC: 0.73\n"
     ]
    },
    {
     "name": "stderr",
     "output_type": "stream",
     "text": [
      " 10%|█         | 3/30 [00:00<00:03,  7.27it/s]"
     ]
    },
    {
     "name": "stdout",
     "output_type": "stream",
     "text": [
      "Repetição 3 - Acurácia: 0.74, Precisão: 0.73, Recall: 0.74, F1-score: 0.74, ROC AUC: 0.74\n"
     ]
    },
    {
     "name": "stderr",
     "output_type": "stream",
     "text": [
      " 13%|█▎        | 4/30 [00:00<00:03,  7.16it/s]"
     ]
    },
    {
     "name": "stdout",
     "output_type": "stream",
     "text": [
      "Repetição 4 - Acurácia: 0.73, Precisão: 0.73, Recall: 0.74, F1-score: 0.73, ROC AUC: 0.73\n"
     ]
    },
    {
     "name": "stderr",
     "output_type": "stream",
     "text": [
      " 17%|█▋        | 5/30 [00:00<00:03,  7.31it/s]"
     ]
    },
    {
     "name": "stdout",
     "output_type": "stream",
     "text": [
      "Repetição 5 - Acurácia: 0.73, Precisão: 0.73, Recall: 0.74, F1-score: 0.74, ROC AUC: 0.73\n"
     ]
    },
    {
     "name": "stderr",
     "output_type": "stream",
     "text": [
      " 20%|██        | 6/30 [00:00<00:03,  7.41it/s]"
     ]
    },
    {
     "name": "stdout",
     "output_type": "stream",
     "text": [
      "Repetição 6 - Acurácia: 0.73, Precisão: 0.72, Recall: 0.75, F1-score: 0.74, ROC AUC: 0.73\n"
     ]
    },
    {
     "name": "stderr",
     "output_type": "stream",
     "text": [
      " 23%|██▎       | 7/30 [00:00<00:03,  7.43it/s]"
     ]
    },
    {
     "name": "stdout",
     "output_type": "stream",
     "text": [
      "Repetição 7 - Acurácia: 0.73, Precisão: 0.73, Recall: 0.74, F1-score: 0.73, ROC AUC: 0.73\n"
     ]
    },
    {
     "name": "stderr",
     "output_type": "stream",
     "text": [
      " 27%|██▋       | 8/30 [00:01<00:02,  7.45it/s]"
     ]
    },
    {
     "name": "stdout",
     "output_type": "stream",
     "text": [
      "Repetição 8 - Acurácia: 0.73, Precisão: 0.72, Recall: 0.74, F1-score: 0.73, ROC AUC: 0.73\n"
     ]
    },
    {
     "name": "stderr",
     "output_type": "stream",
     "text": [
      " 30%|███       | 9/30 [00:01<00:02,  7.52it/s]"
     ]
    },
    {
     "name": "stdout",
     "output_type": "stream",
     "text": [
      "Repetição 9 - Acurácia: 0.73, Precisão: 0.72, Recall: 0.74, F1-score: 0.73, ROC AUC: 0.73\n"
     ]
    },
    {
     "name": "stderr",
     "output_type": "stream",
     "text": [
      " 33%|███▎      | 10/30 [00:01<00:02,  7.49it/s]"
     ]
    },
    {
     "name": "stdout",
     "output_type": "stream",
     "text": [
      "Repetição 10 - Acurácia: 0.73, Precisão: 0.73, Recall: 0.75, F1-score: 0.74, ROC AUC: 0.73\n"
     ]
    },
    {
     "name": "stderr",
     "output_type": "stream",
     "text": [
      " 37%|███▋      | 11/30 [00:01<00:02,  7.56it/s]"
     ]
    },
    {
     "name": "stdout",
     "output_type": "stream",
     "text": [
      "Repetição 11 - Acurácia: 0.73, Precisão: 0.73, Recall: 0.74, F1-score: 0.74, ROC AUC: 0.73\n"
     ]
    },
    {
     "name": "stderr",
     "output_type": "stream",
     "text": [
      " 40%|████      | 12/30 [00:01<00:02,  7.55it/s]"
     ]
    },
    {
     "name": "stdout",
     "output_type": "stream",
     "text": [
      "Repetição 12 - Acurácia: 0.74, Precisão: 0.73, Recall: 0.76, F1-score: 0.74, ROC AUC: 0.74\n"
     ]
    },
    {
     "name": "stderr",
     "output_type": "stream",
     "text": [
      " 43%|████▎     | 13/30 [00:01<00:02,  7.55it/s]"
     ]
    },
    {
     "name": "stdout",
     "output_type": "stream",
     "text": [
      "Repetição 13 - Acurácia: 0.73, Precisão: 0.72, Recall: 0.74, F1-score: 0.73, ROC AUC: 0.73\n"
     ]
    },
    {
     "name": "stderr",
     "output_type": "stream",
     "text": [
      " 47%|████▋     | 14/30 [00:01<00:02,  7.51it/s]"
     ]
    },
    {
     "name": "stdout",
     "output_type": "stream",
     "text": [
      "Repetição 14 - Acurácia: 0.72, Precisão: 0.73, Recall: 0.71, F1-score: 0.72, ROC AUC: 0.72\n"
     ]
    },
    {
     "name": "stderr",
     "output_type": "stream",
     "text": [
      " 50%|█████     | 15/30 [00:02<00:01,  7.56it/s]"
     ]
    },
    {
     "name": "stdout",
     "output_type": "stream",
     "text": [
      "Repetição 15 - Acurácia: 0.73, Precisão: 0.72, Recall: 0.75, F1-score: 0.74, ROC AUC: 0.73\n"
     ]
    },
    {
     "name": "stderr",
     "output_type": "stream",
     "text": [
      " 53%|█████▎    | 16/30 [00:02<00:01,  7.49it/s]"
     ]
    },
    {
     "name": "stdout",
     "output_type": "stream",
     "text": [
      "Repetição 16 - Acurácia: 0.73, Precisão: 0.72, Recall: 0.74, F1-score: 0.73, ROC AUC: 0.73\n"
     ]
    },
    {
     "name": "stderr",
     "output_type": "stream",
     "text": [
      " 57%|█████▋    | 17/30 [00:02<00:01,  7.49it/s]"
     ]
    },
    {
     "name": "stdout",
     "output_type": "stream",
     "text": [
      "Repetição 17 - Acurácia: 0.73, Precisão: 0.72, Recall: 0.75, F1-score: 0.73, ROC AUC: 0.73\n"
     ]
    },
    {
     "name": "stderr",
     "output_type": "stream",
     "text": [
      " 60%|██████    | 18/30 [00:02<00:01,  7.52it/s]"
     ]
    },
    {
     "name": "stdout",
     "output_type": "stream",
     "text": [
      "Repetição 18 - Acurácia: 0.74, Precisão: 0.73, Recall: 0.74, F1-score: 0.74, ROC AUC: 0.74\n"
     ]
    },
    {
     "name": "stderr",
     "output_type": "stream",
     "text": [
      " 63%|██████▎   | 19/30 [00:02<00:01,  7.55it/s]"
     ]
    },
    {
     "name": "stdout",
     "output_type": "stream",
     "text": [
      "Repetição 19 - Acurácia: 0.73, Precisão: 0.72, Recall: 0.74, F1-score: 0.73, ROC AUC: 0.73\n"
     ]
    },
    {
     "name": "stderr",
     "output_type": "stream",
     "text": [
      " 67%|██████▋   | 20/30 [00:02<00:01,  7.55it/s]"
     ]
    },
    {
     "name": "stdout",
     "output_type": "stream",
     "text": [
      "Repetição 20 - Acurácia: 0.73, Precisão: 0.72, Recall: 0.75, F1-score: 0.73, ROC AUC: 0.73\n"
     ]
    },
    {
     "name": "stderr",
     "output_type": "stream",
     "text": [
      " 70%|███████   | 21/30 [00:02<00:01,  7.55it/s]"
     ]
    },
    {
     "name": "stdout",
     "output_type": "stream",
     "text": [
      "Repetição 21 - Acurácia: 0.72, Precisão: 0.73, Recall: 0.70, F1-score: 0.71, ROC AUC: 0.72\n"
     ]
    },
    {
     "name": "stderr",
     "output_type": "stream",
     "text": [
      " 73%|███████▎  | 22/30 [00:02<00:01,  7.54it/s]"
     ]
    },
    {
     "name": "stdout",
     "output_type": "stream",
     "text": [
      "Repetição 22 - Acurácia: 0.73, Precisão: 0.72, Recall: 0.75, F1-score: 0.73, ROC AUC: 0.73\n"
     ]
    },
    {
     "name": "stderr",
     "output_type": "stream",
     "text": [
      " 77%|███████▋  | 23/30 [00:03<00:00,  7.58it/s]"
     ]
    },
    {
     "name": "stdout",
     "output_type": "stream",
     "text": [
      "Repetição 23 - Acurácia: 0.73, Precisão: 0.73, Recall: 0.75, F1-score: 0.74, ROC AUC: 0.73\n"
     ]
    },
    {
     "name": "stderr",
     "output_type": "stream",
     "text": [
      " 80%|████████  | 24/30 [00:03<00:00,  7.58it/s]"
     ]
    },
    {
     "name": "stdout",
     "output_type": "stream",
     "text": [
      "Repetição 24 - Acurácia: 0.73, Precisão: 0.72, Recall: 0.74, F1-score: 0.73, ROC AUC: 0.73\n"
     ]
    },
    {
     "name": "stderr",
     "output_type": "stream",
     "text": [
      " 83%|████████▎ | 25/30 [00:03<00:00,  7.53it/s]"
     ]
    },
    {
     "name": "stdout",
     "output_type": "stream",
     "text": [
      "Repetição 25 - Acurácia: 0.73, Precisão: 0.72, Recall: 0.75, F1-score: 0.73, ROC AUC: 0.73\n"
     ]
    },
    {
     "name": "stderr",
     "output_type": "stream",
     "text": [
      " 87%|████████▋ | 26/30 [00:03<00:00,  7.45it/s]"
     ]
    },
    {
     "name": "stdout",
     "output_type": "stream",
     "text": [
      "Repetição 26 - Acurácia: 0.73, Precisão: 0.72, Recall: 0.75, F1-score: 0.73, ROC AUC: 0.73\n"
     ]
    },
    {
     "name": "stderr",
     "output_type": "stream",
     "text": [
      " 90%|█████████ | 27/30 [00:03<00:00,  7.38it/s]"
     ]
    },
    {
     "name": "stdout",
     "output_type": "stream",
     "text": [
      "Repetição 27 - Acurácia: 0.72, Precisão: 0.73, Recall: 0.69, F1-score: 0.71, ROC AUC: 0.72\n"
     ]
    },
    {
     "name": "stderr",
     "output_type": "stream",
     "text": [
      " 93%|█████████▎| 28/30 [00:03<00:00,  7.34it/s]"
     ]
    },
    {
     "name": "stdout",
     "output_type": "stream",
     "text": [
      "Repetição 28 - Acurácia: 0.73, Precisão: 0.72, Recall: 0.74, F1-score: 0.73, ROC AUC: 0.73\n"
     ]
    },
    {
     "name": "stderr",
     "output_type": "stream",
     "text": [
      " 97%|█████████▋| 29/30 [00:03<00:00,  7.38it/s]"
     ]
    },
    {
     "name": "stdout",
     "output_type": "stream",
     "text": [
      "Repetição 29 - Acurácia: 0.74, Precisão: 0.74, Recall: 0.74, F1-score: 0.74, ROC AUC: 0.74\n"
     ]
    },
    {
     "name": "stderr",
     "output_type": "stream",
     "text": [
      "100%|██████████| 30/30 [00:04<00:00,  7.43it/s]"
     ]
    },
    {
     "name": "stdout",
     "output_type": "stream",
     "text": [
      "Repetição 30 - Acurácia: 0.73, Precisão: 0.73, Recall: 0.74, F1-score: 0.73, ROC AUC: 0.73\n",
      "Média das Acurácias: 0.72989 ± 0.00460\n",
      "Média das Precisões: 0.72553 ± 0.00473\n",
      "Média dos Recalls: 0.73969 ± 0.01407\n",
      "Média dos F1-scores: 0.73245 ± 0.00672\n",
      "Média dos ROC AUC: 0.72989 ± 0.00460\n"
     ]
    },
    {
     "name": "stderr",
     "output_type": "stream",
     "text": [
      "\n"
     ]
    }
   ],
   "source": [
    "num_repeticoes = 30\n",
    "\n",
    "# Listas para armazenar as métricas\n",
    "acuracias = []\n",
    "precisoes = []\n",
    "recalls = []\n",
    "f1_scores = []\n",
    "roc_auc_scores = []\n",
    "\n",
    "# Loop para repetir o processo\n",
    "for i in tqdm(range(num_repeticoes)):\n",
    "\n",
    "    x_train, x_test, y_train, y_test = train_test_split(X_resampled, y_resampled, test_size=0.2, stratify=y_resampled)\n",
    "    \n",
    "    #Inicializar o modelo de Naive Bayes com distribuição de Bernoulli\n",
    "    modelo_naive_bayes = GaussianNB()\n",
    "\n",
    "    # Treinar o modelo no conjunto de treino\n",
    "    modelo_naive_bayes.fit(x_train, y_train)\n",
    "\n",
    "    # Fazer previsões no conjunto de teste\n",
    "    previsoes = modelo_naive_bayes.predict(x_test)\n",
    "\n",
    "    # Avaliar as métricas do modelo e armazenar na lista\n",
    "    acuracia = accuracy_score(y_test, previsoes)\n",
    "    precisao = precision_score(y_test, previsoes)\n",
    "    recall = recall_score(y_test, previsoes)\n",
    "    f1 = f1_score(y_test, previsoes)\n",
    "    roc_auc = roc_auc_score(y_test, previsoes)\n",
    "    \n",
    "    acuracias.append(acuracia)\n",
    "    precisoes.append(precisao)\n",
    "    recalls.append(recall)\n",
    "    f1_scores.append(f1)\n",
    "    roc_auc_scores.append(roc_auc)\n",
    "\n",
    "    print(f'Repetição {i+1} - Acurácia: {acuracia:.2f}, Precisão: {precisao:.2f}, Recall: {recall:.2f}, F1-score: {f1:.2f}, ROC AUC: {roc_auc:.2f}')\n",
    "\n",
    "# Calcular as médias das métricas\n",
    "media_acuracias = np.mean(acuracias)\n",
    "media_precisoes = np.mean(precisoes)\n",
    "media_recalls = np.mean(recalls)\n",
    "media_f1_scores = np.mean(f1_scores)\n",
    "media_roc_auc_scores = np.mean(roc_auc_scores)\n",
    "\n",
    "# Calcular os desvios padrão das métricas\n",
    "dp_acuracias = np.std(acuracias)\n",
    "dp_precisoes = np.std(precisoes)\n",
    "dp_recalls = np.std(recalls)\n",
    "dp_f1_scores = np.std(f1_scores)\n",
    "dp_roc_auc_scores = np.std(roc_auc_scores)\n",
    "\n",
    "# Adicionar as médias e desvios padrão às listas de métricas\n",
    "AcurracyPosBal.append(media_acuracias)\n",
    "PrecisionPosBal.append(media_precisoes)\n",
    "RecallPosBal.append(media_recalls)\n",
    "F1_scorePosBal.append(media_f1_scores)\n",
    "Roc_aucPosBal.append(media_roc_auc_scores)\n",
    "\n",
    "AcurracyDPPosBal.append(dp_acuracias)\n",
    "PrecisionDPPosBal.append(dp_precisoes)\n",
    "RecallDPPosBal.append(dp_recalls)\n",
    "F1_scoreDPPosBal.append(dp_f1_scores)\n",
    "Roc_aucDPPosBal.append(dp_roc_auc_scores)\n",
    "\n",
    "print(f'Média das Acurácias: {media_acuracias:.5f} ± {dp_acuracias:.5f}')\n",
    "print(f'Média das Precisões: {media_precisoes:.5f} ± {dp_precisoes:.5f}')\n",
    "print(f'Média dos Recalls: {media_recalls:.5f} ± {dp_recalls:.5f}')\n",
    "print(f'Média dos F1-scores: {media_f1_scores:.5f} ± {dp_f1_scores:.5f}')\n",
    "print(f'Média dos ROC AUC: {media_roc_auc_scores:.5f} ± {dp_roc_auc_scores:.5f}')"
   ]
  },
  {
   "cell_type": "markdown",
   "metadata": {},
   "source": [
    "#### MLP"
   ]
  },
  {
   "cell_type": "code",
   "execution_count": 26,
   "metadata": {},
   "outputs": [
    {
     "name": "stderr",
     "output_type": "stream",
     "text": [
      "  3%|▎         | 1/30 [01:43<49:47, 103.03s/it]"
     ]
    },
    {
     "name": "stdout",
     "output_type": "stream",
     "text": [
      "Repetição 1 - Acurácia: 0.93, Precisão: 0.92, Recall: 0.95, F1-score: 0.94, ROC AUC: 0.93\n"
     ]
    },
    {
     "name": "stderr",
     "output_type": "stream",
     "text": [
      "  7%|▋         | 2/30 [03:13<44:42, 95.81s/it] "
     ]
    },
    {
     "name": "stdout",
     "output_type": "stream",
     "text": [
      "Repetição 2 - Acurácia: 0.93, Precisão: 0.92, Recall: 0.95, F1-score: 0.94, ROC AUC: 0.93\n"
     ]
    },
    {
     "name": "stderr",
     "output_type": "stream",
     "text": [
      " 10%|█         | 3/30 [04:37<40:37, 90.27s/it]"
     ]
    },
    {
     "name": "stdout",
     "output_type": "stream",
     "text": [
      "Repetição 3 - Acurácia: 0.93, Precisão: 0.94, Recall: 0.92, F1-score: 0.93, ROC AUC: 0.93\n"
     ]
    },
    {
     "name": "stderr",
     "output_type": "stream",
     "text": [
      " 13%|█▎        | 4/30 [06:12<39:55, 92.12s/it]"
     ]
    },
    {
     "name": "stdout",
     "output_type": "stream",
     "text": [
      "Repetição 4 - Acurácia: 0.93, Precisão: 0.93, Recall: 0.93, F1-score: 0.93, ROC AUC: 0.93\n"
     ]
    },
    {
     "name": "stderr",
     "output_type": "stream",
     "text": [
      " 17%|█▋        | 5/30 [08:05<41:34, 99.79s/it]"
     ]
    },
    {
     "name": "stdout",
     "output_type": "stream",
     "text": [
      "Repetição 5 - Acurácia: 0.94, Precisão: 0.94, Recall: 0.93, F1-score: 0.94, ROC AUC: 0.94\n"
     ]
    },
    {
     "name": "stderr",
     "output_type": "stream",
     "text": [
      " 20%|██        | 6/30 [09:17<36:07, 90.33s/it]"
     ]
    },
    {
     "name": "stdout",
     "output_type": "stream",
     "text": [
      "Repetição 6 - Acurácia: 0.93, Precisão: 0.93, Recall: 0.93, F1-score: 0.93, ROC AUC: 0.93\n"
     ]
    },
    {
     "name": "stderr",
     "output_type": "stream",
     "text": [
      " 23%|██▎       | 7/30 [11:21<38:49, 101.30s/it]"
     ]
    },
    {
     "name": "stdout",
     "output_type": "stream",
     "text": [
      "Repetição 7 - Acurácia: 0.94, Precisão: 0.94, Recall: 0.94, F1-score: 0.94, ROC AUC: 0.94\n"
     ]
    },
    {
     "name": "stderr",
     "output_type": "stream",
     "text": [
      " 27%|██▋       | 8/30 [12:41<34:39, 94.54s/it] "
     ]
    },
    {
     "name": "stdout",
     "output_type": "stream",
     "text": [
      "Repetição 8 - Acurácia: 0.93, Precisão: 0.93, Recall: 0.93, F1-score: 0.93, ROC AUC: 0.93\n"
     ]
    },
    {
     "name": "stderr",
     "output_type": "stream",
     "text": [
      " 30%|███       | 9/30 [14:30<34:41, 99.11s/it]"
     ]
    },
    {
     "name": "stdout",
     "output_type": "stream",
     "text": [
      "Repetição 9 - Acurácia: 0.94, Precisão: 0.93, Recall: 0.94, F1-score: 0.94, ROC AUC: 0.94\n"
     ]
    },
    {
     "name": "stderr",
     "output_type": "stream",
     "text": [
      " 33%|███▎      | 10/30 [15:48<30:47, 92.36s/it]"
     ]
    },
    {
     "name": "stdout",
     "output_type": "stream",
     "text": [
      "Repetição 10 - Acurácia: 0.94, Precisão: 0.93, Recall: 0.95, F1-score: 0.94, ROC AUC: 0.94\n"
     ]
    },
    {
     "name": "stderr",
     "output_type": "stream",
     "text": [
      " 37%|███▋      | 11/30 [17:28<30:04, 94.95s/it]"
     ]
    },
    {
     "name": "stdout",
     "output_type": "stream",
     "text": [
      "Repetição 11 - Acurácia: 0.94, Precisão: 0.92, Recall: 0.95, F1-score: 0.94, ROC AUC: 0.94\n"
     ]
    },
    {
     "name": "stderr",
     "output_type": "stream",
     "text": [
      " 40%|████      | 12/30 [19:09<28:59, 96.64s/it]"
     ]
    },
    {
     "name": "stdout",
     "output_type": "stream",
     "text": [
      "Repetição 12 - Acurácia: 0.94, Precisão: 0.93, Recall: 0.95, F1-score: 0.94, ROC AUC: 0.94\n"
     ]
    },
    {
     "name": "stderr",
     "output_type": "stream",
     "text": [
      " 43%|████▎     | 13/30 [21:13<29:42, 104.86s/it]"
     ]
    },
    {
     "name": "stdout",
     "output_type": "stream",
     "text": [
      "Repetição 13 - Acurácia: 0.93, Precisão: 0.93, Recall: 0.94, F1-score: 0.93, ROC AUC: 0.93\n"
     ]
    },
    {
     "name": "stderr",
     "output_type": "stream",
     "text": [
      " 47%|████▋     | 14/30 [22:39<26:27, 99.25s/it] "
     ]
    },
    {
     "name": "stdout",
     "output_type": "stream",
     "text": [
      "Repetição 14 - Acurácia: 0.93, Precisão: 0.94, Recall: 0.93, F1-score: 0.93, ROC AUC: 0.93\n"
     ]
    },
    {
     "name": "stderr",
     "output_type": "stream",
     "text": [
      " 50%|█████     | 15/30 [24:52<27:22, 109.48s/it]"
     ]
    },
    {
     "name": "stdout",
     "output_type": "stream",
     "text": [
      "Repetição 15 - Acurácia: 0.94, Precisão: 0.94, Recall: 0.94, F1-score: 0.94, ROC AUC: 0.94\n"
     ]
    },
    {
     "name": "stderr",
     "output_type": "stream",
     "text": [
      " 53%|█████▎    | 16/30 [26:53<26:22, 113.01s/it]"
     ]
    },
    {
     "name": "stdout",
     "output_type": "stream",
     "text": [
      "Repetição 16 - Acurácia: 0.93, Precisão: 0.96, Recall: 0.90, F1-score: 0.93, ROC AUC: 0.93\n"
     ]
    },
    {
     "name": "stderr",
     "output_type": "stream",
     "text": [
      " 57%|█████▋    | 17/30 [28:42<24:10, 111.57s/it]"
     ]
    },
    {
     "name": "stdout",
     "output_type": "stream",
     "text": [
      "Repetição 17 - Acurácia: 0.94, Precisão: 0.94, Recall: 0.94, F1-score: 0.94, ROC AUC: 0.94\n"
     ]
    },
    {
     "name": "stderr",
     "output_type": "stream",
     "text": [
      " 60%|██████    | 18/30 [30:32<22:13, 111.09s/it]"
     ]
    },
    {
     "name": "stdout",
     "output_type": "stream",
     "text": [
      "Repetição 18 - Acurácia: 0.94, Precisão: 0.93, Recall: 0.95, F1-score: 0.94, ROC AUC: 0.94\n"
     ]
    },
    {
     "name": "stderr",
     "output_type": "stream",
     "text": [
      " 63%|██████▎   | 19/30 [32:04<19:19, 105.43s/it]"
     ]
    },
    {
     "name": "stdout",
     "output_type": "stream",
     "text": [
      "Repetição 19 - Acurácia: 0.93, Precisão: 0.93, Recall: 0.92, F1-score: 0.93, ROC AUC: 0.93\n"
     ]
    },
    {
     "name": "stderr",
     "output_type": "stream",
     "text": [
      " 67%|██████▋   | 20/30 [33:53<17:45, 106.56s/it]"
     ]
    },
    {
     "name": "stdout",
     "output_type": "stream",
     "text": [
      "Repetição 20 - Acurácia: 0.93, Precisão: 0.95, Recall: 0.91, F1-score: 0.93, ROC AUC: 0.93\n"
     ]
    },
    {
     "name": "stderr",
     "output_type": "stream",
     "text": [
      " 70%|███████   | 21/30 [35:17<14:58, 99.81s/it] "
     ]
    },
    {
     "name": "stdout",
     "output_type": "stream",
     "text": [
      "Repetição 21 - Acurácia: 0.94, Precisão: 0.92, Recall: 0.95, F1-score: 0.94, ROC AUC: 0.94\n"
     ]
    },
    {
     "name": "stderr",
     "output_type": "stream",
     "text": [
      " 73%|███████▎  | 22/30 [36:41<12:40, 95.05s/it]"
     ]
    },
    {
     "name": "stdout",
     "output_type": "stream",
     "text": [
      "Repetição 22 - Acurácia: 0.94, Precisão: 0.94, Recall: 0.93, F1-score: 0.94, ROC AUC: 0.94\n"
     ]
    },
    {
     "name": "stderr",
     "output_type": "stream",
     "text": [
      " 77%|███████▋  | 23/30 [38:07<10:46, 92.32s/it]"
     ]
    },
    {
     "name": "stdout",
     "output_type": "stream",
     "text": [
      "Repetição 23 - Acurácia: 0.94, Precisão: 0.92, Recall: 0.96, F1-score: 0.94, ROC AUC: 0.94\n"
     ]
    },
    {
     "name": "stderr",
     "output_type": "stream",
     "text": [
      " 80%|████████  | 24/30 [39:20<08:38, 86.46s/it]"
     ]
    },
    {
     "name": "stdout",
     "output_type": "stream",
     "text": [
      "Repetição 24 - Acurácia: 0.94, Precisão: 0.93, Recall: 0.94, F1-score: 0.94, ROC AUC: 0.94\n"
     ]
    },
    {
     "name": "stderr",
     "output_type": "stream",
     "text": [
      " 83%|████████▎ | 25/30 [40:55<07:24, 88.95s/it]"
     ]
    },
    {
     "name": "stdout",
     "output_type": "stream",
     "text": [
      "Repetição 25 - Acurácia: 0.94, Precisão: 0.94, Recall: 0.94, F1-score: 0.94, ROC AUC: 0.94\n"
     ]
    },
    {
     "name": "stderr",
     "output_type": "stream",
     "text": [
      " 87%|████████▋ | 26/30 [42:13<05:42, 85.70s/it]"
     ]
    },
    {
     "name": "stdout",
     "output_type": "stream",
     "text": [
      "Repetição 26 - Acurácia: 0.93, Precisão: 0.92, Recall: 0.94, F1-score: 0.93, ROC AUC: 0.93\n"
     ]
    },
    {
     "name": "stderr",
     "output_type": "stream",
     "text": [
      " 90%|█████████ | 27/30 [43:39<04:17, 85.80s/it]"
     ]
    },
    {
     "name": "stdout",
     "output_type": "stream",
     "text": [
      "Repetição 27 - Acurácia: 0.94, Precisão: 0.95, Recall: 0.92, F1-score: 0.93, ROC AUC: 0.94\n"
     ]
    },
    {
     "name": "stderr",
     "output_type": "stream",
     "text": [
      " 93%|█████████▎| 28/30 [45:09<02:54, 87.13s/it]"
     ]
    },
    {
     "name": "stdout",
     "output_type": "stream",
     "text": [
      "Repetição 28 - Acurácia: 0.94, Precisão: 0.93, Recall: 0.94, F1-score: 0.94, ROC AUC: 0.94\n"
     ]
    },
    {
     "name": "stderr",
     "output_type": "stream",
     "text": [
      " 97%|█████████▋| 29/30 [46:34<01:26, 86.61s/it]"
     ]
    },
    {
     "name": "stdout",
     "output_type": "stream",
     "text": [
      "Repetição 29 - Acurácia: 0.94, Precisão: 0.92, Recall: 0.95, F1-score: 0.94, ROC AUC: 0.94\n"
     ]
    },
    {
     "name": "stderr",
     "output_type": "stream",
     "text": [
      "100%|██████████| 30/30 [47:38<00:00, 95.29s/it]"
     ]
    },
    {
     "name": "stdout",
     "output_type": "stream",
     "text": [
      "Repetição 30 - Acurácia: 0.93, Precisão: 0.93, Recall: 0.94, F1-score: 0.93, ROC AUC: 0.93\n",
      "Média das Acurácias: 0.93477 ± 0.00278\n",
      "Média das Precisões: 0.93293 ± 0.00851\n",
      "Média dos Recalls: 0.93709 ± 0.01225\n",
      "Média dos F1-scores: 0.93490 ± 0.00317\n",
      "Média dos ROC AUC: 0.93477 ± 0.00278\n"
     ]
    },
    {
     "name": "stderr",
     "output_type": "stream",
     "text": [
      "\n"
     ]
    }
   ],
   "source": [
    "num_repeticoes = 30\n",
    "\n",
    "# Listas para armazenar as métricas\n",
    "acuracias = []\n",
    "precisoes = []\n",
    "recalls = []\n",
    "f1_scores = []\n",
    "roc_auc_scores = []\n",
    "\n",
    "# Loop para repetir o processo\n",
    "for i in tqdm(range(num_repeticoes)):\n",
    "\n",
    "    x_train, x_test, y_train, y_test = train_test_split(X_resampled, y_resampled, test_size=0.2, stratify=y_resampled)\n",
    "    \n",
    "    # Inicializar o modelo MLP\n",
    "    modelo_mlp = MLPClassifier(hidden_layer_sizes=(100), max_iter=1000)\n",
    "\n",
    "    # Treinar o modelo no conjunto de treino\n",
    "    modelo_mlp.fit(x_train, y_train)\n",
    "\n",
    "    # Fazer previsões no conjunto de teste\n",
    "    previsoes = modelo_mlp.predict(x_test)\n",
    "\n",
    "    # Avaliar as métricas do modelo e armazenar na lista\n",
    "    acuracia = accuracy_score(y_test, previsoes)\n",
    "    precisao = precision_score(y_test, previsoes)\n",
    "    recall = recall_score(y_test, previsoes)\n",
    "    f1 = f1_score(y_test, previsoes)\n",
    "    roc_auc = roc_auc_score(y_test, previsoes)\n",
    "    \n",
    "    acuracias.append(acuracia)\n",
    "    precisoes.append(precisao)\n",
    "    recalls.append(recall)\n",
    "    f1_scores.append(f1)\n",
    "    roc_auc_scores.append(roc_auc)\n",
    "\n",
    "    print(f'Repetição {i+1} - Acurácia: {acuracia:.2f}, Precisão: {precisao:.2f}, Recall: {recall:.2f}, F1-score: {f1:.2f}, ROC AUC: {roc_auc:.2f}')\n",
    "\n",
    "# Calcular as médias das métricas\n",
    "media_acuracias = np.mean(acuracias)\n",
    "media_precisoes = np.mean(precisoes)\n",
    "media_recalls = np.mean(recalls)\n",
    "media_f1_scores = np.mean(f1_scores)\n",
    "media_roc_auc_scores = np.mean(roc_auc_scores)\n",
    "\n",
    "# Calcular os desvios padrão das métricas\n",
    "dp_acuracias = np.std(acuracias)\n",
    "dp_precisoes = np.std(precisoes)\n",
    "dp_recalls = np.std(recalls)\n",
    "dp_f1_scores = np.std(f1_scores)\n",
    "dp_roc_auc_scores = np.std(roc_auc_scores)\n",
    "\n",
    "# Adicionar as médias e desvios padrão às listas de métricas\n",
    "AcurracyPosBal.append(media_acuracias)\n",
    "PrecisionPosBal.append(media_precisoes)\n",
    "RecallPosBal.append(media_recalls)\n",
    "F1_scorePosBal.append(media_f1_scores)\n",
    "Roc_aucPosBal.append(media_roc_auc_scores)\n",
    "\n",
    "AcurracyDPPosBal.append(dp_acuracias)\n",
    "PrecisionDPPosBal.append(dp_precisoes)\n",
    "RecallDPPosBal.append(dp_recalls)\n",
    "F1_scoreDPPosBal.append(dp_f1_scores)\n",
    "Roc_aucDPPosBal.append(dp_roc_auc_scores)\n",
    "\n",
    "print(f'Média das Acurácias: {media_acuracias:.5f} ± {dp_acuracias:.5f}')\n",
    "print(f'Média das Precisões: {media_precisoes:.5f} ± {dp_precisoes:.5f}')\n",
    "print(f'Média dos Recalls: {media_recalls:.5f} ± {dp_recalls:.5f}')\n",
    "print(f'Média dos F1-scores: {media_f1_scores:.5f} ± {dp_f1_scores:.5f}')\n",
    "print(f'Média dos ROC AUC: {media_roc_auc_scores:.5f} ± {dp_roc_auc_scores:.5f}')"
   ]
  },
  {
   "cell_type": "markdown",
   "metadata": {},
   "source": [
    "#### KNN"
   ]
  },
  {
   "cell_type": "code",
   "execution_count": 27,
   "metadata": {},
   "outputs": [
    {
     "name": "stderr",
     "output_type": "stream",
     "text": [
      "  3%|▎         | 1/30 [00:04<02:10,  4.51s/it]"
     ]
    },
    {
     "name": "stdout",
     "output_type": "stream",
     "text": [
      "Repetição 1 - Acurácia: 0.97, Precisão: 0.95, Recall: 0.99, F1-score: 0.97, ROC AUC: 0.97\n"
     ]
    },
    {
     "name": "stderr",
     "output_type": "stream",
     "text": [
      "  7%|▋         | 2/30 [00:08<02:05,  4.48s/it]"
     ]
    },
    {
     "name": "stdout",
     "output_type": "stream",
     "text": [
      "Repetição 2 - Acurácia: 0.97, Precisão: 0.95, Recall: 0.99, F1-score: 0.97, ROC AUC: 0.97\n"
     ]
    },
    {
     "name": "stderr",
     "output_type": "stream",
     "text": [
      " 10%|█         | 3/30 [00:12<01:55,  4.27s/it]"
     ]
    },
    {
     "name": "stdout",
     "output_type": "stream",
     "text": [
      "Repetição 3 - Acurácia: 0.97, Precisão: 0.95, Recall: 0.99, F1-score: 0.97, ROC AUC: 0.97\n"
     ]
    },
    {
     "name": "stderr",
     "output_type": "stream",
     "text": [
      " 13%|█▎        | 4/30 [00:17<01:48,  4.19s/it]"
     ]
    },
    {
     "name": "stdout",
     "output_type": "stream",
     "text": [
      "Repetição 4 - Acurácia: 0.97, Precisão: 0.95, Recall: 0.99, F1-score: 0.97, ROC AUC: 0.97\n"
     ]
    },
    {
     "name": "stderr",
     "output_type": "stream",
     "text": [
      " 17%|█▋        | 5/30 [00:21<01:43,  4.16s/it]"
     ]
    },
    {
     "name": "stdout",
     "output_type": "stream",
     "text": [
      "Repetição 5 - Acurácia: 0.97, Precisão: 0.95, Recall: 0.99, F1-score: 0.97, ROC AUC: 0.97\n"
     ]
    },
    {
     "name": "stderr",
     "output_type": "stream",
     "text": [
      " 20%|██        | 6/30 [00:24<01:35,  4.00s/it]"
     ]
    },
    {
     "name": "stdout",
     "output_type": "stream",
     "text": [
      "Repetição 6 - Acurácia: 0.97, Precisão: 0.95, Recall: 0.99, F1-score: 0.97, ROC AUC: 0.97\n"
     ]
    },
    {
     "name": "stderr",
     "output_type": "stream",
     "text": [
      " 23%|██▎       | 7/30 [00:28<01:30,  3.92s/it]"
     ]
    },
    {
     "name": "stdout",
     "output_type": "stream",
     "text": [
      "Repetição 7 - Acurácia: 0.97, Precisão: 0.95, Recall: 0.99, F1-score: 0.97, ROC AUC: 0.97\n"
     ]
    },
    {
     "name": "stderr",
     "output_type": "stream",
     "text": [
      " 27%|██▋       | 8/30 [00:32<01:25,  3.87s/it]"
     ]
    },
    {
     "name": "stdout",
     "output_type": "stream",
     "text": [
      "Repetição 8 - Acurácia: 0.97, Precisão: 0.95, Recall: 0.99, F1-score: 0.97, ROC AUC: 0.97\n"
     ]
    },
    {
     "name": "stderr",
     "output_type": "stream",
     "text": [
      " 30%|███       | 9/30 [00:36<01:20,  3.85s/it]"
     ]
    },
    {
     "name": "stdout",
     "output_type": "stream",
     "text": [
      "Repetição 9 - Acurácia: 0.97, Precisão: 0.95, Recall: 0.99, F1-score: 0.97, ROC AUC: 0.97\n"
     ]
    },
    {
     "name": "stderr",
     "output_type": "stream",
     "text": [
      " 33%|███▎      | 10/30 [00:39<01:16,  3.84s/it]"
     ]
    },
    {
     "name": "stdout",
     "output_type": "stream",
     "text": [
      "Repetição 10 - Acurácia: 0.97, Precisão: 0.95, Recall: 0.99, F1-score: 0.97, ROC AUC: 0.97\n"
     ]
    },
    {
     "name": "stderr",
     "output_type": "stream",
     "text": [
      " 37%|███▋      | 11/30 [00:43<01:12,  3.81s/it]"
     ]
    },
    {
     "name": "stdout",
     "output_type": "stream",
     "text": [
      "Repetição 11 - Acurácia: 0.97, Precisão: 0.95, Recall: 0.99, F1-score: 0.97, ROC AUC: 0.97\n"
     ]
    },
    {
     "name": "stderr",
     "output_type": "stream",
     "text": [
      " 40%|████      | 12/30 [00:47<01:08,  3.81s/it]"
     ]
    },
    {
     "name": "stdout",
     "output_type": "stream",
     "text": [
      "Repetição 12 - Acurácia: 0.97, Precisão: 0.95, Recall: 0.99, F1-score: 0.97, ROC AUC: 0.97\n"
     ]
    },
    {
     "name": "stderr",
     "output_type": "stream",
     "text": [
      " 43%|████▎     | 13/30 [00:51<01:04,  3.81s/it]"
     ]
    },
    {
     "name": "stdout",
     "output_type": "stream",
     "text": [
      "Repetição 13 - Acurácia: 0.97, Precisão: 0.95, Recall: 0.99, F1-score: 0.97, ROC AUC: 0.97\n"
     ]
    },
    {
     "name": "stderr",
     "output_type": "stream",
     "text": [
      " 47%|████▋     | 14/30 [00:55<01:00,  3.78s/it]"
     ]
    },
    {
     "name": "stdout",
     "output_type": "stream",
     "text": [
      "Repetição 14 - Acurácia: 0.97, Precisão: 0.95, Recall: 0.99, F1-score: 0.97, ROC AUC: 0.97\n"
     ]
    },
    {
     "name": "stderr",
     "output_type": "stream",
     "text": [
      " 50%|█████     | 15/30 [00:59<00:59,  3.97s/it]"
     ]
    },
    {
     "name": "stdout",
     "output_type": "stream",
     "text": [
      "Repetição 15 - Acurácia: 0.97, Precisão: 0.95, Recall: 0.99, F1-score: 0.97, ROC AUC: 0.97\n"
     ]
    },
    {
     "name": "stderr",
     "output_type": "stream",
     "text": [
      " 53%|█████▎    | 16/30 [01:03<00:57,  4.10s/it]"
     ]
    },
    {
     "name": "stdout",
     "output_type": "stream",
     "text": [
      "Repetição 16 - Acurácia: 0.97, Precisão: 0.95, Recall: 0.99, F1-score: 0.97, ROC AUC: 0.97\n"
     ]
    },
    {
     "name": "stderr",
     "output_type": "stream",
     "text": [
      " 57%|█████▋    | 17/30 [01:08<00:53,  4.12s/it]"
     ]
    },
    {
     "name": "stdout",
     "output_type": "stream",
     "text": [
      "Repetição 17 - Acurácia: 0.97, Precisão: 0.95, Recall: 0.99, F1-score: 0.97, ROC AUC: 0.97\n"
     ]
    },
    {
     "name": "stderr",
     "output_type": "stream",
     "text": [
      " 60%|██████    | 18/30 [01:12<00:49,  4.15s/it]"
     ]
    },
    {
     "name": "stdout",
     "output_type": "stream",
     "text": [
      "Repetição 18 - Acurácia: 0.97, Precisão: 0.95, Recall: 0.99, F1-score: 0.97, ROC AUC: 0.97\n"
     ]
    },
    {
     "name": "stderr",
     "output_type": "stream",
     "text": [
      " 63%|██████▎   | 19/30 [01:16<00:45,  4.18s/it]"
     ]
    },
    {
     "name": "stdout",
     "output_type": "stream",
     "text": [
      "Repetição 19 - Acurácia: 0.97, Precisão: 0.95, Recall: 0.99, F1-score: 0.97, ROC AUC: 0.97\n"
     ]
    },
    {
     "name": "stderr",
     "output_type": "stream",
     "text": [
      " 67%|██████▋   | 20/30 [01:20<00:41,  4.16s/it]"
     ]
    },
    {
     "name": "stdout",
     "output_type": "stream",
     "text": [
      "Repetição 20 - Acurácia: 0.97, Precisão: 0.95, Recall: 0.99, F1-score: 0.97, ROC AUC: 0.97\n"
     ]
    },
    {
     "name": "stderr",
     "output_type": "stream",
     "text": [
      " 70%|███████   | 21/30 [01:24<00:36,  4.11s/it]"
     ]
    },
    {
     "name": "stdout",
     "output_type": "stream",
     "text": [
      "Repetição 21 - Acurácia: 0.97, Precisão: 0.95, Recall: 0.99, F1-score: 0.97, ROC AUC: 0.97\n"
     ]
    },
    {
     "name": "stderr",
     "output_type": "stream",
     "text": [
      " 73%|███████▎  | 22/30 [01:28<00:32,  4.07s/it]"
     ]
    },
    {
     "name": "stdout",
     "output_type": "stream",
     "text": [
      "Repetição 22 - Acurácia: 0.97, Precisão: 0.95, Recall: 0.99, F1-score: 0.97, ROC AUC: 0.97\n"
     ]
    },
    {
     "name": "stderr",
     "output_type": "stream",
     "text": [
      " 77%|███████▋  | 23/30 [01:32<00:28,  4.04s/it]"
     ]
    },
    {
     "name": "stdout",
     "output_type": "stream",
     "text": [
      "Repetição 23 - Acurácia: 0.97, Precisão: 0.95, Recall: 0.99, F1-score: 0.97, ROC AUC: 0.97\n"
     ]
    },
    {
     "name": "stderr",
     "output_type": "stream",
     "text": [
      " 80%|████████  | 24/30 [01:36<00:23,  3.97s/it]"
     ]
    },
    {
     "name": "stdout",
     "output_type": "stream",
     "text": [
      "Repetição 24 - Acurácia: 0.97, Precisão: 0.95, Recall: 0.99, F1-score: 0.97, ROC AUC: 0.97\n"
     ]
    },
    {
     "name": "stderr",
     "output_type": "stream",
     "text": [
      " 83%|████████▎ | 25/30 [01:40<00:19,  3.91s/it]"
     ]
    },
    {
     "name": "stdout",
     "output_type": "stream",
     "text": [
      "Repetição 25 - Acurácia: 0.97, Precisão: 0.95, Recall: 0.99, F1-score: 0.97, ROC AUC: 0.97\n"
     ]
    },
    {
     "name": "stderr",
     "output_type": "stream",
     "text": [
      " 87%|████████▋ | 26/30 [01:44<00:15,  3.91s/it]"
     ]
    },
    {
     "name": "stdout",
     "output_type": "stream",
     "text": [
      "Repetição 26 - Acurácia: 0.97, Precisão: 0.95, Recall: 0.99, F1-score: 0.97, ROC AUC: 0.97\n"
     ]
    },
    {
     "name": "stderr",
     "output_type": "stream",
     "text": [
      " 90%|█████████ | 27/30 [01:48<00:11,  3.97s/it]"
     ]
    },
    {
     "name": "stdout",
     "output_type": "stream",
     "text": [
      "Repetição 27 - Acurácia: 0.97, Precisão: 0.95, Recall: 0.99, F1-score: 0.97, ROC AUC: 0.97\n"
     ]
    },
    {
     "name": "stderr",
     "output_type": "stream",
     "text": [
      " 93%|█████████▎| 28/30 [01:51<00:07,  3.91s/it]"
     ]
    },
    {
     "name": "stdout",
     "output_type": "stream",
     "text": [
      "Repetição 28 - Acurácia: 0.97, Precisão: 0.95, Recall: 0.99, F1-score: 0.97, ROC AUC: 0.97\n"
     ]
    },
    {
     "name": "stderr",
     "output_type": "stream",
     "text": [
      " 97%|█████████▋| 29/30 [01:55<00:03,  3.89s/it]"
     ]
    },
    {
     "name": "stdout",
     "output_type": "stream",
     "text": [
      "Repetição 29 - Acurácia: 0.97, Precisão: 0.95, Recall: 0.99, F1-score: 0.97, ROC AUC: 0.97\n"
     ]
    },
    {
     "name": "stderr",
     "output_type": "stream",
     "text": [
      "100%|██████████| 30/30 [01:59<00:00,  3.99s/it]"
     ]
    },
    {
     "name": "stdout",
     "output_type": "stream",
     "text": [
      "Repetição 30 - Acurácia: 0.97, Precisão: 0.95, Recall: 0.99, F1-score: 0.97, ROC AUC: 0.97\n",
      "Média das Acurácias: 0.97081 ± 0.00098\n",
      "Média das Precisões: 0.95170 ± 0.00165\n",
      "Média dos Recalls: 0.99197 ± 0.00137\n",
      "Média dos F1-scores: 0.97142 ± 0.00095\n",
      "Média dos ROC AUC: 0.97081 ± 0.00098\n"
     ]
    },
    {
     "name": "stderr",
     "output_type": "stream",
     "text": [
      "\n"
     ]
    }
   ],
   "source": [
    "num_repeticoes = 30\n",
    "\n",
    "# Listas para armazenar as métricas\n",
    "acuracias = []\n",
    "precisoes = []\n",
    "recalls = []\n",
    "f1_scores = []\n",
    "roc_auc_scores = []\n",
    "\n",
    "# Loop para repetir o processo\n",
    "for i in tqdm(range(num_repeticoes)):\n",
    "\n",
    "    x_train, x_test, y_train, y_test = train_test_split(X_resampled, y_resampled, test_size=0.2, stratify=y_resampled)\n",
    "    \n",
    "    #inicializar o modelo KNN\n",
    "    modelo_knn = KNeighborsClassifier(n_neighbors=7)  # Escolha o número de vizinhos desejado\n",
    "\n",
    "    # Treinar o modelo no conjunto de treino\n",
    "    modelo_knn.fit(np.array(x_train), y_train)\n",
    "\n",
    "    # Fazer previsões no conjunto de teste\n",
    "    previsoes = modelo_knn.predict(np.array(x_test))\n",
    "\n",
    "    # Avaliar as métricas do modelo e armazenar na lista\n",
    "    acuracia = accuracy_score(y_test, previsoes)\n",
    "    precisao = precision_score(y_test, previsoes)\n",
    "    recall = recall_score(y_test, previsoes)\n",
    "    f1 = f1_score(y_test, previsoes)\n",
    "    roc_auc = roc_auc_score(y_test, previsoes)\n",
    "    \n",
    "    acuracias.append(acuracia)\n",
    "    precisoes.append(precisao)\n",
    "    recalls.append(recall)\n",
    "    f1_scores.append(f1)\n",
    "    roc_auc_scores.append(roc_auc)\n",
    "\n",
    "    print(f'Repetição {i+1} - Acurácia: {acuracia:.2f}, Precisão: {precisao:.2f}, Recall: {recall:.2f}, F1-score: {f1:.2f}, ROC AUC: {roc_auc:.2f}')\n",
    "\n",
    "# Calcular as médias das métricas\n",
    "media_acuracias = np.mean(acuracias)\n",
    "media_precisoes = np.mean(precisoes)\n",
    "media_recalls = np.mean(recalls)\n",
    "media_f1_scores = np.mean(f1_scores)\n",
    "media_roc_auc_scores = np.mean(roc_auc_scores)\n",
    "\n",
    "# Calcular os desvios padrão das métricas\n",
    "dp_acuracias = np.std(acuracias)\n",
    "dp_precisoes = np.std(precisoes)\n",
    "dp_recalls = np.std(recalls)\n",
    "dp_f1_scores = np.std(f1_scores)\n",
    "dp_roc_auc_scores = np.std(roc_auc_scores)\n",
    "\n",
    "# Adicionar as médias e desvios padrão às listas de métricas\n",
    "AcurracyPosBal.append(media_acuracias)\n",
    "PrecisionPosBal.append(media_precisoes)\n",
    "RecallPosBal.append(media_recalls)\n",
    "F1_scorePosBal.append(media_f1_scores)\n",
    "Roc_aucPosBal.append(media_roc_auc_scores)\n",
    "\n",
    "AcurracyDPPosBal.append(dp_acuracias)\n",
    "PrecisionDPPosBal.append(dp_precisoes)\n",
    "RecallDPPosBal.append(dp_recalls)\n",
    "F1_scoreDPPosBal.append(dp_f1_scores)\n",
    "Roc_aucDPPosBal.append(dp_roc_auc_scores)\n",
    "\n",
    "print(f'Média das Acurácias: {media_acuracias:.5f} ± {dp_acuracias:.5f}')\n",
    "print(f'Média das Precisões: {media_precisoes:.5f} ± {dp_precisoes:.5f}')\n",
    "print(f'Média dos Recalls: {media_recalls:.5f} ± {dp_recalls:.5f}')\n",
    "print(f'Média dos F1-scores: {media_f1_scores:.5f} ± {dp_f1_scores:.5f}')\n",
    "print(f'Média dos ROC AUC: {media_roc_auc_scores:.5f} ± {dp_roc_auc_scores:.5f}')"
   ]
  },
  {
   "cell_type": "markdown",
   "metadata": {},
   "source": [
    "#### Resultados"
   ]
  },
  {
   "cell_type": "code",
   "execution_count": 28,
   "metadata": {},
   "outputs": [
    {
     "data": {
      "text/html": [
       "<style type=\"text/css\">\n",
       "#T_b6651_row0_col0, #T_b6651_row0_col3, #T_b6651_row1_col0, #T_b6651_row1_col1, #T_b6651_row1_col2, #T_b6651_row1_col3, #T_b6651_row1_col4, #T_b6651_row1_col5, #T_b6651_row2_col0, #T_b6651_row2_col1, #T_b6651_row2_col2, #T_b6651_row2_col3, #T_b6651_row2_col4, #T_b6651_row2_col5, #T_b6651_row3_col0, #T_b6651_row3_col1, #T_b6651_row3_col2, #T_b6651_row3_col4, #T_b6651_row3_col5 {\n",
       "  color: white;\n",
       "}\n",
       "#T_b6651_row0_col1, #T_b6651_row0_col2, #T_b6651_row0_col4, #T_b6651_row0_col5, #T_b6651_row3_col3 {\n",
       "  background-color: green;\n",
       "  color: white;\n",
       "}\n",
       "</style>\n",
       "<table id=\"T_b6651\">\n",
       "  <thead>\n",
       "    <tr>\n",
       "      <th class=\"blank level0\" >&nbsp;</th>\n",
       "      <th id=\"T_b6651_level0_col0\" class=\"col_heading level0 col0\" >Modelos</th>\n",
       "      <th id=\"T_b6651_level0_col1\" class=\"col_heading level0 col1\" >Acuracia (DREBIN)</th>\n",
       "      <th id=\"T_b6651_level0_col2\" class=\"col_heading level0 col2\" >Precisão (DREBIN)</th>\n",
       "      <th id=\"T_b6651_level0_col3\" class=\"col_heading level0 col3\" >Recall (DREBIN)</th>\n",
       "      <th id=\"T_b6651_level0_col4\" class=\"col_heading level0 col4\" >F1 Score</th>\n",
       "      <th id=\"T_b6651_level0_col5\" class=\"col_heading level0 col5\" >AUC RoC</th>\n",
       "    </tr>\n",
       "  </thead>\n",
       "  <tbody>\n",
       "    <tr>\n",
       "      <th id=\"T_b6651_level0_row0\" class=\"row_heading level0 row0\" >0</th>\n",
       "      <td id=\"T_b6651_row0_col0\" class=\"data row0 col0\" >Decision Tree</td>\n",
       "      <td id=\"T_b6651_row0_col1\" class=\"data row0 col1\" >0.9810 ± 0.0006</td>\n",
       "      <td id=\"T_b6651_row0_col2\" class=\"data row0 col2\" >0.9737 ± 0.0011</td>\n",
       "      <td id=\"T_b6651_row0_col3\" class=\"data row0 col3\" >0.9887 ± 0.0008</td>\n",
       "      <td id=\"T_b6651_row0_col4\" class=\"data row0 col4\" >0.9812 ± 0.0006</td>\n",
       "      <td id=\"T_b6651_row0_col5\" class=\"data row0 col5\" >0.9810 ± 0.0006</td>\n",
       "    </tr>\n",
       "    <tr>\n",
       "      <th id=\"T_b6651_level0_row1\" class=\"row_heading level0 row1\" >1</th>\n",
       "      <td id=\"T_b6651_row1_col0\" class=\"data row1 col0\" >Naive Bayes</td>\n",
       "      <td id=\"T_b6651_row1_col1\" class=\"data row1 col1\" >0.7299 ± 0.0046</td>\n",
       "      <td id=\"T_b6651_row1_col2\" class=\"data row1 col2\" >0.7255 ± 0.0047</td>\n",
       "      <td id=\"T_b6651_row1_col3\" class=\"data row1 col3\" >0.7397 ± 0.0141</td>\n",
       "      <td id=\"T_b6651_row1_col4\" class=\"data row1 col4\" >0.7325 ± 0.0067</td>\n",
       "      <td id=\"T_b6651_row1_col5\" class=\"data row1 col5\" >0.7299 ± 0.0046</td>\n",
       "    </tr>\n",
       "    <tr>\n",
       "      <th id=\"T_b6651_level0_row2\" class=\"row_heading level0 row2\" >2</th>\n",
       "      <td id=\"T_b6651_row2_col0\" class=\"data row2 col0\" >MLP</td>\n",
       "      <td id=\"T_b6651_row2_col1\" class=\"data row2 col1\" >0.9348 ± 0.0028</td>\n",
       "      <td id=\"T_b6651_row2_col2\" class=\"data row2 col2\" >0.9329 ± 0.0085</td>\n",
       "      <td id=\"T_b6651_row2_col3\" class=\"data row2 col3\" >0.9371 ± 0.0122</td>\n",
       "      <td id=\"T_b6651_row2_col4\" class=\"data row2 col4\" >0.9349 ± 0.0032</td>\n",
       "      <td id=\"T_b6651_row2_col5\" class=\"data row2 col5\" >0.9348 ± 0.0028</td>\n",
       "    </tr>\n",
       "    <tr>\n",
       "      <th id=\"T_b6651_level0_row3\" class=\"row_heading level0 row3\" >3</th>\n",
       "      <td id=\"T_b6651_row3_col0\" class=\"data row3 col0\" >KNN</td>\n",
       "      <td id=\"T_b6651_row3_col1\" class=\"data row3 col1\" >0.9708 ± 0.0010</td>\n",
       "      <td id=\"T_b6651_row3_col2\" class=\"data row3 col2\" >0.9517 ± 0.0017</td>\n",
       "      <td id=\"T_b6651_row3_col3\" class=\"data row3 col3\" >0.9920 ± 0.0014</td>\n",
       "      <td id=\"T_b6651_row3_col4\" class=\"data row3 col4\" >0.9714 ± 0.0009</td>\n",
       "      <td id=\"T_b6651_row3_col5\" class=\"data row3 col5\" >0.9708 ± 0.0010</td>\n",
       "    </tr>\n",
       "  </tbody>\n",
       "</table>\n"
      ],
      "text/plain": [
       "<pandas.io.formats.style.Styler at 0x1f516d5a890>"
      ]
     },
     "execution_count": 28,
     "metadata": {},
     "output_type": "execute_result"
    }
   ],
   "source": [
    "import pandas as pd\n",
    "\n",
    "# Definir os modelos\n",
    "Modelos = ['Decision Tree', 'Naive Bayes', 'MLP', 'KNN']\n",
    "\n",
    "# Criar um DataFrame do Pandas com os valores das variáveis\n",
    "df = pd.DataFrame({\n",
    "    'Modelos': Modelos,\n",
    "    'Acuracia (DREBIN)': [f\"{media:.4f} ± {dp:.4f}\" for media, dp in zip(AcurracyPosBal, AcurracyDPPosBal)],\n",
    "    'Precisão (DREBIN)': [f\"{media:.4f} ± {dp:.4f}\" for media, dp in zip(PrecisionPosBal, PrecisionDPPosBal)],\n",
    "    'Recall (DREBIN)': [f\"{media:.4f} ± {dp:.4f}\" for media, dp in zip(RecallPosBal, RecallDPPosBal)],\n",
    "    'F1 Score': [f\"{media:.4f} ± {dp:.4f}\" for media, dp in zip(F1_scorePosBal, F1_scoreDPPosBal)],\n",
    "    'AUC RoC': [f\"{media:.4f} ± {dp:.4f}\" for media, dp in zip(Roc_aucPosBal, Roc_aucDPPosBal)]\n",
    "})\n",
    "\n",
    "# Função para destacar o maior valor de cada coluna\n",
    "def highlight_max(s):\n",
    "    is_max = s == s.max()\n",
    "    return ['background-color: green' if v else '' for v in is_max]\n",
    "\n",
    "# Aplicar a função de destaque apenas para as colunas numéricas\n",
    "numeric_columns = df.columns[1:]\n",
    "styled_df = df.style.apply(highlight_max, subset=numeric_columns)\n",
    "\n",
    "# Definir a cor do texto para a tabela\n",
    "styled_df.set_properties(**{'color': 'white'}, subset=pd.IndexSlice[:, :])\n",
    "\n",
    "# Exibir o DataFrame estilizado no Jupyter Notebook\n",
    "styled_df\n"
   ]
  },
  {
   "cell_type": "markdown",
   "metadata": {},
   "source": [
    "### Bagging após o Balanceamento"
   ]
  },
  {
   "cell_type": "markdown",
   "metadata": {},
   "source": [
    "#### Decision Tree"
   ]
  },
  {
   "cell_type": "code",
   "execution_count": 29,
   "metadata": {},
   "outputs": [
    {
     "name": "stdout",
     "output_type": "stream",
     "text": [
      "Acurácia do modelo Bagging com Decision Tree: 0.9852375359442712\n",
      "Precisão do modelo Bagging com Decision Tree: 0.9800849495111396\n",
      "Recall do modelo Bagging com Decision Tree: 0.9906038637560245\n",
      "F1-score do modelo Bagging com Decision Tree: 0.9853163333131911\n",
      "AUC ROC do modelo Bagging com Decision Tree: 0.9852375359442712\n",
      "Matriz de confusão do modelo Bagging com Decision Tree:\n",
      "[[24194   497]\n",
      " [  232 24459]]\n"
     ]
    }
   ],
   "source": [
    "# Definir o classificador Decision Tree\n",
    "modelo_arvore = DecisionTreeClassifier(criterion='gini')\n",
    "\n",
    "# Definir o classificador de Bagging com Decision Tree como base\n",
    "bagging_clf = BaggingClassifier(estimator = modelo_arvore, n_estimators=30)\n",
    "\n",
    "# Treinar o modelo Bagging\n",
    "bagging_clf.fit(x_train, y_train)\n",
    "\n",
    "# Prever usando o modelo Bagging\n",
    "y_pred = bagging_clf.predict(x_test)\n",
    "\n",
    "# Avaliar a precisão do modelo\n",
    "accuracy_bagging = accuracy_score(y_test, y_pred)\n",
    "precision_bagging = precision_score(y_test, y_pred)\n",
    "recall_bagging = recall_score(y_test, y_pred)\n",
    "f1_score_bagging = f1_score(y_test, y_pred)\n",
    "auc_roc_bagging = roc_auc_score(y_test, y_pred)\n",
    "\n",
    "\n",
    "print(\"Acurácia do modelo Bagging com Decision Tree:\", accuracy_bagging)\n",
    "print(\"Precisão do modelo Bagging com Decision Tree:\", precision_bagging)\n",
    "print(\"Recall do modelo Bagging com Decision Tree:\", recall_bagging)\n",
    "print(\"F1-score do modelo Bagging com Decision Tree:\", f1_score_bagging)\n",
    "print(\"AUC ROC do modelo Bagging com Decision Tree:\", auc_roc_bagging)\n",
    "\n",
    "# Matriz de confusão\n",
    "conf_matrix_bagging = confusion_matrix(y_test, y_pred)\n",
    "print(\"Matriz de confusão do modelo Bagging com Decision Tree:\")\n",
    "print(conf_matrix_bagging)\n",
    "\n",
    "# Adicione a acurácia à lista de acurácias do Bagging\n",
    "AcurracyBaggingPosBal.append(accuracy_bagging)\n",
    "PrecisionBaggingPosBal.append(precision_bagging)\n",
    "RecallBaggingPosBal.append(recall_bagging)\n",
    "F1BaggingPosBal.append(f1_score_bagging)\n",
    "Roc_aucBaggingPosBal.append(auc_roc_bagging)\n",
    "\n"
   ]
  },
  {
   "cell_type": "markdown",
   "metadata": {},
   "source": [
    "#### Naive Bayes"
   ]
  },
  {
   "cell_type": "code",
   "execution_count": 30,
   "metadata": {},
   "outputs": [
    {
     "name": "stdout",
     "output_type": "stream",
     "text": [
      "Acurácia do modelo Bagging com Naive Bayes: 0.7307925964926492\n",
      "Precisão do modelo Bagging com Naive Bayes: 0.7253707731856832\n",
      "Recall do modelo Bagging com Naive Bayes: 0.7428212709084282\n",
      "F1-score do modelo Bagging com Naive Bayes: 0.7339923163118297\n",
      "AUC ROC do modelo Bagging com Naive Bayes: 0.7307925964926492\n",
      "Matriz de confusão do modelo Bagging com Naive Bayes:\n",
      "[[17747  6944]\n",
      " [ 6350 18341]]\n"
     ]
    }
   ],
   "source": [
    "# Inicializar o modelo de Naive Bayes com distribuição de Gaussiana\n",
    "modelo_naive_bayes = GaussianNB()\n",
    "\n",
    "# Definir o classificador de Bagging com Naive Bayes como base\n",
    "bagging_clf = BaggingClassifier(estimator=modelo_naive_bayes, n_estimators=30)\n",
    "\n",
    "# Treinar o modelo Bagging\n",
    "bagging_clf.fit(x_train, y_train)\n",
    "\n",
    "# Prever usando o modelo Bagging\n",
    "y_pred = bagging_clf.predict(x_test)\n",
    "\n",
    "# Avaliar a precisão do modelo\n",
    "accuracy_bagging = accuracy_score(y_test, y_pred)\n",
    "precision_bagging = precision_score(y_test, y_pred)\n",
    "recall_bagging = recall_score(y_test, y_pred)\n",
    "f1_score_bagging = f1_score(y_test, y_pred)\n",
    "auc_roc_bagging = roc_auc_score(y_test, y_pred)\n",
    "\n",
    "\n",
    "print(\"Acurácia do modelo Bagging com Naive Bayes:\", accuracy_bagging)\n",
    "print(\"Precisão do modelo Bagging com Naive Bayes:\", precision_bagging)\n",
    "print(\"Recall do modelo Bagging com Naive Bayes:\", recall_bagging)\n",
    "print(\"F1-score do modelo Bagging com Naive Bayes:\", f1_score_bagging)\n",
    "print(\"AUC ROC do modelo Bagging com Naive Bayes:\", auc_roc_bagging)\n",
    "\n",
    "# Matriz de confusão\n",
    "conf_matrix_bagging = confusion_matrix(y_test, y_pred)\n",
    "print(\"Matriz de confusão do modelo Bagging com Naive Bayes:\")\n",
    "print(conf_matrix_bagging)\n",
    "\n",
    "# Adicione a acurácia à lista de acurácias do Bagging\n",
    "AcurracyBaggingPosBal.append(accuracy_bagging)\n",
    "PrecisionBaggingPosBal.append(precision_bagging)\n",
    "RecallBaggingPosBal.append(recall_bagging)\n",
    "F1BaggingPosBal.append(f1_score_bagging)\n",
    "Roc_aucBaggingPosBal.append(auc_roc_bagging)\n"
   ]
  },
  {
   "cell_type": "markdown",
   "metadata": {},
   "source": [
    "#### MLP"
   ]
  },
  {
   "cell_type": "code",
   "execution_count": 31,
   "metadata": {},
   "outputs": [
    {
     "name": "stdout",
     "output_type": "stream",
     "text": [
      "Acurácia do modelo Bagging com MLP: 0.9441496901705074\n",
      "Precisão do modelo Bagging com MLP: 0.9423581138316325\n",
      "Recall do modelo Bagging com MLP: 0.9461747195334332\n",
      "F1-score do modelo Bagging com MLP: 0.944262560122873\n",
      "AUC ROC do modelo Bagging com MLP: 0.9441496901705075\n",
      "Matriz de confusão do modelo Bagging com MLP:\n",
      "[[23262  1429]\n",
      " [ 1329 23362]]\n"
     ]
    }
   ],
   "source": [
    "# Definir o classificador base (MLP)\n",
    "modelo_mlp = MLPClassifier(hidden_layer_sizes=(100), max_iter=1000)\n",
    "\n",
    "# Definir o classificador de Bagging com MLP como base\n",
    "bagging_clf = BaggingClassifier(estimator=modelo_mlp, n_estimators=30)\n",
    "\n",
    "# Treinar o modelo Bagging\n",
    "bagging_clf.fit(x_train, y_train)\n",
    "\n",
    "# Prever usando o modelo Bagging\n",
    "y_pred = bagging_clf.predict(x_test)\n",
    "\n",
    "# Avaliar a precisão do modelo\n",
    "accuracy_bagging = accuracy_score(y_test, y_pred)\n",
    "precision_bagging = precision_score(y_test, y_pred)\n",
    "recall_bagging = recall_score(y_test, y_pred)\n",
    "f1_score_bagging = f1_score(y_test, y_pred)\n",
    "auc_roc_bagging = roc_auc_score(y_test, y_pred)\n",
    "\n",
    "\n",
    "print(\"Acurácia do modelo Bagging com MLP:\", accuracy_bagging)\n",
    "print(\"Precisão do modelo Bagging com MLP:\", precision_bagging)\n",
    "print(\"Recall do modelo Bagging com MLP:\", recall_bagging)\n",
    "print(\"F1-score do modelo Bagging com MLP:\", f1_score_bagging)\n",
    "print(\"AUC ROC do modelo Bagging com MLP:\", auc_roc_bagging)\n",
    "\n",
    "# Matriz de confusão\n",
    "conf_matrix_bagging = confusion_matrix(y_test, y_pred)\n",
    "print(\"Matriz de confusão do modelo Bagging com MLP:\")\n",
    "print(conf_matrix_bagging)\n",
    "\n",
    "# Adicione a acurácia à lista de acurácias do Bagging\n",
    "AcurracyBaggingPosBal.append(accuracy_bagging)\n",
    "PrecisionBaggingPosBal.append(precision_bagging)\n",
    "RecallBaggingPosBal.append(recall_bagging)\n",
    "F1BaggingPosBal.append(f1_score_bagging)\n",
    "Roc_aucBaggingPosBal.append(auc_roc_bagging)\n"
   ]
  },
  {
   "cell_type": "markdown",
   "metadata": {},
   "source": [
    "#### KNN"
   ]
  },
  {
   "cell_type": "code",
   "execution_count": 32,
   "metadata": {},
   "outputs": [
    {
     "name": "stdout",
     "output_type": "stream",
     "text": [
      "Acurácia do modelo Bagging com KNN: 0.9712648333400834\n",
      "Precisão do modelo Bagging com KNN: 0.9511476426799007\n",
      "Recall do modelo Bagging com KNN: 0.9935604066258961\n",
      "F1-score do modelo Bagging com KNN: 0.9718915278410554\n",
      "AUC ROC do modelo Bagging com KNN: 0.9712648333400834\n",
      "Matriz de confusão do modelo Bagging com KNN:\n",
      "[[23431  1260]\n",
      " [  159 24532]]\n"
     ]
    }
   ],
   "source": [
    "#inicializar o modelo KNN\n",
    "modelo_knn = KNeighborsClassifier(n_neighbors=7)  # Escolha o número de vizinhos desejado\n",
    "\n",
    "# Definir o classificador de Bagging com KNN como base\n",
    "bagging_clf = BaggingClassifier(estimator=modelo_knn, n_estimators=30)\n",
    "\n",
    "# Treinar o modelo Bagging\n",
    "bagging_clf.fit(x_train, y_train)\n",
    "\n",
    "# Prever usando o modelo Bagging\n",
    "y_pred = bagging_clf.predict(x_test)\n",
    "\n",
    "# Avaliar a precisão do modelo\n",
    "accuracy_bagging = accuracy_score(y_test, y_pred)\n",
    "precision_bagging = precision_score(y_test, y_pred)\n",
    "recall_bagging = recall_score(y_test, y_pred)\n",
    "f1_score_bagging = f1_score(y_test, y_pred)\n",
    "auc_roc_bagging = roc_auc_score(y_test, y_pred)\n",
    "\n",
    "\n",
    "print(\"Acurácia do modelo Bagging com KNN:\", accuracy_bagging)\n",
    "print(\"Precisão do modelo Bagging com KNN:\", precision_bagging)\n",
    "print(\"Recall do modelo Bagging com KNN:\", recall_bagging)\n",
    "print(\"F1-score do modelo Bagging com KNN:\", f1_score_bagging)\n",
    "print(\"AUC ROC do modelo Bagging com KNN:\", auc_roc_bagging)\n",
    "\n",
    "# Matriz de confusão\n",
    "conf_matrix_bagging = confusion_matrix(y_test, y_pred)\n",
    "print(\"Matriz de confusão do modelo Bagging com KNN:\")\n",
    "print(conf_matrix_bagging)\n",
    "\n",
    "# Adicione a acurácia à lista de acurácias do Bagging\n",
    "AcurracyBaggingPosBal.append(accuracy_bagging)\n",
    "PrecisionBaggingPosBal.append(precision_bagging)\n",
    "RecallBaggingPosBal.append(recall_bagging)\n",
    "F1BaggingPosBal.append(f1_score_bagging)\n",
    "Roc_aucBaggingPosBal.append(auc_roc_bagging)\n"
   ]
  },
  {
   "cell_type": "markdown",
   "metadata": {},
   "source": [
    "#### Resultados"
   ]
  },
  {
   "cell_type": "code",
   "execution_count": 33,
   "metadata": {},
   "outputs": [
    {
     "name": "stdout",
     "output_type": "stream",
     "text": [
      "╒════╤═══════════════════╤═════════════════════╤═════════════════════╤═══════════════════╤════════════╤═══════════╕\n",
      "│    │ Modelos Bagging   │   Acuracia (DREBIN) │   Precisão (DREBIN) │   Recall (DREBIN) │   F1 Score │   AUC ROC │\n",
      "╞════╪═══════════════════╪═════════════════════╪═════════════════════╪═══════════════════╪════════════╪═══════════╡\n",
      "│  0 │ Decision Tree     │              0.9852 │              0.9801 │            0.9906 │     0.9853 │    0.9852 │\n",
      "├────┼───────────────────┼─────────────────────┼─────────────────────┼───────────────────┼────────────┼───────────┤\n",
      "│  1 │ Naive Bayes       │              0.7308 │              0.7254 │            0.7428 │     0.7340 │    0.7308 │\n",
      "├────┼───────────────────┼─────────────────────┼─────────────────────┼───────────────────┼────────────┼───────────┤\n",
      "│  2 │ MLP               │              0.9441 │              0.9424 │            0.9462 │     0.9443 │    0.9441 │\n",
      "├────┼───────────────────┼─────────────────────┼─────────────────────┼───────────────────┼────────────┼───────────┤\n",
      "│  3 │ KNN               │              0.9713 │              0.9511 │            0.9936 │     0.9719 │    0.9713 │\n",
      "╘════╧═══════════════════╧═════════════════════╧═════════════════════╧═══════════════════╧════════════╧═══════════╛\n"
     ]
    }
   ],
   "source": [
    "Modelos = ['Decision Tree', 'Naive Bayes', 'MLP', 'KNN']\n",
    "# Criar um DataFrame do Pandas com os valores das variáveis\n",
    "dfB = pd.DataFrame({'Modelos Bagging': Modelos, 'Acuracia (DREBIN)': AcurracyBaggingPosBal,\n",
    "                    'Precisão (DREBIN)': PrecisionBaggingPosBal, 'Recall (DREBIN)':RecallBaggingPosBal, \n",
    "                    'F1 Score': F1BaggingPosBal, 'AUC ROC': Roc_aucBaggingPosBal})\n",
    "\n",
    "print(tabulate(dfB, headers='keys', tablefmt='fancy_grid', floatfmt=\".4f\"))"
   ]
  },
  {
   "cell_type": "markdown",
   "metadata": {},
   "source": [
    "### Resultados"
   ]
  },
  {
   "cell_type": "code",
   "execution_count": 34,
   "metadata": {},
   "outputs": [
    {
     "data": {
      "text/html": [
       "<style type=\"text/css\">\n",
       "#T_faf3a_row0_col0, #T_faf3a_row0_col2, #T_faf3a_row1_col0, #T_faf3a_row1_col1, #T_faf3a_row1_col2, #T_faf3a_row1_col3, #T_faf3a_row1_col4, #T_faf3a_row1_col5, #T_faf3a_row2_col0, #T_faf3a_row2_col1, #T_faf3a_row2_col3, #T_faf3a_row2_col4, #T_faf3a_row2_col5, #T_faf3a_row3_col0, #T_faf3a_row3_col1, #T_faf3a_row3_col2, #T_faf3a_row3_col3, #T_faf3a_row3_col4, #T_faf3a_row3_col5 {\n",
       "  color: white;\n",
       "}\n",
       "#T_faf3a_row0_col1, #T_faf3a_row0_col3, #T_faf3a_row0_col4, #T_faf3a_row0_col5, #T_faf3a_row2_col2 {\n",
       "  background-color: green;\n",
       "  color: white;\n",
       "}\n",
       "</style>\n",
       "<table id=\"T_faf3a\">\n",
       "  <thead>\n",
       "    <tr>\n",
       "      <th class=\"blank level0\" >&nbsp;</th>\n",
       "      <th id=\"T_faf3a_level0_col0\" class=\"col_heading level0 col0\" >Modelos</th>\n",
       "      <th id=\"T_faf3a_level0_col1\" class=\"col_heading level0 col1\" >Acuracia (DREBIN)</th>\n",
       "      <th id=\"T_faf3a_level0_col2\" class=\"col_heading level0 col2\" >Precisão (DREBIN)</th>\n",
       "      <th id=\"T_faf3a_level0_col3\" class=\"col_heading level0 col3\" >Recall (DREBIN)</th>\n",
       "      <th id=\"T_faf3a_level0_col4\" class=\"col_heading level0 col4\" >F1 Score</th>\n",
       "      <th id=\"T_faf3a_level0_col5\" class=\"col_heading level0 col5\" >AUC RoC</th>\n",
       "    </tr>\n",
       "  </thead>\n",
       "  <tbody>\n",
       "    <tr>\n",
       "      <th id=\"T_faf3a_level0_row0\" class=\"row_heading level0 row0\" >0</th>\n",
       "      <td id=\"T_faf3a_row0_col0\" class=\"data row0 col0\" >Decision Tree</td>\n",
       "      <td id=\"T_faf3a_row0_col1\" class=\"data row0 col1\" >0.9817 ± 0.0007</td>\n",
       "      <td id=\"T_faf3a_row0_col2\" class=\"data row0 col2\" >0.7712 ± 0.0105</td>\n",
       "      <td id=\"T_faf3a_row0_col3\" class=\"data row0 col3\" >0.8194 ± 0.0120</td>\n",
       "      <td id=\"T_faf3a_row0_col4\" class=\"data row0 col4\" >0.7945 ± 0.0077</td>\n",
       "      <td id=\"T_faf3a_row0_col5\" class=\"data row0 col5\" >0.9042 ± 0.0059</td>\n",
       "    </tr>\n",
       "    <tr>\n",
       "      <th id=\"T_faf3a_level0_row1\" class=\"row_heading level0 row1\" >1</th>\n",
       "      <td id=\"T_faf3a_row1_col0\" class=\"data row1 col0\" >Naive Bayes</td>\n",
       "      <td id=\"T_faf3a_row1_col1\" class=\"data row1 col1\" >0.9163 ± 0.0030</td>\n",
       "      <td id=\"T_faf3a_row1_col2\" class=\"data row1 col2\" >0.2501 ± 0.0098</td>\n",
       "      <td id=\"T_faf3a_row1_col3\" class=\"data row1 col3\" >0.4704 ± 0.0149</td>\n",
       "      <td id=\"T_faf3a_row1_col4\" class=\"data row1 col4\" >0.3264 ± 0.0097</td>\n",
       "      <td id=\"T_faf3a_row1_col5\" class=\"data row1 col5\" >0.7034 ± 0.0070</td>\n",
       "    </tr>\n",
       "    <tr>\n",
       "      <th id=\"T_faf3a_level0_row2\" class=\"row_heading level0 row2\" >2</th>\n",
       "      <td id=\"T_faf3a_row2_col0\" class=\"data row2 col0\" >MLP</td>\n",
       "      <td id=\"T_faf3a_row2_col1\" class=\"data row2 col1\" >0.9769 ± 0.0009</td>\n",
       "      <td id=\"T_faf3a_row2_col2\" class=\"data row2 col2\" >0.8171 ± 0.0407</td>\n",
       "      <td id=\"T_faf3a_row2_col3\" class=\"data row2 col3\" >0.6031 ± 0.0410</td>\n",
       "      <td id=\"T_faf3a_row2_col4\" class=\"data row2 col4\" >0.6918 ± 0.0158</td>\n",
       "      <td id=\"T_faf3a_row2_col5\" class=\"data row2 col5\" >0.7984 ± 0.0195</td>\n",
       "    </tr>\n",
       "    <tr>\n",
       "      <th id=\"T_faf3a_level0_row3\" class=\"row_heading level0 row3\" >3</th>\n",
       "      <td id=\"T_faf3a_row3_col0\" class=\"data row3 col0\" >KNN</td>\n",
       "      <td id=\"T_faf3a_row3_col1\" class=\"data row3 col1\" >0.9812 ± 0.0007</td>\n",
       "      <td id=\"T_faf3a_row3_col2\" class=\"data row3 col2\" >0.8112 ± 0.0128</td>\n",
       "      <td id=\"T_faf3a_row3_col3\" class=\"data row3 col3\" >0.7347 ± 0.0145</td>\n",
       "      <td id=\"T_faf3a_row3_col4\" class=\"data row3 col4\" >0.7709 ± 0.0095</td>\n",
       "      <td id=\"T_faf3a_row3_col5\" class=\"data row3 col5\" >0.8635 ± 0.0071</td>\n",
       "    </tr>\n",
       "  </tbody>\n",
       "</table>\n"
      ],
      "text/plain": [
       "<pandas.io.formats.style.Styler at 0x1f5172a27d0>"
      ]
     },
     "execution_count": 34,
     "metadata": {},
     "output_type": "execute_result"
    }
   ],
   "source": [
    "import pandas as pd\n",
    "\n",
    "# Definir os modelos\n",
    "Modelos = ['Decision Tree', 'Naive Bayes', 'MLP', 'KNN']\n",
    "\n",
    "# Criar um DataFrame do Pandas com os valores das variáveis\n",
    "df = pd.DataFrame({\n",
    "    'Modelos': Modelos,\n",
    "    'Acuracia (DREBIN)': [f\"{media:.4f} ± {dp:.4f}\" for media, dp in zip(Acurracy, AcurracyDP)],\n",
    "    'Precisão (DREBIN)': [f\"{media:.4f} ± {dp:.4f}\" for media, dp in zip(Precision, PrecisionDP)],\n",
    "    'Recall (DREBIN)': [f\"{media:.4f} ± {dp:.4f}\" for media, dp in zip(Recall, RecallDP)],\n",
    "    'F1 Score': [f\"{media:.4f} ± {dp:.4f}\" for media, dp in zip(F1_score, F1_scoreDP)],\n",
    "    'AUC RoC': [f\"{media:.4f} ± {dp:.4f}\" for media, dp in zip(Roc_auc, Roc_aucDP)]\n",
    "})\n",
    "\n",
    "# Função para destacar o maior valor de cada coluna\n",
    "def highlight_max(s):\n",
    "    is_max = s == s.max()\n",
    "    return ['background-color: green' if v else '' for v in is_max]\n",
    "\n",
    "# Aplicar a função de destaque apenas para as colunas numéricas\n",
    "numeric_columns = df.columns[1:]\n",
    "styled_df = df.style.apply(highlight_max, subset=numeric_columns)\n",
    "\n",
    "# Definir a cor do texto para a tabela\n",
    "styled_df.set_properties(**{'color': 'white'}, subset=pd.IndexSlice[:, :])\n",
    "\n",
    "# Exibir o DataFrame estilizado no Jupyter Notebook\n",
    "styled_df\n"
   ]
  },
  {
   "cell_type": "code",
   "execution_count": 35,
   "metadata": {},
   "outputs": [
    {
     "data": {
      "text/html": [
       "<style type=\"text/css\">\n",
       "#T_79403_row0_col0, #T_79403_row1_col0, #T_79403_row1_col1, #T_79403_row1_col2, #T_79403_row1_col3, #T_79403_row1_col4, #T_79403_row1_col5, #T_79403_row2_col0, #T_79403_row2_col1, #T_79403_row2_col2, #T_79403_row2_col3, #T_79403_row2_col4, #T_79403_row2_col5, #T_79403_row3_col0, #T_79403_row3_col1, #T_79403_row3_col2, #T_79403_row3_col3, #T_79403_row3_col4, #T_79403_row3_col5 {\n",
       "  color: white;\n",
       "}\n",
       "#T_79403_row0_col1, #T_79403_row0_col2, #T_79403_row0_col3, #T_79403_row0_col4, #T_79403_row0_col5 {\n",
       "  background-color: green;\n",
       "  color: white;\n",
       "}\n",
       "</style>\n",
       "<table id=\"T_79403\">\n",
       "  <thead>\n",
       "    <tr>\n",
       "      <th class=\"blank level0\" >&nbsp;</th>\n",
       "      <th id=\"T_79403_level0_col0\" class=\"col_heading level0 col0\" >Modelos</th>\n",
       "      <th id=\"T_79403_level0_col1\" class=\"col_heading level0 col1\" >Acuracia (DREBIN)</th>\n",
       "      <th id=\"T_79403_level0_col2\" class=\"col_heading level0 col2\" >Precisão (DREBIN)</th>\n",
       "      <th id=\"T_79403_level0_col3\" class=\"col_heading level0 col3\" >Recall (DREBIN)</th>\n",
       "      <th id=\"T_79403_level0_col4\" class=\"col_heading level0 col4\" >F1 Score</th>\n",
       "      <th id=\"T_79403_level0_col5\" class=\"col_heading level0 col5\" >AUC RoC</th>\n",
       "    </tr>\n",
       "  </thead>\n",
       "  <tbody>\n",
       "    <tr>\n",
       "      <th id=\"T_79403_level0_row0\" class=\"row_heading level0 row0\" >0</th>\n",
       "      <td id=\"T_79403_row0_col0\" class=\"data row0 col0\" >Decision Tree</td>\n",
       "      <td id=\"T_79403_row0_col1\" class=\"data row0 col1\" >0.9877</td>\n",
       "      <td id=\"T_79403_row0_col2\" class=\"data row0 col2\" >0.8994</td>\n",
       "      <td id=\"T_79403_row0_col3\" class=\"data row0 col3\" >0.8040</td>\n",
       "      <td id=\"T_79403_row0_col4\" class=\"data row0 col4\" >0.8490</td>\n",
       "      <td id=\"T_79403_row0_col5\" class=\"data row0 col5\" >0.9000</td>\n",
       "    </tr>\n",
       "    <tr>\n",
       "      <th id=\"T_79403_level0_row1\" class=\"row_heading level0 row1\" >1</th>\n",
       "      <td id=\"T_79403_row1_col0\" class=\"data row1 col0\" >Naive Bayes</td>\n",
       "      <td id=\"T_79403_row1_col1\" class=\"data row1 col1\" >0.9178</td>\n",
       "      <td id=\"T_79403_row1_col2\" class=\"data row1 col2\" >0.2486</td>\n",
       "      <td id=\"T_79403_row1_col3\" class=\"data row1 col3\" >0.4487</td>\n",
       "      <td id=\"T_79403_row1_col4\" class=\"data row1 col4\" >0.3200</td>\n",
       "      <td id=\"T_79403_row1_col5\" class=\"data row1 col5\" >0.6938</td>\n",
       "    </tr>\n",
       "    <tr>\n",
       "      <th id=\"T_79403_level0_row2\" class=\"row_heading level0 row2\" >2</th>\n",
       "      <td id=\"T_79403_row2_col0\" class=\"data row2 col0\" >MLP</td>\n",
       "      <td id=\"T_79403_row2_col1\" class=\"data row2 col1\" >0.9770</td>\n",
       "      <td id=\"T_79403_row2_col2\" class=\"data row2 col2\" >0.8281</td>\n",
       "      <td id=\"T_79403_row2_col3\" class=\"data row2 col3\" >0.5890</td>\n",
       "      <td id=\"T_79403_row2_col4\" class=\"data row2 col4\" >0.6884</td>\n",
       "      <td id=\"T_79403_row2_col5\" class=\"data row2 col5\" >0.7918</td>\n",
       "    </tr>\n",
       "    <tr>\n",
       "      <th id=\"T_79403_level0_row3\" class=\"row_heading level0 row3\" >3</th>\n",
       "      <td id=\"T_79403_row3_col0\" class=\"data row3 col0\" >KNN</td>\n",
       "      <td id=\"T_79403_row3_col1\" class=\"data row3 col1\" >0.9816</td>\n",
       "      <td id=\"T_79403_row3_col2\" class=\"data row3 col2\" >0.8188</td>\n",
       "      <td id=\"T_79403_row3_col3\" class=\"data row3 col3\" >0.7356</td>\n",
       "      <td id=\"T_79403_row3_col4\" class=\"data row3 col4\" >0.7750</td>\n",
       "      <td id=\"T_79403_row3_col5\" class=\"data row3 col5\" >0.8641</td>\n",
       "    </tr>\n",
       "  </tbody>\n",
       "</table>\n"
      ],
      "text/plain": [
       "<pandas.io.formats.style.Styler at 0x1f51729ee10>"
      ]
     },
     "execution_count": 35,
     "metadata": {},
     "output_type": "execute_result"
    }
   ],
   "source": [
    "import pandas as pd\n",
    "array = [0,0,0,0,0]\n",
    "# Definir os modelos\n",
    "Modelos = ['Decision Tree', 'Naive Bayes', 'MLP', 'KNN']\n",
    "\n",
    "# Criar um DataFrame do Pandas com os valores das variáveis\n",
    "df = pd.DataFrame({\n",
    "    'Modelos': Modelos,\n",
    "    'Acuracia (DREBIN)': [f\"{media:.4f}\" for media, dp in zip(AcurracyBagging, array)],\n",
    "    'Precisão (DREBIN)': [f\"{media:.4f}\" for media, dp in zip(PrecisionBagging, array)],\n",
    "    'Recall (DREBIN)': [f\"{media:.4f}\" for media, dp in zip(RecallBagging, array)],\n",
    "    'F1 Score': [f\"{media:.4f}\" for media, dp in zip(F1Bagging, array)],\n",
    "    'AUC RoC': [f\"{media:.4f}\" for media, dp in zip(Roc_aucBagging, array)]\n",
    "})\n",
    "\n",
    "# Função para destacar o maior valor de cada coluna\n",
    "def highlight_max(s):\n",
    "    is_max = s == s.max()\n",
    "    return ['background-color: green' if v else '' for v in is_max]\n",
    "\n",
    "# Aplicar a função de destaque apenas para as colunas numéricas\n",
    "numeric_columns = df.columns[1:]\n",
    "styled_df = df.style.apply(highlight_max, subset=numeric_columns)\n",
    "\n",
    "# Definir a cor do texto para a tabela\n",
    "styled_df.set_properties(**{'color': 'white'}, subset=pd.IndexSlice[:, :])\n",
    "\n",
    "# Exibir o DataFrame estilizado no Jupyter Notebook\n",
    "styled_df\n"
   ]
  },
  {
   "cell_type": "code",
   "execution_count": 36,
   "metadata": {},
   "outputs": [
    {
     "data": {
      "text/html": [
       "<style type=\"text/css\">\n",
       "#T_8c755_row0_col0, #T_8c755_row0_col3, #T_8c755_row1_col0, #T_8c755_row1_col1, #T_8c755_row1_col2, #T_8c755_row1_col3, #T_8c755_row1_col4, #T_8c755_row1_col5, #T_8c755_row2_col0, #T_8c755_row2_col1, #T_8c755_row2_col2, #T_8c755_row2_col3, #T_8c755_row2_col4, #T_8c755_row2_col5, #T_8c755_row3_col0, #T_8c755_row3_col1, #T_8c755_row3_col2, #T_8c755_row3_col4, #T_8c755_row3_col5 {\n",
       "  color: white;\n",
       "}\n",
       "#T_8c755_row0_col1, #T_8c755_row0_col2, #T_8c755_row0_col4, #T_8c755_row0_col5, #T_8c755_row3_col3 {\n",
       "  background-color: green;\n",
       "  color: white;\n",
       "}\n",
       "</style>\n",
       "<table id=\"T_8c755\">\n",
       "  <thead>\n",
       "    <tr>\n",
       "      <th class=\"blank level0\" >&nbsp;</th>\n",
       "      <th id=\"T_8c755_level0_col0\" class=\"col_heading level0 col0\" >Modelos</th>\n",
       "      <th id=\"T_8c755_level0_col1\" class=\"col_heading level0 col1\" >Acuracia (DREBIN)</th>\n",
       "      <th id=\"T_8c755_level0_col2\" class=\"col_heading level0 col2\" >Precisão (DREBIN)</th>\n",
       "      <th id=\"T_8c755_level0_col3\" class=\"col_heading level0 col3\" >Recall (DREBIN)</th>\n",
       "      <th id=\"T_8c755_level0_col4\" class=\"col_heading level0 col4\" >F1 Score</th>\n",
       "      <th id=\"T_8c755_level0_col5\" class=\"col_heading level0 col5\" >AUC RoC</th>\n",
       "    </tr>\n",
       "  </thead>\n",
       "  <tbody>\n",
       "    <tr>\n",
       "      <th id=\"T_8c755_level0_row0\" class=\"row_heading level0 row0\" >0</th>\n",
       "      <td id=\"T_8c755_row0_col0\" class=\"data row0 col0\" >Decision Tree</td>\n",
       "      <td id=\"T_8c755_row0_col1\" class=\"data row0 col1\" >0.9810 ± 0.0006</td>\n",
       "      <td id=\"T_8c755_row0_col2\" class=\"data row0 col2\" >0.9737 ± 0.0011</td>\n",
       "      <td id=\"T_8c755_row0_col3\" class=\"data row0 col3\" >0.9887 ± 0.0008</td>\n",
       "      <td id=\"T_8c755_row0_col4\" class=\"data row0 col4\" >0.9812 ± 0.0006</td>\n",
       "      <td id=\"T_8c755_row0_col5\" class=\"data row0 col5\" >0.9810 ± 0.0006</td>\n",
       "    </tr>\n",
       "    <tr>\n",
       "      <th id=\"T_8c755_level0_row1\" class=\"row_heading level0 row1\" >1</th>\n",
       "      <td id=\"T_8c755_row1_col0\" class=\"data row1 col0\" >Naive Bayes</td>\n",
       "      <td id=\"T_8c755_row1_col1\" class=\"data row1 col1\" >0.7299 ± 0.0046</td>\n",
       "      <td id=\"T_8c755_row1_col2\" class=\"data row1 col2\" >0.7255 ± 0.0047</td>\n",
       "      <td id=\"T_8c755_row1_col3\" class=\"data row1 col3\" >0.7397 ± 0.0141</td>\n",
       "      <td id=\"T_8c755_row1_col4\" class=\"data row1 col4\" >0.7325 ± 0.0067</td>\n",
       "      <td id=\"T_8c755_row1_col5\" class=\"data row1 col5\" >0.7299 ± 0.0046</td>\n",
       "    </tr>\n",
       "    <tr>\n",
       "      <th id=\"T_8c755_level0_row2\" class=\"row_heading level0 row2\" >2</th>\n",
       "      <td id=\"T_8c755_row2_col0\" class=\"data row2 col0\" >MLP</td>\n",
       "      <td id=\"T_8c755_row2_col1\" class=\"data row2 col1\" >0.9348 ± 0.0028</td>\n",
       "      <td id=\"T_8c755_row2_col2\" class=\"data row2 col2\" >0.9329 ± 0.0085</td>\n",
       "      <td id=\"T_8c755_row2_col3\" class=\"data row2 col3\" >0.9371 ± 0.0122</td>\n",
       "      <td id=\"T_8c755_row2_col4\" class=\"data row2 col4\" >0.9349 ± 0.0032</td>\n",
       "      <td id=\"T_8c755_row2_col5\" class=\"data row2 col5\" >0.9348 ± 0.0028</td>\n",
       "    </tr>\n",
       "    <tr>\n",
       "      <th id=\"T_8c755_level0_row3\" class=\"row_heading level0 row3\" >3</th>\n",
       "      <td id=\"T_8c755_row3_col0\" class=\"data row3 col0\" >KNN</td>\n",
       "      <td id=\"T_8c755_row3_col1\" class=\"data row3 col1\" >0.9708 ± 0.0010</td>\n",
       "      <td id=\"T_8c755_row3_col2\" class=\"data row3 col2\" >0.9517 ± 0.0017</td>\n",
       "      <td id=\"T_8c755_row3_col3\" class=\"data row3 col3\" >0.9920 ± 0.0014</td>\n",
       "      <td id=\"T_8c755_row3_col4\" class=\"data row3 col4\" >0.9714 ± 0.0009</td>\n",
       "      <td id=\"T_8c755_row3_col5\" class=\"data row3 col5\" >0.9708 ± 0.0010</td>\n",
       "    </tr>\n",
       "  </tbody>\n",
       "</table>\n"
      ],
      "text/plain": [
       "<pandas.io.formats.style.Styler at 0x1f517297a90>"
      ]
     },
     "execution_count": 36,
     "metadata": {},
     "output_type": "execute_result"
    }
   ],
   "source": [
    "import pandas as pd\n",
    "\n",
    "# Definir os modelos\n",
    "Modelos = ['Decision Tree', 'Naive Bayes', 'MLP', 'KNN']\n",
    "\n",
    "# Criar um DataFrame do Pandas com os valores das variáveis\n",
    "df = pd.DataFrame({\n",
    "    'Modelos': Modelos,\n",
    "    'Acuracia (DREBIN)': [f\"{media:.4f} ± {dp:.4f}\" for media, dp in zip(AcurracyPosBal, AcurracyDPPosBal)],\n",
    "    'Precisão (DREBIN)': [f\"{media:.4f} ± {dp:.4f}\" for media, dp in zip(PrecisionPosBal, PrecisionDPPosBal)],\n",
    "    'Recall (DREBIN)': [f\"{media:.4f} ± {dp:.4f}\" for media, dp in zip(RecallPosBal, RecallDPPosBal)],\n",
    "    'F1 Score': [f\"{media:.4f} ± {dp:.4f}\" for media, dp in zip(F1_scorePosBal, F1_scoreDPPosBal)],\n",
    "    'AUC RoC': [f\"{media:.4f} ± {dp:.4f}\" for media, dp in zip(Roc_aucPosBal, Roc_aucDPPosBal)]\n",
    "})\n",
    "\n",
    "# Função para destacar o maior valor de cada coluna\n",
    "def highlight_max(s):\n",
    "    is_max = s == s.max()\n",
    "    return ['background-color: green' if v else '' for v in is_max]\n",
    "\n",
    "# Aplicar a função de destaque apenas para as colunas numéricas\n",
    "numeric_columns = df.columns[1:]\n",
    "styled_df = df.style.apply(highlight_max, subset=numeric_columns)\n",
    "\n",
    "# Definir a cor do texto para a tabela\n",
    "styled_df.set_properties(**{'color': 'white'}, subset=pd.IndexSlice[:, :])\n",
    "\n",
    "# Exibir o DataFrame estilizado no Jupyter Notebook\n",
    "styled_df\n"
   ]
  },
  {
   "cell_type": "code",
   "execution_count": 37,
   "metadata": {},
   "outputs": [
    {
     "data": {
      "text/html": [
       "<style type=\"text/css\">\n",
       "#T_f1a97_row0_col0, #T_f1a97_row0_col3, #T_f1a97_row1_col0, #T_f1a97_row1_col1, #T_f1a97_row1_col2, #T_f1a97_row1_col3, #T_f1a97_row1_col4, #T_f1a97_row1_col5, #T_f1a97_row2_col0, #T_f1a97_row2_col1, #T_f1a97_row2_col2, #T_f1a97_row2_col3, #T_f1a97_row2_col4, #T_f1a97_row2_col5, #T_f1a97_row3_col0, #T_f1a97_row3_col1, #T_f1a97_row3_col2, #T_f1a97_row3_col4, #T_f1a97_row3_col5 {\n",
       "  color: white;\n",
       "}\n",
       "#T_f1a97_row0_col1, #T_f1a97_row0_col2, #T_f1a97_row0_col4, #T_f1a97_row0_col5, #T_f1a97_row3_col3 {\n",
       "  background-color: green;\n",
       "  color: white;\n",
       "}\n",
       "</style>\n",
       "<table id=\"T_f1a97\">\n",
       "  <thead>\n",
       "    <tr>\n",
       "      <th class=\"blank level0\" >&nbsp;</th>\n",
       "      <th id=\"T_f1a97_level0_col0\" class=\"col_heading level0 col0\" >Modelos</th>\n",
       "      <th id=\"T_f1a97_level0_col1\" class=\"col_heading level0 col1\" >Acuracia (DREBIN)</th>\n",
       "      <th id=\"T_f1a97_level0_col2\" class=\"col_heading level0 col2\" >Precisão (DREBIN)</th>\n",
       "      <th id=\"T_f1a97_level0_col3\" class=\"col_heading level0 col3\" >Recall (DREBIN)</th>\n",
       "      <th id=\"T_f1a97_level0_col4\" class=\"col_heading level0 col4\" >F1 Score</th>\n",
       "      <th id=\"T_f1a97_level0_col5\" class=\"col_heading level0 col5\" >AUC RoC</th>\n",
       "    </tr>\n",
       "  </thead>\n",
       "  <tbody>\n",
       "    <tr>\n",
       "      <th id=\"T_f1a97_level0_row0\" class=\"row_heading level0 row0\" >0</th>\n",
       "      <td id=\"T_f1a97_row0_col0\" class=\"data row0 col0\" >Decision Tree</td>\n",
       "      <td id=\"T_f1a97_row0_col1\" class=\"data row0 col1\" >0.9852</td>\n",
       "      <td id=\"T_f1a97_row0_col2\" class=\"data row0 col2\" >0.9801</td>\n",
       "      <td id=\"T_f1a97_row0_col3\" class=\"data row0 col3\" >0.9906</td>\n",
       "      <td id=\"T_f1a97_row0_col4\" class=\"data row0 col4\" >0.9853</td>\n",
       "      <td id=\"T_f1a97_row0_col5\" class=\"data row0 col5\" >0.9852</td>\n",
       "    </tr>\n",
       "    <tr>\n",
       "      <th id=\"T_f1a97_level0_row1\" class=\"row_heading level0 row1\" >1</th>\n",
       "      <td id=\"T_f1a97_row1_col0\" class=\"data row1 col0\" >Naive Bayes</td>\n",
       "      <td id=\"T_f1a97_row1_col1\" class=\"data row1 col1\" >0.7308</td>\n",
       "      <td id=\"T_f1a97_row1_col2\" class=\"data row1 col2\" >0.7254</td>\n",
       "      <td id=\"T_f1a97_row1_col3\" class=\"data row1 col3\" >0.7428</td>\n",
       "      <td id=\"T_f1a97_row1_col4\" class=\"data row1 col4\" >0.7340</td>\n",
       "      <td id=\"T_f1a97_row1_col5\" class=\"data row1 col5\" >0.7308</td>\n",
       "    </tr>\n",
       "    <tr>\n",
       "      <th id=\"T_f1a97_level0_row2\" class=\"row_heading level0 row2\" >2</th>\n",
       "      <td id=\"T_f1a97_row2_col0\" class=\"data row2 col0\" >MLP</td>\n",
       "      <td id=\"T_f1a97_row2_col1\" class=\"data row2 col1\" >0.9441</td>\n",
       "      <td id=\"T_f1a97_row2_col2\" class=\"data row2 col2\" >0.9424</td>\n",
       "      <td id=\"T_f1a97_row2_col3\" class=\"data row2 col3\" >0.9462</td>\n",
       "      <td id=\"T_f1a97_row2_col4\" class=\"data row2 col4\" >0.9443</td>\n",
       "      <td id=\"T_f1a97_row2_col5\" class=\"data row2 col5\" >0.9441</td>\n",
       "    </tr>\n",
       "    <tr>\n",
       "      <th id=\"T_f1a97_level0_row3\" class=\"row_heading level0 row3\" >3</th>\n",
       "      <td id=\"T_f1a97_row3_col0\" class=\"data row3 col0\" >KNN</td>\n",
       "      <td id=\"T_f1a97_row3_col1\" class=\"data row3 col1\" >0.9713</td>\n",
       "      <td id=\"T_f1a97_row3_col2\" class=\"data row3 col2\" >0.9511</td>\n",
       "      <td id=\"T_f1a97_row3_col3\" class=\"data row3 col3\" >0.9936</td>\n",
       "      <td id=\"T_f1a97_row3_col4\" class=\"data row3 col4\" >0.9719</td>\n",
       "      <td id=\"T_f1a97_row3_col5\" class=\"data row3 col5\" >0.9713</td>\n",
       "    </tr>\n",
       "  </tbody>\n",
       "</table>\n"
      ],
      "text/plain": [
       "<pandas.io.formats.style.Styler at 0x1f517299110>"
      ]
     },
     "execution_count": 37,
     "metadata": {},
     "output_type": "execute_result"
    }
   ],
   "source": [
    "import pandas as pd\n",
    "array = [0,0,0,0,0]\n",
    "# Definir os modelos\n",
    "Modelos = ['Decision Tree', 'Naive Bayes', 'MLP', 'KNN']\n",
    "\n",
    "# Criar um DataFrame do Pandas com os valores das variáveis\n",
    "df = pd.DataFrame({\n",
    "    'Modelos': Modelos,\n",
    "    'Acuracia (DREBIN)': [f\"{media:.4f}\" for media, dp in zip(AcurracyBaggingPosBal, array)],\n",
    "    'Precisão (DREBIN)': [f\"{media:.4f}\" for media, dp in zip(PrecisionBaggingPosBal, array)],\n",
    "    'Recall (DREBIN)': [f\"{media:.4f}\" for media, dp in zip(RecallBaggingPosBal, array)],\n",
    "    'F1 Score': [f\"{media:.4f}\" for media, dp in zip(F1BaggingPosBal, array)],\n",
    "    'AUC RoC': [f\"{media:.4f}\" for media, dp in zip(Roc_aucBaggingPosBal, array)]    \n",
    "})\n",
    "\n",
    "# Função para destacar o maior valor de cada coluna\n",
    "def highlight_max(s):\n",
    "    is_max = s == s.max()\n",
    "    return ['background-color: green' if v else '' for v in is_max]\n",
    "\n",
    "# Aplicar a função de destaque apenas para as colunas numéricas\n",
    "numeric_columns = df.columns[1:]\n",
    "styled_df = df.style.apply(highlight_max, subset=numeric_columns)\n",
    "\n",
    "# Definir a cor do texto para a tabela\n",
    "styled_df.set_properties(**{'color': 'white'}, subset=pd.IndexSlice[:, :])\n",
    "\n",
    "# Exibir o DataFrame estilizado no Jupyter Notebook\n",
    "styled_df\n"
   ]
  },
  {
   "cell_type": "code",
   "execution_count": 105,
   "metadata": {},
   "outputs": [
    {
     "data": {
      "text/html": [
       "<style type=\"text/css\">\n",
       "#T_87cb0_row0_col0, #T_87cb0_row0_col2, #T_87cb0_row0_col3, #T_87cb0_row0_col4, #T_87cb0_row0_col5, #T_87cb0_row1_col0, #T_87cb0_row1_col1, #T_87cb0_row1_col2, #T_87cb0_row1_col3, #T_87cb0_row1_col4, #T_87cb0_row1_col5, #T_87cb0_row2_col0, #T_87cb0_row2_col1, #T_87cb0_row2_col2, #T_87cb0_row2_col3, #T_87cb0_row2_col4, #T_87cb0_row2_col5, #T_87cb0_row3_col0, #T_87cb0_row3_col1, #T_87cb0_row3_col2, #T_87cb0_row3_col3, #T_87cb0_row3_col4, #T_87cb0_row3_col5, #T_87cb0_row4_col0, #T_87cb0_row4_col2, #T_87cb0_row4_col3, #T_87cb0_row4_col4, #T_87cb0_row4_col5, #T_87cb0_row5_col0, #T_87cb0_row5_col1, #T_87cb0_row5_col2, #T_87cb0_row5_col3, #T_87cb0_row5_col4, #T_87cb0_row5_col5, #T_87cb0_row6_col0, #T_87cb0_row6_col1, #T_87cb0_row6_col2, #T_87cb0_row6_col3, #T_87cb0_row6_col4, #T_87cb0_row6_col5, #T_87cb0_row7_col0, #T_87cb0_row7_col1, #T_87cb0_row7_col2, #T_87cb0_row7_col3, #T_87cb0_row7_col4, #T_87cb0_row7_col5, #T_87cb0_row8_col0, #T_87cb0_row8_col1, #T_87cb0_row8_col3, #T_87cb0_row9_col0, #T_87cb0_row9_col1, #T_87cb0_row9_col2, #T_87cb0_row9_col3, #T_87cb0_row9_col4, #T_87cb0_row9_col5, #T_87cb0_row10_col0, #T_87cb0_row10_col1, #T_87cb0_row10_col2, #T_87cb0_row10_col3, #T_87cb0_row10_col4, #T_87cb0_row10_col5, #T_87cb0_row11_col0, #T_87cb0_row11_col1, #T_87cb0_row11_col4, #T_87cb0_row11_col5, #T_87cb0_row12_col0, #T_87cb0_row13_col0, #T_87cb0_row13_col1, #T_87cb0_row13_col2, #T_87cb0_row13_col3, #T_87cb0_row13_col4, #T_87cb0_row13_col5, #T_87cb0_row14_col0, #T_87cb0_row14_col1, #T_87cb0_row14_col2, #T_87cb0_row14_col3, #T_87cb0_row14_col4, #T_87cb0_row14_col5, #T_87cb0_row15_col0, #T_87cb0_row15_col1, #T_87cb0_row15_col2 {\n",
       "  color: white;\n",
       "}\n",
       "#T_87cb0_row0_col1, #T_87cb0_row11_col2, #T_87cb0_row12_col3, #T_87cb0_row15_col4, #T_87cb0_row15_col5 {\n",
       "  background-color: red;\n",
       "  color: white;\n",
       "}\n",
       "#T_87cb0_row4_col1, #T_87cb0_row12_col2, #T_87cb0_row12_col4, #T_87cb0_row12_col5, #T_87cb0_row15_col3 {\n",
       "  background-color: green;\n",
       "  color: white;\n",
       "}\n",
       "#T_87cb0_row8_col2, #T_87cb0_row8_col4, #T_87cb0_row8_col5, #T_87cb0_row11_col3, #T_87cb0_row12_col1 {\n",
       "  background-color: blue;\n",
       "  color: white;\n",
       "}\n",
       "</style>\n",
       "<table id=\"T_87cb0\">\n",
       "  <thead>\n",
       "    <tr>\n",
       "      <th class=\"blank level0\" >&nbsp;</th>\n",
       "      <th id=\"T_87cb0_level0_col0\" class=\"col_heading level0 col0\" >Modelos</th>\n",
       "      <th id=\"T_87cb0_level0_col1\" class=\"col_heading level0 col1\" >Acuracia</th>\n",
       "      <th id=\"T_87cb0_level0_col2\" class=\"col_heading level0 col2\" >Precisão</th>\n",
       "      <th id=\"T_87cb0_level0_col3\" class=\"col_heading level0 col3\" >Recall</th>\n",
       "      <th id=\"T_87cb0_level0_col4\" class=\"col_heading level0 col4\" >F1 Score</th>\n",
       "      <th id=\"T_87cb0_level0_col5\" class=\"col_heading level0 col5\" >AUC RoC</th>\n",
       "    </tr>\n",
       "  </thead>\n",
       "  <tbody>\n",
       "    <tr>\n",
       "      <th id=\"T_87cb0_level0_row0\" class=\"row_heading level0 row0\" >0</th>\n",
       "      <td id=\"T_87cb0_row0_col0\" class=\"data row0 col0\" >Decision Tree DD</td>\n",
       "      <td id=\"T_87cb0_row0_col1\" class=\"data row0 col1\" >0.9817 ± 0.0007</td>\n",
       "      <td id=\"T_87cb0_row0_col2\" class=\"data row0 col2\" >0.7712 ± 0.0105</td>\n",
       "      <td id=\"T_87cb0_row0_col3\" class=\"data row0 col3\" >0.8194 ± 0.0120</td>\n",
       "      <td id=\"T_87cb0_row0_col4\" class=\"data row0 col4\" >0.7945 ± 0.0077</td>\n",
       "      <td id=\"T_87cb0_row0_col5\" class=\"data row0 col5\" >0.9042 ± 0.0059</td>\n",
       "    </tr>\n",
       "    <tr>\n",
       "      <th id=\"T_87cb0_level0_row1\" class=\"row_heading level0 row1\" >1</th>\n",
       "      <td id=\"T_87cb0_row1_col0\" class=\"data row1 col0\" >Naive Bayes DD</td>\n",
       "      <td id=\"T_87cb0_row1_col1\" class=\"data row1 col1\" >0.9163 ± 0.0030</td>\n",
       "      <td id=\"T_87cb0_row1_col2\" class=\"data row1 col2\" >0.2501 ± 0.0098</td>\n",
       "      <td id=\"T_87cb0_row1_col3\" class=\"data row1 col3\" >0.4704 ± 0.0149</td>\n",
       "      <td id=\"T_87cb0_row1_col4\" class=\"data row1 col4\" >0.3264 ± 0.0097</td>\n",
       "      <td id=\"T_87cb0_row1_col5\" class=\"data row1 col5\" >0.7034 ± 0.0070</td>\n",
       "    </tr>\n",
       "    <tr>\n",
       "      <th id=\"T_87cb0_level0_row2\" class=\"row_heading level0 row2\" >2</th>\n",
       "      <td id=\"T_87cb0_row2_col0\" class=\"data row2 col0\" >MLP DD</td>\n",
       "      <td id=\"T_87cb0_row2_col1\" class=\"data row2 col1\" >0.9769 ± 0.0009</td>\n",
       "      <td id=\"T_87cb0_row2_col2\" class=\"data row2 col2\" >0.8171 ± 0.0407</td>\n",
       "      <td id=\"T_87cb0_row2_col3\" class=\"data row2 col3\" >0.6031 ± 0.0410</td>\n",
       "      <td id=\"T_87cb0_row2_col4\" class=\"data row2 col4\" >0.6918 ± 0.0158</td>\n",
       "      <td id=\"T_87cb0_row2_col5\" class=\"data row2 col5\" >0.7984 ± 0.0195</td>\n",
       "    </tr>\n",
       "    <tr>\n",
       "      <th id=\"T_87cb0_level0_row3\" class=\"row_heading level0 row3\" >3</th>\n",
       "      <td id=\"T_87cb0_row3_col0\" class=\"data row3 col0\" >KNN DD</td>\n",
       "      <td id=\"T_87cb0_row3_col1\" class=\"data row3 col1\" >0.9812 ± 0.0007</td>\n",
       "      <td id=\"T_87cb0_row3_col2\" class=\"data row3 col2\" >0.8112 ± 0.0128</td>\n",
       "      <td id=\"T_87cb0_row3_col3\" class=\"data row3 col3\" >0.7347 ± 0.0145</td>\n",
       "      <td id=\"T_87cb0_row3_col4\" class=\"data row3 col4\" >0.7709 ± 0.0095</td>\n",
       "      <td id=\"T_87cb0_row3_col5\" class=\"data row3 col5\" >0.8635 ± 0.0071</td>\n",
       "    </tr>\n",
       "    <tr>\n",
       "      <th id=\"T_87cb0_level0_row4\" class=\"row_heading level0 row4\" >4</th>\n",
       "      <td id=\"T_87cb0_row4_col0\" class=\"data row4 col0\" >Bagging Decision Tree DD</td>\n",
       "      <td id=\"T_87cb0_row4_col1\" class=\"data row4 col1\" >0.9877 ± 0.0000</td>\n",
       "      <td id=\"T_87cb0_row4_col2\" class=\"data row4 col2\" >0.8994 ± 0.0000</td>\n",
       "      <td id=\"T_87cb0_row4_col3\" class=\"data row4 col3\" >0.8040 ± 0.0000</td>\n",
       "      <td id=\"T_87cb0_row4_col4\" class=\"data row4 col4\" >0.8490 ± 0.0000</td>\n",
       "      <td id=\"T_87cb0_row4_col5\" class=\"data row4 col5\" >0.9000 ± 0.0000</td>\n",
       "    </tr>\n",
       "    <tr>\n",
       "      <th id=\"T_87cb0_level0_row5\" class=\"row_heading level0 row5\" >5</th>\n",
       "      <td id=\"T_87cb0_row5_col0\" class=\"data row5 col0\" >Bagging Naive Bayes DD</td>\n",
       "      <td id=\"T_87cb0_row5_col1\" class=\"data row5 col1\" >0.9178 ± 0.0000</td>\n",
       "      <td id=\"T_87cb0_row5_col2\" class=\"data row5 col2\" >0.2486 ± 0.0000</td>\n",
       "      <td id=\"T_87cb0_row5_col3\" class=\"data row5 col3\" >0.4487 ± 0.0000</td>\n",
       "      <td id=\"T_87cb0_row5_col4\" class=\"data row5 col4\" >0.3200 ± 0.0000</td>\n",
       "      <td id=\"T_87cb0_row5_col5\" class=\"data row5 col5\" >0.6938 ± 0.0000</td>\n",
       "    </tr>\n",
       "    <tr>\n",
       "      <th id=\"T_87cb0_level0_row6\" class=\"row_heading level0 row6\" >6</th>\n",
       "      <td id=\"T_87cb0_row6_col0\" class=\"data row6 col0\" >Bagging MLP DD</td>\n",
       "      <td id=\"T_87cb0_row6_col1\" class=\"data row6 col1\" >0.9770 ± 0.0000</td>\n",
       "      <td id=\"T_87cb0_row6_col2\" class=\"data row6 col2\" >0.8281 ± 0.0000</td>\n",
       "      <td id=\"T_87cb0_row6_col3\" class=\"data row6 col3\" >0.5890 ± 0.0000</td>\n",
       "      <td id=\"T_87cb0_row6_col4\" class=\"data row6 col4\" >0.6884 ± 0.0000</td>\n",
       "      <td id=\"T_87cb0_row6_col5\" class=\"data row6 col5\" >0.7918 ± 0.0000</td>\n",
       "    </tr>\n",
       "    <tr>\n",
       "      <th id=\"T_87cb0_level0_row7\" class=\"row_heading level0 row7\" >7</th>\n",
       "      <td id=\"T_87cb0_row7_col0\" class=\"data row7 col0\" >Bagging KNN DD</td>\n",
       "      <td id=\"T_87cb0_row7_col1\" class=\"data row7 col1\" >0.9816 ± 0.0000</td>\n",
       "      <td id=\"T_87cb0_row7_col2\" class=\"data row7 col2\" >0.8188 ± 0.0000</td>\n",
       "      <td id=\"T_87cb0_row7_col3\" class=\"data row7 col3\" >0.7356 ± 0.0000</td>\n",
       "      <td id=\"T_87cb0_row7_col4\" class=\"data row7 col4\" >0.7750 ± 0.0000</td>\n",
       "      <td id=\"T_87cb0_row7_col5\" class=\"data row7 col5\" >0.8641 ± 0.0000</td>\n",
       "    </tr>\n",
       "    <tr>\n",
       "      <th id=\"T_87cb0_level0_row8\" class=\"row_heading level0 row8\" >8</th>\n",
       "      <td id=\"T_87cb0_row8_col0\" class=\"data row8 col0\" >Decision Tree DB</td>\n",
       "      <td id=\"T_87cb0_row8_col1\" class=\"data row8 col1\" >0.9810 ± 0.0006</td>\n",
       "      <td id=\"T_87cb0_row8_col2\" class=\"data row8 col2\" >0.9737 ± 0.0011</td>\n",
       "      <td id=\"T_87cb0_row8_col3\" class=\"data row8 col3\" >0.9887 ± 0.0008</td>\n",
       "      <td id=\"T_87cb0_row8_col4\" class=\"data row8 col4\" >0.9812 ± 0.0006</td>\n",
       "      <td id=\"T_87cb0_row8_col5\" class=\"data row8 col5\" >0.9810 ± 0.0006</td>\n",
       "    </tr>\n",
       "    <tr>\n",
       "      <th id=\"T_87cb0_level0_row9\" class=\"row_heading level0 row9\" >9</th>\n",
       "      <td id=\"T_87cb0_row9_col0\" class=\"data row9 col0\" >Naive Bayes DB</td>\n",
       "      <td id=\"T_87cb0_row9_col1\" class=\"data row9 col1\" >0.7299 ± 0.0046</td>\n",
       "      <td id=\"T_87cb0_row9_col2\" class=\"data row9 col2\" >0.7255 ± 0.0047</td>\n",
       "      <td id=\"T_87cb0_row9_col3\" class=\"data row9 col3\" >0.7397 ± 0.0141</td>\n",
       "      <td id=\"T_87cb0_row9_col4\" class=\"data row9 col4\" >0.7325 ± 0.0067</td>\n",
       "      <td id=\"T_87cb0_row9_col5\" class=\"data row9 col5\" >0.7299 ± 0.0046</td>\n",
       "    </tr>\n",
       "    <tr>\n",
       "      <th id=\"T_87cb0_level0_row10\" class=\"row_heading level0 row10\" >10</th>\n",
       "      <td id=\"T_87cb0_row10_col0\" class=\"data row10 col0\" >MLP DB</td>\n",
       "      <td id=\"T_87cb0_row10_col1\" class=\"data row10 col1\" >0.9348 ± 0.0028</td>\n",
       "      <td id=\"T_87cb0_row10_col2\" class=\"data row10 col2\" >0.9329 ± 0.0085</td>\n",
       "      <td id=\"T_87cb0_row10_col3\" class=\"data row10 col3\" >0.9371 ± 0.0122</td>\n",
       "      <td id=\"T_87cb0_row10_col4\" class=\"data row10 col4\" >0.9349 ± 0.0032</td>\n",
       "      <td id=\"T_87cb0_row10_col5\" class=\"data row10 col5\" >0.9348 ± 0.0028</td>\n",
       "    </tr>\n",
       "    <tr>\n",
       "      <th id=\"T_87cb0_level0_row11\" class=\"row_heading level0 row11\" >11</th>\n",
       "      <td id=\"T_87cb0_row11_col0\" class=\"data row11 col0\" >KNN DB</td>\n",
       "      <td id=\"T_87cb0_row11_col1\" class=\"data row11 col1\" >0.9708 ± 0.0010</td>\n",
       "      <td id=\"T_87cb0_row11_col2\" class=\"data row11 col2\" >0.9517 ± 0.0017</td>\n",
       "      <td id=\"T_87cb0_row11_col3\" class=\"data row11 col3\" >0.9920 ± 0.0014</td>\n",
       "      <td id=\"T_87cb0_row11_col4\" class=\"data row11 col4\" >0.9714 ± 0.0009</td>\n",
       "      <td id=\"T_87cb0_row11_col5\" class=\"data row11 col5\" >0.9708 ± 0.0010</td>\n",
       "    </tr>\n",
       "    <tr>\n",
       "      <th id=\"T_87cb0_level0_row12\" class=\"row_heading level0 row12\" >12</th>\n",
       "      <td id=\"T_87cb0_row12_col0\" class=\"data row12 col0\" >Bagging Decision Tree DB</td>\n",
       "      <td id=\"T_87cb0_row12_col1\" class=\"data row12 col1\" >0.9852 ± 0.0000</td>\n",
       "      <td id=\"T_87cb0_row12_col2\" class=\"data row12 col2\" >0.9801 ± 0.0000</td>\n",
       "      <td id=\"T_87cb0_row12_col3\" class=\"data row12 col3\" >0.9906 ± 0.0000</td>\n",
       "      <td id=\"T_87cb0_row12_col4\" class=\"data row12 col4\" >0.9853 ± 0.0000</td>\n",
       "      <td id=\"T_87cb0_row12_col5\" class=\"data row12 col5\" >0.9852 ± 0.0000</td>\n",
       "    </tr>\n",
       "    <tr>\n",
       "      <th id=\"T_87cb0_level0_row13\" class=\"row_heading level0 row13\" >13</th>\n",
       "      <td id=\"T_87cb0_row13_col0\" class=\"data row13 col0\" >Bagging Naive Bayes DB</td>\n",
       "      <td id=\"T_87cb0_row13_col1\" class=\"data row13 col1\" >0.7308 ± 0.0000</td>\n",
       "      <td id=\"T_87cb0_row13_col2\" class=\"data row13 col2\" >0.7254 ± 0.0000</td>\n",
       "      <td id=\"T_87cb0_row13_col3\" class=\"data row13 col3\" >0.7428 ± 0.0000</td>\n",
       "      <td id=\"T_87cb0_row13_col4\" class=\"data row13 col4\" >0.7340 ± 0.0000</td>\n",
       "      <td id=\"T_87cb0_row13_col5\" class=\"data row13 col5\" >0.7308 ± 0.0000</td>\n",
       "    </tr>\n",
       "    <tr>\n",
       "      <th id=\"T_87cb0_level0_row14\" class=\"row_heading level0 row14\" >14</th>\n",
       "      <td id=\"T_87cb0_row14_col0\" class=\"data row14 col0\" >Bagging MLP DB</td>\n",
       "      <td id=\"T_87cb0_row14_col1\" class=\"data row14 col1\" >0.9441 ± 0.0000</td>\n",
       "      <td id=\"T_87cb0_row14_col2\" class=\"data row14 col2\" >0.9424 ± 0.0000</td>\n",
       "      <td id=\"T_87cb0_row14_col3\" class=\"data row14 col3\" >0.9462 ± 0.0000</td>\n",
       "      <td id=\"T_87cb0_row14_col4\" class=\"data row14 col4\" >0.9443 ± 0.0000</td>\n",
       "      <td id=\"T_87cb0_row14_col5\" class=\"data row14 col5\" >0.9441 ± 0.0000</td>\n",
       "    </tr>\n",
       "    <tr>\n",
       "      <th id=\"T_87cb0_level0_row15\" class=\"row_heading level0 row15\" >15</th>\n",
       "      <td id=\"T_87cb0_row15_col0\" class=\"data row15 col0\" >Bagging KNN DB</td>\n",
       "      <td id=\"T_87cb0_row15_col1\" class=\"data row15 col1\" >0.9713 ± 0.0000</td>\n",
       "      <td id=\"T_87cb0_row15_col2\" class=\"data row15 col2\" >0.9511 ± 0.0000</td>\n",
       "      <td id=\"T_87cb0_row15_col3\" class=\"data row15 col3\" >0.9936 ± 0.0000</td>\n",
       "      <td id=\"T_87cb0_row15_col4\" class=\"data row15 col4\" >0.9719 ± 0.0000</td>\n",
       "      <td id=\"T_87cb0_row15_col5\" class=\"data row15 col5\" >0.9713 ± 0.0000</td>\n",
       "    </tr>\n",
       "  </tbody>\n",
       "</table>\n"
      ],
      "text/plain": [
       "<pandas.io.formats.style.Styler at 0x1f55028db10>"
      ]
     },
     "execution_count": 105,
     "metadata": {},
     "output_type": "execute_result"
    }
   ],
   "source": [
    "import pandas as pd\n",
    "\n",
    "# Definir os modelos\n",
    "Modelos = ['Decision Tree DD', 'Naive Bayes DD', 'MLP DD', 'KNN DD',\n",
    "            'Bagging Decision Tree DD', 'Bagging Naive Bayes DD', 'Bagging MLP DD', 'Bagging KNN DD',\n",
    "              'Decision Tree DB', 'Naive Bayes DB', 'MLP DB', 'KNN DB', \n",
    "              'Bagging Decision Tree DB', 'Bagging Naive Bayes DB', 'Bagging MLP DB', 'Bagging KNN DB']\n",
    "\n",
    "\n",
    "AcurracyAll = Acurracy + AcurracyBagging + AcurracyPosBal + AcurracyBaggingPosBal\n",
    "PrecisionAll = Precision + PrecisionBagging + PrecisionPosBal + PrecisionBaggingPosBal\n",
    "RecallAll = Recall + RecallBagging + RecallPosBal + RecallBaggingPosBal\n",
    "F1_scoreAll = F1_score + F1Bagging + F1_scorePosBal + F1BaggingPosBal\n",
    "Roc_aucAll = Roc_auc + Roc_aucBagging + Roc_aucPosBal + Roc_aucBaggingPosBal\n",
    "AcurracyDPAll = AcurracyDP + [0,0,0,0] + AcurracyDPPosBal + [0,0,0,0]\n",
    "PrecisionDPAll = PrecisionDP + [0,0,0,0] + PrecisionDPPosBal + [0,0,0,0] \n",
    "RecallDPAll = RecallDP + [0,0,0,0] + RecallDPPosBal + [0,0,0,0]\n",
    "F1_scoreDPAll = F1_scoreDP + [0,0,0,0] + F1_scoreDPPosBal + [0,0,0,0]\n",
    "Roc_aucDPAll = Roc_aucDP + [0,0,0,0] + Roc_aucDPPosBal + [0,0,0,0]\n",
    "\n",
    "# print(len(AcurracyAll), len(PrecisionAll), len(RecallAll), len(F1_scoreAll), len(Roc_aucAll), len(AcurracyDPAll), \n",
    "#       len(PrecisionDPAll), len(RecallDPAll), len(F1_scoreDPAll), len(Roc_aucDPAll))\n",
    "\n",
    "\n",
    "# Criar um DataFrame do Pandas com os valores das variáveis\n",
    "df = pd.DataFrame({\n",
    "    'Modelos': Modelos,\n",
    "    'Acuracia': [f\"{media:.4f} ± {dp:.4f}\" for media, dp in zip(AcurracyAll, AcurracyDPAll)],\n",
    "    'Precisão': [f\"{media:.4f} ± {dp:.4f}\" for media, dp in zip(PrecisionAll, PrecisionDPAll)],\n",
    "    'Recall': [f\"{media:.4f} ± {dp:.4f}\" for media, dp in zip(RecallAll, RecallDPAll)],\n",
    "    'F1 Score': [f\"{media:.4f} ± {dp:.4f}\" for media, dp in zip(F1_scoreAll, F1_scoreDPAll)],\n",
    "    'AUC RoC': [f\"{media:.4f} ± {dp:.4f}\" for media, dp in zip(Roc_aucAll, Roc_aucDPAll)]\n",
    "})\n",
    "\n",
    "# Aplicar a função de destaque apenas para as colunas numéricas\n",
    "numeric_columns = df.columns[1:]\n",
    "highlight_colors = ['green', 'blue', 'red']\n",
    "def highlight_top_n_with_colors(s, n=3, colors=highlight_colors):\n",
    "    sorted_index = np.argsort(s.values)[::-1]\n",
    "    top_n_index = sorted_index[:n]    \n",
    "    return [f'background-color: {colors[np.where(top_n_index == index)[0][0]]}' if index in top_n_index else '' for index in s.index]\n",
    "\n",
    "styled_df = df.style.apply(highlight_top_n_with_colors, subset=numeric_columns)\n",
    "\n",
    "# Definir a cor do texto para a tabela\n",
    "styled_df.set_properties(**{'color': 'white'}, subset=pd.IndexSlice[:, :])\n",
    "\n",
    "# Exibir o DataFrame estilizado no Jupyter Notebook\n",
    "styled_df"
   ]
  }
 ],
 "metadata": {
  "kernelspec": {
   "display_name": "Python 3",
   "language": "python",
   "name": "python3"
  },
  "language_info": {
   "codemirror_mode": {
    "name": "ipython",
    "version": 3
   },
   "file_extension": ".py",
   "mimetype": "text/x-python",
   "name": "python",
   "nbconvert_exporter": "python",
   "pygments_lexer": "ipython3",
   "version": "3.11.4"
  }
 },
 "nbformat": 4,
 "nbformat_minor": 2
}
