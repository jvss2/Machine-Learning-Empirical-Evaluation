{
 "cells": [
  {
   "cell_type": "markdown",
   "metadata": {},
   "source": [
    "### Libs "
   ]
  },
  {
   "cell_type": "code",
   "execution_count": 1,
   "metadata": {},
   "outputs": [],
   "source": [
    "import numpy as np\n",
    "import matplotlib.pyplot as plt\n",
    "from sklearn.ensemble import RandomForestClassifier\n",
    "from imblearn.over_sampling import SMOTE\n",
    "from sklearn.model_selection import train_test_split, KFold\n",
    "import sys\n",
    "from os import listdir\n",
    "from os.path import isfile, join\n",
    "import pandas as pd\n",
    "from sklearn.tree import DecisionTreeClassifier\n",
    "from sklearn.metrics import accuracy_score\n",
    "from sklearn.naive_bayes import BernoulliNB, GaussianNB\n",
    "from sklearn.neural_network import MLPClassifier\n",
    "from sklearn.svm import SVC\n",
    "from sklearn.neighbors import KNeighborsClassifier\n",
    "from sklearn.ensemble import BaggingClassifier\n",
    "from sklearn.datasets import make_classification\n",
    "from sklearn.metrics import accuracy_score, precision_score, recall_score, f1_score, confusion_matrix, roc_auc_score\n",
    "from sklearn.tree import DecisionTreeClassifier\n",
    "from sklearn.ensemble import BaggingClassifier\n",
    "from sklearn.metrics import accuracy_score, precision_score, recall_score, f1_score, roc_auc_score, confusion_matrix\n",
    "from tabulate import tabulate\n",
    "from tqdm import tqdm\n",
    "from sklearn.ensemble import RandomForestClassifier\n",
    "from sklearn.metrics import accuracy_score, classification_report, confusion_matrix\n",
    "import matplotlib.pyplot as plt\n",
    "import seaborn as sns\n",
    "from sklearn.ensemble import GradientBoostingClassifier\n"
   ]
  },
  {
   "cell_type": "markdown",
   "metadata": {},
   "source": [
    "### Dados"
   ]
  },
  {
   "cell_type": "markdown",
   "metadata": {},
   "source": [
    "#### features extraction"
   ]
  },
  {
   "cell_type": "code",
   "execution_count": 2,
   "metadata": {},
   "outputs": [],
   "source": [
    "FEATURES_SET = {\n",
    "    \"feature\": 1,\n",
    "    \"permission\": 2,\n",
    "    \"activity\": 3,\n",
    "    \"service_receiver\": 3,\n",
    "    \"provider\": 3,\n",
    "    \"service\": 3,\n",
    "    \"intent\": 4,\n",
    "    \"api_call\": 5,\n",
    "    \"real_permission\": 6,\n",
    "    \"call\": 7,\n",
    "    \"url\": 8\n",
    "}\n",
    "\n",
    "\n",
    "def count_feature_set(lines):\n",
    "    \"\"\"\n",
    "    Count how many features belong to a specific set\n",
    "    :param lines: features in the text file\n",
    "    :return:\n",
    "    \"\"\"\n",
    "    features_map = {x: 0 for x in range(1, 9)}\n",
    "    for l in lines:\n",
    "        if l != \"\\n\":\n",
    "            set = l.split(\"::\")[0]\n",
    "            features_map[FEATURES_SET[set]] += 1\n",
    "    features = []\n",
    "    for i in range(1, 9):\n",
    "        features.append(features_map[i])\n",
    "    return features\n"
   ]
  },
  {
   "cell_type": "code",
   "execution_count": 3,
   "metadata": {},
   "outputs": [
    {
     "name": "stdout",
     "output_type": "stream",
     "text": [
      "Previous data not loaded. Attempt to read data ...\n",
      "Reading csv file for ground truth ...\n",
      "Reading positive and negative texts ...\n"
     ]
    },
    {
     "name": "stderr",
     "output_type": "stream",
     "text": [
      "100%|██████████| 129013/129013 [00:01<00:00, 69773.39it/s]\n"
     ]
    },
    {
     "name": "stdout",
     "output_type": "stream",
     "text": [
      "Extracting features ...\n"
     ]
    },
    {
     "name": "stderr",
     "output_type": "stream",
     "text": [
      "100%|██████████| 5560/5560 [00:22<00:00, 245.77it/s]\n",
      "100%|██████████| 123453/123453 [10:18<00:00, 199.55it/s]"
     ]
    },
    {
     "name": "stdout",
     "output_type": "stream",
     "text": [
      "Data is read successfully:\n",
      "(129013, 8) (129013,)\n",
      "Saving data under data_numpy directory ...\n"
     ]
    },
    {
     "name": "stderr",
     "output_type": "stream",
     "text": [
      "\n"
     ]
    }
   ],
   "source": [
    "def read(LOAD_DATA=False):\n",
    "    if LOAD_DATA:\n",
    "        print(\"Previous data not loaded. Attempt to read data ...\")\n",
    "        mypath = r\"C:\\Users\\josev\\Desktop\\ProjetoPessoalNN\\GeorgeDarminton\\Drebin\\MetaData\\feature_vectors\\feature_vectors\"\n",
    "        onlyfiles = [f for f in listdir(mypath) if isfile(join(mypath, f))]\n",
    "\n",
    "        print(\"Reading csv file for ground truth ...\")\n",
    "        ground_truth = np.loadtxt(r\"C:\\Users\\josev\\Desktop\\ProjetoPessoalNN\\GeorgeDarminton\\Drebin\\MetaData\\sha256_family.csv\", delimiter=\",\", skiprows=1, dtype=str)\n",
    "        # print ground_truth.shape\n",
    "        # families = np.unique(ground_truth[:, 1])\n",
    "        # print families\n",
    "        # print len(families)\n",
    "\n",
    "        print(\"Reading positive and negative texts ...\")\n",
    "        pos = []\n",
    "        neg = []\n",
    "        for virus in tqdm(onlyfiles):\n",
    "            if virus in ground_truth[:, 0]:\n",
    "                pos.append(virus)\n",
    "            else:\n",
    "                #if len(neg) < 5560:\n",
    "                #if len(neg) < 22240:\n",
    "                    neg.append(virus)\n",
    "\n",
    "        print(\"Extracting features ...\")\n",
    "        x = []\n",
    "        y = []\n",
    "        for text_file in tqdm(pos):\n",
    "            sys.stdin = open(\"%s/%s\" % (mypath, text_file))\n",
    "            features = sys.stdin.readlines()\n",
    "            sample = count_feature_set(features)\n",
    "            x.append(sample)\n",
    "            y.append(1)\n",
    "\n",
    "        for text_file in tqdm(neg):\n",
    "            sys.stdin = open(\"%s/%s\" % (mypath, text_file))\n",
    "            features = sys.stdin.readlines()\n",
    "            sample = count_feature_set(features)\n",
    "            x.append(sample)\n",
    "            y.append(0)\n",
    "\n",
    "        print(\"Data is read successfully:\")\n",
    "        x = np.array(x)\n",
    "        y = np.array(y)\n",
    "        print(x.shape, y.shape)\n",
    "\n",
    "        print(\"Saving data under data_numpy directory ...\")\n",
    "        np.save(r\"C:\\Users\\josev\\Desktop\\ProjetoPessoalNN\\GeorgeDarminton/x_all.npy\", x)\n",
    "        np.save(r\"C:\\Users\\josev\\Desktop\\ProjetoPessoalNN\\GeorgeDarminton/y_all.npy\", y)\n",
    "\n",
    "        return x, y\n",
    "    else:\n",
    "        print(\"Loading previous data ...\")\n",
    "        x_ = np.load(r\"C:\\Users\\josev\\Desktop\\ProjetoPessoalNN\\GeorgeDarminton/x_all.npy\")\n",
    "        y_ = np.load(r\"C:\\Users\\josev\\Desktop\\ProjetoPessoalNN\\GeorgeDarminton/y_all.npy\")\n",
    "        print(x_.shape, y_.shape)\n",
    "        # print x == x_, y == y_\n",
    "        return x_, y_\n",
    "\n",
    "\n",
    "def map_family_to_category(families):\n",
    "    out = {}\n",
    "    count = 1\n",
    "    for family in families:\n",
    "        out[family] = count\n",
    "        count += 1\n",
    "    return out\n",
    "\n",
    "\n",
    "if __name__ == \"__main__\":\n",
    "    x, y = read(LOAD_DATA=True)"
   ]
  },
  {
   "cell_type": "code",
   "execution_count": 4,
   "metadata": {},
   "outputs": [
    {
     "name": "stdout",
     "output_type": "stream",
     "text": [
      "Loading previous data ...\n",
      "(129013, 8) (129013,)\n",
      "(103210, 8) (103210,)\n",
      "(25803, 8) (25803,)\n"
     ]
    }
   ],
   "source": [
    "x_all, y_all = read(LOAD_DATA=False)\n",
    "x_train, x_test, y_train, y_test = train_test_split(x_all, y_all, test_size=0.2, stratify=y_all)\n",
    "print(x_train.shape, y_train.shape)\n",
    "print(x_test.shape, y_test.shape)"
   ]
  },
  {
   "cell_type": "markdown",
   "metadata": {},
   "source": [
    "#### initialization of results vectors"
   ]
  },
  {
   "cell_type": "code",
   "execution_count": 5,
   "metadata": {},
   "outputs": [],
   "source": [
    "# # Contagem de classes antes da divisão\n",
    "# y_all_counts = pd.Series(y_all).value_counts(normalize=True)\n",
    "\n",
    "# # Divisão dos dados em treinamento e teste\n",
    "# x_train, x_test, y_train, y_test = train_test_split(x_all, y_all, test_size=0.2, random_state=42, stratify=y_all)\n",
    "\n",
    "# # Contagem de classes após a divisão\n",
    "# y_train_counts = pd.Series(y_train).value_counts(normalize=True)\n",
    "# y_test_counts = pd.Series(y_test).value_counts(normalize=True)\n",
    "\n",
    "# # Verificação se as proporções foram mantidas\n",
    "# print(\"Proporções das classes no conjunto original:\")\n",
    "# print(y_all_counts)\n",
    "# print(\"\\nProporções das classes no conjunto de treinamento:\")\n",
    "# print(y_train_counts)\n",
    "# print(\"\\nProporções das classes no conjunto de teste:\")\n",
    "# print(y_test_counts)"
   ]
  },
  {
   "cell_type": "code",
   "execution_count": 6,
   "metadata": {},
   "outputs": [],
   "source": [
    "####### DP = Desvio Padrão; PosBal = Pos Balanceamento\n",
    "Acurracy = []\n",
    "Precision = []\n",
    "Recall = []\n",
    "F1_score = []\n",
    "Roc_auc = []\n",
    "######\n",
    "AcurracyDP = []\n",
    "PrecisionDP = []\n",
    "RecallDP = []\n",
    "F1_scoreDP = []\n",
    "Roc_aucDP = []\n",
    "#########################################\n",
    "AcurracyBagging = []\n",
    "PrecisionBagging = []\n",
    "RecallBagging = []\n",
    "F1Bagging = []\n",
    "Roc_aucBagging = []\n",
    "######\n",
    "AcurracyBaggingDP = []\n",
    "PrecisionBaggingDP = []\n",
    "RecallBaggingDP = []\n",
    "F1BaggingDP = []\n",
    "Roc_aucBaggingDP = []\n",
    "########################################\n",
    "AcurracyEnsemble = []\n",
    "PrecisionEnsemble = []\n",
    "RecallEnsemble = []\n",
    "F1Ensemble = []\n",
    "Roc_aucEnsemble = []\n",
    "######\n",
    "AcurracyEnsembleDP = []\n",
    "PrecisionEnsembleDP = []\n",
    "RecallEnsembleDP = []\n",
    "F1EnsembleDP = []\n",
    "Roc_aucEnsembleDP = []\n",
    "###########################################\n",
    "AcurracyPosBal = []\n",
    "PrecisionPosBal = []\n",
    "RecallPosBal = []\n",
    "F1_scorePosBal = []\n",
    "Roc_aucPosBal = []\n",
    "######\n",
    "AcurracyDPPosBal = []\n",
    "PrecisionDPPosBal = []\n",
    "RecallDPPosBal = []\n",
    "F1_scoreDPPosBal = []\n",
    "Roc_aucDPPosBal = []\n",
    "######\n",
    "AcurracyBaggingPosBal = []\n",
    "PrecisionBaggingPosBal = []\n",
    "RecallBaggingPosBal = []\n",
    "F1BaggingPosBal = []\n",
    "Roc_aucBaggingPosBal = []\n",
    "######\n",
    "AcurracyBaggingDPPosBal = []\n",
    "PrecisionBaggingDPPosBal = []\n",
    "RecallBaggingDPPosBal = []\n",
    "F1BaggingDPPosBal = []\n",
    "Roc_aucBaggingDPPosBal = []"
   ]
  },
  {
   "cell_type": "markdown",
   "metadata": {},
   "source": [
    "### Modelos Base"
   ]
  },
  {
   "cell_type": "markdown",
   "metadata": {},
   "source": [
    "#### Decision Tree (DT1)"
   ]
  },
  {
   "cell_type": "code",
   "execution_count": 7,
   "metadata": {},
   "outputs": [
    {
     "name": "stderr",
     "output_type": "stream",
     "text": [
      "  3%|▎         | 1/30 [00:00<00:07,  3.99it/s]"
     ]
    },
    {
     "name": "stdout",
     "output_type": "stream",
     "text": [
      "Repetição 1 - Acurácia: 0.98, Precisão: 0.74, Recall: 0.83, F1-score: 0.78, ROC AUC: 0.91\n"
     ]
    },
    {
     "name": "stderr",
     "output_type": "stream",
     "text": [
      "  7%|▋         | 2/30 [00:00<00:07,  4.00it/s]"
     ]
    },
    {
     "name": "stdout",
     "output_type": "stream",
     "text": [
      "Repetição 2 - Acurácia: 0.98, Precisão: 0.77, Recall: 0.85, F1-score: 0.81, ROC AUC: 0.92\n"
     ]
    },
    {
     "name": "stderr",
     "output_type": "stream",
     "text": [
      " 10%|█         | 3/30 [00:00<00:06,  4.03it/s]"
     ]
    },
    {
     "name": "stdout",
     "output_type": "stream",
     "text": [
      "Repetição 3 - Acurácia: 0.98, Precisão: 0.78, Recall: 0.80, F1-score: 0.79, ROC AUC: 0.90\n"
     ]
    },
    {
     "name": "stderr",
     "output_type": "stream",
     "text": [
      " 13%|█▎        | 4/30 [00:00<00:06,  4.04it/s]"
     ]
    },
    {
     "name": "stdout",
     "output_type": "stream",
     "text": [
      "Repetição 4 - Acurácia: 0.98, Precisão: 0.75, Recall: 0.82, F1-score: 0.78, ROC AUC: 0.90\n"
     ]
    },
    {
     "name": "stderr",
     "output_type": "stream",
     "text": [
      " 17%|█▋        | 5/30 [00:01<00:06,  4.01it/s]"
     ]
    },
    {
     "name": "stdout",
     "output_type": "stream",
     "text": [
      "Repetição 5 - Acurácia: 0.98, Precisão: 0.77, Recall: 0.80, F1-score: 0.78, ROC AUC: 0.89\n"
     ]
    },
    {
     "name": "stderr",
     "output_type": "stream",
     "text": [
      " 20%|██        | 6/30 [00:01<00:06,  3.92it/s]"
     ]
    },
    {
     "name": "stdout",
     "output_type": "stream",
     "text": [
      "Repetição 6 - Acurácia: 0.98, Precisão: 0.78, Recall: 0.84, F1-score: 0.81, ROC AUC: 0.91\n"
     ]
    },
    {
     "name": "stderr",
     "output_type": "stream",
     "text": [
      " 23%|██▎       | 7/30 [00:01<00:05,  3.93it/s]"
     ]
    },
    {
     "name": "stdout",
     "output_type": "stream",
     "text": [
      "Repetição 7 - Acurácia: 0.98, Precisão: 0.76, Recall: 0.82, F1-score: 0.79, ROC AUC: 0.91\n"
     ]
    },
    {
     "name": "stderr",
     "output_type": "stream",
     "text": [
      " 27%|██▋       | 8/30 [00:02<00:05,  3.93it/s]"
     ]
    },
    {
     "name": "stdout",
     "output_type": "stream",
     "text": [
      "Repetição 8 - Acurácia: 0.98, Precisão: 0.78, Recall: 0.82, F1-score: 0.80, ROC AUC: 0.90\n"
     ]
    },
    {
     "name": "stderr",
     "output_type": "stream",
     "text": [
      " 30%|███       | 9/30 [00:02<00:05,  3.94it/s]"
     ]
    },
    {
     "name": "stdout",
     "output_type": "stream",
     "text": [
      "Repetição 9 - Acurácia: 0.98, Precisão: 0.76, Recall: 0.82, F1-score: 0.79, ROC AUC: 0.90\n"
     ]
    },
    {
     "name": "stderr",
     "output_type": "stream",
     "text": [
      " 33%|███▎      | 10/30 [00:02<00:05,  4.00it/s]"
     ]
    },
    {
     "name": "stdout",
     "output_type": "stream",
     "text": [
      "Repetição 10 - Acurácia: 0.98, Precisão: 0.78, Recall: 0.83, F1-score: 0.80, ROC AUC: 0.91\n"
     ]
    },
    {
     "name": "stderr",
     "output_type": "stream",
     "text": [
      " 37%|███▋      | 11/30 [00:02<00:04,  4.03it/s]"
     ]
    },
    {
     "name": "stdout",
     "output_type": "stream",
     "text": [
      "Repetição 11 - Acurácia: 0.98, Precisão: 0.78, Recall: 0.83, F1-score: 0.80, ROC AUC: 0.91\n"
     ]
    },
    {
     "name": "stderr",
     "output_type": "stream",
     "text": [
      " 40%|████      | 12/30 [00:02<00:04,  4.06it/s]"
     ]
    },
    {
     "name": "stdout",
     "output_type": "stream",
     "text": [
      "Repetição 12 - Acurácia: 0.98, Precisão: 0.77, Recall: 0.83, F1-score: 0.80, ROC AUC: 0.91\n"
     ]
    },
    {
     "name": "stderr",
     "output_type": "stream",
     "text": [
      " 43%|████▎     | 13/30 [00:03<00:04,  4.04it/s]"
     ]
    },
    {
     "name": "stdout",
     "output_type": "stream",
     "text": [
      "Repetição 13 - Acurácia: 0.98, Precisão: 0.76, Recall: 0.81, F1-score: 0.78, ROC AUC: 0.90\n"
     ]
    },
    {
     "name": "stderr",
     "output_type": "stream",
     "text": [
      " 47%|████▋     | 14/30 [00:03<00:04,  3.99it/s]"
     ]
    },
    {
     "name": "stdout",
     "output_type": "stream",
     "text": [
      "Repetição 14 - Acurácia: 0.98, Precisão: 0.78, Recall: 0.79, F1-score: 0.79, ROC AUC: 0.89\n"
     ]
    },
    {
     "name": "stderr",
     "output_type": "stream",
     "text": [
      " 50%|█████     | 15/30 [00:03<00:03,  3.99it/s]"
     ]
    },
    {
     "name": "stdout",
     "output_type": "stream",
     "text": [
      "Repetição 15 - Acurácia: 0.98, Precisão: 0.78, Recall: 0.81, F1-score: 0.80, ROC AUC: 0.90\n"
     ]
    },
    {
     "name": "stderr",
     "output_type": "stream",
     "text": [
      " 53%|█████▎    | 16/30 [00:04<00:03,  4.02it/s]"
     ]
    },
    {
     "name": "stdout",
     "output_type": "stream",
     "text": [
      "Repetição 16 - Acurácia: 0.98, Precisão: 0.78, Recall: 0.80, F1-score: 0.79, ROC AUC: 0.90\n"
     ]
    },
    {
     "name": "stderr",
     "output_type": "stream",
     "text": [
      " 57%|█████▋    | 17/30 [00:04<00:03,  4.05it/s]"
     ]
    },
    {
     "name": "stdout",
     "output_type": "stream",
     "text": [
      "Repetição 17 - Acurácia: 0.98, Precisão: 0.76, Recall: 0.81, F1-score: 0.79, ROC AUC: 0.90\n"
     ]
    },
    {
     "name": "stderr",
     "output_type": "stream",
     "text": [
      " 60%|██████    | 18/30 [00:04<00:02,  4.07it/s]"
     ]
    },
    {
     "name": "stdout",
     "output_type": "stream",
     "text": [
      "Repetição 18 - Acurácia: 0.98, Precisão: 0.77, Recall: 0.82, F1-score: 0.79, ROC AUC: 0.91\n"
     ]
    },
    {
     "name": "stderr",
     "output_type": "stream",
     "text": [
      " 63%|██████▎   | 19/30 [00:04<00:02,  4.05it/s]"
     ]
    },
    {
     "name": "stdout",
     "output_type": "stream",
     "text": [
      "Repetição 19 - Acurácia: 0.98, Precisão: 0.78, Recall: 0.82, F1-score: 0.80, ROC AUC: 0.91\n"
     ]
    },
    {
     "name": "stderr",
     "output_type": "stream",
     "text": [
      " 67%|██████▋   | 20/30 [00:04<00:02,  4.09it/s]"
     ]
    },
    {
     "name": "stdout",
     "output_type": "stream",
     "text": [
      "Repetição 20 - Acurácia: 0.98, Precisão: 0.77, Recall: 0.83, F1-score: 0.80, ROC AUC: 0.91\n"
     ]
    },
    {
     "name": "stderr",
     "output_type": "stream",
     "text": [
      " 70%|███████   | 21/30 [00:05<00:02,  4.10it/s]"
     ]
    },
    {
     "name": "stdout",
     "output_type": "stream",
     "text": [
      "Repetição 21 - Acurácia: 0.98, Precisão: 0.79, Recall: 0.82, F1-score: 0.80, ROC AUC: 0.90\n"
     ]
    },
    {
     "name": "stderr",
     "output_type": "stream",
     "text": [
      " 73%|███████▎  | 22/30 [00:05<00:01,  4.07it/s]"
     ]
    },
    {
     "name": "stdout",
     "output_type": "stream",
     "text": [
      "Repetição 22 - Acurácia: 0.98, Precisão: 0.76, Recall: 0.85, F1-score: 0.80, ROC AUC: 0.92\n"
     ]
    },
    {
     "name": "stderr",
     "output_type": "stream",
     "text": [
      " 77%|███████▋  | 23/30 [00:05<00:01,  4.05it/s]"
     ]
    },
    {
     "name": "stdout",
     "output_type": "stream",
     "text": [
      "Repetição 23 - Acurácia: 0.98, Precisão: 0.75, Recall: 0.82, F1-score: 0.78, ROC AUC: 0.90\n"
     ]
    },
    {
     "name": "stderr",
     "output_type": "stream",
     "text": [
      " 80%|████████  | 24/30 [00:05<00:01,  4.04it/s]"
     ]
    },
    {
     "name": "stdout",
     "output_type": "stream",
     "text": [
      "Repetição 24 - Acurácia: 0.98, Precisão: 0.78, Recall: 0.82, F1-score: 0.80, ROC AUC: 0.90\n"
     ]
    },
    {
     "name": "stderr",
     "output_type": "stream",
     "text": [
      " 83%|████████▎ | 25/30 [00:06<00:01,  4.01it/s]"
     ]
    },
    {
     "name": "stdout",
     "output_type": "stream",
     "text": [
      "Repetição 25 - Acurácia: 0.98, Precisão: 0.77, Recall: 0.84, F1-score: 0.80, ROC AUC: 0.92\n"
     ]
    },
    {
     "name": "stderr",
     "output_type": "stream",
     "text": [
      " 87%|████████▋ | 26/30 [00:06<00:00,  4.05it/s]"
     ]
    },
    {
     "name": "stdout",
     "output_type": "stream",
     "text": [
      "Repetição 26 - Acurácia: 0.98, Precisão: 0.76, Recall: 0.83, F1-score: 0.79, ROC AUC: 0.91\n"
     ]
    },
    {
     "name": "stderr",
     "output_type": "stream",
     "text": [
      " 90%|█████████ | 27/30 [00:06<00:00,  4.04it/s]"
     ]
    },
    {
     "name": "stdout",
     "output_type": "stream",
     "text": [
      "Repetição 27 - Acurácia: 0.98, Precisão: 0.74, Recall: 0.83, F1-score: 0.78, ROC AUC: 0.91\n"
     ]
    },
    {
     "name": "stderr",
     "output_type": "stream",
     "text": [
      " 93%|█████████▎| 28/30 [00:06<00:00,  4.07it/s]"
     ]
    },
    {
     "name": "stdout",
     "output_type": "stream",
     "text": [
      "Repetição 28 - Acurácia: 0.98, Precisão: 0.78, Recall: 0.81, F1-score: 0.80, ROC AUC: 0.90\n"
     ]
    },
    {
     "name": "stderr",
     "output_type": "stream",
     "text": [
      " 97%|█████████▋| 29/30 [00:07<00:00,  4.05it/s]"
     ]
    },
    {
     "name": "stdout",
     "output_type": "stream",
     "text": [
      "Repetição 29 - Acurácia: 0.98, Precisão: 0.79, Recall: 0.81, F1-score: 0.80, ROC AUC: 0.90\n"
     ]
    },
    {
     "name": "stderr",
     "output_type": "stream",
     "text": [
      "100%|██████████| 30/30 [00:07<00:00,  4.02it/s]"
     ]
    },
    {
     "name": "stdout",
     "output_type": "stream",
     "text": [
      "Repetição 30 - Acurácia: 0.98, Precisão: 0.76, Recall: 0.83, F1-score: 0.80, ROC AUC: 0.91\n",
      "Média das Acurácias: 0.98165 ± 0.00075\n",
      "Média das Precisões: 0.76891 ± 0.01246\n",
      "Média dos Recalls: 0.82155 ± 0.01335\n",
      "Média dos F1-scores: 0.79423 ± 0.00781\n",
      "Média dos ROC AUC: 0.90521 ± 0.00649\n"
     ]
    },
    {
     "name": "stderr",
     "output_type": "stream",
     "text": [
      "\n"
     ]
    }
   ],
   "source": [
    "num_repeticoes = 30\n",
    "\n",
    "# Listas para armazenar as métricas\n",
    "acuracias = []\n",
    "precisoes = []\n",
    "recalls = []\n",
    "f1_scores = []\n",
    "roc_auc_scores = []\n",
    "\n",
    "# Loop para repetir o processo\n",
    "for i in tqdm(range(num_repeticoes)):\n",
    "\n",
    "    x_train, x_test, y_train, y_test = train_test_split(x_all, y_all, test_size=0.2, stratify=y_all)\n",
    "\n",
    "    # Inicializar o modelo de árvore de decisão com Gini Impurity e sem limitação de altura\n",
    "    dt1 = DecisionTreeClassifier(criterion='gini')\n",
    "\n",
    "    # Treinar o modelo no conjunto de treino\n",
    "    dt1.fit(x_train, y_train)\n",
    "\n",
    "    # Fazer previsões no conjunto de teste\n",
    "    previsoes = dt1.predict(x_test)\n",
    "\n",
    "    # Avaliar as métricas do modelo e armazenar na lista\n",
    "    acuracia = accuracy_score(y_test, previsoes)\n",
    "    precisao = precision_score(y_test, previsoes)\n",
    "    recall = recall_score(y_test, previsoes)\n",
    "    f1 = f1_score(y_test, previsoes)\n",
    "    roc_auc = roc_auc_score(y_test, previsoes)\n",
    "    \n",
    "    acuracias.append(acuracia)\n",
    "    precisoes.append(precisao)\n",
    "    recalls.append(recall)\n",
    "    f1_scores.append(f1)\n",
    "    roc_auc_scores.append(roc_auc)\n",
    "\n",
    "    print(f'Repetição {i+1} - Acurácia: {acuracia:.2f}, Precisão: {precisao:.2f}, Recall: {recall:.2f}, F1-score: {f1:.2f}, ROC AUC: {roc_auc:.2f}')\n",
    "\n",
    "# Calcular as médias das métricas\n",
    "media_acuracias = np.mean(acuracias)\n",
    "media_precisoes = np.mean(precisoes)\n",
    "media_recalls = np.mean(recalls)\n",
    "media_f1_scores = np.mean(f1_scores)\n",
    "media_roc_auc_scores = np.mean(roc_auc_scores)\n",
    "\n",
    "# Calcular os desvios padrão das métricas\n",
    "dp_acuracias = np.std(acuracias)\n",
    "dp_precisoes = np.std(precisoes)\n",
    "dp_recalls = np.std(recalls)\n",
    "dp_f1_scores = np.std(f1_scores)\n",
    "dp_roc_auc_scores = np.std(roc_auc_scores)\n",
    "\n",
    "# Adicionar as médias e desvios padrão às listas de métricas\n",
    "Acurracy.append(media_acuracias)\n",
    "Precision.append(media_precisoes)\n",
    "Recall.append(media_recalls)\n",
    "F1_score.append(media_f1_scores)\n",
    "Roc_auc.append(media_roc_auc_scores)\n",
    "\n",
    "AcurracyDP.append(dp_acuracias)\n",
    "PrecisionDP.append(dp_precisoes)\n",
    "RecallDP.append(dp_recalls)\n",
    "F1_scoreDP.append(dp_f1_scores)\n",
    "Roc_aucDP.append(dp_roc_auc_scores)\n",
    "\n",
    "print(f'Média das Acurácias: {media_acuracias:.5f} ± {dp_acuracias:.5f}')\n",
    "print(f'Média das Precisões: {media_precisoes:.5f} ± {dp_precisoes:.5f}')\n",
    "print(f'Média dos Recalls: {media_recalls:.5f} ± {dp_recalls:.5f}')\n",
    "print(f'Média dos F1-scores: {media_f1_scores:.5f} ± {dp_f1_scores:.5f}')\n",
    "print(f'Média dos ROC AUC: {media_roc_auc_scores:.5f} ± {dp_roc_auc_scores:.5f}')"
   ]
  },
  {
   "cell_type": "markdown",
   "metadata": {},
   "source": [
    "#### Naive Bayes (NB1)"
   ]
  },
  {
   "cell_type": "code",
   "execution_count": 8,
   "metadata": {},
   "outputs": [
    {
     "name": "stderr",
     "output_type": "stream",
     "text": [
      "  7%|▋         | 2/30 [00:00<00:01, 14.40it/s]"
     ]
    },
    {
     "name": "stdout",
     "output_type": "stream",
     "text": [
      "Repetição 1 - Acurácia: 0.92, Precisão: 0.26, Recall: 0.46, F1-score: 0.33, ROC AUC: 0.70\n",
      "Repetição 2 - Acurácia: 0.92, Precisão: 0.25, Recall: 0.47, F1-score: 0.33, ROC AUC: 0.70\n",
      "Repetição 3 - Acurácia: 0.92, Precisão: 0.25, Recall: 0.46, F1-score: 0.32, ROC AUC: 0.70\n"
     ]
    },
    {
     "name": "stderr",
     "output_type": "stream",
     "text": [
      " 13%|█▎        | 4/30 [00:00<00:01, 13.46it/s]"
     ]
    },
    {
     "name": "stdout",
     "output_type": "stream",
     "text": [
      "Repetição 4 - Acurácia: 0.92, Precisão: 0.25, Recall: 0.46, F1-score: 0.33, ROC AUC: 0.70\n",
      "Repetição 5 - Acurácia: 0.92, Precisão: 0.24, Recall: 0.45, F1-score: 0.31, ROC AUC: 0.69\n"
     ]
    },
    {
     "name": "stderr",
     "output_type": "stream",
     "text": [
      " 20%|██        | 6/30 [00:00<00:01, 13.89it/s]"
     ]
    },
    {
     "name": "stdout",
     "output_type": "stream",
     "text": [
      "Repetição 6 - Acurácia: 0.92, Precisão: 0.27, Recall: 0.47, F1-score: 0.35, ROC AUC: 0.71\n"
     ]
    },
    {
     "name": "stderr",
     "output_type": "stream",
     "text": [
      " 27%|██▋       | 8/30 [00:00<00:01, 14.30it/s]"
     ]
    },
    {
     "name": "stdout",
     "output_type": "stream",
     "text": [
      "Repetição 7 - Acurácia: 0.92, Precisão: 0.24, Recall: 0.46, F1-score: 0.32, ROC AUC: 0.70\n",
      "Repetição 8 - Acurácia: 0.92, Precisão: 0.26, Recall: 0.47, F1-score: 0.33, ROC AUC: 0.71\n",
      "Repetição 9 - Acurácia: 0.92, Precisão: 0.26, Recall: 0.47, F1-score: 0.33, ROC AUC: 0.70\n",
      "Repetição 10 - Acurácia: 0.92, Precisão: 0.25, Recall: 0.47, F1-score: 0.33, ROC AUC: 0.70"
     ]
    },
    {
     "name": "stderr",
     "output_type": "stream",
     "text": [
      " 40%|████      | 12/30 [00:00<00:01, 14.42it/s]"
     ]
    },
    {
     "name": "stdout",
     "output_type": "stream",
     "text": [
      "\n",
      "Repetição 11 - Acurácia: 0.92, Precisão: 0.26, Recall: 0.46, F1-score: 0.33, ROC AUC: 0.70\n",
      "Repetição 12 - Acurácia: 0.92, Precisão: 0.26, Recall: 0.46, F1-score: 0.34, ROC AUC: 0.70\n"
     ]
    },
    {
     "name": "stderr",
     "output_type": "stream",
     "text": [
      " 47%|████▋     | 14/30 [00:00<00:01, 14.31it/s]"
     ]
    },
    {
     "name": "stdout",
     "output_type": "stream",
     "text": [
      "Repetição 13 - Acurácia: 0.92, Precisão: 0.27, Recall: 0.46, F1-score: 0.34, ROC AUC: 0.70\n",
      "Repetição 14 - Acurácia: 0.92, Precisão: 0.25, Recall: 0.48, F1-score: 0.33, ROC AUC: 0.71\n",
      "Repetição 15 - Acurácia: 0.92, Precisão: 0.25, Recall: 0.46, F1-score: 0.32, ROC AUC: 0.70\n"
     ]
    },
    {
     "name": "stderr",
     "output_type": "stream",
     "text": [
      " 60%|██████    | 18/30 [00:01<00:00, 14.17it/s]"
     ]
    },
    {
     "name": "stdout",
     "output_type": "stream",
     "text": [
      "Repetição 16 - Acurácia: 0.92, Precisão: 0.25, Recall: 0.46, F1-score: 0.32, ROC AUC: 0.70\n",
      "Repetição 17 - Acurácia: 0.92, Precisão: 0.25, Recall: 0.45, F1-score: 0.33, ROC AUC: 0.70\n",
      "Repetição 18 - Acurácia: 0.92, Precisão: 0.25, Recall: 0.47, F1-score: 0.32, ROC AUC: 0.70\n"
     ]
    },
    {
     "name": "stderr",
     "output_type": "stream",
     "text": [
      " 67%|██████▋   | 20/30 [00:01<00:00, 14.11it/s]"
     ]
    },
    {
     "name": "stdout",
     "output_type": "stream",
     "text": [
      "Repetição 19 - Acurácia: 0.92, Precisão: 0.24, Recall: 0.44, F1-score: 0.31, ROC AUC: 0.69\n",
      "Repetição 20 - Acurácia: 0.92, Precisão: 0.27, Recall: 0.50, F1-score: 0.35, ROC AUC: 0.72\n",
      "Repetição 21 - Acurácia: 0.92, Precisão: 0.26, Recall: 0.42, F1-score: 0.32, ROC AUC: 0.69\n"
     ]
    },
    {
     "name": "stderr",
     "output_type": "stream",
     "text": [
      " 80%|████████  | 24/30 [00:01<00:00, 14.35it/s]"
     ]
    },
    {
     "name": "stdout",
     "output_type": "stream",
     "text": [
      "Repetição 22 - Acurácia: 0.92, Precisão: 0.25, Recall: 0.46, F1-score: 0.33, ROC AUC: 0.70\n",
      "Repetição 23 - Acurácia: 0.92, Precisão: 0.28, Recall: 0.47, F1-score: 0.35, ROC AUC: 0.71\n",
      "Repetição 24 - Acurácia: 0.92, Precisão: 0.25, Recall: 0.46, F1-score: 0.32, ROC AUC: 0.70\n",
      "Repetição 25 - Acurácia: 0.92, Precisão: 0.24, Recall: 0.44, F1-score: 0.31, ROC AUC: 0.69\n"
     ]
    },
    {
     "name": "stderr",
     "output_type": "stream",
     "text": [
      " 93%|█████████▎| 28/30 [00:01<00:00, 14.37it/s]"
     ]
    },
    {
     "name": "stdout",
     "output_type": "stream",
     "text": [
      "Repetição 26 - Acurácia: 0.92, Precisão: 0.27, Recall: 0.45, F1-score: 0.33, ROC AUC: 0.70\n",
      "Repetição 27 - Acurácia: 0.92, Precisão: 0.25, Recall: 0.47, F1-score: 0.33, ROC AUC: 0.70\n",
      "Repetição 28 - Acurácia: 0.92, Precisão: 0.25, Recall: 0.44, F1-score: 0.32, ROC AUC: 0.69\n"
     ]
    },
    {
     "name": "stderr",
     "output_type": "stream",
     "text": [
      "100%|██████████| 30/30 [00:02<00:00, 14.22it/s]"
     ]
    },
    {
     "name": "stdout",
     "output_type": "stream",
     "text": [
      "Repetição 29 - Acurácia: 0.92, Precisão: 0.24, Recall: 0.44, F1-score: 0.31, ROC AUC: 0.69\n",
      "Repetição 30 - Acurácia: 0.92, Precisão: 0.26, Recall: 0.47, F1-score: 0.33, ROC AUC: 0.70\n",
      "Média das Acurácias: 0.91850 ± 0.00267\n",
      "Média das Precisões: 0.25439 ± 0.00978\n",
      "Média dos Recalls: 0.46055 ± 0.01427\n",
      "Média dos F1-scores: 0.32764 ± 0.01015\n",
      "Média dos ROC AUC: 0.69984 ± 0.00701\n"
     ]
    },
    {
     "name": "stderr",
     "output_type": "stream",
     "text": [
      "\n"
     ]
    }
   ],
   "source": [
    "num_repeticoes = 30\n",
    "\n",
    "# Listas para armazenar as métricas\n",
    "acuracias = []\n",
    "precisoes = []\n",
    "recalls = []\n",
    "f1_scores = []\n",
    "roc_auc_scores = []\n",
    "\n",
    "# Loop para repetir o processo\n",
    "for i in tqdm(range(num_repeticoes)):\n",
    "\n",
    "    x_train, x_test, y_train, y_test = train_test_split(x_all, y_all, test_size=0.2, stratify=y_all)\n",
    "    \n",
    "    #Inicializar o modelo de Naive Bayes com distribuição de Bernoulli\n",
    "    nb1 = GaussianNB()\n",
    "\n",
    "    # Treinar o modelo no conjunto de treino\n",
    "    nb1.fit(x_train, y_train)\n",
    "\n",
    "    # Fazer previsões no conjunto de teste\n",
    "    previsoes = nb1.predict(x_test)\n",
    "\n",
    "    # Avaliar as métricas do modelo e armazenar na lista\n",
    "    acuracia = accuracy_score(y_test, previsoes)\n",
    "    precisao = precision_score(y_test, previsoes)\n",
    "    recall = recall_score(y_test, previsoes)\n",
    "    f1 = f1_score(y_test, previsoes)\n",
    "    roc_auc = roc_auc_score(y_test, previsoes)\n",
    "    \n",
    "    acuracias.append(acuracia)\n",
    "    precisoes.append(precisao)\n",
    "    recalls.append(recall)\n",
    "    f1_scores.append(f1)\n",
    "    roc_auc_scores.append(roc_auc)\n",
    "\n",
    "    print(f'Repetição {i+1} - Acurácia: {acuracia:.2f}, Precisão: {precisao:.2f}, Recall: {recall:.2f}, F1-score: {f1:.2f}, ROC AUC: {roc_auc:.2f}')\n",
    "\n",
    "# Calcular as médias das métricas\n",
    "media_acuracias = np.mean(acuracias)\n",
    "media_precisoes = np.mean(precisoes)\n",
    "media_recalls = np.mean(recalls)\n",
    "media_f1_scores = np.mean(f1_scores)\n",
    "media_roc_auc_scores = np.mean(roc_auc_scores)\n",
    "\n",
    "# Calcular os desvios padrão das métricas\n",
    "dp_acuracias = np.std(acuracias)\n",
    "dp_precisoes = np.std(precisoes)\n",
    "dp_recalls = np.std(recalls)\n",
    "dp_f1_scores = np.std(f1_scores)\n",
    "dp_roc_auc_scores = np.std(roc_auc_scores)\n",
    "\n",
    "# Adicionar as médias e desvios padrão às listas de métricas\n",
    "Acurracy.append(media_acuracias)\n",
    "Precision.append(media_precisoes)\n",
    "Recall.append(media_recalls)\n",
    "F1_score.append(media_f1_scores)\n",
    "Roc_auc.append(media_roc_auc_scores)\n",
    "\n",
    "AcurracyDP.append(dp_acuracias)\n",
    "PrecisionDP.append(dp_precisoes)\n",
    "RecallDP.append(dp_recalls)\n",
    "F1_scoreDP.append(dp_f1_scores)\n",
    "Roc_aucDP.append(dp_roc_auc_scores)\n",
    "\n",
    "print(f'Média das Acurácias: {media_acuracias:.5f} ± {dp_acuracias:.5f}')\n",
    "print(f'Média das Precisões: {media_precisoes:.5f} ± {dp_precisoes:.5f}')\n",
    "print(f'Média dos Recalls: {media_recalls:.5f} ± {dp_recalls:.5f}')\n",
    "print(f'Média dos F1-scores: {media_f1_scores:.5f} ± {dp_f1_scores:.5f}')\n",
    "print(f'Média dos ROC AUC: {media_roc_auc_scores:.5f} ± {dp_roc_auc_scores:.5f}')"
   ]
  },
  {
   "cell_type": "markdown",
   "metadata": {},
   "source": [
    "####  MLP1"
   ]
  },
  {
   "cell_type": "code",
   "execution_count": 9,
   "metadata": {},
   "outputs": [
    {
     "name": "stderr",
     "output_type": "stream",
     "text": [
      "  3%|▎         | 1/30 [00:42<20:29, 42.41s/it]"
     ]
    },
    {
     "name": "stdout",
     "output_type": "stream",
     "text": [
      "Repetição 1 - Acurácia: 0.98, Precisão: 0.84, Recall: 0.59, F1-score: 0.69, ROC AUC: 0.79\n"
     ]
    },
    {
     "name": "stderr",
     "output_type": "stream",
     "text": [
      "  7%|▋         | 2/30 [01:14<17:00, 36.45s/it]"
     ]
    },
    {
     "name": "stdout",
     "output_type": "stream",
     "text": [
      "Repetição 2 - Acurácia: 0.98, Precisão: 0.88, Recall: 0.49, F1-score: 0.63, ROC AUC: 0.75\n"
     ]
    },
    {
     "name": "stderr",
     "output_type": "stream",
     "text": [
      " 10%|█         | 3/30 [01:56<17:27, 38.79s/it]"
     ]
    },
    {
     "name": "stdout",
     "output_type": "stream",
     "text": [
      "Repetição 3 - Acurácia: 0.98, Precisão: 0.90, Recall: 0.55, F1-score: 0.68, ROC AUC: 0.77\n"
     ]
    },
    {
     "name": "stderr",
     "output_type": "stream",
     "text": [
      " 13%|█▎        | 4/30 [02:40<17:41, 40.82s/it]"
     ]
    },
    {
     "name": "stdout",
     "output_type": "stream",
     "text": [
      "Repetição 4 - Acurácia: 0.98, Precisão: 0.86, Recall: 0.57, F1-score: 0.69, ROC AUC: 0.79\n"
     ]
    },
    {
     "name": "stderr",
     "output_type": "stream",
     "text": [
      " 17%|█▋        | 5/30 [03:13<15:48, 37.96s/it]"
     ]
    },
    {
     "name": "stdout",
     "output_type": "stream",
     "text": [
      "Repetição 5 - Acurácia: 0.98, Precisão: 0.78, Recall: 0.62, F1-score: 0.69, ROC AUC: 0.81\n"
     ]
    },
    {
     "name": "stderr",
     "output_type": "stream",
     "text": [
      " 20%|██        | 6/30 [03:44<14:19, 35.82s/it]"
     ]
    },
    {
     "name": "stdout",
     "output_type": "stream",
     "text": [
      "Repetição 6 - Acurácia: 0.98, Precisão: 0.86, Recall: 0.57, F1-score: 0.68, ROC AUC: 0.78\n"
     ]
    },
    {
     "name": "stderr",
     "output_type": "stream",
     "text": [
      " 23%|██▎       | 7/30 [04:12<12:39, 33.02s/it]"
     ]
    },
    {
     "name": "stdout",
     "output_type": "stream",
     "text": [
      "Repetição 7 - Acurácia: 0.98, Precisão: 0.82, Recall: 0.59, F1-score: 0.69, ROC AUC: 0.79\n"
     ]
    },
    {
     "name": "stderr",
     "output_type": "stream",
     "text": [
      " 27%|██▋       | 8/30 [04:43<11:52, 32.40s/it]"
     ]
    },
    {
     "name": "stdout",
     "output_type": "stream",
     "text": [
      "Repetição 8 - Acurácia: 0.98, Precisão: 0.80, Recall: 0.63, F1-score: 0.71, ROC AUC: 0.81\n"
     ]
    },
    {
     "name": "stderr",
     "output_type": "stream",
     "text": [
      " 30%|███       | 9/30 [05:20<11:50, 33.83s/it]"
     ]
    },
    {
     "name": "stdout",
     "output_type": "stream",
     "text": [
      "Repetição 9 - Acurácia: 0.98, Precisão: 0.77, Recall: 0.64, F1-score: 0.70, ROC AUC: 0.82\n"
     ]
    },
    {
     "name": "stderr",
     "output_type": "stream",
     "text": [
      " 33%|███▎      | 10/30 [06:00<11:56, 35.84s/it]"
     ]
    },
    {
     "name": "stdout",
     "output_type": "stream",
     "text": [
      "Repetição 10 - Acurácia: 0.98, Precisão: 0.83, Recall: 0.62, F1-score: 0.71, ROC AUC: 0.81\n"
     ]
    },
    {
     "name": "stderr",
     "output_type": "stream",
     "text": [
      " 37%|███▋      | 11/30 [06:40<11:44, 37.09s/it]"
     ]
    },
    {
     "name": "stdout",
     "output_type": "stream",
     "text": [
      "Repetição 11 - Acurácia: 0.97, Precisão: 0.88, Recall: 0.49, F1-score: 0.62, ROC AUC: 0.74\n"
     ]
    },
    {
     "name": "stderr",
     "output_type": "stream",
     "text": [
      " 40%|████      | 12/30 [07:25<11:53, 39.62s/it]"
     ]
    },
    {
     "name": "stdout",
     "output_type": "stream",
     "text": [
      "Repetição 12 - Acurácia: 0.98, Precisão: 0.84, Recall: 0.58, F1-score: 0.69, ROC AUC: 0.79\n"
     ]
    },
    {
     "name": "stderr",
     "output_type": "stream",
     "text": [
      " 43%|████▎     | 13/30 [08:13<11:53, 42.00s/it]"
     ]
    },
    {
     "name": "stdout",
     "output_type": "stream",
     "text": [
      "Repetição 13 - Acurácia: 0.98, Precisão: 0.83, Recall: 0.62, F1-score: 0.71, ROC AUC: 0.81\n"
     ]
    },
    {
     "name": "stderr",
     "output_type": "stream",
     "text": [
      " 47%|████▋     | 14/30 [08:54<11:06, 41.68s/it]"
     ]
    },
    {
     "name": "stdout",
     "output_type": "stream",
     "text": [
      "Repetição 14 - Acurácia: 0.98, Precisão: 0.85, Recall: 0.56, F1-score: 0.68, ROC AUC: 0.78\n"
     ]
    },
    {
     "name": "stderr",
     "output_type": "stream",
     "text": [
      " 50%|█████     | 15/30 [09:20<09:16, 37.13s/it]"
     ]
    },
    {
     "name": "stdout",
     "output_type": "stream",
     "text": [
      "Repetição 15 - Acurácia: 0.97, Precisão: 0.73, Recall: 0.64, F1-score: 0.68, ROC AUC: 0.81\n"
     ]
    },
    {
     "name": "stderr",
     "output_type": "stream",
     "text": [
      " 53%|█████▎    | 16/30 [09:47<07:54, 33.93s/it]"
     ]
    },
    {
     "name": "stdout",
     "output_type": "stream",
     "text": [
      "Repetição 16 - Acurácia: 0.98, Precisão: 0.85, Recall: 0.55, F1-score: 0.67, ROC AUC: 0.77\n"
     ]
    },
    {
     "name": "stderr",
     "output_type": "stream",
     "text": [
      " 57%|█████▋    | 17/30 [10:26<07:41, 35.50s/it]"
     ]
    },
    {
     "name": "stdout",
     "output_type": "stream",
     "text": [
      "Repetição 17 - Acurácia: 0.98, Precisão: 0.87, Recall: 0.57, F1-score: 0.69, ROC AUC: 0.78\n"
     ]
    },
    {
     "name": "stderr",
     "output_type": "stream",
     "text": [
      " 60%|██████    | 18/30 [11:00<07:01, 35.16s/it]"
     ]
    },
    {
     "name": "stdout",
     "output_type": "stream",
     "text": [
      "Repetição 18 - Acurácia: 0.98, Precisão: 0.84, Recall: 0.59, F1-score: 0.69, ROC AUC: 0.79\n"
     ]
    },
    {
     "name": "stderr",
     "output_type": "stream",
     "text": [
      " 63%|██████▎   | 19/30 [11:31<06:13, 33.99s/it]"
     ]
    },
    {
     "name": "stdout",
     "output_type": "stream",
     "text": [
      "Repetição 19 - Acurácia: 0.97, Precisão: 0.74, Recall: 0.64, F1-score: 0.68, ROC AUC: 0.81\n"
     ]
    },
    {
     "name": "stderr",
     "output_type": "stream",
     "text": [
      " 67%|██████▋   | 20/30 [12:13<06:02, 36.20s/it]"
     ]
    },
    {
     "name": "stdout",
     "output_type": "stream",
     "text": [
      "Repetição 20 - Acurácia: 0.98, Precisão: 0.80, Recall: 0.61, F1-score: 0.69, ROC AUC: 0.80\n"
     ]
    },
    {
     "name": "stderr",
     "output_type": "stream",
     "text": [
      " 70%|███████   | 21/30 [12:58<05:50, 38.97s/it]"
     ]
    },
    {
     "name": "stdout",
     "output_type": "stream",
     "text": [
      "Repetição 21 - Acurácia: 0.98, Precisão: 0.74, Recall: 0.69, F1-score: 0.71, ROC AUC: 0.84\n"
     ]
    },
    {
     "name": "stderr",
     "output_type": "stream",
     "text": [
      " 73%|███████▎  | 22/30 [13:36<05:09, 38.65s/it]"
     ]
    },
    {
     "name": "stdout",
     "output_type": "stream",
     "text": [
      "Repetição 22 - Acurácia: 0.98, Precisão: 0.80, Recall: 0.63, F1-score: 0.71, ROC AUC: 0.81\n"
     ]
    },
    {
     "name": "stderr",
     "output_type": "stream",
     "text": [
      " 77%|███████▋  | 23/30 [14:12<04:25, 37.88s/it]"
     ]
    },
    {
     "name": "stdout",
     "output_type": "stream",
     "text": [
      "Repetição 23 - Acurácia: 0.97, Precisão: 0.70, Recall: 0.70, F1-score: 0.70, ROC AUC: 0.84\n"
     ]
    },
    {
     "name": "stderr",
     "output_type": "stream",
     "text": [
      " 80%|████████  | 24/30 [14:55<03:55, 39.30s/it]"
     ]
    },
    {
     "name": "stdout",
     "output_type": "stream",
     "text": [
      "Repetição 24 - Acurácia: 0.98, Precisão: 0.76, Recall: 0.64, F1-score: 0.70, ROC AUC: 0.82\n"
     ]
    },
    {
     "name": "stderr",
     "output_type": "stream",
     "text": [
      " 83%|████████▎ | 25/30 [15:42<03:28, 41.67s/it]"
     ]
    },
    {
     "name": "stdout",
     "output_type": "stream",
     "text": [
      "Repetição 25 - Acurácia: 0.98, Precisão: 0.81, Recall: 0.63, F1-score: 0.71, ROC AUC: 0.81\n"
     ]
    },
    {
     "name": "stderr",
     "output_type": "stream",
     "text": [
      " 87%|████████▋ | 26/30 [16:24<02:47, 41.88s/it]"
     ]
    },
    {
     "name": "stdout",
     "output_type": "stream",
     "text": [
      "Repetição 26 - Acurácia: 0.98, Precisão: 0.86, Recall: 0.56, F1-score: 0.68, ROC AUC: 0.78\n"
     ]
    },
    {
     "name": "stderr",
     "output_type": "stream",
     "text": [
      " 90%|█████████ | 27/30 [16:57<01:56, 38.95s/it]"
     ]
    },
    {
     "name": "stdout",
     "output_type": "stream",
     "text": [
      "Repetição 27 - Acurácia: 0.98, Precisão: 0.79, Recall: 0.65, F1-score: 0.71, ROC AUC: 0.82\n"
     ]
    },
    {
     "name": "stderr",
     "output_type": "stream",
     "text": [
      " 93%|█████████▎| 28/30 [17:32<01:15, 37.87s/it]"
     ]
    },
    {
     "name": "stdout",
     "output_type": "stream",
     "text": [
      "Repetição 28 - Acurácia: 0.98, Precisão: 0.79, Recall: 0.66, F1-score: 0.72, ROC AUC: 0.83\n"
     ]
    },
    {
     "name": "stderr",
     "output_type": "stream",
     "text": [
      " 97%|█████████▋| 29/30 [18:00<00:35, 35.03s/it]"
     ]
    },
    {
     "name": "stdout",
     "output_type": "stream",
     "text": [
      "Repetição 29 - Acurácia: 0.98, Precisão: 0.82, Recall: 0.57, F1-score: 0.67, ROC AUC: 0.78\n"
     ]
    },
    {
     "name": "stderr",
     "output_type": "stream",
     "text": [
      "100%|██████████| 30/30 [18:45<00:00, 37.50s/it]"
     ]
    },
    {
     "name": "stdout",
     "output_type": "stream",
     "text": [
      "Repetição 30 - Acurácia: 0.98, Precisão: 0.81, Recall: 0.63, F1-score: 0.71, ROC AUC: 0.81\n",
      "Média das Acurácias: 0.97673 ± 0.00113\n",
      "Média das Precisões: 0.81462 ± 0.04816\n",
      "Média dos Recalls: 0.60309 ± 0.04891\n",
      "Média dos F1-scores: 0.68991 ± 0.02078\n",
      "Média dos ROC AUC: 0.79832 ± 0.02333\n"
     ]
    },
    {
     "name": "stderr",
     "output_type": "stream",
     "text": [
      "\n"
     ]
    }
   ],
   "source": [
    "num_repeticoes = 30\n",
    "\n",
    "# Listas para armazenar as métricas\n",
    "acuracias = []\n",
    "precisoes = []\n",
    "recalls = []\n",
    "f1_scores = []\n",
    "roc_auc_scores = []\n",
    "\n",
    "# Loop para repetir o processo\n",
    "for i in tqdm(range(num_repeticoes)):\n",
    "\n",
    "    x_train, x_test, y_train, y_test = train_test_split(x_all, y_all, test_size=0.2, stratify=y_all)\n",
    "    \n",
    "    # Inicializar o modelo MLP\n",
    "    mlp1 = MLPClassifier(hidden_layer_sizes=(100), max_iter=1000)\n",
    "\n",
    "    # Treinar o modelo no conjunto de treino\n",
    "    mlp1.fit(x_train, y_train)\n",
    "\n",
    "    # Fazer previsões no conjunto de teste\n",
    "    previsoes = mlp1.predict(x_test)\n",
    "\n",
    "    # Avaliar as métricas do modelo e armazenar na lista\n",
    "    acuracia = accuracy_score(y_test, previsoes)\n",
    "    precisao = precision_score(y_test, previsoes)\n",
    "    recall = recall_score(y_test, previsoes)\n",
    "    f1 = f1_score(y_test, previsoes)\n",
    "    roc_auc = roc_auc_score(y_test, previsoes)\n",
    "    \n",
    "    acuracias.append(acuracia)\n",
    "    precisoes.append(precisao)\n",
    "    recalls.append(recall)\n",
    "    f1_scores.append(f1)\n",
    "    roc_auc_scores.append(roc_auc)\n",
    "\n",
    "    print(f'Repetição {i+1} - Acurácia: {acuracia:.2f}, Precisão: {precisao:.2f}, Recall: {recall:.2f}, F1-score: {f1:.2f}, ROC AUC: {roc_auc:.2f}')\n",
    "\n",
    "# Calcular as médias das métricas\n",
    "media_acuracias = np.mean(acuracias)\n",
    "media_precisoes = np.mean(precisoes)\n",
    "media_recalls = np.mean(recalls)\n",
    "media_f1_scores = np.mean(f1_scores)\n",
    "media_roc_auc_scores = np.mean(roc_auc_scores)\n",
    "\n",
    "# Calcular os desvios padrão das métricas\n",
    "dp_acuracias = np.std(acuracias)\n",
    "dp_precisoes = np.std(precisoes)\n",
    "dp_recalls = np.std(recalls)\n",
    "dp_f1_scores = np.std(f1_scores)\n",
    "dp_roc_auc_scores = np.std(roc_auc_scores)\n",
    "\n",
    "# Adicionar as médias e desvios padrão às listas de métricas\n",
    "Acurracy.append(media_acuracias)\n",
    "Precision.append(media_precisoes)\n",
    "Recall.append(media_recalls)\n",
    "F1_score.append(media_f1_scores)\n",
    "Roc_auc.append(media_roc_auc_scores)\n",
    "\n",
    "AcurracyDP.append(dp_acuracias)\n",
    "PrecisionDP.append(dp_precisoes)\n",
    "RecallDP.append(dp_recalls)\n",
    "F1_scoreDP.append(dp_f1_scores)\n",
    "Roc_aucDP.append(dp_roc_auc_scores)\n",
    "\n",
    "print(f'Média das Acurácias: {media_acuracias:.5f} ± {dp_acuracias:.5f}')\n",
    "print(f'Média das Precisões: {media_precisoes:.5f} ± {dp_precisoes:.5f}')\n",
    "print(f'Média dos Recalls: {media_recalls:.5f} ± {dp_recalls:.5f}')\n",
    "print(f'Média dos F1-scores: {media_f1_scores:.5f} ± {dp_f1_scores:.5f}')\n",
    "print(f'Média dos ROC AUC: {media_roc_auc_scores:.5f} ± {dp_roc_auc_scores:.5f}')"
   ]
  },
  {
   "cell_type": "markdown",
   "metadata": {},
   "source": [
    "#### KNN1"
   ]
  },
  {
   "cell_type": "code",
   "execution_count": 10,
   "metadata": {},
   "outputs": [
    {
     "name": "stderr",
     "output_type": "stream",
     "text": [
      "  3%|▎         | 1/30 [00:01<00:49,  1.70s/it]"
     ]
    },
    {
     "name": "stdout",
     "output_type": "stream",
     "text": [
      "Repetição 1 - Acurácia: 0.98, Precisão: 0.80, Recall: 0.73, F1-score: 0.77, ROC AUC: 0.86\n"
     ]
    },
    {
     "name": "stderr",
     "output_type": "stream",
     "text": [
      "  7%|▋         | 2/30 [00:03<00:47,  1.69s/it]"
     ]
    },
    {
     "name": "stdout",
     "output_type": "stream",
     "text": [
      "Repetição 2 - Acurácia: 0.98, Precisão: 0.83, Recall: 0.73, F1-score: 0.78, ROC AUC: 0.86\n"
     ]
    },
    {
     "name": "stderr",
     "output_type": "stream",
     "text": [
      " 10%|█         | 3/30 [00:05<00:46,  1.71s/it]"
     ]
    },
    {
     "name": "stdout",
     "output_type": "stream",
     "text": [
      "Repetição 3 - Acurácia: 0.98, Precisão: 0.83, Recall: 0.73, F1-score: 0.78, ROC AUC: 0.86\n"
     ]
    },
    {
     "name": "stderr",
     "output_type": "stream",
     "text": [
      " 13%|█▎        | 4/30 [00:06<00:43,  1.68s/it]"
     ]
    },
    {
     "name": "stdout",
     "output_type": "stream",
     "text": [
      "Repetição 4 - Acurácia: 0.98, Precisão: 0.81, Recall: 0.73, F1-score: 0.77, ROC AUC: 0.86\n"
     ]
    },
    {
     "name": "stderr",
     "output_type": "stream",
     "text": [
      " 17%|█▋        | 5/30 [00:08<00:41,  1.67s/it]"
     ]
    },
    {
     "name": "stdout",
     "output_type": "stream",
     "text": [
      "Repetição 5 - Acurácia: 0.98, Precisão: 0.80, Recall: 0.71, F1-score: 0.75, ROC AUC: 0.85\n"
     ]
    },
    {
     "name": "stderr",
     "output_type": "stream",
     "text": [
      " 20%|██        | 6/30 [00:10<00:40,  1.68s/it]"
     ]
    },
    {
     "name": "stdout",
     "output_type": "stream",
     "text": [
      "Repetição 6 - Acurácia: 0.98, Precisão: 0.81, Recall: 0.74, F1-score: 0.78, ROC AUC: 0.87\n"
     ]
    },
    {
     "name": "stderr",
     "output_type": "stream",
     "text": [
      " 23%|██▎       | 7/30 [00:11<00:38,  1.67s/it]"
     ]
    },
    {
     "name": "stdout",
     "output_type": "stream",
     "text": [
      "Repetição 7 - Acurácia: 0.98, Precisão: 0.80, Recall: 0.71, F1-score: 0.75, ROC AUC: 0.85\n"
     ]
    },
    {
     "name": "stderr",
     "output_type": "stream",
     "text": [
      " 27%|██▋       | 8/30 [00:13<00:36,  1.66s/it]"
     ]
    },
    {
     "name": "stdout",
     "output_type": "stream",
     "text": [
      "Repetição 8 - Acurácia: 0.98, Precisão: 0.79, Recall: 0.72, F1-score: 0.75, ROC AUC: 0.86\n"
     ]
    },
    {
     "name": "stderr",
     "output_type": "stream",
     "text": [
      " 30%|███       | 9/30 [00:15<00:34,  1.65s/it]"
     ]
    },
    {
     "name": "stdout",
     "output_type": "stream",
     "text": [
      "Repetição 9 - Acurácia: 0.98, Precisão: 0.82, Recall: 0.75, F1-score: 0.78, ROC AUC: 0.87\n"
     ]
    },
    {
     "name": "stderr",
     "output_type": "stream",
     "text": [
      " 33%|███▎      | 10/30 [00:16<00:32,  1.63s/it]"
     ]
    },
    {
     "name": "stdout",
     "output_type": "stream",
     "text": [
      "Repetição 10 - Acurácia: 0.98, Precisão: 0.83, Recall: 0.74, F1-score: 0.78, ROC AUC: 0.86\n"
     ]
    },
    {
     "name": "stderr",
     "output_type": "stream",
     "text": [
      " 37%|███▋      | 11/30 [00:18<00:31,  1.63s/it]"
     ]
    },
    {
     "name": "stdout",
     "output_type": "stream",
     "text": [
      "Repetição 11 - Acurácia: 0.98, Precisão: 0.81, Recall: 0.73, F1-score: 0.77, ROC AUC: 0.86\n"
     ]
    },
    {
     "name": "stderr",
     "output_type": "stream",
     "text": [
      " 40%|████      | 12/30 [00:19<00:28,  1.61s/it]"
     ]
    },
    {
     "name": "stdout",
     "output_type": "stream",
     "text": [
      "Repetição 12 - Acurácia: 0.98, Precisão: 0.82, Recall: 0.72, F1-score: 0.77, ROC AUC: 0.86\n"
     ]
    },
    {
     "name": "stderr",
     "output_type": "stream",
     "text": [
      " 43%|████▎     | 13/30 [00:21<00:27,  1.61s/it]"
     ]
    },
    {
     "name": "stdout",
     "output_type": "stream",
     "text": [
      "Repetição 13 - Acurácia: 0.98, Precisão: 0.81, Recall: 0.73, F1-score: 0.77, ROC AUC: 0.86\n"
     ]
    },
    {
     "name": "stderr",
     "output_type": "stream",
     "text": [
      " 47%|████▋     | 14/30 [00:22<00:25,  1.59s/it]"
     ]
    },
    {
     "name": "stdout",
     "output_type": "stream",
     "text": [
      "Repetição 14 - Acurácia: 0.98, Precisão: 0.83, Recall: 0.72, F1-score: 0.77, ROC AUC: 0.86\n"
     ]
    },
    {
     "name": "stderr",
     "output_type": "stream",
     "text": [
      " 50%|█████     | 15/30 [00:24<00:24,  1.66s/it]"
     ]
    },
    {
     "name": "stdout",
     "output_type": "stream",
     "text": [
      "Repetição 15 - Acurácia: 0.98, Precisão: 0.81, Recall: 0.74, F1-score: 0.78, ROC AUC: 0.87\n"
     ]
    },
    {
     "name": "stderr",
     "output_type": "stream",
     "text": [
      " 53%|█████▎    | 16/30 [00:26<00:23,  1.66s/it]"
     ]
    },
    {
     "name": "stdout",
     "output_type": "stream",
     "text": [
      "Repetição 16 - Acurácia: 0.98, Precisão: 0.80, Recall: 0.76, F1-score: 0.78, ROC AUC: 0.88\n"
     ]
    },
    {
     "name": "stderr",
     "output_type": "stream",
     "text": [
      " 57%|█████▋    | 17/30 [00:28<00:22,  1.71s/it]"
     ]
    },
    {
     "name": "stdout",
     "output_type": "stream",
     "text": [
      "Repetição 17 - Acurácia: 0.98, Precisão: 0.81, Recall: 0.74, F1-score: 0.77, ROC AUC: 0.87\n"
     ]
    },
    {
     "name": "stderr",
     "output_type": "stream",
     "text": [
      " 60%|██████    | 18/30 [00:30<00:21,  1.76s/it]"
     ]
    },
    {
     "name": "stdout",
     "output_type": "stream",
     "text": [
      "Repetição 18 - Acurácia: 0.98, Precisão: 0.81, Recall: 0.71, F1-score: 0.76, ROC AUC: 0.85\n"
     ]
    },
    {
     "name": "stderr",
     "output_type": "stream",
     "text": [
      " 63%|██████▎   | 19/30 [00:31<00:19,  1.76s/it]"
     ]
    },
    {
     "name": "stdout",
     "output_type": "stream",
     "text": [
      "Repetição 19 - Acurácia: 0.98, Precisão: 0.82, Recall: 0.74, F1-score: 0.78, ROC AUC: 0.87\n"
     ]
    },
    {
     "name": "stderr",
     "output_type": "stream",
     "text": [
      " 67%|██████▋   | 20/30 [00:33<00:17,  1.77s/it]"
     ]
    },
    {
     "name": "stdout",
     "output_type": "stream",
     "text": [
      "Repetição 20 - Acurácia: 0.98, Precisão: 0.82, Recall: 0.72, F1-score: 0.77, ROC AUC: 0.86\n"
     ]
    },
    {
     "name": "stderr",
     "output_type": "stream",
     "text": [
      " 70%|███████   | 21/30 [00:35<00:16,  1.78s/it]"
     ]
    },
    {
     "name": "stdout",
     "output_type": "stream",
     "text": [
      "Repetição 21 - Acurácia: 0.98, Precisão: 0.82, Recall: 0.72, F1-score: 0.76, ROC AUC: 0.86\n"
     ]
    },
    {
     "name": "stderr",
     "output_type": "stream",
     "text": [
      " 73%|███████▎  | 22/30 [00:37<00:14,  1.79s/it]"
     ]
    },
    {
     "name": "stdout",
     "output_type": "stream",
     "text": [
      "Repetição 22 - Acurácia: 0.98, Precisão: 0.81, Recall: 0.72, F1-score: 0.76, ROC AUC: 0.86\n"
     ]
    },
    {
     "name": "stderr",
     "output_type": "stream",
     "text": [
      " 77%|███████▋  | 23/30 [00:38<00:12,  1.76s/it]"
     ]
    },
    {
     "name": "stdout",
     "output_type": "stream",
     "text": [
      "Repetição 23 - Acurácia: 0.98, Precisão: 0.81, Recall: 0.73, F1-score: 0.77, ROC AUC: 0.86\n"
     ]
    },
    {
     "name": "stderr",
     "output_type": "stream",
     "text": [
      " 80%|████████  | 24/30 [00:40<00:10,  1.78s/it]"
     ]
    },
    {
     "name": "stdout",
     "output_type": "stream",
     "text": [
      "Repetição 24 - Acurácia: 0.98, Precisão: 0.82, Recall: 0.70, F1-score: 0.76, ROC AUC: 0.85\n"
     ]
    },
    {
     "name": "stderr",
     "output_type": "stream",
     "text": [
      " 83%|████████▎ | 25/30 [00:42<00:08,  1.75s/it]"
     ]
    },
    {
     "name": "stdout",
     "output_type": "stream",
     "text": [
      "Repetição 25 - Acurácia: 0.98, Precisão: 0.82, Recall: 0.73, F1-score: 0.77, ROC AUC: 0.86\n"
     ]
    },
    {
     "name": "stderr",
     "output_type": "stream",
     "text": [
      " 87%|████████▋ | 26/30 [00:44<00:06,  1.75s/it]"
     ]
    },
    {
     "name": "stdout",
     "output_type": "stream",
     "text": [
      "Repetição 26 - Acurácia: 0.98, Precisão: 0.82, Recall: 0.72, F1-score: 0.77, ROC AUC: 0.86\n"
     ]
    },
    {
     "name": "stderr",
     "output_type": "stream",
     "text": [
      " 90%|█████████ | 27/30 [00:46<00:05,  1.76s/it]"
     ]
    },
    {
     "name": "stdout",
     "output_type": "stream",
     "text": [
      "Repetição 27 - Acurácia: 0.98, Precisão: 0.81, Recall: 0.72, F1-score: 0.76, ROC AUC: 0.86\n"
     ]
    },
    {
     "name": "stderr",
     "output_type": "stream",
     "text": [
      " 93%|█████████▎| 28/30 [00:47<00:03,  1.76s/it]"
     ]
    },
    {
     "name": "stdout",
     "output_type": "stream",
     "text": [
      "Repetição 28 - Acurácia: 0.98, Precisão: 0.79, Recall: 0.73, F1-score: 0.76, ROC AUC: 0.86\n"
     ]
    },
    {
     "name": "stderr",
     "output_type": "stream",
     "text": [
      " 97%|█████████▋| 29/30 [00:49<00:01,  1.75s/it]"
     ]
    },
    {
     "name": "stdout",
     "output_type": "stream",
     "text": [
      "Repetição 29 - Acurácia: 0.98, Precisão: 0.82, Recall: 0.74, F1-score: 0.78, ROC AUC: 0.87\n"
     ]
    },
    {
     "name": "stderr",
     "output_type": "stream",
     "text": [
      "100%|██████████| 30/30 [00:51<00:00,  1.71s/it]"
     ]
    },
    {
     "name": "stdout",
     "output_type": "stream",
     "text": [
      "Repetição 30 - Acurácia: 0.98, Precisão: 0.80, Recall: 0.74, F1-score: 0.77, ROC AUC: 0.87\n",
      "Média das Acurácias: 0.98109 ± 0.00066\n",
      "Média das Precisões: 0.81231 ± 0.01052\n",
      "Média dos Recalls: 0.73004 ± 0.01214\n",
      "Média dos F1-scores: 0.76890 ± 0.00839\n",
      "Média dos ROC AUC: 0.86122 ± 0.00602\n"
     ]
    },
    {
     "name": "stderr",
     "output_type": "stream",
     "text": [
      "\n"
     ]
    }
   ],
   "source": [
    "num_repeticoes = 30\n",
    "\n",
    "# Listas para armazenar as métricas\n",
    "acuracias = []\n",
    "precisoes = []\n",
    "recalls = []\n",
    "f1_scores = []\n",
    "roc_auc_scores = []\n",
    "\n",
    "# Loop para repetir o processo\n",
    "for i in tqdm(range(num_repeticoes)):\n",
    "\n",
    "    x_train, x_test, y_train, y_test = train_test_split(x_all, y_all, test_size=0.2, stratify=y_all)\n",
    "    \n",
    "    #inicializar o modelo KNN\n",
    "    knn1 = KNeighborsClassifier(n_neighbors=7)  # Escolha o número de vizinhos desejado\n",
    "\n",
    "    # Treinar o modelo no conjunto de treino\n",
    "    knn1.fit(np.array(x_train), y_train)\n",
    "\n",
    "    # Fazer previsões no conjunto de teste\n",
    "    previsoes = knn1.predict(np.array(x_test))\n",
    "\n",
    "    # Avaliar as métricas do modelo e armazenar na lista\n",
    "    acuracia = accuracy_score(y_test, previsoes)\n",
    "    precisao = precision_score(y_test, previsoes)\n",
    "    recall = recall_score(y_test, previsoes)\n",
    "    f1 = f1_score(y_test, previsoes)\n",
    "    roc_auc = roc_auc_score(y_test, previsoes)\n",
    "    \n",
    "    acuracias.append(acuracia)\n",
    "    precisoes.append(precisao)\n",
    "    recalls.append(recall)\n",
    "    f1_scores.append(f1)\n",
    "    roc_auc_scores.append(roc_auc)\n",
    "\n",
    "    print(f'Repetição {i+1} - Acurácia: {acuracia:.2f}, Precisão: {precisao:.2f}, Recall: {recall:.2f}, F1-score: {f1:.2f}, ROC AUC: {roc_auc:.2f}')\n",
    "\n",
    "# Calcular as médias das métricas\n",
    "media_acuracias = np.mean(acuracias)\n",
    "media_precisoes = np.mean(precisoes)\n",
    "media_recalls = np.mean(recalls)\n",
    "media_f1_scores = np.mean(f1_scores)\n",
    "media_roc_auc_scores = np.mean(roc_auc_scores)\n",
    "\n",
    "# Calcular os desvios padrão das métricas\n",
    "dp_acuracias = np.std(acuracias)\n",
    "dp_precisoes = np.std(precisoes)\n",
    "dp_recalls = np.std(recalls)\n",
    "dp_f1_scores = np.std(f1_scores)\n",
    "dp_roc_auc_scores = np.std(roc_auc_scores)\n",
    "\n",
    "# Adicionar as médias e desvios padrão às listas de métricas\n",
    "Acurracy.append(media_acuracias)\n",
    "Precision.append(media_precisoes)\n",
    "Recall.append(media_recalls)\n",
    "F1_score.append(media_f1_scores)\n",
    "Roc_auc.append(media_roc_auc_scores)\n",
    "\n",
    "AcurracyDP.append(dp_acuracias)\n",
    "PrecisionDP.append(dp_precisoes)\n",
    "RecallDP.append(dp_recalls)\n",
    "F1_scoreDP.append(dp_f1_scores)\n",
    "Roc_aucDP.append(dp_roc_auc_scores)\n",
    "\n",
    "print(f'Média das Acurácias: {media_acuracias:.5f} ± {dp_acuracias:.5f}')\n",
    "print(f'Média das Precisões: {media_precisoes:.5f} ± {dp_precisoes:.5f}')\n",
    "print(f'Média dos Recalls: {media_recalls:.5f} ± {dp_recalls:.5f}')\n",
    "print(f'Média dos F1-scores: {media_f1_scores:.5f} ± {dp_f1_scores:.5f}')\n",
    "print(f'Média dos ROC AUC: {media_roc_auc_scores:.5f} ± {dp_roc_auc_scores:.5f}')"
   ]
  },
  {
   "cell_type": "markdown",
   "metadata": {},
   "source": [
    "#### Resultados"
   ]
  },
  {
   "cell_type": "code",
   "execution_count": 11,
   "metadata": {},
   "outputs": [
    {
     "data": {
      "text/html": [
       "<style type=\"text/css\">\n",
       "#T_e2cdb_row0_col0, #T_e2cdb_row0_col2, #T_e2cdb_row1_col0, #T_e2cdb_row1_col1, #T_e2cdb_row1_col2, #T_e2cdb_row1_col3, #T_e2cdb_row1_col4, #T_e2cdb_row1_col5, #T_e2cdb_row2_col0, #T_e2cdb_row2_col1, #T_e2cdb_row2_col3, #T_e2cdb_row2_col4, #T_e2cdb_row2_col5, #T_e2cdb_row3_col0, #T_e2cdb_row3_col1, #T_e2cdb_row3_col2, #T_e2cdb_row3_col3, #T_e2cdb_row3_col4, #T_e2cdb_row3_col5 {\n",
       "  color: white;\n",
       "}\n",
       "#T_e2cdb_row0_col1, #T_e2cdb_row0_col3, #T_e2cdb_row0_col4, #T_e2cdb_row0_col5, #T_e2cdb_row2_col2 {\n",
       "  background-color: green;\n",
       "  color: white;\n",
       "}\n",
       "</style>\n",
       "<table id=\"T_e2cdb\">\n",
       "  <thead>\n",
       "    <tr>\n",
       "      <th class=\"blank level0\" >&nbsp;</th>\n",
       "      <th id=\"T_e2cdb_level0_col0\" class=\"col_heading level0 col0\" >Modelos</th>\n",
       "      <th id=\"T_e2cdb_level0_col1\" class=\"col_heading level0 col1\" >Acuracia (DREBIN)</th>\n",
       "      <th id=\"T_e2cdb_level0_col2\" class=\"col_heading level0 col2\" >Precisão (DREBIN)</th>\n",
       "      <th id=\"T_e2cdb_level0_col3\" class=\"col_heading level0 col3\" >Recall (DREBIN)</th>\n",
       "      <th id=\"T_e2cdb_level0_col4\" class=\"col_heading level0 col4\" >F1 Score</th>\n",
       "      <th id=\"T_e2cdb_level0_col5\" class=\"col_heading level0 col5\" >AUC RoC</th>\n",
       "    </tr>\n",
       "  </thead>\n",
       "  <tbody>\n",
       "    <tr>\n",
       "      <th id=\"T_e2cdb_level0_row0\" class=\"row_heading level0 row0\" >0</th>\n",
       "      <td id=\"T_e2cdb_row0_col0\" class=\"data row0 col0\" >Decision Tree</td>\n",
       "      <td id=\"T_e2cdb_row0_col1\" class=\"data row0 col1\" >0.9817 ± 0.0008</td>\n",
       "      <td id=\"T_e2cdb_row0_col2\" class=\"data row0 col2\" >0.7689 ± 0.0125</td>\n",
       "      <td id=\"T_e2cdb_row0_col3\" class=\"data row0 col3\" >0.8216 ± 0.0133</td>\n",
       "      <td id=\"T_e2cdb_row0_col4\" class=\"data row0 col4\" >0.7942 ± 0.0078</td>\n",
       "      <td id=\"T_e2cdb_row0_col5\" class=\"data row0 col5\" >0.9052 ± 0.0065</td>\n",
       "    </tr>\n",
       "    <tr>\n",
       "      <th id=\"T_e2cdb_level0_row1\" class=\"row_heading level0 row1\" >1</th>\n",
       "      <td id=\"T_e2cdb_row1_col0\" class=\"data row1 col0\" >Naive Bayes</td>\n",
       "      <td id=\"T_e2cdb_row1_col1\" class=\"data row1 col1\" >0.9185 ± 0.0027</td>\n",
       "      <td id=\"T_e2cdb_row1_col2\" class=\"data row1 col2\" >0.2544 ± 0.0098</td>\n",
       "      <td id=\"T_e2cdb_row1_col3\" class=\"data row1 col3\" >0.4606 ± 0.0143</td>\n",
       "      <td id=\"T_e2cdb_row1_col4\" class=\"data row1 col4\" >0.3276 ± 0.0102</td>\n",
       "      <td id=\"T_e2cdb_row1_col5\" class=\"data row1 col5\" >0.6998 ± 0.0070</td>\n",
       "    </tr>\n",
       "    <tr>\n",
       "      <th id=\"T_e2cdb_level0_row2\" class=\"row_heading level0 row2\" >2</th>\n",
       "      <td id=\"T_e2cdb_row2_col0\" class=\"data row2 col0\" >MLP</td>\n",
       "      <td id=\"T_e2cdb_row2_col1\" class=\"data row2 col1\" >0.9767 ± 0.0011</td>\n",
       "      <td id=\"T_e2cdb_row2_col2\" class=\"data row2 col2\" >0.8146 ± 0.0482</td>\n",
       "      <td id=\"T_e2cdb_row2_col3\" class=\"data row2 col3\" >0.6031 ± 0.0489</td>\n",
       "      <td id=\"T_e2cdb_row2_col4\" class=\"data row2 col4\" >0.6899 ± 0.0208</td>\n",
       "      <td id=\"T_e2cdb_row2_col5\" class=\"data row2 col5\" >0.7983 ± 0.0233</td>\n",
       "    </tr>\n",
       "    <tr>\n",
       "      <th id=\"T_e2cdb_level0_row3\" class=\"row_heading level0 row3\" >3</th>\n",
       "      <td id=\"T_e2cdb_row3_col0\" class=\"data row3 col0\" >KNN</td>\n",
       "      <td id=\"T_e2cdb_row3_col1\" class=\"data row3 col1\" >0.9811 ± 0.0007</td>\n",
       "      <td id=\"T_e2cdb_row3_col2\" class=\"data row3 col2\" >0.8123 ± 0.0105</td>\n",
       "      <td id=\"T_e2cdb_row3_col3\" class=\"data row3 col3\" >0.7300 ± 0.0121</td>\n",
       "      <td id=\"T_e2cdb_row3_col4\" class=\"data row3 col4\" >0.7689 ± 0.0084</td>\n",
       "      <td id=\"T_e2cdb_row3_col5\" class=\"data row3 col5\" >0.8612 ± 0.0060</td>\n",
       "    </tr>\n",
       "  </tbody>\n",
       "</table>\n"
      ],
      "text/plain": [
       "<pandas.io.formats.style.Styler at 0x1c2ec62c410>"
      ]
     },
     "execution_count": 11,
     "metadata": {},
     "output_type": "execute_result"
    }
   ],
   "source": [
    "import pandas as pd\n",
    "\n",
    "# Definir os modelos\n",
    "Modelos = ['Decision Tree', 'Naive Bayes', 'MLP', 'KNN']\n",
    "\n",
    "# Criar um DataFrame do Pandas com os valores das variáveis\n",
    "df = pd.DataFrame({\n",
    "    'Modelos': Modelos,\n",
    "    'Acuracia (DREBIN)': [f\"{media:.4f} ± {dp:.4f}\" for media, dp in zip(Acurracy, AcurracyDP)],\n",
    "    'Precisão (DREBIN)': [f\"{media:.4f} ± {dp:.4f}\" for media, dp in zip(Precision, PrecisionDP)],\n",
    "    'Recall (DREBIN)': [f\"{media:.4f} ± {dp:.4f}\" for media, dp in zip(Recall, RecallDP)],\n",
    "    'F1 Score': [f\"{media:.4f} ± {dp:.4f}\" for media, dp in zip(F1_score, F1_scoreDP)],\n",
    "    'AUC RoC': [f\"{media:.4f} ± {dp:.4f}\" for media, dp in zip(Roc_auc, Roc_aucDP)]\n",
    "})\n",
    "\n",
    "# Função para destacar o maior valor de cada coluna\n",
    "def highlight_max(s):\n",
    "    is_max = s == s.max()\n",
    "    return ['background-color: green' if v else '' for v in is_max]\n",
    "\n",
    "# Aplicar a função de destaque apenas para as colunas numéricas\n",
    "numeric_columns = df.columns[1:]\n",
    "styled_df = df.style.apply(highlight_max, subset=numeric_columns)\n",
    "\n",
    "# Definir a cor do texto para a tabela\n",
    "styled_df.set_properties(**{'color': 'white'}, subset=pd.IndexSlice[:, :])\n",
    "\n",
    "# Exibir o DataFrame estilizado no Jupyter Notebook\n",
    "styled_df\n"
   ]
  },
  {
   "cell_type": "markdown",
   "metadata": {},
   "source": [
    "### Bagging"
   ]
  },
  {
   "cell_type": "markdown",
   "metadata": {},
   "source": [
    "#### Decision Tree (DT2)"
   ]
  },
  {
   "cell_type": "code",
   "execution_count": 12,
   "metadata": {},
   "outputs": [
    {
     "name": "stdout",
     "output_type": "stream",
     "text": [
      "Acurácia do modelo Bagging com Decision Tree: 0.9872882998100996\n",
      "Precisão do modelo Bagging com Decision Tree: 0.8967611336032388\n",
      "Recall do modelo Bagging com Decision Tree: 0.7967625899280576\n",
      "F1-score do modelo Bagging com Decision Tree: 0.8438095238095238\n",
      "AUC ROC do modelo Bagging com Decision Tree: 0.8963157650138446\n",
      "Matriz de confusão do modelo Bagging com Decision Tree:\n",
      "[[24589   102]\n",
      " [  226   886]]\n"
     ]
    }
   ],
   "source": [
    "# Definir o classificador de Bagging com Decision Tree como base\n",
    "dt2 = BaggingClassifier(estimator = dt1, n_estimators=30)\n",
    "\n",
    "# Treinar o modelo Bagging\n",
    "dt2.fit(x_train, y_train)\n",
    "\n",
    "# Prever usando o modelo Bagging\n",
    "y_pred = dt2.predict(x_test)\n",
    "\n",
    "# Avaliar a precisão do modelo\n",
    "accuracy_bagging = accuracy_score(y_test, y_pred)\n",
    "precision_bagging = precision_score(y_test, y_pred)\n",
    "recall_bagging = recall_score(y_test, y_pred)\n",
    "f1_score_bagging = f1_score(y_test, y_pred)\n",
    "auc_roc_bagging = roc_auc_score(y_test, y_pred)\n",
    "\n",
    "\n",
    "print(\"Acurácia do modelo Bagging com Decision Tree:\", accuracy_bagging)\n",
    "print(\"Precisão do modelo Bagging com Decision Tree:\", precision_bagging)\n",
    "print(\"Recall do modelo Bagging com Decision Tree:\", recall_bagging)\n",
    "print(\"F1-score do modelo Bagging com Decision Tree:\", f1_score_bagging)\n",
    "print(\"AUC ROC do modelo Bagging com Decision Tree:\", auc_roc_bagging)\n",
    "\n",
    "# Matriz de confusão\n",
    "conf_matrix_bagging = confusion_matrix(y_test, y_pred)\n",
    "print(\"Matriz de confusão do modelo Bagging com Decision Tree:\")\n",
    "print(conf_matrix_bagging)\n",
    "\n",
    "# Adicione a acurácia à lista de acurácias do Bagging\n",
    "AcurracyBagging.append(accuracy_bagging)\n",
    "PrecisionBagging.append(precision_bagging)\n",
    "RecallBagging.append(recall_bagging)\n",
    "F1Bagging.append(f1_score_bagging)\n",
    "Roc_aucBagging.append(auc_roc_bagging)"
   ]
  },
  {
   "cell_type": "markdown",
   "metadata": {},
   "source": [
    "#### Naive Bayes (NB2)"
   ]
  },
  {
   "cell_type": "code",
   "execution_count": 13,
   "metadata": {},
   "outputs": [
    {
     "name": "stdout",
     "output_type": "stream",
     "text": [
      "Acurácia do modelo Bagging com Naive Bayes: 0.9163663139944968\n",
      "Precisão do modelo Bagging com Naive Bayes: 0.2509523809523809\n",
      "Recall do modelo Bagging com Naive Bayes: 0.4739208633093525\n",
      "F1-score do modelo Bagging com Naive Bayes: 0.32814445828144456\n",
      "AUC ROC do modelo Bagging com Naive Bayes: 0.705106719775854\n",
      "Matriz de confusão do modelo Bagging com Naive Bayes:\n",
      "[[23118  1573]\n",
      " [  585   527]]\n"
     ]
    }
   ],
   "source": [
    "# Definir o classificador de Bagging com Naive Bayes como base\n",
    "nb2 = BaggingClassifier(estimator=nb1, n_estimators=30)\n",
    "\n",
    "# Treinar o modelo Bagging\n",
    "nb2.fit(x_train, y_train)\n",
    "\n",
    "# Prever usando o modelo Bagging\n",
    "y_pred = nb2.predict(x_test)\n",
    "\n",
    "# Avaliar a precisão do modelo\n",
    "accuracy_bagging = accuracy_score(y_test, y_pred)\n",
    "precision_bagging = precision_score(y_test, y_pred)\n",
    "recall_bagging = recall_score(y_test, y_pred)\n",
    "f1_score_bagging = f1_score(y_test, y_pred)\n",
    "auc_roc_bagging = roc_auc_score(y_test, y_pred)\n",
    "\n",
    "\n",
    "print(\"Acurácia do modelo Bagging com Naive Bayes:\", accuracy_bagging)\n",
    "print(\"Precisão do modelo Bagging com Naive Bayes:\", precision_bagging)\n",
    "print(\"Recall do modelo Bagging com Naive Bayes:\", recall_bagging)\n",
    "print(\"F1-score do modelo Bagging com Naive Bayes:\", f1_score_bagging)\n",
    "print(\"AUC ROC do modelo Bagging com Naive Bayes:\", auc_roc_bagging)\n",
    "\n",
    "# Matriz de confusão\n",
    "conf_matrix_bagging = confusion_matrix(y_test, y_pred)\n",
    "print(\"Matriz de confusão do modelo Bagging com Naive Bayes:\")\n",
    "print(conf_matrix_bagging)\n",
    "\n",
    "# Adicione a acurácia à lista de acurácias do Bagging\n",
    "AcurracyBagging.append(accuracy_bagging)\n",
    "PrecisionBagging.append(precision_bagging)\n",
    "RecallBagging.append(recall_bagging)\n",
    "F1Bagging.append(f1_score_bagging)\n",
    "Roc_aucBagging.append(auc_roc_bagging)"
   ]
  },
  {
   "cell_type": "markdown",
   "metadata": {},
   "source": [
    "#### MLP2"
   ]
  },
  {
   "cell_type": "code",
   "execution_count": 14,
   "metadata": {},
   "outputs": [
    {
     "name": "stdout",
     "output_type": "stream",
     "text": [
      "Acurácia do modelo Bagging com MLP: 0.9781033213192264\n",
      "Precisão do modelo Bagging com MLP: 0.8397515527950311\n",
      "Recall do modelo Bagging com MLP: 0.6079136690647482\n",
      "F1-score do modelo Bagging com MLP: 0.7052686489306208\n",
      "AUC ROC do modelo Bagging com MLP: 0.8013445466541999\n",
      "Matriz de confusão do modelo Bagging com MLP:\n",
      "[[24562   129]\n",
      " [  436   676]]\n"
     ]
    }
   ],
   "source": [
    "# Definir o classificador de Bagging com MLP como base\n",
    "mlp2 = BaggingClassifier(estimator=mlp1, n_estimators=30)\n",
    "\n",
    "# Treinar o modelo Bagging\n",
    "mlp2.fit(x_train, y_train)\n",
    "\n",
    "# Prever usando o modelo Bagging\n",
    "y_pred = mlp2.predict(x_test)\n",
    "\n",
    "# Avaliar a precisão do modelo\n",
    "accuracy_bagging = accuracy_score(y_test, y_pred)\n",
    "precision_bagging = precision_score(y_test, y_pred)\n",
    "recall_bagging = recall_score(y_test, y_pred)\n",
    "f1_score_bagging = f1_score(y_test, y_pred)\n",
    "auc_roc_bagging = roc_auc_score(y_test, y_pred)\n",
    "\n",
    "\n",
    "print(\"Acurácia do modelo Bagging com MLP:\", accuracy_bagging)\n",
    "print(\"Precisão do modelo Bagging com MLP:\", precision_bagging)\n",
    "print(\"Recall do modelo Bagging com MLP:\", recall_bagging)\n",
    "print(\"F1-score do modelo Bagging com MLP:\", f1_score_bagging)\n",
    "print(\"AUC ROC do modelo Bagging com MLP:\", auc_roc_bagging)\n",
    "\n",
    "# Matriz de confusão\n",
    "conf_matrix_bagging = confusion_matrix(y_test, y_pred)\n",
    "print(\"Matriz de confusão do modelo Bagging com MLP:\")\n",
    "print(conf_matrix_bagging)\n",
    "\n",
    "# Adicione a acurácia à lista de acurácias do Bagging\n",
    "AcurracyBagging.append(accuracy_bagging)\n",
    "PrecisionBagging.append(precision_bagging)\n",
    "RecallBagging.append(recall_bagging)\n",
    "F1Bagging.append(f1_score_bagging)\n",
    "Roc_aucBagging.append(auc_roc_bagging)"
   ]
  },
  {
   "cell_type": "markdown",
   "metadata": {},
   "source": [
    "#### KNN2"
   ]
  },
  {
   "cell_type": "code",
   "execution_count": 15,
   "metadata": {},
   "outputs": [
    {
     "name": "stdout",
     "output_type": "stream",
     "text": [
      "Acurácia do modelo Bagging com KNN: 0.9816300430182537\n",
      "Precisão do modelo Bagging com KNN: 0.8241869918699187\n",
      "Recall do modelo Bagging com KNN: 0.72931654676259\n",
      "F1-score do modelo Bagging com KNN: 0.773854961832061\n",
      "AUC ROC do modelo Bagging com KNN: 0.8611549725834334\n",
      "Matriz de confusão do modelo Bagging com KNN:\n",
      "[[24518   173]\n",
      " [  301   811]]\n"
     ]
    }
   ],
   "source": [
    "# Definir o classificador de Bagging com KNN como base\n",
    "knn2 = BaggingClassifier(estimator=knn1, n_estimators=30)\n",
    "\n",
    "# Treinar o modelo Bagging\n",
    "knn2.fit(x_train, y_train)\n",
    "\n",
    "# Prever usando o modelo Bagging\n",
    "y_pred = knn2.predict(x_test)\n",
    "\n",
    "# Avaliar a precisão do modelo\n",
    "accuracy_bagging = accuracy_score(y_test, y_pred)\n",
    "precision_bagging = precision_score(y_test, y_pred)\n",
    "recall_bagging = recall_score(y_test, y_pred)\n",
    "f1_score_bagging = f1_score(y_test, y_pred)\n",
    "auc_roc_bagging = roc_auc_score(y_test, y_pred)\n",
    "\n",
    "\n",
    "print(\"Acurácia do modelo Bagging com KNN:\", accuracy_bagging)\n",
    "print(\"Precisão do modelo Bagging com KNN:\", precision_bagging)\n",
    "print(\"Recall do modelo Bagging com KNN:\", recall_bagging)\n",
    "print(\"F1-score do modelo Bagging com KNN:\", f1_score_bagging)\n",
    "print(\"AUC ROC do modelo Bagging com KNN:\", auc_roc_bagging)\n",
    "\n",
    "# Matriz de confusão\n",
    "conf_matrix_bagging = confusion_matrix(y_test, y_pred)\n",
    "print(\"Matriz de confusão do modelo Bagging com KNN:\")\n",
    "print(conf_matrix_bagging)\n",
    "\n",
    "# Adicione a acurácia à lista de acurácias do Bagging\n",
    "AcurracyBagging.append(accuracy_bagging)\n",
    "PrecisionBagging.append(precision_bagging)\n",
    "RecallBagging.append(recall_bagging)\n",
    "F1Bagging.append(f1_score_bagging)\n",
    "Roc_aucBagging.append(auc_roc_bagging)"
   ]
  },
  {
   "cell_type": "markdown",
   "metadata": {},
   "source": [
    "#### Resultados"
   ]
  },
  {
   "cell_type": "code",
   "execution_count": 16,
   "metadata": {},
   "outputs": [
    {
     "name": "stdout",
     "output_type": "stream",
     "text": [
      "╒════╤═══════════════════╤═════════════════════╤═════════════════════╤═══════════════════╤════════════╤═══════════╕\n",
      "│    │ Modelos Bagging   │   Acuracia (DREBIN) │   Precisão (DREBIN) │   Recall (DREBIN) │   F1 Score │   AUC ROC │\n",
      "╞════╪═══════════════════╪═════════════════════╪═════════════════════╪═══════════════════╪════════════╪═══════════╡\n",
      "│  0 │ Decision Tree     │              0.9873 │              0.8968 │            0.7968 │     0.8438 │    0.8963 │\n",
      "├────┼───────────────────┼─────────────────────┼─────────────────────┼───────────────────┼────────────┼───────────┤\n",
      "│  1 │ Naive Bayes       │              0.9164 │              0.2510 │            0.4739 │     0.3281 │    0.7051 │\n",
      "├────┼───────────────────┼─────────────────────┼─────────────────────┼───────────────────┼────────────┼───────────┤\n",
      "│  2 │ MLP               │              0.9781 │              0.8398 │            0.6079 │     0.7053 │    0.8013 │\n",
      "├────┼───────────────────┼─────────────────────┼─────────────────────┼───────────────────┼────────────┼───────────┤\n",
      "│  3 │ KNN               │              0.9816 │              0.8242 │            0.7293 │     0.7739 │    0.8612 │\n",
      "╘════╧═══════════════════╧═════════════════════╧═════════════════════╧═══════════════════╧════════════╧═══════════╛\n"
     ]
    }
   ],
   "source": [
    "Modelos = ['Decision Tree', 'Naive Bayes', 'MLP', 'KNN']\n",
    "# Criar um DataFrame do Pandas com os valores das variáveis\n",
    "dfB = pd.DataFrame({'Modelos Bagging': Modelos, 'Acuracia (DREBIN)': AcurracyBagging,\n",
    "                    'Precisão (DREBIN)': PrecisionBagging, 'Recall (DREBIN)':RecallBagging, \n",
    "                    'F1 Score': F1Bagging, 'AUC ROC': Roc_aucBagging})\n",
    "\n",
    "print(tabulate(dfB, headers='keys', tablefmt='fancy_grid', floatfmt=\".4f\"))"
   ]
  },
  {
   "cell_type": "markdown",
   "metadata": {},
   "source": [
    "### Ensemble"
   ]
  },
  {
   "cell_type": "markdown",
   "metadata": {},
   "source": [
    "#### Random Forest"
   ]
  },
  {
   "cell_type": "code",
   "execution_count": 17,
   "metadata": {},
   "outputs": [
    {
     "name": "stderr",
     "output_type": "stream",
     "text": [
      "  3%|▎         | 1/30 [00:04<02:14,  4.64s/it]"
     ]
    },
    {
     "name": "stdout",
     "output_type": "stream",
     "text": [
      "Repetição 1 - Acurácia: 0.99, Precisão: 0.92, Recall: 0.80, F1-score: 0.85, ROC AUC: 0.90\n"
     ]
    },
    {
     "name": "stderr",
     "output_type": "stream",
     "text": [
      "  7%|▋         | 2/30 [00:09<02:09,  4.64s/it]"
     ]
    },
    {
     "name": "stdout",
     "output_type": "stream",
     "text": [
      "Repetição 2 - Acurácia: 0.99, Precisão: 0.95, Recall: 0.81, F1-score: 0.88, ROC AUC: 0.90\n"
     ]
    },
    {
     "name": "stderr",
     "output_type": "stream",
     "text": [
      " 10%|█         | 3/30 [00:13<02:05,  4.66s/it]"
     ]
    },
    {
     "name": "stdout",
     "output_type": "stream",
     "text": [
      "Repetição 3 - Acurácia: 0.99, Precisão: 0.94, Recall: 0.79, F1-score: 0.86, ROC AUC: 0.89\n"
     ]
    },
    {
     "name": "stderr",
     "output_type": "stream",
     "text": [
      " 13%|█▎        | 4/30 [00:18<02:01,  4.69s/it]"
     ]
    },
    {
     "name": "stdout",
     "output_type": "stream",
     "text": [
      "Repetição 4 - Acurácia: 0.99, Precisão: 0.96, Recall: 0.79, F1-score: 0.87, ROC AUC: 0.89\n"
     ]
    },
    {
     "name": "stderr",
     "output_type": "stream",
     "text": [
      " 17%|█▋        | 5/30 [00:23<01:56,  4.67s/it]"
     ]
    },
    {
     "name": "stdout",
     "output_type": "stream",
     "text": [
      "Repetição 5 - Acurácia: 0.99, Precisão: 0.93, Recall: 0.79, F1-score: 0.85, ROC AUC: 0.89\n"
     ]
    },
    {
     "name": "stderr",
     "output_type": "stream",
     "text": [
      " 20%|██        | 6/30 [00:27<01:51,  4.66s/it]"
     ]
    },
    {
     "name": "stdout",
     "output_type": "stream",
     "text": [
      "Repetição 6 - Acurácia: 0.99, Precisão: 0.93, Recall: 0.83, F1-score: 0.88, ROC AUC: 0.92\n"
     ]
    },
    {
     "name": "stderr",
     "output_type": "stream",
     "text": [
      " 23%|██▎       | 7/30 [00:32<01:47,  4.65s/it]"
     ]
    },
    {
     "name": "stdout",
     "output_type": "stream",
     "text": [
      "Repetição 7 - Acurácia: 0.99, Precisão: 0.94, Recall: 0.78, F1-score: 0.85, ROC AUC: 0.89\n"
     ]
    },
    {
     "name": "stderr",
     "output_type": "stream",
     "text": [
      " 27%|██▋       | 8/30 [00:37<01:42,  4.65s/it]"
     ]
    },
    {
     "name": "stdout",
     "output_type": "stream",
     "text": [
      "Repetição 8 - Acurácia: 0.99, Precisão: 0.93, Recall: 0.79, F1-score: 0.86, ROC AUC: 0.90\n"
     ]
    },
    {
     "name": "stderr",
     "output_type": "stream",
     "text": [
      " 30%|███       | 9/30 [00:41<01:37,  4.64s/it]"
     ]
    },
    {
     "name": "stdout",
     "output_type": "stream",
     "text": [
      "Repetição 9 - Acurácia: 0.99, Precisão: 0.93, Recall: 0.79, F1-score: 0.85, ROC AUC: 0.89\n"
     ]
    },
    {
     "name": "stderr",
     "output_type": "stream",
     "text": [
      " 33%|███▎      | 10/30 [00:46<01:32,  4.62s/it]"
     ]
    },
    {
     "name": "stdout",
     "output_type": "stream",
     "text": [
      "Repetição 10 - Acurácia: 0.99, Precisão: 0.93, Recall: 0.81, F1-score: 0.87, ROC AUC: 0.90\n"
     ]
    },
    {
     "name": "stderr",
     "output_type": "stream",
     "text": [
      " 37%|███▋      | 11/30 [00:51<01:27,  4.62s/it]"
     ]
    },
    {
     "name": "stdout",
     "output_type": "stream",
     "text": [
      "Repetição 11 - Acurácia: 0.99, Precisão: 0.94, Recall: 0.79, F1-score: 0.86, ROC AUC: 0.90\n"
     ]
    },
    {
     "name": "stderr",
     "output_type": "stream",
     "text": [
      " 40%|████      | 12/30 [00:55<01:23,  4.62s/it]"
     ]
    },
    {
     "name": "stdout",
     "output_type": "stream",
     "text": [
      "Repetição 12 - Acurácia: 0.99, Precisão: 0.95, Recall: 0.81, F1-score: 0.87, ROC AUC: 0.90\n"
     ]
    },
    {
     "name": "stderr",
     "output_type": "stream",
     "text": [
      " 43%|████▎     | 13/30 [01:00<01:18,  4.63s/it]"
     ]
    },
    {
     "name": "stdout",
     "output_type": "stream",
     "text": [
      "Repetição 13 - Acurácia: 0.99, Precisão: 0.93, Recall: 0.78, F1-score: 0.85, ROC AUC: 0.89\n"
     ]
    },
    {
     "name": "stderr",
     "output_type": "stream",
     "text": [
      " 47%|████▋     | 14/30 [01:05<01:14,  4.64s/it]"
     ]
    },
    {
     "name": "stdout",
     "output_type": "stream",
     "text": [
      "Repetição 14 - Acurácia: 0.99, Precisão: 0.94, Recall: 0.80, F1-score: 0.86, ROC AUC: 0.90\n"
     ]
    },
    {
     "name": "stderr",
     "output_type": "stream",
     "text": [
      " 50%|█████     | 15/30 [01:09<01:09,  4.66s/it]"
     ]
    },
    {
     "name": "stdout",
     "output_type": "stream",
     "text": [
      "Repetição 15 - Acurácia: 0.99, Precisão: 0.94, Recall: 0.81, F1-score: 0.87, ROC AUC: 0.91\n"
     ]
    },
    {
     "name": "stderr",
     "output_type": "stream",
     "text": [
      " 53%|█████▎    | 16/30 [01:14<01:05,  4.65s/it]"
     ]
    },
    {
     "name": "stdout",
     "output_type": "stream",
     "text": [
      "Repetição 16 - Acurácia: 0.99, Precisão: 0.94, Recall: 0.82, F1-score: 0.87, ROC AUC: 0.91\n"
     ]
    },
    {
     "name": "stderr",
     "output_type": "stream",
     "text": [
      " 57%|█████▋    | 17/30 [01:18<01:00,  4.63s/it]"
     ]
    },
    {
     "name": "stdout",
     "output_type": "stream",
     "text": [
      "Repetição 17 - Acurácia: 0.99, Precisão: 0.93, Recall: 0.82, F1-score: 0.87, ROC AUC: 0.91\n"
     ]
    },
    {
     "name": "stderr",
     "output_type": "stream",
     "text": [
      " 60%|██████    | 18/30 [01:23<00:55,  4.62s/it]"
     ]
    },
    {
     "name": "stdout",
     "output_type": "stream",
     "text": [
      "Repetição 18 - Acurácia: 0.99, Precisão: 0.93, Recall: 0.79, F1-score: 0.85, ROC AUC: 0.89\n"
     ]
    },
    {
     "name": "stderr",
     "output_type": "stream",
     "text": [
      " 63%|██████▎   | 19/30 [01:28<00:50,  4.63s/it]"
     ]
    },
    {
     "name": "stdout",
     "output_type": "stream",
     "text": [
      "Repetição 19 - Acurácia: 0.99, Precisão: 0.94, Recall: 0.81, F1-score: 0.87, ROC AUC: 0.90\n"
     ]
    },
    {
     "name": "stderr",
     "output_type": "stream",
     "text": [
      " 67%|██████▋   | 20/30 [01:32<00:46,  4.64s/it]"
     ]
    },
    {
     "name": "stdout",
     "output_type": "stream",
     "text": [
      "Repetição 20 - Acurácia: 0.99, Precisão: 0.94, Recall: 0.80, F1-score: 0.86, ROC AUC: 0.90\n"
     ]
    },
    {
     "name": "stderr",
     "output_type": "stream",
     "text": [
      " 70%|███████   | 21/30 [01:37<00:41,  4.64s/it]"
     ]
    },
    {
     "name": "stdout",
     "output_type": "stream",
     "text": [
      "Repetição 21 - Acurácia: 0.99, Precisão: 0.93, Recall: 0.81, F1-score: 0.87, ROC AUC: 0.91\n"
     ]
    },
    {
     "name": "stderr",
     "output_type": "stream",
     "text": [
      " 73%|███████▎  | 22/30 [01:42<00:37,  4.64s/it]"
     ]
    },
    {
     "name": "stdout",
     "output_type": "stream",
     "text": [
      "Repetição 22 - Acurácia: 0.99, Precisão: 0.92, Recall: 0.81, F1-score: 0.87, ROC AUC: 0.91\n"
     ]
    },
    {
     "name": "stderr",
     "output_type": "stream",
     "text": [
      " 77%|███████▋  | 23/30 [01:46<00:32,  4.65s/it]"
     ]
    },
    {
     "name": "stdout",
     "output_type": "stream",
     "text": [
      "Repetição 23 - Acurácia: 0.99, Precisão: 0.93, Recall: 0.79, F1-score: 0.85, ROC AUC: 0.89\n"
     ]
    },
    {
     "name": "stderr",
     "output_type": "stream",
     "text": [
      " 80%|████████  | 24/30 [01:51<00:27,  4.63s/it]"
     ]
    },
    {
     "name": "stdout",
     "output_type": "stream",
     "text": [
      "Repetição 24 - Acurácia: 0.99, Precisão: 0.94, Recall: 0.79, F1-score: 0.86, ROC AUC: 0.90\n"
     ]
    },
    {
     "name": "stderr",
     "output_type": "stream",
     "text": [
      " 83%|████████▎ | 25/30 [01:55<00:23,  4.63s/it]"
     ]
    },
    {
     "name": "stdout",
     "output_type": "stream",
     "text": [
      "Repetição 25 - Acurácia: 0.99, Precisão: 0.95, Recall: 0.81, F1-score: 0.87, ROC AUC: 0.91\n"
     ]
    },
    {
     "name": "stderr",
     "output_type": "stream",
     "text": [
      " 87%|████████▋ | 26/30 [02:00<00:18,  4.64s/it]"
     ]
    },
    {
     "name": "stdout",
     "output_type": "stream",
     "text": [
      "Repetição 26 - Acurácia: 0.99, Precisão: 0.94, Recall: 0.82, F1-score: 0.87, ROC AUC: 0.91\n"
     ]
    },
    {
     "name": "stderr",
     "output_type": "stream",
     "text": [
      " 90%|█████████ | 27/30 [02:05<00:13,  4.65s/it]"
     ]
    },
    {
     "name": "stdout",
     "output_type": "stream",
     "text": [
      "Repetição 27 - Acurácia: 0.99, Precisão: 0.94, Recall: 0.80, F1-score: 0.86, ROC AUC: 0.90\n"
     ]
    },
    {
     "name": "stderr",
     "output_type": "stream",
     "text": [
      " 93%|█████████▎| 28/30 [02:09<00:09,  4.65s/it]"
     ]
    },
    {
     "name": "stdout",
     "output_type": "stream",
     "text": [
      "Repetição 28 - Acurácia: 0.99, Precisão: 0.93, Recall: 0.80, F1-score: 0.86, ROC AUC: 0.90\n"
     ]
    },
    {
     "name": "stderr",
     "output_type": "stream",
     "text": [
      " 97%|█████████▋| 29/30 [02:14<00:04,  4.63s/it]"
     ]
    },
    {
     "name": "stdout",
     "output_type": "stream",
     "text": [
      "Repetição 29 - Acurácia: 0.99, Precisão: 0.93, Recall: 0.81, F1-score: 0.87, ROC AUC: 0.90\n"
     ]
    },
    {
     "name": "stderr",
     "output_type": "stream",
     "text": [
      "100%|██████████| 30/30 [02:19<00:00,  4.64s/it]"
     ]
    },
    {
     "name": "stdout",
     "output_type": "stream",
     "text": [
      "Repetição 30 - Acurácia: 0.99, Precisão: 0.91, Recall: 0.83, F1-score: 0.87, ROC AUC: 0.91\n",
      "Média das Acurácias: 0.98911 ± 0.00060\n",
      "Média das Precisões: 0.93574 ± 0.00898\n",
      "Média dos Recalls: 0.80258 ± 0.01349\n",
      "Média dos F1-scores: 0.86397 ± 0.00811\n",
      "Média dos ROC AUC: 0.90005 ± 0.00670\n"
     ]
    },
    {
     "name": "stderr",
     "output_type": "stream",
     "text": [
      "\n"
     ]
    }
   ],
   "source": [
    "num_repeticoes = 30\n",
    "\n",
    "# Listas para armazenar as métricas\n",
    "acuracias = []\n",
    "precisoes = []\n",
    "recalls = []\n",
    "f1_scores = []\n",
    "roc_auc_scores = []\n",
    "\n",
    "# Loop para repetir o processo\n",
    "for i in tqdm(range(num_repeticoes)):\n",
    "\n",
    "    x_train, x_test, y_train, y_test = train_test_split(x_all, y_all, test_size=0.2, stratify=y_all)\n",
    "\n",
    "    rf = RandomForestClassifier(n_estimators=100)\n",
    "\n",
    "    rf.fit(x_train, y_train)\n",
    "    \n",
    "    # Fazer previsões no conjunto de teste\n",
    "    previsoes = rf.predict(x_test)\n",
    "\n",
    "    # Avaliar as métricas do modelo e armazenar na lista\n",
    "    acuracia = accuracy_score(y_test, previsoes)\n",
    "    precisao = precision_score(y_test, previsoes)\n",
    "    recall = recall_score(y_test, previsoes)\n",
    "    f1 = f1_score(y_test, previsoes)\n",
    "    roc_auc = roc_auc_score(y_test, previsoes)\n",
    "    \n",
    "    acuracias.append(acuracia)\n",
    "    precisoes.append(precisao)\n",
    "    recalls.append(recall)\n",
    "    f1_scores.append(f1)\n",
    "    roc_auc_scores.append(roc_auc)\n",
    "\n",
    "    print(f'Repetição {i+1} - Acurácia: {acuracia:.2f}, Precisão: {precisao:.2f}, Recall: {recall:.2f}, F1-score: {f1:.2f}, ROC AUC: {roc_auc:.2f}')\n",
    "\n",
    "# Calcular as médias das métricas\n",
    "media_acuracias = np.mean(acuracias)\n",
    "media_precisoes = np.mean(precisoes)\n",
    "media_recalls = np.mean(recalls)\n",
    "media_f1_scores = np.mean(f1_scores)\n",
    "media_roc_auc_scores = np.mean(roc_auc_scores)\n",
    "\n",
    "# Calcular os desvios padrão das métricas\n",
    "dp_acuracias = np.std(acuracias)\n",
    "dp_precisoes = np.std(precisoes)\n",
    "dp_recalls = np.std(recalls)\n",
    "dp_f1_scores = np.std(f1_scores)\n",
    "dp_roc_auc_scores = np.std(roc_auc_scores)\n",
    "\n",
    "# Adicionar as médias e desvios padrão às listas de métricas\n",
    "AcurracyEnsemble.append(media_acuracias)\n",
    "PrecisionEnsemble.append(media_precisoes)\n",
    "RecallEnsemble.append(media_recalls)\n",
    "F1Ensemble.append(media_f1_scores)\n",
    "Roc_aucEnsemble.append(media_roc_auc_scores)\n",
    "\n",
    "AcurracyEnsembleDP.append(dp_acuracias)\n",
    "PrecisionEnsembleDP.append(dp_precisoes)\n",
    "RecallEnsembleDP.append(dp_recalls)\n",
    "F1EnsembleDP.append(dp_f1_scores)\n",
    "Roc_aucEnsembleDP.append(dp_roc_auc_scores)\n",
    "\n",
    "print(f'Média das Acurácias: {media_acuracias:.5f} ± {dp_acuracias:.5f}')\n",
    "print(f'Média das Precisões: {media_precisoes:.5f} ± {dp_precisoes:.5f}')\n",
    "print(f'Média dos Recalls: {media_recalls:.5f} ± {dp_recalls:.5f}')\n",
    "print(f'Média dos F1-scores: {media_f1_scores:.5f} ± {dp_f1_scores:.5f}')\n",
    "print(f'Média dos ROC AUC: {media_roc_auc_scores:.5f} ± {dp_roc_auc_scores:.5f}')"
   ]
  },
  {
   "cell_type": "markdown",
   "metadata": {},
   "source": [
    "#### Gradient Boosted Decision Tree"
   ]
  },
  {
   "cell_type": "code",
   "execution_count": 18,
   "metadata": {},
   "outputs": [
    {
     "name": "stderr",
     "output_type": "stream",
     "text": [
      "  3%|▎         | 1/30 [00:05<02:37,  5.43s/it]"
     ]
    },
    {
     "name": "stdout",
     "output_type": "stream",
     "text": [
      "Repetição 1 - Acurácia: 0.97, Precisão: 0.84, Recall: 0.45, F1-score: 0.59, ROC AUC: 0.73\n"
     ]
    },
    {
     "name": "stderr",
     "output_type": "stream",
     "text": [
      "  7%|▋         | 2/30 [00:10<02:31,  5.42s/it]"
     ]
    },
    {
     "name": "stdout",
     "output_type": "stream",
     "text": [
      "Repetição 2 - Acurácia: 0.97, Precisão: 0.84, Recall: 0.45, F1-score: 0.58, ROC AUC: 0.72\n"
     ]
    },
    {
     "name": "stderr",
     "output_type": "stream",
     "text": [
      " 10%|█         | 3/30 [00:16<02:25,  5.38s/it]"
     ]
    },
    {
     "name": "stdout",
     "output_type": "stream",
     "text": [
      "Repetição 3 - Acurácia: 0.97, Precisão: 0.85, Recall: 0.47, F1-score: 0.61, ROC AUC: 0.73\n"
     ]
    },
    {
     "name": "stderr",
     "output_type": "stream",
     "text": [
      " 13%|█▎        | 4/30 [00:21<02:21,  5.44s/it]"
     ]
    },
    {
     "name": "stdout",
     "output_type": "stream",
     "text": [
      "Repetição 4 - Acurácia: 0.97, Precisão: 0.83, Recall: 0.49, F1-score: 0.62, ROC AUC: 0.74\n"
     ]
    },
    {
     "name": "stderr",
     "output_type": "stream",
     "text": [
      " 17%|█▋        | 5/30 [00:27<02:15,  5.41s/it]"
     ]
    },
    {
     "name": "stdout",
     "output_type": "stream",
     "text": [
      "Repetição 5 - Acurácia: 0.98, Precisão: 0.87, Recall: 0.50, F1-score: 0.63, ROC AUC: 0.75\n"
     ]
    },
    {
     "name": "stderr",
     "output_type": "stream",
     "text": [
      " 20%|██        | 6/30 [00:32<02:09,  5.39s/it]"
     ]
    },
    {
     "name": "stdout",
     "output_type": "stream",
     "text": [
      "Repetição 6 - Acurácia: 0.97, Precisão: 0.84, Recall: 0.47, F1-score: 0.60, ROC AUC: 0.73\n"
     ]
    },
    {
     "name": "stderr",
     "output_type": "stream",
     "text": [
      " 23%|██▎       | 7/30 [00:37<02:03,  5.36s/it]"
     ]
    },
    {
     "name": "stdout",
     "output_type": "stream",
     "text": [
      "Repetição 7 - Acurácia: 0.97, Precisão: 0.81, Recall: 0.42, F1-score: 0.56, ROC AUC: 0.71\n"
     ]
    },
    {
     "name": "stderr",
     "output_type": "stream",
     "text": [
      " 27%|██▋       | 8/30 [00:43<01:57,  5.35s/it]"
     ]
    },
    {
     "name": "stdout",
     "output_type": "stream",
     "text": [
      "Repetição 8 - Acurácia: 0.97, Precisão: 0.82, Recall: 0.44, F1-score: 0.57, ROC AUC: 0.72\n"
     ]
    },
    {
     "name": "stderr",
     "output_type": "stream",
     "text": [
      " 30%|███       | 9/30 [00:48<01:52,  5.34s/it]"
     ]
    },
    {
     "name": "stdout",
     "output_type": "stream",
     "text": [
      "Repetição 9 - Acurácia: 0.97, Precisão: 0.83, Recall: 0.46, F1-score: 0.59, ROC AUC: 0.73\n"
     ]
    },
    {
     "name": "stderr",
     "output_type": "stream",
     "text": [
      " 33%|███▎      | 10/30 [00:53<01:46,  5.33s/it]"
     ]
    },
    {
     "name": "stdout",
     "output_type": "stream",
     "text": [
      "Repetição 10 - Acurácia: 0.97, Precisão: 0.85, Recall: 0.48, F1-score: 0.62, ROC AUC: 0.74\n"
     ]
    },
    {
     "name": "stderr",
     "output_type": "stream",
     "text": [
      " 37%|███▋      | 11/30 [00:59<01:41,  5.34s/it]"
     ]
    },
    {
     "name": "stdout",
     "output_type": "stream",
     "text": [
      "Repetição 11 - Acurácia: 0.97, Precisão: 0.83, Recall: 0.47, F1-score: 0.60, ROC AUC: 0.74\n"
     ]
    },
    {
     "name": "stderr",
     "output_type": "stream",
     "text": [
      " 40%|████      | 12/30 [01:04<01:36,  5.38s/it]"
     ]
    },
    {
     "name": "stdout",
     "output_type": "stream",
     "text": [
      "Repetição 12 - Acurácia: 0.97, Precisão: 0.79, Recall: 0.45, F1-score: 0.57, ROC AUC: 0.72\n"
     ]
    },
    {
     "name": "stderr",
     "output_type": "stream",
     "text": [
      " 43%|████▎     | 13/30 [01:09<01:31,  5.38s/it]"
     ]
    },
    {
     "name": "stdout",
     "output_type": "stream",
     "text": [
      "Repetição 13 - Acurácia: 0.97, Precisão: 0.87, Recall: 0.48, F1-score: 0.62, ROC AUC: 0.74\n"
     ]
    },
    {
     "name": "stderr",
     "output_type": "stream",
     "text": [
      " 47%|████▋     | 14/30 [01:15<01:25,  5.36s/it]"
     ]
    },
    {
     "name": "stdout",
     "output_type": "stream",
     "text": [
      "Repetição 14 - Acurácia: 0.97, Precisão: 0.86, Recall: 0.49, F1-score: 0.62, ROC AUC: 0.74\n"
     ]
    },
    {
     "name": "stderr",
     "output_type": "stream",
     "text": [
      " 50%|█████     | 15/30 [01:20<01:20,  5.34s/it]"
     ]
    },
    {
     "name": "stdout",
     "output_type": "stream",
     "text": [
      "Repetição 15 - Acurácia: 0.97, Precisão: 0.83, Recall: 0.48, F1-score: 0.61, ROC AUC: 0.74\n"
     ]
    },
    {
     "name": "stderr",
     "output_type": "stream",
     "text": [
      " 53%|█████▎    | 16/30 [01:25<01:14,  5.34s/it]"
     ]
    },
    {
     "name": "stdout",
     "output_type": "stream",
     "text": [
      "Repetição 16 - Acurácia: 0.97, Precisão: 0.86, Recall: 0.49, F1-score: 0.63, ROC AUC: 0.74\n"
     ]
    },
    {
     "name": "stderr",
     "output_type": "stream",
     "text": [
      " 57%|█████▋    | 17/30 [01:31<01:09,  5.33s/it]"
     ]
    },
    {
     "name": "stdout",
     "output_type": "stream",
     "text": [
      "Repetição 17 - Acurácia: 0.97, Precisão: 0.84, Recall: 0.46, F1-score: 0.60, ROC AUC: 0.73\n"
     ]
    },
    {
     "name": "stderr",
     "output_type": "stream",
     "text": [
      " 60%|██████    | 18/30 [01:36<01:04,  5.34s/it]"
     ]
    },
    {
     "name": "stdout",
     "output_type": "stream",
     "text": [
      "Repetição 18 - Acurácia: 0.97, Precisão: 0.87, Recall: 0.49, F1-score: 0.62, ROC AUC: 0.74\n"
     ]
    },
    {
     "name": "stderr",
     "output_type": "stream",
     "text": [
      " 63%|██████▎   | 19/30 [01:41<00:58,  5.33s/it]"
     ]
    },
    {
     "name": "stdout",
     "output_type": "stream",
     "text": [
      "Repetição 19 - Acurácia: 0.97, Precisão: 0.83, Recall: 0.47, F1-score: 0.60, ROC AUC: 0.73\n"
     ]
    },
    {
     "name": "stderr",
     "output_type": "stream",
     "text": [
      " 67%|██████▋   | 20/30 [01:47<00:53,  5.32s/it]"
     ]
    },
    {
     "name": "stdout",
     "output_type": "stream",
     "text": [
      "Repetição 20 - Acurácia: 0.97, Precisão: 0.82, Recall: 0.45, F1-score: 0.58, ROC AUC: 0.72\n"
     ]
    },
    {
     "name": "stderr",
     "output_type": "stream",
     "text": [
      " 70%|███████   | 21/30 [01:52<00:47,  5.32s/it]"
     ]
    },
    {
     "name": "stdout",
     "output_type": "stream",
     "text": [
      "Repetição 21 - Acurácia: 0.97, Precisão: 0.81, Recall: 0.47, F1-score: 0.60, ROC AUC: 0.73\n"
     ]
    },
    {
     "name": "stderr",
     "output_type": "stream",
     "text": [
      " 73%|███████▎  | 22/30 [01:57<00:42,  5.32s/it]"
     ]
    },
    {
     "name": "stdout",
     "output_type": "stream",
     "text": [
      "Repetição 22 - Acurácia: 0.97, Precisão: 0.82, Recall: 0.51, F1-score: 0.63, ROC AUC: 0.75\n"
     ]
    },
    {
     "name": "stderr",
     "output_type": "stream",
     "text": [
      " 77%|███████▋  | 23/30 [02:03<00:37,  5.31s/it]"
     ]
    },
    {
     "name": "stdout",
     "output_type": "stream",
     "text": [
      "Repetição 23 - Acurácia: 0.97, Precisão: 0.83, Recall: 0.49, F1-score: 0.61, ROC AUC: 0.74\n"
     ]
    },
    {
     "name": "stderr",
     "output_type": "stream",
     "text": [
      " 80%|████████  | 24/30 [02:08<00:32,  5.33s/it]"
     ]
    },
    {
     "name": "stdout",
     "output_type": "stream",
     "text": [
      "Repetição 24 - Acurácia: 0.97, Precisão: 0.84, Recall: 0.49, F1-score: 0.62, ROC AUC: 0.74\n"
     ]
    },
    {
     "name": "stderr",
     "output_type": "stream",
     "text": [
      " 83%|████████▎ | 25/30 [02:13<00:26,  5.33s/it]"
     ]
    },
    {
     "name": "stdout",
     "output_type": "stream",
     "text": [
      "Repetição 25 - Acurácia: 0.97, Precisão: 0.84, Recall: 0.46, F1-score: 0.59, ROC AUC: 0.73\n"
     ]
    },
    {
     "name": "stderr",
     "output_type": "stream",
     "text": [
      " 87%|████████▋ | 26/30 [02:19<00:21,  5.32s/it]"
     ]
    },
    {
     "name": "stdout",
     "output_type": "stream",
     "text": [
      "Repetição 26 - Acurácia: 0.97, Precisão: 0.83, Recall: 0.45, F1-score: 0.58, ROC AUC: 0.72\n"
     ]
    },
    {
     "name": "stderr",
     "output_type": "stream",
     "text": [
      " 90%|█████████ | 27/30 [02:24<00:15,  5.32s/it]"
     ]
    },
    {
     "name": "stdout",
     "output_type": "stream",
     "text": [
      "Repetição 27 - Acurácia: 0.97, Precisão: 0.85, Recall: 0.46, F1-score: 0.59, ROC AUC: 0.73\n"
     ]
    },
    {
     "name": "stderr",
     "output_type": "stream",
     "text": [
      " 93%|█████████▎| 28/30 [02:29<00:10,  5.33s/it]"
     ]
    },
    {
     "name": "stdout",
     "output_type": "stream",
     "text": [
      "Repetição 28 - Acurácia: 0.97, Precisão: 0.84, Recall: 0.48, F1-score: 0.61, ROC AUC: 0.74\n"
     ]
    },
    {
     "name": "stderr",
     "output_type": "stream",
     "text": [
      " 97%|█████████▋| 29/30 [02:35<00:05,  5.33s/it]"
     ]
    },
    {
     "name": "stdout",
     "output_type": "stream",
     "text": [
      "Repetição 29 - Acurácia: 0.97, Precisão: 0.84, Recall: 0.46, F1-score: 0.59, ROC AUC: 0.73\n"
     ]
    },
    {
     "name": "stderr",
     "output_type": "stream",
     "text": [
      "100%|██████████| 30/30 [02:40<00:00,  5.34s/it]"
     ]
    },
    {
     "name": "stdout",
     "output_type": "stream",
     "text": [
      "Repetição 30 - Acurácia: 0.97, Precisão: 0.87, Recall: 0.48, F1-score: 0.62, ROC AUC: 0.74\n",
      "Média das Acurácias: 0.97327 ± 0.00102\n",
      "Média das Precisões: 0.83838 ± 0.01827\n",
      "Média dos Recalls: 0.47062 ± 0.01937\n",
      "Média dos F1-scores: 0.60265 ± 0.01851\n",
      "Média dos ROC AUC: 0.73327 ± 0.00972\n"
     ]
    },
    {
     "name": "stderr",
     "output_type": "stream",
     "text": [
      "\n"
     ]
    }
   ],
   "source": [
    "num_repeticoes = 30\n",
    "\n",
    "# Listas para armazenar as métricas\n",
    "acuracias = []\n",
    "precisoes = []\n",
    "recalls = []\n",
    "f1_scores = []\n",
    "roc_auc_scores = []\n",
    "\n",
    "# Loop para repetir o processo\n",
    "for i in tqdm(range(num_repeticoes)):\n",
    "\n",
    "    x_train, x_test, y_train, y_test = train_test_split(x_all, y_all, test_size=0.2, stratify=y_all)\n",
    "\n",
    "    gb = GradientBoostingClassifier(n_estimators=100)\n",
    "\n",
    "    gb.fit(x_train, y_train)\n",
    "    \n",
    "    # Fazer previsões no conjunto de teste\n",
    "    previsoes = gb.predict(x_test)\n",
    "\n",
    "    # Avaliar as métricas do modelo e armazenar na lista\n",
    "    acuracia = accuracy_score(y_test, previsoes)\n",
    "    precisao = precision_score(y_test, previsoes)\n",
    "    recall = recall_score(y_test, previsoes)\n",
    "    f1 = f1_score(y_test, previsoes)\n",
    "    roc_auc = roc_auc_score(y_test, previsoes)\n",
    "    \n",
    "    acuracias.append(acuracia)\n",
    "    precisoes.append(precisao)\n",
    "    recalls.append(recall)\n",
    "    f1_scores.append(f1)\n",
    "    roc_auc_scores.append(roc_auc)\n",
    "\n",
    "    print(f'Repetição {i+1} - Acurácia: {acuracia:.2f}, Precisão: {precisao:.2f}, Recall: {recall:.2f}, F1-score: {f1:.2f}, ROC AUC: {roc_auc:.2f}')\n",
    "\n",
    "# Calcular as médias das métricas\n",
    "media_acuracias = np.mean(acuracias)\n",
    "media_precisoes = np.mean(precisoes)\n",
    "media_recalls = np.mean(recalls)\n",
    "media_f1_scores = np.mean(f1_scores)\n",
    "media_roc_auc_scores = np.mean(roc_auc_scores)\n",
    "\n",
    "# Calcular os desvios padrão das métricas\n",
    "dp_acuracias = np.std(acuracias)\n",
    "dp_precisoes = np.std(precisoes)\n",
    "dp_recalls = np.std(recalls)\n",
    "dp_f1_scores = np.std(f1_scores)\n",
    "dp_roc_auc_scores = np.std(roc_auc_scores)\n",
    "\n",
    "# Adicionar as médias e desvios padrão às listas de métricas\n",
    "AcurracyEnsemble.append(media_acuracias)\n",
    "PrecisionEnsemble.append(media_precisoes)\n",
    "RecallEnsemble.append(media_recalls)\n",
    "F1Ensemble.append(media_f1_scores)\n",
    "Roc_aucEnsemble.append(media_roc_auc_scores)\n",
    "\n",
    "AcurracyEnsembleDP.append(dp_acuracias)\n",
    "PrecisionEnsembleDP.append(dp_precisoes)\n",
    "RecallEnsembleDP.append(dp_recalls)\n",
    "F1EnsembleDP.append(dp_f1_scores)\n",
    "Roc_aucEnsembleDP.append(dp_roc_auc_scores)\n",
    "\n",
    "print(f'Média das Acurácias: {media_acuracias:.5f} ± {dp_acuracias:.5f}')\n",
    "print(f'Média das Precisões: {media_precisoes:.5f} ± {dp_precisoes:.5f}')\n",
    "print(f'Média dos Recalls: {media_recalls:.5f} ± {dp_recalls:.5f}')\n",
    "print(f'Média dos F1-scores: {media_f1_scores:.5f} ± {dp_f1_scores:.5f}')\n",
    "print(f'Média dos ROC AUC: {media_roc_auc_scores:.5f} ± {dp_roc_auc_scores:.5f}')"
   ]
  },
  {
   "cell_type": "markdown",
   "metadata": {},
   "source": [
    "#### Classificadores"
   ]
  },
  {
   "cell_type": "code",
   "execution_count": 19,
   "metadata": {},
   "outputs": [],
   "source": [
    "classifiers = {\n",
    "    'MLP': mlp1,\n",
    "    'Random Forest': rf,\n",
    "    'Decision Tree': dt1,\n",
    "    'Gradient Boosted Decision Tree':gb,\n",
    "    'Naive Bayes': nb1,\n",
    "    'KNN': knn1,\n",
    "    'MLP Bagging': mlp2,\n",
    "    'Naive Bayes Bagging': nb2,\n",
    "    'KNN Bagging': knn2,\n",
    "    'Decision Tree Bagging': dt2\n",
    "}"
   ]
  },
  {
   "cell_type": "markdown",
   "metadata": {},
   "source": [
    "#### Overall Local Accuracy (OLA1)"
   ]
  },
  {
   "cell_type": "code",
   "execution_count": 20,
   "metadata": {},
   "outputs": [],
   "source": [
    "# Lista para armazenar os classificadores treinados\n",
    "trained_classifiers = {name: [] for name in classifiers.keys()}\n",
    "\n",
    "# Lista para armazenar as precisões locais\n",
    "local_accuracies = {name: [] for name in classifiers.keys()}\n",
    "\n",
    "# Validacao cruzada\n",
    "kf = KFold(n_splits=5, shuffle=True, random_state=42)\n",
    "for train_index, val_index in kf.split(x_train):\n",
    "    X_train_fold, X_val_fold = x_train[train_index], x_train[val_index]\n",
    "    y_train_fold, y_val_fold = y_train[train_index], y_train[val_index]\n",
    "\n",
    "    for name, clf in classifiers.items():\n",
    "        # Treinar o classificador\n",
    "        clf.fit(X_train_fold, y_train_fold)\n",
    "        # Fazer previsões\n",
    "        y_pred = clf.predict(X_val_fold)\n",
    "        # Calcular a acurácia local\n",
    "        accuracy = accuracy_score(y_val_fold, y_pred)\n",
    "        # Armazenar o classificador treinado e a precisão local\n",
    "        trained_classifiers[name].append(clf)\n",
    "        local_accuracies[name].append(accuracy)"
   ]
  },
  {
   "cell_type": "code",
   "execution_count": 21,
   "metadata": {},
   "outputs": [],
   "source": [
    "# Função para prever usando OLA\n",
    "def predict_ola(X_test):\n",
    "    predictions = []\n",
    "    for sample in X_test:\n",
    "        best_clf_name = None\n",
    "        best_accuracy = -1\n",
    "        best_prediction = None\n",
    "        \n",
    "        for name in classifiers.keys():\n",
    "            # Obter a média das precisões locais para o classificador\n",
    "            avg_accuracy = np.mean(local_accuracies[name])\n",
    "            # Usar o classificador com a maior precisão local\n",
    "            if avg_accuracy > best_accuracy:\n",
    "                best_accuracy = avg_accuracy\n",
    "                best_clf_name = name\n",
    "        \n",
    "        # Fazer a previsão com o melhor classificador\n",
    "        best_clf = trained_classifiers[best_clf_name][0]\n",
    "        prediction = best_clf.predict([sample])[0]\n",
    "        predictions.append(prediction)\n",
    "    \n",
    "    return predictions\n",
    "\n",
    "# Fazer previsões no conjunto de teste usando OLA\n",
    "y_pred_ola = predict_ola(x_test)\n",
    "\n",
    "# Avaliar a acurácia\n",
    "accuracy_ola = accuracy_score(y_test, y_pred_ola)\n",
    "\n"
   ]
  },
  {
   "cell_type": "code",
   "execution_count": 25,
   "metadata": {},
   "outputs": [
    {
     "name": "stdout",
     "output_type": "stream",
     "text": [
      "0.9889935278843546\n"
     ]
    }
   ],
   "source": [
    "print(accuracy_ola)"
   ]
  },
  {
   "cell_type": "markdown",
   "metadata": {},
   "source": [
    "#### K-Nearest Oracle Elimination (KNORA-E)"
   ]
  },
  {
   "cell_type": "code",
   "execution_count": null,
   "metadata": {},
   "outputs": [],
   "source": []
  },
  {
   "cell_type": "markdown",
   "metadata": {},
   "source": [
    "#### K-Nearest Oracle Union (KNORA-U)"
   ]
  },
  {
   "cell_type": "markdown",
   "metadata": {},
   "source": [
    "#### K-Nearest Oracle Profile (KNOP)"
   ]
  },
  {
   "cell_type": "markdown",
   "metadata": {},
   "source": [
    "#### META-DES"
   ]
  },
  {
   "cell_type": "markdown",
   "metadata": {},
   "source": [
    "### Balanceamento de dados"
   ]
  },
  {
   "cell_type": "code",
   "execution_count": 22,
   "metadata": {},
   "outputs": [
    {
     "name": "stdout",
     "output_type": "stream",
     "text": [
      "(197524, 8) (197524,)\n",
      "(25803, 8) (25803,)\n"
     ]
    }
   ],
   "source": [
    "smote = SMOTE(sampling_strategy='auto', random_state=42, k_neighbors=5)\n",
    "x_train, y_train = smote.fit_resample(x_train, y_train)\n",
    "\n",
    "\n",
    "print(x_train.shape, y_train.shape)\n",
    "print(x_test.shape, y_test.shape)"
   ]
  },
  {
   "cell_type": "code",
   "execution_count": 23,
   "metadata": {},
   "outputs": [
    {
     "name": "stdout",
     "output_type": "stream",
     "text": [
      "Proporção das classes no conjunto teste:\n",
      "Classe 0: 0.96\n",
      "Classe 1: 0.04\n",
      "Proporção das classes no conjunto treino:\n",
      "Classe 0: 0.50\n",
      "Classe 1: 0.50\n"
     ]
    }
   ],
   "source": [
    "# Calcular proporção das classes em y_all\n",
    "unique_classes, class_counts = np.unique(y_test, return_counts=True)\n",
    "proporcao_classes_resampled = class_counts / len(y_test)\n",
    "\n",
    "print(\"Proporção das classes no conjunto teste:\")\n",
    "for classe, proporcao in zip(unique_classes, proporcao_classes_resampled):\n",
    "    print(f\"Classe {classe}: {proporcao:.2f}\")\n",
    "\n",
    "# Calcular proporção das classes em y_resampled\n",
    "unique_classes, class_counts = np.unique(y_train, return_counts=True)\n",
    "proporcao_classes_resampled = class_counts / len(y_train)\n",
    "\n",
    "print(\"Proporção das classes no conjunto treino:\")\n",
    "for classe, proporcao in zip(unique_classes, proporcao_classes_resampled):\n",
    "    print(f\"Classe {classe}: {proporcao:.2f}\")"
   ]
  },
  {
   "cell_type": "markdown",
   "metadata": {},
   "source": [
    "### Modelos Base após o Balanceamento"
   ]
  },
  {
   "cell_type": "markdown",
   "metadata": {},
   "source": [
    "#### Decision Tree"
   ]
  },
  {
   "cell_type": "code",
   "execution_count": 24,
   "metadata": {},
   "outputs": [
    {
     "name": "stderr",
     "output_type": "stream",
     "text": [
      "  0%|          | 0/30 [00:00<?, ?it/s]\n"
     ]
    },
    {
     "ename": "NameError",
     "evalue": "name 'X_resampled' is not defined",
     "output_type": "error",
     "traceback": [
      "\u001b[1;31m---------------------------------------------------------------------------\u001b[0m",
      "\u001b[1;31mNameError\u001b[0m                                 Traceback (most recent call last)",
      "Cell \u001b[1;32mIn[24], line 12\u001b[0m\n\u001b[0;32m     10\u001b[0m \u001b[38;5;66;03m# Loop para repetir o processo\u001b[39;00m\n\u001b[0;32m     11\u001b[0m \u001b[38;5;28;01mfor\u001b[39;00m i \u001b[38;5;129;01min\u001b[39;00m tqdm(\u001b[38;5;28mrange\u001b[39m(num_repeticoes)):\n\u001b[1;32m---> 12\u001b[0m     x_train, x_test, y_train, y_test \u001b[38;5;241m=\u001b[39m train_test_split(\u001b[43mX_resampled\u001b[49m, y_resampled, test_size\u001b[38;5;241m=\u001b[39m\u001b[38;5;241m0.2\u001b[39m, stratify\u001b[38;5;241m=\u001b[39my_resampled)\n\u001b[0;32m     13\u001b[0m     \u001b[38;5;66;03m# Inicializar o modelo de árvore de decisão com Gini Impurity e sem limitação de altura\u001b[39;00m\n\u001b[0;32m     14\u001b[0m     modelo_arvore \u001b[38;5;241m=\u001b[39m DecisionTreeClassifier(criterion\u001b[38;5;241m=\u001b[39m\u001b[38;5;124m'\u001b[39m\u001b[38;5;124mgini\u001b[39m\u001b[38;5;124m'\u001b[39m)\n",
      "\u001b[1;31mNameError\u001b[0m: name 'X_resampled' is not defined"
     ]
    }
   ],
   "source": [
    "num_repeticoes = 30\n",
    "\n",
    "# Listas para armazenar as métricas\n",
    "acuracias = []\n",
    "precisoes = []\n",
    "recalls = []\n",
    "f1_scores = []\n",
    "roc_auc_scores = []\n",
    "\n",
    "# Loop para repetir o processo\n",
    "for i in tqdm(range(num_repeticoes)):\n",
    "    x_train, x_test, y_train, y_test = train_test_split(X_resampled, y_resampled, test_size=0.2, stratify=y_resampled)\n",
    "    # Inicializar o modelo de árvore de decisão com Gini Impurity e sem limitação de altura\n",
    "    modelo_arvore = DecisionTreeClassifier(criterion='gini')\n",
    "\n",
    "    # Treinar o modelo no conjunto de treino\n",
    "    modelo_arvore.fit(x_train, y_train)\n",
    "\n",
    "    # Fazer previsões no conjunto de teste\n",
    "    previsoes = modelo_arvore.predict(x_test)\n",
    "\n",
    "    # Avaliar as métricas do modelo e armazenar na lista\n",
    "    acuracia = accuracy_score(y_test, previsoes)\n",
    "    precisao = precision_score(y_test, previsoes)\n",
    "    recall = recall_score(y_test, previsoes)\n",
    "    f1 = f1_score(y_test, previsoes)\n",
    "    roc_auc = roc_auc_score(y_test, previsoes)\n",
    "    \n",
    "    acuracias.append(acuracia)\n",
    "    precisoes.append(precisao)\n",
    "    recalls.append(recall)\n",
    "    f1_scores.append(f1)\n",
    "    roc_auc_scores.append(roc_auc)\n",
    "\n",
    "    print(f'Repetição {i+1} - Acurácia: {acuracia:.2f}, Precisão: {precisao:.2f}, Recall: {recall:.2f}, F1-score: {f1:.2f}, ROC AUC: {roc_auc:.2f}')\n",
    "\n",
    "# Calcular as médias das métricas\n",
    "media_acuracias = np.mean(acuracias)\n",
    "media_precisoes = np.mean(precisoes)\n",
    "media_recalls = np.mean(recalls)\n",
    "media_f1_scores = np.mean(f1_scores)\n",
    "media_roc_auc_scores = np.mean(roc_auc_scores)\n",
    "\n",
    "# Calcular os desvios padrão das métricas\n",
    "dp_acuracias = np.std(acuracias)\n",
    "dp_precisoes = np.std(precisoes)\n",
    "dp_recalls = np.std(recalls)\n",
    "dp_f1_scores = np.std(f1_scores)\n",
    "dp_roc_auc_scores = np.std(roc_auc_scores)\n",
    "\n",
    "# Adicionar as médias e desvios padrão às listas de métricas\n",
    "AcurracyPosBal.append(media_acuracias)\n",
    "PrecisionPosBal.append(media_precisoes)\n",
    "RecallPosBal.append(media_recalls)\n",
    "F1_scorePosBal.append(media_f1_scores)\n",
    "Roc_aucPosBal.append(media_roc_auc_scores)\n",
    "\n",
    "AcurracyDPPosBal.append(dp_acuracias)\n",
    "PrecisionDPPosBal.append(dp_precisoes)\n",
    "RecallDPPosBal.append(dp_recalls)\n",
    "F1_scoreDPPosBal.append(dp_f1_scores)\n",
    "Roc_aucDPPosBal.append(dp_roc_auc_scores)\n",
    "\n",
    "print(f'Média das Acurácias: {media_acuracias:.5f} ± {dp_acuracias:.5f}')\n",
    "print(f'Média das Precisões: {media_precisoes:.5f} ± {dp_precisoes:.5f}')\n",
    "print(f'Média dos Recalls: {media_recalls:.5f} ± {dp_recalls:.5f}')\n",
    "print(f'Média dos F1-scores: {media_f1_scores:.5f} ± {dp_f1_scores:.5f}')\n",
    "print(f'Média dos ROC AUC: {media_roc_auc_scores:.5f} ± {dp_roc_auc_scores:.5f}')"
   ]
  },
  {
   "cell_type": "markdown",
   "metadata": {},
   "source": [
    "#### Naive Bayes"
   ]
  },
  {
   "cell_type": "code",
   "execution_count": null,
   "metadata": {},
   "outputs": [
    {
     "name": "stderr",
     "output_type": "stream",
     "text": [
      "  3%|▎         | 1/30 [00:00<00:04,  6.53it/s]"
     ]
    },
    {
     "name": "stdout",
     "output_type": "stream",
     "text": [
      "Repetição 1 - Acurácia: 0.73, Precisão: 0.73, Recall: 0.74, F1-score: 0.73, ROC AUC: 0.73\n"
     ]
    },
    {
     "name": "stderr",
     "output_type": "stream",
     "text": [
      "  7%|▋         | 2/30 [00:00<00:03,  7.06it/s]"
     ]
    },
    {
     "name": "stdout",
     "output_type": "stream",
     "text": [
      "Repetição 2 - Acurácia: 0.73, Precisão: 0.73, Recall: 0.74, F1-score: 0.73, ROC AUC: 0.73\n"
     ]
    },
    {
     "name": "stderr",
     "output_type": "stream",
     "text": [
      " 10%|█         | 3/30 [00:00<00:03,  7.27it/s]"
     ]
    },
    {
     "name": "stdout",
     "output_type": "stream",
     "text": [
      "Repetição 3 - Acurácia: 0.74, Precisão: 0.73, Recall: 0.74, F1-score: 0.74, ROC AUC: 0.74\n"
     ]
    },
    {
     "name": "stderr",
     "output_type": "stream",
     "text": [
      " 13%|█▎        | 4/30 [00:00<00:03,  7.16it/s]"
     ]
    },
    {
     "name": "stdout",
     "output_type": "stream",
     "text": [
      "Repetição 4 - Acurácia: 0.73, Precisão: 0.73, Recall: 0.74, F1-score: 0.73, ROC AUC: 0.73\n"
     ]
    },
    {
     "name": "stderr",
     "output_type": "stream",
     "text": [
      " 17%|█▋        | 5/30 [00:00<00:03,  7.31it/s]"
     ]
    },
    {
     "name": "stdout",
     "output_type": "stream",
     "text": [
      "Repetição 5 - Acurácia: 0.73, Precisão: 0.73, Recall: 0.74, F1-score: 0.74, ROC AUC: 0.73\n"
     ]
    },
    {
     "name": "stderr",
     "output_type": "stream",
     "text": [
      " 20%|██        | 6/30 [00:00<00:03,  7.41it/s]"
     ]
    },
    {
     "name": "stdout",
     "output_type": "stream",
     "text": [
      "Repetição 6 - Acurácia: 0.73, Precisão: 0.72, Recall: 0.75, F1-score: 0.74, ROC AUC: 0.73\n"
     ]
    },
    {
     "name": "stderr",
     "output_type": "stream",
     "text": [
      " 23%|██▎       | 7/30 [00:00<00:03,  7.43it/s]"
     ]
    },
    {
     "name": "stdout",
     "output_type": "stream",
     "text": [
      "Repetição 7 - Acurácia: 0.73, Precisão: 0.73, Recall: 0.74, F1-score: 0.73, ROC AUC: 0.73\n"
     ]
    },
    {
     "name": "stderr",
     "output_type": "stream",
     "text": [
      " 27%|██▋       | 8/30 [00:01<00:02,  7.45it/s]"
     ]
    },
    {
     "name": "stdout",
     "output_type": "stream",
     "text": [
      "Repetição 8 - Acurácia: 0.73, Precisão: 0.72, Recall: 0.74, F1-score: 0.73, ROC AUC: 0.73\n"
     ]
    },
    {
     "name": "stderr",
     "output_type": "stream",
     "text": [
      " 30%|███       | 9/30 [00:01<00:02,  7.52it/s]"
     ]
    },
    {
     "name": "stdout",
     "output_type": "stream",
     "text": [
      "Repetição 9 - Acurácia: 0.73, Precisão: 0.72, Recall: 0.74, F1-score: 0.73, ROC AUC: 0.73\n"
     ]
    },
    {
     "name": "stderr",
     "output_type": "stream",
     "text": [
      " 33%|███▎      | 10/30 [00:01<00:02,  7.49it/s]"
     ]
    },
    {
     "name": "stdout",
     "output_type": "stream",
     "text": [
      "Repetição 10 - Acurácia: 0.73, Precisão: 0.73, Recall: 0.75, F1-score: 0.74, ROC AUC: 0.73\n"
     ]
    },
    {
     "name": "stderr",
     "output_type": "stream",
     "text": [
      " 37%|███▋      | 11/30 [00:01<00:02,  7.56it/s]"
     ]
    },
    {
     "name": "stdout",
     "output_type": "stream",
     "text": [
      "Repetição 11 - Acurácia: 0.73, Precisão: 0.73, Recall: 0.74, F1-score: 0.74, ROC AUC: 0.73\n"
     ]
    },
    {
     "name": "stderr",
     "output_type": "stream",
     "text": [
      " 40%|████      | 12/30 [00:01<00:02,  7.55it/s]"
     ]
    },
    {
     "name": "stdout",
     "output_type": "stream",
     "text": [
      "Repetição 12 - Acurácia: 0.74, Precisão: 0.73, Recall: 0.76, F1-score: 0.74, ROC AUC: 0.74\n"
     ]
    },
    {
     "name": "stderr",
     "output_type": "stream",
     "text": [
      " 43%|████▎     | 13/30 [00:01<00:02,  7.55it/s]"
     ]
    },
    {
     "name": "stdout",
     "output_type": "stream",
     "text": [
      "Repetição 13 - Acurácia: 0.73, Precisão: 0.72, Recall: 0.74, F1-score: 0.73, ROC AUC: 0.73\n"
     ]
    },
    {
     "name": "stderr",
     "output_type": "stream",
     "text": [
      " 47%|████▋     | 14/30 [00:01<00:02,  7.51it/s]"
     ]
    },
    {
     "name": "stdout",
     "output_type": "stream",
     "text": [
      "Repetição 14 - Acurácia: 0.72, Precisão: 0.73, Recall: 0.71, F1-score: 0.72, ROC AUC: 0.72\n"
     ]
    },
    {
     "name": "stderr",
     "output_type": "stream",
     "text": [
      " 50%|█████     | 15/30 [00:02<00:01,  7.56it/s]"
     ]
    },
    {
     "name": "stdout",
     "output_type": "stream",
     "text": [
      "Repetição 15 - Acurácia: 0.73, Precisão: 0.72, Recall: 0.75, F1-score: 0.74, ROC AUC: 0.73\n"
     ]
    },
    {
     "name": "stderr",
     "output_type": "stream",
     "text": [
      " 53%|█████▎    | 16/30 [00:02<00:01,  7.49it/s]"
     ]
    },
    {
     "name": "stdout",
     "output_type": "stream",
     "text": [
      "Repetição 16 - Acurácia: 0.73, Precisão: 0.72, Recall: 0.74, F1-score: 0.73, ROC AUC: 0.73\n"
     ]
    },
    {
     "name": "stderr",
     "output_type": "stream",
     "text": [
      " 57%|█████▋    | 17/30 [00:02<00:01,  7.49it/s]"
     ]
    },
    {
     "name": "stdout",
     "output_type": "stream",
     "text": [
      "Repetição 17 - Acurácia: 0.73, Precisão: 0.72, Recall: 0.75, F1-score: 0.73, ROC AUC: 0.73\n"
     ]
    },
    {
     "name": "stderr",
     "output_type": "stream",
     "text": [
      " 60%|██████    | 18/30 [00:02<00:01,  7.52it/s]"
     ]
    },
    {
     "name": "stdout",
     "output_type": "stream",
     "text": [
      "Repetição 18 - Acurácia: 0.74, Precisão: 0.73, Recall: 0.74, F1-score: 0.74, ROC AUC: 0.74\n"
     ]
    },
    {
     "name": "stderr",
     "output_type": "stream",
     "text": [
      " 63%|██████▎   | 19/30 [00:02<00:01,  7.55it/s]"
     ]
    },
    {
     "name": "stdout",
     "output_type": "stream",
     "text": [
      "Repetição 19 - Acurácia: 0.73, Precisão: 0.72, Recall: 0.74, F1-score: 0.73, ROC AUC: 0.73\n"
     ]
    },
    {
     "name": "stderr",
     "output_type": "stream",
     "text": [
      " 67%|██████▋   | 20/30 [00:02<00:01,  7.55it/s]"
     ]
    },
    {
     "name": "stdout",
     "output_type": "stream",
     "text": [
      "Repetição 20 - Acurácia: 0.73, Precisão: 0.72, Recall: 0.75, F1-score: 0.73, ROC AUC: 0.73\n"
     ]
    },
    {
     "name": "stderr",
     "output_type": "stream",
     "text": [
      " 70%|███████   | 21/30 [00:02<00:01,  7.55it/s]"
     ]
    },
    {
     "name": "stdout",
     "output_type": "stream",
     "text": [
      "Repetição 21 - Acurácia: 0.72, Precisão: 0.73, Recall: 0.70, F1-score: 0.71, ROC AUC: 0.72\n"
     ]
    },
    {
     "name": "stderr",
     "output_type": "stream",
     "text": [
      " 73%|███████▎  | 22/30 [00:02<00:01,  7.54it/s]"
     ]
    },
    {
     "name": "stdout",
     "output_type": "stream",
     "text": [
      "Repetição 22 - Acurácia: 0.73, Precisão: 0.72, Recall: 0.75, F1-score: 0.73, ROC AUC: 0.73\n"
     ]
    },
    {
     "name": "stderr",
     "output_type": "stream",
     "text": [
      " 77%|███████▋  | 23/30 [00:03<00:00,  7.58it/s]"
     ]
    },
    {
     "name": "stdout",
     "output_type": "stream",
     "text": [
      "Repetição 23 - Acurácia: 0.73, Precisão: 0.73, Recall: 0.75, F1-score: 0.74, ROC AUC: 0.73\n"
     ]
    },
    {
     "name": "stderr",
     "output_type": "stream",
     "text": [
      " 80%|████████  | 24/30 [00:03<00:00,  7.58it/s]"
     ]
    },
    {
     "name": "stdout",
     "output_type": "stream",
     "text": [
      "Repetição 24 - Acurácia: 0.73, Precisão: 0.72, Recall: 0.74, F1-score: 0.73, ROC AUC: 0.73\n"
     ]
    },
    {
     "name": "stderr",
     "output_type": "stream",
     "text": [
      " 83%|████████▎ | 25/30 [00:03<00:00,  7.53it/s]"
     ]
    },
    {
     "name": "stdout",
     "output_type": "stream",
     "text": [
      "Repetição 25 - Acurácia: 0.73, Precisão: 0.72, Recall: 0.75, F1-score: 0.73, ROC AUC: 0.73\n"
     ]
    },
    {
     "name": "stderr",
     "output_type": "stream",
     "text": [
      " 87%|████████▋ | 26/30 [00:03<00:00,  7.45it/s]"
     ]
    },
    {
     "name": "stdout",
     "output_type": "stream",
     "text": [
      "Repetição 26 - Acurácia: 0.73, Precisão: 0.72, Recall: 0.75, F1-score: 0.73, ROC AUC: 0.73\n"
     ]
    },
    {
     "name": "stderr",
     "output_type": "stream",
     "text": [
      " 90%|█████████ | 27/30 [00:03<00:00,  7.38it/s]"
     ]
    },
    {
     "name": "stdout",
     "output_type": "stream",
     "text": [
      "Repetição 27 - Acurácia: 0.72, Precisão: 0.73, Recall: 0.69, F1-score: 0.71, ROC AUC: 0.72\n"
     ]
    },
    {
     "name": "stderr",
     "output_type": "stream",
     "text": [
      " 93%|█████████▎| 28/30 [00:03<00:00,  7.34it/s]"
     ]
    },
    {
     "name": "stdout",
     "output_type": "stream",
     "text": [
      "Repetição 28 - Acurácia: 0.73, Precisão: 0.72, Recall: 0.74, F1-score: 0.73, ROC AUC: 0.73\n"
     ]
    },
    {
     "name": "stderr",
     "output_type": "stream",
     "text": [
      " 97%|█████████▋| 29/30 [00:03<00:00,  7.38it/s]"
     ]
    },
    {
     "name": "stdout",
     "output_type": "stream",
     "text": [
      "Repetição 29 - Acurácia: 0.74, Precisão: 0.74, Recall: 0.74, F1-score: 0.74, ROC AUC: 0.74\n"
     ]
    },
    {
     "name": "stderr",
     "output_type": "stream",
     "text": [
      "100%|██████████| 30/30 [00:04<00:00,  7.43it/s]"
     ]
    },
    {
     "name": "stdout",
     "output_type": "stream",
     "text": [
      "Repetição 30 - Acurácia: 0.73, Precisão: 0.73, Recall: 0.74, F1-score: 0.73, ROC AUC: 0.73\n",
      "Média das Acurácias: 0.72989 ± 0.00460\n",
      "Média das Precisões: 0.72553 ± 0.00473\n",
      "Média dos Recalls: 0.73969 ± 0.01407\n",
      "Média dos F1-scores: 0.73245 ± 0.00672\n",
      "Média dos ROC AUC: 0.72989 ± 0.00460\n"
     ]
    },
    {
     "name": "stderr",
     "output_type": "stream",
     "text": [
      "\n"
     ]
    }
   ],
   "source": [
    "num_repeticoes = 30\n",
    "\n",
    "# Listas para armazenar as métricas\n",
    "acuracias = []\n",
    "precisoes = []\n",
    "recalls = []\n",
    "f1_scores = []\n",
    "roc_auc_scores = []\n",
    "\n",
    "# Loop para repetir o processo\n",
    "for i in tqdm(range(num_repeticoes)):\n",
    "\n",
    "    x_train, x_test, y_train, y_test = train_test_split(X_resampled, y_resampled, test_size=0.2, stratify=y_resampled)\n",
    "    \n",
    "    #Inicializar o modelo de Naive Bayes com distribuição de Bernoulli\n",
    "    modelo_naive_bayes = GaussianNB()\n",
    "\n",
    "    # Treinar o modelo no conjunto de treino\n",
    "    modelo_naive_bayes.fit(x_train, y_train)\n",
    "\n",
    "    # Fazer previsões no conjunto de teste\n",
    "    previsoes = modelo_naive_bayes.predict(x_test)\n",
    "\n",
    "    # Avaliar as métricas do modelo e armazenar na lista\n",
    "    acuracia = accuracy_score(y_test, previsoes)\n",
    "    precisao = precision_score(y_test, previsoes)\n",
    "    recall = recall_score(y_test, previsoes)\n",
    "    f1 = f1_score(y_test, previsoes)\n",
    "    roc_auc = roc_auc_score(y_test, previsoes)\n",
    "    \n",
    "    acuracias.append(acuracia)\n",
    "    precisoes.append(precisao)\n",
    "    recalls.append(recall)\n",
    "    f1_scores.append(f1)\n",
    "    roc_auc_scores.append(roc_auc)\n",
    "\n",
    "    print(f'Repetição {i+1} - Acurácia: {acuracia:.2f}, Precisão: {precisao:.2f}, Recall: {recall:.2f}, F1-score: {f1:.2f}, ROC AUC: {roc_auc:.2f}')\n",
    "\n",
    "# Calcular as médias das métricas\n",
    "media_acuracias = np.mean(acuracias)\n",
    "media_precisoes = np.mean(precisoes)\n",
    "media_recalls = np.mean(recalls)\n",
    "media_f1_scores = np.mean(f1_scores)\n",
    "media_roc_auc_scores = np.mean(roc_auc_scores)\n",
    "\n",
    "# Calcular os desvios padrão das métricas\n",
    "dp_acuracias = np.std(acuracias)\n",
    "dp_precisoes = np.std(precisoes)\n",
    "dp_recalls = np.std(recalls)\n",
    "dp_f1_scores = np.std(f1_scores)\n",
    "dp_roc_auc_scores = np.std(roc_auc_scores)\n",
    "\n",
    "# Adicionar as médias e desvios padrão às listas de métricas\n",
    "AcurracyPosBal.append(media_acuracias)\n",
    "PrecisionPosBal.append(media_precisoes)\n",
    "RecallPosBal.append(media_recalls)\n",
    "F1_scorePosBal.append(media_f1_scores)\n",
    "Roc_aucPosBal.append(media_roc_auc_scores)\n",
    "\n",
    "AcurracyDPPosBal.append(dp_acuracias)\n",
    "PrecisionDPPosBal.append(dp_precisoes)\n",
    "RecallDPPosBal.append(dp_recalls)\n",
    "F1_scoreDPPosBal.append(dp_f1_scores)\n",
    "Roc_aucDPPosBal.append(dp_roc_auc_scores)\n",
    "\n",
    "print(f'Média das Acurácias: {media_acuracias:.5f} ± {dp_acuracias:.5f}')\n",
    "print(f'Média das Precisões: {media_precisoes:.5f} ± {dp_precisoes:.5f}')\n",
    "print(f'Média dos Recalls: {media_recalls:.5f} ± {dp_recalls:.5f}')\n",
    "print(f'Média dos F1-scores: {media_f1_scores:.5f} ± {dp_f1_scores:.5f}')\n",
    "print(f'Média dos ROC AUC: {media_roc_auc_scores:.5f} ± {dp_roc_auc_scores:.5f}')"
   ]
  },
  {
   "cell_type": "markdown",
   "metadata": {},
   "source": [
    "#### MLP"
   ]
  },
  {
   "cell_type": "code",
   "execution_count": null,
   "metadata": {},
   "outputs": [
    {
     "name": "stderr",
     "output_type": "stream",
     "text": [
      "  3%|▎         | 1/30 [01:43<49:47, 103.03s/it]"
     ]
    },
    {
     "name": "stdout",
     "output_type": "stream",
     "text": [
      "Repetição 1 - Acurácia: 0.93, Precisão: 0.92, Recall: 0.95, F1-score: 0.94, ROC AUC: 0.93\n"
     ]
    },
    {
     "name": "stderr",
     "output_type": "stream",
     "text": [
      "  7%|▋         | 2/30 [03:13<44:42, 95.81s/it] "
     ]
    },
    {
     "name": "stdout",
     "output_type": "stream",
     "text": [
      "Repetição 2 - Acurácia: 0.93, Precisão: 0.92, Recall: 0.95, F1-score: 0.94, ROC AUC: 0.93\n"
     ]
    },
    {
     "name": "stderr",
     "output_type": "stream",
     "text": [
      " 10%|█         | 3/30 [04:37<40:37, 90.27s/it]"
     ]
    },
    {
     "name": "stdout",
     "output_type": "stream",
     "text": [
      "Repetição 3 - Acurácia: 0.93, Precisão: 0.94, Recall: 0.92, F1-score: 0.93, ROC AUC: 0.93\n"
     ]
    },
    {
     "name": "stderr",
     "output_type": "stream",
     "text": [
      " 13%|█▎        | 4/30 [06:12<39:55, 92.12s/it]"
     ]
    },
    {
     "name": "stdout",
     "output_type": "stream",
     "text": [
      "Repetição 4 - Acurácia: 0.93, Precisão: 0.93, Recall: 0.93, F1-score: 0.93, ROC AUC: 0.93\n"
     ]
    },
    {
     "name": "stderr",
     "output_type": "stream",
     "text": [
      " 17%|█▋        | 5/30 [08:05<41:34, 99.79s/it]"
     ]
    },
    {
     "name": "stdout",
     "output_type": "stream",
     "text": [
      "Repetição 5 - Acurácia: 0.94, Precisão: 0.94, Recall: 0.93, F1-score: 0.94, ROC AUC: 0.94\n"
     ]
    },
    {
     "name": "stderr",
     "output_type": "stream",
     "text": [
      " 20%|██        | 6/30 [09:17<36:07, 90.33s/it]"
     ]
    },
    {
     "name": "stdout",
     "output_type": "stream",
     "text": [
      "Repetição 6 - Acurácia: 0.93, Precisão: 0.93, Recall: 0.93, F1-score: 0.93, ROC AUC: 0.93\n"
     ]
    },
    {
     "name": "stderr",
     "output_type": "stream",
     "text": [
      " 23%|██▎       | 7/30 [11:21<38:49, 101.30s/it]"
     ]
    },
    {
     "name": "stdout",
     "output_type": "stream",
     "text": [
      "Repetição 7 - Acurácia: 0.94, Precisão: 0.94, Recall: 0.94, F1-score: 0.94, ROC AUC: 0.94\n"
     ]
    },
    {
     "name": "stderr",
     "output_type": "stream",
     "text": [
      " 27%|██▋       | 8/30 [12:41<34:39, 94.54s/it] "
     ]
    },
    {
     "name": "stdout",
     "output_type": "stream",
     "text": [
      "Repetição 8 - Acurácia: 0.93, Precisão: 0.93, Recall: 0.93, F1-score: 0.93, ROC AUC: 0.93\n"
     ]
    },
    {
     "name": "stderr",
     "output_type": "stream",
     "text": [
      " 30%|███       | 9/30 [14:30<34:41, 99.11s/it]"
     ]
    },
    {
     "name": "stdout",
     "output_type": "stream",
     "text": [
      "Repetição 9 - Acurácia: 0.94, Precisão: 0.93, Recall: 0.94, F1-score: 0.94, ROC AUC: 0.94\n"
     ]
    },
    {
     "name": "stderr",
     "output_type": "stream",
     "text": [
      " 33%|███▎      | 10/30 [15:48<30:47, 92.36s/it]"
     ]
    },
    {
     "name": "stdout",
     "output_type": "stream",
     "text": [
      "Repetição 10 - Acurácia: 0.94, Precisão: 0.93, Recall: 0.95, F1-score: 0.94, ROC AUC: 0.94\n"
     ]
    },
    {
     "name": "stderr",
     "output_type": "stream",
     "text": [
      " 37%|███▋      | 11/30 [17:28<30:04, 94.95s/it]"
     ]
    },
    {
     "name": "stdout",
     "output_type": "stream",
     "text": [
      "Repetição 11 - Acurácia: 0.94, Precisão: 0.92, Recall: 0.95, F1-score: 0.94, ROC AUC: 0.94\n"
     ]
    },
    {
     "name": "stderr",
     "output_type": "stream",
     "text": [
      " 40%|████      | 12/30 [19:09<28:59, 96.64s/it]"
     ]
    },
    {
     "name": "stdout",
     "output_type": "stream",
     "text": [
      "Repetição 12 - Acurácia: 0.94, Precisão: 0.93, Recall: 0.95, F1-score: 0.94, ROC AUC: 0.94\n"
     ]
    },
    {
     "name": "stderr",
     "output_type": "stream",
     "text": [
      " 43%|████▎     | 13/30 [21:13<29:42, 104.86s/it]"
     ]
    },
    {
     "name": "stdout",
     "output_type": "stream",
     "text": [
      "Repetição 13 - Acurácia: 0.93, Precisão: 0.93, Recall: 0.94, F1-score: 0.93, ROC AUC: 0.93\n"
     ]
    },
    {
     "name": "stderr",
     "output_type": "stream",
     "text": [
      " 47%|████▋     | 14/30 [22:39<26:27, 99.25s/it] "
     ]
    },
    {
     "name": "stdout",
     "output_type": "stream",
     "text": [
      "Repetição 14 - Acurácia: 0.93, Precisão: 0.94, Recall: 0.93, F1-score: 0.93, ROC AUC: 0.93\n"
     ]
    },
    {
     "name": "stderr",
     "output_type": "stream",
     "text": [
      " 50%|█████     | 15/30 [24:52<27:22, 109.48s/it]"
     ]
    },
    {
     "name": "stdout",
     "output_type": "stream",
     "text": [
      "Repetição 15 - Acurácia: 0.94, Precisão: 0.94, Recall: 0.94, F1-score: 0.94, ROC AUC: 0.94\n"
     ]
    },
    {
     "name": "stderr",
     "output_type": "stream",
     "text": [
      " 53%|█████▎    | 16/30 [26:53<26:22, 113.01s/it]"
     ]
    },
    {
     "name": "stdout",
     "output_type": "stream",
     "text": [
      "Repetição 16 - Acurácia: 0.93, Precisão: 0.96, Recall: 0.90, F1-score: 0.93, ROC AUC: 0.93\n"
     ]
    },
    {
     "name": "stderr",
     "output_type": "stream",
     "text": [
      " 57%|█████▋    | 17/30 [28:42<24:10, 111.57s/it]"
     ]
    },
    {
     "name": "stdout",
     "output_type": "stream",
     "text": [
      "Repetição 17 - Acurácia: 0.94, Precisão: 0.94, Recall: 0.94, F1-score: 0.94, ROC AUC: 0.94\n"
     ]
    },
    {
     "name": "stderr",
     "output_type": "stream",
     "text": [
      " 60%|██████    | 18/30 [30:32<22:13, 111.09s/it]"
     ]
    },
    {
     "name": "stdout",
     "output_type": "stream",
     "text": [
      "Repetição 18 - Acurácia: 0.94, Precisão: 0.93, Recall: 0.95, F1-score: 0.94, ROC AUC: 0.94\n"
     ]
    },
    {
     "name": "stderr",
     "output_type": "stream",
     "text": [
      " 63%|██████▎   | 19/30 [32:04<19:19, 105.43s/it]"
     ]
    },
    {
     "name": "stdout",
     "output_type": "stream",
     "text": [
      "Repetição 19 - Acurácia: 0.93, Precisão: 0.93, Recall: 0.92, F1-score: 0.93, ROC AUC: 0.93\n"
     ]
    },
    {
     "name": "stderr",
     "output_type": "stream",
     "text": [
      " 67%|██████▋   | 20/30 [33:53<17:45, 106.56s/it]"
     ]
    },
    {
     "name": "stdout",
     "output_type": "stream",
     "text": [
      "Repetição 20 - Acurácia: 0.93, Precisão: 0.95, Recall: 0.91, F1-score: 0.93, ROC AUC: 0.93\n"
     ]
    },
    {
     "name": "stderr",
     "output_type": "stream",
     "text": [
      " 70%|███████   | 21/30 [35:17<14:58, 99.81s/it] "
     ]
    },
    {
     "name": "stdout",
     "output_type": "stream",
     "text": [
      "Repetição 21 - Acurácia: 0.94, Precisão: 0.92, Recall: 0.95, F1-score: 0.94, ROC AUC: 0.94\n"
     ]
    },
    {
     "name": "stderr",
     "output_type": "stream",
     "text": [
      " 73%|███████▎  | 22/30 [36:41<12:40, 95.05s/it]"
     ]
    },
    {
     "name": "stdout",
     "output_type": "stream",
     "text": [
      "Repetição 22 - Acurácia: 0.94, Precisão: 0.94, Recall: 0.93, F1-score: 0.94, ROC AUC: 0.94\n"
     ]
    },
    {
     "name": "stderr",
     "output_type": "stream",
     "text": [
      " 77%|███████▋  | 23/30 [38:07<10:46, 92.32s/it]"
     ]
    },
    {
     "name": "stdout",
     "output_type": "stream",
     "text": [
      "Repetição 23 - Acurácia: 0.94, Precisão: 0.92, Recall: 0.96, F1-score: 0.94, ROC AUC: 0.94\n"
     ]
    },
    {
     "name": "stderr",
     "output_type": "stream",
     "text": [
      " 80%|████████  | 24/30 [39:20<08:38, 86.46s/it]"
     ]
    },
    {
     "name": "stdout",
     "output_type": "stream",
     "text": [
      "Repetição 24 - Acurácia: 0.94, Precisão: 0.93, Recall: 0.94, F1-score: 0.94, ROC AUC: 0.94\n"
     ]
    },
    {
     "name": "stderr",
     "output_type": "stream",
     "text": [
      " 83%|████████▎ | 25/30 [40:55<07:24, 88.95s/it]"
     ]
    },
    {
     "name": "stdout",
     "output_type": "stream",
     "text": [
      "Repetição 25 - Acurácia: 0.94, Precisão: 0.94, Recall: 0.94, F1-score: 0.94, ROC AUC: 0.94\n"
     ]
    },
    {
     "name": "stderr",
     "output_type": "stream",
     "text": [
      " 87%|████████▋ | 26/30 [42:13<05:42, 85.70s/it]"
     ]
    },
    {
     "name": "stdout",
     "output_type": "stream",
     "text": [
      "Repetição 26 - Acurácia: 0.93, Precisão: 0.92, Recall: 0.94, F1-score: 0.93, ROC AUC: 0.93\n"
     ]
    },
    {
     "name": "stderr",
     "output_type": "stream",
     "text": [
      " 90%|█████████ | 27/30 [43:39<04:17, 85.80s/it]"
     ]
    },
    {
     "name": "stdout",
     "output_type": "stream",
     "text": [
      "Repetição 27 - Acurácia: 0.94, Precisão: 0.95, Recall: 0.92, F1-score: 0.93, ROC AUC: 0.94\n"
     ]
    },
    {
     "name": "stderr",
     "output_type": "stream",
     "text": [
      " 93%|█████████▎| 28/30 [45:09<02:54, 87.13s/it]"
     ]
    },
    {
     "name": "stdout",
     "output_type": "stream",
     "text": [
      "Repetição 28 - Acurácia: 0.94, Precisão: 0.93, Recall: 0.94, F1-score: 0.94, ROC AUC: 0.94\n"
     ]
    },
    {
     "name": "stderr",
     "output_type": "stream",
     "text": [
      " 97%|█████████▋| 29/30 [46:34<01:26, 86.61s/it]"
     ]
    },
    {
     "name": "stdout",
     "output_type": "stream",
     "text": [
      "Repetição 29 - Acurácia: 0.94, Precisão: 0.92, Recall: 0.95, F1-score: 0.94, ROC AUC: 0.94\n"
     ]
    },
    {
     "name": "stderr",
     "output_type": "stream",
     "text": [
      "100%|██████████| 30/30 [47:38<00:00, 95.29s/it]"
     ]
    },
    {
     "name": "stdout",
     "output_type": "stream",
     "text": [
      "Repetição 30 - Acurácia: 0.93, Precisão: 0.93, Recall: 0.94, F1-score: 0.93, ROC AUC: 0.93\n",
      "Média das Acurácias: 0.93477 ± 0.00278\n",
      "Média das Precisões: 0.93293 ± 0.00851\n",
      "Média dos Recalls: 0.93709 ± 0.01225\n",
      "Média dos F1-scores: 0.93490 ± 0.00317\n",
      "Média dos ROC AUC: 0.93477 ± 0.00278\n"
     ]
    },
    {
     "name": "stderr",
     "output_type": "stream",
     "text": [
      "\n"
     ]
    }
   ],
   "source": [
    "num_repeticoes = 30\n",
    "\n",
    "# Listas para armazenar as métricas\n",
    "acuracias = []\n",
    "precisoes = []\n",
    "recalls = []\n",
    "f1_scores = []\n",
    "roc_auc_scores = []\n",
    "\n",
    "# Loop para repetir o processo\n",
    "for i in tqdm(range(num_repeticoes)):\n",
    "\n",
    "    x_train, x_test, y_train, y_test = train_test_split(X_resampled, y_resampled, test_size=0.2, stratify=y_resampled)\n",
    "    \n",
    "    # Inicializar o modelo MLP\n",
    "    modelo_mlp = MLPClassifier(hidden_layer_sizes=(100), max_iter=1000)\n",
    "\n",
    "    # Treinar o modelo no conjunto de treino\n",
    "    modelo_mlp.fit(x_train, y_train)\n",
    "\n",
    "    # Fazer previsões no conjunto de teste\n",
    "    previsoes = modelo_mlp.predict(x_test)\n",
    "\n",
    "    # Avaliar as métricas do modelo e armazenar na lista\n",
    "    acuracia = accuracy_score(y_test, previsoes)\n",
    "    precisao = precision_score(y_test, previsoes)\n",
    "    recall = recall_score(y_test, previsoes)\n",
    "    f1 = f1_score(y_test, previsoes)\n",
    "    roc_auc = roc_auc_score(y_test, previsoes)\n",
    "    \n",
    "    acuracias.append(acuracia)\n",
    "    precisoes.append(precisao)\n",
    "    recalls.append(recall)\n",
    "    f1_scores.append(f1)\n",
    "    roc_auc_scores.append(roc_auc)\n",
    "\n",
    "    print(f'Repetição {i+1} - Acurácia: {acuracia:.2f}, Precisão: {precisao:.2f}, Recall: {recall:.2f}, F1-score: {f1:.2f}, ROC AUC: {roc_auc:.2f}')\n",
    "\n",
    "# Calcular as médias das métricas\n",
    "media_acuracias = np.mean(acuracias)\n",
    "media_precisoes = np.mean(precisoes)\n",
    "media_recalls = np.mean(recalls)\n",
    "media_f1_scores = np.mean(f1_scores)\n",
    "media_roc_auc_scores = np.mean(roc_auc_scores)\n",
    "\n",
    "# Calcular os desvios padrão das métricas\n",
    "dp_acuracias = np.std(acuracias)\n",
    "dp_precisoes = np.std(precisoes)\n",
    "dp_recalls = np.std(recalls)\n",
    "dp_f1_scores = np.std(f1_scores)\n",
    "dp_roc_auc_scores = np.std(roc_auc_scores)\n",
    "\n",
    "# Adicionar as médias e desvios padrão às listas de métricas\n",
    "AcurracyPosBal.append(media_acuracias)\n",
    "PrecisionPosBal.append(media_precisoes)\n",
    "RecallPosBal.append(media_recalls)\n",
    "F1_scorePosBal.append(media_f1_scores)\n",
    "Roc_aucPosBal.append(media_roc_auc_scores)\n",
    "\n",
    "AcurracyDPPosBal.append(dp_acuracias)\n",
    "PrecisionDPPosBal.append(dp_precisoes)\n",
    "RecallDPPosBal.append(dp_recalls)\n",
    "F1_scoreDPPosBal.append(dp_f1_scores)\n",
    "Roc_aucDPPosBal.append(dp_roc_auc_scores)\n",
    "\n",
    "print(f'Média das Acurácias: {media_acuracias:.5f} ± {dp_acuracias:.5f}')\n",
    "print(f'Média das Precisões: {media_precisoes:.5f} ± {dp_precisoes:.5f}')\n",
    "print(f'Média dos Recalls: {media_recalls:.5f} ± {dp_recalls:.5f}')\n",
    "print(f'Média dos F1-scores: {media_f1_scores:.5f} ± {dp_f1_scores:.5f}')\n",
    "print(f'Média dos ROC AUC: {media_roc_auc_scores:.5f} ± {dp_roc_auc_scores:.5f}')"
   ]
  },
  {
   "cell_type": "markdown",
   "metadata": {},
   "source": [
    "#### KNN"
   ]
  },
  {
   "cell_type": "code",
   "execution_count": null,
   "metadata": {},
   "outputs": [
    {
     "name": "stderr",
     "output_type": "stream",
     "text": [
      "  3%|▎         | 1/30 [00:04<02:10,  4.51s/it]"
     ]
    },
    {
     "name": "stdout",
     "output_type": "stream",
     "text": [
      "Repetição 1 - Acurácia: 0.97, Precisão: 0.95, Recall: 0.99, F1-score: 0.97, ROC AUC: 0.97\n"
     ]
    },
    {
     "name": "stderr",
     "output_type": "stream",
     "text": [
      "  7%|▋         | 2/30 [00:08<02:05,  4.48s/it]"
     ]
    },
    {
     "name": "stdout",
     "output_type": "stream",
     "text": [
      "Repetição 2 - Acurácia: 0.97, Precisão: 0.95, Recall: 0.99, F1-score: 0.97, ROC AUC: 0.97\n"
     ]
    },
    {
     "name": "stderr",
     "output_type": "stream",
     "text": [
      " 10%|█         | 3/30 [00:12<01:55,  4.27s/it]"
     ]
    },
    {
     "name": "stdout",
     "output_type": "stream",
     "text": [
      "Repetição 3 - Acurácia: 0.97, Precisão: 0.95, Recall: 0.99, F1-score: 0.97, ROC AUC: 0.97\n"
     ]
    },
    {
     "name": "stderr",
     "output_type": "stream",
     "text": [
      " 13%|█▎        | 4/30 [00:17<01:48,  4.19s/it]"
     ]
    },
    {
     "name": "stdout",
     "output_type": "stream",
     "text": [
      "Repetição 4 - Acurácia: 0.97, Precisão: 0.95, Recall: 0.99, F1-score: 0.97, ROC AUC: 0.97\n"
     ]
    },
    {
     "name": "stderr",
     "output_type": "stream",
     "text": [
      " 17%|█▋        | 5/30 [00:21<01:43,  4.16s/it]"
     ]
    },
    {
     "name": "stdout",
     "output_type": "stream",
     "text": [
      "Repetição 5 - Acurácia: 0.97, Precisão: 0.95, Recall: 0.99, F1-score: 0.97, ROC AUC: 0.97\n"
     ]
    },
    {
     "name": "stderr",
     "output_type": "stream",
     "text": [
      " 20%|██        | 6/30 [00:24<01:35,  4.00s/it]"
     ]
    },
    {
     "name": "stdout",
     "output_type": "stream",
     "text": [
      "Repetição 6 - Acurácia: 0.97, Precisão: 0.95, Recall: 0.99, F1-score: 0.97, ROC AUC: 0.97\n"
     ]
    },
    {
     "name": "stderr",
     "output_type": "stream",
     "text": [
      " 23%|██▎       | 7/30 [00:28<01:30,  3.92s/it]"
     ]
    },
    {
     "name": "stdout",
     "output_type": "stream",
     "text": [
      "Repetição 7 - Acurácia: 0.97, Precisão: 0.95, Recall: 0.99, F1-score: 0.97, ROC AUC: 0.97\n"
     ]
    },
    {
     "name": "stderr",
     "output_type": "stream",
     "text": [
      " 27%|██▋       | 8/30 [00:32<01:25,  3.87s/it]"
     ]
    },
    {
     "name": "stdout",
     "output_type": "stream",
     "text": [
      "Repetição 8 - Acurácia: 0.97, Precisão: 0.95, Recall: 0.99, F1-score: 0.97, ROC AUC: 0.97\n"
     ]
    },
    {
     "name": "stderr",
     "output_type": "stream",
     "text": [
      " 30%|███       | 9/30 [00:36<01:20,  3.85s/it]"
     ]
    },
    {
     "name": "stdout",
     "output_type": "stream",
     "text": [
      "Repetição 9 - Acurácia: 0.97, Precisão: 0.95, Recall: 0.99, F1-score: 0.97, ROC AUC: 0.97\n"
     ]
    },
    {
     "name": "stderr",
     "output_type": "stream",
     "text": [
      " 33%|███▎      | 10/30 [00:39<01:16,  3.84s/it]"
     ]
    },
    {
     "name": "stdout",
     "output_type": "stream",
     "text": [
      "Repetição 10 - Acurácia: 0.97, Precisão: 0.95, Recall: 0.99, F1-score: 0.97, ROC AUC: 0.97\n"
     ]
    },
    {
     "name": "stderr",
     "output_type": "stream",
     "text": [
      " 37%|███▋      | 11/30 [00:43<01:12,  3.81s/it]"
     ]
    },
    {
     "name": "stdout",
     "output_type": "stream",
     "text": [
      "Repetição 11 - Acurácia: 0.97, Precisão: 0.95, Recall: 0.99, F1-score: 0.97, ROC AUC: 0.97\n"
     ]
    },
    {
     "name": "stderr",
     "output_type": "stream",
     "text": [
      " 40%|████      | 12/30 [00:47<01:08,  3.81s/it]"
     ]
    },
    {
     "name": "stdout",
     "output_type": "stream",
     "text": [
      "Repetição 12 - Acurácia: 0.97, Precisão: 0.95, Recall: 0.99, F1-score: 0.97, ROC AUC: 0.97\n"
     ]
    },
    {
     "name": "stderr",
     "output_type": "stream",
     "text": [
      " 43%|████▎     | 13/30 [00:51<01:04,  3.81s/it]"
     ]
    },
    {
     "name": "stdout",
     "output_type": "stream",
     "text": [
      "Repetição 13 - Acurácia: 0.97, Precisão: 0.95, Recall: 0.99, F1-score: 0.97, ROC AUC: 0.97\n"
     ]
    },
    {
     "name": "stderr",
     "output_type": "stream",
     "text": [
      " 47%|████▋     | 14/30 [00:55<01:00,  3.78s/it]"
     ]
    },
    {
     "name": "stdout",
     "output_type": "stream",
     "text": [
      "Repetição 14 - Acurácia: 0.97, Precisão: 0.95, Recall: 0.99, F1-score: 0.97, ROC AUC: 0.97\n"
     ]
    },
    {
     "name": "stderr",
     "output_type": "stream",
     "text": [
      " 50%|█████     | 15/30 [00:59<00:59,  3.97s/it]"
     ]
    },
    {
     "name": "stdout",
     "output_type": "stream",
     "text": [
      "Repetição 15 - Acurácia: 0.97, Precisão: 0.95, Recall: 0.99, F1-score: 0.97, ROC AUC: 0.97\n"
     ]
    },
    {
     "name": "stderr",
     "output_type": "stream",
     "text": [
      " 53%|█████▎    | 16/30 [01:03<00:57,  4.10s/it]"
     ]
    },
    {
     "name": "stdout",
     "output_type": "stream",
     "text": [
      "Repetição 16 - Acurácia: 0.97, Precisão: 0.95, Recall: 0.99, F1-score: 0.97, ROC AUC: 0.97\n"
     ]
    },
    {
     "name": "stderr",
     "output_type": "stream",
     "text": [
      " 57%|█████▋    | 17/30 [01:08<00:53,  4.12s/it]"
     ]
    },
    {
     "name": "stdout",
     "output_type": "stream",
     "text": [
      "Repetição 17 - Acurácia: 0.97, Precisão: 0.95, Recall: 0.99, F1-score: 0.97, ROC AUC: 0.97\n"
     ]
    },
    {
     "name": "stderr",
     "output_type": "stream",
     "text": [
      " 60%|██████    | 18/30 [01:12<00:49,  4.15s/it]"
     ]
    },
    {
     "name": "stdout",
     "output_type": "stream",
     "text": [
      "Repetição 18 - Acurácia: 0.97, Precisão: 0.95, Recall: 0.99, F1-score: 0.97, ROC AUC: 0.97\n"
     ]
    },
    {
     "name": "stderr",
     "output_type": "stream",
     "text": [
      " 63%|██████▎   | 19/30 [01:16<00:45,  4.18s/it]"
     ]
    },
    {
     "name": "stdout",
     "output_type": "stream",
     "text": [
      "Repetição 19 - Acurácia: 0.97, Precisão: 0.95, Recall: 0.99, F1-score: 0.97, ROC AUC: 0.97\n"
     ]
    },
    {
     "name": "stderr",
     "output_type": "stream",
     "text": [
      " 67%|██████▋   | 20/30 [01:20<00:41,  4.16s/it]"
     ]
    },
    {
     "name": "stdout",
     "output_type": "stream",
     "text": [
      "Repetição 20 - Acurácia: 0.97, Precisão: 0.95, Recall: 0.99, F1-score: 0.97, ROC AUC: 0.97\n"
     ]
    },
    {
     "name": "stderr",
     "output_type": "stream",
     "text": [
      " 70%|███████   | 21/30 [01:24<00:36,  4.11s/it]"
     ]
    },
    {
     "name": "stdout",
     "output_type": "stream",
     "text": [
      "Repetição 21 - Acurácia: 0.97, Precisão: 0.95, Recall: 0.99, F1-score: 0.97, ROC AUC: 0.97\n"
     ]
    },
    {
     "name": "stderr",
     "output_type": "stream",
     "text": [
      " 73%|███████▎  | 22/30 [01:28<00:32,  4.07s/it]"
     ]
    },
    {
     "name": "stdout",
     "output_type": "stream",
     "text": [
      "Repetição 22 - Acurácia: 0.97, Precisão: 0.95, Recall: 0.99, F1-score: 0.97, ROC AUC: 0.97\n"
     ]
    },
    {
     "name": "stderr",
     "output_type": "stream",
     "text": [
      " 77%|███████▋  | 23/30 [01:32<00:28,  4.04s/it]"
     ]
    },
    {
     "name": "stdout",
     "output_type": "stream",
     "text": [
      "Repetição 23 - Acurácia: 0.97, Precisão: 0.95, Recall: 0.99, F1-score: 0.97, ROC AUC: 0.97\n"
     ]
    },
    {
     "name": "stderr",
     "output_type": "stream",
     "text": [
      " 80%|████████  | 24/30 [01:36<00:23,  3.97s/it]"
     ]
    },
    {
     "name": "stdout",
     "output_type": "stream",
     "text": [
      "Repetição 24 - Acurácia: 0.97, Precisão: 0.95, Recall: 0.99, F1-score: 0.97, ROC AUC: 0.97\n"
     ]
    },
    {
     "name": "stderr",
     "output_type": "stream",
     "text": [
      " 83%|████████▎ | 25/30 [01:40<00:19,  3.91s/it]"
     ]
    },
    {
     "name": "stdout",
     "output_type": "stream",
     "text": [
      "Repetição 25 - Acurácia: 0.97, Precisão: 0.95, Recall: 0.99, F1-score: 0.97, ROC AUC: 0.97\n"
     ]
    },
    {
     "name": "stderr",
     "output_type": "stream",
     "text": [
      " 87%|████████▋ | 26/30 [01:44<00:15,  3.91s/it]"
     ]
    },
    {
     "name": "stdout",
     "output_type": "stream",
     "text": [
      "Repetição 26 - Acurácia: 0.97, Precisão: 0.95, Recall: 0.99, F1-score: 0.97, ROC AUC: 0.97\n"
     ]
    },
    {
     "name": "stderr",
     "output_type": "stream",
     "text": [
      " 90%|█████████ | 27/30 [01:48<00:11,  3.97s/it]"
     ]
    },
    {
     "name": "stdout",
     "output_type": "stream",
     "text": [
      "Repetição 27 - Acurácia: 0.97, Precisão: 0.95, Recall: 0.99, F1-score: 0.97, ROC AUC: 0.97\n"
     ]
    },
    {
     "name": "stderr",
     "output_type": "stream",
     "text": [
      " 93%|█████████▎| 28/30 [01:51<00:07,  3.91s/it]"
     ]
    },
    {
     "name": "stdout",
     "output_type": "stream",
     "text": [
      "Repetição 28 - Acurácia: 0.97, Precisão: 0.95, Recall: 0.99, F1-score: 0.97, ROC AUC: 0.97\n"
     ]
    },
    {
     "name": "stderr",
     "output_type": "stream",
     "text": [
      " 97%|█████████▋| 29/30 [01:55<00:03,  3.89s/it]"
     ]
    },
    {
     "name": "stdout",
     "output_type": "stream",
     "text": [
      "Repetição 29 - Acurácia: 0.97, Precisão: 0.95, Recall: 0.99, F1-score: 0.97, ROC AUC: 0.97\n"
     ]
    },
    {
     "name": "stderr",
     "output_type": "stream",
     "text": [
      "100%|██████████| 30/30 [01:59<00:00,  3.99s/it]"
     ]
    },
    {
     "name": "stdout",
     "output_type": "stream",
     "text": [
      "Repetição 30 - Acurácia: 0.97, Precisão: 0.95, Recall: 0.99, F1-score: 0.97, ROC AUC: 0.97\n",
      "Média das Acurácias: 0.97081 ± 0.00098\n",
      "Média das Precisões: 0.95170 ± 0.00165\n",
      "Média dos Recalls: 0.99197 ± 0.00137\n",
      "Média dos F1-scores: 0.97142 ± 0.00095\n",
      "Média dos ROC AUC: 0.97081 ± 0.00098\n"
     ]
    },
    {
     "name": "stderr",
     "output_type": "stream",
     "text": [
      "\n"
     ]
    }
   ],
   "source": [
    "num_repeticoes = 30\n",
    "\n",
    "# Listas para armazenar as métricas\n",
    "acuracias = []\n",
    "precisoes = []\n",
    "recalls = []\n",
    "f1_scores = []\n",
    "roc_auc_scores = []\n",
    "\n",
    "# Loop para repetir o processo\n",
    "for i in tqdm(range(num_repeticoes)):\n",
    "\n",
    "    x_train, x_test, y_train, y_test = train_test_split(X_resampled, y_resampled, test_size=0.2, stratify=y_resampled)\n",
    "    \n",
    "    #inicializar o modelo KNN\n",
    "    modelo_knn = KNeighborsClassifier(n_neighbors=7)  # Escolha o número de vizinhos desejado\n",
    "\n",
    "    # Treinar o modelo no conjunto de treino\n",
    "    modelo_knn.fit(np.array(x_train), y_train)\n",
    "\n",
    "    # Fazer previsões no conjunto de teste\n",
    "    previsoes = modelo_knn.predict(np.array(x_test))\n",
    "\n",
    "    # Avaliar as métricas do modelo e armazenar na lista\n",
    "    acuracia = accuracy_score(y_test, previsoes)\n",
    "    precisao = precision_score(y_test, previsoes)\n",
    "    recall = recall_score(y_test, previsoes)\n",
    "    f1 = f1_score(y_test, previsoes)\n",
    "    roc_auc = roc_auc_score(y_test, previsoes)\n",
    "    \n",
    "    acuracias.append(acuracia)\n",
    "    precisoes.append(precisao)\n",
    "    recalls.append(recall)\n",
    "    f1_scores.append(f1)\n",
    "    roc_auc_scores.append(roc_auc)\n",
    "\n",
    "    print(f'Repetição {i+1} - Acurácia: {acuracia:.2f}, Precisão: {precisao:.2f}, Recall: {recall:.2f}, F1-score: {f1:.2f}, ROC AUC: {roc_auc:.2f}')\n",
    "\n",
    "# Calcular as médias das métricas\n",
    "media_acuracias = np.mean(acuracias)\n",
    "media_precisoes = np.mean(precisoes)\n",
    "media_recalls = np.mean(recalls)\n",
    "media_f1_scores = np.mean(f1_scores)\n",
    "media_roc_auc_scores = np.mean(roc_auc_scores)\n",
    "\n",
    "# Calcular os desvios padrão das métricas\n",
    "dp_acuracias = np.std(acuracias)\n",
    "dp_precisoes = np.std(precisoes)\n",
    "dp_recalls = np.std(recalls)\n",
    "dp_f1_scores = np.std(f1_scores)\n",
    "dp_roc_auc_scores = np.std(roc_auc_scores)\n",
    "\n",
    "# Adicionar as médias e desvios padrão às listas de métricas\n",
    "AcurracyPosBal.append(media_acuracias)\n",
    "PrecisionPosBal.append(media_precisoes)\n",
    "RecallPosBal.append(media_recalls)\n",
    "F1_scorePosBal.append(media_f1_scores)\n",
    "Roc_aucPosBal.append(media_roc_auc_scores)\n",
    "\n",
    "AcurracyDPPosBal.append(dp_acuracias)\n",
    "PrecisionDPPosBal.append(dp_precisoes)\n",
    "RecallDPPosBal.append(dp_recalls)\n",
    "F1_scoreDPPosBal.append(dp_f1_scores)\n",
    "Roc_aucDPPosBal.append(dp_roc_auc_scores)\n",
    "\n",
    "print(f'Média das Acurácias: {media_acuracias:.5f} ± {dp_acuracias:.5f}')\n",
    "print(f'Média das Precisões: {media_precisoes:.5f} ± {dp_precisoes:.5f}')\n",
    "print(f'Média dos Recalls: {media_recalls:.5f} ± {dp_recalls:.5f}')\n",
    "print(f'Média dos F1-scores: {media_f1_scores:.5f} ± {dp_f1_scores:.5f}')\n",
    "print(f'Média dos ROC AUC: {media_roc_auc_scores:.5f} ± {dp_roc_auc_scores:.5f}')"
   ]
  },
  {
   "cell_type": "markdown",
   "metadata": {},
   "source": [
    "#### Resultados"
   ]
  },
  {
   "cell_type": "code",
   "execution_count": null,
   "metadata": {},
   "outputs": [
    {
     "data": {
      "text/html": [
       "<style type=\"text/css\">\n",
       "#T_b6651_row0_col0, #T_b6651_row0_col3, #T_b6651_row1_col0, #T_b6651_row1_col1, #T_b6651_row1_col2, #T_b6651_row1_col3, #T_b6651_row1_col4, #T_b6651_row1_col5, #T_b6651_row2_col0, #T_b6651_row2_col1, #T_b6651_row2_col2, #T_b6651_row2_col3, #T_b6651_row2_col4, #T_b6651_row2_col5, #T_b6651_row3_col0, #T_b6651_row3_col1, #T_b6651_row3_col2, #T_b6651_row3_col4, #T_b6651_row3_col5 {\n",
       "  color: white;\n",
       "}\n",
       "#T_b6651_row0_col1, #T_b6651_row0_col2, #T_b6651_row0_col4, #T_b6651_row0_col5, #T_b6651_row3_col3 {\n",
       "  background-color: green;\n",
       "  color: white;\n",
       "}\n",
       "</style>\n",
       "<table id=\"T_b6651\">\n",
       "  <thead>\n",
       "    <tr>\n",
       "      <th class=\"blank level0\" >&nbsp;</th>\n",
       "      <th id=\"T_b6651_level0_col0\" class=\"col_heading level0 col0\" >Modelos</th>\n",
       "      <th id=\"T_b6651_level0_col1\" class=\"col_heading level0 col1\" >Acuracia (DREBIN)</th>\n",
       "      <th id=\"T_b6651_level0_col2\" class=\"col_heading level0 col2\" >Precisão (DREBIN)</th>\n",
       "      <th id=\"T_b6651_level0_col3\" class=\"col_heading level0 col3\" >Recall (DREBIN)</th>\n",
       "      <th id=\"T_b6651_level0_col4\" class=\"col_heading level0 col4\" >F1 Score</th>\n",
       "      <th id=\"T_b6651_level0_col5\" class=\"col_heading level0 col5\" >AUC RoC</th>\n",
       "    </tr>\n",
       "  </thead>\n",
       "  <tbody>\n",
       "    <tr>\n",
       "      <th id=\"T_b6651_level0_row0\" class=\"row_heading level0 row0\" >0</th>\n",
       "      <td id=\"T_b6651_row0_col0\" class=\"data row0 col0\" >Decision Tree</td>\n",
       "      <td id=\"T_b6651_row0_col1\" class=\"data row0 col1\" >0.9810 ± 0.0006</td>\n",
       "      <td id=\"T_b6651_row0_col2\" class=\"data row0 col2\" >0.9737 ± 0.0011</td>\n",
       "      <td id=\"T_b6651_row0_col3\" class=\"data row0 col3\" >0.9887 ± 0.0008</td>\n",
       "      <td id=\"T_b6651_row0_col4\" class=\"data row0 col4\" >0.9812 ± 0.0006</td>\n",
       "      <td id=\"T_b6651_row0_col5\" class=\"data row0 col5\" >0.9810 ± 0.0006</td>\n",
       "    </tr>\n",
       "    <tr>\n",
       "      <th id=\"T_b6651_level0_row1\" class=\"row_heading level0 row1\" >1</th>\n",
       "      <td id=\"T_b6651_row1_col0\" class=\"data row1 col0\" >Naive Bayes</td>\n",
       "      <td id=\"T_b6651_row1_col1\" class=\"data row1 col1\" >0.7299 ± 0.0046</td>\n",
       "      <td id=\"T_b6651_row1_col2\" class=\"data row1 col2\" >0.7255 ± 0.0047</td>\n",
       "      <td id=\"T_b6651_row1_col3\" class=\"data row1 col3\" >0.7397 ± 0.0141</td>\n",
       "      <td id=\"T_b6651_row1_col4\" class=\"data row1 col4\" >0.7325 ± 0.0067</td>\n",
       "      <td id=\"T_b6651_row1_col5\" class=\"data row1 col5\" >0.7299 ± 0.0046</td>\n",
       "    </tr>\n",
       "    <tr>\n",
       "      <th id=\"T_b6651_level0_row2\" class=\"row_heading level0 row2\" >2</th>\n",
       "      <td id=\"T_b6651_row2_col0\" class=\"data row2 col0\" >MLP</td>\n",
       "      <td id=\"T_b6651_row2_col1\" class=\"data row2 col1\" >0.9348 ± 0.0028</td>\n",
       "      <td id=\"T_b6651_row2_col2\" class=\"data row2 col2\" >0.9329 ± 0.0085</td>\n",
       "      <td id=\"T_b6651_row2_col3\" class=\"data row2 col3\" >0.9371 ± 0.0122</td>\n",
       "      <td id=\"T_b6651_row2_col4\" class=\"data row2 col4\" >0.9349 ± 0.0032</td>\n",
       "      <td id=\"T_b6651_row2_col5\" class=\"data row2 col5\" >0.9348 ± 0.0028</td>\n",
       "    </tr>\n",
       "    <tr>\n",
       "      <th id=\"T_b6651_level0_row3\" class=\"row_heading level0 row3\" >3</th>\n",
       "      <td id=\"T_b6651_row3_col0\" class=\"data row3 col0\" >KNN</td>\n",
       "      <td id=\"T_b6651_row3_col1\" class=\"data row3 col1\" >0.9708 ± 0.0010</td>\n",
       "      <td id=\"T_b6651_row3_col2\" class=\"data row3 col2\" >0.9517 ± 0.0017</td>\n",
       "      <td id=\"T_b6651_row3_col3\" class=\"data row3 col3\" >0.9920 ± 0.0014</td>\n",
       "      <td id=\"T_b6651_row3_col4\" class=\"data row3 col4\" >0.9714 ± 0.0009</td>\n",
       "      <td id=\"T_b6651_row3_col5\" class=\"data row3 col5\" >0.9708 ± 0.0010</td>\n",
       "    </tr>\n",
       "  </tbody>\n",
       "</table>\n"
      ],
      "text/plain": [
       "<pandas.io.formats.style.Styler at 0x1f516d5a890>"
      ]
     },
     "execution_count": 28,
     "metadata": {},
     "output_type": "execute_result"
    }
   ],
   "source": [
    "import pandas as pd\n",
    "\n",
    "# Definir os modelos\n",
    "Modelos = ['Decision Tree', 'Naive Bayes', 'MLP', 'KNN']\n",
    "\n",
    "# Criar um DataFrame do Pandas com os valores das variáveis\n",
    "df = pd.DataFrame({\n",
    "    'Modelos': Modelos,\n",
    "    'Acuracia (DREBIN)': [f\"{media:.4f} ± {dp:.4f}\" for media, dp in zip(AcurracyPosBal, AcurracyDPPosBal)],\n",
    "    'Precisão (DREBIN)': [f\"{media:.4f} ± {dp:.4f}\" for media, dp in zip(PrecisionPosBal, PrecisionDPPosBal)],\n",
    "    'Recall (DREBIN)': [f\"{media:.4f} ± {dp:.4f}\" for media, dp in zip(RecallPosBal, RecallDPPosBal)],\n",
    "    'F1 Score': [f\"{media:.4f} ± {dp:.4f}\" for media, dp in zip(F1_scorePosBal, F1_scoreDPPosBal)],\n",
    "    'AUC RoC': [f\"{media:.4f} ± {dp:.4f}\" for media, dp in zip(Roc_aucPosBal, Roc_aucDPPosBal)]\n",
    "})\n",
    "\n",
    "# Função para destacar o maior valor de cada coluna\n",
    "def highlight_max(s):\n",
    "    is_max = s == s.max()\n",
    "    return ['background-color: green' if v else '' for v in is_max]\n",
    "\n",
    "# Aplicar a função de destaque apenas para as colunas numéricas\n",
    "numeric_columns = df.columns[1:]\n",
    "styled_df = df.style.apply(highlight_max, subset=numeric_columns)\n",
    "\n",
    "# Definir a cor do texto para a tabela\n",
    "styled_df.set_properties(**{'color': 'white'}, subset=pd.IndexSlice[:, :])\n",
    "\n",
    "# Exibir o DataFrame estilizado no Jupyter Notebook\n",
    "styled_df\n"
   ]
  },
  {
   "cell_type": "markdown",
   "metadata": {},
   "source": [
    "### Bagging após o Balanceamento"
   ]
  },
  {
   "cell_type": "markdown",
   "metadata": {},
   "source": [
    "#### Decision Tree"
   ]
  },
  {
   "cell_type": "code",
   "execution_count": null,
   "metadata": {},
   "outputs": [
    {
     "name": "stdout",
     "output_type": "stream",
     "text": [
      "Acurácia do modelo Bagging com Decision Tree: 0.9852375359442712\n",
      "Precisão do modelo Bagging com Decision Tree: 0.9800849495111396\n",
      "Recall do modelo Bagging com Decision Tree: 0.9906038637560245\n",
      "F1-score do modelo Bagging com Decision Tree: 0.9853163333131911\n",
      "AUC ROC do modelo Bagging com Decision Tree: 0.9852375359442712\n",
      "Matriz de confusão do modelo Bagging com Decision Tree:\n",
      "[[24194   497]\n",
      " [  232 24459]]\n"
     ]
    }
   ],
   "source": [
    "# Definir o classificador Decision Tree\n",
    "modelo_arvore = DecisionTreeClassifier(criterion='gini')\n",
    "\n",
    "# Definir o classificador de Bagging com Decision Tree como base\n",
    "bagging_clf = BaggingClassifier(estimator = modelo_arvore, n_estimators=30)\n",
    "\n",
    "# Treinar o modelo Bagging\n",
    "bagging_clf.fit(x_train, y_train)\n",
    "\n",
    "# Prever usando o modelo Bagging\n",
    "y_pred = bagging_clf.predict(x_test)\n",
    "\n",
    "# Avaliar a precisão do modelo\n",
    "accuracy_bagging = accuracy_score(y_test, y_pred)\n",
    "precision_bagging = precision_score(y_test, y_pred)\n",
    "recall_bagging = recall_score(y_test, y_pred)\n",
    "f1_score_bagging = f1_score(y_test, y_pred)\n",
    "auc_roc_bagging = roc_auc_score(y_test, y_pred)\n",
    "\n",
    "\n",
    "print(\"Acurácia do modelo Bagging com Decision Tree:\", accuracy_bagging)\n",
    "print(\"Precisão do modelo Bagging com Decision Tree:\", precision_bagging)\n",
    "print(\"Recall do modelo Bagging com Decision Tree:\", recall_bagging)\n",
    "print(\"F1-score do modelo Bagging com Decision Tree:\", f1_score_bagging)\n",
    "print(\"AUC ROC do modelo Bagging com Decision Tree:\", auc_roc_bagging)\n",
    "\n",
    "# Matriz de confusão\n",
    "conf_matrix_bagging = confusion_matrix(y_test, y_pred)\n",
    "print(\"Matriz de confusão do modelo Bagging com Decision Tree:\")\n",
    "print(conf_matrix_bagging)\n",
    "\n",
    "# Adicione a acurácia à lista de acurácias do Bagging\n",
    "AcurracyBaggingPosBal.append(accuracy_bagging)\n",
    "PrecisionBaggingPosBal.append(precision_bagging)\n",
    "RecallBaggingPosBal.append(recall_bagging)\n",
    "F1BaggingPosBal.append(f1_score_bagging)\n",
    "Roc_aucBaggingPosBal.append(auc_roc_bagging)\n",
    "\n"
   ]
  },
  {
   "cell_type": "markdown",
   "metadata": {},
   "source": [
    "#### Naive Bayes"
   ]
  },
  {
   "cell_type": "code",
   "execution_count": null,
   "metadata": {},
   "outputs": [
    {
     "name": "stdout",
     "output_type": "stream",
     "text": [
      "Acurácia do modelo Bagging com Naive Bayes: 0.7307925964926492\n",
      "Precisão do modelo Bagging com Naive Bayes: 0.7253707731856832\n",
      "Recall do modelo Bagging com Naive Bayes: 0.7428212709084282\n",
      "F1-score do modelo Bagging com Naive Bayes: 0.7339923163118297\n",
      "AUC ROC do modelo Bagging com Naive Bayes: 0.7307925964926492\n",
      "Matriz de confusão do modelo Bagging com Naive Bayes:\n",
      "[[17747  6944]\n",
      " [ 6350 18341]]\n"
     ]
    }
   ],
   "source": [
    "# Inicializar o modelo de Naive Bayes com distribuição de Gaussiana\n",
    "modelo_naive_bayes = GaussianNB()\n",
    "\n",
    "# Definir o classificador de Bagging com Naive Bayes como base\n",
    "bagging_clf = BaggingClassifier(estimator=modelo_naive_bayes, n_estimators=30)\n",
    "\n",
    "# Treinar o modelo Bagging\n",
    "bagging_clf.fit(x_train, y_train)\n",
    "\n",
    "# Prever usando o modelo Bagging\n",
    "y_pred = bagging_clf.predict(x_test)\n",
    "\n",
    "# Avaliar a precisão do modelo\n",
    "accuracy_bagging = accuracy_score(y_test, y_pred)\n",
    "precision_bagging = precision_score(y_test, y_pred)\n",
    "recall_bagging = recall_score(y_test, y_pred)\n",
    "f1_score_bagging = f1_score(y_test, y_pred)\n",
    "auc_roc_bagging = roc_auc_score(y_test, y_pred)\n",
    "\n",
    "\n",
    "print(\"Acurácia do modelo Bagging com Naive Bayes:\", accuracy_bagging)\n",
    "print(\"Precisão do modelo Bagging com Naive Bayes:\", precision_bagging)\n",
    "print(\"Recall do modelo Bagging com Naive Bayes:\", recall_bagging)\n",
    "print(\"F1-score do modelo Bagging com Naive Bayes:\", f1_score_bagging)\n",
    "print(\"AUC ROC do modelo Bagging com Naive Bayes:\", auc_roc_bagging)\n",
    "\n",
    "# Matriz de confusão\n",
    "conf_matrix_bagging = confusion_matrix(y_test, y_pred)\n",
    "print(\"Matriz de confusão do modelo Bagging com Naive Bayes:\")\n",
    "print(conf_matrix_bagging)\n",
    "\n",
    "# Adicione a acurácia à lista de acurácias do Bagging\n",
    "AcurracyBaggingPosBal.append(accuracy_bagging)\n",
    "PrecisionBaggingPosBal.append(precision_bagging)\n",
    "RecallBaggingPosBal.append(recall_bagging)\n",
    "F1BaggingPosBal.append(f1_score_bagging)\n",
    "Roc_aucBaggingPosBal.append(auc_roc_bagging)\n"
   ]
  },
  {
   "cell_type": "markdown",
   "metadata": {},
   "source": [
    "#### MLP"
   ]
  },
  {
   "cell_type": "code",
   "execution_count": null,
   "metadata": {},
   "outputs": [
    {
     "name": "stdout",
     "output_type": "stream",
     "text": [
      "Acurácia do modelo Bagging com MLP: 0.9441496901705074\n",
      "Precisão do modelo Bagging com MLP: 0.9423581138316325\n",
      "Recall do modelo Bagging com MLP: 0.9461747195334332\n",
      "F1-score do modelo Bagging com MLP: 0.944262560122873\n",
      "AUC ROC do modelo Bagging com MLP: 0.9441496901705075\n",
      "Matriz de confusão do modelo Bagging com MLP:\n",
      "[[23262  1429]\n",
      " [ 1329 23362]]\n"
     ]
    }
   ],
   "source": [
    "# Definir o classificador base (MLP)\n",
    "modelo_mlp = MLPClassifier(hidden_layer_sizes=(100), max_iter=1000)\n",
    "\n",
    "# Definir o classificador de Bagging com MLP como base\n",
    "bagging_clf = BaggingClassifier(estimator=modelo_mlp, n_estimators=30)\n",
    "\n",
    "# Treinar o modelo Bagging\n",
    "bagging_clf.fit(x_train, y_train)\n",
    "\n",
    "# Prever usando o modelo Bagging\n",
    "y_pred = bagging_clf.predict(x_test)\n",
    "\n",
    "# Avaliar a precisão do modelo\n",
    "accuracy_bagging = accuracy_score(y_test, y_pred)\n",
    "precision_bagging = precision_score(y_test, y_pred)\n",
    "recall_bagging = recall_score(y_test, y_pred)\n",
    "f1_score_bagging = f1_score(y_test, y_pred)\n",
    "auc_roc_bagging = roc_auc_score(y_test, y_pred)\n",
    "\n",
    "\n",
    "print(\"Acurácia do modelo Bagging com MLP:\", accuracy_bagging)\n",
    "print(\"Precisão do modelo Bagging com MLP:\", precision_bagging)\n",
    "print(\"Recall do modelo Bagging com MLP:\", recall_bagging)\n",
    "print(\"F1-score do modelo Bagging com MLP:\", f1_score_bagging)\n",
    "print(\"AUC ROC do modelo Bagging com MLP:\", auc_roc_bagging)\n",
    "\n",
    "# Matriz de confusão\n",
    "conf_matrix_bagging = confusion_matrix(y_test, y_pred)\n",
    "print(\"Matriz de confusão do modelo Bagging com MLP:\")\n",
    "print(conf_matrix_bagging)\n",
    "\n",
    "# Adicione a acurácia à lista de acurácias do Bagging\n",
    "AcurracyBaggingPosBal.append(accuracy_bagging)\n",
    "PrecisionBaggingPosBal.append(precision_bagging)\n",
    "RecallBaggingPosBal.append(recall_bagging)\n",
    "F1BaggingPosBal.append(f1_score_bagging)\n",
    "Roc_aucBaggingPosBal.append(auc_roc_bagging)\n"
   ]
  },
  {
   "cell_type": "markdown",
   "metadata": {},
   "source": [
    "#### KNN"
   ]
  },
  {
   "cell_type": "code",
   "execution_count": null,
   "metadata": {},
   "outputs": [
    {
     "name": "stdout",
     "output_type": "stream",
     "text": [
      "Acurácia do modelo Bagging com KNN: 0.9712648333400834\n",
      "Precisão do modelo Bagging com KNN: 0.9511476426799007\n",
      "Recall do modelo Bagging com KNN: 0.9935604066258961\n",
      "F1-score do modelo Bagging com KNN: 0.9718915278410554\n",
      "AUC ROC do modelo Bagging com KNN: 0.9712648333400834\n",
      "Matriz de confusão do modelo Bagging com KNN:\n",
      "[[23431  1260]\n",
      " [  159 24532]]\n"
     ]
    }
   ],
   "source": [
    "#inicializar o modelo KNN\n",
    "modelo_knn = KNeighborsClassifier(n_neighbors=7)  # Escolha o número de vizinhos desejado\n",
    "\n",
    "# Definir o classificador de Bagging com KNN como base\n",
    "bagging_clf = BaggingClassifier(estimator=modelo_knn, n_estimators=30)\n",
    "\n",
    "# Treinar o modelo Bagging\n",
    "bagging_clf.fit(x_train, y_train)\n",
    "\n",
    "# Prever usando o modelo Bagging\n",
    "y_pred = bagging_clf.predict(x_test)\n",
    "\n",
    "# Avaliar a precisão do modelo\n",
    "accuracy_bagging = accuracy_score(y_test, y_pred)\n",
    "precision_bagging = precision_score(y_test, y_pred)\n",
    "recall_bagging = recall_score(y_test, y_pred)\n",
    "f1_score_bagging = f1_score(y_test, y_pred)\n",
    "auc_roc_bagging = roc_auc_score(y_test, y_pred)\n",
    "\n",
    "\n",
    "print(\"Acurácia do modelo Bagging com KNN:\", accuracy_bagging)\n",
    "print(\"Precisão do modelo Bagging com KNN:\", precision_bagging)\n",
    "print(\"Recall do modelo Bagging com KNN:\", recall_bagging)\n",
    "print(\"F1-score do modelo Bagging com KNN:\", f1_score_bagging)\n",
    "print(\"AUC ROC do modelo Bagging com KNN:\", auc_roc_bagging)\n",
    "\n",
    "# Matriz de confusão\n",
    "conf_matrix_bagging = confusion_matrix(y_test, y_pred)\n",
    "print(\"Matriz de confusão do modelo Bagging com KNN:\")\n",
    "print(conf_matrix_bagging)\n",
    "\n",
    "# Adicione a acurácia à lista de acurácias do Bagging\n",
    "AcurracyBaggingPosBal.append(accuracy_bagging)\n",
    "PrecisionBaggingPosBal.append(precision_bagging)\n",
    "RecallBaggingPosBal.append(recall_bagging)\n",
    "F1BaggingPosBal.append(f1_score_bagging)\n",
    "Roc_aucBaggingPosBal.append(auc_roc_bagging)\n"
   ]
  },
  {
   "cell_type": "markdown",
   "metadata": {},
   "source": [
    "#### Resultados"
   ]
  },
  {
   "cell_type": "code",
   "execution_count": null,
   "metadata": {},
   "outputs": [
    {
     "name": "stdout",
     "output_type": "stream",
     "text": [
      "╒════╤═══════════════════╤═════════════════════╤═════════════════════╤═══════════════════╤════════════╤═══════════╕\n",
      "│    │ Modelos Bagging   │   Acuracia (DREBIN) │   Precisão (DREBIN) │   Recall (DREBIN) │   F1 Score │   AUC ROC │\n",
      "╞════╪═══════════════════╪═════════════════════╪═════════════════════╪═══════════════════╪════════════╪═══════════╡\n",
      "│  0 │ Decision Tree     │              0.9852 │              0.9801 │            0.9906 │     0.9853 │    0.9852 │\n",
      "├────┼───────────────────┼─────────────────────┼─────────────────────┼───────────────────┼────────────┼───────────┤\n",
      "│  1 │ Naive Bayes       │              0.7308 │              0.7254 │            0.7428 │     0.7340 │    0.7308 │\n",
      "├────┼───────────────────┼─────────────────────┼─────────────────────┼───────────────────┼────────────┼───────────┤\n",
      "│  2 │ MLP               │              0.9441 │              0.9424 │            0.9462 │     0.9443 │    0.9441 │\n",
      "├────┼───────────────────┼─────────────────────┼─────────────────────┼───────────────────┼────────────┼───────────┤\n",
      "│  3 │ KNN               │              0.9713 │              0.9511 │            0.9936 │     0.9719 │    0.9713 │\n",
      "╘════╧═══════════════════╧═════════════════════╧═════════════════════╧═══════════════════╧════════════╧═══════════╛\n"
     ]
    }
   ],
   "source": [
    "Modelos = ['Decision Tree', 'Naive Bayes', 'MLP', 'KNN']\n",
    "# Criar um DataFrame do Pandas com os valores das variáveis\n",
    "dfB = pd.DataFrame({'Modelos Bagging': Modelos, 'Acuracia (DREBIN)': AcurracyBaggingPosBal,\n",
    "                    'Precisão (DREBIN)': PrecisionBaggingPosBal, 'Recall (DREBIN)':RecallBaggingPosBal, \n",
    "                    'F1 Score': F1BaggingPosBal, 'AUC ROC': Roc_aucBaggingPosBal})\n",
    "\n",
    "print(tabulate(dfB, headers='keys', tablefmt='fancy_grid', floatfmt=\".4f\"))"
   ]
  },
  {
   "cell_type": "markdown",
   "metadata": {},
   "source": [
    "### Resultados"
   ]
  },
  {
   "cell_type": "code",
   "execution_count": null,
   "metadata": {},
   "outputs": [
    {
     "data": {
      "text/html": [
       "<style type=\"text/css\">\n",
       "#T_faf3a_row0_col0, #T_faf3a_row0_col2, #T_faf3a_row1_col0, #T_faf3a_row1_col1, #T_faf3a_row1_col2, #T_faf3a_row1_col3, #T_faf3a_row1_col4, #T_faf3a_row1_col5, #T_faf3a_row2_col0, #T_faf3a_row2_col1, #T_faf3a_row2_col3, #T_faf3a_row2_col4, #T_faf3a_row2_col5, #T_faf3a_row3_col0, #T_faf3a_row3_col1, #T_faf3a_row3_col2, #T_faf3a_row3_col3, #T_faf3a_row3_col4, #T_faf3a_row3_col5 {\n",
       "  color: white;\n",
       "}\n",
       "#T_faf3a_row0_col1, #T_faf3a_row0_col3, #T_faf3a_row0_col4, #T_faf3a_row0_col5, #T_faf3a_row2_col2 {\n",
       "  background-color: green;\n",
       "  color: white;\n",
       "}\n",
       "</style>\n",
       "<table id=\"T_faf3a\">\n",
       "  <thead>\n",
       "    <tr>\n",
       "      <th class=\"blank level0\" >&nbsp;</th>\n",
       "      <th id=\"T_faf3a_level0_col0\" class=\"col_heading level0 col0\" >Modelos</th>\n",
       "      <th id=\"T_faf3a_level0_col1\" class=\"col_heading level0 col1\" >Acuracia (DREBIN)</th>\n",
       "      <th id=\"T_faf3a_level0_col2\" class=\"col_heading level0 col2\" >Precisão (DREBIN)</th>\n",
       "      <th id=\"T_faf3a_level0_col3\" class=\"col_heading level0 col3\" >Recall (DREBIN)</th>\n",
       "      <th id=\"T_faf3a_level0_col4\" class=\"col_heading level0 col4\" >F1 Score</th>\n",
       "      <th id=\"T_faf3a_level0_col5\" class=\"col_heading level0 col5\" >AUC RoC</th>\n",
       "    </tr>\n",
       "  </thead>\n",
       "  <tbody>\n",
       "    <tr>\n",
       "      <th id=\"T_faf3a_level0_row0\" class=\"row_heading level0 row0\" >0</th>\n",
       "      <td id=\"T_faf3a_row0_col0\" class=\"data row0 col0\" >Decision Tree</td>\n",
       "      <td id=\"T_faf3a_row0_col1\" class=\"data row0 col1\" >0.9817 ± 0.0007</td>\n",
       "      <td id=\"T_faf3a_row0_col2\" class=\"data row0 col2\" >0.7712 ± 0.0105</td>\n",
       "      <td id=\"T_faf3a_row0_col3\" class=\"data row0 col3\" >0.8194 ± 0.0120</td>\n",
       "      <td id=\"T_faf3a_row0_col4\" class=\"data row0 col4\" >0.7945 ± 0.0077</td>\n",
       "      <td id=\"T_faf3a_row0_col5\" class=\"data row0 col5\" >0.9042 ± 0.0059</td>\n",
       "    </tr>\n",
       "    <tr>\n",
       "      <th id=\"T_faf3a_level0_row1\" class=\"row_heading level0 row1\" >1</th>\n",
       "      <td id=\"T_faf3a_row1_col0\" class=\"data row1 col0\" >Naive Bayes</td>\n",
       "      <td id=\"T_faf3a_row1_col1\" class=\"data row1 col1\" >0.9163 ± 0.0030</td>\n",
       "      <td id=\"T_faf3a_row1_col2\" class=\"data row1 col2\" >0.2501 ± 0.0098</td>\n",
       "      <td id=\"T_faf3a_row1_col3\" class=\"data row1 col3\" >0.4704 ± 0.0149</td>\n",
       "      <td id=\"T_faf3a_row1_col4\" class=\"data row1 col4\" >0.3264 ± 0.0097</td>\n",
       "      <td id=\"T_faf3a_row1_col5\" class=\"data row1 col5\" >0.7034 ± 0.0070</td>\n",
       "    </tr>\n",
       "    <tr>\n",
       "      <th id=\"T_faf3a_level0_row2\" class=\"row_heading level0 row2\" >2</th>\n",
       "      <td id=\"T_faf3a_row2_col0\" class=\"data row2 col0\" >MLP</td>\n",
       "      <td id=\"T_faf3a_row2_col1\" class=\"data row2 col1\" >0.9769 ± 0.0009</td>\n",
       "      <td id=\"T_faf3a_row2_col2\" class=\"data row2 col2\" >0.8171 ± 0.0407</td>\n",
       "      <td id=\"T_faf3a_row2_col3\" class=\"data row2 col3\" >0.6031 ± 0.0410</td>\n",
       "      <td id=\"T_faf3a_row2_col4\" class=\"data row2 col4\" >0.6918 ± 0.0158</td>\n",
       "      <td id=\"T_faf3a_row2_col5\" class=\"data row2 col5\" >0.7984 ± 0.0195</td>\n",
       "    </tr>\n",
       "    <tr>\n",
       "      <th id=\"T_faf3a_level0_row3\" class=\"row_heading level0 row3\" >3</th>\n",
       "      <td id=\"T_faf3a_row3_col0\" class=\"data row3 col0\" >KNN</td>\n",
       "      <td id=\"T_faf3a_row3_col1\" class=\"data row3 col1\" >0.9812 ± 0.0007</td>\n",
       "      <td id=\"T_faf3a_row3_col2\" class=\"data row3 col2\" >0.8112 ± 0.0128</td>\n",
       "      <td id=\"T_faf3a_row3_col3\" class=\"data row3 col3\" >0.7347 ± 0.0145</td>\n",
       "      <td id=\"T_faf3a_row3_col4\" class=\"data row3 col4\" >0.7709 ± 0.0095</td>\n",
       "      <td id=\"T_faf3a_row3_col5\" class=\"data row3 col5\" >0.8635 ± 0.0071</td>\n",
       "    </tr>\n",
       "  </tbody>\n",
       "</table>\n"
      ],
      "text/plain": [
       "<pandas.io.formats.style.Styler at 0x1f5172a27d0>"
      ]
     },
     "execution_count": 34,
     "metadata": {},
     "output_type": "execute_result"
    }
   ],
   "source": [
    "import pandas as pd\n",
    "\n",
    "# Definir os modelos\n",
    "Modelos = ['Decision Tree', 'Naive Bayes', 'MLP', 'KNN']\n",
    "\n",
    "# Criar um DataFrame do Pandas com os valores das variáveis\n",
    "df = pd.DataFrame({\n",
    "    'Modelos': Modelos,\n",
    "    'Acuracia (DREBIN)': [f\"{media:.4f} ± {dp:.4f}\" for media, dp in zip(Acurracy, AcurracyDP)],\n",
    "    'Precisão (DREBIN)': [f\"{media:.4f} ± {dp:.4f}\" for media, dp in zip(Precision, PrecisionDP)],\n",
    "    'Recall (DREBIN)': [f\"{media:.4f} ± {dp:.4f}\" for media, dp in zip(Recall, RecallDP)],\n",
    "    'F1 Score': [f\"{media:.4f} ± {dp:.4f}\" for media, dp in zip(F1_score, F1_scoreDP)],\n",
    "    'AUC RoC': [f\"{media:.4f} ± {dp:.4f}\" for media, dp in zip(Roc_auc, Roc_aucDP)]\n",
    "})\n",
    "\n",
    "# Função para destacar o maior valor de cada coluna\n",
    "def highlight_max(s):\n",
    "    is_max = s == s.max()\n",
    "    return ['background-color: green' if v else '' for v in is_max]\n",
    "\n",
    "# Aplicar a função de destaque apenas para as colunas numéricas\n",
    "numeric_columns = df.columns[1:]\n",
    "styled_df = df.style.apply(highlight_max, subset=numeric_columns)\n",
    "\n",
    "# Definir a cor do texto para a tabela\n",
    "styled_df.set_properties(**{'color': 'white'}, subset=pd.IndexSlice[:, :])\n",
    "\n",
    "# Exibir o DataFrame estilizado no Jupyter Notebook\n",
    "styled_df\n"
   ]
  },
  {
   "cell_type": "code",
   "execution_count": null,
   "metadata": {},
   "outputs": [
    {
     "data": {
      "text/html": [
       "<style type=\"text/css\">\n",
       "#T_79403_row0_col0, #T_79403_row1_col0, #T_79403_row1_col1, #T_79403_row1_col2, #T_79403_row1_col3, #T_79403_row1_col4, #T_79403_row1_col5, #T_79403_row2_col0, #T_79403_row2_col1, #T_79403_row2_col2, #T_79403_row2_col3, #T_79403_row2_col4, #T_79403_row2_col5, #T_79403_row3_col0, #T_79403_row3_col1, #T_79403_row3_col2, #T_79403_row3_col3, #T_79403_row3_col4, #T_79403_row3_col5 {\n",
       "  color: white;\n",
       "}\n",
       "#T_79403_row0_col1, #T_79403_row0_col2, #T_79403_row0_col3, #T_79403_row0_col4, #T_79403_row0_col5 {\n",
       "  background-color: green;\n",
       "  color: white;\n",
       "}\n",
       "</style>\n",
       "<table id=\"T_79403\">\n",
       "  <thead>\n",
       "    <tr>\n",
       "      <th class=\"blank level0\" >&nbsp;</th>\n",
       "      <th id=\"T_79403_level0_col0\" class=\"col_heading level0 col0\" >Modelos</th>\n",
       "      <th id=\"T_79403_level0_col1\" class=\"col_heading level0 col1\" >Acuracia (DREBIN)</th>\n",
       "      <th id=\"T_79403_level0_col2\" class=\"col_heading level0 col2\" >Precisão (DREBIN)</th>\n",
       "      <th id=\"T_79403_level0_col3\" class=\"col_heading level0 col3\" >Recall (DREBIN)</th>\n",
       "      <th id=\"T_79403_level0_col4\" class=\"col_heading level0 col4\" >F1 Score</th>\n",
       "      <th id=\"T_79403_level0_col5\" class=\"col_heading level0 col5\" >AUC RoC</th>\n",
       "    </tr>\n",
       "  </thead>\n",
       "  <tbody>\n",
       "    <tr>\n",
       "      <th id=\"T_79403_level0_row0\" class=\"row_heading level0 row0\" >0</th>\n",
       "      <td id=\"T_79403_row0_col0\" class=\"data row0 col0\" >Decision Tree</td>\n",
       "      <td id=\"T_79403_row0_col1\" class=\"data row0 col1\" >0.9877</td>\n",
       "      <td id=\"T_79403_row0_col2\" class=\"data row0 col2\" >0.8994</td>\n",
       "      <td id=\"T_79403_row0_col3\" class=\"data row0 col3\" >0.8040</td>\n",
       "      <td id=\"T_79403_row0_col4\" class=\"data row0 col4\" >0.8490</td>\n",
       "      <td id=\"T_79403_row0_col5\" class=\"data row0 col5\" >0.9000</td>\n",
       "    </tr>\n",
       "    <tr>\n",
       "      <th id=\"T_79403_level0_row1\" class=\"row_heading level0 row1\" >1</th>\n",
       "      <td id=\"T_79403_row1_col0\" class=\"data row1 col0\" >Naive Bayes</td>\n",
       "      <td id=\"T_79403_row1_col1\" class=\"data row1 col1\" >0.9178</td>\n",
       "      <td id=\"T_79403_row1_col2\" class=\"data row1 col2\" >0.2486</td>\n",
       "      <td id=\"T_79403_row1_col3\" class=\"data row1 col3\" >0.4487</td>\n",
       "      <td id=\"T_79403_row1_col4\" class=\"data row1 col4\" >0.3200</td>\n",
       "      <td id=\"T_79403_row1_col5\" class=\"data row1 col5\" >0.6938</td>\n",
       "    </tr>\n",
       "    <tr>\n",
       "      <th id=\"T_79403_level0_row2\" class=\"row_heading level0 row2\" >2</th>\n",
       "      <td id=\"T_79403_row2_col0\" class=\"data row2 col0\" >MLP</td>\n",
       "      <td id=\"T_79403_row2_col1\" class=\"data row2 col1\" >0.9770</td>\n",
       "      <td id=\"T_79403_row2_col2\" class=\"data row2 col2\" >0.8281</td>\n",
       "      <td id=\"T_79403_row2_col3\" class=\"data row2 col3\" >0.5890</td>\n",
       "      <td id=\"T_79403_row2_col4\" class=\"data row2 col4\" >0.6884</td>\n",
       "      <td id=\"T_79403_row2_col5\" class=\"data row2 col5\" >0.7918</td>\n",
       "    </tr>\n",
       "    <tr>\n",
       "      <th id=\"T_79403_level0_row3\" class=\"row_heading level0 row3\" >3</th>\n",
       "      <td id=\"T_79403_row3_col0\" class=\"data row3 col0\" >KNN</td>\n",
       "      <td id=\"T_79403_row3_col1\" class=\"data row3 col1\" >0.9816</td>\n",
       "      <td id=\"T_79403_row3_col2\" class=\"data row3 col2\" >0.8188</td>\n",
       "      <td id=\"T_79403_row3_col3\" class=\"data row3 col3\" >0.7356</td>\n",
       "      <td id=\"T_79403_row3_col4\" class=\"data row3 col4\" >0.7750</td>\n",
       "      <td id=\"T_79403_row3_col5\" class=\"data row3 col5\" >0.8641</td>\n",
       "    </tr>\n",
       "  </tbody>\n",
       "</table>\n"
      ],
      "text/plain": [
       "<pandas.io.formats.style.Styler at 0x1f51729ee10>"
      ]
     },
     "execution_count": 35,
     "metadata": {},
     "output_type": "execute_result"
    }
   ],
   "source": [
    "import pandas as pd\n",
    "array = [0,0,0,0,0]\n",
    "# Definir os modelos\n",
    "Modelos = ['Decision Tree', 'Naive Bayes', 'MLP', 'KNN']\n",
    "\n",
    "# Criar um DataFrame do Pandas com os valores das variáveis\n",
    "df = pd.DataFrame({\n",
    "    'Modelos': Modelos,\n",
    "    'Acuracia (DREBIN)': [f\"{media:.4f}\" for media, dp in zip(AcurracyBagging, array)],\n",
    "    'Precisão (DREBIN)': [f\"{media:.4f}\" for media, dp in zip(PrecisionBagging, array)],\n",
    "    'Recall (DREBIN)': [f\"{media:.4f}\" for media, dp in zip(RecallBagging, array)],\n",
    "    'F1 Score': [f\"{media:.4f}\" for media, dp in zip(F1Bagging, array)],\n",
    "    'AUC RoC': [f\"{media:.4f}\" for media, dp in zip(Roc_aucBagging, array)]\n",
    "})\n",
    "\n",
    "# Função para destacar o maior valor de cada coluna\n",
    "def highlight_max(s):\n",
    "    is_max = s == s.max()\n",
    "    return ['background-color: green' if v else '' for v in is_max]\n",
    "\n",
    "# Aplicar a função de destaque apenas para as colunas numéricas\n",
    "numeric_columns = df.columns[1:]\n",
    "styled_df = df.style.apply(highlight_max, subset=numeric_columns)\n",
    "\n",
    "# Definir a cor do texto para a tabela\n",
    "styled_df.set_properties(**{'color': 'white'}, subset=pd.IndexSlice[:, :])\n",
    "\n",
    "# Exibir o DataFrame estilizado no Jupyter Notebook\n",
    "styled_df\n"
   ]
  },
  {
   "cell_type": "code",
   "execution_count": null,
   "metadata": {},
   "outputs": [
    {
     "data": {
      "text/html": [
       "<style type=\"text/css\">\n",
       "#T_8c755_row0_col0, #T_8c755_row0_col3, #T_8c755_row1_col0, #T_8c755_row1_col1, #T_8c755_row1_col2, #T_8c755_row1_col3, #T_8c755_row1_col4, #T_8c755_row1_col5, #T_8c755_row2_col0, #T_8c755_row2_col1, #T_8c755_row2_col2, #T_8c755_row2_col3, #T_8c755_row2_col4, #T_8c755_row2_col5, #T_8c755_row3_col0, #T_8c755_row3_col1, #T_8c755_row3_col2, #T_8c755_row3_col4, #T_8c755_row3_col5 {\n",
       "  color: white;\n",
       "}\n",
       "#T_8c755_row0_col1, #T_8c755_row0_col2, #T_8c755_row0_col4, #T_8c755_row0_col5, #T_8c755_row3_col3 {\n",
       "  background-color: green;\n",
       "  color: white;\n",
       "}\n",
       "</style>\n",
       "<table id=\"T_8c755\">\n",
       "  <thead>\n",
       "    <tr>\n",
       "      <th class=\"blank level0\" >&nbsp;</th>\n",
       "      <th id=\"T_8c755_level0_col0\" class=\"col_heading level0 col0\" >Modelos</th>\n",
       "      <th id=\"T_8c755_level0_col1\" class=\"col_heading level0 col1\" >Acuracia (DREBIN)</th>\n",
       "      <th id=\"T_8c755_level0_col2\" class=\"col_heading level0 col2\" >Precisão (DREBIN)</th>\n",
       "      <th id=\"T_8c755_level0_col3\" class=\"col_heading level0 col3\" >Recall (DREBIN)</th>\n",
       "      <th id=\"T_8c755_level0_col4\" class=\"col_heading level0 col4\" >F1 Score</th>\n",
       "      <th id=\"T_8c755_level0_col5\" class=\"col_heading level0 col5\" >AUC RoC</th>\n",
       "    </tr>\n",
       "  </thead>\n",
       "  <tbody>\n",
       "    <tr>\n",
       "      <th id=\"T_8c755_level0_row0\" class=\"row_heading level0 row0\" >0</th>\n",
       "      <td id=\"T_8c755_row0_col0\" class=\"data row0 col0\" >Decision Tree</td>\n",
       "      <td id=\"T_8c755_row0_col1\" class=\"data row0 col1\" >0.9810 ± 0.0006</td>\n",
       "      <td id=\"T_8c755_row0_col2\" class=\"data row0 col2\" >0.9737 ± 0.0011</td>\n",
       "      <td id=\"T_8c755_row0_col3\" class=\"data row0 col3\" >0.9887 ± 0.0008</td>\n",
       "      <td id=\"T_8c755_row0_col4\" class=\"data row0 col4\" >0.9812 ± 0.0006</td>\n",
       "      <td id=\"T_8c755_row0_col5\" class=\"data row0 col5\" >0.9810 ± 0.0006</td>\n",
       "    </tr>\n",
       "    <tr>\n",
       "      <th id=\"T_8c755_level0_row1\" class=\"row_heading level0 row1\" >1</th>\n",
       "      <td id=\"T_8c755_row1_col0\" class=\"data row1 col0\" >Naive Bayes</td>\n",
       "      <td id=\"T_8c755_row1_col1\" class=\"data row1 col1\" >0.7299 ± 0.0046</td>\n",
       "      <td id=\"T_8c755_row1_col2\" class=\"data row1 col2\" >0.7255 ± 0.0047</td>\n",
       "      <td id=\"T_8c755_row1_col3\" class=\"data row1 col3\" >0.7397 ± 0.0141</td>\n",
       "      <td id=\"T_8c755_row1_col4\" class=\"data row1 col4\" >0.7325 ± 0.0067</td>\n",
       "      <td id=\"T_8c755_row1_col5\" class=\"data row1 col5\" >0.7299 ± 0.0046</td>\n",
       "    </tr>\n",
       "    <tr>\n",
       "      <th id=\"T_8c755_level0_row2\" class=\"row_heading level0 row2\" >2</th>\n",
       "      <td id=\"T_8c755_row2_col0\" class=\"data row2 col0\" >MLP</td>\n",
       "      <td id=\"T_8c755_row2_col1\" class=\"data row2 col1\" >0.9348 ± 0.0028</td>\n",
       "      <td id=\"T_8c755_row2_col2\" class=\"data row2 col2\" >0.9329 ± 0.0085</td>\n",
       "      <td id=\"T_8c755_row2_col3\" class=\"data row2 col3\" >0.9371 ± 0.0122</td>\n",
       "      <td id=\"T_8c755_row2_col4\" class=\"data row2 col4\" >0.9349 ± 0.0032</td>\n",
       "      <td id=\"T_8c755_row2_col5\" class=\"data row2 col5\" >0.9348 ± 0.0028</td>\n",
       "    </tr>\n",
       "    <tr>\n",
       "      <th id=\"T_8c755_level0_row3\" class=\"row_heading level0 row3\" >3</th>\n",
       "      <td id=\"T_8c755_row3_col0\" class=\"data row3 col0\" >KNN</td>\n",
       "      <td id=\"T_8c755_row3_col1\" class=\"data row3 col1\" >0.9708 ± 0.0010</td>\n",
       "      <td id=\"T_8c755_row3_col2\" class=\"data row3 col2\" >0.9517 ± 0.0017</td>\n",
       "      <td id=\"T_8c755_row3_col3\" class=\"data row3 col3\" >0.9920 ± 0.0014</td>\n",
       "      <td id=\"T_8c755_row3_col4\" class=\"data row3 col4\" >0.9714 ± 0.0009</td>\n",
       "      <td id=\"T_8c755_row3_col5\" class=\"data row3 col5\" >0.9708 ± 0.0010</td>\n",
       "    </tr>\n",
       "  </tbody>\n",
       "</table>\n"
      ],
      "text/plain": [
       "<pandas.io.formats.style.Styler at 0x1f517297a90>"
      ]
     },
     "execution_count": 36,
     "metadata": {},
     "output_type": "execute_result"
    }
   ],
   "source": [
    "import pandas as pd\n",
    "\n",
    "# Definir os modelos\n",
    "Modelos = ['Decision Tree', 'Naive Bayes', 'MLP', 'KNN']\n",
    "\n",
    "# Criar um DataFrame do Pandas com os valores das variáveis\n",
    "df = pd.DataFrame({\n",
    "    'Modelos': Modelos,\n",
    "    'Acuracia (DREBIN)': [f\"{media:.4f} ± {dp:.4f}\" for media, dp in zip(AcurracyPosBal, AcurracyDPPosBal)],\n",
    "    'Precisão (DREBIN)': [f\"{media:.4f} ± {dp:.4f}\" for media, dp in zip(PrecisionPosBal, PrecisionDPPosBal)],\n",
    "    'Recall (DREBIN)': [f\"{media:.4f} ± {dp:.4f}\" for media, dp in zip(RecallPosBal, RecallDPPosBal)],\n",
    "    'F1 Score': [f\"{media:.4f} ± {dp:.4f}\" for media, dp in zip(F1_scorePosBal, F1_scoreDPPosBal)],\n",
    "    'AUC RoC': [f\"{media:.4f} ± {dp:.4f}\" for media, dp in zip(Roc_aucPosBal, Roc_aucDPPosBal)]\n",
    "})\n",
    "\n",
    "# Função para destacar o maior valor de cada coluna\n",
    "def highlight_max(s):\n",
    "    is_max = s == s.max()\n",
    "    return ['background-color: green' if v else '' for v in is_max]\n",
    "\n",
    "# Aplicar a função de destaque apenas para as colunas numéricas\n",
    "numeric_columns = df.columns[1:]\n",
    "styled_df = df.style.apply(highlight_max, subset=numeric_columns)\n",
    "\n",
    "# Definir a cor do texto para a tabela\n",
    "styled_df.set_properties(**{'color': 'white'}, subset=pd.IndexSlice[:, :])\n",
    "\n",
    "# Exibir o DataFrame estilizado no Jupyter Notebook\n",
    "styled_df\n"
   ]
  },
  {
   "cell_type": "code",
   "execution_count": null,
   "metadata": {},
   "outputs": [
    {
     "data": {
      "text/html": [
       "<style type=\"text/css\">\n",
       "#T_f1a97_row0_col0, #T_f1a97_row0_col3, #T_f1a97_row1_col0, #T_f1a97_row1_col1, #T_f1a97_row1_col2, #T_f1a97_row1_col3, #T_f1a97_row1_col4, #T_f1a97_row1_col5, #T_f1a97_row2_col0, #T_f1a97_row2_col1, #T_f1a97_row2_col2, #T_f1a97_row2_col3, #T_f1a97_row2_col4, #T_f1a97_row2_col5, #T_f1a97_row3_col0, #T_f1a97_row3_col1, #T_f1a97_row3_col2, #T_f1a97_row3_col4, #T_f1a97_row3_col5 {\n",
       "  color: white;\n",
       "}\n",
       "#T_f1a97_row0_col1, #T_f1a97_row0_col2, #T_f1a97_row0_col4, #T_f1a97_row0_col5, #T_f1a97_row3_col3 {\n",
       "  background-color: green;\n",
       "  color: white;\n",
       "}\n",
       "</style>\n",
       "<table id=\"T_f1a97\">\n",
       "  <thead>\n",
       "    <tr>\n",
       "      <th class=\"blank level0\" >&nbsp;</th>\n",
       "      <th id=\"T_f1a97_level0_col0\" class=\"col_heading level0 col0\" >Modelos</th>\n",
       "      <th id=\"T_f1a97_level0_col1\" class=\"col_heading level0 col1\" >Acuracia (DREBIN)</th>\n",
       "      <th id=\"T_f1a97_level0_col2\" class=\"col_heading level0 col2\" >Precisão (DREBIN)</th>\n",
       "      <th id=\"T_f1a97_level0_col3\" class=\"col_heading level0 col3\" >Recall (DREBIN)</th>\n",
       "      <th id=\"T_f1a97_level0_col4\" class=\"col_heading level0 col4\" >F1 Score</th>\n",
       "      <th id=\"T_f1a97_level0_col5\" class=\"col_heading level0 col5\" >AUC RoC</th>\n",
       "    </tr>\n",
       "  </thead>\n",
       "  <tbody>\n",
       "    <tr>\n",
       "      <th id=\"T_f1a97_level0_row0\" class=\"row_heading level0 row0\" >0</th>\n",
       "      <td id=\"T_f1a97_row0_col0\" class=\"data row0 col0\" >Decision Tree</td>\n",
       "      <td id=\"T_f1a97_row0_col1\" class=\"data row0 col1\" >0.9852</td>\n",
       "      <td id=\"T_f1a97_row0_col2\" class=\"data row0 col2\" >0.9801</td>\n",
       "      <td id=\"T_f1a97_row0_col3\" class=\"data row0 col3\" >0.9906</td>\n",
       "      <td id=\"T_f1a97_row0_col4\" class=\"data row0 col4\" >0.9853</td>\n",
       "      <td id=\"T_f1a97_row0_col5\" class=\"data row0 col5\" >0.9852</td>\n",
       "    </tr>\n",
       "    <tr>\n",
       "      <th id=\"T_f1a97_level0_row1\" class=\"row_heading level0 row1\" >1</th>\n",
       "      <td id=\"T_f1a97_row1_col0\" class=\"data row1 col0\" >Naive Bayes</td>\n",
       "      <td id=\"T_f1a97_row1_col1\" class=\"data row1 col1\" >0.7308</td>\n",
       "      <td id=\"T_f1a97_row1_col2\" class=\"data row1 col2\" >0.7254</td>\n",
       "      <td id=\"T_f1a97_row1_col3\" class=\"data row1 col3\" >0.7428</td>\n",
       "      <td id=\"T_f1a97_row1_col4\" class=\"data row1 col4\" >0.7340</td>\n",
       "      <td id=\"T_f1a97_row1_col5\" class=\"data row1 col5\" >0.7308</td>\n",
       "    </tr>\n",
       "    <tr>\n",
       "      <th id=\"T_f1a97_level0_row2\" class=\"row_heading level0 row2\" >2</th>\n",
       "      <td id=\"T_f1a97_row2_col0\" class=\"data row2 col0\" >MLP</td>\n",
       "      <td id=\"T_f1a97_row2_col1\" class=\"data row2 col1\" >0.9441</td>\n",
       "      <td id=\"T_f1a97_row2_col2\" class=\"data row2 col2\" >0.9424</td>\n",
       "      <td id=\"T_f1a97_row2_col3\" class=\"data row2 col3\" >0.9462</td>\n",
       "      <td id=\"T_f1a97_row2_col4\" class=\"data row2 col4\" >0.9443</td>\n",
       "      <td id=\"T_f1a97_row2_col5\" class=\"data row2 col5\" >0.9441</td>\n",
       "    </tr>\n",
       "    <tr>\n",
       "      <th id=\"T_f1a97_level0_row3\" class=\"row_heading level0 row3\" >3</th>\n",
       "      <td id=\"T_f1a97_row3_col0\" class=\"data row3 col0\" >KNN</td>\n",
       "      <td id=\"T_f1a97_row3_col1\" class=\"data row3 col1\" >0.9713</td>\n",
       "      <td id=\"T_f1a97_row3_col2\" class=\"data row3 col2\" >0.9511</td>\n",
       "      <td id=\"T_f1a97_row3_col3\" class=\"data row3 col3\" >0.9936</td>\n",
       "      <td id=\"T_f1a97_row3_col4\" class=\"data row3 col4\" >0.9719</td>\n",
       "      <td id=\"T_f1a97_row3_col5\" class=\"data row3 col5\" >0.9713</td>\n",
       "    </tr>\n",
       "  </tbody>\n",
       "</table>\n"
      ],
      "text/plain": [
       "<pandas.io.formats.style.Styler at 0x1f517299110>"
      ]
     },
     "execution_count": 37,
     "metadata": {},
     "output_type": "execute_result"
    }
   ],
   "source": [
    "import pandas as pd\n",
    "array = [0,0,0,0,0]\n",
    "# Definir os modelos\n",
    "Modelos = ['Decision Tree', 'Naive Bayes', 'MLP', 'KNN']\n",
    "\n",
    "# Criar um DataFrame do Pandas com os valores das variáveis\n",
    "df = pd.DataFrame({\n",
    "    'Modelos': Modelos,\n",
    "    'Acuracia (DREBIN)': [f\"{media:.4f}\" for media, dp in zip(AcurracyBaggingPosBal, array)],\n",
    "    'Precisão (DREBIN)': [f\"{media:.4f}\" for media, dp in zip(PrecisionBaggingPosBal, array)],\n",
    "    'Recall (DREBIN)': [f\"{media:.4f}\" for media, dp in zip(RecallBaggingPosBal, array)],\n",
    "    'F1 Score': [f\"{media:.4f}\" for media, dp in zip(F1BaggingPosBal, array)],\n",
    "    'AUC RoC': [f\"{media:.4f}\" for media, dp in zip(Roc_aucBaggingPosBal, array)]    \n",
    "})\n",
    "\n",
    "# Função para destacar o maior valor de cada coluna\n",
    "def highlight_max(s):\n",
    "    is_max = s == s.max()\n",
    "    return ['background-color: green' if v else '' for v in is_max]\n",
    "\n",
    "# Aplicar a função de destaque apenas para as colunas numéricas\n",
    "numeric_columns = df.columns[1:]\n",
    "styled_df = df.style.apply(highlight_max, subset=numeric_columns)\n",
    "\n",
    "# Definir a cor do texto para a tabela\n",
    "styled_df.set_properties(**{'color': 'white'}, subset=pd.IndexSlice[:, :])\n",
    "\n",
    "# Exibir o DataFrame estilizado no Jupyter Notebook\n",
    "styled_df\n"
   ]
  },
  {
   "cell_type": "code",
   "execution_count": null,
   "metadata": {},
   "outputs": [
    {
     "data": {
      "text/html": [
       "<style type=\"text/css\">\n",
       "#T_87cb0_row0_col0, #T_87cb0_row0_col2, #T_87cb0_row0_col3, #T_87cb0_row0_col4, #T_87cb0_row0_col5, #T_87cb0_row1_col0, #T_87cb0_row1_col1, #T_87cb0_row1_col2, #T_87cb0_row1_col3, #T_87cb0_row1_col4, #T_87cb0_row1_col5, #T_87cb0_row2_col0, #T_87cb0_row2_col1, #T_87cb0_row2_col2, #T_87cb0_row2_col3, #T_87cb0_row2_col4, #T_87cb0_row2_col5, #T_87cb0_row3_col0, #T_87cb0_row3_col1, #T_87cb0_row3_col2, #T_87cb0_row3_col3, #T_87cb0_row3_col4, #T_87cb0_row3_col5, #T_87cb0_row4_col0, #T_87cb0_row4_col2, #T_87cb0_row4_col3, #T_87cb0_row4_col4, #T_87cb0_row4_col5, #T_87cb0_row5_col0, #T_87cb0_row5_col1, #T_87cb0_row5_col2, #T_87cb0_row5_col3, #T_87cb0_row5_col4, #T_87cb0_row5_col5, #T_87cb0_row6_col0, #T_87cb0_row6_col1, #T_87cb0_row6_col2, #T_87cb0_row6_col3, #T_87cb0_row6_col4, #T_87cb0_row6_col5, #T_87cb0_row7_col0, #T_87cb0_row7_col1, #T_87cb0_row7_col2, #T_87cb0_row7_col3, #T_87cb0_row7_col4, #T_87cb0_row7_col5, #T_87cb0_row8_col0, #T_87cb0_row8_col1, #T_87cb0_row8_col3, #T_87cb0_row9_col0, #T_87cb0_row9_col1, #T_87cb0_row9_col2, #T_87cb0_row9_col3, #T_87cb0_row9_col4, #T_87cb0_row9_col5, #T_87cb0_row10_col0, #T_87cb0_row10_col1, #T_87cb0_row10_col2, #T_87cb0_row10_col3, #T_87cb0_row10_col4, #T_87cb0_row10_col5, #T_87cb0_row11_col0, #T_87cb0_row11_col1, #T_87cb0_row11_col4, #T_87cb0_row11_col5, #T_87cb0_row12_col0, #T_87cb0_row13_col0, #T_87cb0_row13_col1, #T_87cb0_row13_col2, #T_87cb0_row13_col3, #T_87cb0_row13_col4, #T_87cb0_row13_col5, #T_87cb0_row14_col0, #T_87cb0_row14_col1, #T_87cb0_row14_col2, #T_87cb0_row14_col3, #T_87cb0_row14_col4, #T_87cb0_row14_col5, #T_87cb0_row15_col0, #T_87cb0_row15_col1, #T_87cb0_row15_col2 {\n",
       "  color: white;\n",
       "}\n",
       "#T_87cb0_row0_col1, #T_87cb0_row11_col2, #T_87cb0_row12_col3, #T_87cb0_row15_col4, #T_87cb0_row15_col5 {\n",
       "  background-color: red;\n",
       "  color: white;\n",
       "}\n",
       "#T_87cb0_row4_col1, #T_87cb0_row12_col2, #T_87cb0_row12_col4, #T_87cb0_row12_col5, #T_87cb0_row15_col3 {\n",
       "  background-color: green;\n",
       "  color: white;\n",
       "}\n",
       "#T_87cb0_row8_col2, #T_87cb0_row8_col4, #T_87cb0_row8_col5, #T_87cb0_row11_col3, #T_87cb0_row12_col1 {\n",
       "  background-color: blue;\n",
       "  color: white;\n",
       "}\n",
       "</style>\n",
       "<table id=\"T_87cb0\">\n",
       "  <thead>\n",
       "    <tr>\n",
       "      <th class=\"blank level0\" >&nbsp;</th>\n",
       "      <th id=\"T_87cb0_level0_col0\" class=\"col_heading level0 col0\" >Modelos</th>\n",
       "      <th id=\"T_87cb0_level0_col1\" class=\"col_heading level0 col1\" >Acuracia</th>\n",
       "      <th id=\"T_87cb0_level0_col2\" class=\"col_heading level0 col2\" >Precisão</th>\n",
       "      <th id=\"T_87cb0_level0_col3\" class=\"col_heading level0 col3\" >Recall</th>\n",
       "      <th id=\"T_87cb0_level0_col4\" class=\"col_heading level0 col4\" >F1 Score</th>\n",
       "      <th id=\"T_87cb0_level0_col5\" class=\"col_heading level0 col5\" >AUC RoC</th>\n",
       "    </tr>\n",
       "  </thead>\n",
       "  <tbody>\n",
       "    <tr>\n",
       "      <th id=\"T_87cb0_level0_row0\" class=\"row_heading level0 row0\" >0</th>\n",
       "      <td id=\"T_87cb0_row0_col0\" class=\"data row0 col0\" >Decision Tree DD</td>\n",
       "      <td id=\"T_87cb0_row0_col1\" class=\"data row0 col1\" >0.9817 ± 0.0007</td>\n",
       "      <td id=\"T_87cb0_row0_col2\" class=\"data row0 col2\" >0.7712 ± 0.0105</td>\n",
       "      <td id=\"T_87cb0_row0_col3\" class=\"data row0 col3\" >0.8194 ± 0.0120</td>\n",
       "      <td id=\"T_87cb0_row0_col4\" class=\"data row0 col4\" >0.7945 ± 0.0077</td>\n",
       "      <td id=\"T_87cb0_row0_col5\" class=\"data row0 col5\" >0.9042 ± 0.0059</td>\n",
       "    </tr>\n",
       "    <tr>\n",
       "      <th id=\"T_87cb0_level0_row1\" class=\"row_heading level0 row1\" >1</th>\n",
       "      <td id=\"T_87cb0_row1_col0\" class=\"data row1 col0\" >Naive Bayes DD</td>\n",
       "      <td id=\"T_87cb0_row1_col1\" class=\"data row1 col1\" >0.9163 ± 0.0030</td>\n",
       "      <td id=\"T_87cb0_row1_col2\" class=\"data row1 col2\" >0.2501 ± 0.0098</td>\n",
       "      <td id=\"T_87cb0_row1_col3\" class=\"data row1 col3\" >0.4704 ± 0.0149</td>\n",
       "      <td id=\"T_87cb0_row1_col4\" class=\"data row1 col4\" >0.3264 ± 0.0097</td>\n",
       "      <td id=\"T_87cb0_row1_col5\" class=\"data row1 col5\" >0.7034 ± 0.0070</td>\n",
       "    </tr>\n",
       "    <tr>\n",
       "      <th id=\"T_87cb0_level0_row2\" class=\"row_heading level0 row2\" >2</th>\n",
       "      <td id=\"T_87cb0_row2_col0\" class=\"data row2 col0\" >MLP DD</td>\n",
       "      <td id=\"T_87cb0_row2_col1\" class=\"data row2 col1\" >0.9769 ± 0.0009</td>\n",
       "      <td id=\"T_87cb0_row2_col2\" class=\"data row2 col2\" >0.8171 ± 0.0407</td>\n",
       "      <td id=\"T_87cb0_row2_col3\" class=\"data row2 col3\" >0.6031 ± 0.0410</td>\n",
       "      <td id=\"T_87cb0_row2_col4\" class=\"data row2 col4\" >0.6918 ± 0.0158</td>\n",
       "      <td id=\"T_87cb0_row2_col5\" class=\"data row2 col5\" >0.7984 ± 0.0195</td>\n",
       "    </tr>\n",
       "    <tr>\n",
       "      <th id=\"T_87cb0_level0_row3\" class=\"row_heading level0 row3\" >3</th>\n",
       "      <td id=\"T_87cb0_row3_col0\" class=\"data row3 col0\" >KNN DD</td>\n",
       "      <td id=\"T_87cb0_row3_col1\" class=\"data row3 col1\" >0.9812 ± 0.0007</td>\n",
       "      <td id=\"T_87cb0_row3_col2\" class=\"data row3 col2\" >0.8112 ± 0.0128</td>\n",
       "      <td id=\"T_87cb0_row3_col3\" class=\"data row3 col3\" >0.7347 ± 0.0145</td>\n",
       "      <td id=\"T_87cb0_row3_col4\" class=\"data row3 col4\" >0.7709 ± 0.0095</td>\n",
       "      <td id=\"T_87cb0_row3_col5\" class=\"data row3 col5\" >0.8635 ± 0.0071</td>\n",
       "    </tr>\n",
       "    <tr>\n",
       "      <th id=\"T_87cb0_level0_row4\" class=\"row_heading level0 row4\" >4</th>\n",
       "      <td id=\"T_87cb0_row4_col0\" class=\"data row4 col0\" >Bagging Decision Tree DD</td>\n",
       "      <td id=\"T_87cb0_row4_col1\" class=\"data row4 col1\" >0.9877 ± 0.0000</td>\n",
       "      <td id=\"T_87cb0_row4_col2\" class=\"data row4 col2\" >0.8994 ± 0.0000</td>\n",
       "      <td id=\"T_87cb0_row4_col3\" class=\"data row4 col3\" >0.8040 ± 0.0000</td>\n",
       "      <td id=\"T_87cb0_row4_col4\" class=\"data row4 col4\" >0.8490 ± 0.0000</td>\n",
       "      <td id=\"T_87cb0_row4_col5\" class=\"data row4 col5\" >0.9000 ± 0.0000</td>\n",
       "    </tr>\n",
       "    <tr>\n",
       "      <th id=\"T_87cb0_level0_row5\" class=\"row_heading level0 row5\" >5</th>\n",
       "      <td id=\"T_87cb0_row5_col0\" class=\"data row5 col0\" >Bagging Naive Bayes DD</td>\n",
       "      <td id=\"T_87cb0_row5_col1\" class=\"data row5 col1\" >0.9178 ± 0.0000</td>\n",
       "      <td id=\"T_87cb0_row5_col2\" class=\"data row5 col2\" >0.2486 ± 0.0000</td>\n",
       "      <td id=\"T_87cb0_row5_col3\" class=\"data row5 col3\" >0.4487 ± 0.0000</td>\n",
       "      <td id=\"T_87cb0_row5_col4\" class=\"data row5 col4\" >0.3200 ± 0.0000</td>\n",
       "      <td id=\"T_87cb0_row5_col5\" class=\"data row5 col5\" >0.6938 ± 0.0000</td>\n",
       "    </tr>\n",
       "    <tr>\n",
       "      <th id=\"T_87cb0_level0_row6\" class=\"row_heading level0 row6\" >6</th>\n",
       "      <td id=\"T_87cb0_row6_col0\" class=\"data row6 col0\" >Bagging MLP DD</td>\n",
       "      <td id=\"T_87cb0_row6_col1\" class=\"data row6 col1\" >0.9770 ± 0.0000</td>\n",
       "      <td id=\"T_87cb0_row6_col2\" class=\"data row6 col2\" >0.8281 ± 0.0000</td>\n",
       "      <td id=\"T_87cb0_row6_col3\" class=\"data row6 col3\" >0.5890 ± 0.0000</td>\n",
       "      <td id=\"T_87cb0_row6_col4\" class=\"data row6 col4\" >0.6884 ± 0.0000</td>\n",
       "      <td id=\"T_87cb0_row6_col5\" class=\"data row6 col5\" >0.7918 ± 0.0000</td>\n",
       "    </tr>\n",
       "    <tr>\n",
       "      <th id=\"T_87cb0_level0_row7\" class=\"row_heading level0 row7\" >7</th>\n",
       "      <td id=\"T_87cb0_row7_col0\" class=\"data row7 col0\" >Bagging KNN DD</td>\n",
       "      <td id=\"T_87cb0_row7_col1\" class=\"data row7 col1\" >0.9816 ± 0.0000</td>\n",
       "      <td id=\"T_87cb0_row7_col2\" class=\"data row7 col2\" >0.8188 ± 0.0000</td>\n",
       "      <td id=\"T_87cb0_row7_col3\" class=\"data row7 col3\" >0.7356 ± 0.0000</td>\n",
       "      <td id=\"T_87cb0_row7_col4\" class=\"data row7 col4\" >0.7750 ± 0.0000</td>\n",
       "      <td id=\"T_87cb0_row7_col5\" class=\"data row7 col5\" >0.8641 ± 0.0000</td>\n",
       "    </tr>\n",
       "    <tr>\n",
       "      <th id=\"T_87cb0_level0_row8\" class=\"row_heading level0 row8\" >8</th>\n",
       "      <td id=\"T_87cb0_row8_col0\" class=\"data row8 col0\" >Decision Tree DB</td>\n",
       "      <td id=\"T_87cb0_row8_col1\" class=\"data row8 col1\" >0.9810 ± 0.0006</td>\n",
       "      <td id=\"T_87cb0_row8_col2\" class=\"data row8 col2\" >0.9737 ± 0.0011</td>\n",
       "      <td id=\"T_87cb0_row8_col3\" class=\"data row8 col3\" >0.9887 ± 0.0008</td>\n",
       "      <td id=\"T_87cb0_row8_col4\" class=\"data row8 col4\" >0.9812 ± 0.0006</td>\n",
       "      <td id=\"T_87cb0_row8_col5\" class=\"data row8 col5\" >0.9810 ± 0.0006</td>\n",
       "    </tr>\n",
       "    <tr>\n",
       "      <th id=\"T_87cb0_level0_row9\" class=\"row_heading level0 row9\" >9</th>\n",
       "      <td id=\"T_87cb0_row9_col0\" class=\"data row9 col0\" >Naive Bayes DB</td>\n",
       "      <td id=\"T_87cb0_row9_col1\" class=\"data row9 col1\" >0.7299 ± 0.0046</td>\n",
       "      <td id=\"T_87cb0_row9_col2\" class=\"data row9 col2\" >0.7255 ± 0.0047</td>\n",
       "      <td id=\"T_87cb0_row9_col3\" class=\"data row9 col3\" >0.7397 ± 0.0141</td>\n",
       "      <td id=\"T_87cb0_row9_col4\" class=\"data row9 col4\" >0.7325 ± 0.0067</td>\n",
       "      <td id=\"T_87cb0_row9_col5\" class=\"data row9 col5\" >0.7299 ± 0.0046</td>\n",
       "    </tr>\n",
       "    <tr>\n",
       "      <th id=\"T_87cb0_level0_row10\" class=\"row_heading level0 row10\" >10</th>\n",
       "      <td id=\"T_87cb0_row10_col0\" class=\"data row10 col0\" >MLP DB</td>\n",
       "      <td id=\"T_87cb0_row10_col1\" class=\"data row10 col1\" >0.9348 ± 0.0028</td>\n",
       "      <td id=\"T_87cb0_row10_col2\" class=\"data row10 col2\" >0.9329 ± 0.0085</td>\n",
       "      <td id=\"T_87cb0_row10_col3\" class=\"data row10 col3\" >0.9371 ± 0.0122</td>\n",
       "      <td id=\"T_87cb0_row10_col4\" class=\"data row10 col4\" >0.9349 ± 0.0032</td>\n",
       "      <td id=\"T_87cb0_row10_col5\" class=\"data row10 col5\" >0.9348 ± 0.0028</td>\n",
       "    </tr>\n",
       "    <tr>\n",
       "      <th id=\"T_87cb0_level0_row11\" class=\"row_heading level0 row11\" >11</th>\n",
       "      <td id=\"T_87cb0_row11_col0\" class=\"data row11 col0\" >KNN DB</td>\n",
       "      <td id=\"T_87cb0_row11_col1\" class=\"data row11 col1\" >0.9708 ± 0.0010</td>\n",
       "      <td id=\"T_87cb0_row11_col2\" class=\"data row11 col2\" >0.9517 ± 0.0017</td>\n",
       "      <td id=\"T_87cb0_row11_col3\" class=\"data row11 col3\" >0.9920 ± 0.0014</td>\n",
       "      <td id=\"T_87cb0_row11_col4\" class=\"data row11 col4\" >0.9714 ± 0.0009</td>\n",
       "      <td id=\"T_87cb0_row11_col5\" class=\"data row11 col5\" >0.9708 ± 0.0010</td>\n",
       "    </tr>\n",
       "    <tr>\n",
       "      <th id=\"T_87cb0_level0_row12\" class=\"row_heading level0 row12\" >12</th>\n",
       "      <td id=\"T_87cb0_row12_col0\" class=\"data row12 col0\" >Bagging Decision Tree DB</td>\n",
       "      <td id=\"T_87cb0_row12_col1\" class=\"data row12 col1\" >0.9852 ± 0.0000</td>\n",
       "      <td id=\"T_87cb0_row12_col2\" class=\"data row12 col2\" >0.9801 ± 0.0000</td>\n",
       "      <td id=\"T_87cb0_row12_col3\" class=\"data row12 col3\" >0.9906 ± 0.0000</td>\n",
       "      <td id=\"T_87cb0_row12_col4\" class=\"data row12 col4\" >0.9853 ± 0.0000</td>\n",
       "      <td id=\"T_87cb0_row12_col5\" class=\"data row12 col5\" >0.9852 ± 0.0000</td>\n",
       "    </tr>\n",
       "    <tr>\n",
       "      <th id=\"T_87cb0_level0_row13\" class=\"row_heading level0 row13\" >13</th>\n",
       "      <td id=\"T_87cb0_row13_col0\" class=\"data row13 col0\" >Bagging Naive Bayes DB</td>\n",
       "      <td id=\"T_87cb0_row13_col1\" class=\"data row13 col1\" >0.7308 ± 0.0000</td>\n",
       "      <td id=\"T_87cb0_row13_col2\" class=\"data row13 col2\" >0.7254 ± 0.0000</td>\n",
       "      <td id=\"T_87cb0_row13_col3\" class=\"data row13 col3\" >0.7428 ± 0.0000</td>\n",
       "      <td id=\"T_87cb0_row13_col4\" class=\"data row13 col4\" >0.7340 ± 0.0000</td>\n",
       "      <td id=\"T_87cb0_row13_col5\" class=\"data row13 col5\" >0.7308 ± 0.0000</td>\n",
       "    </tr>\n",
       "    <tr>\n",
       "      <th id=\"T_87cb0_level0_row14\" class=\"row_heading level0 row14\" >14</th>\n",
       "      <td id=\"T_87cb0_row14_col0\" class=\"data row14 col0\" >Bagging MLP DB</td>\n",
       "      <td id=\"T_87cb0_row14_col1\" class=\"data row14 col1\" >0.9441 ± 0.0000</td>\n",
       "      <td id=\"T_87cb0_row14_col2\" class=\"data row14 col2\" >0.9424 ± 0.0000</td>\n",
       "      <td id=\"T_87cb0_row14_col3\" class=\"data row14 col3\" >0.9462 ± 0.0000</td>\n",
       "      <td id=\"T_87cb0_row14_col4\" class=\"data row14 col4\" >0.9443 ± 0.0000</td>\n",
       "      <td id=\"T_87cb0_row14_col5\" class=\"data row14 col5\" >0.9441 ± 0.0000</td>\n",
       "    </tr>\n",
       "    <tr>\n",
       "      <th id=\"T_87cb0_level0_row15\" class=\"row_heading level0 row15\" >15</th>\n",
       "      <td id=\"T_87cb0_row15_col0\" class=\"data row15 col0\" >Bagging KNN DB</td>\n",
       "      <td id=\"T_87cb0_row15_col1\" class=\"data row15 col1\" >0.9713 ± 0.0000</td>\n",
       "      <td id=\"T_87cb0_row15_col2\" class=\"data row15 col2\" >0.9511 ± 0.0000</td>\n",
       "      <td id=\"T_87cb0_row15_col3\" class=\"data row15 col3\" >0.9936 ± 0.0000</td>\n",
       "      <td id=\"T_87cb0_row15_col4\" class=\"data row15 col4\" >0.9719 ± 0.0000</td>\n",
       "      <td id=\"T_87cb0_row15_col5\" class=\"data row15 col5\" >0.9713 ± 0.0000</td>\n",
       "    </tr>\n",
       "  </tbody>\n",
       "</table>\n"
      ],
      "text/plain": [
       "<pandas.io.formats.style.Styler at 0x1f55028db10>"
      ]
     },
     "execution_count": 105,
     "metadata": {},
     "output_type": "execute_result"
    }
   ],
   "source": [
    "import pandas as pd\n",
    "\n",
    "# Definir os modelos\n",
    "Modelos = ['Decision Tree DD', 'Naive Bayes DD', 'MLP DD', 'KNN DD',\n",
    "            'Bagging Decision Tree DD', 'Bagging Naive Bayes DD', 'Bagging MLP DD', 'Bagging KNN DD',\n",
    "              'Decision Tree DB', 'Naive Bayes DB', 'MLP DB', 'KNN DB', \n",
    "              'Bagging Decision Tree DB', 'Bagging Naive Bayes DB', 'Bagging MLP DB', 'Bagging KNN DB']\n",
    "\n",
    "\n",
    "AcurracyAll = Acurracy + AcurracyBagging + AcurracyPosBal + AcurracyBaggingPosBal\n",
    "PrecisionAll = Precision + PrecisionBagging + PrecisionPosBal + PrecisionBaggingPosBal\n",
    "RecallAll = Recall + RecallBagging + RecallPosBal + RecallBaggingPosBal\n",
    "F1_scoreAll = F1_score + F1Bagging + F1_scorePosBal + F1BaggingPosBal\n",
    "Roc_aucAll = Roc_auc + Roc_aucBagging + Roc_aucPosBal + Roc_aucBaggingPosBal\n",
    "AcurracyDPAll = AcurracyDP + [0,0,0,0] + AcurracyDPPosBal + [0,0,0,0]\n",
    "PrecisionDPAll = PrecisionDP + [0,0,0,0] + PrecisionDPPosBal + [0,0,0,0] \n",
    "RecallDPAll = RecallDP + [0,0,0,0] + RecallDPPosBal + [0,0,0,0]\n",
    "F1_scoreDPAll = F1_scoreDP + [0,0,0,0] + F1_scoreDPPosBal + [0,0,0,0]\n",
    "Roc_aucDPAll = Roc_aucDP + [0,0,0,0] + Roc_aucDPPosBal + [0,0,0,0]\n",
    "\n",
    "# print(len(AcurracyAll), len(PrecisionAll), len(RecallAll), len(F1_scoreAll), len(Roc_aucAll), len(AcurracyDPAll), \n",
    "#       len(PrecisionDPAll), len(RecallDPAll), len(F1_scoreDPAll), len(Roc_aucDPAll))\n",
    "\n",
    "\n",
    "# Criar um DataFrame do Pandas com os valores das variáveis\n",
    "df = pd.DataFrame({\n",
    "    'Modelos': Modelos,\n",
    "    'Acuracia': [f\"{media:.4f} ± {dp:.4f}\" for media, dp in zip(AcurracyAll, AcurracyDPAll)],\n",
    "    'Precisão': [f\"{media:.4f} ± {dp:.4f}\" for media, dp in zip(PrecisionAll, PrecisionDPAll)],\n",
    "    'Recall': [f\"{media:.4f} ± {dp:.4f}\" for media, dp in zip(RecallAll, RecallDPAll)],\n",
    "    'F1 Score': [f\"{media:.4f} ± {dp:.4f}\" for media, dp in zip(F1_scoreAll, F1_scoreDPAll)],\n",
    "    'AUC RoC': [f\"{media:.4f} ± {dp:.4f}\" for media, dp in zip(Roc_aucAll, Roc_aucDPAll)]\n",
    "})\n",
    "\n",
    "# Aplicar a função de destaque apenas para as colunas numéricas\n",
    "numeric_columns = df.columns[1:]\n",
    "highlight_colors = ['green', 'blue', 'red']\n",
    "def highlight_top_n_with_colors(s, n=3, colors=highlight_colors):\n",
    "    sorted_index = np.argsort(s.values)[::-1]\n",
    "    top_n_index = sorted_index[:n]    \n",
    "    return [f'background-color: {colors[np.where(top_n_index == index)[0][0]]}' if index in top_n_index else '' for index in s.index]\n",
    "\n",
    "styled_df = df.style.apply(highlight_top_n_with_colors, subset=numeric_columns)\n",
    "\n",
    "# Definir a cor do texto para a tabela\n",
    "styled_df.set_properties(**{'color': 'white'}, subset=pd.IndexSlice[:, :])\n",
    "\n",
    "# Exibir o DataFrame estilizado no Jupyter Notebook\n",
    "styled_df"
   ]
  }
 ],
 "metadata": {
  "kernelspec": {
   "display_name": "Python 3",
   "language": "python",
   "name": "python3"
  },
  "language_info": {
   "codemirror_mode": {
    "name": "ipython",
    "version": 3
   },
   "file_extension": ".py",
   "mimetype": "text/x-python",
   "name": "python",
   "nbconvert_exporter": "python",
   "pygments_lexer": "ipython3",
   "version": "3.11.4"
  }
 },
 "nbformat": 4,
 "nbformat_minor": 2
}
